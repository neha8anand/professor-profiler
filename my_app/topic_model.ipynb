{
 "cells": [
  {
   "cell_type": "markdown",
   "metadata": {},
   "source": [
    "# Topic Modeling using sklearn"
   ]
  },
  {
   "cell_type": "code",
   "execution_count": 3,
   "metadata": {
    "ExecuteTime": {
     "end_time": "2018-09-01T04:07:29.322826Z",
     "start_time": "2018-09-01T04:07:29.283883Z"
    }
   },
   "outputs": [],
   "source": [
    "# Source: http://scikit-learn.org/stable/auto_examples/applications/plot_topics_extraction_with_nmf_lda.html#sphx-glr-auto-examples-applications-plot-topics-extraction-with-nmf-lda-py\n",
    "from sklearn.feature_extraction.text import TfidfVectorizer, CountVectorizer\n",
    "from sklearn.decomposition import NMF, LatentDirichletAllocation, TruncatedSVD\n",
    "from topic_model import get_corpus, vectorize_corpus\n",
    "from time import time\n",
    "import pandas as pd"
   ]
  },
  {
   "cell_type": "code",
   "execution_count": 2,
   "metadata": {
    "ExecuteTime": {
     "end_time": "2018-08-28T21:24:33.812895Z",
     "start_time": "2018-08-28T21:24:24.954938Z"
    }
   },
   "outputs": [
    {
     "name": "stdout",
     "output_type": "stream",
     "text": [
      "0 faculties have missing papers in ../data/pge_database.json\n",
      "Running nlp-pipeline on faculties with non-missing papers...\n"
     ]
    }
   ],
   "source": [
    "corpus = get_corpus('../data/pge_database.json')\n",
    "vectorizer, data_vectorized = vectorize_corpus(corpus, tf_idf=False, stem_lem='lem', ngram_range=(1,1),\n",
    "                                    max_df=0.8, min_df=5, max_features=None)"
   ]
  },
  {
   "cell_type": "code",
   "execution_count": 3,
   "metadata": {
    "ExecuteTime": {
     "end_time": "2018-08-28T21:24:35.698753Z",
     "start_time": "2018-08-28T21:24:33.815498Z"
    }
   },
   "outputs": [],
   "source": [
    "NUM_TOPICS = 12\n",
    "\n",
    "# Build a Latent Dirichlet Allocation Model\n",
    "lda_model = LatentDirichletAllocation(n_components=NUM_TOPICS, max_iter=10, learning_method='online')\n",
    "lda_Z = lda_model.fit_transform(data_vectorized)\n",
    " \n",
    "# Build a Non-Negative Matrix Factorization Model\n",
    "nmf_model = NMF(n_components=NUM_TOPICS)\n",
    "nmf_Z = nmf_model.fit_transform(data_vectorized)\n",
    "\n",
    "# Build a Latent Semantic Indexing Model\n",
    "lsi_model = TruncatedSVD(n_components=NUM_TOPICS)\n",
    "lsi_Z = lsi_model.fit_transform(data_vectorized)"
   ]
  },
  {
   "cell_type": "code",
   "execution_count": 4,
   "metadata": {
    "ExecuteTime": {
     "end_time": "2018-08-28T21:24:36.964511Z",
     "start_time": "2018-08-28T21:24:35.701327Z"
    },
    "scrolled": true
   },
   "outputs": [
    {
     "name": "stdout",
     "output_type": "stream",
     "text": [
      "LDA Model:\n",
      "Topic 0:\n",
      "[('fracture', 6.7153137609373204), ('permeability', 4.0932162327593637), ('drilling', 3.4545693312910117), ('recovery', 3.1793257561466328), ('pore', 3.1051685785184358), ('wells', 3.0661453406493031), ('fractures', 3.0107315510561921), ('foam', 2.8910909084000793), ('wellbore', 2.8322879954599474), ('injection', 2.7901308147195154)]\n",
      "Topic 1:\n",
      "[('vibrations', 0.34589383127904855), ('blocks', 0.3435578246546574), ('entrance', 0.3435521342626297), ('allowing', 0.3340677682738275), ('noted', 0.33099649622087596), ('inverted', 0.32848968083888885), ('differences', 0.32789144582529256), ('takes', 0.32551033421210424), ('suggestions', 0.32543373889946053), ('mitigating', 0.32475624971327888)]\n",
      "Topic 2:\n",
      "[('battery', 0.47977405891154123), ('multiscale', 0.46459274766555181), ('fracture', 0.4481020153878012), ('hybrid', 0.44354969611585648), ('reserves', 0.43237976894221625), ('pore', 0.41306412924555275), ('implicit', 0.39451667557558584), ('nonlinear', 0.38993545514310723), ('permeability', 0.38949230668377227), ('kerogen', 0.38920691077925379)]\n",
      "Topic 3:\n",
      "[('pump', 0.46392088661359016), ('esp', 0.45286701581283473), ('liquid', 0.42808920908339931), ('slug', 0.41849847664469886), ('head', 0.37704082609579564), ('deterioration', 0.37641926673569409), ('rotational', 0.36715694949655436), ('submersible', 0.36353057814091755), ('drillstring', 0.35951481012851461), ('wide', 0.35754390399571606)]\n",
      "Topic 4:\n",
      "[('archie', 0.38335672566605145), ('rocks', 0.33679598058115001), ('waterfloods', 0.33408943556342385), ('leaking', 0.3331989695444218), ('flat', 0.32952381028561412), ('proceed', 0.32931621112178877), ('comparative', 0.32741642297312146), ('assimilation', 0.32640818399533938), ('resistivity', 0.32586530015014514), ('alternatively', 0.3256739717918789)]\n",
      "Topic 5:\n",
      "[('fracture', 0.7607118654280367), ('permeability', 0.48100633823931011), ('stress', 0.48046364345668618), ('fractures', 0.47699602751717213), ('wells', 0.45385521696449238), ('liquid', 0.42882852910222602), ('optimization', 0.42582061950724531), ('wellbore', 0.4150676625686433), ('geological', 0.40444268271094447), ('sand', 0.40252364322178036)]\n",
      "Topic 6:\n",
      "[('stimulation', 0.37410473323506921), ('acid', 0.3569738981405518), ('gel', 0.35079990936745153), ('fracture', 0.34436859626722544), ('estimation', 0.34306030223521922), ('particularly', 0.3364250343162955), ('mature', 0.33528495609486769), ('ionic', 0.33309464137327055), ('contains', 0.33234974270922341), ('stages', 0.32813166828153495)]\n",
      "Topic 7:\n",
      "[('partition', 0.3440660084240289), ('permeability', 0.34236589921025168), ('government', 0.33753112853456357), ('conference', 0.33240304163081968), ('somewhat', 0.33065434920564601), ('activities', 0.33045936876290821), ('monitoring', 0.32987407331485802), ('brine', 0.32967384469314853), ('stops', 0.32900010468189705), ('transient', 0.32804618371454408)]\n",
      "Topic 8:\n",
      "[('fracture', 0.36553441044826868), ('belt', 0.34390160700578637), ('sensing', 0.34384520031684956), ('suspensions', 0.3401242630253653), ('growth', 0.34011715044311663), ('bodies', 0.34010258334361715), ('dolomite', 0.33987304778703697), ('would', 0.33754485759549918), ('solid', 0.33467413423782638), ('proppant', 0.33455198124698315)]\n",
      "Topic 9:\n",
      "[('species', 0.34826796991143261), ('recommended', 0.34439953767871684), ('select', 0.33858638929708723), ('elucidated', 0.33652749089756534), ('poromechanical', 0.33279234786700523), ('liquid', 0.33276341396857023), ('specifications', 0.32819874725974119), ('conductivities', 0.32807009881408433), ('fracture', 0.32699902595345803), ('certainty', 0.32646229364640927)]\n",
      "Topic 10:\n",
      "[('cuttings', 0.3522754672715972), ('scf', 0.33398960360593499), ('displaces', 0.33152037229017689), ('greenhouse', 0.33004307236701141), ('effluent', 0.3297741848070776), ('making', 0.32934363906428943), ('hardness', 0.32874092720160369), ('trillion', 0.32798752848780194), ('accumulations', 0.32794722277670296), ('reported', 0.32531592059743986)]\n",
      "Topic 11:\n",
      "[('fracture', 0.49155938074053795), ('rock', 0.40491186320241535), ('media', 0.40149951721774191), ('pore', 0.38259636087041038), ('organic', 0.38148491125192663), ('basins', 0.37711197330214241), ('basin', 0.37548742911132693), ('permeability', 0.37013015831503443), ('solution', 0.35977541708383609), ('technically', 0.35430119017726941)]\n",
      "====================\n",
      "NMF Model:\n",
      "Topic 0:\n",
      "[('fracture', 1.7024953048954554), ('fractures', 0.69231854786301872), ('hydraulic', 0.49978103365000587), ('stress', 0.29842491317935266), ('fracturing', 0.26753953308439182), ('propagation', 0.22677966803162786), ('height', 0.21565930139568187), ('wells', 0.19726365852173702), ('multiple', 0.19350969756722042), ('geometry', 0.18968378979198255)]\n",
      "Topic 1:\n",
      "[('surfactant', 0.56769449111115), ('recovery', 0.33095679585687865), ('polymer', 0.31581359051778535), ('surfactants', 0.31175153706379577), ('foam', 0.26498492142836655), ('salinity', 0.23922546274376924), ('floods', 0.2130191245063674), ('flooding', 0.20256052067000774), ('eor', 0.19937915471026782), ('microemulsion', 0.19202701599937824)]\n",
      "Topic 2:\n",
      "[('drilling', 0.74523094377846177), ('wellbore', 0.43069386518441061), ('cement', 0.3057116233131224), ('mud', 0.26121741004132015), ('bit', 0.22947548848265878), ('pipe', 0.20781741503201673), ('fluids', 0.19917513973653161), ('circulation', 0.19704863964952959), ('casing', 0.19083882095649043), ('annulus', 0.18445182662155107)]\n",
      "Topic 3:\n",
      "[('basins', 0.38399394252224467), ('unconventional', 0.38079946075140542), ('resources', 0.31719043106375411), ('reserves', 0.31668515370383915), ('basin', 0.22063080365911697), ('frontier', 0.20740290146215229), ('uncertainty', 0.19169055460377518), ('decline', 0.1895705477534273), ('wells', 0.18605343893210052), ('recoverable', 0.17048482250753935)]\n",
      "Topic 4:\n",
      "[('liquid', 0.64710725817382087), ('slug', 0.51777547222609388), ('pipe', 0.36107854428748642), ('holdup', 0.32972993972341913), ('stratified', 0.23708820624363255), ('velocity', 0.21719933721804027), ('loading', 0.21478027061595906), ('viscosity', 0.19545016374388996), ('foam', 0.16299364069534897), ('pipes', 0.16061296340991707)]\n",
      "Topic 5:\n",
      "[('organic', 0.40700505689934063), ('kerogen', 0.33923723891861352), ('pore', 0.28315400642506022), ('rich', 0.24456167176591756), ('resistivity', 0.24088625763231589), ('nmr', 0.23964039257466821), ('rock', 0.21023944830592547), ('measurements', 0.19042576998283473), ('shales', 0.17750193837643058), ('porosity', 0.16248000610132268)]\n",
      "Topic 6:\n",
      "[('combustion', 0.47953692114934754), ('steam', 0.45269862100316594), ('sagd', 0.441843752841168), ('solvent', 0.25215549497567497), ('isc', 0.24074898252724308), ('bitumen', 0.23942063435954561), ('heavy', 0.21186373756553084), ('recovery', 0.20420106179802563), ('asphaltene', 0.15206601511843174), ('injection', 0.13975753959796408)]\n",
      "Topic 7:\n",
      "[('optimization', 0.39109421104224323), ('history', 0.29486264651531358), ('seismic', 0.28937953936661337), ('wells', 0.28285122961858511), ('streamline', 0.26426242674683015), ('matching', 0.25596326288153526), ('grid', 0.21741381898881576), ('geologic', 0.19945860187428069), ('permeability', 0.19667356016512025), ('drainage', 0.1958810804425902)]\n",
      "Topic 8:\n",
      "[('acid', 0.79858602766120312), ('conductivity', 0.28810399855891089), ('acidizing', 0.24100678707362433), ('stimulation', 0.23328269547825103), ('fracture', 0.22515290192130846), ('temperature', 0.19655986224504401), ('carbonate', 0.19170633426259581), ('proppant', 0.18619964368441425), ('treatment', 0.16718340724404895), ('closure', 0.12137331539893467)]\n",
      "Topic 9:\n",
      "[('hydrate', 0.63192195110517946), ('failure', 0.28076743543576643), ('stress', 0.24762734198484629), ('geomechanics', 0.23257647339430751), ('geomechanical', 0.18587979697305948), ('permeability', 0.16822525710009975), ('cfd', 0.15453973907973614), ('split', 0.14538003111487399), ('coupled', 0.14405582358213181), ('shear', 0.13962244497139378)]\n",
      "Topic 10:\n",
      "[('pore', 0.33636083557615765), ('permeability', 0.29052612954161577), ('imbibition', 0.20648655207737737), ('foam', 0.19678515000798183), ('capillary', 0.19122658781440594), ('saturation', 0.17937157532662854), ('relative', 0.17797294748393952), ('wet', 0.1740644558823578), ('nanoparticles', 0.16335011942439132), ('core', 0.1614833864030627)]\n",
      "Topic 11:\n",
      "[('multiscale', 0.3427894214119831), ('hybrid', 0.27357211706239398), ('nonlinear', 0.23414904372851333), ('implicit', 0.21530814129323983), ('porous', 0.21002690941463342), ('media', 0.19205170889025169), ('newton', 0.17406367445252754), ('convergence', 0.17252997559948205), ('coupling', 0.16776219153978095), ('battery', 0.16211411506704615)]\n",
      "====================\n",
      "LSI Model:\n",
      "Topic 0:\n"
     ]
    },
    {
     "name": "stdout",
     "output_type": "stream",
     "text": [
      "[('fracture', 0.3249153398419467), ('permeability', 0.17415927232499037), ('fractures', 0.14054805470635229), ('pore', 0.1247516812482815), ('recovery', 0.12243395433421446), ('drilling', 0.12217597382117212), ('wells', 0.12165391730929237), ('wellbore', 0.11371354786864064), ('injection', 0.11296516610600196), ('foam', 0.10983461246295145)]\n",
      "Topic 1:\n",
      "[('surfactant', 0.2577505696634087), ('recovery', 0.20114953906887603), ('foam', 0.17663763062516763), ('polymer', 0.14060278042965882), ('surfactants', 0.13530153593099264), ('permeability', 0.12394163080258837), ('steam', 0.10990829311802811), ('salinity', 0.10592756005456204), ('combustion', 0.10476482137003301), ('eor', 0.10384492783496463)]\n",
      "Topic 2:\n",
      "[('drilling', 0.25355417333961749), ('liquid', 0.2245519619750467), ('pipe', 0.2068082490258005), ('slug', 0.17556906842884654), ('foam', 0.11042314355358455), ('holdup', 0.10604900201698575), ('cement', 0.10435778067331958), ('wellbore', 0.099885613745927859), ('viscosity', 0.09600578158887052), ('annular', 0.094046128252170097)]\n",
      "Topic 3:\n",
      "[('unconventional', 0.14828343395624419), ('uncertainty', 0.14136712609565766), ('reserves', 0.13184603337686593), ('optimization', 0.12798856147677681), ('basins', 0.12353025357043548), ('resources', 0.11126011881425289), ('wells', 0.09626115959396922), ('liquid', 0.094910381890449522), ('seismic', 0.083393641884727615), ('basin', 0.081477991697611066)]\n",
      "Topic 4:\n",
      "[('liquid', 0.38910153093711497), ('slug', 0.33281299249264418), ('fracture', 0.24754501410109134), ('holdup', 0.21361557963336381), ('pipe', 0.17534329341302982), ('stratified', 0.15297631280930396), ('loading', 0.13916106392532071), ('velocity', 0.13055080061222965), ('viscosity', 0.10310764305359235), ('superficial', 0.098372367834417204)]\n",
      "Topic 5:\n",
      "[('surfactant', 0.2021449926507565), ('unconventional', 0.14704964011421998), ('fracture', 0.14008380934501791), ('recovery', 0.1385273511475954), ('reserves', 0.12464333324296149), ('basins', 0.12342212522166164), ('surfactants', 0.11767023173548567), ('acid', 0.11678218050453075), ('resources', 0.10974050879964489), ('polymer', 0.10639872930129321)]\n",
      "Topic 6:\n",
      "[('sagd', 0.30112073586071175), ('combustion', 0.29383167962777157), ('steam', 0.28327117254191353), ('bitumen', 0.16362161485504439), ('solvent', 0.15591268782552006), ('isc', 0.14864344950966238), ('fracture', 0.14285785796059908), ('heavy', 0.12575915876086435), ('chamber', 0.09734806869854129), ('temperature', 0.095837564254458343)]\n",
      "Topic 7:\n",
      "[('acid', 0.32290325208531623), ('combustion', 0.17126515673181278), ('sagd', 0.14685730376652181), ('steam', 0.13161490870539094), ('organic', 0.12932943814283124), ('conductivity', 0.11281938678868465), ('basins', 0.10631973820777191), ('kerogen', 0.10573791647630634), ('samples', 0.10161538738153446), ('pore', 0.10053531164136592)]\n",
      "Topic 8:\n",
      "[('acid', 0.45838910733349209), ('conductivity', 0.16337606637478042), ('temperature', 0.14887032503049011), ('acidizing', 0.13818029791727082), ('stimulation', 0.12930333702565819), ('carbonate', 0.11802785378284388), ('transient', 0.1049007116931765), ('optimization', 0.098839712808242025), ('wellbore', 0.090667447472062582), ('treatment', 0.089562322273386133)]\n",
      "Topic 9:\n",
      "[('acid', 0.23260732665408276), ('hydrate', 0.19672457903747531), ('battery', 0.12964724075494574), ('hybrid', 0.12367297800699224), ('failure', 0.11501397300871853), ('multiscale', 0.11329107244109697), ('cfd', 0.088950347607634067), ('reaction', 0.088949574121664696), ('coupling', 0.088675730407375711), ('risk', 0.087048254228811447)]\n",
      "Topic 10:\n",
      "[('hydrate', 0.19300224470480373), ('seismic', 0.15790743702609958), ('failure', 0.12469927773088933), ('geomechanics', 0.10960360602120137), ('vertical', 0.087153058150844509), ('shear', 0.083252570808125287), ('casing', 0.083242185325871548), ('geomechanical', 0.080186879413292167), ('organic', 0.07811014279918059), ('history', 0.076872989400438338)]\n",
      "Topic 11:\n",
      "[('emissions', 0.1460236336864548), ('foam', 0.13428408083058496), ('seismic', 0.13399344325576565), ('optimization', 0.12769862187133452), ('solar', 0.11969005546716775), ('stress', 0.11236030978912225), ('coal', 0.10524284858015902), ('hydrate', 0.090466681968170065), ('permeability', 0.085439948497489634), ('streamline', 0.085073036811009223)]\n",
      "====================\n"
     ]
    }
   ],
   "source": [
    "def print_topics(model, vectorizer, top_n=10):\n",
    "    for idx, topic in enumerate(model.components_):\n",
    "        print(\"Topic %d:\" % (idx))\n",
    "        print([(vectorizer.get_feature_names()[i], topic[i])\n",
    "                        for i in topic.argsort()[:-top_n - 1:-1]])\n",
    " \n",
    "print(\"LDA Model:\")\n",
    "print_topics(lda_model, vectorizer)\n",
    "print(\"=\" * 20)\n",
    " \n",
    "print(\"NMF Model:\")\n",
    "print_topics(nmf_model, vectorizer)\n",
    "print(\"=\" * 20)\n",
    " \n",
    "print(\"LSI Model:\")\n",
    "print_topics(lsi_model, vectorizer)\n",
    "print(\"=\" * 20)"
   ]
  },
  {
   "cell_type": "code",
   "execution_count": 5,
   "metadata": {
    "ExecuteTime": {
     "end_time": "2018-08-28T21:24:37.010186Z",
     "start_time": "2018-08-28T21:24:36.967001Z"
    }
   },
   "outputs": [
    {
     "name": "stdout",
     "output_type": "stream",
     "text": [
      "[ 0.          0.          0.          0.          0.          0.\n",
      "  0.41162654  0.          0.          0.          0.          0.        ]\n"
     ]
    }
   ],
   "source": [
    "text = \"Steam injection is a widely used oil-recovery method that has been commercially successful in many types of heavy-oil reservoirs, including the oil sands of Alberta, Canada. Steam is very effective in delivering heat that is the key to heavy-oil mobilization. In the distant past in California, and also recently in Alberta, solvents were/are being used as additives to steam for additional viscosity reduction. The current applications are in field projects involving steam-assisted gravity drainage (SAGD) and cyclic steam stimulation (CSS).The past and present projects using solvents alone or in combination with steam are reviewed and evaluated, including enhanced solvent SAGD (ES-SAGD) and liquid addition to steam for enhancing recovery (LASER). The use of solvent in other processes, such as effective solvent extraction incorporating electromagnetic heating (ESEIEH) and after cold-heavy-oil production with sand (CHOPS), are also reviewed. The theories behind the use of solvents with steam are outlined. These postulate additional heavy-oil/bitumen mobilization; oil mobilization ahead of the steam front; and oil mobilization by solvent dispersion caused by frontal instability. The plausibility of the different approaches and solvent availability and economics are also discussed.\"\n",
    "x = nmf_model.transform(vectorizer.transform([text]))[0]\n",
    "print(x)"
   ]
  },
  {
   "cell_type": "code",
   "execution_count": 6,
   "metadata": {
    "ExecuteTime": {
     "end_time": "2018-08-28T21:24:37.063287Z",
     "start_time": "2018-08-28T21:24:37.012778Z"
    }
   },
   "outputs": [
    {
     "data": {
      "text/plain": [
       "(12, 5166)"
      ]
     },
     "execution_count": 6,
     "metadata": {},
     "output_type": "execute_result"
    }
   ],
   "source": [
    "nmf_model.components_.shape"
   ]
  },
  {
   "cell_type": "code",
   "execution_count": 7,
   "metadata": {
    "ExecuteTime": {
     "end_time": "2018-08-28T21:24:37.118191Z",
     "start_time": "2018-08-28T21:24:37.066923Z"
    }
   },
   "outputs": [
    {
     "data": {
      "text/plain": [
       "<bound method CountVectorizer.get_feature_names of TfidfVectorizer(analyzer='word', binary=False, decode_error='strict',\n",
       "        dtype=<class 'numpy.int64'>, encoding='utf-8', input='content',\n",
       "        lowercase=True, max_df=0.8, max_features=None, min_df=5,\n",
       "        ngram_range=(1, 1), norm='l2', preprocessor=None, smooth_idf=True,\n",
       "        stop_words={'be', 'you', 'to', 'll', 'd', \"couldn't\", 'hadn', 'just', 'above', 'most', 'they', 'wouldn', 'yours', 'for', 'if', 'won', \"wouldn't\", 'under', 'your', \"won't\", 'whom', \"it's\", 'before', 'both', 'which', 'couldn', 'where', 'theirs', 'isn', 's', \"she's\", 'doesn', 'yourselves', 'who', 'down... 'how', 'those', 'do', 'ma', \"should've\", 'out', 'we', 'myself', 'over', 'each', 'i', 'off', 'such'},\n",
       "        strip_accents='unicode', sublinear_tf=False,\n",
       "        token_pattern='(?u)\\\\b\\\\w\\\\w+\\\\b', tokenizer=None, use_idf=True,\n",
       "        vocabulary=None)>"
      ]
     },
     "execution_count": 7,
     "metadata": {},
     "output_type": "execute_result"
    }
   ],
   "source": [
    "vectorizer.get_feature_names"
   ]
  },
  {
   "cell_type": "code",
   "execution_count": 8,
   "metadata": {
    "ExecuteTime": {
     "end_time": "2018-08-28T21:24:37.586002Z",
     "start_time": "2018-08-28T21:24:37.121419Z"
    }
   },
   "outputs": [
    {
     "name": "stdout",
     "output_type": "stream",
     "text": [
      "['fracture', 'fractures', 'hydraulic', 'stress', 'fracturing', 'propagation', 'height', 'wells', 'multiple', 'geometry']\n",
      "['surfactant', 'recovery', 'polymer', 'surfactants', 'foam', 'salinity', 'floods', 'flooding', 'eor', 'microemulsion']\n",
      "['drilling', 'wellbore', 'cement', 'mud', 'bit', 'pipe', 'fluids', 'circulation', 'casing', 'annulus']\n",
      "['basins', 'unconventional', 'resources', 'reserves', 'basin', 'frontier', 'uncertainty', 'decline', 'wells', 'recoverable']\n",
      "['liquid', 'slug', 'pipe', 'holdup', 'stratified', 'velocity', 'loading', 'viscosity', 'foam', 'pipes']\n",
      "['organic', 'kerogen', 'pore', 'rich', 'resistivity', 'nmr', 'rock', 'measurements', 'shales', 'porosity']\n",
      "['combustion', 'steam', 'sagd', 'solvent', 'isc', 'bitumen', 'heavy', 'recovery', 'asphaltene', 'injection']\n",
      "['optimization', 'history', 'seismic', 'wells', 'streamline', 'matching', 'grid', 'geologic', 'permeability', 'drainage']\n",
      "['acid', 'conductivity', 'acidizing', 'stimulation', 'fracture', 'temperature', 'carbonate', 'proppant', 'treatment', 'closure']\n",
      "['hydrate', 'failure', 'stress', 'geomechanics', 'geomechanical', 'permeability', 'cfd', 'split', 'coupled', 'shear']\n",
      "['pore', 'permeability', 'imbibition', 'foam', 'capillary', 'saturation', 'relative', 'wet', 'nanoparticles', 'core']\n",
      "['multiscale', 'hybrid', 'nonlinear', 'implicit', 'porous', 'media', 'newton', 'convergence', 'coupling', 'battery']\n"
     ]
    }
   ],
   "source": [
    "import numpy as np\n",
    "topic_words = np.empty([nmf_model.components_.shape[0], 10])\n",
    "for idx, topic in enumerate(nmf_model.components_):\n",
    "    \n",
    "    print([vectorizer.get_feature_names()[i] for i in topic.argsort()[:-10 - 1:-1]])\n",
    "#     topic_words[idx] = [vectorizer.get_feature_names()[i] for i in topic.argsort()[:-10 - 1:-1]]\n",
    "# print(topic_words) "
   ]
  },
  {
   "cell_type": "code",
   "execution_count": 9,
   "metadata": {
    "ExecuteTime": {
     "end_time": "2018-08-28T21:24:37.738850Z",
     "start_time": "2018-08-28T21:24:37.587998Z"
    }
   },
   "outputs": [
    {
     "data": {
      "text/html": [
       "<div>\n",
       "<style scoped>\n",
       "    .dataframe tbody tr th:only-of-type {\n",
       "        vertical-align: middle;\n",
       "    }\n",
       "\n",
       "    .dataframe tbody tr th {\n",
       "        vertical-align: top;\n",
       "    }\n",
       "\n",
       "    .dataframe thead th {\n",
       "        text-align: right;\n",
       "    }\n",
       "</style>\n",
       "<table border=\"1\" class=\"dataframe\">\n",
       "  <thead>\n",
       "    <tr style=\"text-align: right;\">\n",
       "      <th></th>\n",
       "      <th>abstracts</th>\n",
       "      <th>email</th>\n",
       "      <th>faculty_name</th>\n",
       "      <th>faculty_title</th>\n",
       "      <th>google_scholar_link</th>\n",
       "      <th>office</th>\n",
       "      <th>page</th>\n",
       "      <th>paper_titles</th>\n",
       "      <th>phone</th>\n",
       "      <th>predicted_cluster_num</th>\n",
       "      <th>predicted_research_areas</th>\n",
       "      <th>research_areas</th>\n",
       "    </tr>\n",
       "  </thead>\n",
       "  <tbody>\n",
       "    <tr>\n",
       "      <th>74</th>\n",
       "      <td>Expanding-solvent steam-assisted gravity drai...</td>\n",
       "      <td>okuno@utexas.edu</td>\n",
       "      <td>Ryosuke Okuno</td>\n",
       "      <td>Assistant Professor</td>\n",
       "      <td>https://scholar.google.com/citations?user=zqr5...</td>\n",
       "      <td>CPE 5.118B</td>\n",
       "      <td>https://www.pge.utexas.edu/facultystaff/profil...</td>\n",
       "      <td>Mechanistic simulation study of expanding-sol...</td>\n",
       "      <td>(512) 471-3250</td>\n",
       "      <td>7</td>\n",
       "      <td>[asphaltene, chamber, recovery, heavy, isc, so...</td>\n",
       "      <td>Phase Behavior; Thermodynamics; Enhanced Oil R...</td>\n",
       "    </tr>\n",
       "    <tr>\n",
       "      <th>48</th>\n",
       "      <td>The gas-mobility-control aspects of foamed ga...</td>\n",
       "      <td>margot.gerritsen@stanford.edu</td>\n",
       "      <td>Margot Gerritsen</td>\n",
       "      <td>Associate Professor of Energy Resources Engine...</td>\n",
       "      <td></td>\n",
       "      <td>GESB 088, M10 Huang</td>\n",
       "      <td>https://pangea.stanford.edu/people/margot-gerr...</td>\n",
       "      <td>Modeling Foam Displacement With the Local-Equ...</td>\n",
       "      <td>(650) 725-3542, (650) 725-2727</td>\n",
       "      <td>7</td>\n",
       "      <td>[asphaltene, chamber, recovery, heavy, isc, so...</td>\n",
       "      <td>I   s p e c i a l i z e   i n   r e n e w a b ...</td>\n",
       "    </tr>\n",
       "    <tr>\n",
       "      <th>49</th>\n",
       "      <td>Shale reservoirs have a significant fraction ...</td>\n",
       "      <td>barrufet@tamu.edu</td>\n",
       "      <td>Maria A. Barrufet</td>\n",
       "      <td>Professor</td>\n",
       "      <td>https://scholar.google.com/citations?user=VWtd...</td>\n",
       "      <td>RICH 407C</td>\n",
       "      <td>https://engineering.tamu.edu/petroleum/profile...</td>\n",
       "      <td>Effects of Thermodynamic and Rock Properties ...</td>\n",
       "      <td>979-845-0314</td>\n",
       "      <td>7</td>\n",
       "      <td>[asphaltene, chamber, recovery, heavy, isc, so...</td>\n",
       "      <td>Multicomponent thermodynamic and transport phe...</td>\n",
       "    </tr>\n",
       "    <tr>\n",
       "      <th>7</th>\n",
       "      <td>Performance predictions of the In-Situ Combus...</td>\n",
       "      <td>hascakir@tamu.edu</td>\n",
       "      <td>Berna Hascakir</td>\n",
       "      <td>Assistant Professor</td>\n",
       "      <td>https://scholar.google.com/citations?user=wdJY...</td>\n",
       "      <td>RICH 401N</td>\n",
       "      <td>https://engineering.tamu.edu/petroleum/profile...</td>\n",
       "      <td>Water and aromatics fraction interaction at e...</td>\n",
       "      <td>979-845-6614</td>\n",
       "      <td>7</td>\n",
       "      <td>[asphaltene, chamber, recovery, heavy, isc, so...</td>\n",
       "      <td>Heavy oil and oil shale recovery with enhanced...</td>\n",
       "    </tr>\n",
       "    <tr>\n",
       "      <th>64</th>\n",
       "      <td>In chemical product design, application o...</td>\n",
       "      <td>nimir.elbashir@qatar.tamu.edu</td>\n",
       "      <td>Nimir Elbashir</td>\n",
       "      <td>Professor</td>\n",
       "      <td>https://scholar.google.com/citations?user=mO2O...</td>\n",
       "      <td>204F</td>\n",
       "      <td>https://engineering.tamu.edu/petroleum/profile...</td>\n",
       "      <td>Special issue (GPS, 2016): The Fifth Internat...</td>\n",
       "      <td>974-4423-0128</td>\n",
       "      <td>2</td>\n",
       "      <td>[reforming, reactor, geological, tpwl, emissio...</td>\n",
       "      <td>Dr. Elbashir is the Director of Texas A&amp;M Engi...</td>\n",
       "    </tr>\n",
       "  </tbody>\n",
       "</table>\n",
       "</div>"
      ],
      "text/plain": [
       "                                            abstracts  \\\n",
       "74   Expanding-solvent steam-assisted gravity drai...   \n",
       "48   The gas-mobility-control aspects of foamed ga...   \n",
       "49   Shale reservoirs have a significant fraction ...   \n",
       "7    Performance predictions of the In-Situ Combus...   \n",
       "64       In chemical product design, application o...   \n",
       "\n",
       "                            email       faculty_name  \\\n",
       "74               okuno@utexas.edu      Ryosuke Okuno   \n",
       "48  margot.gerritsen@stanford.edu   Margot Gerritsen   \n",
       "49              barrufet@tamu.edu  Maria A. Barrufet   \n",
       "7               hascakir@tamu.edu     Berna Hascakir   \n",
       "64  nimir.elbashir@qatar.tamu.edu     Nimir Elbashir   \n",
       "\n",
       "                                        faculty_title  \\\n",
       "74                                Assistant Professor   \n",
       "48  Associate Professor of Energy Resources Engine...   \n",
       "49                                          Professor   \n",
       "7                                 Assistant Professor   \n",
       "64                                          Professor   \n",
       "\n",
       "                                  google_scholar_link               office  \\\n",
       "74  https://scholar.google.com/citations?user=zqr5...           CPE 5.118B   \n",
       "48                                                     GESB 088, M10 Huang   \n",
       "49  https://scholar.google.com/citations?user=VWtd...            RICH 407C   \n",
       "7   https://scholar.google.com/citations?user=wdJY...            RICH 401N   \n",
       "64  https://scholar.google.com/citations?user=mO2O...                 204F   \n",
       "\n",
       "                                                 page  \\\n",
       "74  https://www.pge.utexas.edu/facultystaff/profil...   \n",
       "48  https://pangea.stanford.edu/people/margot-gerr...   \n",
       "49  https://engineering.tamu.edu/petroleum/profile...   \n",
       "7   https://engineering.tamu.edu/petroleum/profile...   \n",
       "64  https://engineering.tamu.edu/petroleum/profile...   \n",
       "\n",
       "                                         paper_titles  \\\n",
       "74   Mechanistic simulation study of expanding-sol...   \n",
       "48   Modeling Foam Displacement With the Local-Equ...   \n",
       "49   Effects of Thermodynamic and Rock Properties ...   \n",
       "7    Water and aromatics fraction interaction at e...   \n",
       "64   Special issue (GPS, 2016): The Fifth Internat...   \n",
       "\n",
       "                             phone  predicted_cluster_num  \\\n",
       "74                  (512) 471-3250                      7   \n",
       "48  (650) 725-3542, (650) 725-2727                      7   \n",
       "49                   979-845-0314                       7   \n",
       "7                     979-845-6614                      7   \n",
       "64                   974-4423-0128                      2   \n",
       "\n",
       "                             predicted_research_areas  \\\n",
       "74  [asphaltene, chamber, recovery, heavy, isc, so...   \n",
       "48  [asphaltene, chamber, recovery, heavy, isc, so...   \n",
       "49  [asphaltene, chamber, recovery, heavy, isc, so...   \n",
       "7   [asphaltene, chamber, recovery, heavy, isc, so...   \n",
       "64  [reforming, reactor, geological, tpwl, emissio...   \n",
       "\n",
       "                                       research_areas  \n",
       "74  Phase Behavior; Thermodynamics; Enhanced Oil R...  \n",
       "48  I   s p e c i a l i z e   i n   r e n e w a b ...  \n",
       "49  Multicomponent thermodynamic and transport phe...  \n",
       "7   Heavy oil and oil shale recovery with enhanced...  \n",
       "64  Dr. Elbashir is the Director of Texas A&M Engi...  "
      ]
     },
     "execution_count": 9,
     "metadata": {},
     "output_type": "execute_result"
    }
   ],
   "source": [
    "from sklearn.metrics.pairwise import euclidean_distances\n",
    " \n",
    "def most_similar(x, Z, top_n=5):\n",
    "    dists = euclidean_distances(x.reshape(1, -1), Z)\n",
    "    pairs = enumerate(dists[0])\n",
    "    most_similar = sorted(pairs, key=lambda item: item[1])[:top_n]\n",
    "    return np.array(most_similar)\n",
    " \n",
    "final_df = pd.read_json('../data/final_database.json')\n",
    "similarities = most_similar(x, nmf_Z)\n",
    "similarities = similarities[similarities[:,0].argsort()] # sorting by id\n",
    "document_ids = list(map(int, similarities[:,0]))\n",
    "results_df = final_df[final_df.index.isin(document_ids)].sort_index()\n",
    "results_df['similarity'] = similarities[:,1]\n",
    "results_df.sort_values(by='similarity').drop(columns='similarity', axis=1)"
   ]
  },
  {
   "cell_type": "code",
   "execution_count": 10,
   "metadata": {
    "ExecuteTime": {
     "end_time": "2018-08-28T21:24:37.777223Z",
     "start_time": "2018-08-28T21:24:37.741023Z"
    }
   },
   "outputs": [
    {
     "data": {
      "text/plain": [
       "[7, 48, 49, 64, 74]"
      ]
     },
     "execution_count": 10,
     "metadata": {},
     "output_type": "execute_result"
    }
   ],
   "source": [
    "document_ids"
   ]
  },
  {
   "cell_type": "code",
   "execution_count": 6,
   "metadata": {
    "ExecuteTime": {
     "end_time": "2018-09-01T04:16:06.440052Z",
     "start_time": "2018-09-01T04:16:06.287543Z"
    }
   },
   "outputs": [],
   "source": [
    "import pickle\n",
    "from topic_model import MyTopicModel\n",
    "with open('../data/pickle/pge_sklearn_LDA.pkl', 'rb') as f:\n",
    "        topic_model = pickle.load(f)\n",
    "\n",
    "with open('../data/pickle/pge_sklearn_LDA_vectorizer.pkl', 'rb') as f:\n",
    "    topic_vectorizer = pickle.load(f)\n",
    "\n",
    "final_df = pd.read_json('../data/json/final_sklearn_database_LDA.json')"
   ]
  },
  {
   "cell_type": "code",
   "execution_count": 13,
   "metadata": {
    "ExecuteTime": {
     "end_time": "2018-08-28T21:25:29.224097Z",
     "start_time": "2018-08-28T21:25:29.187596Z"
    }
   },
   "outputs": [
    {
     "name": "stdout",
     "output_type": "stream",
     "text": [
      "[ 0.          0.          0.          0.          0.          0.\n",
      "  0.41681185  0.          0.          0.          0.          0.        ]\n"
     ]
    }
   ],
   "source": [
    "x = topic_model.transform(topic_vectorizer.transform([text]))[0]\n",
    "print(x)"
   ]
  },
  {
   "cell_type": "code",
   "execution_count": 15,
   "metadata": {
    "ExecuteTime": {
     "end_time": "2018-08-28T21:26:23.796258Z",
     "start_time": "2018-08-28T21:26:23.758778Z"
    }
   },
   "outputs": [
    {
     "data": {
      "text/plain": [
       "array([[ 74.        ,   0.11711831],\n",
       "       [ 48.        ,   0.18981306],\n",
       "       [ 49.        ,   0.24327598],\n",
       "       [  7.        ,   0.2675512 ],\n",
       "       [ 64.        ,   0.27350828]])"
      ]
     },
     "execution_count": 15,
     "metadata": {},
     "output_type": "execute_result"
    }
   ],
   "source": [
    "topic_model.most_similar([text], topic_vectorizer, top_n=5)"
   ]
  },
  {
   "cell_type": "code",
   "execution_count": null,
   "metadata": {},
   "outputs": [],
   "source": [
    "topic_model.score"
   ]
  },
  {
   "cell_type": "code",
   "execution_count": 7,
   "metadata": {
    "ExecuteTime": {
     "end_time": "2018-09-01T04:18:53.341996Z",
     "start_time": "2018-09-01T04:18:53.306941Z"
    }
   },
   "outputs": [],
   "source": [
    "from topic_model import *"
   ]
  },
  {
   "cell_type": "code",
   "execution_count": 9,
   "metadata": {
    "ExecuteTime": {
     "end_time": "2018-09-01T04:20:17.929926Z",
     "start_time": "2018-09-01T04:20:08.349844Z"
    }
   },
   "outputs": [],
   "source": [
    "corpus = get_corpus('../data/json/majors_database.json')\n",
    "vectorizer, matrix = vectorize_corpus(corpus, tf_idf=True, stem_lem=None, ngram_range=(1,1),\n",
    "                                max_df=0.8, min_df=5, max_features=None)\n",
    "model = MyTopicModel(n_topics=12, algorithm='LDA')\n",
    "y_pred = model.fit_transform(matrix)"
   ]
  },
  {
   "cell_type": "code",
   "execution_count": 14,
   "metadata": {
    "ExecuteTime": {
     "end_time": "2018-09-01T04:25:46.457842Z",
     "start_time": "2018-09-01T04:25:45.529439Z"
    }
   },
   "outputs": [
    {
     "data": {
      "text/html": [
       "\n",
       "<link rel=\"stylesheet\" type=\"text/css\" href=\"https://cdn.rawgit.com/bmabey/pyLDAvis/files/ldavis.v1.0.0.css\">\n",
       "\n",
       "\n",
       "<div id=\"ldavis_el9630545941983529314681129\"></div>\n",
       "<script type=\"text/javascript\">\n",
       "\n",
       "var ldavis_el9630545941983529314681129_data = {\"mdsDat\": {\"Freq\": [95.08074064421609, 0.4472065193710067, 0.44720573052457685, 0.4472054403720135, 0.4472053128451051, 0.4472052530349612, 0.447205244062728, 0.44720522576175176, 0.44720516821030165, 0.44720516064758614, 0.4472051529024656, 0.44720514805140726], \"cluster\": [1, 1, 1, 1, 1, 1, 1, 1, 1, 1, 1, 1], \"topics\": [1, 2, 3, 4, 5, 6, 7, 8, 9, 10, 11, 12], \"x\": [416.56500244140625, -364.22802734375, -71.63728332519531, 408.8797607421875, 178.92401123046875, -358.9154357910156, 163.60296630859375, -90.09506225585938, 151.6829071044922, -344.8323669433594, -93.39856719970703, -83.29080200195312], \"y\": [113.90007781982422, -22.41976547241211, 412.07537841796875, -197.1172637939453, 273.57080078125, -308.6629638671875, -344.7171630859375, -166.85745239257812, -35.10238265991211, 263.2088623046875, -470.8074951171875, 108.38507080078125]}, \"tinfo\": {\"Category\": [\"Default\", \"Default\", \"Default\", \"Default\", \"Default\", \"Default\", \"Default\", \"Default\", \"Default\", \"Default\", \"Default\", \"Default\", \"Default\", \"Default\", \"Default\", \"Default\", \"Default\", \"Default\", \"Default\", \"Default\", \"Default\", \"Default\", \"Default\", \"Default\", \"Default\", \"Default\", \"Default\", \"Default\", \"Default\", \"Default\", \"Topic1\", \"Topic1\", \"Topic1\", \"Topic1\", \"Topic1\", \"Topic1\", \"Topic1\", \"Topic1\", \"Topic1\", \"Topic1\", \"Topic1\", \"Topic1\", \"Topic1\", \"Topic1\", \"Topic1\", \"Topic1\", \"Topic1\", \"Topic1\", \"Topic1\", \"Topic1\", \"Topic1\", \"Topic1\", \"Topic1\", \"Topic1\", \"Topic1\", \"Topic1\", \"Topic1\", \"Topic1\", \"Topic1\", \"Topic1\", \"Topic1\", \"Topic2\", \"Topic2\", \"Topic2\", \"Topic2\", \"Topic2\", \"Topic2\", \"Topic2\", \"Topic2\", \"Topic2\", \"Topic2\", \"Topic2\", \"Topic2\", \"Topic2\", \"Topic2\", \"Topic2\", \"Topic2\", \"Topic2\", \"Topic2\", \"Topic2\", \"Topic2\", \"Topic2\", \"Topic2\", \"Topic2\", \"Topic2\", \"Topic2\", \"Topic2\", \"Topic2\", \"Topic2\", \"Topic2\", \"Topic2\", \"Topic2\", \"Topic2\", \"Topic2\", \"Topic2\", \"Topic2\", \"Topic2\", \"Topic2\", \"Topic2\", \"Topic2\", \"Topic2\", \"Topic2\", \"Topic2\", \"Topic2\", \"Topic2\", \"Topic2\", \"Topic2\", \"Topic2\", \"Topic2\", \"Topic2\", \"Topic2\", \"Topic2\", \"Topic2\", \"Topic2\", \"Topic2\", \"Topic2\", \"Topic2\", \"Topic2\", \"Topic2\", \"Topic2\", \"Topic2\", \"Topic2\", \"Topic2\", \"Topic2\", \"Topic2\", \"Topic2\", \"Topic2\", \"Topic2\", \"Topic2\", \"Topic2\", \"Topic2\", \"Topic2\", \"Topic2\", \"Topic2\", \"Topic2\", \"Topic2\", \"Topic2\", \"Topic2\", \"Topic2\", \"Topic2\", \"Topic3\", \"Topic3\", \"Topic3\", \"Topic3\", \"Topic3\", \"Topic3\", \"Topic3\", \"Topic3\", \"Topic3\", \"Topic3\", \"Topic3\", \"Topic3\", \"Topic3\", \"Topic3\", \"Topic3\", \"Topic3\", \"Topic3\", \"Topic3\", \"Topic3\", \"Topic3\", \"Topic3\", \"Topic3\", \"Topic3\", \"Topic3\", \"Topic3\", \"Topic3\", \"Topic3\", \"Topic3\", \"Topic3\", \"Topic3\", \"Topic3\", \"Topic3\", \"Topic3\", \"Topic3\", \"Topic3\", \"Topic3\", \"Topic3\", \"Topic3\", \"Topic3\", \"Topic3\", \"Topic3\", \"Topic3\", \"Topic3\", \"Topic3\", \"Topic3\", \"Topic3\", \"Topic3\", \"Topic3\", \"Topic3\", \"Topic3\", \"Topic3\", \"Topic3\", \"Topic3\", \"Topic3\", \"Topic3\", \"Topic3\", \"Topic3\", \"Topic3\", \"Topic3\", \"Topic3\", \"Topic3\", \"Topic3\", \"Topic3\", \"Topic3\", \"Topic3\", \"Topic3\", \"Topic3\", \"Topic3\", \"Topic3\", \"Topic3\", \"Topic3\", \"Topic3\", \"Topic3\", \"Topic3\", \"Topic3\", \"Topic3\", \"Topic3\", \"Topic3\", \"Topic3\", \"Topic3\", \"Topic3\", \"Topic4\", \"Topic4\", \"Topic4\", \"Topic4\", \"Topic4\", \"Topic4\", \"Topic4\", \"Topic4\", \"Topic4\", \"Topic4\", \"Topic4\", \"Topic4\", \"Topic4\", \"Topic4\", \"Topic4\", \"Topic4\", \"Topic4\", \"Topic4\", \"Topic4\", \"Topic4\", \"Topic4\", \"Topic4\", \"Topic4\", \"Topic4\", \"Topic4\", \"Topic4\", \"Topic4\", \"Topic4\", \"Topic4\", \"Topic4\", \"Topic4\", \"Topic4\", \"Topic4\", \"Topic4\", \"Topic4\", \"Topic4\", \"Topic4\", \"Topic4\", \"Topic4\", \"Topic4\", \"Topic4\", \"Topic4\", \"Topic4\", \"Topic4\", \"Topic4\", \"Topic4\", \"Topic4\", \"Topic4\", \"Topic4\", \"Topic4\", \"Topic4\", \"Topic4\", \"Topic4\", \"Topic4\", \"Topic4\", \"Topic4\", \"Topic4\", \"Topic4\", \"Topic4\", \"Topic4\", \"Topic4\", \"Topic4\", \"Topic4\", \"Topic4\", \"Topic4\", \"Topic4\", \"Topic4\", \"Topic4\", \"Topic4\", \"Topic4\", \"Topic4\", \"Topic4\", \"Topic4\", \"Topic4\", \"Topic4\", \"Topic4\", \"Topic4\", \"Topic4\", \"Topic4\", \"Topic4\", \"Topic5\", \"Topic5\", \"Topic5\", \"Topic5\", \"Topic5\", \"Topic5\", \"Topic5\", \"Topic5\", \"Topic5\", \"Topic5\", \"Topic5\", \"Topic5\", \"Topic5\", \"Topic5\", \"Topic5\", \"Topic5\", \"Topic5\", \"Topic5\", \"Topic5\", \"Topic5\", \"Topic5\", \"Topic5\", \"Topic5\", \"Topic5\", \"Topic5\", \"Topic5\", \"Topic5\", \"Topic5\", \"Topic5\", \"Topic5\", \"Topic5\", \"Topic5\", \"Topic5\", \"Topic5\", \"Topic5\", \"Topic5\", \"Topic5\", \"Topic5\", \"Topic5\", \"Topic5\", \"Topic5\", \"Topic5\", \"Topic5\", \"Topic5\", \"Topic5\", \"Topic5\", \"Topic5\", \"Topic5\", \"Topic5\", \"Topic5\", \"Topic5\", \"Topic5\", \"Topic5\", \"Topic5\", \"Topic5\", \"Topic5\", \"Topic5\", \"Topic5\", \"Topic5\", \"Topic5\", \"Topic5\", \"Topic5\", \"Topic5\", \"Topic5\", \"Topic5\", \"Topic5\", \"Topic5\", \"Topic5\", \"Topic5\", \"Topic5\", \"Topic5\", \"Topic5\", \"Topic5\", \"Topic5\", \"Topic5\", \"Topic5\", \"Topic6\", \"Topic6\", \"Topic6\", \"Topic6\", \"Topic6\", \"Topic6\", \"Topic6\", \"Topic6\", \"Topic6\", \"Topic6\", \"Topic6\", \"Topic6\", \"Topic6\", \"Topic6\", \"Topic6\", \"Topic6\", \"Topic6\", \"Topic6\", \"Topic6\", \"Topic6\", \"Topic6\", \"Topic6\", \"Topic6\", \"Topic6\", \"Topic6\", \"Topic6\", \"Topic6\", \"Topic6\", \"Topic6\", \"Topic6\", \"Topic6\", \"Topic6\", \"Topic6\", \"Topic6\", \"Topic6\", \"Topic6\", \"Topic6\", \"Topic6\", \"Topic6\", \"Topic6\", \"Topic6\", \"Topic6\", \"Topic6\", \"Topic6\", \"Topic6\", \"Topic6\", \"Topic6\", \"Topic6\", \"Topic6\", \"Topic6\", \"Topic6\", \"Topic6\", \"Topic6\", \"Topic6\", \"Topic6\", \"Topic6\", \"Topic6\", \"Topic6\", \"Topic6\", \"Topic6\", \"Topic6\", \"Topic6\", \"Topic6\", \"Topic6\", \"Topic6\", \"Topic7\", \"Topic7\", \"Topic7\", \"Topic7\", \"Topic7\", \"Topic7\", \"Topic7\", \"Topic7\", \"Topic7\", \"Topic7\", \"Topic7\", \"Topic7\", \"Topic7\", \"Topic7\", \"Topic7\", \"Topic7\", \"Topic7\", \"Topic7\", \"Topic7\", \"Topic7\", \"Topic7\", \"Topic7\", \"Topic7\", \"Topic7\", \"Topic7\", \"Topic7\", \"Topic7\", \"Topic7\", \"Topic7\", \"Topic7\", \"Topic7\", \"Topic7\", \"Topic7\", \"Topic7\", \"Topic7\", \"Topic7\", \"Topic7\", \"Topic7\", \"Topic7\", \"Topic7\", \"Topic7\", \"Topic7\", \"Topic7\", \"Topic7\", \"Topic7\", \"Topic7\", \"Topic7\", \"Topic7\", \"Topic7\", \"Topic7\", \"Topic7\", \"Topic7\", \"Topic7\", \"Topic7\", \"Topic7\", \"Topic7\", \"Topic7\", \"Topic7\", \"Topic7\", \"Topic7\", \"Topic7\", \"Topic7\", \"Topic7\", \"Topic7\", \"Topic7\", \"Topic7\", \"Topic8\", \"Topic8\", \"Topic8\", \"Topic8\", \"Topic8\", \"Topic8\", \"Topic8\", \"Topic8\", \"Topic8\", \"Topic8\", \"Topic8\", \"Topic8\", \"Topic8\", \"Topic8\", \"Topic8\", \"Topic8\", \"Topic8\", \"Topic8\", \"Topic8\", \"Topic8\", \"Topic8\", \"Topic8\", \"Topic8\", \"Topic8\", \"Topic8\", \"Topic8\", \"Topic8\", \"Topic8\", \"Topic8\", \"Topic8\", \"Topic8\", \"Topic8\", \"Topic8\", \"Topic8\", \"Topic8\", \"Topic8\", \"Topic8\", \"Topic8\", \"Topic8\", \"Topic8\", \"Topic8\", \"Topic8\", \"Topic8\", \"Topic8\", \"Topic8\", \"Topic8\", \"Topic8\", \"Topic8\", \"Topic8\", \"Topic8\", \"Topic8\", \"Topic8\", \"Topic8\", \"Topic8\", \"Topic8\", \"Topic8\", \"Topic8\", \"Topic8\", \"Topic8\", \"Topic8\", \"Topic8\", \"Topic8\", \"Topic8\", \"Topic8\", \"Topic8\", \"Topic8\", \"Topic8\", \"Topic8\", \"Topic8\", \"Topic8\", \"Topic8\", \"Topic8\", \"Topic8\", \"Topic8\", \"Topic8\", \"Topic8\", \"Topic8\", \"Topic8\", \"Topic8\", \"Topic8\", \"Topic8\", \"Topic8\", \"Topic8\", \"Topic8\", \"Topic8\", \"Topic8\", \"Topic8\", \"Topic8\", \"Topic8\", \"Topic9\", \"Topic9\", \"Topic9\", \"Topic9\", \"Topic9\", \"Topic9\", \"Topic9\", \"Topic9\", \"Topic9\", \"Topic9\", \"Topic9\", \"Topic9\", \"Topic9\", \"Topic9\", \"Topic9\", \"Topic9\", \"Topic9\", \"Topic9\", \"Topic9\", \"Topic9\", \"Topic9\", \"Topic9\", \"Topic9\", \"Topic9\", \"Topic9\", \"Topic9\", \"Topic9\", \"Topic9\", \"Topic9\", \"Topic9\", \"Topic9\", \"Topic9\", \"Topic9\", \"Topic9\", \"Topic9\", \"Topic9\", \"Topic9\", \"Topic9\", \"Topic9\", \"Topic9\", \"Topic9\", \"Topic9\", \"Topic9\", \"Topic9\", \"Topic9\", \"Topic9\", \"Topic9\", \"Topic9\", \"Topic9\", \"Topic9\", \"Topic9\", \"Topic9\", \"Topic9\", \"Topic9\", \"Topic9\", \"Topic9\", \"Topic9\", \"Topic9\", \"Topic9\", \"Topic9\", \"Topic9\", \"Topic9\", \"Topic10\", \"Topic10\", \"Topic10\", \"Topic10\", \"Topic10\", \"Topic10\", \"Topic10\", \"Topic10\", \"Topic10\", \"Topic10\", \"Topic10\", \"Topic10\", \"Topic10\", \"Topic10\", \"Topic10\", \"Topic10\", \"Topic10\", \"Topic10\", \"Topic10\", \"Topic10\", \"Topic10\", \"Topic10\", \"Topic10\", \"Topic10\", \"Topic10\", \"Topic10\", \"Topic10\", \"Topic10\", \"Topic10\", \"Topic10\", \"Topic10\", \"Topic10\", \"Topic10\", \"Topic10\", \"Topic10\", \"Topic10\", \"Topic10\", \"Topic10\", \"Topic10\", \"Topic10\", \"Topic10\", \"Topic10\", \"Topic10\", \"Topic10\", \"Topic10\", \"Topic10\", \"Topic10\", \"Topic10\", \"Topic10\", \"Topic10\", \"Topic10\", \"Topic10\", \"Topic10\", \"Topic10\", \"Topic10\", \"Topic10\", \"Topic10\", \"Topic10\", \"Topic10\", \"Topic10\", \"Topic10\", \"Topic10\", \"Topic10\", \"Topic10\", \"Topic10\", \"Topic11\", \"Topic11\", \"Topic11\", \"Topic11\", \"Topic11\", \"Topic11\", \"Topic11\", \"Topic11\", \"Topic11\", \"Topic11\", \"Topic11\", \"Topic11\", \"Topic11\", \"Topic11\", \"Topic11\", \"Topic11\", \"Topic11\", \"Topic11\", \"Topic11\", \"Topic11\", \"Topic11\", \"Topic11\", \"Topic11\", \"Topic11\", \"Topic11\", \"Topic11\", \"Topic11\", \"Topic11\", \"Topic11\", \"Topic11\", \"Topic11\", \"Topic11\", \"Topic11\", \"Topic11\", \"Topic11\", \"Topic11\", \"Topic11\", \"Topic11\", \"Topic11\", \"Topic11\", \"Topic11\", \"Topic11\", \"Topic11\", \"Topic11\", \"Topic11\", \"Topic11\", \"Topic11\", \"Topic11\", \"Topic11\", \"Topic11\", \"Topic11\", \"Topic11\", \"Topic11\", \"Topic11\", \"Topic11\", \"Topic11\", \"Topic11\", \"Topic11\", \"Topic11\", \"Topic11\", \"Topic11\", \"Topic12\", \"Topic12\", \"Topic12\", \"Topic12\", \"Topic12\", \"Topic12\", \"Topic12\", \"Topic12\", \"Topic12\", \"Topic12\", \"Topic12\", \"Topic12\", \"Topic12\", \"Topic12\", \"Topic12\", \"Topic12\", \"Topic12\", \"Topic12\", \"Topic12\", \"Topic12\", \"Topic12\", \"Topic12\", \"Topic12\", \"Topic12\", \"Topic12\", \"Topic12\", \"Topic12\", \"Topic12\", \"Topic12\", \"Topic12\", \"Topic12\", \"Topic12\", \"Topic12\", \"Topic12\", \"Topic12\", \"Topic12\", \"Topic12\", \"Topic12\", \"Topic12\", \"Topic12\", \"Topic12\", \"Topic12\", \"Topic12\", \"Topic12\", \"Topic12\", \"Topic12\", \"Topic12\", \"Topic12\", \"Topic12\", \"Topic12\", \"Topic12\", \"Topic12\", \"Topic12\", \"Topic12\", \"Topic12\", \"Topic12\", \"Topic12\", \"Topic12\", \"Topic12\", \"Topic12\", \"Topic12\", \"Topic12\", \"Topic12\", \"Topic12\", \"Topic12\", \"Topic12\", \"Topic12\", \"Topic12\", \"Topic12\"], \"Freq\": [4.0, 2.0, 1.0, 2.0, 1.0, 1.0, 1.0, 1.0, 1.0, 1.0, 1.0, 1.0, 1.0, 1.0, 1.0, 1.0, 1.0, 1.0, 1.0, 1.0, 1.0, 1.0, 1.0, 1.0, 1.0, 1.0, 1.0, 1.0, 1.0, 1.0, 4.155956358430681, 2.7011529227935607, 2.014200092986297, 1.9031552182020572, 1.9163120191049248, 1.753982303754497, 1.684627327888047, 1.5551911128297593, 1.6181699640495, 1.7956069611425933, 1.5407030343868393, 1.5184145673790017, 1.4393428709806242, 1.57269664367701, 1.3092760679391382, 1.284875303376511, 1.115268916150218, 1.081459662492365, 1.1605721736449808, 1.1384479012192046, 1.0887129657382093, 1.154509978945462, 1.1532394737711866, 1.092159208047391, 1.1057567391912952, 1.1758048069757296, 1.1019808110294373, 1.0773135045233124, 1.007944854379979, 1.0551792438912375, 1.0406259968379838, 0.0014949481006579488, 0.0015085089989463408, 0.0014023478630887658, 0.0014393876552234038, 0.0014146971150272257, 0.0014971069912157841, 0.0016183324149285582, 0.00169553739070493, 0.001413784357394912, 0.0014291943110322513, 0.0014445954903078437, 0.001487618560659764, 0.0014921777117206218, 0.001360466884934201, 0.0015401336450569646, 0.001412815979750092, 0.0013721494277620185, 0.0015712151950741727, 0.0014307029623312779, 0.0014489111116347858, 0.0014036133658051294, 0.0016494821967745208, 0.001406804924686705, 0.0014485413137189285, 0.0015268585018880297, 0.0015855210399482163, 0.0014435508394284211, 0.0014359898661170298, 0.0014794603029603145, 0.001273913925196096, 0.0012848324689024048, 0.0013745473347508623, 0.0014194582781703506, 0.0014949309437357684, 0.0015609364015913192, 0.0015904946656534456, 0.0015378753716566525, 0.0016223951874359697, 0.001522747856864866, 0.0016384407365645796, 0.0014851116967034414, 0.004849129230661718, 0.0021241114327125673, 0.0021278458661445707, 0.0022170877991002902, 0.0018457465758129053, 0.002074752397041805, 0.003642915747166335, 0.002338702112793876, 0.0020833772512749748, 0.0017951441939797247, 0.0016601876292297586, 0.002566634734851712, 0.0017117442021088354, 0.002075177063816231, 0.0017192088464725423, 0.001827550043170704, 0.0022804361968603386, 0.0034748385283132855, 0.0021327715805160787, 0.001778097779064968, 0.0018694931039197264, 0.0022613494751314005, 0.0020466776256675093, 0.001903691479889031, 0.002395741010995584, 0.00189015509266979, 0.002124049057608205, 0.00204133530743111, 0.0019033825040616695, 0.0021145599099504594, 0.0018826549210964277, 0.002107095854883612, 0.001985474307857176, 0.0018804564522998243, 0.0019470509508001087, 0.001986018373207145, 0.0018678708282141097, 0.0018717844662632292, 0.0015546778211596166, 0.0015085898780617514, 0.0014290430402847858, 0.0013469535086177247, 0.0013734506558188623, 0.0014538841304615052, 0.0016415310588205109, 0.0014191173824714199, 0.0015753665148302935, 0.0014755282485462583, 0.0014103040066290296, 0.0013184495160838375, 0.0013551861737078716, 0.001504508185096286, 0.0015032235583846453, 0.0014689803929201302, 0.0015249320157089338, 0.0013452860877009515, 0.0014813308283004138, 0.0014867229811947312, 0.0014862511042814403, 0.0013425302214025924, 0.001408779692433619, 0.0013512530576183864, 0.0015742792942598622, 0.0015640003651819898, 0.0014292490939597606, 0.0013428454766068404, 0.001536073817631478, 0.0014991206253266256, 0.001564540246399225, 0.0015069422826334464, 0.0016079252131365415, 0.001565812572994667, 0.0015213265187425248, 0.0015349631233346867, 0.0016626934870796802, 0.0015549854203665036, 0.0016165358284786506, 0.0015643647605638558, 0.0016049157536695284, 0.0015721225747610684, 0.0017520168709140057, 0.001606698822518435, 0.0015527362471039732, 0.0015792369927808303, 0.0015593014341654364, 0.0015374307997624288, 0.0015877969404291899, 0.0017921617005178718, 0.0019522700949673537, 0.0020756539373125694, 0.0016716439704415975, 0.0017571112221844625, 0.0015670631755142594, 0.0021661140432371025, 0.0022665002830640265, 0.002233211537164205, 0.0018645977308236461, 0.001864694332181678, 0.0016793275089466114, 0.001850706657189553, 0.0017037043395685943, 0.0017064373821232747, 0.0020020105895468374, 0.0017097482019825382, 0.0017627391631692521, 0.0017176077705391515, 0.0018421677297787828, 0.001716594110578445, 0.00170617596397497, 0.0016645662443378454, 0.0016911562622648126, 0.0017936448607567235, 0.001693693510378131, 0.001671065051216346, 0.0016846631257809049, 0.0017484609636818187, 0.0016858787168127242, 0.001685580170344227, 0.0016890759006579347, 0.0014754555600507344, 0.0014907648038345357, 0.001513122076016633, 0.0016684410052680125, 0.0015323777232360803, 0.0016055718969522224, 0.0015713109434793862, 0.001441100218556435, 0.0014147880539082296, 0.0014091151490395412, 0.0014812000967554988, 0.001468174482029562, 0.0013893063737597342, 0.0013159821330520553, 0.0015031516346414283, 0.0013647052685838766, 0.001557463629094874, 0.0015641506339030807, 0.0015283921600617197, 0.0015482033600999698, 0.0016509230828430017, 0.0014671001707748576, 0.001448501618503378, 0.0015063671561456207, 0.0014942212345440587, 0.0014261380426014868, 0.0014578000993279714, 0.0015351435404025555, 0.0016185291863448567, 0.0014803092800088095, 0.0015846030139446646, 0.0015097381466525747, 0.0015148511108838895, 0.0015908835738155714, 0.0015728120679285615, 0.0016106698178802786, 0.001607973901055579, 0.001547857465772163, 0.0015397266249948093, 0.00162956801690409, 0.0016056456604643442, 0.0016174519191575045, 0.001620927919969656, 0.0015487714936051997, 0.0016042271760811787, 0.0016283894027255175, 0.0015977771414004728, 0.0016013913581641513, 0.002934742706432456, 0.001660210106688087, 0.0016704935022940606, 0.0017960624560924344, 0.0017060362908660849, 0.0016080642033548956, 0.001684245866090906, 0.002047532464078877, 0.0016393178578028877, 0.001689152118195576, 0.0017893203795897714, 0.0016453485496685327, 0.0017573490486500205, 0.0019390404343458437, 0.0017764064361278002, 0.0016738382205591178, 0.0017560070951018981, 0.0017633833073146042, 0.001776036468157829, 0.0017922874643531014, 0.0016832869011778081, 0.0017097427059854175, 0.0016840286373180976, 0.0017554110228818498, 0.00172237293950625, 0.0016681551728335456, 0.0017049587969762007, 0.001649951080312861, 0.0016710454088406583, 0.001661201870169099, 0.001651893536396756, 0.001651260948649569, 0.0016014875688395035, 0.0016127860294090574, 0.0016987350693687523, 0.001414011946459013, 0.0014672127631845683, 0.001414211354141637, 0.0015332330473574345, 0.0015691721099697616, 0.0014466318076153308, 0.0015022579500022122, 0.001534637035432695, 0.0014927499911587079, 0.0014735219986578535, 0.0013856490056953059, 0.0014732359589165957, 0.0013629474883181125, 0.0015704618580966645, 0.0014623790705322632, 0.00130792904209564, 0.0015203168573456433, 0.0014825830291998361, 0.001542774685748133, 0.0013704443131936684, 0.0013808132844995303, 0.0014861974189931983, 0.0016383191326315655, 0.0016716061558525567, 0.00162332356079564, 0.0014163202235660272, 0.0013935498166432942, 0.001441237344770798, 0.0015444589466398256, 0.001534435819669306, 0.001546707045050964, 0.0015462782874627863, 0.001591217468133217, 0.0015975771609850684, 0.001567156057639829, 0.001598547196400318, 0.0015292753894113255, 0.0015940960104259521, 0.0015981400868470966, 0.0015442440392135607, 0.0015802970064418796, 0.001580982571690699, 0.0016559868446981412, 0.0015801078508665314, 0.001581346644709553, 0.0016989961386265353, 0.001601147202992515, 0.001594959014497799, 0.0015661461431283187, 0.0016574453610314688, 0.0015919496720273462, 0.0016004072198792076, 0.0016244674937566895, 0.0016417331068814126, 0.001609137904508682, 0.0016310000341116368, 0.0017390699850311543, 0.0016430355219079202, 0.001643734659681127, 0.001609033224138078, 0.0016552726614414265, 0.001638930662013465, 0.0016384323667498909, 0.0016239901726908092, 0.0016469991100584603, 0.001646497399540274, 0.0016325399834078542, 0.0016244018103705859, 0.00162325682567619, 0.001610779615808356, 0.0016057984910271574, 0.0016043308347263546, 0.0016039995114462476, 0.001659110467848882, 0.001589403637210233, 0.0015095213948023596, 0.0016449962306813312, 0.001523386771072657, 0.0014151360833582032, 0.0015143653561328066, 0.0014527963432875855, 0.00156795814979432, 0.001533440568621266, 0.0015422433886133093, 0.0015151835807031763, 0.0014426850893408656, 0.0014711908841401004, 0.0013261464432726133, 0.0016385152068022183, 0.001490933489715046, 0.0015257691163936453, 0.0015016789494653197, 0.0013366244610299638, 0.001413836423789941, 0.0015193111012585725, 0.0013891800441247861, 0.0014386677540062984, 0.0014956947435239443, 0.0016362966302762342, 0.0013904447663376986, 0.0014520828214542225, 0.0015178529398533105, 0.0014891160090953154, 0.0015604302703734344, 0.0016297271614939758, 0.0016065944286242915, 0.0017155516212716394, 0.0015318456546810205, 0.0016074274573450312, 0.001737908058492478, 0.0016157944623794752, 0.0016182442273551165, 0.0016908706865911877, 0.001622888735341523, 0.0016068285733437783, 0.001662218432737061, 0.001694724576129883, 0.0015575476626018892, 0.0015535362210054669, 0.0017690788877157099, 0.0016030327237219412, 0.0016761449361253262, 0.0016020133462357434, 0.001574056646401201, 0.0016992601738462345, 0.0017140751143003843, 0.0016545409939221223, 0.001611839465022789, 0.0015983254864245244, 0.0016389190036764892, 0.0016133804348318654, 0.0017844691627985885, 0.0016514656815013067, 0.001613529818493569, 0.001693558380548323, 0.001733561284868021, 0.0016590704905286404, 0.0016556397664130504, 0.0015758573481398114, 0.0015772181415906908, 0.001420718557299322, 0.0014393925656857054, 0.001502101716478979, 0.001538949247569152, 0.0015823069005537615, 0.0015879610409316358, 0.001519899045989052, 0.001389113886142309, 0.001637990491996657, 0.0015647645143256072, 0.0016812176318526488, 0.0014332453850593111, 0.0015887519855817317, 0.001697500839962653, 0.0014665616792608929, 0.0015071797562532458, 0.001587371734919667, 0.0013865610275912417, 0.0015647047541749888, 0.0015594466710634259, 0.0014199085204691314, 0.0015326423591843815, 0.0013129843167963757, 0.0015797294972697512, 0.001548204990333601, 0.0016423653988156275, 0.001474645424883259, 0.001482465393798244, 0.0015603751895666824, 0.001560579548862085, 0.0016025896619196677, 0.0016302086727691958, 0.0015278880645303835, 0.0015362044839757041, 0.0015609234460437994, 0.0016528074755866662, 0.0015880060137758915, 0.0016398054259028733, 0.001641488448025899, 0.0015789810138821015, 0.0028327251251070887, 0.0015852044029231428, 0.0020363530528616745, 0.0016269300729974572, 0.002472700257780638, 0.001819039246045221, 0.0017290132915613807, 0.0018688009790235305, 0.002055153981727364, 0.0016274046781732364, 0.0016956145199860737, 0.0016557565897637324, 0.0016764436774726493, 0.001750998865262423, 0.0016065486471371038, 0.0016557306295662132, 0.0016389495634353704, 0.0017557451852460305, 0.0016498975360927147, 0.0016337092438287843, 0.0016704640503752899, 0.001621617793708158, 0.0016356833923034217, 0.0016274561322068217, 0.0015878797186832147, 0.001507514670499819, 0.0014541319857345485, 0.0015811398662821416, 0.0013862546879113836, 0.0014180365585018957, 0.0013563087055653226, 0.0015313152720582079, 0.0014953983885729889, 0.0013629737185682964, 0.0014950714654990232, 0.0015515216617478147, 0.0014946420431472128, 0.0014469912113614764, 0.0013875866519822754, 0.0014906663040822122, 0.0015067366638907421, 0.0014353906694400363, 0.0013879054712802234, 0.0014752826883638554, 0.0015153692193530539, 0.0014550762070504996, 0.0014236567911160285, 0.001411291741343592, 0.001285338845903458, 0.001461356315316452, 0.0014528218032940307, 0.0014275688729301665, 0.0015093806372728255, 0.0014670281217912518, 0.001512008487071857, 0.0015257318647701559, 0.0015294432160810963, 0.0014745835316298957, 0.0015816377084104162, 0.0015631999954326728, 0.0015189914122357838, 0.001522556334621315, 0.0015874556624778822, 0.001631831563902766, 0.0015329080867657009, 0.001568161198852866, 0.0015232864880378718, 0.0015429568534145515, 0.0015383842610412026, 0.0015451332376360952, 0.0015634589853648273, 0.0015756871912459688, 0.0015949784321496385, 0.0016101911146153363, 0.0015552126109194613, 0.001603250502899491, 0.00156160331378755, 0.0016169189818884505, 0.0015496992826558329, 0.0016155354345134855, 0.0015610955831646426, 0.0015938283320496714, 0.001632996969196846, 0.0016944606487869888, 0.0015668632572291771, 0.0016069010966617298, 0.0016243167477873605, 0.0015502826936052256, 0.001594675834642802, 0.0015701618155364082, 0.0016429781044922345, 0.0016126927677794375, 0.0015996637978966167, 0.001591409425238978, 0.0017525594883795583, 0.0016009395970888146, 0.0016105139484459585, 0.0017044644594763024, 0.0016214656527624915, 0.001606868749217741, 0.0016927968035908988, 0.0015947921294024521, 0.00160749028186661, 0.0016507980768806173, 0.0016880814841554073, 0.0016616006091919723, 0.001625742551936171, 0.001607315965430408, 0.0016648115340542567, 0.0016386068984493526, 0.0016217364784430813, 0.0016050717245951764, 0.0015992349518399135, 0.0015998503244531543, 0.0015634692685923192, 0.001649119716585336, 0.0016429294992086035, 0.001565963956005664, 0.0015527375382311769, 0.0015401255577900306, 0.0015957592545982324, 0.0015527783064151221, 0.0013720396093541347, 0.0015429474056115472, 0.0014500375635470592, 0.0013956426375643205, 0.0014441881145381462, 0.0015180467971147233, 0.0014984364600788057, 0.0014163363544445805, 0.0014515032587547447, 0.0015227633756247755, 0.0015226732213724182, 0.0014314342955657746, 0.0014401486061971828, 0.0014014455631811736, 0.0013863507965725462, 0.0015162680429731624, 0.001512825049395827, 0.0015235298097711657, 0.0015030290008014734, 0.0016301427552963628, 0.0015815373007470805, 0.0016328415418959575, 0.0015461045117217541, 0.0016353755001196233, 0.0015723987000738563, 0.0016256304535698326, 0.0015314777176379172, 0.001624346552108836, 0.0017795065857393005, 0.0015898721010497645, 0.0016326288806860372, 0.0015823787850984278, 0.0015916286724908311, 0.0016174381367193018, 0.0016164853019235842, 0.0016637623601438035, 0.001573563850249738, 0.0016847392128562287, 0.0016470757225035626, 0.0015751414121254101, 0.0015751287189890127, 0.0015952717226564465, 0.0016075599927466502, 0.0016477001810243828, 0.0015971455070565397, 0.0016418189889785464, 0.0016600539643002736, 0.0016262551352499903, 0.0016184665902913666, 0.001612502249603737, 0.0016023515804594038, 0.0016278530891288407, 0.0015926727649595265, 0.0014989781223516995, 0.0016324117725214104, 0.001519751535464744, 0.0015045738703211564, 0.0015974692347484215, 0.0013939260371513425, 0.0014291380474475432, 0.0015079966937845963, 0.0016092434198820597, 0.0017042097666402519, 0.0015245166427080039, 0.0015133887987336782, 0.0014494094410816192, 0.0015494000845188288, 0.0014085506429859906, 0.001539101326500501, 0.0016167861500895313, 0.0014015665877345892, 0.001398851407036162, 0.0016008662347647671, 0.0016696279921329911, 0.0015076432209493809, 0.0016201324872213286, 0.0014492126741045923, 0.0014427008570764642, 0.0015206695658112226, 0.001514519041713189, 0.001574672475890914, 0.0014924222138429327, 0.0014865204873023927, 0.0016281383428288722, 0.0016474554624537876, 0.001575468463530583, 0.0015457156712629886, 0.0016708930881010999, 0.0016412989699741097, 0.0017012069028958987, 0.0015731231185807455, 0.0016205561243961082, 0.001574855758324431, 0.0015611356815094476, 0.0015725242472022728, 0.0015789105307174606, 0.0016172301086633699, 0.0015865183328162208, 0.001651459603009094, 0.0015786832209793553, 0.0016492894299789506, 0.0016242220756890382, 0.0015941839500483764, 0.0017897340665709543, 0.0016309549710878577, 0.00162762091577908, 0.0016788502975681825, 0.0016508113388825376, 0.0016097006409881568, 0.0016154316162751007, 0.0016019260247524345, 0.0016114211406707863, 0.0016271084850280188, 0.0016811364113097427, 0.0016107205343070274, 0.0016302567327862048, 0.0016360239168170955, 0.0016140154546392073, 0.001666190689093231, 0.0015128814999874544, 0.0016226066796937036, 0.0015043382024625537, 0.0014305043496430142, 0.0014838196691661677, 0.0016398846141171344, 0.0014497729181716075, 0.0014426090783114529, 0.0016599154860503116, 0.0015486074902862045, 0.001597830729335306, 0.0015947018079365148, 0.0013542837896207127, 0.0015883251241303074, 0.0014845939805499847, 0.0015758528516755439, 0.0016284856897027663, 0.0014183819099536897, 0.001710392842714353, 0.0015477943191132548, 0.0015104896211520025, 0.0014736612381714038, 0.0015605383168086683, 0.001543006846927344, 0.001472069531231926, 0.0014836585517981021, 0.0016496412568839018, 0.001393388581782295, 0.0016885670435799588, 0.0014435910156413885, 0.001573673880936608, 0.0016510956841857653, 0.0015849438493106434, 0.0015319994909008818, 0.0016023289418897913, 0.0015762393787433966, 0.0016648255208235193, 0.0015767737573223993, 0.0016150685108086327, 0.00156043419928727, 0.0015539983908753451, 0.0017105622236816846, 0.0015755502683341173, 0.001644677679996981, 0.0016215489902785334, 0.0016666966360722503, 0.0016116485148023002, 0.0015982001596264695, 0.0016018172415493217, 0.0017353887166124064, 0.0015855591771476766, 0.0016251011693942774, 0.0016384977285265523, 0.0016161040421159391, 0.0015940240269227924, 0.0015879972017185636, 0.0015932014079167445, 0.0016020848791811432, 0.0015998019217823116, 0.0015902483412076434, 0.001508757726978561, 0.0015716158571722804, 0.0015000738040326705, 0.0015366359582722187, 0.0014732301965141798, 0.0014862718526904635, 0.0014677934414699097, 0.0016025155913052145, 0.0013719518137405883, 0.001432992923416088, 0.0014711829327417878, 0.0015144169730143633, 0.001317378142836412, 0.0014216410643982467, 0.0015147058814206364, 0.0016039487264553833, 0.0013989741867317367, 0.001475368307661501, 0.001501273739058314, 0.0015367597336741437, 0.0016460104446536798, 0.0016720374794289307, 0.001485276180556442, 0.0014788342214020842, 0.0016014043877158517, 0.0014832497040976383, 0.0015533982560912705, 0.0016024848328801819, 0.0014727613796783673, 0.0015281552347460518, 0.0016269022169393226, 0.001581807182221219, 0.001570050533944005, 0.0015536952621983413, 0.001515704111338562, 0.0016019689748460885, 0.0015836917317904654, 0.0015990862062703127, 0.0015813795831478002, 0.00165675725092, 0.0015637201364601784, 0.0016145593423192621, 0.0015821493833147432, 0.0016818741216458044, 0.0015798797406824537, 0.0015717483633289036, 0.0015884477743684175, 0.0015772854497539878, 0.0015480037533570194, 0.0015873267350060283, 0.0015864913534012234, 0.0016657556936628447, 0.0015847372534768742, 0.0016165798589723127, 0.0016213172068762296, 0.0016124778701471206, 0.0016638544196606827, 0.0016803918518670995, 0.0016177293515084045, 0.0016147436294189725, 0.0015938514237599434, 0.001589427333144056, 0.0016195268464232811, 0.0016020997341213527, 0.001610252456402632, 0.0015934265005387667, 0.0015975671794328438, 0.0015901848745750974, 0.001588457040456117], \"Term\": [\"fracture\", \"permeability\", \"drilling\", \"pore\", \"recovery\", \"wellbore\", \"fractures\", \"liquid\", \"injection\", \"foam\", \"stress\", \"temperature\", \"surfactant\", \"hydraulic\", \"horizontal\", \"unconventional\", \"acid\", \"optimization\", \"media\", \"porous\", \"fracturing\", \"fractured\", \"solution\", \"hydrate\", \"matrix\", \"uncertainty\", \"porosity\", \"core\", \"polymer\", \"viscosity\", \"fracture\", \"permeability\", \"pore\", \"fractures\", \"recovery\", \"foam\", \"injection\", \"surfactant\", \"liquid\", \"drilling\", \"temperature\", \"stress\", \"hydraulic\", \"wellbore\", \"horizontal\", \"unconventional\", \"uncertainty\", \"saturation\", \"porous\", \"fracturing\", \"core\", \"optimization\", \"media\", \"matrix\", \"solution\", \"acid\", \"fractured\", \"hydrate\", \"nanoparticles\", \"porosity\", \"polymer\", \"ad\", \"spite\", \"silicate\", \"king\", \"deemed\", \"hindered\", \"popularity\", \"heterogenous\", \"nanometers\", \"strict\", \"recording\", \"strengthen\", \"interacts\", \"arabia\", \"undertaken\", \"unusual\", \"uneconomic\", \"sheet\", \"divide\", \"attempted\", \"rigs\", \"driller\", \"optimizes\", \"governs\", \"acrylic\", \"petrochemical\", \"attain\", \"seamlessly\", \"aiding\", \"travels\", \"tolerant\", \"withstand\", \"installation\", \"leaking\", \"amenable\", \"compact\", \"intra\", \"annual\", \"motivation\", \"rotated\", \"tap\", \"drilling\", \"cuttings\", \"rotation\", \"annulus\", \"annuli\", \"drillstring\", \"wellbore\", \"bit\", \"lost\", \"ypl\", \"poro\", \"cement\", \"automation\", \"annular\", \"barite\", \"eccentric\", \"mud\", \"fracture\", \"casing\", \"mpd\", \"losses\", \"pipe\", \"loss\", \"circulation\", \"stress\", \"hole\", \"fluids\", \"operations\", \"real\", \"temperature\", \"decision\", \"fractures\", \"horizontal\", \"induced\", \"hydraulic\", \"permeability\", \"stability\", \"transient\", \"withstand\", \"deforms\", \"contributors\", \"plain\", \"tolerant\", \"deemed\", \"banking\", \"topics\", \"initiates\", \"erroneous\", \"thinking\", \"travels\", \"unintended\", \"compensate\", \"lowered\", \"ascertain\", \"paramount\", \"dividing\", \"exits\", \"unlock\", \"drawback\", \"allocate\", \"rigs\", \"radioactive\", \"category\", \"kovscek\", \"concave\", \"arabia\", \"extrapolate\", \"briefly\", \"skeleton\", \"columns\", \"soon\", \"inevitable\", \"guarantee\", \"complicates\", \"stimulating\", \"remained\", \"mol\", \"exclusively\", \"getting\", \"old\", \"submersible\", \"accumulates\", \"contributed\", \"utah\", \"suitability\", \"missing\", \"classify\", \"head\", \"esp\", \"pump\", \"deterioration\", \"fractions\", \"inducing\", \"sagd\", \"combustion\", \"steam\", \"air\", \"bitumen\", \"shock\", \"emissions\", \"drillstring\", \"huff\", \"recovery\", \"reactive\", \"gravity\", \"space\", \"injection\", \"reaction\", \"solvent\", \"isc\", \"viscous\", \"liquid\", \"heavy\", \"fraction\", \"situ\", \"permeability\", \"multiscale\", \"samples\", \"pore\", \"references\", \"contributors\", \"strict\", \"lewis\", \"impose\", \"carries\", \"coreflooding\", \"thinking\", \"overestimates\", \"arabia\", \"exacerbated\", \"workover\", \"count\", \"plain\", \"compartments\", \"dividing\", \"ignore\", \"stressed\", \"refinery\", \"aids\", \"regulators\", \"ascertain\", \"meant\", \"delaying\", \"versions\", \"ensures\", \"geoscience\", \"spectrometry\", \"tied\", \"tangential\", \"drawbacks\", \"circuit\", \"microfracture\", \"leaving\", \"ignoring\", \"operated\", \"collaboration\", \"prolific\", \"carthage\", \"october\", \"dissolving\", \"appearance\", \"shaly\", \"fundamentally\", \"choosing\", \"spent\", \"extrapolation\", \"formal\", \"fracture\", \"erosion\", \"online\", \"stratified\", \"orientation\", \"seams\", \"intervention\", \"acid\", \"faster\", \"edfm\", \"basins\", \"intervals\", \"coal\", \"fractures\", \"basin\", \"saturations\", \"resources\", \"conductivity\", \"fracturing\", \"stress\", \"project\", \"adsorption\", \"gel\", \"permeability\", \"hydraulic\", \"completion\", \"pore\", \"bottom\", \"storage\", \"hydrate\", \"local\", \"injection\", \"tolerant\", \"allocate\", \"acidic\", \"plain\", \"radioactive\", \"references\", \"scattered\", \"northeast\", \"arabia\", \"desaturation\", \"missed\", \"erroneous\", \"unusual\", \"count\", \"meant\", \"moved\", \"handled\", \"replacing\", \"travels\", \"places\", \"publicly\", \"refining\", \"pessimistic\", \"dried\", \"impair\", \"academia\", \"deviates\", \"detachment\", \"resolves\", \"voltage\", \"drastic\", \"residues\", \"cacl2\", \"island\", \"uniquely\", \"emphasizes\", \"oscillatory\", \"intractable\", \"impossible\", \"interesting\", \"subjected\", \"suspensions\", \"hoc\", \"certainly\", \"prone\", \"canadian\", \"quaternary\", \"obtaining\", \"integrate\", \"helpful\", \"separator\", \"repulsion\", \"undrained\", \"gathering\", \"stretched\", \"desired\", \"chain\", \"casings\", \"plastic\", \"geomechanics\", \"usually\", \"cementing\", \"situations\", \"convergence\", \"find\", \"temperatures\", \"perforation\", \"pipe\", \"stress\", \"coupled\", \"test\", \"failure\", \"filter\", \"obtain\", \"regression\", \"petroleum\", \"unintended\", \"ends\", \"topics\", \"incompatibility\", \"nanometers\", \"tolerant\", \"hubbert\", \"displays\", \"linkage\", \"inertial\", \"mattar\", \"divide\", \"ad\", \"withstand\", \"plain\", \"stops\", \"lacks\", \"doe\", \"missed\", \"travels\", \"challenged\", \"gupta\", \"arabia\", \"corporation\", \"stabilizing\", \"steep\", \"closest\", \"prospect\", \"intermittently\", \"internationally\", \"weakness\", \"essentially\", \"promise\", \"covering\", \"noticed\", \"mutual\", \"co2\", \"unacceptably\", \"alternate\", \"abundant\", \"except\", \"impermeable\", \"squeeze\", \"sticking\", \"endpoints\", \"delivers\", \"multiphysics\", \"proximity\", \"describing\", \"equally\", \"getting\", \"trend\", \"cake\", \"fig\", \"allocation\", \"pronounced\", \"anomalous\", \"day\", \"borehole\", \"hcl\", \"expert\", \"cfd\", \"acid\", \"loss\", \"coal\", \"detectable\", \"ends\", \"plain\", \"tolerant\", \"topics\", \"hubbert\", \"constantly\", \"routines\", \"carbonaceous\", \"references\", \"biggest\", \"comprise\", \"supplied\", \"uneconomic\", \"circuit\", \"diagnose\", \"linearity\", \"diminished\", \"nine\", \"count\", \"ignore\", \"bet\", \"cmc\", \"maintains\", \"travels\", \"colloidal\", \"implements\", \"affinity\", \"attain\", \"lumps\", \"choose\", \"computes\", \"century\", \"interested\", \"learn\", \"turned\", \"juan\", \"breakouts\", \"hydroxide\", \"baseline\", \"amongst\", \"huang\", \"slug\", \"coming\", \"holdup\", \"crushing\", \"liquid\", \"pipes\", \"wax\", \"mechanistic\", \"pipe\", \"revealing\", \"ensure\", \"overcome\", \"developments\", \"stratified\", \"adequately\", \"entrainment\", \"target\", \"viscosity\", \"esp\", \"demand\", \"shales\", \"injectors\", \"aqueous\", \"asphaltenes\", \"secure\", \"overestimates\", \"dividing\", \"diminished\", \"tolerant\", \"count\", \"travels\", \"lowers\", \"lacks\", \"references\", \"attempted\", \"benchmarked\", \"drastic\", \"rigs\", \"contributors\", \"check\", \"care\", \"corporation\", \"topics\", \"installation\", \"originated\", \"inertial\", \"drillers\", \"king\", \"plain\", \"observing\", \"missed\", \"resolves\", \"grouped\", \"hindered\", \"shed\", \"attained\", \"nine\", \"satisfied\", \"action\", \"converged\", \"noisy\", \"spectrometry\", \"loops\", \"govern\", \"revenue\", \"necessitate\", \"lewis\", \"fourth\", \"suspected\", \"overcoming\", \"shearing\", \"streams\", \"classify\", \"know\", \"parabolic\", \"separator\", \"silurian\", \"tripping\", \"proportion\", \"failed\", \"elucidated\", \"theme\", \"simplicity\", \"measures\", \"backpressure\", \"dissipation\", \"produces\", \"alleviate\", \"western\", \"strains\", \"robustness\", \"activation\", \"defining\", \"lithofacies\", \"decline\", \"erosion\", \"act\", \"basins\", \"variations\", \"boundaries\", \"basin\", \"explicit\", \"aperture\", \"kerogen\", \"surfactant\", \"liquid\", \"closure\", \"generate\", \"fracture\", \"unconventional\", \"resources\", \"seismic\", \"mature\", \"cmc\", \"radioactive\", \"publicly\", \"superimposed\", \"exacerbated\", \"irrespective\", \"workover\", \"accessed\", \"neglect\", \"travels\", \"compartments\", \"thinking\", \"dividing\", \"deemed\", \"drastic\", \"manifested\", \"suggestions\", \"unusual\", \"denser\", \"satisfied\", \"apparently\", \"deforms\", \"detectable\", \"contributors\", \"judgment\", \"lowered\", \"connect\", \"strengthen\", \"lumped\", \"agencies\", \"progressively\", \"assigning\", \"chosen\", \"disciplinary\", \"suggesting\", \"additions\", \"security\", \"dissolved\", \"maximized\", \"geosciences\", \"crew\", \"churn\", \"beneath\", \"unfortunately\", \"advective\", \"exploit\", \"seal\", \"safer\", \"meaning\", \"explains\", \"biological\", \"significance\", \"practice\", \"hydrodynamic\", \"regime\", \"diffusion\", \"fingering\", \"interference\", \"confinement\", \"variability\", \"wet\", \"condensate\", \"plain\", \"exacerbated\", \"deemed\", \"secure\", \"geoscience\", \"travels\", \"dividing\", \"strict\", \"deciding\", \"huang\", \"observing\", \"spite\", \"withstand\", \"auto\", \"suggestions\", \"maintains\", \"geologists\", \"uneconomic\", \"ad\", \"economides\", \"prospective\", \"goes\", \"hydraulics\", \"divide\", \"scattered\", \"invariant\", \"imply\", \"flooded\", \"judgment\", \"establishment\", \"pvc\", \"thomson\", \"lessons\", \"slab\", \"underestimate\", \"stepping\", \"vaporization\", \"tackle\", \"roles\", \"leaving\", \"outlines\", \"periodically\", \"alleviate\", \"analogy\", \"influential\", \"ranking\", \"diffraction\", \"eulerian\", \"emerging\", \"thorough\", \"bitumen\", \"weighted\", \"desired\", \"object\", \"strongly\", \"ideal\", \"extracted\", \"trained\", \"perpendicular\", \"review\", \"solvent\", \"insight\", \"investigate\", \"sagd\", \"temperatures\", \"versions\", \"radioactive\", \"compartments\", \"detectable\", \"tolerant\", \"overestimates\", \"circumferential\", \"allocate\", \"contributors\", \"agencies\", \"attain\", \"recommends\", \"answers\", \"travels\", \"strings\", \"ensures\", \"frontal\", \"kicks\", \"uneconomic\", \"exit\", \"perimeter\", \"blending\", \"divide\", \"ignore\", \"invariant\", \"clarkson\", \"spite\", \"suboptimal\", \"ad\", \"transducers\", \"assesses\", \"fem\", \"disregard\", \"trials\", \"deriving\", \"lognormal\", \"plt\", \"dilution\", \"table\", \"fate\", \"deformed\", \"abandoned\", \"focuses\", \"inspired\", \"synthesized\", \"replacement\", \"descriptions\", \"evaluations\", \"depths\", \"enormous\", \"naturally\", \"minimized\", \"arps\", \"magnetic\", \"mean\", \"falloff\", \"interpret\", \"ethane\", \"cases\", \"total\", \"thickness\", \"count\", \"seamlessly\", \"nanometers\", \"invaluable\", \"dried\", \"ends\", \"export\", \"money\", \"references\", \"deemed\", \"optimizes\", \"awareness\", \"plain\", \"thinking\", \"lumps\", \"lewis\", \"suggestions\", \"concave\", \"stabilizing\", \"velocimetry\", \"fayetteville\", \"externally\", \"fictitious\", \"check\", \"uplift\", \"graphical\", \"editorial\", \"delaunay\", \"linkage\", \"bulkley\", \"filling\", \"nonetheless\", \"precisely\", \"broadly\", \"readings\", \"targeting\", \"pressured\", \"fails\", \"action\", \"stone\", \"gringarten\", \"heavier\", \"associate\", \"cartesian\", \"resolutions\", \"essentially\", \"approximated\", \"symposium\", \"siltstone\", \"differs\", \"call\", \"aspects\", \"minimized\", \"severe\", \"roughness\", \"normal\", \"identify\", \"geometry\", \"maturity\", \"means\", \"throats\", \"broad\", \"connectivity\", \"trapped\", \"inversion\", \"rig\", \"regions\", \"actual\", \"latter\"], \"Total\": [4.0, 2.0, 1.0, 2.0, 1.0, 1.0, 1.0, 1.0, 1.0, 1.0, 1.0, 1.0, 1.0, 1.0, 1.0, 1.0, 1.0, 1.0, 1.0, 1.0, 1.0, 1.0, 1.0, 1.0, 1.0, 1.0, 1.0, 1.0, 1.0, 1.0, 4.175147690612996, 2.7180698318627905, 2.0302860551214232, 1.9188723996021586, 1.93243779361718, 1.769351437111007, 1.700597030119677, 1.5705080126899, 1.635075883398001, 1.8145498932533264, 1.557079047340367, 1.5349744862108905, 1.4555047578937654, 1.5904357936649873, 1.325151646779715, 1.3007323533983044, 1.1298558437314659, 1.0958152455128065, 1.176140351154531, 1.1537775291802292, 1.1034759225734627, 1.170203434403729, 1.1689267325317918, 1.1070752523969087, 1.121031643060397, 1.1922784435009899, 1.1175030222043407, 1.0928249854771597, 1.0225675840818647, 1.0705662466166697, 1.0560771311893524, 0.1692708936427836, 0.17954523450160248, 0.16797507290815256, 0.17286052273455402, 0.17063611810634824, 0.1812329892038562, 0.19604243765352442, 0.2066018270407666, 0.17270008592171643, 0.17495591496467486, 0.17688899256432697, 0.18264208781258082, 0.18333589340616516, 0.16728879631039933, 0.18939938937709389, 0.17381233825362122, 0.16931255538799692, 0.19416168270080908, 0.1769792259435387, 0.17940748390638125, 0.17424631519987235, 0.20534101415957715, 0.17523134300006876, 0.18045398642450158, 0.19025628780989012, 0.19799274428849653, 0.1805178146311664, 0.1796196839705595, 0.1850761660336766, 0.15955860483096515, 0.1609645572528686, 0.1726439749636304, 0.17888707740561116, 0.19012087166987035, 0.20046177268273807, 0.20927101220273372, 0.20048454517330774, 0.21842895106310478, 0.19792063683614733, 0.22588968385355707, 0.19043097264944742, 1.8145498932533264, 0.3755234324977278, 0.3953446123942698, 0.448234779515728, 0.30312561170236013, 0.39343526124356504, 1.5904357936649873, 0.5680838273993387, 0.44043874252227894, 0.30990414313666875, 0.2553013212701518, 0.9193328524318342, 0.2811824298247745, 0.5331087053370311, 0.294099422128028, 0.3651985235256225, 0.8198761806773253, 4.175147690612996, 0.6677911781362418, 0.33803026860616137, 0.4220302435074248, 0.942514958348966, 0.6353507219072511, 0.47704716591349294, 1.5349744862108905, 0.47860650763958223, 0.94666329457785, 0.7832307373504463, 0.5915300937226006, 1.557079047340367, 0.6486086075953525, 1.9188723996021586, 1.325151646779715, 0.7159907091934979, 1.4555047578937654, 2.7180698318627905, 0.8264119838978048, 1.0299970234472142, 0.1726439749636304, 0.17320835654967182, 0.16731773442605052, 0.15781394436568408, 0.1609645572528686, 0.17063611810634824, 0.19386683384826364, 0.16798762527145508, 0.18681530705863442, 0.17554213766937812, 0.17052412825307753, 0.15955860483096515, 0.1642056920206784, 0.18326295591415073, 0.18334894787538397, 0.17955400352216053, 0.18649237305826427, 0.1645705943078353, 0.18142308346969915, 0.18230318131762846, 0.18319848038375816, 0.16579119755615024, 0.17424631519987235, 0.16772933647648883, 0.1955031441792292, 0.1944706310975121, 0.17772090651329453, 0.16728879631039933, 0.19179284067766997, 0.18764227448493095, 0.19741614753681408, 0.1897295698405467, 0.20425890960868895, 0.19931628592303677, 0.19254988226526937, 0.19552165671750615, 0.21842654778919998, 0.1995675989577272, 0.21102022755815966, 0.20135211047026838, 0.21117080180426595, 0.20435340156823675, 0.25843940632082096, 0.21668852649325057, 0.2020364006691612, 0.2118472863341546, 0.20608830723077773, 0.19936937341279815, 0.21698100679369584, 0.30670507213509024, 0.39952060090489494, 0.48022474690171235, 0.255895969755184, 0.31309703101701986, 0.21274849606829987, 0.7125676904938812, 0.8803769754957658, 0.9187830545262783, 0.49085508944228695, 0.4946770631548233, 0.3098901434545016, 0.5534604385476557, 0.39343526124356504, 0.4338971420958762, 1.93243779361718, 0.4460787008685957, 0.6928764685188846, 0.6223102561462566, 1.700597030119677, 0.6951602663869185, 0.6668922735141728, 0.45348262323424293, 0.5981805977227703, 1.635075883398001, 0.6616425808211961, 0.5066591399338345, 0.7164655236445459, 2.7180698318627905, 0.836631522851724, 0.88402802656267, 2.0302860551214232, 0.16230769622275254, 0.16731773442605052, 0.17495591496467486, 0.1929595879107394, 0.17744327652507305, 0.18752236565701874, 0.18484858595916775, 0.17052412825307753, 0.16763970723110624, 0.16728879631039933, 0.17643723437055384, 0.17533863727139737, 0.16628347920921896, 0.15781394436568408, 0.18064952578487042, 0.1645705943078353, 0.18782350913062426, 0.18899118782126567, 0.18552832553575807, 0.18805037501110833, 0.20120069775851676, 0.17955400352216053, 0.17783113367669606, 0.18509991535578282, 0.1844275664959008, 0.17631913363269533, 0.18037072305688293, 0.19082259191121825, 0.20122219115050607, 0.18436618040810265, 0.19742701601283644, 0.18850229069703775, 0.18927491757678455, 0.20140508501256849, 0.1996379885218593, 0.20859849086462712, 0.20832167257917952, 0.19755248151418933, 0.19606779593080564, 0.21831404485901645, 0.2127726309786059, 0.21752387801495215, 0.2222114414761402, 0.20165505869611183, 0.22286135238290766, 0.23374144136264327, 0.22333302231008942, 0.22754167748201104, 4.175147690612996, 0.27800795282628943, 0.300594403528614, 0.4471206989645562, 0.339133528330913, 0.24697584404649678, 0.33279608982454817, 1.1922784435009899, 0.29524226729443087, 0.3814672298038405, 0.6763155120407758, 0.313481132633138, 0.6258184059614703, 1.9188723996021586, 0.8046286988755487, 0.39126631526637795, 0.7976353347927015, 0.8628553703277652, 1.1537775291802292, 1.5349744862108905, 0.5425553950292279, 0.741929153715074, 0.5932102935360977, 2.7180698318627905, 1.4555047578937654, 0.62604580677827, 2.0302860551214232, 0.41181172116370235, 0.9762770114041326, 1.0928249854771597, 0.6639527952044395, 1.700597030119677, 0.1609645572528686, 0.16579119755615024, 0.18950081387121206, 0.15781394436568408, 0.16772933647648883, 0.16230769622275254, 0.17628358583702258, 0.1808059792367267, 0.16728879631039933, 0.1748072017570694, 0.1790438517266819, 0.17554213766937812, 0.17381233825362122, 0.16628347920921896, 0.17783113367669606, 0.16487486028000514, 0.19136269251027735, 0.17821447206540506, 0.15955860483096515, 0.18622918305198957, 0.18212624166942512, 0.18957396860098777, 0.16900159425053385, 0.1706217350832712, 0.183701024497862, 0.20277604809639435, 0.20699929452429938, 0.2016191858493496, 0.17601304331818904, 0.1739736199685351, 0.17992985060158678, 0.1930859053157242, 0.1921034863939038, 0.19417928341667356, 0.19487152296971585, 0.20261238274791973, 0.20385345302359784, 0.19907295864553828, 0.20739929601439466, 0.19306523306670972, 0.2095371030842114, 0.2138833193599567, 0.19824002193269613, 0.2100929731092785, 0.2106623784008137, 0.23976925200973653, 0.2147039398948789, 0.21603823316857648, 0.27799782889446933, 0.22803981746715973, 0.22821920458055714, 0.21490468764023876, 0.306793239336509, 0.24195200843485418, 0.2521772466057263, 0.28305661845803787, 0.3230149347376889, 0.27132335388775125, 0.3079540858123411, 0.6636964067938272, 0.37579252952383535, 0.3844878848844432, 0.2843278596066934, 0.5637347986311141, 0.45157205957038676, 0.4558451371305825, 0.4993440496157409, 0.942514958348966, 1.5349744862108905, 0.8989456855308426, 0.8343578464906015, 0.789056361295425, 0.3844542877007614, 0.4298046843860056, 0.4322548569201331, 0.6271455337487793, 0.1642056920206784, 0.17253385904048055, 0.16798762527145508, 0.1840218567711339, 0.17270008592171643, 0.1609645572528686, 0.1722979196108873, 0.16668417591779847, 0.18070203762530243, 0.17697930352447583, 0.17820630029377085, 0.1769792259435387, 0.1692708936427836, 0.1726439749636304, 0.15781394436568408, 0.19506474970863927, 0.17761985455619334, 0.18190796250715513, 0.1790438517266819, 0.15955860483096515, 0.16916341846680133, 0.1820773556335927, 0.16728879631039933, 0.17372771398165748, 0.18092126538944067, 0.19907794370201304, 0.16988868668769436, 0.17744400159993418, 0.18605144954667058, 0.18265667052150913, 0.19226238939550747, 0.2029881080541406, 0.20043008346021776, 0.22209948645323832, 0.19063593483482608, 0.2046274543488722, 0.23383132152784472, 0.2098681278830521, 0.21067302343357802, 0.23039436005237204, 0.2126864107199017, 0.21031489008746565, 0.22846035163062534, 0.24382900685708211, 0.19912227246335282, 0.19788094312667925, 0.28274690453791235, 0.22431696813501975, 0.2785992783620061, 0.22821139958110923, 0.21117080180426595, 0.32113872028013285, 0.34629837084046755, 0.28360709866114564, 0.24602788316175725, 0.23632274377112675, 0.28532192616891183, 0.25877273850839666, 0.6237874100586817, 0.3168627458942789, 0.2675071270678575, 0.604739131089474, 1.1922784435009899, 0.6353507219072511, 0.6258184059614703, 0.1690349511022082, 0.17253385904048055, 0.15781394436568408, 0.1609645572528686, 0.16798762527145508, 0.1722979196108873, 0.17998916369194143, 0.1842958456039286, 0.17749714710239142, 0.16230769622275254, 0.19245041122189982, 0.18445321462875475, 0.19847057215955366, 0.16931255538799692, 0.18850229069703775, 0.2024741075443052, 0.17519397736483155, 0.18056969531906986, 0.1902025390109399, 0.16628347920921896, 0.18782350913062426, 0.187548805623227, 0.1712457544771067, 0.18538119323288463, 0.15955860483096515, 0.19207316193248078, 0.1884830192124762, 0.20056252708047684, 0.1805178146311664, 0.18172406833034996, 0.1917378804874885, 0.1918344417166951, 0.19782828358418866, 0.20424035626917614, 0.18870937403988033, 0.1902357447438297, 0.19497213389170812, 0.2132846905914788, 0.20087438442811917, 0.21224306069116158, 0.21497535389250064, 0.19943015293346178, 0.856137909783787, 0.2076312164184602, 0.5668704345463642, 0.23548733595355908, 1.635075883398001, 0.407453230774553, 0.32786829313512417, 0.4941826572916227, 0.942514958348966, 0.24201889329999254, 0.3159837046511992, 0.2745015950707233, 0.31301777172230655, 0.4471206989645562, 0.2272635635430806, 0.3117282701036151, 0.31050404690361355, 1.0384570918070382, 0.39952060090489494, 0.3280262392078364, 0.6176675575200564, 0.30254461213740513, 0.586835120779134, 0.44865161905362844, 0.16933139248432644, 0.16763970723110624, 0.1645705943078353, 0.18056969531906986, 0.1609645572528686, 0.16628347920921896, 0.15955860483096515, 0.18094923800276203, 0.17761985455619334, 0.16230769622275254, 0.17940748390638125, 0.18652794999957012, 0.17992985060158678, 0.17424631519987235, 0.16731773442605052, 0.17979354195690245, 0.1820941510994425, 0.17372771398165748, 0.16798762527145508, 0.17888707740561116, 0.18375366125271542, 0.17697930352447583, 0.17383941047245424, 0.17286052273455402, 0.15781394436568408, 0.1796523028517076, 0.1790438517266819, 0.17601304331818904, 0.18627757526735209, 0.1812329892038562, 0.18720995204964136, 0.18957320952340653, 0.1902025390109399, 0.1825159602031045, 0.20008940635205982, 0.1973497661613016, 0.18999797361266965, 0.19082259191121825, 0.203299449349142, 0.2118011319742766, 0.19377980996393632, 0.201299178946938, 0.1929595879107394, 0.19800127899441863, 0.19704256353489955, 0.19925445573474915, 0.20511789598618016, 0.2102867753443304, 0.21698100679369584, 0.224546263348722, 0.20366836925650694, 0.22821920458055714, 0.2092495469126451, 0.23837401576942102, 0.20449462667702156, 0.2387250496963585, 0.2102814284949354, 0.22959133204258178, 0.25672858030518847, 0.31358626433366277, 0.21713537227726115, 0.2490954250868823, 0.2750056780988816, 0.20727162181978365, 0.25210202151685146, 0.22858267675259467, 0.3392800272837566, 0.2894279204371002, 0.2712592965183593, 0.2599776937910981, 0.7184840831507019, 0.27800795282628943, 0.30961343439210726, 0.6763155120407758, 0.3572869374884089, 0.3186136679205716, 0.8046286988755487, 0.2900038475036933, 0.3613064264762195, 0.7066483924266448, 1.5705080126899, 1.635075883398001, 0.612154930782702, 0.3737756341067193, 4.175147690612996, 1.3007323533983044, 0.7976353347927015, 0.8259351863341248, 0.45256701202368604, 0.1712457544771067, 0.16772933647648883, 0.18212624166942512, 0.18505721370552583, 0.17643723437055384, 0.17655237040874264, 0.17533863727139737, 0.18302500009216477, 0.1781722532277667, 0.15955860483096515, 0.18064952578487042, 0.17052412825307753, 0.1645705943078353, 0.17063611810634824, 0.17992985060158678, 0.17782195063434092, 0.16840120377232226, 0.17381233825362122, 0.182447463840008, 0.1825159602031045, 0.17210035697492979, 0.17320835654967182, 0.1690349511022082, 0.16731773442605052, 0.1835234523775448, 0.18334894787538397, 0.18483816899502087, 0.18264208781258082, 0.19917326996319654, 0.19331377392802285, 0.2002448983669328, 0.18898519545489417, 0.20271759955210983, 0.19428904879632933, 0.20303046590807208, 0.18777684664231564, 0.20732619949773526, 0.23981439720465125, 0.20075857054426136, 0.21493824729484537, 0.20490063757259405, 0.21163690597229032, 0.22211625204837981, 0.22255949425202773, 0.25281714927875937, 0.20831395978322878, 0.27642283138992796, 0.2637597010902469, 0.21549156787691484, 0.21631944775803255, 0.2430053716784064, 0.2772186165212393, 0.3647163364940142, 0.27985008830014463, 0.4503989935624362, 0.6520504453177949, 0.4285692855173671, 0.40316245011963886, 0.3852267524715076, 0.32634168867157115, 0.7598284403305928, 0.7047488241481952, 0.15781394436568408, 0.17643723437055384, 0.17063611810634824, 0.16933139248432644, 0.18037072305688293, 0.15955860483096515, 0.1645705943078353, 0.17495591496467486, 0.18756833941679418, 0.19943015293346178, 0.1796523028517076, 0.17954523450160248, 0.1726439749636304, 0.18488118513117469, 0.16840120377232226, 0.18538119323288463, 0.19479790512087253, 0.16931255538799692, 0.1692708936427836, 0.19394734578916306, 0.20324741873453686, 0.18353727326087116, 0.19749636770654538, 0.1769792259435387, 0.17628358583702258, 0.18584966830054164, 0.1857548270995051, 0.19315718668500384, 0.1835234523775448, 0.1830203203120991, 0.2006944433773473, 0.20647383502636174, 0.1964705829791313, 0.19246744672767144, 0.21333435132039302, 0.20975823393285428, 0.22313100537264996, 0.19982406684125859, 0.21088289893615905, 0.20140508501256849, 0.1986420257217089, 0.20201053421606047, 0.20727162181978365, 0.22652128336868005, 0.211956334113653, 0.25008868955346275, 0.2132964764066994, 0.2785385418059388, 0.25540964297342206, 0.23008270435921963, 0.4946770631548233, 0.2768303876601325, 0.28305661845803787, 0.37832728075038463, 0.32965986874049724, 0.26297693654456594, 0.27685545965615654, 0.2501854626043863, 0.2777989499213124, 0.33846360244829177, 0.6668922735141728, 0.3150591423602065, 0.5589817389235504, 0.7125676904938812, 0.4558451371305825, 0.1844275664959008, 0.16772933647648883, 0.18064952578487042, 0.1690349511022082, 0.1609645572528686, 0.16763970723110624, 0.18740719189809285, 0.16579119755615024, 0.16731773442605052, 0.19331377392802285, 0.1805178146311664, 0.18636894053167505, 0.18718088413474984, 0.15955860483096515, 0.18755446677744597, 0.17631913363269533, 0.1875128862113765, 0.19391637686615268, 0.16931255538799692, 0.20444687575447143, 0.18520018065670119, 0.1810145766219494, 0.1769792259435387, 0.18782350913062426, 0.18584966830054164, 0.17754565328848215, 0.17954523450160248, 0.19982393858615308, 0.1692708936427836, 0.20514522183866082, 0.17552974868878848, 0.19232027152105372, 0.20318133774609004, 0.19649716235817438, 0.18971021203947308, 0.20446682143468894, 0.20128158106868688, 0.22985143056360066, 0.2048370707213433, 0.21859172753427866, 0.2004718478947503, 0.19887372526976113, 0.2751201221596619, 0.2107686430703025, 0.25299484804661526, 0.24275098402142317, 0.2985057672357599, 0.24358976015664507, 0.23622606625735676, 0.24103561140734237, 0.5223024062967376, 0.2316598859089439, 0.36666925644196646, 0.5488003720073401, 0.39259814293254025, 0.2698573878786164, 0.2642926568866554, 0.35303547242035505, 0.7446681476048481, 0.6043580136279224, 0.32747073117230174, 0.16628347920921896, 0.1796196839705595, 0.17270008592171643, 0.1774988574175956, 0.1706217350832712, 0.17253385904048055, 0.17124741708491953, 0.18752331918481524, 0.16230769622275254, 0.17063611810634824, 0.17523134300006876, 0.18063242376949357, 0.15781394436568408, 0.17052412825307753, 0.18172406833034996, 0.1929595879107394, 0.16840120377232226, 0.17772090651329453, 0.18092126538944067, 0.185767539438085, 0.1993024437457353, 0.2030677831124244, 0.1804534187172867, 0.17979354195690245, 0.19512705692972437, 0.1810412991260084, 0.18999644177362857, 0.19609745009672705, 0.18070203762530243, 0.18771866022002853, 0.20026631393478442, 0.19489412674347628, 0.1942562170846481, 0.19176447030307542, 0.18646708906598983, 0.20280995437859897, 0.19939093390256252, 0.20355128806553255, 0.20008940635205982, 0.2172526729216211, 0.1979230626477337, 0.2139458624689421, 0.20474032762344782, 0.23869107253251973, 0.2057852385376891, 0.2029881080541406, 0.21066890746774253, 0.21047560308630844, 0.19683202784739398, 0.22034703052516694, 0.22488150797154677, 0.31087709937584396, 0.2316598859089439, 0.273830595869473, 0.2832450826384603, 0.2976333424340951, 0.48003080577966645, 0.6728740219883377, 0.3555040093689438, 0.351425370883913, 0.26654496003034345, 0.2520398464586626, 0.5384712740097333, 0.35578562021897686, 0.5342508793964779, 0.3062951747289255, 0.4283162307008282, 0.37493796803076623, 0.3050308404113995], \"loglift\": [30.0, 29.0, 28.0, 27.0, 26.0, 25.0, 24.0, 23.0, 22.0, 21.0, 20.0, 19.0, 18.0, 17.0, 16.0, 15.0, 14.0, 13.0, 12.0, 11.0, 10.0, 9.0, 8.0, 7.0, 6.0, 5.0, 4.0, 3.0, 2.0, 1.0, 0.0458, 0.0442, 0.0425, 0.0422, 0.0421, 0.0417, 0.041, 0.0406, 0.0401, 0.0399, 0.0399, 0.0396, 0.0393, 0.0392, 0.0384, 0.0382, 0.0374, 0.0373, 0.0371, 0.0371, 0.037, 0.0369, 0.0369, 0.0369, 0.0367, 0.0365, 0.0365, 0.0361, 0.036, 0.036, 0.0357, 0.6805, 0.6306, 0.6242, 0.6216, 0.6173, 0.6137, 0.613, 0.6071, 0.6046, 0.6025, 0.6022, 0.5996, 0.5988, 0.598, 0.5979, 0.5975, 0.5945, 0.5931, 0.592, 0.5911, 0.5885, 0.5857, 0.5851, 0.585, 0.5847, 0.5826, 0.5812, 0.5809, 0.5808, 0.5796, 0.5793, 0.5768, 0.5734, 0.5643, 0.5546, 0.5303, 0.5396, 0.5073, 0.5426, 0.4836, 0.5561, -0.5149, 0.2349, 0.1853, 0.1008, 0.3086, 0.1648, -0.6691, -0.0828, 0.0561, 0.2587, 0.3744, -0.4711, 0.3084, -0.1388, 0.2679, 0.1124, -0.4749, -1.6815, -0.3366, 0.1623, -0.0095, -0.6227, -0.3281, -0.1139, -1.0527, -0.1243, -0.6897, -0.5399, -0.3292, -1.1918, -0.4322, -1.4043, -1.0935, -0.5322, -1.2069, -1.8116, -0.6824, -0.9005, 0.6999, 0.6666, 0.647, 0.6463, 0.646, 0.6446, 0.6384, 0.6361, 0.6343, 0.631, 0.6148, 0.614, 0.6127, 0.6075, 0.6061, 0.604, 0.6035, 0.6032, 0.602, 0.6008, 0.5956, 0.5937, 0.5922, 0.5886, 0.5881, 0.5869, 0.5868, 0.585, 0.5827, 0.5802, 0.5722, 0.5744, 0.5655, 0.5634, 0.5691, 0.5627, 0.5319, 0.5552, 0.5382, 0.5523, 0.5303, 0.5425, 0.416, 0.5056, 0.5415, 0.511, 0.5258, 0.5449, 0.4924, 0.2674, 0.0886, -0.0341, 0.3789, 0.2271, 0.499, -0.386, -0.5522, -0.6097, -0.1632, -0.1709, 0.1921, -0.2907, -0.0322, -0.1285, -1.4625, -0.1542, -0.5641, -0.4826, -1.4179, -0.5939, -0.5585, -0.1975, -0.4586, -1.4053, -0.5579, -0.3045, -0.6429, -1.939, -0.7972, -0.8525, -1.6818, 0.7094, 0.6893, 0.6595, 0.6593, 0.6581, 0.6495, 0.6423, 0.6364, 0.6351, 0.6331, 0.6298, 0.6272, 0.625, 0.6231, 0.6209, 0.6175, 0.6175, 0.6155, 0.6109, 0.6103, 0.6069, 0.6027, 0.5996, 0.5987, 0.5943, 0.5926, 0.5918, 0.5872, 0.587, 0.5852, 0.5849, 0.5827, 0.582, 0.5689, 0.5663, 0.5461, 0.5458, 0.5608, 0.5631, 0.5123, 0.5232, 0.5085, 0.4893, 0.5408, 0.476, 0.4433, 0.4699, 0.4534, -1.8504, 0.2892, 0.2173, -0.1073, 0.1177, 0.3756, 0.1237, -0.9571, 0.2164, -0.0099, -0.5249, 0.1601, -0.4653, -1.4874, -0.7059, -0.0444, -0.7087, -0.7831, -1.0665, -1.3429, -0.3656, -0.663, -0.4545, -1.9351, -1.3295, -0.5178, -1.6725, -0.1099, -0.9604, -1.0791, -0.5864, -1.5273, 0.7997, 0.7771, 0.6954, 0.6949, 0.6709, 0.667, 0.6652, 0.663, 0.6594, 0.6532, 0.6506, 0.6426, 0.6396, 0.6224, 0.6165, 0.6144, 0.6071, 0.607, 0.6059, 0.6018, 0.599, 0.5987, 0.5951, 0.5931, 0.5928, 0.5915, 0.591, 0.588, 0.5874, 0.5829, 0.5828, 0.5814, 0.58, 0.5773, 0.5734, 0.5631, 0.561, 0.5655, 0.5444, 0.5717, 0.5313, 0.5133, 0.555, 0.52, 0.5177, 0.4346, 0.4981, 0.4927, 0.3123, 0.4511, 0.4464, 0.4883, 0.189, 0.3861, 0.35, 0.2494, 0.128, 0.2823, 0.1692, -0.5346, -0.0226, -0.045, 0.2354, -0.4207, -0.2088, -0.2185, -0.3185, -0.9397, -1.4277, -0.9012, -0.8316, -0.7765, -0.0652, -0.1798, -0.1864, -0.5588, 0.8151, 0.7227, 0.6978, 0.6926, 0.6793, 0.6759, 0.6757, 0.6673, 0.6628, 0.6614, 0.6602, 0.6494, 0.6449, 0.6447, 0.6308, 0.6304, 0.6297, 0.6289, 0.6289, 0.6276, 0.6253, 0.6237, 0.6189, 0.6161, 0.6144, 0.6086, 0.6044, 0.6043, 0.6012, 0.6005, 0.596, 0.5852, 0.5836, 0.5465, 0.586, 0.5634, 0.508, 0.5433, 0.5409, 0.4954, 0.5343, 0.5356, 0.4867, 0.441, 0.5591, 0.5628, 0.3358, 0.4687, 0.2966, 0.4509, 0.5109, 0.1682, 0.1015, 0.2658, 0.3818, 0.4137, 0.2503, 0.3323, -0.4468, 0.1531, 0.2992, -0.4681, -1.1235, -0.538, -0.525, 0.7346, 0.715, 0.6997, 0.6929, 0.6929, 0.6918, 0.6759, 0.6558, 0.6496, 0.6491, 0.6435, 0.6402, 0.6388, 0.6381, 0.6337, 0.6285, 0.6269, 0.624, 0.6239, 0.623, 0.6221, 0.6202, 0.6174, 0.6145, 0.6098, 0.6093, 0.608, 0.6049, 0.6025, 0.6011, 0.5987, 0.5983, 0.5941, 0.5793, 0.5936, 0.591, 0.5823, 0.5498, 0.5697, 0.5468, 0.535, 0.5712, -0.3013, 0.5349, -0.2191, 0.4349, -1.0842, -0.0017, 0.1648, -0.1677, -0.7183, 0.4079, 0.1823, 0.2992, 0.1803, -0.1327, 0.4579, 0.172, 0.1658, -0.9727, -0.0796, 0.1077, -0.5029, 0.1811, -0.4728, -0.2093, 0.7404, 0.6986, 0.681, 0.6719, 0.6553, 0.6455, 0.6423, 0.6378, 0.6327, 0.6301, 0.6224, 0.6206, 0.6192, 0.6189, 0.6176, 0.6173, 0.6153, 0.6139, 0.6138, 0.612, 0.612, 0.6089, 0.605, 0.6019, 0.5995, 0.5982, 0.5958, 0.5953, 0.5944, 0.5934, 0.5911, 0.5876, 0.5867, 0.5914, 0.5696, 0.5717, 0.5809, 0.579, 0.5574, 0.544, 0.5704, 0.555, 0.5683, 0.5553, 0.5572, 0.5504, 0.5332, 0.5161, 0.497, 0.4722, 0.535, 0.4516, 0.5121, 0.4166, 0.5274, 0.4143, 0.5068, 0.4397, 0.3523, 0.1892, 0.4785, 0.3664, 0.2782, 0.5143, 0.3467, 0.4292, 0.0796, 0.2199, 0.2766, 0.3139, -0.6062, 0.2528, 0.1511, -0.5735, 0.0147, 0.1202, -0.7541, 0.2068, -0.0051, -0.6494, -1.4257, -1.4818, -0.5211, -0.0392, -2.4173, -1.2669, -0.7882, -0.8334, -0.2355, 0.7367, 0.7345, 0.7054, 0.6857, 0.6854, 0.6763, 0.6751, 0.6676, 0.6672, 0.6538, 0.647, 0.6426, 0.6399, 0.6379, 0.6348, 0.6335, 0.6316, 0.6245, 0.624, 0.6235, 0.6205, 0.6202, 0.6173, 0.6167, 0.6138, 0.6125, 0.6115, 0.6099, 0.6044, 0.604, 0.6007, 0.604, 0.59, 0.5932, 0.5824, 0.6009, 0.5607, 0.5064, 0.5715, 0.5297, 0.5463, 0.5198, 0.4876, 0.485, 0.3863, 0.5242, 0.3096, 0.3339, 0.4913, 0.4875, 0.3839, 0.2598, 0.0102, 0.2439, -0.2044, -0.5634, -0.1643, -0.108, -0.0661, 0.0934, -0.7359, -0.6825, 0.7533, 0.727, 0.6889, 0.6866, 0.6833, 0.6696, 0.6636, 0.6562, 0.6515, 0.6475, 0.6406, 0.6338, 0.6298, 0.6281, 0.6261, 0.6187, 0.6184, 0.6158, 0.6141, 0.6129, 0.6081, 0.608, 0.6067, 0.6049, 0.6043, 0.6041, 0.6006, 0.6005, 0.598, 0.5967, 0.5956, 0.579, 0.5839, 0.5855, 0.5604, 0.5594, 0.5335, 0.5655, 0.5414, 0.5588, 0.5638, 0.5543, 0.5326, 0.4678, 0.5151, 0.3898, 0.5038, 0.2807, 0.3521, 0.4378, -0.2119, 0.2757, 0.2514, -0.0077, 0.1131, 0.3139, 0.266, 0.3589, 0.2601, 0.0723, -0.5733, 0.1338, -0.4275, -0.6667, -0.2335, 0.7032, 0.7016, 0.6974, 0.6882, 0.6868, 0.6827, 0.6713, 0.6706, 0.6565, 0.6524, 0.6514, 0.6508, 0.6445, 0.6408, 0.6385, 0.6328, 0.6309, 0.6301, 0.6277, 0.6263, 0.6253, 0.6238, 0.6216, 0.6194, 0.6187, 0.6173, 0.614, 0.613, 0.6101, 0.6101, 0.6092, 0.6042, 0.5972, 0.5898, 0.591, 0.561, 0.5602, 0.4822, 0.5431, 0.5021, 0.5542, 0.5581, 0.3295, 0.5138, 0.3741, 0.4013, 0.222, 0.3917, 0.414, 0.3961, -0.2971, 0.4256, -0.009, -0.404, -0.0829, 0.2783, 0.2953, 0.0091, -0.7317, -0.5244, 0.0824, 0.7075, 0.6712, 0.6639, 0.6605, 0.6579, 0.6556, 0.6506, 0.6476, 0.6366, 0.6301, 0.6299, 0.6285, 0.6241, 0.6228, 0.6226, 0.6199, 0.6193, 0.6186, 0.6182, 0.6151, 0.6134, 0.6104, 0.61, 0.6094, 0.6071, 0.6054, 0.6033, 0.6029, 0.6002, 0.599, 0.5969, 0.596, 0.5918, 0.5943, 0.5975, 0.5689, 0.5744, 0.5634, 0.5694, 0.5337, 0.5691, 0.5232, 0.5469, 0.4546, 0.5404, 0.5489, 0.5224, 0.5162, 0.5645, 0.4768, 0.4559, 0.1808, 0.4251, 0.2777, 0.2468, 0.1918, -0.2548, -0.5826, 0.0174, 0.0271, 0.2905, 0.3437, -0.3967, 0.0069, -0.3946, 0.1512, -0.1815, -0.053, 0.1523], \"logprob\": [30.0, 29.0, 28.0, 27.0, 26.0, 25.0, 24.0, 23.0, 22.0, 21.0, 20.0, 19.0, 18.0, 17.0, 16.0, 15.0, 14.0, 13.0, 12.0, 11.0, 10.0, 9.0, 8.0, 7.0, 6.0, 5.0, 4.0, 3.0, 2.0, 1.0, -5.8687, -6.2996, -6.593, -6.6498, -6.6429, -6.7314, -6.7717, -6.8517, -6.812, -6.7079, -6.861, -6.8756, -6.9291, -6.8405, -7.0238, -7.0426, -7.1842, -7.215, -7.1444, -7.1636, -7.2083, -7.1496, -7.1507, -7.2051, -7.1927, -7.1313, -7.1962, -7.2188, -7.2854, -7.2396, -7.2534, -8.4395, -8.4304, -8.5034, -8.4773, -8.4946, -8.438, -8.3602, -8.3136, -8.4953, -8.4845, -8.4737, -8.4444, -8.4413, -8.5337, -8.4097, -8.496, -8.5252, -8.3897, -8.4834, -8.4708, -8.5025, -8.3411, -8.5002, -8.471, -8.4184, -8.3807, -8.4745, -8.4797, -8.4499, -8.5995, -8.5909, -8.5234, -8.4913, -8.4395, -8.3963, -8.3775, -8.4112, -8.3577, -8.421, -8.3478, -8.4461, -7.2628, -8.0882, -8.0865, -8.0454, -8.2287, -8.1117, -7.5488, -7.992, -8.1076, -8.2565, -8.3346, -7.899, -8.3041, -8.1115, -8.2997, -8.2386, -8.0172, -7.596, -8.0841, -8.266, -8.2159, -8.0256, -8.1253, -8.1978, -7.9679, -8.2049, -8.0882, -8.128, -8.1979, -8.0927, -8.2089, -8.0963, -8.1557, -8.21, -8.1752, -8.1554, -8.2168, -8.2147, -8.4003, -8.4304, -8.4846, -8.5437, -8.5242, -8.4673, -8.3459, -8.4915, -8.3871, -8.4525, -8.4978, -8.5651, -8.5376, -8.4331, -8.434, -8.457, -8.4196, -8.545, -8.4486, -8.445, -8.4453, -8.547, -8.4988, -8.5405, -8.3878, -8.3943, -8.4844, -8.5468, -8.4123, -8.4367, -8.394, -8.4315, -8.3666, -8.3932, -8.422, -8.4131, -8.3331, -8.4001, -8.3613, -8.3941, -8.3685, -8.3891, -8.2808, -8.3674, -8.4015, -8.3846, -8.3973, -8.4114, -8.3792, -8.2581, -8.1726, -8.1113, -8.3278, -8.2779, -8.3924, -8.0686, -8.0233, -8.0381, -8.2185, -8.2185, -8.3232, -8.226, -8.3088, -8.3072, -8.1474, -8.3052, -8.2747, -8.3006, -8.2306, -8.3012, -8.3073, -8.332, -8.3161, -8.2573, -8.3147, -8.3281, -8.32, -8.2828, -8.3193, -8.3195, -8.3174, -8.4526, -8.4423, -8.4274, -8.3297, -8.4147, -8.3681, -8.3897, -8.4762, -8.4946, -8.4986, -8.4487, -8.4575, -8.5128, -8.567, -8.434, -8.5306, -8.3985, -8.3942, -8.4173, -8.4045, -8.3402, -8.4583, -8.471, -8.4319, -8.44, -8.4866, -8.4646, -8.4129, -8.36, -8.4493, -8.3812, -8.4296, -8.4262, -8.3773, -8.3887, -8.3649, -8.3666, -8.4047, -8.41, -8.3532, -8.368, -8.3607, -8.3586, -8.4041, -8.3689, -8.354, -8.3729, -8.3707, -7.7649, -8.3346, -8.3284, -8.256, -8.3074, -8.3665, -8.3202, -8.1249, -8.3473, -8.3173, -8.2597, -8.3436, -8.2778, -8.1794, -8.267, -8.3264, -8.2785, -8.2743, -8.2672, -8.2581, -8.3208, -8.3052, -8.3204, -8.2789, -8.2979, -8.3298, -8.308, -8.3408, -8.3281, -8.334, -8.3396, -8.34, -8.3706, -8.3636, -8.3117, -8.4951, -8.4582, -8.495, -8.4142, -8.391, -8.4723, -8.4346, -8.4133, -8.4409, -8.4539, -8.5154, -8.4541, -8.5319, -8.3902, -8.4615, -8.5731, -8.4226, -8.4478, -8.408, -8.5264, -8.5189, -8.4453, -8.3479, -8.3278, -8.3571, -8.4935, -8.5097, -8.4761, -8.4069, -8.4134, -8.4054, -8.4057, -8.3771, -8.3731, -8.3923, -8.3725, -8.4168, -8.3753, -8.3727, -8.407, -8.3839, -8.3835, -8.3372, -8.3841, -8.3833, -8.3115, -8.3708, -8.3747, -8.3929, -8.3363, -8.3766, -8.3713, -8.3564, -8.3458, -8.3659, -8.3524, -8.2882, -8.345, -8.3446, -8.3659, -8.3376, -8.3475, -8.3478, -8.3567, -8.3426, -8.3429, -8.3514, -8.3564, -8.3571, -8.3648, -8.3679, -8.3689, -8.3691, -8.3353, -8.3782, -8.4298, -8.3438, -8.4206, -8.4943, -8.4266, -8.4681, -8.3918, -8.414, -8.4083, -8.426, -8.4751, -8.4555, -8.5593, -8.3478, -8.4422, -8.4191, -8.435, -8.5514, -8.4953, -8.4233, -8.5128, -8.4778, -8.439, -8.3491, -8.5119, -8.4686, -8.4243, -8.4434, -8.3966, -8.3531, -8.3674, -8.3018, -8.4151, -8.3669, -8.2889, -8.3617, -8.3602, -8.3163, -8.3574, -8.3673, -8.3334, -8.314, -8.3984, -8.401, -8.2711, -8.3697, -8.3251, -8.3703, -8.3879, -8.3114, -8.3027, -8.338, -8.3642, -8.3726, -8.3475, -8.3632, -8.2624, -8.3399, -8.3631, -8.3147, -8.2914, -8.3353, -8.3374, -8.3868, -8.3859, -8.4904, -8.4773, -8.4347, -8.4105, -8.3827, -8.3791, -8.4229, -8.5129, -8.3481, -8.3938, -8.322, -8.4816, -8.3786, -8.3124, -8.4586, -8.4313, -8.3795, -8.5147, -8.3939, -8.3972, -8.491, -8.4146, -8.5693, -8.3843, -8.4045, -8.3454, -8.4531, -8.4479, -8.3966, -8.3965, -8.3699, -8.3529, -8.4177, -8.4122, -8.3963, -8.3391, -8.3791, -8.347, -8.346, -8.3848, -7.8003, -8.3808, -8.1304, -8.3549, -7.9363, -8.2433, -8.294, -8.2163, -8.1212, -8.3546, -8.3135, -8.3373, -8.3249, -8.2814, -8.3675, -8.3373, -8.3475, -8.2787, -8.3408, -8.3507, -8.3285, -8.3581, -8.3495, -8.3545, -8.3792, -8.4311, -8.4672, -8.3834, -8.515, -8.4923, -8.5368, -8.4154, -8.4392, -8.5319, -8.4394, -8.4023, -8.4397, -8.4721, -8.514, -8.4423, -8.4316, -8.4801, -8.5138, -8.4527, -8.4259, -8.4665, -8.4883, -8.4971, -8.5905, -8.4622, -8.4681, -8.4856, -8.4299, -8.4583, -8.4281, -8.4191, -8.4167, -8.4532, -8.3831, -8.3948, -8.4235, -8.4212, -8.3794, -8.3519, -8.4144, -8.3917, -8.4207, -8.4079, -8.4108, -8.4065, -8.3947, -8.3869, -8.3747, -8.3652, -8.3999, -8.3695, -8.3958, -8.361, -8.4035, -8.3619, -8.3962, -8.3754, -8.3511, -8.3142, -8.3925, -8.3673, -8.3565, -8.4031, -8.3749, -8.3904, -8.3451, -8.3637, -8.3718, -8.3769, -8.2805, -8.371, -8.365, -8.3083, -8.3582, -8.3673, -8.3152, -8.3748, -8.3669, -8.3403, -8.318, -8.3338, -8.3556, -8.367, -8.3318, -8.3477, -8.3581, -8.3684, -8.372, -8.3717, -8.3947, -8.3413, -8.3451, -8.3931, -8.4015, -8.4097, -8.3742, -8.4015, -8.5253, -8.4079, -8.47, -8.5082, -8.474, -8.4241, -8.4371, -8.4935, -8.469, -8.421, -8.4211, -8.4829, -8.4768, -8.5041, -8.5149, -8.4253, -8.4276, -8.4205, -8.4341, -8.3529, -8.3832, -8.3512, -8.4058, -8.3497, -8.389, -8.3557, -8.4153, -8.3565, -8.2652, -8.3779, -8.3514, -8.3826, -8.3768, -8.3607, -8.3613, -8.3325, -8.3882, -8.32, -8.3426, -8.3872, -8.3872, -8.3745, -8.3668, -8.3422, -8.3733, -8.3458, -8.3347, -8.3553, -8.3601, -8.3638, -8.3701, -8.3543, -8.3761, -8.4368, -8.3515, -8.423, -8.4331, -8.3731, -8.5094, -8.4845, -8.4308, -8.3658, -8.3085, -8.4199, -8.4272, -8.4704, -8.4037, -8.499, -8.4104, -8.3611, -8.504, -8.5059, -8.371, -8.329, -8.431, -8.3591, -8.4705, -8.475, -8.4224, -8.4265, -8.3875, -8.4412, -8.4451, -8.3541, -8.3423, -8.387, -8.4061, -8.3282, -8.3461, -8.3102, -8.3885, -8.3588, -8.3874, -8.3961, -8.3889, -8.3848, -8.3608, -8.38, -8.3399, -8.385, -8.3412, -8.3565, -8.3752, -8.2595, -8.3524, -8.3544, -8.3235, -8.3403, -8.3655, -8.362, -8.3704, -8.3644, -8.3548, -8.3221, -8.3649, -8.3528, -8.3493, -8.3628, -8.331, -8.4275, -8.3575, -8.4332, -8.4835, -8.4469, -8.3469, -8.4702, -8.4751, -8.3348, -8.4042, -8.3729, -8.3749, -8.5383, -8.3789, -8.4464, -8.3868, -8.3539, -8.492, -8.3048, -8.4047, -8.4291, -8.4538, -8.3965, -8.4078, -8.4549, -8.4471, -8.341, -8.5098, -8.3177, -8.4744, -8.3881, -8.3401, -8.381, -8.415, -8.3701, -8.3865, -8.3318, -8.3862, -8.3622, -8.3966, -8.4007, -8.3047, -8.387, -8.344, -8.3582, -8.3307, -8.3643, -8.3727, -8.3704, -8.2903, -8.3806, -8.356, -8.3478, -8.3615, -8.3753, -8.3791, -8.3758, -8.3703, -8.3717, -8.3777, -8.4303, -8.3895, -8.436, -8.412, -8.4541, -8.4453, -8.4578, -8.37, -8.5253, -8.4818, -8.4555, -8.4265, -8.5659, -8.4897, -8.4263, -8.3691, -8.5058, -8.4527, -8.4352, -8.4119, -8.3432, -8.3275, -8.446, -8.4503, -8.3707, -8.4473, -8.4011, -8.37, -8.4544, -8.4175, -8.3549, -8.383, -8.3905, -8.4009, -8.4257, -8.3703, -8.3818, -8.3721, -8.3833, -8.3367, -8.3945, -8.3625, -8.3828, -8.3217, -8.3842, -8.3894, -8.3788, -8.3859, -8.4046, -8.3795, -8.38, -8.3313, -8.3811, -8.3612, -8.3583, -8.3638, -8.3324, -8.3225, -8.3605, -8.3624, -8.3754, -8.3782, -8.3594, -8.3702, -8.3652, -8.3757, -8.3731, -8.3777, -8.3788]}, \"token.table\": {\"Topic\": [1, 1, 1, 1, 1, 1, 1, 1, 1, 1, 1, 1, 1, 1, 1, 1, 1, 1, 1, 1, 1, 1, 1, 1, 1, 1, 1, 1, 1, 1, 1, 1, 1, 1, 1, 1, 1, 1, 1, 1, 1, 1, 1, 1, 1, 1, 1, 1, 1, 1, 1, 1, 1, 1, 1, 1, 1, 1, 1, 1, 1, 1, 1, 1, 1, 1, 1, 1, 1, 1, 1, 1, 1, 1, 1, 1, 1, 1, 1, 1, 1, 1, 1, 1, 1, 1, 1, 1, 1, 1, 1, 1, 1, 1, 1, 1, 1], \"Freq\": [0.8387302525269298, 1.3478375866384056, 1.8757900405467969, 1.7040561557943428, 1.2428092627040006, 1.478599828329398, 1.760303588605846, 1.6031102646107058, 1.3428800509547798, 1.497474109782237, 1.0877453115645588, 1.6536055773312366, 1.6335733810416242, 1.5979076206038703, 1.135877047939459, 1.597327207007674, 1.4189452550114778, 1.1589427781160346, 1.857109280042902, 1.77388375248121, 0.9062272946271975, 1.112414260500603, 1.541761839558981, 1.391819280971114, 1.5336236746416487, 1.1022017126319839, 1.8068138756658305, 1.2673365922280386, 1.0563417909278237, 1.1303576881626158, 0.9580499413214096, 0.894852166061655, 1.042278788529483, 0.8667182144815303, 1.6857428316677525, 1.5067129937176882, 1.4861622938644703, 1.4432587126788021, 1.5113900298841898, 1.764071539204979, 0.7546306133566868, 0.9150596054164798, 0.6870468781201937, 1.396666167814404, 1.1760575636541322, 1.8717797921636752, 1.788967206559794, 1.4151309345882468, 1.2231848199262878, 1.5061311695993196, 1.5739338376733294, 1.8221561992429283, 0.9032809629109837, 0.8554856110049673, 1.2196963682660824, 1.1952693302679078, 0.9779304718503008, 1.914599641786575, 1.2767629669168143, 0.8545522689476165, 1.1037244020857229, 1.5945262242760034, 1.0609911186467877, 0.9469005345033857, 0.9850828630551708, 0.9340851191230047, 0.8502386632839977, 1.8431297691660207, 1.4385172000659356, 1.6905310661488548, 1.034962163649447, 1.253705742938145, 1.4033754453656173, 1.1311858560505814, 0.9125625912715167, 1.2107487567377457, 1.6189938872862506, 1.3957405722932201, 1.1680361172799187, 0.8920354801671943, 1.4994925563172656, 1.6069155057682, 1.210050216459181, 1.0883962161400516, 1.0242994440294644, 1.302953252947567, 1.2734732862486222, 1.284456305167154, 1.1985265125822298, 1.654648366449324, 0.9708765921023542, 0.885068662120113, 0.7687976680117101, 0.9629670863529679, 1.6717359336075537, 1.2575169698559263, 1.3160865623362443], \"Term\": [\"acid\", \"adsorption\", \"annular\", \"aqueous\", \"basin\", \"basins\", \"bit\", \"borehole\", \"cases\", \"casing\", \"cement\", \"cfd\", \"closure\", \"coal\", \"combustion\", \"completion\", \"condensate\", \"conductivity\", \"connectivity\", \"convergence\", \"core\", \"coupled\", \"decision\", \"decline\", \"diffusion\", \"drilling\", \"emissions\", \"failure\", \"fluids\", \"foam\", \"fracture\", \"fractured\", \"fractures\", \"fracturing\", \"gel\", \"geomechanics\", \"geometry\", \"gravity\", \"heavy\", \"holdup\", \"horizontal\", \"hydrate\", \"hydraulic\", \"induced\", \"injection\", \"inversion\", \"investigate\", \"kerogen\", \"liquid\", \"local\", \"loss\", \"magnetic\", \"matrix\", \"media\", \"mud\", \"multiscale\", \"nanoparticles\", \"naturally\", \"operations\", \"optimization\", \"permeability\", \"petroleum\", \"pipe\", \"polymer\", \"pore\", \"porosity\", \"porous\", \"project\", \"reaction\", \"real\", \"recovery\", \"resources\", \"sagd\", \"samples\", \"saturation\", \"seismic\", \"shales\", \"situ\", \"slug\", \"solution\", \"solvent\", \"space\", \"stability\", \"steam\", \"storage\", \"stress\", \"surfactant\", \"temperature\", \"test\", \"total\", \"transient\", \"uncertainty\", \"unconventional\", \"viscosity\", \"viscous\", \"wellbore\", \"wet\"]}, \"R\": 30, \"lambda.step\": 0.01, \"plot.opts\": {\"xlab\": \"PC1\", \"ylab\": \"PC2\"}, \"topic.order\": [2, 5, 4, 7, 10, 6, 9, 11, 1, 3, 8, 12]};\n",
       "\n",
       "function LDAvis_load_lib(url, callback){\n",
       "  var s = document.createElement('script');\n",
       "  s.src = url;\n",
       "  s.async = true;\n",
       "  s.onreadystatechange = s.onload = callback;\n",
       "  s.onerror = function(){console.warn(\"failed to load library \" + url);};\n",
       "  document.getElementsByTagName(\"head\")[0].appendChild(s);\n",
       "}\n",
       "\n",
       "if(typeof(LDAvis) !== \"undefined\"){\n",
       "   // already loaded: just create the visualization\n",
       "   !function(LDAvis){\n",
       "       new LDAvis(\"#\" + \"ldavis_el9630545941983529314681129\", ldavis_el9630545941983529314681129_data);\n",
       "   }(LDAvis);\n",
       "}else if(typeof define === \"function\" && define.amd){\n",
       "   // require.js is available: use it to load d3/LDAvis\n",
       "   require.config({paths: {d3: \"https://cdnjs.cloudflare.com/ajax/libs/d3/3.5.5/d3.min\"}});\n",
       "   require([\"d3\"], function(d3){\n",
       "      window.d3 = d3;\n",
       "      LDAvis_load_lib(\"https://cdn.rawgit.com/bmabey/pyLDAvis/files/ldavis.v1.0.0.js\", function(){\n",
       "        new LDAvis(\"#\" + \"ldavis_el9630545941983529314681129\", ldavis_el9630545941983529314681129_data);\n",
       "      });\n",
       "    });\n",
       "}else{\n",
       "    // require.js not available: dynamically load d3 & LDAvis\n",
       "    LDAvis_load_lib(\"https://cdnjs.cloudflare.com/ajax/libs/d3/3.5.5/d3.min.js\", function(){\n",
       "         LDAvis_load_lib(\"https://cdn.rawgit.com/bmabey/pyLDAvis/files/ldavis.v1.0.0.js\", function(){\n",
       "                 new LDAvis(\"#\" + \"ldavis_el9630545941983529314681129\", ldavis_el9630545941983529314681129_data);\n",
       "            })\n",
       "         });\n",
       "}\n",
       "</script>"
      ],
      "text/plain": [
       "PreparedData(topic_coordinates=            Freq  cluster  topics           x           y\n",
       "topic                                                    \n",
       "1      95.080741        1       1  416.565002  113.900078\n",
       "4       0.447207        1       2 -364.228027  -22.419765\n",
       "3       0.447206        1       3  -71.637283  412.075378\n",
       "6       0.447205        1       4  408.879761 -197.117264\n",
       "9       0.447205        1       5  178.924011  273.570801\n",
       "5       0.447205        1       6 -358.915436 -308.662964\n",
       "8       0.447205        1       7  163.602966 -344.717163\n",
       "10      0.447205        1       8  -90.095062 -166.857452\n",
       "0       0.447205        1       9  151.682907  -35.102383\n",
       "2       0.447205        1      10 -344.832367  263.208862\n",
       "7       0.447205        1      11  -93.398567 -470.807495\n",
       "11      0.447205        1      12  -83.290802  108.385071, topic_info=     Category      Freq            Term     Total  loglift  logprob\n",
       "term                                                               \n",
       "2017  Default  4.000000        fracture  4.000000  30.0000  30.0000\n",
       "3447  Default  2.000000    permeability  2.000000  29.0000  29.0000\n",
       "1498  Default  1.000000        drilling  1.000000  28.0000  28.0000\n",
       "3548  Default  2.000000            pore  2.000000  27.0000  27.0000\n",
       "3888  Default  1.000000        recovery  1.000000  26.0000  26.0000\n",
       "5155  Default  1.000000        wellbore  1.000000  25.0000  25.0000\n",
       "2019  Default  1.000000       fractures  1.000000  24.0000  24.0000\n",
       "2788  Default  1.000000          liquid  1.000000  23.0000  23.0000\n",
       "2500  Default  1.000000       injection  1.000000  22.0000  22.0000\n",
       "1966  Default  1.000000            foam  1.000000  21.0000  21.0000\n",
       "4562  Default  1.000000          stress  1.000000  20.0000  20.0000\n",
       "4718  Default  1.000000     temperature  1.000000  19.0000  19.0000\n",
       "4650  Default  1.000000      surfactant  1.000000  18.0000  18.0000\n",
       "2298  Default  1.000000       hydraulic  1.000000  17.0000  17.0000\n",
       "2275  Default  1.000000      horizontal  1.000000  16.0000  16.0000\n",
       "4939  Default  1.000000  unconventional  1.000000  15.0000  15.0000\n",
       "52    Default  1.000000            acid  1.000000  14.0000  14.0000\n",
       "3296  Default  1.000000    optimization  1.000000  13.0000  13.0000\n",
       "2939  Default  1.000000           media  1.000000  12.0000  12.0000\n",
       "3558  Default  1.000000          porous  1.000000  11.0000  11.0000\n",
       "2020  Default  1.000000      fracturing  1.000000  10.0000  10.0000\n",
       "2018  Default  1.000000       fractured  1.000000   9.0000   9.0000\n",
       "4405  Default  1.000000        solution  1.000000   8.0000   8.0000\n",
       "2294  Default  1.000000         hydrate  1.000000   7.0000   7.0000\n",
       "2902  Default  1.000000          matrix  1.000000   6.0000   6.0000\n",
       "4933  Default  1.000000     uncertainty  1.000000   5.0000   5.0000\n",
       "3557  Default  1.000000        porosity  1.000000   4.0000   4.0000\n",
       "1055  Default  1.000000            core  1.000000   3.0000   3.0000\n",
       "3538  Default  1.000000         polymer  1.000000   2.0000   2.0000\n",
       "5100  Default  1.000000       viscosity  1.000000   1.0000   1.0000\n",
       "...       ...       ...             ...       ...      ...      ...\n",
       "4534  Topic12  0.001657           stone  0.217253   0.5337  -8.3367\n",
       "2167  Topic12  0.001564      gringarten  0.197923   0.5691  -8.3945\n",
       "2218  Topic12  0.001615         heavier  0.213946   0.5232  -8.3625\n",
       "330   Topic12  0.001582       associate  0.204740   0.5469  -8.3828\n",
       "628   Topic12  0.001682       cartesian  0.238691   0.4546  -8.3217\n",
       "4020  Topic12  0.001580     resolutions  0.205785   0.5404  -8.3842\n",
       "1688  Topic12  0.001572     essentially  0.202988   0.5489  -8.3894\n",
       "268   Topic12  0.001588    approximated  0.210669   0.5224  -8.3788\n",
       "4676  Topic12  0.001577       symposium  0.210476   0.5162  -8.3859\n",
       "4320  Topic12  0.001548       siltstone  0.196832   0.5645  -8.4046\n",
       "1350  Topic12  0.001587         differs  0.220347   0.4768  -8.3795\n",
       "587   Topic12  0.001586            call  0.224882   0.4559  -8.3800\n",
       "310   Topic12  0.001666         aspects  0.310877   0.1808  -8.3313\n",
       "3012  Topic12  0.001585       minimized  0.231660   0.4251  -8.3811\n",
       "4272  Topic12  0.001617          severe  0.273831   0.2777  -8.3612\n",
       "4107  Topic12  0.001621       roughness  0.283245   0.2468  -8.3583\n",
       "3202  Topic12  0.001612          normal  0.297633   0.1918  -8.3638\n",
       "2332  Topic12  0.001664        identify  0.480031  -0.2548  -8.3324\n",
       "2104  Topic12  0.001680        geometry  0.672874  -0.5826  -8.3225\n",
       "2909  Topic12  0.001618        maturity  0.355504   0.0174  -8.3605\n",
       "2923  Topic12  0.001615           means  0.351425   0.0271  -8.3624\n",
       "4785  Topic12  0.001594         throats  0.266545   0.2905  -8.3754\n",
       "537   Topic12  0.001589           broad  0.252040   0.3437  -8.3782\n",
       "943   Topic12  0.001620    connectivity  0.538471  -0.3967  -8.3594\n",
       "4864  Topic12  0.001602         trapped  0.355786   0.0069  -8.3702\n",
       "2604  Topic12  0.001610       inversion  0.534251  -0.3946  -8.3652\n",
       "4076  Topic12  0.001593             rig  0.306295   0.1512  -8.3757\n",
       "3924  Topic12  0.001598         regions  0.428316  -0.1815  -8.3731\n",
       "74    Topic12  0.001590          actual  0.374938  -0.0530  -8.3777\n",
       "2716  Topic12  0.001588          latter  0.305031   0.1523  -8.3788\n",
       "\n",
       "[854 rows x 6 columns], token_table=      Topic      Freq            Term\n",
       "term                                 \n",
       "52        1  0.838730            acid\n",
       "110       1  1.347838      adsorption\n",
       "233       1  1.875790         annular\n",
       "273       1  1.704056         aqueous\n",
       "415       1  1.242809           basin\n",
       "416       1  1.478600          basins\n",
       "479       1  1.760304             bit\n",
       "505       1  1.603110        borehole\n",
       "631       1  1.342880           cases\n",
       "632       1  1.497474          casing\n",
       "653       1  1.087745          cement\n",
       "669       1  1.653606             cfd\n",
       "753       1  1.633573         closure\n",
       "764       1  1.597908            coal\n",
       "804       1  1.135877      combustion\n",
       "845       1  1.597327      completion\n",
       "906       1  1.418945      condensate\n",
       "921       1  1.158943    conductivity\n",
       "943       1  1.857109    connectivity\n",
       "1043      1  1.773884     convergence\n",
       "1055      1  0.906227            core\n",
       "1095      1  1.112414         coupled\n",
       "1178      1  1.541762        decision\n",
       "1180      1  1.391819         decline\n",
       "1356      1  1.533624       diffusion\n",
       "1498      1  1.102202        drilling\n",
       "1597      1  1.806814       emissions\n",
       "1856      1  1.267337         failure\n",
       "1959      1  1.056342          fluids\n",
       "1966      1  1.130358            foam\n",
       "...     ...       ...             ...\n",
       "3699      1  1.843130         project\n",
       "3842      1  1.438517        reaction\n",
       "3851      1  1.690531            real\n",
       "3888      1  1.034962        recovery\n",
       "4027      1  1.253706       resources\n",
       "4123      1  1.403375            sagd\n",
       "4132      1  1.131186         samples\n",
       "4147      1  0.912563      saturation\n",
       "4223      1  1.210749         seismic\n",
       "4277      1  1.618994          shales\n",
       "4352      1  1.395741            situ\n",
       "4378      1  1.168036            slug\n",
       "4405      1  0.892035        solution\n",
       "4409      1  1.499493         solvent\n",
       "4430      1  1.606916           space\n",
       "4478      1  1.210050       stability\n",
       "4515      1  1.088396           steam\n",
       "4537      1  1.024299         storage\n",
       "4562      1  1.302953          stress\n",
       "4650      1  1.273473      surfactant\n",
       "4718      1  1.284456     temperature\n",
       "4739      1  1.198527            test\n",
       "4821      1  1.654648           total\n",
       "4849      1  0.970877       transient\n",
       "4933      1  0.885069     uncertainty\n",
       "4939      1  0.768798  unconventional\n",
       "5100      1  0.962967       viscosity\n",
       "5101      1  1.671736         viscous\n",
       "5155      1  1.257517        wellbore\n",
       "5160      1  1.316087             wet\n",
       "\n",
       "[97 rows x 3 columns], R=30, lambda_step=0.01, plot_opts={'xlab': 'PC1', 'ylab': 'PC2'}, topic_order=[2, 5, 4, 7, 10, 6, 9, 11, 1, 3, 8, 12])"
      ]
     },
     "execution_count": 14,
     "metadata": {},
     "output_type": "execute_result"
    }
   ],
   "source": [
    "pyLDAvis.enable_notebook()\n",
    "vis = model.visualize_lda_model(matrix, vectorizer, mds='tsne')\n",
    "vis"
   ]
  },
  {
   "cell_type": "code",
   "execution_count": null,
   "metadata": {},
   "outputs": [],
   "source": []
  }
 ],
 "metadata": {
  "kernelspec": {
   "display_name": "Python 3",
   "language": "python",
   "name": "python3"
  },
  "language_info": {
   "codemirror_mode": {
    "name": "ipython",
    "version": 3
   },
   "file_extension": ".py",
   "mimetype": "text/x-python",
   "name": "python",
   "nbconvert_exporter": "python",
   "pygments_lexer": "ipython3",
   "version": "3.6.5"
  }
 },
 "nbformat": 4,
 "nbformat_minor": 2
}
