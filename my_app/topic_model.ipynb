{
 "cells": [
  {
   "cell_type": "markdown",
   "metadata": {},
   "source": [
    "# Topic Modeling using sklearn"
   ]
  },
  {
   "cell_type": "code",
   "execution_count": 1,
   "metadata": {
    "ExecuteTime": {
     "end_time": "2018-08-28T21:24:24.952785Z",
     "start_time": "2018-08-28T21:24:23.619536Z"
    }
   },
   "outputs": [],
   "source": [
    "# Source: http://scikit-learn.org/stable/auto_examples/applications/plot_topics_extraction_with_nmf_lda.html#sphx-glr-auto-examples-applications-plot-topics-extraction-with-nmf-lda-py\n",
    "from sklearn.feature_extraction.text import TfidfVectorizer, CountVectorizer\n",
    "from sklearn.decomposition import NMF, LatentDirichletAllocation, TruncatedSVD\n",
    "from topic_model import get_corpus, vectorize_corpus\n",
    "from time import time\n",
    "import pandas as pd"
   ]
  },
  {
   "cell_type": "code",
   "execution_count": 2,
   "metadata": {
    "ExecuteTime": {
     "end_time": "2018-08-28T21:24:33.812895Z",
     "start_time": "2018-08-28T21:24:24.954938Z"
    }
   },
   "outputs": [
    {
     "name": "stdout",
     "output_type": "stream",
     "text": [
      "0 faculties have missing papers in ../data/pge_database.json\n",
      "Running nlp-pipeline on faculties with non-missing papers...\n"
     ]
    }
   ],
   "source": [
    "corpus = get_corpus('../data/pge_database.json')\n",
    "vectorizer, data_vectorized = vectorize_corpus(corpus, tf_idf=False, stem_lem='lem', ngram_range=(1,1),\n",
    "                                    max_df=0.8, min_df=5, max_features=None)"
   ]
  },
  {
   "cell_type": "code",
   "execution_count": 3,
   "metadata": {
    "ExecuteTime": {
     "end_time": "2018-08-28T21:24:35.698753Z",
     "start_time": "2018-08-28T21:24:33.815498Z"
    }
   },
   "outputs": [],
   "source": [
    "NUM_TOPICS = 12\n",
    "\n",
    "# Build a Latent Dirichlet Allocation Model\n",
    "lda_model = LatentDirichletAllocation(n_components=NUM_TOPICS, max_iter=10, learning_method='online')\n",
    "lda_Z = lda_model.fit_transform(data_vectorized)\n",
    " \n",
    "# Build a Non-Negative Matrix Factorization Model\n",
    "nmf_model = NMF(n_components=NUM_TOPICS)\n",
    "nmf_Z = nmf_model.fit_transform(data_vectorized)\n",
    "\n",
    "# Build a Latent Semantic Indexing Model\n",
    "lsi_model = TruncatedSVD(n_components=NUM_TOPICS)\n",
    "lsi_Z = lsi_model.fit_transform(data_vectorized)"
   ]
  },
  {
   "cell_type": "code",
   "execution_count": 4,
   "metadata": {
    "ExecuteTime": {
     "end_time": "2018-08-28T21:24:36.964511Z",
     "start_time": "2018-08-28T21:24:35.701327Z"
    },
    "scrolled": true
   },
   "outputs": [
    {
     "name": "stdout",
     "output_type": "stream",
     "text": [
      "LDA Model:\n",
      "Topic 0:\n",
      "[('fracture', 6.7153137609373204), ('permeability', 4.0932162327593637), ('drilling', 3.4545693312910117), ('recovery', 3.1793257561466328), ('pore', 3.1051685785184358), ('wells', 3.0661453406493031), ('fractures', 3.0107315510561921), ('foam', 2.8910909084000793), ('wellbore', 2.8322879954599474), ('injection', 2.7901308147195154)]\n",
      "Topic 1:\n",
      "[('vibrations', 0.34589383127904855), ('blocks', 0.3435578246546574), ('entrance', 0.3435521342626297), ('allowing', 0.3340677682738275), ('noted', 0.33099649622087596), ('inverted', 0.32848968083888885), ('differences', 0.32789144582529256), ('takes', 0.32551033421210424), ('suggestions', 0.32543373889946053), ('mitigating', 0.32475624971327888)]\n",
      "Topic 2:\n",
      "[('battery', 0.47977405891154123), ('multiscale', 0.46459274766555181), ('fracture', 0.4481020153878012), ('hybrid', 0.44354969611585648), ('reserves', 0.43237976894221625), ('pore', 0.41306412924555275), ('implicit', 0.39451667557558584), ('nonlinear', 0.38993545514310723), ('permeability', 0.38949230668377227), ('kerogen', 0.38920691077925379)]\n",
      "Topic 3:\n",
      "[('pump', 0.46392088661359016), ('esp', 0.45286701581283473), ('liquid', 0.42808920908339931), ('slug', 0.41849847664469886), ('head', 0.37704082609579564), ('deterioration', 0.37641926673569409), ('rotational', 0.36715694949655436), ('submersible', 0.36353057814091755), ('drillstring', 0.35951481012851461), ('wide', 0.35754390399571606)]\n",
      "Topic 4:\n",
      "[('archie', 0.38335672566605145), ('rocks', 0.33679598058115001), ('waterfloods', 0.33408943556342385), ('leaking', 0.3331989695444218), ('flat', 0.32952381028561412), ('proceed', 0.32931621112178877), ('comparative', 0.32741642297312146), ('assimilation', 0.32640818399533938), ('resistivity', 0.32586530015014514), ('alternatively', 0.3256739717918789)]\n",
      "Topic 5:\n",
      "[('fracture', 0.7607118654280367), ('permeability', 0.48100633823931011), ('stress', 0.48046364345668618), ('fractures', 0.47699602751717213), ('wells', 0.45385521696449238), ('liquid', 0.42882852910222602), ('optimization', 0.42582061950724531), ('wellbore', 0.4150676625686433), ('geological', 0.40444268271094447), ('sand', 0.40252364322178036)]\n",
      "Topic 6:\n",
      "[('stimulation', 0.37410473323506921), ('acid', 0.3569738981405518), ('gel', 0.35079990936745153), ('fracture', 0.34436859626722544), ('estimation', 0.34306030223521922), ('particularly', 0.3364250343162955), ('mature', 0.33528495609486769), ('ionic', 0.33309464137327055), ('contains', 0.33234974270922341), ('stages', 0.32813166828153495)]\n",
      "Topic 7:\n",
      "[('partition', 0.3440660084240289), ('permeability', 0.34236589921025168), ('government', 0.33753112853456357), ('conference', 0.33240304163081968), ('somewhat', 0.33065434920564601), ('activities', 0.33045936876290821), ('monitoring', 0.32987407331485802), ('brine', 0.32967384469314853), ('stops', 0.32900010468189705), ('transient', 0.32804618371454408)]\n",
      "Topic 8:\n",
      "[('fracture', 0.36553441044826868), ('belt', 0.34390160700578637), ('sensing', 0.34384520031684956), ('suspensions', 0.3401242630253653), ('growth', 0.34011715044311663), ('bodies', 0.34010258334361715), ('dolomite', 0.33987304778703697), ('would', 0.33754485759549918), ('solid', 0.33467413423782638), ('proppant', 0.33455198124698315)]\n",
      "Topic 9:\n",
      "[('species', 0.34826796991143261), ('recommended', 0.34439953767871684), ('select', 0.33858638929708723), ('elucidated', 0.33652749089756534), ('poromechanical', 0.33279234786700523), ('liquid', 0.33276341396857023), ('specifications', 0.32819874725974119), ('conductivities', 0.32807009881408433), ('fracture', 0.32699902595345803), ('certainty', 0.32646229364640927)]\n",
      "Topic 10:\n",
      "[('cuttings', 0.3522754672715972), ('scf', 0.33398960360593499), ('displaces', 0.33152037229017689), ('greenhouse', 0.33004307236701141), ('effluent', 0.3297741848070776), ('making', 0.32934363906428943), ('hardness', 0.32874092720160369), ('trillion', 0.32798752848780194), ('accumulations', 0.32794722277670296), ('reported', 0.32531592059743986)]\n",
      "Topic 11:\n",
      "[('fracture', 0.49155938074053795), ('rock', 0.40491186320241535), ('media', 0.40149951721774191), ('pore', 0.38259636087041038), ('organic', 0.38148491125192663), ('basins', 0.37711197330214241), ('basin', 0.37548742911132693), ('permeability', 0.37013015831503443), ('solution', 0.35977541708383609), ('technically', 0.35430119017726941)]\n",
      "====================\n",
      "NMF Model:\n",
      "Topic 0:\n",
      "[('fracture', 1.7024953048954554), ('fractures', 0.69231854786301872), ('hydraulic', 0.49978103365000587), ('stress', 0.29842491317935266), ('fracturing', 0.26753953308439182), ('propagation', 0.22677966803162786), ('height', 0.21565930139568187), ('wells', 0.19726365852173702), ('multiple', 0.19350969756722042), ('geometry', 0.18968378979198255)]\n",
      "Topic 1:\n",
      "[('surfactant', 0.56769449111115), ('recovery', 0.33095679585687865), ('polymer', 0.31581359051778535), ('surfactants', 0.31175153706379577), ('foam', 0.26498492142836655), ('salinity', 0.23922546274376924), ('floods', 0.2130191245063674), ('flooding', 0.20256052067000774), ('eor', 0.19937915471026782), ('microemulsion', 0.19202701599937824)]\n",
      "Topic 2:\n",
      "[('drilling', 0.74523094377846177), ('wellbore', 0.43069386518441061), ('cement', 0.3057116233131224), ('mud', 0.26121741004132015), ('bit', 0.22947548848265878), ('pipe', 0.20781741503201673), ('fluids', 0.19917513973653161), ('circulation', 0.19704863964952959), ('casing', 0.19083882095649043), ('annulus', 0.18445182662155107)]\n",
      "Topic 3:\n",
      "[('basins', 0.38399394252224467), ('unconventional', 0.38079946075140542), ('resources', 0.31719043106375411), ('reserves', 0.31668515370383915), ('basin', 0.22063080365911697), ('frontier', 0.20740290146215229), ('uncertainty', 0.19169055460377518), ('decline', 0.1895705477534273), ('wells', 0.18605343893210052), ('recoverable', 0.17048482250753935)]\n",
      "Topic 4:\n",
      "[('liquid', 0.64710725817382087), ('slug', 0.51777547222609388), ('pipe', 0.36107854428748642), ('holdup', 0.32972993972341913), ('stratified', 0.23708820624363255), ('velocity', 0.21719933721804027), ('loading', 0.21478027061595906), ('viscosity', 0.19545016374388996), ('foam', 0.16299364069534897), ('pipes', 0.16061296340991707)]\n",
      "Topic 5:\n",
      "[('organic', 0.40700505689934063), ('kerogen', 0.33923723891861352), ('pore', 0.28315400642506022), ('rich', 0.24456167176591756), ('resistivity', 0.24088625763231589), ('nmr', 0.23964039257466821), ('rock', 0.21023944830592547), ('measurements', 0.19042576998283473), ('shales', 0.17750193837643058), ('porosity', 0.16248000610132268)]\n",
      "Topic 6:\n",
      "[('combustion', 0.47953692114934754), ('steam', 0.45269862100316594), ('sagd', 0.441843752841168), ('solvent', 0.25215549497567497), ('isc', 0.24074898252724308), ('bitumen', 0.23942063435954561), ('heavy', 0.21186373756553084), ('recovery', 0.20420106179802563), ('asphaltene', 0.15206601511843174), ('injection', 0.13975753959796408)]\n",
      "Topic 7:\n",
      "[('optimization', 0.39109421104224323), ('history', 0.29486264651531358), ('seismic', 0.28937953936661337), ('wells', 0.28285122961858511), ('streamline', 0.26426242674683015), ('matching', 0.25596326288153526), ('grid', 0.21741381898881576), ('geologic', 0.19945860187428069), ('permeability', 0.19667356016512025), ('drainage', 0.1958810804425902)]\n",
      "Topic 8:\n",
      "[('acid', 0.79858602766120312), ('conductivity', 0.28810399855891089), ('acidizing', 0.24100678707362433), ('stimulation', 0.23328269547825103), ('fracture', 0.22515290192130846), ('temperature', 0.19655986224504401), ('carbonate', 0.19170633426259581), ('proppant', 0.18619964368441425), ('treatment', 0.16718340724404895), ('closure', 0.12137331539893467)]\n",
      "Topic 9:\n",
      "[('hydrate', 0.63192195110517946), ('failure', 0.28076743543576643), ('stress', 0.24762734198484629), ('geomechanics', 0.23257647339430751), ('geomechanical', 0.18587979697305948), ('permeability', 0.16822525710009975), ('cfd', 0.15453973907973614), ('split', 0.14538003111487399), ('coupled', 0.14405582358213181), ('shear', 0.13962244497139378)]\n",
      "Topic 10:\n",
      "[('pore', 0.33636083557615765), ('permeability', 0.29052612954161577), ('imbibition', 0.20648655207737737), ('foam', 0.19678515000798183), ('capillary', 0.19122658781440594), ('saturation', 0.17937157532662854), ('relative', 0.17797294748393952), ('wet', 0.1740644558823578), ('nanoparticles', 0.16335011942439132), ('core', 0.1614833864030627)]\n",
      "Topic 11:\n",
      "[('multiscale', 0.3427894214119831), ('hybrid', 0.27357211706239398), ('nonlinear', 0.23414904372851333), ('implicit', 0.21530814129323983), ('porous', 0.21002690941463342), ('media', 0.19205170889025169), ('newton', 0.17406367445252754), ('convergence', 0.17252997559948205), ('coupling', 0.16776219153978095), ('battery', 0.16211411506704615)]\n",
      "====================\n",
      "LSI Model:\n",
      "Topic 0:\n"
     ]
    },
    {
     "name": "stdout",
     "output_type": "stream",
     "text": [
      "[('fracture', 0.3249153398419467), ('permeability', 0.17415927232499037), ('fractures', 0.14054805470635229), ('pore', 0.1247516812482815), ('recovery', 0.12243395433421446), ('drilling', 0.12217597382117212), ('wells', 0.12165391730929237), ('wellbore', 0.11371354786864064), ('injection', 0.11296516610600196), ('foam', 0.10983461246295145)]\n",
      "Topic 1:\n",
      "[('surfactant', 0.2577505696634087), ('recovery', 0.20114953906887603), ('foam', 0.17663763062516763), ('polymer', 0.14060278042965882), ('surfactants', 0.13530153593099264), ('permeability', 0.12394163080258837), ('steam', 0.10990829311802811), ('salinity', 0.10592756005456204), ('combustion', 0.10476482137003301), ('eor', 0.10384492783496463)]\n",
      "Topic 2:\n",
      "[('drilling', 0.25355417333961749), ('liquid', 0.2245519619750467), ('pipe', 0.2068082490258005), ('slug', 0.17556906842884654), ('foam', 0.11042314355358455), ('holdup', 0.10604900201698575), ('cement', 0.10435778067331958), ('wellbore', 0.099885613745927859), ('viscosity', 0.09600578158887052), ('annular', 0.094046128252170097)]\n",
      "Topic 3:\n",
      "[('unconventional', 0.14828343395624419), ('uncertainty', 0.14136712609565766), ('reserves', 0.13184603337686593), ('optimization', 0.12798856147677681), ('basins', 0.12353025357043548), ('resources', 0.11126011881425289), ('wells', 0.09626115959396922), ('liquid', 0.094910381890449522), ('seismic', 0.083393641884727615), ('basin', 0.081477991697611066)]\n",
      "Topic 4:\n",
      "[('liquid', 0.38910153093711497), ('slug', 0.33281299249264418), ('fracture', 0.24754501410109134), ('holdup', 0.21361557963336381), ('pipe', 0.17534329341302982), ('stratified', 0.15297631280930396), ('loading', 0.13916106392532071), ('velocity', 0.13055080061222965), ('viscosity', 0.10310764305359235), ('superficial', 0.098372367834417204)]\n",
      "Topic 5:\n",
      "[('surfactant', 0.2021449926507565), ('unconventional', 0.14704964011421998), ('fracture', 0.14008380934501791), ('recovery', 0.1385273511475954), ('reserves', 0.12464333324296149), ('basins', 0.12342212522166164), ('surfactants', 0.11767023173548567), ('acid', 0.11678218050453075), ('resources', 0.10974050879964489), ('polymer', 0.10639872930129321)]\n",
      "Topic 6:\n",
      "[('sagd', 0.30112073586071175), ('combustion', 0.29383167962777157), ('steam', 0.28327117254191353), ('bitumen', 0.16362161485504439), ('solvent', 0.15591268782552006), ('isc', 0.14864344950966238), ('fracture', 0.14285785796059908), ('heavy', 0.12575915876086435), ('chamber', 0.09734806869854129), ('temperature', 0.095837564254458343)]\n",
      "Topic 7:\n",
      "[('acid', 0.32290325208531623), ('combustion', 0.17126515673181278), ('sagd', 0.14685730376652181), ('steam', 0.13161490870539094), ('organic', 0.12932943814283124), ('conductivity', 0.11281938678868465), ('basins', 0.10631973820777191), ('kerogen', 0.10573791647630634), ('samples', 0.10161538738153446), ('pore', 0.10053531164136592)]\n",
      "Topic 8:\n",
      "[('acid', 0.45838910733349209), ('conductivity', 0.16337606637478042), ('temperature', 0.14887032503049011), ('acidizing', 0.13818029791727082), ('stimulation', 0.12930333702565819), ('carbonate', 0.11802785378284388), ('transient', 0.1049007116931765), ('optimization', 0.098839712808242025), ('wellbore', 0.090667447472062582), ('treatment', 0.089562322273386133)]\n",
      "Topic 9:\n",
      "[('acid', 0.23260732665408276), ('hydrate', 0.19672457903747531), ('battery', 0.12964724075494574), ('hybrid', 0.12367297800699224), ('failure', 0.11501397300871853), ('multiscale', 0.11329107244109697), ('cfd', 0.088950347607634067), ('reaction', 0.088949574121664696), ('coupling', 0.088675730407375711), ('risk', 0.087048254228811447)]\n",
      "Topic 10:\n",
      "[('hydrate', 0.19300224470480373), ('seismic', 0.15790743702609958), ('failure', 0.12469927773088933), ('geomechanics', 0.10960360602120137), ('vertical', 0.087153058150844509), ('shear', 0.083252570808125287), ('casing', 0.083242185325871548), ('geomechanical', 0.080186879413292167), ('organic', 0.07811014279918059), ('history', 0.076872989400438338)]\n",
      "Topic 11:\n",
      "[('emissions', 0.1460236336864548), ('foam', 0.13428408083058496), ('seismic', 0.13399344325576565), ('optimization', 0.12769862187133452), ('solar', 0.11969005546716775), ('stress', 0.11236030978912225), ('coal', 0.10524284858015902), ('hydrate', 0.090466681968170065), ('permeability', 0.085439948497489634), ('streamline', 0.085073036811009223)]\n",
      "====================\n"
     ]
    }
   ],
   "source": [
    "def print_topics(model, vectorizer, top_n=10):\n",
    "    for idx, topic in enumerate(model.components_):\n",
    "        print(\"Topic %d:\" % (idx))\n",
    "        print([(vectorizer.get_feature_names()[i], topic[i])\n",
    "                        for i in topic.argsort()[:-top_n - 1:-1]])\n",
    " \n",
    "print(\"LDA Model:\")\n",
    "print_topics(lda_model, vectorizer)\n",
    "print(\"=\" * 20)\n",
    " \n",
    "print(\"NMF Model:\")\n",
    "print_topics(nmf_model, vectorizer)\n",
    "print(\"=\" * 20)\n",
    " \n",
    "print(\"LSI Model:\")\n",
    "print_topics(lsi_model, vectorizer)\n",
    "print(\"=\" * 20)"
   ]
  },
  {
   "cell_type": "code",
   "execution_count": 5,
   "metadata": {
    "ExecuteTime": {
     "end_time": "2018-08-28T21:24:37.010186Z",
     "start_time": "2018-08-28T21:24:36.967001Z"
    }
   },
   "outputs": [
    {
     "name": "stdout",
     "output_type": "stream",
     "text": [
      "[ 0.          0.          0.          0.          0.          0.\n",
      "  0.41162654  0.          0.          0.          0.          0.        ]\n"
     ]
    }
   ],
   "source": [
    "text = \"Steam injection is a widely used oil-recovery method that has been commercially successful in many types of heavy-oil reservoirs, including the oil sands of Alberta, Canada. Steam is very effective in delivering heat that is the key to heavy-oil mobilization. In the distant past in California, and also recently in Alberta, solvents were/are being used as additives to steam for additional viscosity reduction. The current applications are in field projects involving steam-assisted gravity drainage (SAGD) and cyclic steam stimulation (CSS).The past and present projects using solvents alone or in combination with steam are reviewed and evaluated, including enhanced solvent SAGD (ES-SAGD) and liquid addition to steam for enhancing recovery (LASER). The use of solvent in other processes, such as effective solvent extraction incorporating electromagnetic heating (ESEIEH) and after cold-heavy-oil production with sand (CHOPS), are also reviewed. The theories behind the use of solvents with steam are outlined. These postulate additional heavy-oil/bitumen mobilization; oil mobilization ahead of the steam front; and oil mobilization by solvent dispersion caused by frontal instability. The plausibility of the different approaches and solvent availability and economics are also discussed.\"\n",
    "x = nmf_model.transform(vectorizer.transform([text]))[0]\n",
    "print(x)"
   ]
  },
  {
   "cell_type": "code",
   "execution_count": 6,
   "metadata": {
    "ExecuteTime": {
     "end_time": "2018-08-28T21:24:37.063287Z",
     "start_time": "2018-08-28T21:24:37.012778Z"
    }
   },
   "outputs": [
    {
     "data": {
      "text/plain": [
       "(12, 5166)"
      ]
     },
     "execution_count": 6,
     "metadata": {},
     "output_type": "execute_result"
    }
   ],
   "source": [
    "nmf_model.components_.shape"
   ]
  },
  {
   "cell_type": "code",
   "execution_count": 7,
   "metadata": {
    "ExecuteTime": {
     "end_time": "2018-08-28T21:24:37.118191Z",
     "start_time": "2018-08-28T21:24:37.066923Z"
    }
   },
   "outputs": [
    {
     "data": {
      "text/plain": [
       "<bound method CountVectorizer.get_feature_names of TfidfVectorizer(analyzer='word', binary=False, decode_error='strict',\n",
       "        dtype=<class 'numpy.int64'>, encoding='utf-8', input='content',\n",
       "        lowercase=True, max_df=0.8, max_features=None, min_df=5,\n",
       "        ngram_range=(1, 1), norm='l2', preprocessor=None, smooth_idf=True,\n",
       "        stop_words={'be', 'you', 'to', 'll', 'd', \"couldn't\", 'hadn', 'just', 'above', 'most', 'they', 'wouldn', 'yours', 'for', 'if', 'won', \"wouldn't\", 'under', 'your', \"won't\", 'whom', \"it's\", 'before', 'both', 'which', 'couldn', 'where', 'theirs', 'isn', 's', \"she's\", 'doesn', 'yourselves', 'who', 'down... 'how', 'those', 'do', 'ma', \"should've\", 'out', 'we', 'myself', 'over', 'each', 'i', 'off', 'such'},\n",
       "        strip_accents='unicode', sublinear_tf=False,\n",
       "        token_pattern='(?u)\\\\b\\\\w\\\\w+\\\\b', tokenizer=None, use_idf=True,\n",
       "        vocabulary=None)>"
      ]
     },
     "execution_count": 7,
     "metadata": {},
     "output_type": "execute_result"
    }
   ],
   "source": [
    "vectorizer.get_feature_names"
   ]
  },
  {
   "cell_type": "code",
   "execution_count": 8,
   "metadata": {
    "ExecuteTime": {
     "end_time": "2018-08-28T21:24:37.586002Z",
     "start_time": "2018-08-28T21:24:37.121419Z"
    }
   },
   "outputs": [
    {
     "name": "stdout",
     "output_type": "stream",
     "text": [
      "['fracture', 'fractures', 'hydraulic', 'stress', 'fracturing', 'propagation', 'height', 'wells', 'multiple', 'geometry']\n",
      "['surfactant', 'recovery', 'polymer', 'surfactants', 'foam', 'salinity', 'floods', 'flooding', 'eor', 'microemulsion']\n",
      "['drilling', 'wellbore', 'cement', 'mud', 'bit', 'pipe', 'fluids', 'circulation', 'casing', 'annulus']\n",
      "['basins', 'unconventional', 'resources', 'reserves', 'basin', 'frontier', 'uncertainty', 'decline', 'wells', 'recoverable']\n",
      "['liquid', 'slug', 'pipe', 'holdup', 'stratified', 'velocity', 'loading', 'viscosity', 'foam', 'pipes']\n",
      "['organic', 'kerogen', 'pore', 'rich', 'resistivity', 'nmr', 'rock', 'measurements', 'shales', 'porosity']\n",
      "['combustion', 'steam', 'sagd', 'solvent', 'isc', 'bitumen', 'heavy', 'recovery', 'asphaltene', 'injection']\n",
      "['optimization', 'history', 'seismic', 'wells', 'streamline', 'matching', 'grid', 'geologic', 'permeability', 'drainage']\n",
      "['acid', 'conductivity', 'acidizing', 'stimulation', 'fracture', 'temperature', 'carbonate', 'proppant', 'treatment', 'closure']\n",
      "['hydrate', 'failure', 'stress', 'geomechanics', 'geomechanical', 'permeability', 'cfd', 'split', 'coupled', 'shear']\n",
      "['pore', 'permeability', 'imbibition', 'foam', 'capillary', 'saturation', 'relative', 'wet', 'nanoparticles', 'core']\n",
      "['multiscale', 'hybrid', 'nonlinear', 'implicit', 'porous', 'media', 'newton', 'convergence', 'coupling', 'battery']\n"
     ]
    }
   ],
   "source": [
    "import numpy as np\n",
    "topic_words = np.empty([nmf_model.components_.shape[0], 10])\n",
    "for idx, topic in enumerate(nmf_model.components_):\n",
    "    \n",
    "    print([vectorizer.get_feature_names()[i] for i in topic.argsort()[:-10 - 1:-1]])\n",
    "#     topic_words[idx] = [vectorizer.get_feature_names()[i] for i in topic.argsort()[:-10 - 1:-1]]\n",
    "# print(topic_words) "
   ]
  },
  {
   "cell_type": "code",
   "execution_count": 9,
   "metadata": {
    "ExecuteTime": {
     "end_time": "2018-08-28T21:24:37.738850Z",
     "start_time": "2018-08-28T21:24:37.587998Z"
    }
   },
   "outputs": [
    {
     "data": {
      "text/html": [
       "<div>\n",
       "<style scoped>\n",
       "    .dataframe tbody tr th:only-of-type {\n",
       "        vertical-align: middle;\n",
       "    }\n",
       "\n",
       "    .dataframe tbody tr th {\n",
       "        vertical-align: top;\n",
       "    }\n",
       "\n",
       "    .dataframe thead th {\n",
       "        text-align: right;\n",
       "    }\n",
       "</style>\n",
       "<table border=\"1\" class=\"dataframe\">\n",
       "  <thead>\n",
       "    <tr style=\"text-align: right;\">\n",
       "      <th></th>\n",
       "      <th>abstracts</th>\n",
       "      <th>email</th>\n",
       "      <th>faculty_name</th>\n",
       "      <th>faculty_title</th>\n",
       "      <th>google_scholar_link</th>\n",
       "      <th>office</th>\n",
       "      <th>page</th>\n",
       "      <th>paper_titles</th>\n",
       "      <th>phone</th>\n",
       "      <th>predicted_cluster_num</th>\n",
       "      <th>predicted_research_areas</th>\n",
       "      <th>research_areas</th>\n",
       "    </tr>\n",
       "  </thead>\n",
       "  <tbody>\n",
       "    <tr>\n",
       "      <th>74</th>\n",
       "      <td>Expanding-solvent steam-assisted gravity drai...</td>\n",
       "      <td>okuno@utexas.edu</td>\n",
       "      <td>Ryosuke Okuno</td>\n",
       "      <td>Assistant Professor</td>\n",
       "      <td>https://scholar.google.com/citations?user=zqr5...</td>\n",
       "      <td>CPE 5.118B</td>\n",
       "      <td>https://www.pge.utexas.edu/facultystaff/profil...</td>\n",
       "      <td>Mechanistic simulation study of expanding-sol...</td>\n",
       "      <td>(512) 471-3250</td>\n",
       "      <td>7</td>\n",
       "      <td>[asphaltene, chamber, recovery, heavy, isc, so...</td>\n",
       "      <td>Phase Behavior; Thermodynamics; Enhanced Oil R...</td>\n",
       "    </tr>\n",
       "    <tr>\n",
       "      <th>48</th>\n",
       "      <td>The gas-mobility-control aspects of foamed ga...</td>\n",
       "      <td>margot.gerritsen@stanford.edu</td>\n",
       "      <td>Margot Gerritsen</td>\n",
       "      <td>Associate Professor of Energy Resources Engine...</td>\n",
       "      <td></td>\n",
       "      <td>GESB 088, M10 Huang</td>\n",
       "      <td>https://pangea.stanford.edu/people/margot-gerr...</td>\n",
       "      <td>Modeling Foam Displacement With the Local-Equ...</td>\n",
       "      <td>(650) 725-3542, (650) 725-2727</td>\n",
       "      <td>7</td>\n",
       "      <td>[asphaltene, chamber, recovery, heavy, isc, so...</td>\n",
       "      <td>I   s p e c i a l i z e   i n   r e n e w a b ...</td>\n",
       "    </tr>\n",
       "    <tr>\n",
       "      <th>49</th>\n",
       "      <td>Shale reservoirs have a significant fraction ...</td>\n",
       "      <td>barrufet@tamu.edu</td>\n",
       "      <td>Maria A. Barrufet</td>\n",
       "      <td>Professor</td>\n",
       "      <td>https://scholar.google.com/citations?user=VWtd...</td>\n",
       "      <td>RICH 407C</td>\n",
       "      <td>https://engineering.tamu.edu/petroleum/profile...</td>\n",
       "      <td>Effects of Thermodynamic and Rock Properties ...</td>\n",
       "      <td>979-845-0314</td>\n",
       "      <td>7</td>\n",
       "      <td>[asphaltene, chamber, recovery, heavy, isc, so...</td>\n",
       "      <td>Multicomponent thermodynamic and transport phe...</td>\n",
       "    </tr>\n",
       "    <tr>\n",
       "      <th>7</th>\n",
       "      <td>Performance predictions of the In-Situ Combus...</td>\n",
       "      <td>hascakir@tamu.edu</td>\n",
       "      <td>Berna Hascakir</td>\n",
       "      <td>Assistant Professor</td>\n",
       "      <td>https://scholar.google.com/citations?user=wdJY...</td>\n",
       "      <td>RICH 401N</td>\n",
       "      <td>https://engineering.tamu.edu/petroleum/profile...</td>\n",
       "      <td>Water and aromatics fraction interaction at e...</td>\n",
       "      <td>979-845-6614</td>\n",
       "      <td>7</td>\n",
       "      <td>[asphaltene, chamber, recovery, heavy, isc, so...</td>\n",
       "      <td>Heavy oil and oil shale recovery with enhanced...</td>\n",
       "    </tr>\n",
       "    <tr>\n",
       "      <th>64</th>\n",
       "      <td>In chemical product design, application o...</td>\n",
       "      <td>nimir.elbashir@qatar.tamu.edu</td>\n",
       "      <td>Nimir Elbashir</td>\n",
       "      <td>Professor</td>\n",
       "      <td>https://scholar.google.com/citations?user=mO2O...</td>\n",
       "      <td>204F</td>\n",
       "      <td>https://engineering.tamu.edu/petroleum/profile...</td>\n",
       "      <td>Special issue (GPS, 2016): The Fifth Internat...</td>\n",
       "      <td>974-4423-0128</td>\n",
       "      <td>2</td>\n",
       "      <td>[reforming, reactor, geological, tpwl, emissio...</td>\n",
       "      <td>Dr. Elbashir is the Director of Texas A&amp;M Engi...</td>\n",
       "    </tr>\n",
       "  </tbody>\n",
       "</table>\n",
       "</div>"
      ],
      "text/plain": [
       "                                            abstracts  \\\n",
       "74   Expanding-solvent steam-assisted gravity drai...   \n",
       "48   The gas-mobility-control aspects of foamed ga...   \n",
       "49   Shale reservoirs have a significant fraction ...   \n",
       "7    Performance predictions of the In-Situ Combus...   \n",
       "64       In chemical product design, application o...   \n",
       "\n",
       "                            email       faculty_name  \\\n",
       "74               okuno@utexas.edu      Ryosuke Okuno   \n",
       "48  margot.gerritsen@stanford.edu   Margot Gerritsen   \n",
       "49              barrufet@tamu.edu  Maria A. Barrufet   \n",
       "7               hascakir@tamu.edu     Berna Hascakir   \n",
       "64  nimir.elbashir@qatar.tamu.edu     Nimir Elbashir   \n",
       "\n",
       "                                        faculty_title  \\\n",
       "74                                Assistant Professor   \n",
       "48  Associate Professor of Energy Resources Engine...   \n",
       "49                                          Professor   \n",
       "7                                 Assistant Professor   \n",
       "64                                          Professor   \n",
       "\n",
       "                                  google_scholar_link               office  \\\n",
       "74  https://scholar.google.com/citations?user=zqr5...           CPE 5.118B   \n",
       "48                                                     GESB 088, M10 Huang   \n",
       "49  https://scholar.google.com/citations?user=VWtd...            RICH 407C   \n",
       "7   https://scholar.google.com/citations?user=wdJY...            RICH 401N   \n",
       "64  https://scholar.google.com/citations?user=mO2O...                 204F   \n",
       "\n",
       "                                                 page  \\\n",
       "74  https://www.pge.utexas.edu/facultystaff/profil...   \n",
       "48  https://pangea.stanford.edu/people/margot-gerr...   \n",
       "49  https://engineering.tamu.edu/petroleum/profile...   \n",
       "7   https://engineering.tamu.edu/petroleum/profile...   \n",
       "64  https://engineering.tamu.edu/petroleum/profile...   \n",
       "\n",
       "                                         paper_titles  \\\n",
       "74   Mechanistic simulation study of expanding-sol...   \n",
       "48   Modeling Foam Displacement With the Local-Equ...   \n",
       "49   Effects of Thermodynamic and Rock Properties ...   \n",
       "7    Water and aromatics fraction interaction at e...   \n",
       "64   Special issue (GPS, 2016): The Fifth Internat...   \n",
       "\n",
       "                             phone  predicted_cluster_num  \\\n",
       "74                  (512) 471-3250                      7   \n",
       "48  (650) 725-3542, (650) 725-2727                      7   \n",
       "49                   979-845-0314                       7   \n",
       "7                     979-845-6614                      7   \n",
       "64                   974-4423-0128                      2   \n",
       "\n",
       "                             predicted_research_areas  \\\n",
       "74  [asphaltene, chamber, recovery, heavy, isc, so...   \n",
       "48  [asphaltene, chamber, recovery, heavy, isc, so...   \n",
       "49  [asphaltene, chamber, recovery, heavy, isc, so...   \n",
       "7   [asphaltene, chamber, recovery, heavy, isc, so...   \n",
       "64  [reforming, reactor, geological, tpwl, emissio...   \n",
       "\n",
       "                                       research_areas  \n",
       "74  Phase Behavior; Thermodynamics; Enhanced Oil R...  \n",
       "48  I   s p e c i a l i z e   i n   r e n e w a b ...  \n",
       "49  Multicomponent thermodynamic and transport phe...  \n",
       "7   Heavy oil and oil shale recovery with enhanced...  \n",
       "64  Dr. Elbashir is the Director of Texas A&M Engi...  "
      ]
     },
     "execution_count": 9,
     "metadata": {},
     "output_type": "execute_result"
    }
   ],
   "source": [
    "from sklearn.metrics.pairwise import euclidean_distances\n",
    " \n",
    "def most_similar(x, Z, top_n=5):\n",
    "    dists = euclidean_distances(x.reshape(1, -1), Z)\n",
    "    pairs = enumerate(dists[0])\n",
    "    most_similar = sorted(pairs, key=lambda item: item[1])[:top_n]\n",
    "    return np.array(most_similar)\n",
    " \n",
    "final_df = pd.read_json('../data/final_database.json')\n",
    "similarities = most_similar(x, nmf_Z)\n",
    "similarities = similarities[similarities[:,0].argsort()] # sorting by id\n",
    "document_ids = list(map(int, similarities[:,0]))\n",
    "results_df = final_df[final_df.index.isin(document_ids)].sort_index()\n",
    "results_df['similarity'] = similarities[:,1]\n",
    "results_df.sort_values(by='similarity').drop(columns='similarity', axis=1)"
   ]
  },
  {
   "cell_type": "code",
   "execution_count": 10,
   "metadata": {
    "ExecuteTime": {
     "end_time": "2018-08-28T21:24:37.777223Z",
     "start_time": "2018-08-28T21:24:37.741023Z"
    }
   },
   "outputs": [
    {
     "data": {
      "text/plain": [
       "[7, 48, 49, 64, 74]"
      ]
     },
     "execution_count": 10,
     "metadata": {},
     "output_type": "execute_result"
    }
   ],
   "source": [
    "document_ids"
   ]
  },
  {
   "cell_type": "code",
   "execution_count": 12,
   "metadata": {
    "ExecuteTime": {
     "end_time": "2018-08-28T21:25:20.104585Z",
     "start_time": "2018-08-28T21:25:19.972712Z"
    }
   },
   "outputs": [],
   "source": [
    "import pickle\n",
    "from topic_model import MyTopicModel\n",
    "with open('../data/pge_topic_model.pkl', 'rb') as f:\n",
    "        topic_model = pickle.load(f)\n",
    "\n",
    "with open('../data/pge_topic_vectorizer.pkl', 'rb') as f:\n",
    "    topic_vectorizer = pickle.load(f)\n",
    "\n",
    "final_df = pd.read_json('../data/final_database.json')"
   ]
  },
  {
   "cell_type": "code",
   "execution_count": 13,
   "metadata": {
    "ExecuteTime": {
     "end_time": "2018-08-28T21:25:29.224097Z",
     "start_time": "2018-08-28T21:25:29.187596Z"
    }
   },
   "outputs": [
    {
     "name": "stdout",
     "output_type": "stream",
     "text": [
      "[ 0.          0.          0.          0.          0.          0.\n",
      "  0.41681185  0.          0.          0.          0.          0.        ]\n"
     ]
    }
   ],
   "source": [
    "x = topic_model.transform(topic_vectorizer.transform([text]))[0]\n",
    "print(x)"
   ]
  },
  {
   "cell_type": "code",
   "execution_count": 15,
   "metadata": {
    "ExecuteTime": {
     "end_time": "2018-08-28T21:26:23.796258Z",
     "start_time": "2018-08-28T21:26:23.758778Z"
    }
   },
   "outputs": [
    {
     "data": {
      "text/plain": [
       "array([[ 74.        ,   0.11711831],\n",
       "       [ 48.        ,   0.18981306],\n",
       "       [ 49.        ,   0.24327598],\n",
       "       [  7.        ,   0.2675512 ],\n",
       "       [ 64.        ,   0.27350828]])"
      ]
     },
     "execution_count": 15,
     "metadata": {},
     "output_type": "execute_result"
    }
   ],
   "source": [
    "topic_model.most_similar([text], topic_vectorizer, top_n=5)"
   ]
  },
  {
   "cell_type": "code",
   "execution_count": null,
   "metadata": {},
   "outputs": [],
   "source": [
    "topic_model.score"
   ]
  }
 ],
 "metadata": {
  "kernelspec": {
   "display_name": "Python 3",
   "language": "python",
   "name": "python3"
  },
  "language_info": {
   "codemirror_mode": {
    "name": "ipython",
    "version": 3
   },
   "file_extension": ".py",
   "mimetype": "text/x-python",
   "name": "python",
   "nbconvert_exporter": "python",
   "pygments_lexer": "ipython3",
   "version": "3.6.5"
  }
 },
 "nbformat": 4,
 "nbformat_minor": 2
}
