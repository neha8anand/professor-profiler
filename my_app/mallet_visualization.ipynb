{
 "cells": [
  {
   "cell_type": "code",
   "execution_count": 1,
   "metadata": {
    "ExecuteTime": {
     "end_time": "2018-09-02T07:42:45.952156Z",
     "start_time": "2018-09-02T07:42:45.222340Z"
    }
   },
   "outputs": [],
   "source": [
    "import pandas as pd\n",
    "import matplotlib.pyplot as plt\n",
    "%matplotlib inline\n",
    "plt.style.use('ggplot')\n",
    "\n",
    "import seaborn as sns"
   ]
  },
  {
   "cell_type": "code",
   "execution_count": 2,
   "metadata": {
    "ExecuteTime": {
     "end_time": "2018-09-02T07:42:46.181908Z",
     "start_time": "2018-09-02T07:42:45.954155Z"
    }
   },
   "outputs": [
    {
     "data": {
      "text/html": [
       "<div>\n",
       "<style scoped>\n",
       "    .dataframe tbody tr th:only-of-type {\n",
       "        vertical-align: middle;\n",
       "    }\n",
       "\n",
       "    .dataframe tbody tr th {\n",
       "        vertical-align: top;\n",
       "    }\n",
       "\n",
       "    .dataframe thead th {\n",
       "        text-align: right;\n",
       "    }\n",
       "</style>\n",
       "<table border=\"1\" class=\"dataframe\">\n",
       "  <thead>\n",
       "    <tr style=\"text-align: right;\">\n",
       "      <th></th>\n",
       "      <th>Dominant_Topics</th>\n",
       "      <th>Perc_Contributions</th>\n",
       "      <th>Topic_Keywords_List</th>\n",
       "      <th>abstracts</th>\n",
       "      <th>citations</th>\n",
       "      <th>email</th>\n",
       "      <th>faculty_name</th>\n",
       "      <th>google_scholar_link</th>\n",
       "      <th>h_index</th>\n",
       "      <th>indices</th>\n",
       "      <th>...</th>\n",
       "      <th>paper_titles</th>\n",
       "      <th>phone</th>\n",
       "      <th>prof_id</th>\n",
       "      <th>rank</th>\n",
       "      <th>rating</th>\n",
       "      <th>research_areas</th>\n",
       "      <th>score</th>\n",
       "      <th>tags</th>\n",
       "      <th>title</th>\n",
       "      <th>university_name</th>\n",
       "    </tr>\n",
       "  </thead>\n",
       "  <tbody>\n",
       "    <tr>\n",
       "      <th>0</th>\n",
       "      <td>[5, 3, 11, 10, 6, 4, 0, 9, 2, 7, 1, 8]</td>\n",
       "      <td>[56.13, 20.64, 7.52, 4.84, 3.49, 2.14, 2.14, 0...</td>\n",
       "      <td>[pore, rock, permeability, measurements, prope...</td>\n",
       "      <td>Clastic rocks with variable grain sizes exhi...</td>\n",
       "      <td>{'All': '5218', 'Since 2013': '2863', '1995': ...</td>\n",
       "      <td>cverdin@austin.utexas.edu</td>\n",
       "      <td>Carlos Torres-Verdin</td>\n",
       "      <td>https://scholar.google.com/citations?user=I-J9...</td>\n",
       "      <td>34</td>\n",
       "      <td>{'h-index': {'All': '34', 'Since 2013': '23'},...</td>\n",
       "      <td>...</td>\n",
       "      <td>INTERPRETATION OF BOREHOLE SONIC MEASUREMENTS...</td>\n",
       "      <td>(512) 471-4216, (512) 471-3161</td>\n",
       "      <td>0</td>\n",
       "      <td>1</td>\n",
       "      <td>3.1</td>\n",
       "      <td>[Static and Dynamic Formation Evaluation, Bore...</td>\n",
       "      <td>4.7</td>\n",
       "      <td>[ Amazing lectures (3),  BEWARE OF POP QUIZZES...</td>\n",
       "      <td>Professor</td>\n",
       "      <td>University of Texas--Austin (Cockrell)</td>\n",
       "    </tr>\n",
       "    <tr>\n",
       "      <th>1</th>\n",
       "      <td>[7, 3, 5, 11, 9, 1, 8, 4, 0, 6, 10, 2]</td>\n",
       "      <td>[52.41, 14.85, 12.14, 4.67, 3.16, 2.68, 2.45, ...</td>\n",
       "      <td>[recovery, surfactant, foam, water, permeabili...</td>\n",
       "      <td>This paper presents an alternative method of ...</td>\n",
       "      <td>{'All': '3308', 'Since 2013': '1489', '1992': ...</td>\n",
       "      <td>dicarlo@mail.utexas.edu</td>\n",
       "      <td>David DiCarlo</td>\n",
       "      <td>https://scholar.google.com/citations?user=OFIv...</td>\n",
       "      <td>30</td>\n",
       "      <td>{'h-index': {'All': '30', 'Since 2013': '21'},...</td>\n",
       "      <td>...</td>\n",
       "      <td>Replicating carbonaceous vug in synthetic por...</td>\n",
       "      <td>(512) 471-1283</td>\n",
       "      <td>1</td>\n",
       "      <td>1</td>\n",
       "      <td>3.5</td>\n",
       "      <td>[Chemical EOR, Gas Enhanced Oil Recovery, Geol...</td>\n",
       "      <td>4.7</td>\n",
       "      <td>[ Tough Grader (2),  TEST HEAVY (1),  LOTS OF ...</td>\n",
       "      <td>Associate Professor</td>\n",
       "      <td>University of Texas--Austin (Cockrell)</td>\n",
       "    </tr>\n",
       "    <tr>\n",
       "      <th>10</th>\n",
       "      <td>[7, 8, 11, 3, 5, 1, 0, 9, 10, 6, 2, 4]</td>\n",
       "      <td>[72.1, 8.76, 6.97, 6.53, 2.04, 1.15, 0.67, 0.6...</td>\n",
       "      <td>[recovery, surfactant, foam, water, permeabili...</td>\n",
       "      <td>Numerous studies based on static imbibition e...</td>\n",
       "      <td>{'All': '5930', 'Since 2013': '3336', '1986': ...</td>\n",
       "      <td>mohanty@mail.utexas.edu</td>\n",
       "      <td>Kishore Mohanty</td>\n",
       "      <td>https://scholar.google.com/citations?user=Eocb...</td>\n",
       "      <td>43</td>\n",
       "      <td>{'h-index': {'All': '43', 'Since 2013': '32'},...</td>\n",
       "      <td>...</td>\n",
       "      <td>Dynamic surfactant-aided imbibition in fractu...</td>\n",
       "      <td>(512) 471-3077</td>\n",
       "      <td>10</td>\n",
       "      <td>1</td>\n",
       "      <td></td>\n",
       "      <td>[Chemical EOR, Gas Enhanced Oil Recovery, Hydr...</td>\n",
       "      <td>4.7</td>\n",
       "      <td>[]</td>\n",
       "      <td>Professor</td>\n",
       "      <td>University of Texas--Austin (Cockrell)</td>\n",
       "    </tr>\n",
       "    <tr>\n",
       "      <th>11</th>\n",
       "      <td>[3, 7, 0, 10, 2, 1, 6, 11, 5, 4, 9, 8]</td>\n",
       "      <td>[33.5, 18.19, 15.36, 14.06, 6.95, 4.19, 3.22, ...</td>\n",
       "      <td>[data, model, pressure, reservoir, flow, metho...</td>\n",
       "      <td>Several tools and techniques exist to underst...</td>\n",
       "      <td>{'All': '13066', 'Since 2013': '5639', '1986':...</td>\n",
       "      <td>larry_lake@mail.utexas.edu</td>\n",
       "      <td>Larry Lake</td>\n",
       "      <td>https://scholar.google.com/citations?user=eGlU...</td>\n",
       "      <td>58</td>\n",
       "      <td>{'h-index': {'All': '58', 'Since 2013': '34'},...</td>\n",
       "      <td>...</td>\n",
       "      <td>Extension of Capacitance/Resistance Model to ...</td>\n",
       "      <td>(512) 471-8233, (512) 471-3161</td>\n",
       "      <td>11</td>\n",
       "      <td>1</td>\n",
       "      <td>2.4</td>\n",
       "      <td>[Fundamental Processes; Integrated Reservoir C...</td>\n",
       "      <td>4.7</td>\n",
       "      <td>[ ACCESSIBLE OUTSIDE CLASS (1),  Inspirational...</td>\n",
       "      <td>Professor</td>\n",
       "      <td>University of Texas--Austin (Cockrell)</td>\n",
       "    </tr>\n",
       "    <tr>\n",
       "      <th>12</th>\n",
       "      <td>[6, 7, 3, 10, 11, 0, 4, 5, 9, 8, 2, 1]</td>\n",
       "      <td>[39.13, 14.86, 13.44, 12.92, 10.95, 4.47, 1.1,...</td>\n",
       "      <td>[flow, numerical, method, model, simulation, m...</td>\n",
       "      <td>In this paper, we propose an enriched Galerk...</td>\n",
       "      <td>{'All': '19220', 'Since 2013': '7838', '1982':...</td>\n",
       "      <td>mfw@ices.utexas.edu</td>\n",
       "      <td>Mary Wheeler</td>\n",
       "      <td>https://scholar.google.com/citations?user=sX58...</td>\n",
       "      <td>66</td>\n",
       "      <td>{'h-index': {'All': '66', 'Since 2013': '45'},...</td>\n",
       "      <td>...</td>\n",
       "      <td>Mixed Formulation of a Linearized Lubrication...</td>\n",
       "      <td>(512) 475-8625</td>\n",
       "      <td>12</td>\n",
       "      <td>1</td>\n",
       "      <td></td>\n",
       "      <td>[Drilling, Well Completions, and Rock Mechanic...</td>\n",
       "      <td>4.7</td>\n",
       "      <td>[]</td>\n",
       "      <td>Professor</td>\n",
       "      <td>University of Texas--Austin (Cockrell)</td>\n",
       "    </tr>\n",
       "  </tbody>\n",
       "</table>\n",
       "<p>5 rows × 24 columns</p>\n",
       "</div>"
      ],
      "text/plain": [
       "                           Dominant_Topics  \\\n",
       "0   [5, 3, 11, 10, 6, 4, 0, 9, 2, 7, 1, 8]   \n",
       "1   [7, 3, 5, 11, 9, 1, 8, 4, 0, 6, 10, 2]   \n",
       "10  [7, 8, 11, 3, 5, 1, 0, 9, 10, 6, 2, 4]   \n",
       "11  [3, 7, 0, 10, 2, 1, 6, 11, 5, 4, 9, 8]   \n",
       "12  [6, 7, 3, 10, 11, 0, 4, 5, 9, 8, 2, 1]   \n",
       "\n",
       "                                   Perc_Contributions  \\\n",
       "0   [56.13, 20.64, 7.52, 4.84, 3.49, 2.14, 2.14, 0...   \n",
       "1   [52.41, 14.85, 12.14, 4.67, 3.16, 2.68, 2.45, ...   \n",
       "10  [72.1, 8.76, 6.97, 6.53, 2.04, 1.15, 0.67, 0.6...   \n",
       "11  [33.5, 18.19, 15.36, 14.06, 6.95, 4.19, 3.22, ...   \n",
       "12  [39.13, 14.86, 13.44, 12.92, 10.95, 4.47, 1.1,...   \n",
       "\n",
       "                                  Topic_Keywords_List  \\\n",
       "0   [pore, rock, permeability, measurements, prope...   \n",
       "1   [recovery, surfactant, foam, water, permeabili...   \n",
       "10  [recovery, surfactant, foam, water, permeabili...   \n",
       "11  [data, model, pressure, reservoir, flow, metho...   \n",
       "12  [flow, numerical, method, model, simulation, m...   \n",
       "\n",
       "                                            abstracts  \\\n",
       "0     Clastic rocks with variable grain sizes exhi...   \n",
       "1    This paper presents an alternative method of ...   \n",
       "10   Numerous studies based on static imbibition e...   \n",
       "11   Several tools and techniques exist to underst...   \n",
       "12    In this paper, we propose an enriched Galerk...   \n",
       "\n",
       "                                            citations  \\\n",
       "0   {'All': '5218', 'Since 2013': '2863', '1995': ...   \n",
       "1   {'All': '3308', 'Since 2013': '1489', '1992': ...   \n",
       "10  {'All': '5930', 'Since 2013': '3336', '1986': ...   \n",
       "11  {'All': '13066', 'Since 2013': '5639', '1986':...   \n",
       "12  {'All': '19220', 'Since 2013': '7838', '1982':...   \n",
       "\n",
       "                         email          faculty_name  \\\n",
       "0    cverdin@austin.utexas.edu  Carlos Torres-Verdin   \n",
       "1      dicarlo@mail.utexas.edu         David DiCarlo   \n",
       "10     mohanty@mail.utexas.edu       Kishore Mohanty   \n",
       "11  larry_lake@mail.utexas.edu            Larry Lake   \n",
       "12         mfw@ices.utexas.edu          Mary Wheeler   \n",
       "\n",
       "                                  google_scholar_link  h_index  \\\n",
       "0   https://scholar.google.com/citations?user=I-J9...       34   \n",
       "1   https://scholar.google.com/citations?user=OFIv...       30   \n",
       "10  https://scholar.google.com/citations?user=Eocb...       43   \n",
       "11  https://scholar.google.com/citations?user=eGlU...       58   \n",
       "12  https://scholar.google.com/citations?user=sX58...       66   \n",
       "\n",
       "                                              indices  \\\n",
       "0   {'h-index': {'All': '34', 'Since 2013': '23'},...   \n",
       "1   {'h-index': {'All': '30', 'Since 2013': '21'},...   \n",
       "10  {'h-index': {'All': '43', 'Since 2013': '32'},...   \n",
       "11  {'h-index': {'All': '58', 'Since 2013': '34'},...   \n",
       "12  {'h-index': {'All': '66', 'Since 2013': '45'},...   \n",
       "\n",
       "                     ...                    \\\n",
       "0                    ...                     \n",
       "1                    ...                     \n",
       "10                   ...                     \n",
       "11                   ...                     \n",
       "12                   ...                     \n",
       "\n",
       "                                         paper_titles  \\\n",
       "0    INTERPRETATION OF BOREHOLE SONIC MEASUREMENTS...   \n",
       "1    Replicating carbonaceous vug in synthetic por...   \n",
       "10   Dynamic surfactant-aided imbibition in fractu...   \n",
       "11   Extension of Capacitance/Resistance Model to ...   \n",
       "12   Mixed Formulation of a Linearized Lubrication...   \n",
       "\n",
       "                             phone prof_id  rank rating  \\\n",
       "0   (512) 471-4216, (512) 471-3161       0     1    3.1   \n",
       "1                   (512) 471-1283       1     1    3.5   \n",
       "10                  (512) 471-3077      10     1          \n",
       "11  (512) 471-8233, (512) 471-3161      11     1    2.4   \n",
       "12                  (512) 475-8625      12     1          \n",
       "\n",
       "                                       research_areas  score  \\\n",
       "0   [Static and Dynamic Formation Evaluation, Bore...    4.7   \n",
       "1   [Chemical EOR, Gas Enhanced Oil Recovery, Geol...    4.7   \n",
       "10  [Chemical EOR, Gas Enhanced Oil Recovery, Hydr...    4.7   \n",
       "11  [Fundamental Processes; Integrated Reservoir C...    4.7   \n",
       "12  [Drilling, Well Completions, and Rock Mechanic...    4.7   \n",
       "\n",
       "                                                 tags                title  \\\n",
       "0   [ Amazing lectures (3),  BEWARE OF POP QUIZZES...            Professor   \n",
       "1   [ Tough Grader (2),  TEST HEAVY (1),  LOTS OF ...  Associate Professor   \n",
       "10                                                 []            Professor   \n",
       "11  [ ACCESSIBLE OUTSIDE CLASS (1),  Inspirational...            Professor   \n",
       "12                                                 []            Professor   \n",
       "\n",
       "                           university_name  \n",
       "0   University of Texas--Austin (Cockrell)  \n",
       "1   University of Texas--Austin (Cockrell)  \n",
       "10  University of Texas--Austin (Cockrell)  \n",
       "11  University of Texas--Austin (Cockrell)  \n",
       "12  University of Texas--Austin (Cockrell)  \n",
       "\n",
       "[5 rows x 24 columns]"
      ]
     },
     "execution_count": 2,
     "metadata": {},
     "output_type": "execute_result"
    }
   ],
   "source": [
    "df = pd.read_json('../data/json/final_gensim_database_LDAMallet.json')\n",
    "df.head()"
   ]
  },
  {
   "cell_type": "code",
   "execution_count": 3,
   "metadata": {
    "ExecuteTime": {
     "end_time": "2018-09-02T07:42:46.518995Z",
     "start_time": "2018-09-02T07:42:46.184156Z"
    }
   },
   "outputs": [
    {
     "data": {
      "image/png": "[encoded data removed]",
      "text/plain": [
       "<Figure size 432x288 with 1 Axes>"
      ]
     },
     "metadata": {},
     "output_type": "display_data"
    }
   ],
   "source": [
    "fig, ax = plt.subplots()\n",
    "\n",
    "# Example data\n",
    "perc_contributions = df[\"Perc_Contributions\"][0]\n",
    "topic_num = pd.Series('Topic ' + str(num) for num in df[\"Dominant_Topics\"][0])\n",
    "ax.barh(topic_num, perc_contributions, align='center')\n",
    "ax.set_yticks(topic_num)\n",
    "ax.set_yticklabels(topic_num)\n",
    "ax.invert_yaxis()  # labels read top-to-bottom\n",
    "ax.set_xlabel('Percent Contribution')\n",
    "ax.set_ylabel('Topic Numbers')\n",
    "plt.show()"
   ]
  },
  {
   "cell_type": "code",
   "execution_count": 4,
   "metadata": {
    "ExecuteTime": {
     "end_time": "2018-09-02T07:42:46.551064Z",
     "start_time": "2018-09-02T07:42:46.521044Z"
    }
   },
   "outputs": [],
   "source": [
    "x = df.iloc[0][\"Perc_Contributions\"]\n",
    "y = df.iloc[0][\"Dominant_Topics\"]"
   ]
  },
  {
   "cell_type": "code",
   "execution_count": 5,
   "metadata": {
    "ExecuteTime": {
     "end_time": "2018-09-02T07:42:46.757191Z",
     "start_time": "2018-09-02T07:42:46.552848Z"
    }
   },
   "outputs": [
    {
     "data": {
      "image/png": "[encoded data removed]",
      "text/plain": [
       "<Figure size 432x288 with 1 Axes>"
      ]
     },
     "metadata": {},
     "output_type": "display_data"
    }
   ],
   "source": [
    "df1 = df.iloc[0].loc[[\"Perc_Contributions\", \"Dominant_Topics\"]].apply(pd.Series).T\n",
    "ax = df1.plot(y=\"Perc_Contributions\", x=\"Dominant_Topics\", kind='barh')\n",
    "ax.invert_yaxis()  # labels read top-to-bottom"
   ]
  },
  {
   "cell_type": "code",
   "execution_count": 6,
   "metadata": {
    "ExecuteTime": {
     "end_time": "2018-09-02T07:42:47.023199Z",
     "start_time": "2018-09-02T07:42:46.759297Z"
    }
   },
   "outputs": [
    {
     "data": {
      "image/png": "[encoded data removed]",
      "text/plain": [
       "<Figure size 1440x360 with 1 Axes>"
      ]
     },
     "metadata": {},
     "output_type": "display_data"
    }
   ],
   "source": [
    "import seaborn as sns\n",
    "sns.set(palette='BrBG')\n",
    "ax = df1.set_index('Dominant_Topics').T.plot(kind='barh', stacked=True, figsize=(20,5))"
   ]
  },
  {
   "cell_type": "code",
   "execution_count": null,
   "metadata": {},
   "outputs": [],
   "source": []
  }
 ],
 "metadata": {
  "kernelspec": {
   "display_name": "Python 3",
   "language": "python",
   "name": "python3"
  },
  "language_info": {
   "codemirror_mode": {
    "name": "ipython",
    "version": 3
   },
   "file_extension": ".py",
   "mimetype": "text/x-python",
   "name": "python",
   "nbconvert_exporter": "python",
   "pygments_lexer": "ipython3",
   "version": "3.6.5"
  }
 },
 "nbformat": 4,
 "nbformat_minor": 2
}
