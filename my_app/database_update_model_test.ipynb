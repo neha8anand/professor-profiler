{
 "cells": [
  {
   "cell_type": "code",
   "execution_count": 9,
   "metadata": {
    "ExecuteTime": {
     "end_time": "2018-08-30T22:53:13.030564Z",
     "start_time": "2018-08-30T22:53:12.937992Z"
    }
   },
   "outputs": [],
   "source": [
    "import pandas as pd\n",
    "import numpy as np"
   ]
  },
  {
   "cell_type": "code",
   "execution_count": 10,
   "metadata": {
    "ExecuteTime": {
     "end_time": "2018-08-30T22:53:13.752443Z",
     "start_time": "2018-08-30T22:53:13.549781Z"
    }
   },
   "outputs": [
    {
     "data": {
      "text/plain": [
       "Index(['Dominant_Topic', 'Perc_Contribution', 'Topic_Keywords', 'abstracts',\n",
       "       'citations', 'email', 'faculty_name', 'google_scholar_link', 'indices',\n",
       "       'location', 'office', 'page', 'paper_titles', 'phone', 'rank', 'rating',\n",
       "       'research_areas', 'score', 'tags', 'title', 'university_name'],\n",
       "      dtype='object')"
      ]
     },
     "execution_count": 10,
     "metadata": {},
     "output_type": "execute_result"
    }
   ],
   "source": [
    "df = pd.read_json('../../data/json/final_gensim_database_LDAMallet.json')\n",
    "df.columns"
   ]
  },
  {
   "cell_type": "code",
   "execution_count": 6,
   "metadata": {
    "ExecuteTime": {
     "end_time": "2018-08-30T04:26:31.863600Z",
     "start_time": "2018-08-30T04:26:31.675369Z"
    }
   },
   "outputs": [
    {
     "data": {
      "text/plain": [
       "Index(['Dominant_Topic', 'Perc_Contribution', 'Topic_Keywords', 'abstracts',\n",
       "       'citations', 'email', 'faculty_name', 'google_scholar_link', 'indices',\n",
       "       'location', 'office', 'page', 'paper_titles', 'phone', 'rank', 'rating',\n",
       "       'research_areas', 'score', 'tags', 'title', 'university_name'],\n",
       "      dtype='object')"
      ]
     },
     "execution_count": 6,
     "metadata": {},
     "output_type": "execute_result"
    }
   ],
   "source": [
    "df = pd.read_json('../../data/json/final_gensim_database_LDA.json')\n",
    "df.columns"
   ]
  },
  {
   "cell_type": "code",
   "execution_count": 7,
   "metadata": {
    "ExecuteTime": {
     "end_time": "2018-08-30T04:26:49.457277Z",
     "start_time": "2018-08-30T04:26:49.339516Z"
    }
   },
   "outputs": [
    {
     "data": {
      "text/plain": [
       "Index(['abstracts', 'citations', 'email', 'faculty_name',\n",
       "       'google_scholar_link', 'indices', 'location', 'office', 'page',\n",
       "       'paper_titles', 'phone', 'predicted_cluster_num',\n",
       "       'predicted_research_areas', 'rank', 'rating', 'research_areas', 'score',\n",
       "       'tags', 'title', 'university_name'],\n",
       "      dtype='object')"
      ]
     },
     "execution_count": 7,
     "metadata": {},
     "output_type": "execute_result"
    }
   ],
   "source": [
    "df = pd.read_json('../../data/json/final_database.json')\n",
    "df.columns"
   ]
  },
  {
   "cell_type": "code",
   "execution_count": 8,
   "metadata": {
    "ExecuteTime": {
     "end_time": "2018-08-30T04:28:18.351764Z",
     "start_time": "2018-08-30T04:28:18.233400Z"
    }
   },
   "outputs": [
    {
     "data": {
      "text/plain": [
       "Index(['abstracts', 'citations', 'email', 'faculty_name',\n",
       "       'google_scholar_link', 'indices', 'location', 'office', 'page',\n",
       "       'paper_titles', 'phone', 'predicted_research_areas',\n",
       "       'predicted_topic_num', 'rank', 'rating', 'research_areas', 'score',\n",
       "       'tags', 'title', 'university_name'],\n",
       "      dtype='object')"
      ]
     },
     "execution_count": 8,
     "metadata": {},
     "output_type": "execute_result"
    }
   ],
   "source": [
    "df = pd.read_json('../../data/json/final_topic_database.json')\n",
    "df.columns"
   ]
  },
  {
   "cell_type": "code",
   "execution_count": 38,
   "metadata": {
    "ExecuteTime": {
     "end_time": "2018-08-30T23:30:50.768376Z",
     "start_time": "2018-08-30T23:30:50.711677Z"
    }
   },
   "outputs": [
    {
     "data": {
      "text/html": [
       "<div>\n",
       "<style scoped>\n",
       "    .dataframe tbody tr th:only-of-type {\n",
       "        vertical-align: middle;\n",
       "    }\n",
       "\n",
       "    .dataframe tbody tr th {\n",
       "        vertical-align: top;\n",
       "    }\n",
       "\n",
       "    .dataframe thead th {\n",
       "        text-align: right;\n",
       "    }\n",
       "</style>\n",
       "<table border=\"1\" class=\"dataframe\">\n",
       "  <thead>\n",
       "    <tr style=\"text-align: right;\">\n",
       "      <th></th>\n",
       "      <th>Dominant_Topic</th>\n",
       "      <th>Perc_Contribution</th>\n",
       "      <th>Topic_Keywords</th>\n",
       "      <th>abstracts</th>\n",
       "      <th>citations</th>\n",
       "      <th>email</th>\n",
       "      <th>faculty_name</th>\n",
       "      <th>google_scholar_link</th>\n",
       "      <th>indices</th>\n",
       "      <th>location</th>\n",
       "      <th>...</th>\n",
       "      <th>page</th>\n",
       "      <th>paper_titles</th>\n",
       "      <th>phone</th>\n",
       "      <th>rank</th>\n",
       "      <th>rating</th>\n",
       "      <th>research_areas</th>\n",
       "      <th>score</th>\n",
       "      <th>tags</th>\n",
       "      <th>title</th>\n",
       "      <th>university_name</th>\n",
       "    </tr>\n",
       "  </thead>\n",
       "  <tbody>\n",
       "    <tr>\n",
       "      <th>0</th>\n",
       "      <td>6</td>\n",
       "      <td>0.5344</td>\n",
       "      <td>pore, rock, measurements, permeability, proper...</td>\n",
       "      <td>Clastic rocks with variable grain sizes exhi...</td>\n",
       "      <td>{'All': '5218', 'Since 2013': '2863', '1995': ...</td>\n",
       "      <td>cverdin@austin.utexas.edu</td>\n",
       "      <td>Carlos Torres-Verdin</td>\n",
       "      <td>https://scholar.google.com/citations?user=I-J9...</td>\n",
       "      <td>{'h-index': {'All': '34', 'Since 2013': '23'},...</td>\n",
       "      <td>Austin, TX</td>\n",
       "      <td>...</td>\n",
       "      <td>https://www.pge.utexas.edu/facultystaff/profil...</td>\n",
       "      <td>INTERPRETATION OF BOREHOLE SONIC MEASUREMENTS...</td>\n",
       "      <td>(512) 471-4216, (512) 471-3161</td>\n",
       "      <td>1</td>\n",
       "      <td>3.1</td>\n",
       "      <td>[Static and Dynamic Formation Evaluation, Bore...</td>\n",
       "      <td>4.7</td>\n",
       "      <td>[ Amazing lectures (3),  BEWARE OF POP QUIZZES...</td>\n",
       "      <td>Professor</td>\n",
       "      <td>University of Texas--Austin (Cockrell)</td>\n",
       "    </tr>\n",
       "    <tr>\n",
       "      <th>1</th>\n",
       "      <td>7</td>\n",
       "      <td>0.4778</td>\n",
       "      <td>oil, recovery, surfactant, foam, water, permea...</td>\n",
       "      <td>This paper presents an alternative method of ...</td>\n",
       "      <td>{'All': '3308', 'Since 2013': '1489', '1992': ...</td>\n",
       "      <td>dicarlo@mail.utexas.edu</td>\n",
       "      <td>David DiCarlo</td>\n",
       "      <td>https://scholar.google.com/citations?user=OFIv...</td>\n",
       "      <td>{'h-index': {'All': '30', 'Since 2013': '21'},...</td>\n",
       "      <td>Austin, TX</td>\n",
       "      <td>...</td>\n",
       "      <td>https://www.pge.utexas.edu/facultystaff/profil...</td>\n",
       "      <td>Replicating carbonaceous vug in synthetic por...</td>\n",
       "      <td>(512) 471-1283</td>\n",
       "      <td>1</td>\n",
       "      <td>3.5</td>\n",
       "      <td>[Chemical EOR, Gas Enhanced Oil Recovery, Geol...</td>\n",
       "      <td>4.7</td>\n",
       "      <td>[ Tough Grader (2),  TEST HEAVY (1),  LOTS OF ...</td>\n",
       "      <td>Associate Professor</td>\n",
       "      <td>University of Texas--Austin (Cockrell)</td>\n",
       "    </tr>\n",
       "    <tr>\n",
       "      <th>10</th>\n",
       "      <td>7</td>\n",
       "      <td>0.7145</td>\n",
       "      <td>oil, recovery, surfactant, foam, water, permea...</td>\n",
       "      <td>Numerous studies based on static imbibition e...</td>\n",
       "      <td>{'All': '5930', 'Since 2013': '3336', '1986': ...</td>\n",
       "      <td>mohanty@mail.utexas.edu</td>\n",
       "      <td>Kishore Mohanty</td>\n",
       "      <td>https://scholar.google.com/citations?user=Eocb...</td>\n",
       "      <td>{'h-index': {'All': '43', 'Since 2013': '32'},...</td>\n",
       "      <td>Austin, TX</td>\n",
       "      <td>...</td>\n",
       "      <td>https://www.pge.utexas.edu/facultystaff/profil...</td>\n",
       "      <td>Dynamic surfactant-aided imbibition in fractu...</td>\n",
       "      <td>(512) 471-3077</td>\n",
       "      <td>1</td>\n",
       "      <td></td>\n",
       "      <td>[Chemical EOR, Gas Enhanced Oil Recovery, Hydr...</td>\n",
       "      <td>4.7</td>\n",
       "      <td>[]</td>\n",
       "      <td>Professor</td>\n",
       "      <td>University of Texas--Austin (Cockrell)</td>\n",
       "    </tr>\n",
       "    <tr>\n",
       "      <th>11</th>\n",
       "      <td>0</td>\n",
       "      <td>0.3748</td>\n",
       "      <td>data, model, pressure, reservoir, field, metho...</td>\n",
       "      <td>Several tools and techniques exist to underst...</td>\n",
       "      <td>{'All': '13066', 'Since 2013': '5639', '1986':...</td>\n",
       "      <td>larry_lake@mail.utexas.edu</td>\n",
       "      <td>Larry Lake</td>\n",
       "      <td>https://scholar.google.com/citations?user=eGlU...</td>\n",
       "      <td>{'h-index': {'All': '58', 'Since 2013': '34'},...</td>\n",
       "      <td>Austin, TX</td>\n",
       "      <td>...</td>\n",
       "      <td>https://www.pge.utexas.edu/facultystaff/profil...</td>\n",
       "      <td>Extension of Capacitance/Resistance Model to ...</td>\n",
       "      <td>(512) 471-8233, (512) 471-3161</td>\n",
       "      <td>1</td>\n",
       "      <td>2.4</td>\n",
       "      <td>[Fundamental Processes; Integrated Reservoir C...</td>\n",
       "      <td>4.7</td>\n",
       "      <td>[ ACCESSIBLE OUTSIDE CLASS (1),  Inspirational...</td>\n",
       "      <td>Professor</td>\n",
       "      <td>University of Texas--Austin (Cockrell)</td>\n",
       "    </tr>\n",
       "    <tr>\n",
       "      <th>12</th>\n",
       "      <td>2</td>\n",
       "      <td>0.3507</td>\n",
       "      <td>reservoir, simulation, model, flow, approach, ...</td>\n",
       "      <td>In this paper, we propose an enriched Galerk...</td>\n",
       "      <td>{'All': '19220', 'Since 2013': '7838', '1982':...</td>\n",
       "      <td>mfw@ices.utexas.edu</td>\n",
       "      <td>Mary Wheeler</td>\n",
       "      <td>https://scholar.google.com/citations?user=sX58...</td>\n",
       "      <td>{'h-index': {'All': '66', 'Since 2013': '45'},...</td>\n",
       "      <td>Austin, TX</td>\n",
       "      <td>...</td>\n",
       "      <td>https://www.pge.utexas.edu/facultystaff/profil...</td>\n",
       "      <td>Mixed Formulation of a Linearized Lubrication...</td>\n",
       "      <td>(512) 475-8625</td>\n",
       "      <td>1</td>\n",
       "      <td></td>\n",
       "      <td>[Drilling, Well Completions, and Rock Mechanic...</td>\n",
       "      <td>4.7</td>\n",
       "      <td>[]</td>\n",
       "      <td>Professor</td>\n",
       "      <td>University of Texas--Austin (Cockrell)</td>\n",
       "    </tr>\n",
       "  </tbody>\n",
       "</table>\n",
       "<p>5 rows × 21 columns</p>\n",
       "</div>"
      ],
      "text/plain": [
       "    Dominant_Topic  Perc_Contribution  \\\n",
       "0                6             0.5344   \n",
       "1                7             0.4778   \n",
       "10               7             0.7145   \n",
       "11               0             0.3748   \n",
       "12               2             0.3507   \n",
       "\n",
       "                                       Topic_Keywords  \\\n",
       "0   pore, rock, measurements, permeability, proper...   \n",
       "1   oil, recovery, surfactant, foam, water, permea...   \n",
       "10  oil, recovery, surfactant, foam, water, permea...   \n",
       "11  data, model, pressure, reservoir, field, metho...   \n",
       "12  reservoir, simulation, model, flow, approach, ...   \n",
       "\n",
       "                                            abstracts  \\\n",
       "0     Clastic rocks with variable grain sizes exhi...   \n",
       "1    This paper presents an alternative method of ...   \n",
       "10   Numerous studies based on static imbibition e...   \n",
       "11   Several tools and techniques exist to underst...   \n",
       "12    In this paper, we propose an enriched Galerk...   \n",
       "\n",
       "                                            citations  \\\n",
       "0   {'All': '5218', 'Since 2013': '2863', '1995': ...   \n",
       "1   {'All': '3308', 'Since 2013': '1489', '1992': ...   \n",
       "10  {'All': '5930', 'Since 2013': '3336', '1986': ...   \n",
       "11  {'All': '13066', 'Since 2013': '5639', '1986':...   \n",
       "12  {'All': '19220', 'Since 2013': '7838', '1982':...   \n",
       "\n",
       "                         email          faculty_name  \\\n",
       "0    cverdin@austin.utexas.edu  Carlos Torres-Verdin   \n",
       "1      dicarlo@mail.utexas.edu         David DiCarlo   \n",
       "10     mohanty@mail.utexas.edu       Kishore Mohanty   \n",
       "11  larry_lake@mail.utexas.edu            Larry Lake   \n",
       "12         mfw@ices.utexas.edu          Mary Wheeler   \n",
       "\n",
       "                                  google_scholar_link  \\\n",
       "0   https://scholar.google.com/citations?user=I-J9...   \n",
       "1   https://scholar.google.com/citations?user=OFIv...   \n",
       "10  https://scholar.google.com/citations?user=Eocb...   \n",
       "11  https://scholar.google.com/citations?user=eGlU...   \n",
       "12  https://scholar.google.com/citations?user=sX58...   \n",
       "\n",
       "                                              indices    location  \\\n",
       "0   {'h-index': {'All': '34', 'Since 2013': '23'},...  Austin, TX   \n",
       "1   {'h-index': {'All': '30', 'Since 2013': '21'},...  Austin, TX   \n",
       "10  {'h-index': {'All': '43', 'Since 2013': '32'},...  Austin, TX   \n",
       "11  {'h-index': {'All': '58', 'Since 2013': '34'},...  Austin, TX   \n",
       "12  {'h-index': {'All': '66', 'Since 2013': '45'},...  Austin, TX   \n",
       "\n",
       "                     ...                    \\\n",
       "0                    ...                     \n",
       "1                    ...                     \n",
       "10                   ...                     \n",
       "11                   ...                     \n",
       "12                   ...                     \n",
       "\n",
       "                                                 page  \\\n",
       "0   https://www.pge.utexas.edu/facultystaff/profil...   \n",
       "1   https://www.pge.utexas.edu/facultystaff/profil...   \n",
       "10  https://www.pge.utexas.edu/facultystaff/profil...   \n",
       "11  https://www.pge.utexas.edu/facultystaff/profil...   \n",
       "12  https://www.pge.utexas.edu/facultystaff/profil...   \n",
       "\n",
       "                                         paper_titles  \\\n",
       "0    INTERPRETATION OF BOREHOLE SONIC MEASUREMENTS...   \n",
       "1    Replicating carbonaceous vug in synthetic por...   \n",
       "10   Dynamic surfactant-aided imbibition in fractu...   \n",
       "11   Extension of Capacitance/Resistance Model to ...   \n",
       "12   Mixed Formulation of a Linearized Lubrication...   \n",
       "\n",
       "                             phone rank  rating  \\\n",
       "0   (512) 471-4216, (512) 471-3161    1     3.1   \n",
       "1                   (512) 471-1283    1     3.5   \n",
       "10                  (512) 471-3077    1           \n",
       "11  (512) 471-8233, (512) 471-3161    1     2.4   \n",
       "12                  (512) 475-8625    1           \n",
       "\n",
       "                                       research_areas score  \\\n",
       "0   [Static and Dynamic Formation Evaluation, Bore...   4.7   \n",
       "1   [Chemical EOR, Gas Enhanced Oil Recovery, Geol...   4.7   \n",
       "10  [Chemical EOR, Gas Enhanced Oil Recovery, Hydr...   4.7   \n",
       "11  [Fundamental Processes; Integrated Reservoir C...   4.7   \n",
       "12  [Drilling, Well Completions, and Rock Mechanic...   4.7   \n",
       "\n",
       "                                                 tags                title  \\\n",
       "0   [ Amazing lectures (3),  BEWARE OF POP QUIZZES...            Professor   \n",
       "1   [ Tough Grader (2),  TEST HEAVY (1),  LOTS OF ...  Associate Professor   \n",
       "10                                                 []            Professor   \n",
       "11  [ ACCESSIBLE OUTSIDE CLASS (1),  Inspirational...            Professor   \n",
       "12                                                 []            Professor   \n",
       "\n",
       "                           university_name  \n",
       "0   University of Texas--Austin (Cockrell)  \n",
       "1   University of Texas--Austin (Cockrell)  \n",
       "10  University of Texas--Austin (Cockrell)  \n",
       "11  University of Texas--Austin (Cockrell)  \n",
       "12  University of Texas--Austin (Cockrell)  \n",
       "\n",
       "[5 rows x 21 columns]"
      ]
     },
     "execution_count": 38,
     "metadata": {},
     "output_type": "execute_result"
    }
   ],
   "source": [
    "df.head()"
   ]
  },
  {
   "cell_type": "code",
   "execution_count": 18,
   "metadata": {
    "ExecuteTime": {
     "end_time": "2018-08-30T23:19:16.453651Z",
     "start_time": "2018-08-30T23:19:16.426228Z"
    }
   },
   "outputs": [
    {
     "data": {
      "text/plain": [
       "63"
      ]
     },
     "execution_count": 18,
     "metadata": {},
     "output_type": "execute_result"
    }
   ],
   "source": [
    "sum(df['rating'] == \"\") # 63 ratings missing out of 88"
   ]
  },
  {
   "cell_type": "code",
   "execution_count": 27,
   "metadata": {
    "ExecuteTime": {
     "end_time": "2018-08-30T23:26:20.112220Z",
     "start_time": "2018-08-30T23:26:20.083622Z"
    }
   },
   "outputs": [
    {
     "data": {
      "text/plain": [
       "3.0"
      ]
     },
     "execution_count": 27,
     "metadata": {},
     "output_type": "execute_result"
    }
   ],
   "source": [
    "(df[df['rating'] != \"\"]['rating'].apply(lambda x: int(x))).median()"
   ]
  },
  {
   "cell_type": "markdown",
   "metadata": {},
   "source": [
    "# Ranking algorithm based on university rank, number of papers in database, text-similarity,  and h_index"
   ]
  },
  {
   "cell_type": "code",
   "execution_count": 41,
   "metadata": {
    "ExecuteTime": {
     "end_time": "2018-08-31T03:13:15.236583Z",
     "start_time": "2018-08-31T03:13:15.077603Z"
    }
   },
   "outputs": [],
   "source": [
    "# Make h_index column\n",
    "df[\"h_index\"] = df[\"indices\"].apply(pd.Series)[\"h-index\"].apply(pd.Series)[\"All\"]"
   ]
  },
  {
   "cell_type": "code",
   "execution_count": 4,
   "metadata": {
    "ExecuteTime": {
     "end_time": "2018-08-31T03:31:55.709369Z",
     "start_time": "2018-08-31T03:31:55.680589Z"
    }
   },
   "outputs": [],
   "source": [
    "from cleaning import database_cleaner"
   ]
  },
  {
   "cell_type": "code",
   "execution_count": 5,
   "metadata": {
    "ExecuteTime": {
     "end_time": "2018-08-31T03:31:56.410551Z",
     "start_time": "2018-08-31T03:31:56.266743Z"
    }
   },
   "outputs": [
    {
     "data": {
      "text/html": [
       "<div>\n",
       "<style scoped>\n",
       "    .dataframe tbody tr th:only-of-type {\n",
       "        vertical-align: middle;\n",
       "    }\n",
       "\n",
       "    .dataframe tbody tr th {\n",
       "        vertical-align: top;\n",
       "    }\n",
       "\n",
       "    .dataframe thead th {\n",
       "        text-align: right;\n",
       "    }\n",
       "</style>\n",
       "<table border=\"1\" class=\"dataframe\">\n",
       "  <thead>\n",
       "    <tr style=\"text-align: right;\">\n",
       "      <th></th>\n",
       "      <th>university_name</th>\n",
       "      <th>location</th>\n",
       "      <th>rank</th>\n",
       "      <th>score</th>\n",
       "      <th>citations</th>\n",
       "      <th>email</th>\n",
       "      <th>google_scholar_link</th>\n",
       "      <th>indices</th>\n",
       "      <th>office</th>\n",
       "      <th>page</th>\n",
       "      <th>phone</th>\n",
       "      <th>rating</th>\n",
       "      <th>research_areas</th>\n",
       "      <th>tags</th>\n",
       "      <th>title</th>\n",
       "      <th>faculty_name</th>\n",
       "      <th>paper_titles</th>\n",
       "      <th>abstracts</th>\n",
       "      <th>paper_count</th>\n",
       "    </tr>\n",
       "  </thead>\n",
       "  <tbody>\n",
       "    <tr>\n",
       "      <th>0</th>\n",
       "      <td>University of Texas--Austin (Cockrell)</td>\n",
       "      <td>Austin, TX</td>\n",
       "      <td>1</td>\n",
       "      <td>4.7</td>\n",
       "      <td>{'All': '5218', 'Since 2013': '2863', '1995': ...</td>\n",
       "      <td>cverdin@austin.utexas.edu</td>\n",
       "      <td>https://scholar.google.com/citations?user=I-J9...</td>\n",
       "      <td>{'h-index': {'All': '34', 'Since 2013': '23'},...</td>\n",
       "      <td>CPE 5.182A</td>\n",
       "      <td>https://www.pge.utexas.edu/facultystaff/profil...</td>\n",
       "      <td>(512) 471-4216, (512) 471-3161</td>\n",
       "      <td>3.1</td>\n",
       "      <td>[Static and Dynamic Formation Evaluation, Bore...</td>\n",
       "      <td>[ Amazing lectures (3),  BEWARE OF POP QUIZZES...</td>\n",
       "      <td>Professor</td>\n",
       "      <td>Carlos Torres-Verdin</td>\n",
       "      <td>INTERPRETATION OF BOREHOLE SONIC MEASUREMENTS...</td>\n",
       "      <td>Clastic rocks with variable grain sizes exhi...</td>\n",
       "      <td>100</td>\n",
       "    </tr>\n",
       "    <tr>\n",
       "      <th>1</th>\n",
       "      <td>University of Texas--Austin (Cockrell)</td>\n",
       "      <td>Austin, TX</td>\n",
       "      <td>1</td>\n",
       "      <td>4.7</td>\n",
       "      <td>{'All': '3308', 'Since 2013': '1489', '1992': ...</td>\n",
       "      <td>dicarlo@mail.utexas.edu</td>\n",
       "      <td>https://scholar.google.com/citations?user=OFIv...</td>\n",
       "      <td>{'h-index': {'All': '30', 'Since 2013': '21'},...</td>\n",
       "      <td>CPE 4.174</td>\n",
       "      <td>https://www.pge.utexas.edu/facultystaff/profil...</td>\n",
       "      <td>(512) 471-1283</td>\n",
       "      <td>3.5</td>\n",
       "      <td>[Chemical EOR, Gas Enhanced Oil Recovery, Geol...</td>\n",
       "      <td>[ Tough Grader (2),  TEST HEAVY (1),  LOTS OF ...</td>\n",
       "      <td>Associate Professor</td>\n",
       "      <td>David DiCarlo</td>\n",
       "      <td>Replicating carbonaceous vug in synthetic por...</td>\n",
       "      <td>This paper presents an alternative method of ...</td>\n",
       "      <td>100</td>\n",
       "    </tr>\n",
       "    <tr>\n",
       "      <th>2</th>\n",
       "      <td>University of Texas--Austin (Cockrell)</td>\n",
       "      <td>Austin, TX</td>\n",
       "      <td>1</td>\n",
       "      <td>4.7</td>\n",
       "      <td>{'All': '3255', 'Since 2013': '1697', '1990': ...</td>\n",
       "      <td>vanoort@austin.utexas.edu</td>\n",
       "      <td>https://scholar.google.com/citations?user=r7In...</td>\n",
       "      <td>{'h-index': {'All': '27', 'Since 2013': '18'},...</td>\n",
       "      <td>CPE 5.186A</td>\n",
       "      <td>https://www.pge.utexas.edu/facultystaff/profil...</td>\n",
       "      <td>(512) 471-6262</td>\n",
       "      <td></td>\n",
       "      <td>[Drilling, Well Completions, and Rock Mechanic...</td>\n",
       "      <td>[]</td>\n",
       "      <td>Professor</td>\n",
       "      <td>Eric van Oort</td>\n",
       "      <td>Thermal wellbore strengthening through manage...</td>\n",
       "      <td>This paper is the first part of a two-part se...</td>\n",
       "      <td>99</td>\n",
       "    </tr>\n",
       "    <tr>\n",
       "      <th>3</th>\n",
       "      <td>University of Texas--Austin (Cockrell)</td>\n",
       "      <td>Austin, TX</td>\n",
       "      <td>1</td>\n",
       "      <td>4.7</td>\n",
       "      <td>{'All': '15200', 'Since 2013': '7251', '1981':...</td>\n",
       "      <td>gpope@mail.utexas.edu</td>\n",
       "      <td>https://scholar.google.com/citations?user=OZRK...</td>\n",
       "      <td>{'h-index': {'All': '63', 'Since 2013': '43'},...</td>\n",
       "      <td>CPE 2.502</td>\n",
       "      <td>https://www.pge.utexas.edu/facultystaff/profil...</td>\n",
       "      <td>(512) 471-3235, (512) 471-3161</td>\n",
       "      <td></td>\n",
       "      <td>[Environmental Engineering; Natural Gas Engine...</td>\n",
       "      <td>[]</td>\n",
       "      <td>Professor</td>\n",
       "      <td>Gary Pope</td>\n",
       "      <td>Apparatus and Method for Potable Water Extrac...</td>\n",
       "      <td>Unstable displacement and the resulting vis...</td>\n",
       "      <td>100</td>\n",
       "    </tr>\n",
       "    <tr>\n",
       "      <th>4</th>\n",
       "      <td>University of Texas--Austin (Cockrell)</td>\n",
       "      <td>Austin, TX</td>\n",
       "      <td>1</td>\n",
       "      <td>4.7</td>\n",
       "      <td>{'All': '732', 'Since 2013': '678', '2010': '3...</td>\n",
       "      <td>daigle@austin.utexas.edu</td>\n",
       "      <td>https://scholar.google.com/citations?user=XitK...</td>\n",
       "      <td>{'h-index': {'All': '16', 'Since 2013': '16'},...</td>\n",
       "      <td>CPE 5.174</td>\n",
       "      <td>https://www.pge.utexas.edu/facultystaff/profil...</td>\n",
       "      <td>(512) 471-3775</td>\n",
       "      <td></td>\n",
       "      <td>[Drilling, Well Completions, and Rock Mechanic...</td>\n",
       "      <td>[]</td>\n",
       "      <td>Assistant Professor</td>\n",
       "      <td>Hugh Daigle</td>\n",
       "      <td>Burial-driven methane recycling in marine gas...</td>\n",
       "      <td>Natural gas hydrate may be buried with sedime...</td>\n",
       "      <td>100</td>\n",
       "    </tr>\n",
       "  </tbody>\n",
       "</table>\n",
       "</div>"
      ],
      "text/plain": [
       "                          university_name    location rank score  \\\n",
       "0  University of Texas--Austin (Cockrell)  Austin, TX    1   4.7   \n",
       "1  University of Texas--Austin (Cockrell)  Austin, TX    1   4.7   \n",
       "2  University of Texas--Austin (Cockrell)  Austin, TX    1   4.7   \n",
       "3  University of Texas--Austin (Cockrell)  Austin, TX    1   4.7   \n",
       "4  University of Texas--Austin (Cockrell)  Austin, TX    1   4.7   \n",
       "\n",
       "                                           citations  \\\n",
       "0  {'All': '5218', 'Since 2013': '2863', '1995': ...   \n",
       "1  {'All': '3308', 'Since 2013': '1489', '1992': ...   \n",
       "2  {'All': '3255', 'Since 2013': '1697', '1990': ...   \n",
       "3  {'All': '15200', 'Since 2013': '7251', '1981':...   \n",
       "4  {'All': '732', 'Since 2013': '678', '2010': '3...   \n",
       "\n",
       "                       email  \\\n",
       "0  cverdin@austin.utexas.edu   \n",
       "1    dicarlo@mail.utexas.edu   \n",
       "2  vanoort@austin.utexas.edu   \n",
       "3      gpope@mail.utexas.edu   \n",
       "4   daigle@austin.utexas.edu   \n",
       "\n",
       "                                 google_scholar_link  \\\n",
       "0  https://scholar.google.com/citations?user=I-J9...   \n",
       "1  https://scholar.google.com/citations?user=OFIv...   \n",
       "2  https://scholar.google.com/citations?user=r7In...   \n",
       "3  https://scholar.google.com/citations?user=OZRK...   \n",
       "4  https://scholar.google.com/citations?user=XitK...   \n",
       "\n",
       "                                             indices      office  \\\n",
       "0  {'h-index': {'All': '34', 'Since 2013': '23'},...  CPE 5.182A   \n",
       "1  {'h-index': {'All': '30', 'Since 2013': '21'},...   CPE 4.174   \n",
       "2  {'h-index': {'All': '27', 'Since 2013': '18'},...  CPE 5.186A   \n",
       "3  {'h-index': {'All': '63', 'Since 2013': '43'},...   CPE 2.502   \n",
       "4  {'h-index': {'All': '16', 'Since 2013': '16'},...   CPE 5.174   \n",
       "\n",
       "                                                page  \\\n",
       "0  https://www.pge.utexas.edu/facultystaff/profil...   \n",
       "1  https://www.pge.utexas.edu/facultystaff/profil...   \n",
       "2  https://www.pge.utexas.edu/facultystaff/profil...   \n",
       "3  https://www.pge.utexas.edu/facultystaff/profil...   \n",
       "4  https://www.pge.utexas.edu/facultystaff/profil...   \n",
       "\n",
       "                            phone rating  \\\n",
       "0  (512) 471-4216, (512) 471-3161    3.1   \n",
       "1                  (512) 471-1283    3.5   \n",
       "2                  (512) 471-6262          \n",
       "3  (512) 471-3235, (512) 471-3161          \n",
       "4                  (512) 471-3775          \n",
       "\n",
       "                                      research_areas  \\\n",
       "0  [Static and Dynamic Formation Evaluation, Bore...   \n",
       "1  [Chemical EOR, Gas Enhanced Oil Recovery, Geol...   \n",
       "2  [Drilling, Well Completions, and Rock Mechanic...   \n",
       "3  [Environmental Engineering; Natural Gas Engine...   \n",
       "4  [Drilling, Well Completions, and Rock Mechanic...   \n",
       "\n",
       "                                                tags                 title  \\\n",
       "0  [ Amazing lectures (3),  BEWARE OF POP QUIZZES...             Professor   \n",
       "1  [ Tough Grader (2),  TEST HEAVY (1),  LOTS OF ...   Associate Professor   \n",
       "2                                                 []             Professor   \n",
       "3                                                 []             Professor   \n",
       "4                                                 []  Assistant Professor    \n",
       "\n",
       "           faculty_name                                       paper_titles  \\\n",
       "0  Carlos Torres-Verdin   INTERPRETATION OF BOREHOLE SONIC MEASUREMENTS...   \n",
       "1         David DiCarlo   Replicating carbonaceous vug in synthetic por...   \n",
       "2         Eric van Oort   Thermal wellbore strengthening through manage...   \n",
       "3             Gary Pope   Apparatus and Method for Potable Water Extrac...   \n",
       "4           Hugh Daigle   Burial-driven methane recycling in marine gas...   \n",
       "\n",
       "                                           abstracts  paper_count  \n",
       "0    Clastic rocks with variable grain sizes exhi...          100  \n",
       "1   This paper presents an alternative method of ...          100  \n",
       "2   This paper is the first part of a two-part se...           99  \n",
       "3     Unstable displacement and the resulting vis...          100  \n",
       "4   Natural gas hydrate may be buried with sedime...          100  "
      ]
     },
     "execution_count": 5,
     "metadata": {},
     "output_type": "execute_result"
    }
   ],
   "source": [
    "majors_df = database_cleaner('../data/json/majors_database.json')\n",
    "majors_df.head()"
   ]
  },
  {
   "cell_type": "code",
   "execution_count": 6,
   "metadata": {
    "ExecuteTime": {
     "end_time": "2018-08-31T03:32:27.155454Z",
     "start_time": "2018-08-31T03:32:27.129855Z"
    },
    "scrolled": true
   },
   "outputs": [
    {
     "data": {
      "text/plain": [
       "100    25\n",
       "14      4\n",
       "16      3\n",
       "23      3\n",
       "72      2\n",
       "31      2\n",
       "41      2\n",
       "44      2\n",
       "99      2\n",
       "62      2\n",
       "66      2\n",
       "52      2\n",
       "92      2\n",
       "80      2\n",
       "76      1\n",
       "24      1\n",
       "36      1\n",
       "34      1\n",
       "33      1\n",
       "95      1\n",
       "26      1\n",
       "96      1\n",
       "39      1\n",
       "22      1\n",
       "20      1\n",
       "97      1\n",
       "98      1\n",
       "13      1\n",
       "7       1\n",
       "38      1\n",
       "42      1\n",
       "94      1\n",
       "79      1\n",
       "45      1\n",
       "46      1\n",
       "47      1\n",
       "48      1\n",
       "87      1\n",
       "53      1\n",
       "58      1\n",
       "59      1\n",
       "60      1\n",
       "81      1\n",
       "65      1\n",
       "68      1\n",
       "69      1\n",
       "4       1\n",
       "Name: paper_count, dtype: int64"
      ]
     },
     "execution_count": 6,
     "metadata": {},
     "output_type": "execute_result"
    }
   ],
   "source": [
    "majors_df[\"paper_count\"].value_counts()"
   ]
  },
  {
   "cell_type": "code",
   "execution_count": 7,
   "metadata": {
    "ExecuteTime": {
     "end_time": "2018-08-31T03:33:31.085941Z",
     "start_time": "2018-08-31T03:33:31.062158Z"
    }
   },
   "outputs": [
    {
     "data": {
      "text/plain": [
       "5710"
      ]
     },
     "execution_count": 7,
     "metadata": {},
     "output_type": "execute_result"
    }
   ],
   "source": [
    "majors_df[\"paper_count\"].sum()"
   ]
  },
  {
   "cell_type": "code",
   "execution_count": null,
   "metadata": {},
   "outputs": [],
   "source": []
  }
 ],
 "metadata": {
  "kernelspec": {
   "display_name": "Python 3",
   "language": "python",
   "name": "python3"
  },
  "language_info": {
   "codemirror_mode": {
    "name": "ipython",
    "version": 3
   },
   "file_extension": ".py",
   "mimetype": "text/x-python",
   "name": "python",
   "nbconvert_exporter": "python",
   "pygments_lexer": "ipython3",
   "version": "3.6.5"
  }
 },
 "nbformat": 4,
 "nbformat_minor": 2
}
