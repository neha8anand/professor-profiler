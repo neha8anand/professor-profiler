{
 "cells": [
  {
   "cell_type": "code",
   "execution_count": 9,
   "metadata": {
    "ExecuteTime": {
     "end_time": "2018-08-30T22:53:13.030564Z",
     "start_time": "2018-08-30T22:53:12.937992Z"
    }
   },
   "outputs": [],
   "source": [
    "import pandas as pd\n",
    "import numpy as np"
   ]
  },
  {
   "cell_type": "code",
   "execution_count": 10,
   "metadata": {
    "ExecuteTime": {
     "end_time": "2018-08-30T22:53:13.752443Z",
     "start_time": "2018-08-30T22:53:13.549781Z"
    }
   },
   "outputs": [
    {
     "data": {
      "text/plain": [
       "Index(['Dominant_Topic', 'Perc_Contribution', 'Topic_Keywords', 'abstracts',\n",
       "       'citations', 'email', 'faculty_name', 'google_scholar_link', 'indices',\n",
       "       'location', 'office', 'page', 'paper_titles', 'phone', 'rank', 'rating',\n",
       "       'research_areas', 'score', 'tags', 'title', 'university_name'],\n",
       "      dtype='object')"
      ]
     },
     "execution_count": 10,
     "metadata": {},
     "output_type": "execute_result"
    }
   ],
   "source": [
    "df = pd.read_json('../../data/json/final_gensim_database_LDAMallet.json')\n",
    "df.columns"
   ]
  },
  {
   "cell_type": "code",
   "execution_count": 6,
   "metadata": {
    "ExecuteTime": {
     "end_time": "2018-08-30T04:26:31.863600Z",
     "start_time": "2018-08-30T04:26:31.675369Z"
    }
   },
   "outputs": [
    {
     "data": {
      "text/plain": [
       "Index(['Dominant_Topic', 'Perc_Contribution', 'Topic_Keywords', 'abstracts',\n",
       "       'citations', 'email', 'faculty_name', 'google_scholar_link', 'indices',\n",
       "       'location', 'office', 'page', 'paper_titles', 'phone', 'rank', 'rating',\n",
       "       'research_areas', 'score', 'tags', 'title', 'university_name'],\n",
       "      dtype='object')"
      ]
     },
     "execution_count": 6,
     "metadata": {},
     "output_type": "execute_result"
    }
   ],
   "source": [
    "df = pd.read_json('../../data/json/final_gensim_database_LDA.json')\n",
    "df.columns"
   ]
  },
  {
   "cell_type": "code",
   "execution_count": 7,
   "metadata": {
    "ExecuteTime": {
     "end_time": "2018-08-30T04:26:49.457277Z",
     "start_time": "2018-08-30T04:26:49.339516Z"
    }
   },
   "outputs": [
    {
     "data": {
      "text/plain": [
       "Index(['abstracts', 'citations', 'email', 'faculty_name',\n",
       "       'google_scholar_link', 'indices', 'location', 'office', 'page',\n",
       "       'paper_titles', 'phone', 'predicted_cluster_num',\n",
       "       'predicted_research_areas', 'rank', 'rating', 'research_areas', 'score',\n",
       "       'tags', 'title', 'university_name'],\n",
       "      dtype='object')"
      ]
     },
     "execution_count": 7,
     "metadata": {},
     "output_type": "execute_result"
    }
   ],
   "source": [
    "df = pd.read_json('../../data/json/final_database.json')\n",
    "df.columns"
   ]
  },
  {
   "cell_type": "code",
   "execution_count": 8,
   "metadata": {
    "ExecuteTime": {
     "end_time": "2018-08-30T04:28:18.351764Z",
     "start_time": "2018-08-30T04:28:18.233400Z"
    }
   },
   "outputs": [
    {
     "data": {
      "text/plain": [
       "Index(['abstracts', 'citations', 'email', 'faculty_name',\n",
       "       'google_scholar_link', 'indices', 'location', 'office', 'page',\n",
       "       'paper_titles', 'phone', 'predicted_research_areas',\n",
       "       'predicted_topic_num', 'rank', 'rating', 'research_areas', 'score',\n",
       "       'tags', 'title', 'university_name'],\n",
       "      dtype='object')"
      ]
     },
     "execution_count": 8,
     "metadata": {},
     "output_type": "execute_result"
    }
   ],
   "source": [
    "df = pd.read_json('../../data/json/final_topic_database.json')\n",
    "df.columns"
   ]
  },
  {
   "cell_type": "code",
   "execution_count": 11,
   "metadata": {
    "ExecuteTime": {
     "end_time": "2018-08-30T22:53:53.807684Z",
     "start_time": "2018-08-30T22:53:53.701841Z"
    }
   },
   "outputs": [
    {
     "data": {
      "text/html": [
       "<div>\n",
       "<style scoped>\n",
       "    .dataframe tbody tr th:only-of-type {\n",
       "        vertical-align: middle;\n",
       "    }\n",
       "\n",
       "    .dataframe tbody tr th {\n",
       "        vertical-align: top;\n",
       "    }\n",
       "\n",
       "    .dataframe thead th {\n",
       "        text-align: right;\n",
       "    }\n",
       "</style>\n",
       "<table border=\"1\" class=\"dataframe\">\n",
       "  <thead>\n",
       "    <tr style=\"text-align: right;\">\n",
       "      <th></th>\n",
       "      <th>Dominant_Topic</th>\n",
       "      <th>Perc_Contribution</th>\n",
       "      <th>Topic_Keywords</th>\n",
       "      <th>abstracts</th>\n",
       "      <th>citations</th>\n",
       "      <th>email</th>\n",
       "      <th>faculty_name</th>\n",
       "      <th>google_scholar_link</th>\n",
       "      <th>indices</th>\n",
       "      <th>location</th>\n",
       "      <th>...</th>\n",
       "      <th>page</th>\n",
       "      <th>paper_titles</th>\n",
       "      <th>phone</th>\n",
       "      <th>rank</th>\n",
       "      <th>rating</th>\n",
       "      <th>research_areas</th>\n",
       "      <th>score</th>\n",
       "      <th>tags</th>\n",
       "      <th>title</th>\n",
       "      <th>university_name</th>\n",
       "    </tr>\n",
       "  </thead>\n",
       "  <tbody>\n",
       "    <tr>\n",
       "      <th>0</th>\n",
       "      <td>6</td>\n",
       "      <td>0.5344</td>\n",
       "      <td>pore, rock, measurements, permeability, proper...</td>\n",
       "      <td>Clastic rocks with variable grain sizes exhi...</td>\n",
       "      <td>{'All': '5218', 'Since 2013': '2863', '1995': ...</td>\n",
       "      <td>cverdin@austin.utexas.edu</td>\n",
       "      <td>Carlos Torres-Verdin</td>\n",
       "      <td>https://scholar.google.com/citations?user=I-J9...</td>\n",
       "      <td>{'h-index': {'All': '34', 'Since 2013': '23'},...</td>\n",
       "      <td>Austin, TX</td>\n",
       "      <td>...</td>\n",
       "      <td>https://www.pge.utexas.edu/facultystaff/profil...</td>\n",
       "      <td>INTERPRETATION OF BOREHOLE SONIC MEASUREMENTS...</td>\n",
       "      <td>(512) 471-4216, (512) 471-3161</td>\n",
       "      <td>1</td>\n",
       "      <td>3.1</td>\n",
       "      <td>[Static and Dynamic Formation Evaluation, Bore...</td>\n",
       "      <td>4.7</td>\n",
       "      <td>[ Amazing lectures (3),  BEWARE OF POP QUIZZES...</td>\n",
       "      <td>Professor</td>\n",
       "      <td>University of Texas--Austin (Cockrell)</td>\n",
       "    </tr>\n",
       "    <tr>\n",
       "      <th>1</th>\n",
       "      <td>7</td>\n",
       "      <td>0.4778</td>\n",
       "      <td>oil, recovery, surfactant, foam, water, permea...</td>\n",
       "      <td>This paper presents an alternative method of ...</td>\n",
       "      <td>{'All': '3308', 'Since 2013': '1489', '1992': ...</td>\n",
       "      <td>dicarlo@mail.utexas.edu</td>\n",
       "      <td>David DiCarlo</td>\n",
       "      <td>https://scholar.google.com/citations?user=OFIv...</td>\n",
       "      <td>{'h-index': {'All': '30', 'Since 2013': '21'},...</td>\n",
       "      <td>Austin, TX</td>\n",
       "      <td>...</td>\n",
       "      <td>https://www.pge.utexas.edu/facultystaff/profil...</td>\n",
       "      <td>Replicating carbonaceous vug in synthetic por...</td>\n",
       "      <td>(512) 471-1283</td>\n",
       "      <td>1</td>\n",
       "      <td>3.5</td>\n",
       "      <td>[Chemical EOR, Gas Enhanced Oil Recovery, Geol...</td>\n",
       "      <td>4.7</td>\n",
       "      <td>[ Tough Grader (2),  TEST HEAVY (1),  LOTS OF ...</td>\n",
       "      <td>Associate Professor</td>\n",
       "      <td>University of Texas--Austin (Cockrell)</td>\n",
       "    </tr>\n",
       "    <tr>\n",
       "      <th>10</th>\n",
       "      <td>7</td>\n",
       "      <td>0.7145</td>\n",
       "      <td>oil, recovery, surfactant, foam, water, permea...</td>\n",
       "      <td>Numerous studies based on static imbibition e...</td>\n",
       "      <td>{'All': '5930', 'Since 2013': '3336', '1986': ...</td>\n",
       "      <td>mohanty@mail.utexas.edu</td>\n",
       "      <td>Kishore Mohanty</td>\n",
       "      <td>https://scholar.google.com/citations?user=Eocb...</td>\n",
       "      <td>{'h-index': {'All': '43', 'Since 2013': '32'},...</td>\n",
       "      <td>Austin, TX</td>\n",
       "      <td>...</td>\n",
       "      <td>https://www.pge.utexas.edu/facultystaff/profil...</td>\n",
       "      <td>Dynamic surfactant-aided imbibition in fractu...</td>\n",
       "      <td>(512) 471-3077</td>\n",
       "      <td>1</td>\n",
       "      <td></td>\n",
       "      <td>[Chemical EOR, Gas Enhanced Oil Recovery, Hydr...</td>\n",
       "      <td>4.7</td>\n",
       "      <td>[]</td>\n",
       "      <td>Professor</td>\n",
       "      <td>University of Texas--Austin (Cockrell)</td>\n",
       "    </tr>\n",
       "    <tr>\n",
       "      <th>11</th>\n",
       "      <td>0</td>\n",
       "      <td>0.3748</td>\n",
       "      <td>data, model, pressure, reservoir, field, metho...</td>\n",
       "      <td>Several tools and techniques exist to underst...</td>\n",
       "      <td>{'All': '13066', 'Since 2013': '5639', '1986':...</td>\n",
       "      <td>larry_lake@mail.utexas.edu</td>\n",
       "      <td>Larry Lake</td>\n",
       "      <td>https://scholar.google.com/citations?user=eGlU...</td>\n",
       "      <td>{'h-index': {'All': '58', 'Since 2013': '34'},...</td>\n",
       "      <td>Austin, TX</td>\n",
       "      <td>...</td>\n",
       "      <td>https://www.pge.utexas.edu/facultystaff/profil...</td>\n",
       "      <td>Extension of Capacitance/Resistance Model to ...</td>\n",
       "      <td>(512) 471-8233, (512) 471-3161</td>\n",
       "      <td>1</td>\n",
       "      <td>2.4</td>\n",
       "      <td>[Fundamental Processes; Integrated Reservoir C...</td>\n",
       "      <td>4.7</td>\n",
       "      <td>[ ACCESSIBLE OUTSIDE CLASS (1),  Inspirational...</td>\n",
       "      <td>Professor</td>\n",
       "      <td>University of Texas--Austin (Cockrell)</td>\n",
       "    </tr>\n",
       "    <tr>\n",
       "      <th>12</th>\n",
       "      <td>2</td>\n",
       "      <td>0.3507</td>\n",
       "      <td>reservoir, simulation, model, flow, approach, ...</td>\n",
       "      <td>In this paper, we propose an enriched Galerk...</td>\n",
       "      <td>{'All': '19220', 'Since 2013': '7838', '1982':...</td>\n",
       "      <td>mfw@ices.utexas.edu</td>\n",
       "      <td>Mary Wheeler</td>\n",
       "      <td>https://scholar.google.com/citations?user=sX58...</td>\n",
       "      <td>{'h-index': {'All': '66', 'Since 2013': '45'},...</td>\n",
       "      <td>Austin, TX</td>\n",
       "      <td>...</td>\n",
       "      <td>https://www.pge.utexas.edu/facultystaff/profil...</td>\n",
       "      <td>Mixed Formulation of a Linearized Lubrication...</td>\n",
       "      <td>(512) 475-8625</td>\n",
       "      <td>1</td>\n",
       "      <td></td>\n",
       "      <td>[Drilling, Well Completions, and Rock Mechanic...</td>\n",
       "      <td>4.7</td>\n",
       "      <td>[]</td>\n",
       "      <td>Professor</td>\n",
       "      <td>University of Texas--Austin (Cockrell)</td>\n",
       "    </tr>\n",
       "  </tbody>\n",
       "</table>\n",
       "<p>5 rows × 21 columns</p>\n",
       "</div>"
      ],
      "text/plain": [
       "    Dominant_Topic  Perc_Contribution  \\\n",
       "0                6             0.5344   \n",
       "1                7             0.4778   \n",
       "10               7             0.7145   \n",
       "11               0             0.3748   \n",
       "12               2             0.3507   \n",
       "\n",
       "                                       Topic_Keywords  \\\n",
       "0   pore, rock, measurements, permeability, proper...   \n",
       "1   oil, recovery, surfactant, foam, water, permea...   \n",
       "10  oil, recovery, surfactant, foam, water, permea...   \n",
       "11  data, model, pressure, reservoir, field, metho...   \n",
       "12  reservoir, simulation, model, flow, approach, ...   \n",
       "\n",
       "                                            abstracts  \\\n",
       "0     Clastic rocks with variable grain sizes exhi...   \n",
       "1    This paper presents an alternative method of ...   \n",
       "10   Numerous studies based on static imbibition e...   \n",
       "11   Several tools and techniques exist to underst...   \n",
       "12    In this paper, we propose an enriched Galerk...   \n",
       "\n",
       "                                            citations  \\\n",
       "0   {'All': '5218', 'Since 2013': '2863', '1995': ...   \n",
       "1   {'All': '3308', 'Since 2013': '1489', '1992': ...   \n",
       "10  {'All': '5930', 'Since 2013': '3336', '1986': ...   \n",
       "11  {'All': '13066', 'Since 2013': '5639', '1986':...   \n",
       "12  {'All': '19220', 'Since 2013': '7838', '1982':...   \n",
       "\n",
       "                         email          faculty_name  \\\n",
       "0    cverdin@austin.utexas.edu  Carlos Torres-Verdin   \n",
       "1      dicarlo@mail.utexas.edu         David DiCarlo   \n",
       "10     mohanty@mail.utexas.edu       Kishore Mohanty   \n",
       "11  larry_lake@mail.utexas.edu            Larry Lake   \n",
       "12         mfw@ices.utexas.edu          Mary Wheeler   \n",
       "\n",
       "                                  google_scholar_link  \\\n",
       "0   https://scholar.google.com/citations?user=I-J9...   \n",
       "1   https://scholar.google.com/citations?user=OFIv...   \n",
       "10  https://scholar.google.com/citations?user=Eocb...   \n",
       "11  https://scholar.google.com/citations?user=eGlU...   \n",
       "12  https://scholar.google.com/citations?user=sX58...   \n",
       "\n",
       "                                              indices    location  \\\n",
       "0   {'h-index': {'All': '34', 'Since 2013': '23'},...  Austin, TX   \n",
       "1   {'h-index': {'All': '30', 'Since 2013': '21'},...  Austin, TX   \n",
       "10  {'h-index': {'All': '43', 'Since 2013': '32'},...  Austin, TX   \n",
       "11  {'h-index': {'All': '58', 'Since 2013': '34'},...  Austin, TX   \n",
       "12  {'h-index': {'All': '66', 'Since 2013': '45'},...  Austin, TX   \n",
       "\n",
       "                     ...                    \\\n",
       "0                    ...                     \n",
       "1                    ...                     \n",
       "10                   ...                     \n",
       "11                   ...                     \n",
       "12                   ...                     \n",
       "\n",
       "                                                 page  \\\n",
       "0   https://www.pge.utexas.edu/facultystaff/profil...   \n",
       "1   https://www.pge.utexas.edu/facultystaff/profil...   \n",
       "10  https://www.pge.utexas.edu/facultystaff/profil...   \n",
       "11  https://www.pge.utexas.edu/facultystaff/profil...   \n",
       "12  https://www.pge.utexas.edu/facultystaff/profil...   \n",
       "\n",
       "                                         paper_titles  \\\n",
       "0    INTERPRETATION OF BOREHOLE SONIC MEASUREMENTS...   \n",
       "1    Replicating carbonaceous vug in synthetic por...   \n",
       "10   Dynamic surfactant-aided imbibition in fractu...   \n",
       "11   Extension of Capacitance/Resistance Model to ...   \n",
       "12   Mixed Formulation of a Linearized Lubrication...   \n",
       "\n",
       "                             phone rank  rating  \\\n",
       "0   (512) 471-4216, (512) 471-3161    1     3.1   \n",
       "1                   (512) 471-1283    1     3.5   \n",
       "10                  (512) 471-3077    1           \n",
       "11  (512) 471-8233, (512) 471-3161    1     2.4   \n",
       "12                  (512) 475-8625    1           \n",
       "\n",
       "                                       research_areas score  \\\n",
       "0   [Static and Dynamic Formation Evaluation, Bore...   4.7   \n",
       "1   [Chemical EOR, Gas Enhanced Oil Recovery, Geol...   4.7   \n",
       "10  [Chemical EOR, Gas Enhanced Oil Recovery, Hydr...   4.7   \n",
       "11  [Fundamental Processes; Integrated Reservoir C...   4.7   \n",
       "12  [Drilling, Well Completions, and Rock Mechanic...   4.7   \n",
       "\n",
       "                                                 tags                title  \\\n",
       "0   [ Amazing lectures (3),  BEWARE OF POP QUIZZES...            Professor   \n",
       "1   [ Tough Grader (2),  TEST HEAVY (1),  LOTS OF ...  Associate Professor   \n",
       "10                                                 []            Professor   \n",
       "11  [ ACCESSIBLE OUTSIDE CLASS (1),  Inspirational...            Professor   \n",
       "12                                                 []            Professor   \n",
       "\n",
       "                           university_name  \n",
       "0   University of Texas--Austin (Cockrell)  \n",
       "1   University of Texas--Austin (Cockrell)  \n",
       "10  University of Texas--Austin (Cockrell)  \n",
       "11  University of Texas--Austin (Cockrell)  \n",
       "12  University of Texas--Austin (Cockrell)  \n",
       "\n",
       "[5 rows x 21 columns]"
      ]
     },
     "execution_count": 11,
     "metadata": {},
     "output_type": "execute_result"
    }
   ],
   "source": [
    "df.head()"
   ]
  },
  {
   "cell_type": "code",
   "execution_count": null,
   "metadata": {},
   "outputs": [],
   "source": []
  }
 ],
 "metadata": {
  "kernelspec": {
   "display_name": "Python 3",
   "language": "python",
   "name": "python3"
  },
  "language_info": {
   "codemirror_mode": {
    "name": "ipython",
    "version": 3
   },
   "file_extension": ".py",
   "mimetype": "text/x-python",
   "name": "python",
   "nbconvert_exporter": "python",
   "pygments_lexer": "ipython3",
   "version": "3.6.5"
  }
 },
 "nbformat": 4,
 "nbformat_minor": 2
}
