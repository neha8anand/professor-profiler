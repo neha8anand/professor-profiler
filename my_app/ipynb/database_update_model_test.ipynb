{
 "cells": [
  {
   "cell_type": "code",
   "execution_count": 2,
   "metadata": {
    "ExecuteTime": {
     "end_time": "2018-08-30T03:20:24.487419Z",
     "start_time": "2018-08-30T03:20:24.158378Z"
    }
   },
   "outputs": [],
   "source": [
    "import pandas as pd\n",
    "import numpy as np"
   ]
  },
  {
   "cell_type": "code",
   "execution_count": 4,
   "metadata": {
    "ExecuteTime": {
     "end_time": "2018-08-30T03:20:37.769558Z",
     "start_time": "2018-08-30T03:20:37.655131Z"
    }
   },
   "outputs": [
    {
     "data": {
      "text/plain": [
       "Index(['Dominant_Topic', 'Perc_Contribution', 'Topic_Keywords', 'abstracts',\n",
       "       'citations', 'email', 'faculty_name', 'google_scholar_link', 'indices',\n",
       "       'location', 'office', 'page', 'paper_titles', 'phone', 'rank', 'rating',\n",
       "       'research_areas', 'score', 'tags', 'title', 'university_name'],\n",
       "      dtype='object')"
      ]
     },
     "execution_count": 4,
     "metadata": {},
     "output_type": "execute_result"
    }
   ],
   "source": [
    "df = pd.read_json('../../data/json/final_gensim_database_LDAMallet.json')\n",
    "df.columns"
   ]
  },
  {
   "cell_type": "code",
   "execution_count": 6,
   "metadata": {
    "ExecuteTime": {
     "end_time": "2018-08-30T04:26:31.863600Z",
     "start_time": "2018-08-30T04:26:31.675369Z"
    }
   },
   "outputs": [
    {
     "data": {
      "text/plain": [
       "Index(['Dominant_Topic', 'Perc_Contribution', 'Topic_Keywords', 'abstracts',\n",
       "       'citations', 'email', 'faculty_name', 'google_scholar_link', 'indices',\n",
       "       'location', 'office', 'page', 'paper_titles', 'phone', 'rank', 'rating',\n",
       "       'research_areas', 'score', 'tags', 'title', 'university_name'],\n",
       "      dtype='object')"
      ]
     },
     "execution_count": 6,
     "metadata": {},
     "output_type": "execute_result"
    }
   ],
   "source": [
    "df = pd.read_json('../../data/json/final_gensim_database_LDA.json')\n",
    "df.columns"
   ]
  },
  {
   "cell_type": "code",
   "execution_count": 7,
   "metadata": {
    "ExecuteTime": {
     "end_time": "2018-08-30T04:26:49.457277Z",
     "start_time": "2018-08-30T04:26:49.339516Z"
    }
   },
   "outputs": [
    {
     "data": {
      "text/plain": [
       "Index(['abstracts', 'citations', 'email', 'faculty_name',\n",
       "       'google_scholar_link', 'indices', 'location', 'office', 'page',\n",
       "       'paper_titles', 'phone', 'predicted_cluster_num',\n",
       "       'predicted_research_areas', 'rank', 'rating', 'research_areas', 'score',\n",
       "       'tags', 'title', 'university_name'],\n",
       "      dtype='object')"
      ]
     },
     "execution_count": 7,
     "metadata": {},
     "output_type": "execute_result"
    }
   ],
   "source": [
    "df = pd.read_json('../../data/json/final_database.json')\n",
    "df.columns"
   ]
  },
  {
   "cell_type": "code",
   "execution_count": 8,
   "metadata": {
    "ExecuteTime": {
     "end_time": "2018-08-30T04:28:18.351764Z",
     "start_time": "2018-08-30T04:28:18.233400Z"
    }
   },
   "outputs": [
    {
     "data": {
      "text/plain": [
       "Index(['abstracts', 'citations', 'email', 'faculty_name',\n",
       "       'google_scholar_link', 'indices', 'location', 'office', 'page',\n",
       "       'paper_titles', 'phone', 'predicted_research_areas',\n",
       "       'predicted_topic_num', 'rank', 'rating', 'research_areas', 'score',\n",
       "       'tags', 'title', 'university_name'],\n",
       "      dtype='object')"
      ]
     },
     "execution_count": 8,
     "metadata": {},
     "output_type": "execute_result"
    }
   ],
   "source": [
    "df = pd.read_json('../../data/json/final_topic_database.json')\n",
    "df.columns"
   ]
  },
  {
   "cell_type": "code",
   "execution_count": null,
   "metadata": {},
   "outputs": [],
   "source": []
  }
 ],
 "metadata": {
  "kernelspec": {
   "display_name": "Python 3",
   "language": "python",
   "name": "python3"
  },
  "language_info": {
   "codemirror_mode": {
    "name": "ipython",
    "version": 3
   },
   "file_extension": ".py",
   "mimetype": "text/x-python",
   "name": "python",
   "nbconvert_exporter": "python",
   "pygments_lexer": "ipython3",
   "version": "3.6.5"
  }
 },
 "nbformat": 4,
 "nbformat_minor": 2
}
