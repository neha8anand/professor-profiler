{
 "cells": [
  {
   "cell_type": "code",
   "execution_count": 86,
   "metadata": {
    "ExecuteTime": {
     "end_time": "2018-08-26T21:57:28.434249Z",
     "start_time": "2018-08-26T21:57:28.383813Z"
    }
   },
   "outputs": [],
   "source": [
    "from cleaning import database_cleaner\n",
    "\n",
    "from pprint import pprint\n",
    "import string\n",
    "import re\n",
    "\n",
    "# Gensim\n",
    "import gensim\n",
    "from gensim.models import CoherenceModel\n",
    "from gensim import models, corpora\n",
    "from gensim import similarities\n",
    "\n",
    "# Plotting tools\n",
    "import pyLDAvis\n",
    "import pyLDAvis.gensim  \n",
    "import matplotlib.pyplot as plt\n",
    "%matplotlib inline\n",
    "\n",
    "# NLTK\n",
    "from nltk.corpus import stopwords\n",
    "from nltk import word_tokenize\n",
    "\n",
    "# spacy for lemmatization\n",
    "import spacy"
   ]
  },
  {
   "cell_type": "code",
   "execution_count": 91,
   "metadata": {
    "ExecuteTime": {
     "end_time": "2018-08-26T22:00:10.565991Z",
     "start_time": "2018-08-26T22:00:10.373735Z"
    },
    "scrolled": false
   },
   "outputs": [
    {
     "name": "stdout",
     "output_type": "stream",
     "text": [
      "0 faculties have missing papers in ../data/pge_database.json\n",
      "Running nlp-pipeline on faculties with non-missing papers...\n"
     ]
    }
   ],
   "source": [
    "def get_data(filename):\n",
    "    \"\"\"Load raw data from a file and return vectorizer and feature_matrix.\n",
    "    Parameters\n",
    "    ----------\n",
    "    filename: The path to a json file containing the university database.\n",
    "    Returns\n",
    "    -------\n",
    "    corpus: A numpy array containing abstracts.\n",
    "    \"\"\"\n",
    "    df_cleaned = database_cleaner(filename)\n",
    "\n",
    "    # For nlp, only retaining faculty_name, research_areas, paper_titles, abstracts\n",
    "    df_filtered = df_cleaned[['faculty_name', 'research_areas', 'paper_titles', 'abstracts']]\n",
    "    missing = df_filtered['paper_titles'] == ''\n",
    "    num_missing = sum(missing)\n",
    "    print(f'{num_missing} faculties have missing papers in {filename}')\n",
    "    print('Running nlp-pipeline on faculties with non-missing papers...')\n",
    "\n",
    "    df_nlp = df_filtered[~missing]\n",
    "\n",
    "    # Choosing abstracts and paper_titles to predict topics for a professor\n",
    "    data = (df_nlp['paper_titles'] + df_nlp['abstracts']).values\n",
    "\n",
    "    return data\n",
    "\n",
    "data = get_data('../data/pge_database.json')"
   ]
  },
  {
   "cell_type": "code",
   "execution_count": 92,
   "metadata": {
    "ExecuteTime": {
     "end_time": "2018-08-26T22:00:15.715647Z",
     "start_time": "2018-08-26T22:00:15.666932Z"
    }
   },
   "outputs": [
    {
     "data": {
      "text/plain": [
       "(75,)"
      ]
     },
     "execution_count": 92,
     "metadata": {},
     "output_type": "execute_result"
    }
   ],
   "source": [
    "data.shape"
   ]
  },
  {
   "cell_type": "code",
   "execution_count": 95,
   "metadata": {
    "ExecuteTime": {
     "end_time": "2018-08-26T22:01:11.633743Z",
     "start_time": "2018-08-26T22:01:03.714064Z"
    }
   },
   "outputs": [],
   "source": [
    "# NLTK Stop words\n",
    "stopwords_ = stopwords.words('english')\n",
    "\n",
    "def clean_text(text):\n",
    "    tokenized_text = word_tokenize(text.lower())\n",
    "    cleaned_text = [t for t in tokenized_text if t not in stopwords_ and re.match('[a-zA-Z\\-][a-zA-Z\\-]{2,}', t)]\n",
    "    return cleaned_text\n",
    " \n",
    "# For gensim we need to tokenize the data and filter out stopwords\n",
    "tokens_filtered = []\n",
    "for text in data:\n",
    "    tokens_filtered.append(clean_text(text))\n",
    "\n",
    "# def filter_tokens(sent):\n",
    "#     return([w for w in sent if not w in stopwords_ and not w in punctuation_ and re.match('[a-zA-Z-][a-zA-Z-]{2,}]', w)])\n",
    "\n",
    "# tokens = [word_tokenize(doc) for doc in corpus]\n",
    "# tokens_lower = [[word.lower() for word in sent] for sent in tokens]\n",
    "# tokens_filtered = list(map(filter_tokens, tokens_lower))"
   ]
  },
  {
   "cell_type": "code",
   "execution_count": 96,
   "metadata": {
    "ExecuteTime": {
     "end_time": "2018-08-26T22:01:37.590353Z",
     "start_time": "2018-08-26T22:01:28.372625Z"
    }
   },
   "outputs": [],
   "source": [
    "# Build the bigram and trigram models\n",
    "import warnings\n",
    "warnings.filterwarnings(\"ignore\",category=UserWarning)\n",
    "\n",
    "bigram = gensim.models.Phrases(tokens_filtered, min_count=5, threshold=100) # higher threshold fewer phrases.\n",
    "trigram = gensim.models.Phrases(bigram[tokens_filtered], threshold=100) \n",
    "\n",
    "# Faster way to get a sentence clubbed as a trigram/bigram\n",
    "bigram_mod = gensim.models.phrases.Phraser(bigram)\n",
    "trigram_mod = gensim.models.phrases.Phraser(trigram)\n",
    "\n",
    "def make_bigrams(texts):\n",
    "    return [bigram_mod[doc] for doc in texts]\n",
    "\n",
    "def make_trigrams(texts):\n",
    "    return [trigram_mod[bigram_mod[doc]] for doc in texts]\n",
    "\n",
    "def lemmatization(texts, allowed_postags=['NOUN', 'ADJ', 'VERB', 'ADV']):\n",
    "    \"\"\"https://spacy.io/api/annotation\"\"\"\n",
    "    texts_out = []\n",
    "    for sent in texts:\n",
    "        doc = nlp(\" \".join(sent)) \n",
    "        texts_out.append([token.lemma_ for token in doc if token.pos_ in allowed_postags])\n",
    "    return texts_out"
   ]
  },
  {
   "cell_type": "code",
   "execution_count": 97,
   "metadata": {
    "ExecuteTime": {
     "end_time": "2018-08-26T22:02:11.957355Z",
     "start_time": "2018-08-26T22:01:41.036724Z"
    }
   },
   "outputs": [],
   "source": [
    "# Form Bigrams\n",
    "tokens_bigrams = make_bigrams(tokens_filtered)\n",
    "\n",
    "# Initialize spacy 'en' model, keeping only tagger component (for efficiency)\n",
    "\n",
    "nlp = spacy.load('en_core_web_sm', disable=['parser', 'ner'])\n",
    "\n",
    "# Do lemmatization keeping only noun, adj, vb, adv\n",
    "data_lemmatized = lemmatization(tokens_bigrams, allowed_postags=['NOUN', 'ADJ', 'VERB', 'ADV'])"
   ]
  },
  {
   "cell_type": "code",
   "execution_count": 114,
   "metadata": {
    "ExecuteTime": {
     "end_time": "2018-08-26T22:45:29.088560Z",
     "start_time": "2018-08-26T22:45:28.663077Z"
    }
   },
   "outputs": [],
   "source": [
    "n_topics = 9\n",
    "\n",
    "# Build a Dictionary - association word to numeric id\n",
    "dictionary = corpora.Dictionary(tokens_filtered)"
   ]
  },
  {
   "cell_type": "code",
   "execution_count": 115,
   "metadata": {
    "ExecuteTime": {
     "end_time": "2018-08-26T22:45:30.944428Z",
     "start_time": "2018-08-26T22:45:30.662532Z"
    }
   },
   "outputs": [],
   "source": [
    "# Transform the collection of texts to a numerical form [(word_id, count), ...]\n",
    "corpus = [dictionary.doc2bow(text) for text in tokens_filtered]"
   ]
  },
  {
   "cell_type": "code",
   "execution_count": 129,
   "metadata": {
    "ExecuteTime": {
     "end_time": "2018-08-26T23:20:51.622885Z",
     "start_time": "2018-08-26T23:20:49.637684Z"
    }
   },
   "outputs": [],
   "source": [
    "tfidf_model = gensim.models.TfidfModel(corpus, id2word=dictionary) # tfidf gives better coherence score\n",
    "\n",
    "lda_model = gensim.models.ldamodel.LdaModel(tfidf_model[corpus], id2word=dictionary, num_topics=n_topics)\n",
    "\n",
    "# Build the LDA model\n",
    "# lda_model = models.LdaModel(corpus=corpus, num_topics=n_topics, id2word=dictionary)\n",
    " \n",
    "# Build the LSI model\n",
    "lsi_model = models.LsiModel(corpus=corpus, num_topics=n_topics, id2word=dictionary)"
   ]
  },
  {
   "cell_type": "code",
   "execution_count": 117,
   "metadata": {
    "ExecuteTime": {
     "end_time": "2018-08-26T22:45:37.722044Z",
     "start_time": "2018-08-26T22:45:37.654913Z"
    },
    "scrolled": true
   },
   "outputs": [
    {
     "name": "stdout",
     "output_type": "stream",
     "text": [
      "LDA Model:\n",
      "Topic #0: 0.009*\"gas\" + 0.008*\"oil\" + 0.007*\"fracture\" + 0.007*\"model\" + 0.006*\"flow\" + 0.006*\"production\" + 0.006*\"pressure\" + 0.005*\"reservoir\" + 0.005*\"well\" + 0.005*\"water\"\n",
      "Topic #1: 0.007*\"using\" + 0.007*\"fracture\" + 0.006*\"model\" + 0.006*\"oil\" + 0.006*\"flow\" + 0.006*\"reservoir\" + 0.006*\"well\" + 0.005*\"gas\" + 0.005*\"used\" + 0.005*\"method\"\n",
      "Topic #2: 0.007*\"fracture\" + 0.007*\"oil\" + 0.007*\"model\" + 0.006*\"reservoir\" + 0.006*\"well\" + 0.006*\"gas\" + 0.005*\"results\" + 0.005*\"production\" + 0.004*\"data\" + 0.004*\"used\"\n",
      "Topic #3: 0.010*\"reservoir\" + 0.009*\"gas\" + 0.009*\"model\" + 0.008*\"oil\" + 0.007*\"well\" + 0.007*\"flow\" + 0.006*\"fracture\" + 0.006*\"reservoirs\" + 0.006*\"using\" + 0.006*\"production\"\n",
      "Topic #4: 0.009*\"reservoir\" + 0.008*\"model\" + 0.008*\"gas\" + 0.007*\"fracture\" + 0.006*\"production\" + 0.006*\"oil\" + 0.006*\"used\" + 0.006*\"flow\" + 0.006*\"results\" + 0.005*\"reservoirs\"\n",
      "Topic #5: 0.009*\"oil\" + 0.009*\"model\" + 0.007*\"fracture\" + 0.006*\"reservoir\" + 0.006*\"results\" + 0.006*\"using\" + 0.006*\"gas\" + 0.005*\"flow\" + 0.005*\"permeability\" + 0.005*\"pressure\"\n",
      "Topic #6: 0.007*\"data\" + 0.007*\"oil\" + 0.007*\"model\" + 0.007*\"production\" + 0.007*\"flow\" + 0.006*\"reservoir\" + 0.006*\"gas\" + 0.006*\"fracture\" + 0.005*\"results\" + 0.005*\"pressure\"\n",
      "Topic #7: 0.008*\"model\" + 0.008*\"oil\" + 0.007*\"well\" + 0.007*\"fracture\" + 0.006*\"gas\" + 0.006*\"flow\" + 0.006*\"reservoir\" + 0.006*\"data\" + 0.005*\"pressure\" + 0.005*\"using\"\n",
      "Topic #8: 0.010*\"fracture\" + 0.009*\"oil\" + 0.009*\"model\" + 0.008*\"gas\" + 0.007*\"flow\" + 0.006*\"pressure\" + 0.006*\"reservoirs\" + 0.006*\"reservoir\" + 0.005*\"production\" + 0.004*\"shale\"\n",
      "====================\n",
      "LSI Model:\n",
      "Topic #0: 0.244*\"fracture\" + 0.244*\"oil\" + 0.238*\"model\" + 0.202*\"reservoir\" + 0.199*\"gas\" + 0.177*\"flow\" + 0.161*\"production\" + 0.154*\"well\" + 0.138*\"using\" + 0.137*\"reservoirs\"\n",
      "Topic #1: 0.473*\"fracture\" + -0.432*\"oil\" + 0.342*\"acid\" + 0.246*\"conductivity\" + -0.202*\"recovery\" + -0.114*\"surfactant\" + -0.109*\"reservoir\" + -0.108*\"water\" + 0.102*\"fractures\" + 0.097*\"proppant\"\n",
      "Topic #2: 0.315*\"acid\" + -0.286*\"gas\" + 0.247*\"oil\" + -0.219*\"production\" + -0.171*\"data\" + 0.161*\"water\" + -0.156*\"reservoir\" + -0.148*\"reservoirs\" + 0.145*\"conductivity\" + -0.135*\"unconventional\"\n",
      "Topic #3: -0.313*\"fracture\" + 0.263*\"rock\" + 0.235*\"measurements\" + -0.201*\"oil\" + 0.195*\"kerogen\" + 0.172*\"nmr\" + 0.153*\"properties\" + 0.147*\"pore\" + 0.143*\"samples\" + 0.138*\"drilling\"\n",
      "Topic #4: 0.355*\"gas\" + -0.271*\"model\" + 0.215*\"acid\" + 0.202*\"drilling\" + -0.185*\"fracture\" + -0.149*\"reservoir\" + 0.141*\"unconventional\" + 0.139*\"resources\" + -0.136*\"fractures\" + -0.116*\"flow\"\n",
      "Topic #5: 0.346*\"drilling\" + -0.275*\"gas\" + 0.203*\"pressure\" + -0.196*\"shale\" + 0.162*\"well\" + -0.155*\"reservoirs\" + -0.152*\"production\" + -0.151*\"fracture\" + 0.147*\"wellbore\" + 0.142*\"cement\"\n",
      "Topic #6: 0.333*\"acid\" + -0.324*\"fracture\" + -0.235*\"drilling\" + -0.218*\"fractures\" + 0.163*\"conductivity\" + -0.156*\"hydraulic\" + -0.150*\"oil\" + -0.137*\"combustion\" + 0.134*\"reservoir\" + -0.128*\"stress\"\n",
      "Topic #7: 0.218*\"surfactant\" + 0.199*\"drilling\" + -0.196*\"combustion\" + -0.179*\"steam\" + 0.179*\"foam\" + -0.165*\"sagd\" + -0.154*\"bitumen\" + -0.152*\"solvent\" + 0.149*\"gas\" + -0.144*\"temperature\"\n",
      "Topic #8: 0.195*\"conductivity\" + 0.185*\"oil\" + 0.158*\"rock\" + -0.149*\"flow\" + 0.141*\"polymer\" + -0.127*\"permeability\" + -0.125*\"shale\" + -0.119*\"nanoparticles\" + 0.119*\"data\" + 0.116*\"resources\"\n",
      "====================\n"
     ]
    }
   ],
   "source": [
    "print(\"LDA Model:\")\n",
    " \n",
    "for idx in range(n_topics):\n",
    "    # Print the first 10 most representative topics\n",
    "    print(\"Topic #%s:\" % idx, lda_model.print_topic(idx, 10))\n",
    " \n",
    "print(\"=\" * 20)\n",
    " \n",
    "print(\"LSI Model:\")\n",
    " \n",
    "for idx in range(n_topics):\n",
    "    # Print the first 10 most representative topics\n",
    "    print(\"Topic #%s:\" % idx, lsi_model.print_topic(idx, 10))\n",
    " \n",
    "print(\"=\" * 20)"
   ]
  },
  {
   "cell_type": "code",
   "execution_count": null,
   "metadata": {
    "ExecuteTime": {
     "end_time": "2018-08-26T21:28:28.595617Z",
     "start_time": "2018-08-26T21:28:28.541755Z"
    }
   },
   "outputs": [],
   "source": [
    "text = \"Steam injection is a widely used oil-recovery method that has been commercially successful in many types of heavy-oil reservoirs, including the oil sands of Alberta, Canada. Steam is very effective in delivering heat that is the key to heavy-oil mobilization. In the distant past in California, and also recently in Alberta, solvents were/are being used as additives to steam for additional viscosity reduction. The current applications are in field projects involving steam-assisted gravity drainage (SAGD) and cyclic steam stimulation (CSS).The past and present projects using solvents alone or in combination with steam are reviewed and evaluated, including enhanced solvent SAGD (ES-SAGD) and liquid addition to steam for enhancing recovery (LASER). The use of solvent in other processes, such as effective solvent extraction incorporating electromagnetic heating (ESEIEH) and after cold-heavy-oil production with sand (CHOPS), are also reviewed. The theories behind the use of solvents with steam are outlined. These postulate additional heavy-oil/bitumen mobilization; oil mobilization ahead of the steam front; and oil mobilization by solvent dispersion caused by frontal instability. The plausibility of the different approaches and solvent availability and economics are also discussed.\"\n",
    "bow = dictionary.doc2bow(clean_text(text))\n",
    " \n",
    "print(lsi_model[bow])\n",
    "\n",
    "print(lda_model[bow])"
   ]
  },
  {
   "cell_type": "code",
   "execution_count": null,
   "metadata": {
    "ExecuteTime": {
     "end_time": "2018-08-26T21:28:29.957044Z",
     "start_time": "2018-08-26T21:28:29.444722Z"
    }
   },
   "outputs": [],
   "source": [
    "# Querying\n",
    "lda_index = similarities.MatrixSimilarity(lda_model[corpus])\n",
    " \n",
    "# Let's perform some queries\n",
    "similarities = lda_index[lda_model[bow]]\n",
    "# Sort the similarities\n",
    "similarities = sorted(enumerate(similarities), key=lambda item: -item[1])\n",
    " \n",
    "# Top most similar documents:\n",
    "print(similarities[:10])\n",
    "# [(104, 0.87591344), (178, 0.86124849), (31, 0.8604598), (77, 0.84932965), (85, 0.84843522), (135, 0.84421808), (215, 0.84184396), (353, 0.84038532), (254, 0.83498049), (13, 0.82832891)]\n",
    " \n",
    "# Let's see what's the most similar document\n",
    "document_id, similarity = similarities[0]\n",
    "print(corpus[document_id][:1000])"
   ]
  },
  {
   "cell_type": "code",
   "execution_count": 130,
   "metadata": {
    "ExecuteTime": {
     "end_time": "2018-08-26T23:21:07.927240Z",
     "start_time": "2018-08-26T23:21:00.139973Z"
    }
   },
   "outputs": [
    {
     "name": "stdout",
     "output_type": "stream",
     "text": [
      "\n",
      "Perplexity:  -14.061936835\n",
      "\n",
      "Coherence Score:  0.437129010619\n"
     ]
    }
   ],
   "source": [
    "# Compute Perplexity\n",
    "print('\\nPerplexity: ', lda_model.log_perplexity(corpus))  # a measure of how good the model is. lower the better.\n",
    "\n",
    "# Compute Coherence Score\n",
    "coherence_model_lda = CoherenceModel(model=lda_model, texts=tokens_filtered, dictionary=dictionary, coherence='c_v')\n",
    "coherence_lda = coherence_model_lda.get_coherence()\n",
    "print('\\nCoherence Score: ', coherence_lda)"
   ]
  },
  {
   "cell_type": "code",
   "execution_count": 137,
   "metadata": {
    "ExecuteTime": {
     "end_time": "2018-08-26T23:49:40.081590Z",
     "start_time": "2018-08-26T23:48:51.921697Z"
    }
   },
   "outputs": [],
   "source": [
    "# LDA Mallet (slower)\n",
    "mallet_path = '~/Documents/GitHub/capstone/mallet-2.0.8/bin/mallet' # update this path\n",
    "ldamallet = gensim.models.wrappers.LdaMallet(mallet_path, corpus=corpus, num_topics=n_topics, id2word=dictionary, prefix='~/Documents/Github/capstone/')"
   ]
  },
  {
   "cell_type": "code",
   "execution_count": 132,
   "metadata": {
    "ExecuteTime": {
     "end_time": "2018-08-26T23:23:50.806324Z",
     "start_time": "2018-08-26T23:23:36.023629Z"
    },
    "scrolled": true
   },
   "outputs": [
    {
     "name": "stdout",
     "output_type": "stream",
     "text": [
      "\n",
      "Coherence Score:  0.504408584554\n"
     ]
    }
   ],
   "source": [
    "# Show Topics\n",
    "#pprint(ldamallet.show_topics(formatted=False))\n",
    "\n",
    "# Compute Coherence Score\n",
    "coherence_model_ldamallet = CoherenceModel(model=ldamallet, texts=tokens_filtered, dictionary=dictionary, coherence='c_v')\n",
    "coherence_ldamallet = coherence_model_ldamallet.get_coherence()\n",
    "print('\\nCoherence Score: ', coherence_ldamallet)"
   ]
  },
  {
   "cell_type": "markdown",
   "metadata": {},
   "source": [
    "# Choosing number of topics"
   ]
  },
  {
   "cell_type": "code",
   "execution_count": 122,
   "metadata": {
    "ExecuteTime": {
     "end_time": "2018-08-26T22:47:49.522607Z",
     "start_time": "2018-08-26T22:47:49.464186Z"
    }
   },
   "outputs": [],
   "source": [
    "def compute_coherence_values(dictionary, corpus, texts, limit, start=5, step=1):\n",
    "    \"\"\"\n",
    "    Compute c_v coherence for various number of topics\n",
    "\n",
    "    Parameters:\n",
    "    ----------\n",
    "    dictionary : Gensim dictionary\n",
    "    corpus : Gensim corpus\n",
    "    texts : List of input texts\n",
    "    limit : Max num of topics\n",
    "\n",
    "    Returns:\n",
    "    -------\n",
    "    model_list : List of LDA topic models\n",
    "    coherence_values : Coherence values corresponding to the LDA model with respective number of topics\n",
    "    \"\"\"\n",
    "    coherence_values = []\n",
    "    model_list = []\n",
    "    for num_topics in range(start, limit, step):\n",
    "        model = gensim.models.wrappers.LdaMallet(mallet_path, corpus=corpus, num_topics=num_topics, id2word=dictionary)\n",
    "        model_list.append(model)\n",
    "        coherencemodel = CoherenceModel(model=model, texts=texts, dictionary=dictionary, coherence='c_v')\n",
    "        coherence_values.append(coherencemodel.get_coherence())\n",
    "\n",
    "    return model_list, coherence_values"
   ]
  },
  {
   "cell_type": "code",
   "execution_count": 133,
   "metadata": {
    "ExecuteTime": {
     "end_time": "2018-08-26T23:32:51.809531Z",
     "start_time": "2018-08-26T23:24:08.483916Z"
    }
   },
   "outputs": [],
   "source": [
    "# Can take a long time to run.\n",
    "model_list, coherence_values = compute_coherence_values(dictionary=dictionary, corpus=corpus, texts=tokens_filtered, start=5, limit=21, step=2)"
   ]
  },
  {
   "cell_type": "code",
   "execution_count": 134,
   "metadata": {
    "ExecuteTime": {
     "end_time": "2018-08-26T23:32:51.974087Z",
     "start_time": "2018-08-26T23:32:51.812555Z"
    }
   },
   "outputs": [
    {
     "data": {
      "image/png": "[encoded data removed]",
      "text/plain": [
       "<Figure size 432x288 with 1 Axes>"
      ]
     },
     "metadata": {},
     "output_type": "display_data"
    }
   ],
   "source": [
    "# Show graph\n",
    "limit=21; start=5; step=2;\n",
    "x = range(start, limit, step)\n",
    "plt.plot(x, coherence_values)\n",
    "plt.xlabel(\"Num Topics\")\n",
    "plt.ylabel(\"Coherence score\")\n",
    "plt.legend((\"coherence_values\"), loc='best')\n",
    "plt.show()"
   ]
  },
  {
   "cell_type": "code",
   "execution_count": 135,
   "metadata": {
    "ExecuteTime": {
     "end_time": "2018-08-26T23:36:19.646213Z",
     "start_time": "2018-08-26T23:36:19.595513Z"
    }
   },
   "outputs": [
    {
     "name": "stdout",
     "output_type": "stream",
     "text": [
      "Num Topics = 5  has Coherence Value of 0.4489\n",
      "Num Topics = 7  has Coherence Value of 0.4734\n",
      "Num Topics = 9  has Coherence Value of 0.4991\n",
      "Num Topics = 11  has Coherence Value of 0.4959\n",
      "Num Topics = 13  has Coherence Value of 0.4885\n",
      "Num Topics = 15  has Coherence Value of 0.4805\n",
      "Num Topics = 17  has Coherence Value of 0.4871\n",
      "Num Topics = 19  has Coherence Value of 0.4927\n"
     ]
    }
   ],
   "source": [
    "# Print the coherence scores (9 seems to be optimal here)\n",
    "for m, cv in zip(x, coherence_values):\n",
    "    print(\"Num Topics =\", m, \" has Coherence Value of\", round(cv, 4))"
   ]
  },
  {
   "cell_type": "code",
   "execution_count": 136,
   "metadata": {
    "ExecuteTime": {
     "end_time": "2018-08-26T23:36:36.054179Z",
     "start_time": "2018-08-26T23:36:32.443265Z"
    }
   },
   "outputs": [
    {
     "data": {
      "text/html": [
       "\n",
       "<link rel=\"stylesheet\" type=\"text/css\" href=\"https://cdn.rawgit.com/bmabey/pyLDAvis/files/ldavis.v1.0.0.css\">\n",
       "\n",
       "\n",
       "<div id=\"ldavis_el827531128308149929666247292\"></div>\n",
       "<script type=\"text/javascript\">\n",
       "\n",
       "var ldavis_el827531128308149929666247292_data = {\"mdsDat\": {\"Freq\": [46.84473419189453, 28.237810134887695, 20.943893432617188, 1.896838665008545, 0.915257453918457, 0.8511371612548828, 0.30688202381134033, 0.0017193948151543736, 0.0017193822422996163], \"cluster\": [1, 1, 1, 1, 1, 1, 1, 1, 1], \"topics\": [1, 2, 3, 4, 5, 6, 7, 8, 9], \"x\": [-0.0003508951428055483, 0.002915757228338772, -0.0007698410737090274, -0.00015283040853317957, -0.0011264559056052502, -0.0001453973191756821, -0.00048003572104837814, -0.00012749863241481938, 0.00023719697495311844], \"y\": [0.0014410656180101269, -0.0004591544124472067, 0.0005510500922605436, 0.00034642784244845476, -0.002080263546003468, 0.00027697132513902946, -3.477582501084332e-05, -3.198491535970196e-05, -9.336179036935275e-06]}, \"tinfo\": {\"Category\": [\"Default\", \"Default\", \"Default\", \"Default\", \"Default\", \"Default\", \"Default\", \"Default\", \"Default\", \"Default\", \"Default\", \"Default\", \"Default\", \"Default\", \"Default\", \"Default\", \"Default\", \"Default\", \"Default\", \"Default\", \"Default\", \"Default\", \"Default\", \"Default\", \"Default\", \"Default\", \"Default\", \"Default\", \"Default\", \"Default\", \"Topic1\", \"Topic1\", \"Topic1\", \"Topic1\", \"Topic1\", \"Topic1\", \"Topic1\", \"Topic1\", \"Topic1\", \"Topic1\", \"Topic1\", \"Topic1\", \"Topic1\", \"Topic1\", \"Topic1\", \"Topic1\", \"Topic1\", \"Topic1\", \"Topic1\", \"Topic1\", \"Topic1\", \"Topic1\", \"Topic1\", \"Topic1\", \"Topic1\", \"Topic1\", \"Topic1\", \"Topic1\", \"Topic1\", \"Topic1\", \"Topic1\", \"Topic1\", \"Topic1\", \"Topic1\", \"Topic1\", \"Topic1\", \"Topic1\", \"Topic1\", \"Topic1\", \"Topic1\", \"Topic1\", \"Topic1\", \"Topic1\", \"Topic1\", \"Topic1\", \"Topic1\", \"Topic2\", \"Topic2\", \"Topic2\", \"Topic2\", \"Topic2\", \"Topic2\", \"Topic2\", \"Topic2\", \"Topic2\", \"Topic2\", \"Topic2\", \"Topic2\", \"Topic2\", \"Topic2\", \"Topic2\", \"Topic2\", \"Topic2\", \"Topic2\", \"Topic2\", \"Topic2\", \"Topic2\", \"Topic2\", \"Topic2\", \"Topic2\", \"Topic2\", \"Topic2\", \"Topic2\", \"Topic2\", \"Topic2\", \"Topic2\", \"Topic2\", \"Topic2\", \"Topic2\", \"Topic2\", \"Topic2\", \"Topic2\", \"Topic2\", \"Topic2\", \"Topic2\", \"Topic2\", \"Topic2\", \"Topic2\", \"Topic2\", \"Topic2\", \"Topic2\", \"Topic2\", \"Topic2\", \"Topic3\", \"Topic3\", \"Topic3\", \"Topic3\", \"Topic3\", \"Topic3\", \"Topic3\", \"Topic3\", \"Topic3\", \"Topic3\", \"Topic3\", \"Topic3\", \"Topic3\", \"Topic3\", \"Topic3\", \"Topic3\", \"Topic3\", \"Topic3\", \"Topic3\", \"Topic3\", \"Topic3\", \"Topic3\", \"Topic3\", \"Topic3\", \"Topic3\", \"Topic3\", \"Topic3\", \"Topic3\", \"Topic3\", \"Topic3\", \"Topic3\", \"Topic3\", \"Topic3\", \"Topic3\", \"Topic3\", \"Topic3\", \"Topic3\", \"Topic3\", \"Topic3\", \"Topic3\", \"Topic3\", \"Topic3\", \"Topic3\", \"Topic3\", \"Topic3\", \"Topic3\", \"Topic3\", \"Topic3\", \"Topic4\", \"Topic4\", \"Topic4\", \"Topic4\", \"Topic4\", \"Topic4\", \"Topic4\", \"Topic4\", \"Topic4\", \"Topic4\", \"Topic4\", \"Topic4\", \"Topic4\", \"Topic4\", \"Topic4\", \"Topic4\", \"Topic4\", \"Topic4\", \"Topic4\", \"Topic4\", \"Topic4\", \"Topic4\", \"Topic4\", \"Topic4\", \"Topic4\", \"Topic4\", \"Topic4\", \"Topic4\", \"Topic4\", \"Topic4\", \"Topic4\", \"Topic4\", \"Topic4\", \"Topic4\", \"Topic4\", \"Topic4\", \"Topic4\", \"Topic4\", \"Topic4\", \"Topic4\", \"Topic4\", \"Topic4\", \"Topic4\", \"Topic4\", \"Topic4\", \"Topic4\", \"Topic4\", \"Topic4\", \"Topic4\", \"Topic5\", \"Topic5\", \"Topic5\", \"Topic5\", \"Topic5\", \"Topic5\", \"Topic5\", \"Topic5\", \"Topic5\", \"Topic5\", \"Topic5\", \"Topic5\", \"Topic5\", \"Topic5\", \"Topic5\", \"Topic5\", \"Topic5\", \"Topic5\", \"Topic5\", \"Topic5\", \"Topic5\", \"Topic5\", \"Topic5\", \"Topic5\", \"Topic5\", \"Topic5\", \"Topic5\", \"Topic5\", \"Topic5\", \"Topic5\", \"Topic5\", \"Topic5\", \"Topic5\", \"Topic5\", \"Topic5\", \"Topic5\", \"Topic5\", \"Topic5\", \"Topic5\", \"Topic6\", \"Topic6\", \"Topic6\", \"Topic6\", \"Topic6\", \"Topic6\", \"Topic6\", \"Topic6\", \"Topic6\", \"Topic6\", \"Topic6\", \"Topic6\", \"Topic6\", \"Topic6\", \"Topic6\", \"Topic6\", \"Topic6\", \"Topic6\", \"Topic6\", \"Topic6\", \"Topic6\", \"Topic6\", \"Topic6\", \"Topic6\", \"Topic6\", \"Topic6\", \"Topic6\", \"Topic6\", \"Topic6\", \"Topic6\", \"Topic6\", \"Topic6\", \"Topic6\", \"Topic6\", \"Topic6\", \"Topic6\", \"Topic6\", \"Topic6\", \"Topic6\", \"Topic6\", \"Topic6\", \"Topic6\", \"Topic6\", \"Topic7\", \"Topic7\", \"Topic7\", \"Topic7\", \"Topic7\", \"Topic7\", \"Topic7\", \"Topic7\", \"Topic7\", \"Topic7\", \"Topic7\", \"Topic7\", \"Topic7\", \"Topic7\", \"Topic7\", \"Topic7\", \"Topic7\", \"Topic7\", \"Topic7\", \"Topic7\", \"Topic7\", \"Topic7\", \"Topic7\", \"Topic7\", \"Topic7\", \"Topic7\", \"Topic7\", \"Topic7\", \"Topic7\", \"Topic7\", \"Topic7\", \"Topic7\", \"Topic7\", \"Topic7\", \"Topic7\", \"Topic7\", \"Topic7\", \"Topic7\", \"Topic7\", \"Topic7\", \"Topic7\", \"Topic7\", \"Topic7\", \"Topic7\", \"Topic8\", \"Topic8\", \"Topic8\", \"Topic8\", \"Topic8\", \"Topic8\", \"Topic8\", \"Topic8\", \"Topic8\", \"Topic8\", \"Topic8\", \"Topic8\", \"Topic8\", \"Topic8\", \"Topic8\", \"Topic8\", \"Topic8\", \"Topic8\", \"Topic8\", \"Topic8\", \"Topic8\", \"Topic8\", \"Topic8\", \"Topic8\", \"Topic8\", \"Topic8\", \"Topic8\", \"Topic8\", \"Topic8\", \"Topic8\", \"Topic8\", \"Topic8\", \"Topic8\", \"Topic8\", \"Topic8\", \"Topic8\", \"Topic8\", \"Topic8\", \"Topic8\", \"Topic8\", \"Topic8\", \"Topic8\", \"Topic8\", \"Topic8\", \"Topic8\", \"Topic8\", \"Topic9\", \"Topic9\", \"Topic9\", \"Topic9\", \"Topic9\", \"Topic9\", \"Topic9\", \"Topic9\", \"Topic9\", \"Topic9\", \"Topic9\", \"Topic9\", \"Topic9\", \"Topic9\", \"Topic9\", \"Topic9\", \"Topic9\", \"Topic9\", \"Topic9\", \"Topic9\", \"Topic9\", \"Topic9\", \"Topic9\", \"Topic9\", \"Topic9\", \"Topic9\", \"Topic9\", \"Topic9\", \"Topic9\", \"Topic9\", \"Topic9\", \"Topic9\", \"Topic9\", \"Topic9\", \"Topic9\", \"Topic9\", \"Topic9\", \"Topic9\", \"Topic9\", \"Topic9\", \"Topic9\", \"Topic9\", \"Topic9\", \"Topic9\", \"Topic9\", \"Topic9\", \"Topic9\", \"Topic9\", \"Topic9\"], \"Freq\": [57.0, 106.0, 55.0, 54.0, 60.0, 62.0, 61.0, 60.0, 51.0, 93.0, 38.0, 64.0, 70.0, 52.0, 66.0, 39.0, 56.0, 38.0, 54.0, 68.0, 56.0, 45.0, 62.0, 56.0, 56.0, 41.0, 53.0, 41.0, 52.0, 46.0, 72.563232421875, 70.51925659179688, 47.57109832763672, 40.62525177001953, 32.70672607421875, 38.17888259887695, 46.947364807128906, 45.98899459838867, 30.053972244262695, 36.30378341674805, 28.916208267211914, 29.807491302490234, 35.284698486328125, 29.41935157775879, 30.012893676757812, 36.001930236816406, 25.56865882873535, 26.286218643188477, 28.916580200195312, 25.082725524902344, 25.999271392822266, 23.226808547973633, 24.343454360961914, 29.34566879272461, 25.683818817138672, 34.3222770690918, 43.3492546081543, 25.039897918701172, 24.859485626220703, 29.974206924438477, 27.00606918334961, 35.783226013183594, 30.34747314453125, 34.81525421142578, 40.54558563232422, 57.550933837890625, 35.2586669921875, 35.91350173950195, 38.62465286254883, 33.60405349731445, 34.725894927978516, 32.29033660888672, 35.54370880126953, 32.9089241027832, 31.430112838745117, 31.716068267822266, 41.979488372802734, 30.977201461791992, 30.646211624145508, 29.174541473388672, 29.22812271118164, 34.088436126708984, 24.55891227722168, 24.554746627807617, 26.33414077758789, 33.27896499633789, 23.105546951293945, 22.50741958618164, 35.64914321899414, 20.694976806640625, 29.228174209594727, 17.996383666992188, 21.23740577697754, 19.36867904663086, 17.57583999633789, 17.030715942382812, 17.030637741088867, 17.03049087524414, 16.917720794677734, 16.917709350585938, 16.91746711730957, 16.917390823364258, 19.74165153503418, 18.374521255493164, 28.67970848083496, 16.331501007080078, 24.055692672729492, 22.455846786499023, 27.22396469116211, 18.714052200317383, 36.77278518676758, 18.510934829711914, 20.472639083862305, 19.01599884033203, 21.711137771606445, 21.837282180786133, 22.867813110351562, 22.843870162963867, 24.034502029418945, 21.754661560058594, 20.993135452270508, 23.15142059326172, 20.504838943481445, 30.5766544342041, 20.786571502685547, 17.613067626953125, 20.552330017089844, 17.250572204589844, 17.10049819946289, 13.987113952636719, 12.313566207885742, 12.018830299377441, 12.018800735473633, 13.258635520935059, 12.619516372680664, 11.786231994628906, 11.882186889648438, 11.683843612670898, 11.768813133239746, 17.813823699951172, 11.116500854492188, 12.023385047912598, 10.740913391113281, 10.779121398925781, 10.254651069641113, 10.088180541992188, 10.021610260009766, 9.935328483581543, 9.751204490661621, 10.285310745239258, 10.448644638061523, 9.305607795715332, 9.288490295410156, 14.21202564239502, 17.3861083984375, 22.038776397705078, 23.11265754699707, 14.684429168701172, 11.76205062866211, 12.990459442138672, 15.291380882263184, 15.76832103729248, 13.805973052978516, 12.6964111328125, 13.758216857910156, 13.031413078308105, 13.296501159667969, 12.92446231842041, 12.803433418273926, 12.08997631072998, 12.054851531982422, 1.7106208801269531, 1.3369370698928833, 1.4677927494049072, 1.3089898824691772, 1.2115390300750732, 1.3668586015701294, 1.796657919883728, 1.3213118314743042, 1.1124252080917358, 1.1074739694595337, 1.1341230869293213, 1.1946744918823242, 1.034468650817871, 0.9851778745651245, 0.9734699130058289, 0.9392385482788086, 0.9392367601394653, 0.939234733581543, 0.9392260909080505, 1.003677487373352, 1.0516595840454102, 0.8952686786651611, 0.8755064606666565, 0.8731558322906494, 0.8696621060371399, 0.8696596026420593, 1.2029893398284912, 0.8517969250679016, 0.8981316089630127, 0.8365297317504883, 1.622196912765503, 1.2240492105484009, 1.5014548301696777, 1.3932780027389526, 1.1674786806106567, 1.1191767454147339, 1.6665748357772827, 1.359007716178894, 1.5922551155090332, 1.5245559215545654, 1.1841961145401, 1.3731145858764648, 1.201084852218628, 1.2039092779159546, 1.1206659078598022, 1.260141372680664, 1.1471260786056519, 1.1656663417816162, 1.1164040565490723, 0.9978954195976257, 0.8888505101203918, 0.8306921720504761, 0.8419166803359985, 0.7890686988830566, 0.72709721326828, 0.7270994782447815, 0.7270955443382263, 0.721072793006897, 0.7210562825202942, 0.7980542778968811, 0.7077538967132568, 0.7000107765197754, 0.6401287317276001, 0.5883163213729858, 0.625927746295929, 0.6064151525497437, 0.5987113118171692, 0.5603379607200623, 0.5332009196281433, 0.5331963896751404, 0.5331876873970032, 0.5583509206771851, 0.5381180644035339, 0.6029233336448669, 0.49693748354911804, 0.49693700671195984, 0.6568176746368408, 0.5970228314399719, 0.5198805928230286, 0.8717068433761597, 0.5985523462295532, 0.693280816078186, 0.6721048951148987, 0.7469074726104736, 0.5492966175079346, 0.5807748436927795, 0.5842196345329285, 0.562425971031189, 0.9905598163604736, 0.838615894317627, 0.7067556977272034, 0.675495445728302, 0.6380701065063477, 0.6778962016105652, 0.5885090827941895, 0.588508665561676, 0.5885055065155029, 0.5640860199928284, 0.5309156775474548, 0.5516769886016846, 0.5202988386154175, 0.6095130443572998, 0.49905985593795776, 0.482450008392334, 0.470792293548584, 0.4998864531517029, 0.44746533036231995, 0.4836110472679138, 0.4411506652832031, 0.4289177358150482, 0.42890477180480957, 0.428887277841568, 0.4895932078361511, 0.41369104385375977, 0.4124825596809387, 0.41248172521591187, 0.45492637157440186, 0.4385412633419037, 0.706437885761261, 0.6466663479804993, 0.5592801570892334, 0.6117091178894043, 0.5926063060760498, 0.6984298825263977, 0.5647817254066467, 0.4992852509021759, 0.6583613157272339, 0.5916980504989624, 0.5539500713348389, 0.5150220990180969, 0.5485153794288635, 0.4409002661705017, 0.3326137363910675, 0.22904007136821747, 0.2304696887731552, 0.21457481384277344, 0.2130049616098404, 0.23352649807929993, 0.19578960537910461, 0.21561627089977264, 0.18390291929244995, 0.20741845667362213, 0.18947654962539673, 0.16603879630565643, 0.44363051652908325, 0.1789507269859314, 0.1801823079586029, 0.18087032437324524, 0.16698284447193146, 0.16589732468128204, 0.18105360865592957, 0.1652296483516693, 0.1550365537405014, 0.16106955707073212, 0.15252409875392914, 0.15177366137504578, 0.18601831793785095, 0.14509108662605286, 0.1450907438993454, 0.17321090400218964, 0.16607829928398132, 0.2733260691165924, 0.16518379747867584, 0.23874884843826294, 0.17834772169589996, 0.21975910663604736, 0.19227294623851776, 0.23636475205421448, 0.19606640934944153, 0.18022361397743225, 0.2363121658563614, 0.19976110756397247, 0.1990741789340973, 0.18531960248947144, 0.1821698695421219, 0.0026452296879142523, 0.0016537108458578587, 0.0008598880958743393, 0.0007560852682217956, 0.0007569491863250732, 0.0009458730346523225, 0.0014209242071956396, 0.0007729169446974993, 0.0007217908860184252, 0.0007925639511086047, 0.0007353388355113566, 0.0007434024591930211, 0.0012257002526894212, 0.0007558180368505418, 0.0006746676517650485, 0.0006816152599640191, 0.0008326981915161014, 0.0007286135223694146, 0.0007293602102436125, 0.0006341010448522866, 0.0007563167018815875, 0.0006361536798067391, 0.0006234166212379932, 0.0006352377822622657, 0.000626194232609123, 0.0008364094537682831, 0.0017692638793960214, 0.0007690680213272572, 0.00156347022857517, 0.0005855806521140039, 0.0007321198936551809, 0.001281136297620833, 0.0010225855512544513, 0.0007192421471700072, 0.000852237397339195, 0.0007734678802080452, 0.0008281625923700631, 0.0009345323778688908, 0.0008484268910251558, 0.0009287471184507012, 0.001051969244144857, 0.0007632366614416242, 0.0008354007732123137, 0.0008309148834086955, 0.0007785274647176266, 0.000772275438066572, 0.002147872932255268, 0.0014584537129849195, 0.0011469621676951647, 0.0010847540106624365, 0.0009318763623014092, 0.0010585205163806677, 0.0009181057685054839, 0.0008702147169969976, 0.0008491413900628686, 0.0009077488211914897, 0.000764749594964087, 0.0013218952808529139, 0.0018634726293385029, 0.0008522422285750508, 0.0008742698119021952, 0.000715057656634599, 0.0006541181937791407, 0.0006541093462146819, 0.00068407051730901, 0.000656223448459059, 0.0006505901110358536, 0.0007782905013300478, 0.0007649363833479583, 0.0007190279429778457, 0.000694971124175936, 0.0007891909335739911, 0.0006233346648514271, 0.0007822524639777839, 0.0006487938808277249, 0.0008207238279283047, 0.0009803511202335358, 0.0007869682740420103, 0.0012991393450647593, 0.0013479124754667282, 0.0011775792809203267, 0.0009212810546159744, 0.0012700341176241636, 0.0009926806669682264, 0.0010054399026557803, 0.000878152612131089, 0.0008610842633061111, 0.0008353289449587464, 0.0009884205646812916, 0.0008581050205975771, 0.0008914650534279644, 0.0008308610995300114, 0.0008549609337933362, 0.0008423247491009533, 0.0008580428548157215], \"Term\": [\"acid\", \"fracture\", \"foam\", \"conductivity\", \"combustion\", \"casing\", \"surfactant\", \"polymer\", \"proppant\", \"cement\", \"jetting\", \"stress\", \"fractures\", \"steam\", \"oil\", \"wormhole\", \"nanoparticles\", \"asp\", \"wellbore\", \"gas\", \"wells\", \"surfactants\", \"shale\", \"permeability\", \"flooding\", \"floods\", \"imbibition\", \"temperature\", \"injection\", \"borehole\", \"cement\", \"basins\", \"casing\", \"mpd\", \"sfi\", \"edfm\", \"trr\", \"frontier\", \"overconfidence\", \"ugrs\", \"biases\", \"underbalanced\", \"huff-n-puff\", \"opinions\", \"hpht\", \"tgs\", \"intelligence\", \"experts\", \"prise\", \"ppg\", \"jetting\", \"optimism\", \"expert\", \"bayesian\", \"american\", \"recoverable\", \"geosteering\", \"ogip\", \"cleanup\", \"forecasts\", \"circulation\", \"resources\", \"gel\", \"wellbore\", \"drilling\", \"fracture\", \"acid\", \"reserves\", \"gas\", \"wells\", \"polymer\", \"conductivity\", \"fractures\", \"shale\", \"stress\", \"hydrate\", \"combustion\", \"uruguayan\", \"toolkit\", \"uruguay\", \"isc\", \"imbibition\", \"lineaments\", \"fiscal\", \"spontaneous\", \"sagd\", \"ketton\", \"micro-models\", \"nmr\", \"ulr\", \"steam\", \"estaillades\", \"image\", \"manufacturing\", \"cnf\", \"vertex\", \"lineament\", \"digitised\", \"printing\", \"quasi-2d\", \"enabler\", \"orthoslices\", \"asphaltenes\", \"outcrop\", \"wettability\", \"contracts\", \"resistivity\", \"surfactants\", \"kerogen\", \"upgrading\", \"hydrate\", \"intervention\", \"relaxation\", \"bitumen\", \"samples\", \"magnetic\", \"foam\", \"nanoparticles\", \"oil\", \"surfactant\", \"coal\", \"fracture\", \"recovery\", \"peridynamic\", \"cfd\", \"crm\", \"drillstring\", \"pipeline\", \"peridynamics\", \"flame\", \"vein\", \"bangladesh\", \"ansys\", \"moments\", \"fire\", \"koval\", \"pool\", \"graphene\", \"nonlocal\", \"bit\", \"damping\", \"axial\", \"graphenes\", \"phase-field\", \"co-solvents\", \"gas-liquid-solid\", \"dog-leg\", \"uhmwpe\", \"resilience\", \"wob\", \"nozzle\", \"domino\", \"lct\", \"height\", \"nanoparticles\", \"hydrate\", \"fracture\", \"eor\", \"safety\", \"sec\", \"surfactant\", \"fractures\", \"hydraulic\", \"lrs\", \"geosteering\", \"capillary\", \"oil\", \"reserves\", \"stress\", \"permeability\", \"drilling\", \"tpwl\", \"nanofluids\", \"bands\", \"band\", \"symmetrically\", \"gas-condensate\", \"condensate\", \"reduced-order\", \"pod-tpwl\", \"pdg\", \"loaded\", \"foams\", \"chelating\", \"ves\", \"gpr\", \"micrometer\", \"vortex\", \"conjugate\", \"nano-chemomechanical\", \"nanoindentation\", \"hcl\", \"basefluid\", \"rnn\", \"derivative-free\", \"full-order\", \"adp\", \"regression\", \"nano/micro\", \"qatar\", \"egs\", \"hpht\", \"optimization\", \"asphaltene\", \"shear\", \"rheological\", \"nanopores\", \"acid\", \"organic-rich\", \"nanoparticles\", \"foam\", \"reaction\", \"kerogen\", \"shales\", \"multiscale\", \"asphaltenes\", \"fracture\", \"fractures\", \"cement\", \"shale\", \"archie\", \"matrix-vug\", \"pvs\", \"rate-time\", \"bodies\", \"kennedy\", \"flaws\", \"herrick\", \"cliff\", \"hyperspectral\", \"vuggy\", \"mpg\", \"vugs\", \"fracture-vug\", \"khuff\", \"data-analysis\", \"brinkman\", \"karst\", \"template\", \"hydrogels\", \"pec\", \"polyelectrolyte\", \"matrix-fracture\", \"time-rate\", \"dolomite\", \"smits\", \"waxman\", \"phase-field\", \"galerkin\", \"cretaceous\", \"seismic\", \"mesh\", \"height\", \"gel\", \"fracture\", \"training\", \"reservoirs\", \"shale\", \"resistivity\", \"restimulation\", \"fts\", \"deim\", \"reforming\", \"pod\", \"reactor\", \"gtl\", \"fischer-tropsch\", \"syngas\", \"narrow-boiling\", \"pod-deim\", \"synthesis\", \"gas-to-liquid\", \"foams\", \"dmd\", \"xwl\", \"pna\", \"edge\", \"chamber-edge\", \"coinjection\", \"after-closure\", \"visco-elastic\", \"fct\", \"diverter\", \"thick\", \"parametrization\", \"n-alkanes\", \"isenthalpic\", \"deconvolution\", \"fuels\", \"bitumen\", \"crm\", \"es-sagd\", \"solvent\", \"stimulation\", \"sagd\", \"carbonate\", \"chamber\", \"polymer\", \"foam\", \"steam\", \"asphaltenes\", \"fracture\", \"battery\", \"resqml\", \"ltg\", \"lsw\", \"aging\", \"sticking\", \"channel\", \"vehicle\", \"foams\", \"stacking\", \"hoop\", \"vehicles\", \"lswag\", \"foam\", \"fixed-stress\", \"limiters\", \"split\", \"object-based\", \"lithium-ion\", \"object\", \"objects\", \"steerability\", \"conditioning\", \"vugular\", \"plug-in\", \"marching\", \"aggradation\", \"mud-rich\", \"connectivities\", \"eikonal\", \"bit\", \"injector\", \"emissions\", \"fmm\", \"geomechanics\", \"solar\", \"rop\", \"breakout\", \"mudcake\", \"surfactant\", \"surfactants\", \"practices\", \"salinity\", \"fracture\", \"acid\", \"jetting\", \"ball\", \"gpme\", \"unconventional-gas\", \"streamline\", \"wormhole\", \"arrhenius\", \"foam-bubble\", \"cretaceous\", \"artifacts\", \"sealers\", \"acidizing\", \"isoconversional\", \"subgrid\", \"eocene\", \"wormholes\", \"sheets\", \"averaging\", \"sam\", \"crude-oil\", \"butler\", \"irr\", \"terrestrial\", \"in-situ-combustion\", \"kinetics\", \"combustion\", \"vrr\", \"conductivity\", \"canopy\", \"embedment\", \"steam\", \"isc\", \"etching\", \"reaction\", \"tube\", \"closure\", \"proppant\", \"temperature\", \"foam\", \"fracture\", \"diversion\", \"polymer\", \"surfactant\", \"carbonate\", \"floods\", \"pga\", \"pla\", \"twc\", \"tester\", \"fibers\", \"foams\", \"casings\", \"pdg\", \"compacting\", \"sonic\", \"overburden\", \"asp\", \"foam\", \"slowness\", \"streamlines\", \"powder\", \"fibrous\", \"polyglycolic\", \"fluid-loss\", \"ucs\", \"wettability-altering\", \"high-angle\", \"kernel\", \"blend\", \"anhydrite\", \"ooip\", \"egs\", \"gypsum\", \"foaming\", \"plunger\", \"inversion\", \"lwd\", \"nanoparticles\", \"surfactant\", \"proppant\", \"flood\", \"casing\", \"floods\", \"surfactants\", \"viscous\", \"sand\", \"breakout\", \"polymer\", \"cores\", \"acid\", \"drainage\", \"borehole\", \"resistivity\", \"fracture\"], \"Total\": [57.0, 106.0, 55.0, 54.0, 60.0, 62.0, 61.0, 60.0, 51.0, 93.0, 38.0, 64.0, 70.0, 52.0, 66.0, 39.0, 56.0, 38.0, 54.0, 68.0, 56.0, 45.0, 62.0, 56.0, 56.0, 41.0, 53.0, 41.0, 52.0, 46.0, 93.88294982910156, 92.26679229736328, 62.77285385131836, 54.215980529785156, 43.650699615478516, 50.969974517822266, 63.44126892089844, 62.2569465637207, 40.91749954223633, 49.49543762207031, 39.779701232910156, 41.127098083496094, 49.575958251953125, 41.42072677612305, 42.3227653503418, 51.272804260253906, 36.6355094909668, 37.79480743408203, 41.5936279296875, 36.549888610839844, 38.15647888183594, 34.09025955200195, 35.85084533691406, 43.337013244628906, 38.025169372558594, 50.90867233276367, 64.34092712402344, 37.4000358581543, 37.16424560546875, 44.91679000854492, 40.48957061767578, 55.570064544677734, 46.5015869140625, 54.74471664428711, 66.26698303222656, 106.55464935302734, 57.08173751831055, 59.01766586303711, 68.78329467773438, 56.24369812011719, 60.95109939575195, 54.66644287109375, 70.30420684814453, 62.91011428833008, 64.0612564086914, 92.06187438964844, 60.7784309387207, 45.67464065551758, 45.72818374633789, 43.871925354003906, 44.49005126953125, 53.83728790283203, 39.25627517700195, 39.56877517700195, 42.83052444458008, 54.13908004760742, 37.8028450012207, 37.20462417602539, 60.06837844848633, 35.39207077026367, 52.796844482421875, 32.69356155395508, 38.9531135559082, 35.53529357910156, 32.272884368896484, 31.72785186767578, 31.72781753540039, 31.72777557373047, 31.614866256713867, 31.6148624420166, 31.61467170715332, 31.614633560180664, 36.947017669677734, 34.414703369140625, 53.96324920654297, 31.042205810546875, 47.24026107788086, 45.63045883178711, 59.528541564941406, 36.12953186035156, 92.06187438964844, 35.79053497314453, 41.50639724731445, 37.37145233154297, 45.82460403442383, 46.5224609375, 55.966121673583984, 56.616031646728516, 66.30613708496094, 61.75211715698242, 53.95223617553711, 106.55464935302734, 51.83814239501953, 49.11952590942383, 39.56539535522461, 34.54438400268555, 40.795528411865234, 34.42322540283203, 34.895904541015625, 30.40567398071289, 28.510820388793945, 28.158103942871094, 28.15811538696289, 31.23974609375, 30.20741081237793, 28.33907699584961, 28.616323471069336, 28.20410919189453, 28.495853424072266, 43.32464599609375, 27.255704879760742, 29.731584548950195, 26.88014793395996, 27.456645965576172, 26.39422035217285, 26.227399826049805, 26.259212493896484, 26.07453727722168, 26.001277923583984, 27.91734504699707, 28.419496536254883, 25.45050811767578, 25.522197723388672, 39.580787658691406, 56.616031646728516, 92.06187438964844, 106.55464935302734, 51.89991760253906, 35.25205612182617, 44.0218620300293, 61.75211715698242, 70.30420684814453, 55.360652923583984, 43.940853118896484, 64.34092712402344, 52.647090911865234, 66.30613708496094, 59.01766586303711, 64.0612564086914, 56.03632736206055, 66.26698303222656, 21.776094436645508, 21.90956687927246, 24.372684478759766, 21.814224243164062, 21.252613067626953, 24.15683364868164, 33.482421875, 24.738391876220703, 21.177871704101562, 21.14887809753418, 21.77937889099121, 24.899417877197266, 21.588680267333984, 21.22545623779297, 21.047353744506836, 20.98007583618164, 20.980087280273438, 20.980072021484375, 20.980138778686523, 22.44148063659668, 23.60552978515625, 20.967641830444336, 20.91647720336914, 20.963111877441406, 20.9104061126709, 20.91044044494629, 29.474258422851562, 20.944833755493164, 22.313766479492188, 20.886693954467773, 42.3227653503418, 33.587158203125, 45.02328872680664, 40.69562530517578, 32.45514678955078, 30.682201385498047, 57.08173751831055, 42.98952865600586, 56.616031646728516, 55.966121673583984, 36.05928421020508, 59.528541564941406, 41.20289611816406, 49.54389190673828, 36.947017669677734, 106.55464935302734, 70.30420684814453, 93.88294982910156, 62.91011428833008, 22.907867431640625, 22.325098037719727, 21.687292098999023, 23.254281997680664, 22.318622589111328, 20.972681045532227, 20.972759246826172, 20.972740173339844, 20.966672897338867, 20.96685218811035, 23.788249969482422, 23.15799903869629, 23.341197967529297, 21.757854461669922, 20.833919525146484, 22.725744247436523, 22.625282287597656, 22.569507598876953, 21.67200469970703, 20.778593063354492, 20.778642654418945, 20.77869987487793, 22.418378829956055, 21.745569229125977, 24.964679718017578, 20.742416381835938, 20.74241828918457, 27.456645965576172, 25.14746856689453, 22.497844696044922, 38.92504119873047, 26.25189208984375, 39.580787658691406, 46.5015869140625, 106.55464935302734, 27.344573974609375, 55.29179000854492, 62.91011428833008, 47.24026107788086, 21.24751853942871, 21.095134735107422, 20.962919235229492, 21.349498748779297, 21.918672561645508, 23.629287719726562, 20.844831466674805, 20.84483528137207, 20.844926834106445, 20.820310592651367, 20.787065505981445, 21.77444076538086, 20.776580810546875, 24.899417877197266, 21.381221771240234, 20.738691329956055, 20.72696304321289, 22.517807006835938, 20.703655242919922, 22.98471450805664, 21.149242401123047, 20.685142517089844, 20.685190200805664, 20.6851863861084, 24.151119232177734, 20.669811248779297, 20.668621063232422, 20.668621063232422, 23.011409759521484, 23.025156021118164, 37.37145233154297, 34.54438400268555, 30.902664184570312, 37.31007766723633, 36.09896469116211, 54.13908004760742, 38.50792694091797, 29.38974952697754, 60.95109939575195, 55.966121673583984, 52.796844482421875, 36.947017669677734, 106.55464935302734, 24.227571487426758, 20.70391273498535, 20.600299835205078, 22.187421798706055, 22.630008697509766, 22.466474533081055, 25.125362396240234, 22.014177322387695, 24.899417877197266, 21.401535034179688, 24.933822631835938, 23.36095428466797, 20.53715705871582, 55.966121673583984, 23.17949867248535, 23.490949630737305, 23.647764205932617, 21.944400787353516, 21.890289306640625, 23.949138641357422, 22.139408111572266, 21.416685104370117, 22.524141311645508, 21.518409729003906, 21.426321029663086, 26.396947860717773, 20.609695434570312, 20.609655380249023, 24.624267578125, 24.03380584716797, 43.32464599609375, 24.02900505065918, 41.56868362426758, 27.21268653869629, 38.27119827270508, 30.77776336669922, 45.17173767089844, 32.9716682434082, 28.37249755859375, 61.75211715698242, 45.63045883178711, 45.81123733520508, 48.108856201171875, 106.55464935302734, 57.08173751831055, 38.15647888183594, 23.05927085876465, 20.51177215576172, 20.569705963134766, 26.266542434692383, 39.70768737792969, 21.718822479248047, 20.475934982299805, 22.497844696044922, 21.185163497924805, 22.092880249023438, 37.043209075927734, 23.27128791809082, 20.812185287475586, 21.41168212890625, 26.17848777770996, 23.285400390625, 23.534841537475586, 20.465801239013672, 24.568845748901367, 20.823598861694336, 20.54653549194336, 21.163663864135742, 20.872175216674805, 27.958633422851562, 60.7784309387207, 26.43733787536621, 54.66644287109375, 20.5357608795166, 25.726755142211914, 52.796844482421875, 44.49005126953125, 26.15839385986328, 36.05928421020508, 30.212045669555664, 37.47129440307617, 51.506385803222656, 41.644405364990234, 55.966121673583984, 106.55464935302734, 30.98067855834961, 60.95109939575195, 61.75211715698242, 38.50792694091797, 41.40978240966797, 20.437597274780273, 20.436668395996094, 21.48699188232422, 22.369342803955078, 20.489534378051758, 24.899417877197266, 21.7613468170166, 21.14887809753418, 24.075843811035156, 26.061769485473633, 22.178932189941406, 38.7895393371582, 55.966121673583984, 25.72429656982422, 27.23615264892578, 22.30898666381836, 20.435638427734375, 20.43568992614746, 21.62888526916504, 20.93000602722168, 21.012218475341797, 25.20083236694336, 24.80316162109375, 23.460533142089844, 23.155996322631836, 26.43870735168457, 20.886693954467773, 26.44399070739746, 22.014442443847656, 28.017717361450195, 35.05243682861328, 27.702129364013672, 56.616031646728516, 61.75211715698242, 51.506385803222656, 36.06772232055664, 62.77285385131836, 41.40978240966797, 45.63045883178711, 35.55221176147461, 34.89576721191406, 32.9716682434082, 60.95109939575195, 41.77177429199219, 57.08173751831055, 37.73979187011719, 46.647926330566406, 47.24026107788086, 106.55464935302734], \"loglift\": [30.0, 29.0, 28.0, 27.0, 26.0, 25.0, 24.0, 23.0, 22.0, 21.0, 20.0, 19.0, 18.0, 17.0, 16.0, 15.0, 14.0, 13.0, 12.0, 11.0, 10.0, 9.0, 8.0, 7.0, 6.0, 5.0, 4.0, 3.0, 2.0, 1.0, 0.5006999969482422, 0.4894999861717224, 0.48100000619888306, 0.46970000863075256, 0.46970000863075256, 0.46939998865127563, 0.45719999074935913, 0.4555000066757202, 0.4498000144958496, 0.44839999079704285, 0.43939998745918274, 0.43639999628067017, 0.41830000281333923, 0.41620001196861267, 0.4146000146865845, 0.40470001101493835, 0.3986999988555908, 0.3952000141143799, 0.39480000734329224, 0.38179999589920044, 0.37470000982284546, 0.37459999322891235, 0.37119999527931213, 0.3684999942779541, 0.3659000098705292, 0.36410000920295715, 0.36340001225471497, 0.3571000099182129, 0.3562000095844269, 0.3538999855518341, 0.353300005197525, 0.3181999921798706, 0.33160001039505005, 0.30570000410079956, 0.2671000063419342, 0.14229999482631683, 0.2766000032424927, 0.26159998774528503, 0.18129999935626984, 0.24330000579357147, 0.195700004696846, 0.23180000483989716, 0.0763000026345253, 0.1103999987244606, 0.046300001442432404, -0.30730000138282776, 0.8945000171661377, 0.8762000203132629, 0.864300012588501, 0.8565000295639038, 0.8443999886512756, 0.8075000047683716, 0.7954999804496765, 0.7874000072479248, 0.7781000137329102, 0.777899980545044, 0.7721999883651733, 0.761900007724762, 0.7426999807357788, 0.7279000282287598, 0.6732000112533569, 0.6675000190734863, 0.6578999757766724, 0.6575999855995178, 0.6567999720573425, 0.642300009727478, 0.642300009727478, 0.642300009727478, 0.63919997215271, 0.63919997215271, 0.63919997215271, 0.63919997215271, 0.6377999782562256, 0.6370000243186951, 0.6323999762535095, 0.6223000288009644, 0.5896000266075134, 0.5554999709129333, 0.4821999967098236, 0.6067000031471252, 0.3467999994754791, 0.6051999926567078, 0.5577999949455261, 0.5889000296592712, 0.5174999833106995, 0.5081999897956848, 0.3695000112056732, 0.35690000653266907, 0.24969999492168427, 0.22120000422000885, 0.3206000030040741, -0.2621000111103058, 0.3370000123977661, 1.0893000364303589, 0.919700026512146, 0.8896999955177307, 0.8776999711990356, 0.8723999857902527, 0.8500999808311462, 0.7868000268936157, 0.7236999869346619, 0.7120000123977661, 0.7120000123977661, 0.7063000202178955, 0.690500020980835, 0.6859999895095825, 0.6844000220298767, 0.6820999979972839, 0.6790000200271606, 0.6746000051498413, 0.6664999723434448, 0.6579999923706055, 0.6460000276565552, 0.6283000111579895, 0.617900013923645, 0.6079000234603882, 0.6000000238418579, 0.5985000133514404, 0.5825999975204468, 0.5648000240325928, 0.5626999735832214, 0.557200014591217, 0.5526000261306763, 0.5390999913215637, 0.38269999623298645, 0.13369999825954437, 0.03500000014901161, 0.30079999566078186, 0.4657000005245209, 0.34290000796318054, 0.16750000417232513, 0.06849999725818634, 0.1746000051498413, 0.32179999351501465, 0.020800000056624413, 0.1670999974012375, -0.04349999874830246, 0.044599998742341995, -0.046799998730421066, 0.02969999983906746, -0.14090000092983246, 1.4210000038146973, 1.1684000492095947, 1.1553000211715698, 1.1517000198364258, 1.1003999710083008, 1.092900037765503, 1.0398999452590942, 1.0353000164031982, 1.0185999870300293, 1.0154999494552612, 1.0098999738693237, 0.9279999732971191, 0.9266999959945679, 0.8948000073432922, 0.8913000226020813, 0.8586999773979187, 0.8586999773979187, 0.8586999773979187, 0.8586999773979187, 0.857699990272522, 0.8539000153541565, 0.8113999962806702, 0.7914999723434448, 0.7865999937057495, 0.785099983215332, 0.785099983215332, 0.7663000226020813, 0.7627000212669373, 0.7523000240325928, 0.7473999857902527, 0.7034000158309937, 0.652999997138977, 0.5641999840736389, 0.590499997138977, 0.6399999856948853, 0.6539000272750854, 0.43130001425743103, 0.5108000040054321, 0.3937999904155731, 0.3619000017642975, 0.5489000082015991, 0.1956000030040741, 0.42969998717308044, 0.24770000576972961, 0.46939998865127563, -0.4724999964237213, -0.15060000121593475, -0.423799991607666, -0.066600002348423, 1.5600999593734741, 1.4701999425888062, 1.43149995803833, 1.3752000331878662, 1.3514000177383423, 1.3317999839782715, 1.3317999839782715, 1.3317999839782715, 1.323799967765808, 1.323699951171875, 1.2989000082015991, 1.2057000398635864, 1.1868000030517578, 1.1677000522613525, 1.1266000270843506, 1.101699948310852, 1.0744999647140503, 1.0641000270843506, 1.0384999513626099, 1.030900001525879, 1.030900001525879, 1.030900001525879, 1.001099944114685, 0.9945999979972839, 0.970300018787384, 0.9621999859809875, 0.9621999859809875, 0.9607999920845032, 0.9531999826431274, 0.9261000156402588, 0.8948000073432922, 0.9126999974250793, 0.6491000056266785, 0.4569000005722046, -0.2667999863624573, 0.7860999703407288, 0.13770000636577606, 0.014499999582767487, 0.2630000114440918, 1.700600028038025, 1.5413000583648682, 1.3765000104904175, 1.312999963760376, 1.229699969291687, 1.2151000499725342, 1.1991000175476074, 1.1991000175476074, 1.1991000175476074, 1.1578999757766724, 1.0988999605178833, 1.0908000469207764, 1.079200029373169, 1.056399941444397, 1.0088000297546387, 1.0054999589920044, 0.9815999865531921, 0.9587000012397766, 0.9319000244140625, 0.9049999713897705, 0.896399974822998, 0.8903999924659729, 0.8903999924659729, 0.8903999924659729, 0.8677999973297119, 0.8550000190734863, 0.8521999716758728, 0.8521999716758728, 0.8427000045776367, 0.8054999709129333, 0.7979000210762024, 0.7882000207901001, 0.7544000148773193, 0.6556000113487244, 0.6568999886512756, 0.41589999198913574, 0.5442000031471252, 0.691100001335144, 0.23829999566078186, 0.2168000042438507, 0.20919999480247498, 0.4932999908924103, -0.5027999877929688, 1.7799999713897705, 1.655400037765503, 1.2872999906539917, 1.2193000316619873, 1.128100037574768, 1.128000020980835, 1.1081000566482544, 1.0641000270843506, 1.0374000072479248, 1.0297000408172607, 0.9972000122070312, 0.9718999862670898, 0.9686999917030334, 0.9490000009536743, 0.9225000143051147, 0.916100025177002, 0.9132000207901001, 0.9081000089645386, 0.9039999842643738, 0.9016000032424927, 0.888700008392334, 0.8582000136375427, 0.8460000157356262, 0.8371000289916992, 0.8364999890327454, 0.8313000202178955, 0.830299973487854, 0.830299973487854, 0.8295000195503235, 0.8116999864578247, 0.7207000255584717, 0.8065000176429749, 0.626800000667572, 0.7588000297546387, 0.6265000104904175, 0.7107999920845032, 0.5335999727249146, 0.6614999771118164, 0.7275000214576721, 0.2206999957561493, 0.35530000925064087, 0.34790000319480896, 0.2273000031709671, -0.5849999785423279, 0.9915000200271606, 0.9244999885559082, 0.7742000222206116, 0.7626000046730042, 0.7609000205993652, 0.739300012588501, 0.7329999804496765, 0.727400004863739, 0.7178999781608582, 0.7172999978065491, 0.7024999856948853, 0.6714000105857849, 0.6546000242233276, 0.6359999775886536, 0.6341000199317932, 0.6159999966621399, 0.6151999831199646, 0.598800003528595, 0.5891000032424927, 0.5889000296592712, 0.5824000239372253, 0.5748000144958496, 0.5680000185966492, 0.557200014591217, 0.5566999912261963, 0.5537999868392944, 0.5264999866485596, 0.5257999897003174, 0.508899986743927, 0.5059000253677368, 0.5038999915122986, 0.34450000524520874, 0.29030001163482666, 0.46950000524520874, 0.3181000053882599, 0.39809998869895935, 0.25110000371932983, 0.05380000174045563, 0.1696999967098236, -0.03550000116229057, -0.5547999739646912, 0.3596000075340271, -0.22669999301433563, -0.2451999932527542, 0.16200000047683716, 0.08129999786615372, 1.8102999925613403, 1.42330002784729, 1.1328999996185303, 1.0369000434875488, 0.9726999998092651, 0.9052000045776367, 0.897599995136261, 0.8726000189781189, 0.718500018119812, 0.7059000134468079, 0.695900022983551, 0.6840999722480774, 0.6608999967575073, 0.6559000015258789, 0.6243000030517578, 0.6227999925613403, 0.6215000152587891, 0.621399998664856, 0.609499990940094, 0.6007999777793884, 0.5881999731063843, 0.5856999754905701, 0.5842999815940857, 0.578000009059906, 0.5570999979972839, 0.5515999794006348, 0.5514000058174133, 0.5425999760627747, 0.5389000177383423, 0.532800018787384, 0.48649999499320984, 0.5020999908447266, 0.28859999775886536, 0.2386000007390976, 0.2849999964237213, 0.39579999446868896, 0.16269999742507935, 0.33230000734329224, 0.24809999763965607, 0.36230000853538513, 0.361299991607666, 0.38760000467300415, -0.05849999934434891, 0.17800000309944153, -0.09619999676942825, 0.24719999730587006, 0.06390000134706497, 0.036400001496076584, -0.7585999965667725], \"logprob\": [30.0, 29.0, 28.0, 27.0, 26.0, 25.0, 24.0, 23.0, 22.0, 21.0, 20.0, 19.0, 18.0, 17.0, 16.0, 15.0, 14.0, 13.0, 12.0, 11.0, 10.0, 9.0, 8.0, 7.0, 6.0, 5.0, 4.0, 3.0, 2.0, 1.0, -8.021599769592285, -8.050100326538086, -8.44379997253418, -8.60159969329834, -8.818400382995605, -8.663700103759766, -8.456999778747559, -8.47760009765625, -8.902999877929688, -8.714099884033203, -8.94159984588623, -8.911299705505371, -8.742600440979004, -8.924400329589844, -8.904399871826172, -8.72249984741211, -9.06470012664795, -9.036999702453613, -8.94159984588623, -9.083900451660156, -9.04800033569336, -9.160699844360352, -9.113800048828125, -8.926899909973145, -9.060199737548828, -8.7701997756958, -8.536700248718262, -9.085599899291992, -9.09280014038086, -8.905699729919434, -9.010000228881836, -8.728599548339844, -8.89330005645752, -8.755999565124512, -8.603599548339844, -8.253399848937988, -8.743300437927246, -8.724900245666504, -8.652099609375, -8.791399955749512, -8.758500099182129, -8.831299781799316, -8.735300064086914, -8.812299728393555, -8.85830020904541, -8.849200248718262, -8.062700271606445, -8.366600036621094, -8.377300262451172, -8.426600456237793, -8.424699783325195, -8.270899772644043, -8.598799705505371, -8.598899841308594, -8.529000282287598, -8.294899940490723, -8.659799575805664, -8.685999870300293, -8.226099967956543, -8.770000457763672, -8.424699783325195, -8.909700393676758, -8.744099617004395, -8.836199760437012, -8.933300018310547, -8.964799880981445, -8.964799880981445, -8.964799880981445, -8.971500396728516, -8.971500396728516, -8.971500396728516, -8.971500396728516, -8.817099571228027, -8.888899803161621, -8.443699836730957, -9.006799697875977, -8.619500160217285, -8.688300132751465, -8.495800018310547, -8.870599746704102, -8.195099830627441, -8.881500244140625, -8.780799865722656, -8.854599952697754, -8.722000122070312, -8.71619987487793, -8.670100212097168, -8.671199798583984, -8.620400428771973, -8.720000267028809, -8.75570011138916, -8.65779972076416, -8.779199600219727, -8.08080005645752, -8.466699600219727, -8.632399559020996, -8.478099822998047, -8.653200149536133, -8.66189956665039, -8.862899780273438, -8.990300178527832, -9.014599800109863, -9.014599800109863, -8.916399955749512, -8.965800285339355, -9.034099578857422, -9.026000022888184, -9.042799949645996, -9.035599708557129, -8.621100425720215, -9.092599868774414, -9.014200210571289, -9.126999855041504, -9.12339973449707, -9.173299789428711, -9.18970012664795, -9.19629955291748, -9.204899787902832, -9.223600387573242, -9.170299530029297, -9.154600143432617, -9.270400047302246, -9.272299766540527, -8.84689998626709, -8.645400047302246, -8.40820026397705, -8.360699653625488, -8.814299583435059, -9.036199569702148, -8.936800003051758, -8.773699760437012, -8.743000030517578, -8.875900268554688, -8.959699630737305, -8.879400253295898, -8.933699607849121, -8.91349983215332, -8.941900253295898, -8.951299667358398, -9.008700370788574, -9.01159954071045, -8.5625, -8.809000015258789, -8.71560001373291, -8.830100059509277, -8.907500267028809, -8.78689956665039, -8.513500213623047, -8.820799827575684, -8.992799758911133, -8.997300148010254, -8.97350025177002, -8.921500205993652, -9.065500259399414, -9.114299774169922, -9.126299858093262, -9.162099838256836, -9.162099838256836, -9.162099838256836, -9.162099838256836, -9.09570026397705, -9.048999786376953, -9.210000038146973, -9.2322998046875, -9.234999656677246, -9.23900032043457, -9.23900032043457, -8.914600372314453, -9.25979995727539, -9.20680046081543, -9.277899742126465, -8.615599632263184, -8.897199630737305, -8.692899703979492, -8.7677001953125, -8.944499969482422, -8.986800193786621, -8.588600158691406, -8.79259967803955, -8.634200096130371, -8.67770004272461, -8.930299758911133, -8.782299995422363, -8.916199684143066, -8.913800239562988, -8.98550033569336, -8.868200302124023, -8.9621000289917, -8.946100234985352, -8.989299774169922, -8.372699737548828, -8.488499641418457, -8.556099891662598, -8.542699813842773, -8.607500076293945, -8.689299583435059, -8.689299583435059, -8.689299583435059, -8.697699546813965, -8.697699546813965, -8.596199989318848, -8.716300010681152, -8.727299690246582, -8.816699981689453, -8.901100158691406, -8.839200019836426, -8.870800018310547, -8.883600234985352, -8.949899673461914, -8.999500274658203, -8.999500274658203, -8.999500274658203, -8.953399658203125, -8.990300178527832, -8.87660026550293, -9.069899559020996, -9.069899559020996, -8.791000366210938, -8.88640022277832, -9.024800300598145, -8.50790023803711, -8.883899688720703, -8.737000465393066, -8.767999649047852, -8.662500381469727, -8.969799995422363, -8.913999557495117, -8.908100128173828, -8.946100234985352, -8.307499885559082, -8.473999977111816, -8.645099639892578, -8.690299987792969, -8.747300148010254, -8.686800003051758, -8.828200340270996, -8.828200340270996, -8.828200340270996, -8.870599746704102, -8.93120002746582, -8.892800331115723, -8.951399803161621, -8.793100357055664, -8.993000030517578, -9.026900291442871, -9.051300048828125, -8.991399765014648, -9.10219955444336, -9.024499893188477, -9.116399765014648, -9.144499778747559, -9.144499778747559, -9.144599914550781, -9.012200355529785, -9.1806001663208, -9.183600425720215, -9.183600425720215, -9.085599899291992, -9.122300148010254, -8.645500183105469, -8.73390007019043, -8.87909984588623, -8.78950023651123, -8.821200370788574, -8.656900405883789, -8.86929988861084, -8.992600440979004, -8.715999603271484, -8.822799682617188, -8.888699531555176, -8.961600303649902, -8.898500442504883, -8.096799850463867, -8.378700256347656, -8.751799583435059, -8.745499610900879, -8.817000389099121, -8.824299812316895, -8.732399940490723, -8.908599853515625, -8.812199592590332, -8.971199989318848, -8.850899696350098, -8.941399574279785, -9.073399543762207, -8.090700149536133, -8.998499870300293, -8.991700172424316, -8.987899780273438, -9.06779956817627, -9.074299812316895, -8.986900329589844, -9.078300476074219, -9.142000198364258, -9.103799819946289, -9.158300399780273, -9.163299560546875, -8.959799766540527, -9.20829963684082, -9.20829963684082, -9.031100273132324, -9.073200225830078, -8.574999809265137, -9.07859992980957, -8.710200309753418, -9.001899719238281, -8.793100357055664, -8.9266996383667, -8.72029972076416, -8.90719985961914, -8.991499900817871, -8.720499992370605, -8.888500213623047, -8.892000198364258, -8.963600158691406, -8.98069953918457, -8.028400421142578, -8.498100280761719, -9.152099609375, -9.280799865722656, -9.279600143432617, -9.05679988861084, -8.649900436401367, -9.258700370788574, -9.327199935913086, -9.233599662780762, -9.308600425720215, -9.297699928283691, -8.797699928283691, -9.281100273132324, -9.394700050354004, -9.384499549865723, -9.184200286865234, -9.31779956817627, -9.316800117492676, -9.456700325012207, -9.280500411987305, -9.453499794006348, -9.473699569702148, -9.454899787902832, -9.469300270080566, -9.179800033569336, -8.4306001663208, -9.263699531555176, -8.554300308227539, -9.536299705505371, -9.312999725341797, -8.753399848937988, -8.978799819946289, -9.330699920654297, -9.161100387573242, -9.258000373840332, -9.18970012664795, -9.068900108337402, -9.165499687194824, -9.07509994506836, -8.950499534606934, -9.271400451660156, -9.180999755859375, -9.186400413513184, -9.251500129699707, -9.259599685668945, -8.236700057983398, -8.623800277709961, -8.86400032043457, -8.9197998046875, -9.071700096130371, -8.944299697875977, -9.086600303649902, -9.140199661254883, -9.16469955444336, -9.097900390625, -9.269399642944336, -8.722100257873535, -8.378700256347656, -9.16100025177002, -9.135499954223633, -9.33650016784668, -9.425600051879883, -9.425600051879883, -9.380900382995605, -9.42240047454834, -9.430999755859375, -9.251799583435059, -9.269100189208984, -9.331000328063965, -9.364999771118164, -9.237899780273438, -9.473799705505371, -9.246700286865234, -9.433799743652344, -9.198699951171875, -9.020999908447266, -9.240699768066406, -8.739500045776367, -8.70259952545166, -8.837699890136719, -9.083100318908691, -8.762100219726562, -9.008500099182129, -8.995699882507324, -9.131099700927734, -9.150699615478516, -9.181099891662598, -9.012800216674805, -9.154199600219727, -9.116000175476074, -9.186400413513184, -9.157899856567383, -9.172699928283691, -9.15429973602295]}, \"token.table\": {\"Topic\": [1, 2, 3, 4, 1, 2, 3, 4, 1, 2, 3, 4, 1, 2, 3, 1, 2, 3, 1, 2, 3, 4, 1, 2, 3, 1, 2, 3, 1, 2, 3, 1, 2, 3, 5, 1, 2, 3, 1, 2, 3, 1, 2, 3, 1, 2, 3, 4, 1, 2, 3, 4, 6, 1, 2, 3, 1, 2, 3, 1, 2, 3, 1, 2, 3, 4, 1, 2, 3, 4, 1, 2, 3, 1, 2, 3, 4, 1, 2, 3, 1, 2, 3, 4, 1, 2, 3, 1, 2, 3, 1, 2, 3, 4, 1, 2, 3, 4, 6, 1, 2, 3, 1, 2, 3, 5, 1, 2, 3, 1, 2, 3, 1, 2, 3, 5, 1, 2, 3, 1, 2, 3, 1, 2, 3, 4, 1, 2, 3, 4, 6, 1, 2, 3, 4, 1, 2, 3, 1, 2, 3, 4, 1, 2, 3, 1, 2, 3, 1, 2, 3, 1, 2, 3, 1, 2, 3, 4, 1, 2, 3, 1, 2, 3, 1, 2, 3, 5, 1, 2, 3, 1, 2, 3, 1, 2, 3, 1, 2, 3, 4, 1, 2, 3, 1, 2, 3, 4, 1, 2, 3, 1, 2, 3, 4, 1, 2, 3, 1, 2, 3, 4, 1, 2, 3, 4, 1, 2, 3, 4, 1, 2, 3, 1, 2, 3, 4, 1, 2, 3, 5, 1, 2, 3, 4, 6, 1, 2, 3, 1, 2, 3, 1, 2, 3, 5, 1, 2, 3, 4, 1, 2, 3, 6, 1, 2, 3, 4, 1, 2, 3, 1, 2, 3, 1, 2, 3, 1, 2, 3, 4, 1, 2, 3, 1, 2, 3, 4, 5, 1, 2, 3, 1, 2, 3, 4, 1, 2, 3, 4, 1, 2, 3, 1, 2, 3, 4, 1, 2, 3, 1, 2, 3, 4, 1, 2, 3, 1, 2, 3, 1, 2, 3, 4, 1, 2, 3, 1, 2, 3, 1, 2, 3, 4, 1, 2, 3, 6, 1, 2, 3, 1, 2, 3, 1, 2, 3, 1, 2, 3, 1, 2, 3, 1, 2, 3, 1, 2, 3, 1, 2, 3, 1, 2, 3, 1, 2, 3, 6, 1, 2, 3, 4, 1, 2, 3, 1, 2, 3, 5, 1, 2, 3, 4, 1, 2, 3, 4, 1, 2, 3, 1, 2, 3, 1, 2, 3, 1, 2, 3, 4, 5, 6, 1, 2, 3, 1, 2, 3, 1, 2, 3, 4, 6, 1, 2, 3, 1, 2, 3, 4, 5, 6, 1, 2, 3, 5, 1, 2, 3, 4, 5, 1, 2, 3, 1, 2, 3, 6, 1, 2, 3, 1, 2, 3, 4, 1, 2, 3, 5, 1, 2, 3, 4, 5, 1, 2, 3, 4, 1, 2, 3, 1, 2, 3, 6, 1, 2, 3, 4, 5, 1, 2, 3, 4, 1, 2, 3, 1, 2, 3, 1, 2, 3, 4, 1, 2, 3, 1, 2, 3, 1, 2, 3, 6, 1, 2, 3, 1, 2, 3, 4, 1, 2, 3, 4, 5, 1, 2, 3, 5, 1, 2, 3, 1, 2, 3, 1, 2, 3, 4, 1, 2, 3, 4, 1, 2, 3, 4, 1, 2, 3, 4, 1, 2, 3, 5, 1, 2, 3, 5, 1, 2, 3, 4, 1, 2, 3, 4, 1, 2, 3, 1, 2, 3, 4, 1, 2, 3, 1, 2, 3, 1, 2, 3, 1, 2, 3, 4, 1, 2, 3, 1, 2, 3, 4, 1, 2, 3, 1, 2, 3, 1, 2, 3, 1, 2, 3, 5, 1, 2, 3, 5, 1, 2, 3, 4, 1, 2, 3, 4, 1, 2, 3, 1, 2, 3, 5, 1, 2, 3, 4, 1, 2, 3, 4, 1, 2, 3, 1, 2, 3, 1, 2, 3, 1, 2, 3, 1, 2, 3, 4, 1, 2, 3, 4, 1, 2, 3, 1, 2, 3, 4, 1, 2, 3, 1, 2, 3, 1, 2, 3, 1, 2, 3, 4, 1, 2, 3, 4, 1, 2, 3, 1, 2, 3, 5, 1, 2, 3, 5, 1, 2, 3, 4, 5, 1, 2, 3, 1, 2, 3, 4, 1, 2, 3, 4, 1, 2, 3, 1, 2, 3, 5, 1, 2, 3, 1, 2, 3, 1, 2, 3, 4, 1, 2, 3, 1, 2, 3, 4, 1, 2, 3, 4, 1, 2, 3, 4, 1, 2, 3, 4, 1, 2, 3, 4, 1, 2, 3, 4, 1, 2, 3, 6, 1, 2, 3, 4, 1, 2, 3, 1, 2, 3, 1, 2, 3, 1, 2, 3, 1, 2, 3, 1, 2, 3, 1, 2, 3, 4, 1, 2, 3, 1, 2, 3, 1, 2, 3, 1, 2, 3, 4, 1, 2, 3, 4, 1, 2, 3, 1, 2, 3, 1, 2, 3, 1, 2, 3, 1, 2, 3, 1, 2, 3, 4, 1, 2, 3, 5, 1, 2, 3, 1, 2, 3, 1, 2, 3, 4, 5, 1, 2, 3, 1, 2, 3, 5, 1, 2, 3, 1, 2, 3, 1, 2, 3, 1, 2, 3, 1, 2, 3, 1, 2, 3, 4, 6, 1, 2, 3, 6, 1, 2, 3, 4, 1, 2, 3, 5, 1, 2, 3, 1, 2, 3, 4, 6, 1, 2, 3, 1, 2, 3, 1, 2, 3, 1, 2, 3, 1, 2, 3, 1, 2, 3, 1, 2, 3, 4, 1, 2, 3, 5, 1, 2, 3, 4, 1, 2, 3, 1, 2, 3, 5, 1, 2, 3, 4, 1, 2, 3, 6, 1, 2, 3, 1, 2, 3, 4, 1, 2, 3, 4, 1, 2, 3, 6, 1, 2, 3, 4, 1, 2, 3, 1, 2, 3, 4, 5, 1, 2, 3, 4, 5, 1, 2, 3, 1, 2, 3, 4, 5, 1, 2, 3, 4, 1, 2, 3, 1, 2, 3, 6, 1, 2, 3, 4, 1, 2, 3, 4, 1, 2, 3, 1, 2, 3, 1, 2, 3, 4, 6, 1, 2, 3, 4, 1, 2, 3, 1, 2, 3, 4, 1, 2, 3, 4, 1, 2, 3, 1, 2, 3, 1, 2, 3, 5, 1, 2, 3, 1, 2, 3, 4, 5, 1, 2, 3, 4, 1, 2, 3, 4, 1, 2, 3, 1, 2, 3, 1, 2, 3, 1, 2, 3, 4, 1, 2, 3, 4, 6, 1, 2, 3, 1, 2, 3, 4, 1, 2, 3, 1, 2, 3, 1, 2, 3, 4, 6, 1, 2, 3, 1, 2, 3, 1, 2, 3, 4, 6, 1, 2, 3, 1, 2, 3, 1, 2, 3, 4, 1, 2, 3, 1, 2, 3, 4, 1, 2, 3, 4, 1, 2, 3, 4, 1, 2, 3, 6, 1, 2, 3, 6, 1, 2, 3, 4, 1, 2, 3, 5, 1, 2, 3, 1, 2, 3, 1, 2, 3, 1, 2, 3, 1, 2, 3, 5, 1, 2, 3, 1, 2, 3, 4, 1, 2, 3, 4, 5, 1, 2, 3, 1, 2, 3, 4, 1, 2, 3, 1, 2, 3, 1, 2, 3, 1, 2, 3, 1, 2, 3, 1, 2, 3, 1, 2, 3, 1, 2, 3, 4, 1, 2, 3, 1, 2, 3, 1, 2, 3, 1, 2, 3, 1, 2, 3, 1, 2, 3, 1, 2, 3, 4, 1, 2, 3, 1, 2, 3, 4, 1, 2, 3, 4, 1, 2, 3, 4, 1, 2, 3, 5, 1, 2, 3, 4, 5, 1, 2, 3, 1, 2, 3, 1, 2, 3, 4, 1, 2, 3, 4, 1, 2, 3, 4, 1, 2, 3, 1, 2, 3, 1, 2, 3, 4, 1, 2, 3, 4, 1, 2, 3], \"Freq\": [0.6131558418273926, 0.15766863524913788, 0.1751873791217804, 0.03503747656941414, 0.6208965182304382, 0.1619730144739151, 0.1619730144739151, 0.026995500549674034, 0.47822999954223633, 0.28693801164627075, 0.19129200279712677, 0.04782300069928169, 0.4728301763534546, 0.28369811177253723, 0.18913206458091736, 0.48520854115486145, 0.2911251187324524, 0.19408340752124786, 0.4418911337852478, 0.309323787689209, 0.17675645649433136, 0.04418911412358284, 0.6837576627731323, 0.1840885877609253, 0.13149185478687286, 0.43185359239578247, 0.3022975027561188, 0.259112149477005, 0.3551374077796936, 0.2130824476480484, 0.4261648952960968, 0.4365312457084656, 0.30557188391685486, 0.17461250722408295, 0.04365312680602074, 0.4604301154613495, 0.32230108976364136, 0.18417204916477203, 0.4720284640789032, 0.28321707248687744, 0.18881137669086456, 0.5156029462814331, 0.206241175532341, 0.25780147314071655, 0.3775823712348938, 0.4442145526409149, 0.15547509491443634, 0.04442145675420761, 0.2977236211299896, 0.5413156747817993, 0.10826313495635986, 0.027065783739089966, 0.027065783739089966, 0.42490193247795105, 0.3399215638637543, 0.16996078193187714, 0.3363426625728607, 0.20180559158325195, 0.4036111831665039, 0.43366506695747375, 0.26019904017448425, 0.26019904017448425, 0.45841649174690247, 0.2750498950481415, 0.22920824587345123, 0.04584164917469025, 0.41029539704322815, 0.24617722630500793, 0.24617722630500793, 0.041029538959264755, 0.35513755679130554, 0.21308252215385437, 0.42616504430770874, 0.4769253432750702, 0.28615522384643555, 0.19077013432979584, 0.04769253358244896, 0.769507646560669, 0.17341016232967377, 0.05419067665934563, 0.4127528965473175, 0.3302023112773895, 0.20637644827365875, 0.04127528890967369, 0.6691739559173584, 0.16152474284172058, 0.1384497880935669, 0.729015052318573, 0.1508307009935379, 0.10055379569530487, 0.3693048059940338, 0.1846524029970169, 0.41546791791915894, 0.023081550374627113, 0.2943423092365265, 0.5084094405174255, 0.16055035591125488, 0.02675839327275753, 0.02675839327275753, 0.4688725471496582, 0.29837343096733093, 0.17049911618232727, 0.44805631041526794, 0.26883378624916077, 0.22402815520763397, 0.044805631041526794, 0.5359295010566711, 0.3215577006340027, 0.10718590021133423, 0.6672395467758179, 0.1819744110107422, 0.12131627649068832, 0.4419834315776825, 0.265190064907074, 0.265190064907074, 0.04419834539294243, 0.4802244007587433, 0.2881346344947815, 0.1920897513628006, 0.4869554042816162, 0.29217323660850525, 0.19478216767311096, 0.3608936369419098, 0.3608936369419098, 0.24692721664905548, 0.018994402140378952, 0.41549885272979736, 0.33759284019470215, 0.20774942636489868, 0.025968678295612335, 0.025968678295612335, 0.7646617293357849, 0.14337407052516937, 0.07965226471424103, 0.015930453315377235, 0.5054834485054016, 0.27571824193000793, 0.18381215631961823, 0.7775639891624451, 0.13847029209136963, 0.07456093281507492, 0.010651561431586742, 0.2780207395553589, 0.1769222766160965, 0.5307668447494507, 0.34025469422340393, 0.44233110547065735, 0.17012734711170197, 0.4830065071582794, 0.2898038923740387, 0.19320259988307953, 0.437804639339447, 0.31840336322784424, 0.19900210201740265, 0.4632057249546051, 0.27792343497276306, 0.18528228998184204, 0.04632057249546051, 0.6668384075164795, 0.19758173823356628, 0.09879086911678314, 0.6726895570755005, 0.18835307657718658, 0.13453790545463562, 0.4769473969936371, 0.2861684262752533, 0.1907789558172226, 0.04769473895430565, 0.4536806046962738, 0.3202451467514038, 0.18680965900421143, 0.30985763669013977, 0.5577437877655029, 0.12394306063652039, 0.37887081503868103, 0.22732248902320862, 0.37887081503868103, 0.500442624092102, 0.38923317193984985, 0.09267456829547882, 0.018534913659095764, 0.47857892513275146, 0.3045502305030823, 0.1740286946296692, 0.16453205049037933, 0.6910346150398254, 0.11517243832349777, 0.016453204676508904, 0.5399603247642517, 0.24921244382858276, 0.16614162921905518, 0.4181298613548279, 0.26879775524139404, 0.238931342959404, 0.059732835739851, 0.48836490511894226, 0.26638084650039673, 0.17758724093437195, 0.585368275642395, 0.21951308846473694, 0.1646348237991333, 0.018292758613824844, 0.47664278745651245, 0.28598567843437195, 0.1906571090221405, 0.047664277255535126, 0.4061034619808197, 0.24366207420825958, 0.32488274574279785, 0.04061034321784973, 0.3221420645713806, 0.51542729139328, 0.12885682284832, 0.38303375244140625, 0.38303375244140625, 0.19151687622070312, 0.02393960952758789, 0.4444870352745056, 0.26669222116470337, 0.26669222116470337, 0.04444870352745056, 0.28948265314102173, 0.1736895889043808, 0.5210687518119812, 0.028948266059160233, 0.028948266059160233, 0.4070195257663727, 0.4070195257663727, 0.16280780732631683, 0.3668956756591797, 0.22013740241527557, 0.4035852253437042, 0.484032541513443, 0.2640177607536316, 0.2200147956609726, 0.0440029576420784, 0.4780237376689911, 0.2607402205467224, 0.21728351712226868, 0.043456703424453735, 0.4770328104496002, 0.28621968626976013, 0.1908131241798401, 0.04770328104496002, 0.47702839970588684, 0.2862170338630676, 0.1908113658428192, 0.0477028414607048, 0.31518125534057617, 0.5358081459999084, 0.126072496175766, 0.5164509415626526, 0.19366909563541412, 0.2582254707813263, 0.48343774676322937, 0.29006263613700867, 0.1933750957250595, 0.46770012378692627, 0.2806200683116913, 0.23385006189346313, 0.046770013868808746, 0.3808187246322632, 0.22849123179912567, 0.3808187246322632, 0.4406225085258484, 0.28039613366127014, 0.2002829611301422, 0.04005659371614456, 0.04005659371614456, 0.3929194509983063, 0.235751673579216, 0.3536275029182434, 0.3444640040397644, 0.3974584639072418, 0.21197785437107086, 0.026497231796383858, 0.6187093257904053, 0.18108566105365753, 0.18108566105365753, 0.015090471133589745, 0.3186623752117157, 0.14707493782043457, 0.514762282371521, 0.7455369830131531, 0.11771636456251144, 0.11771636456251144, 0.019619394093751907, 0.48850226402282715, 0.2664557993412018, 0.17763718962669373, 0.47877371311187744, 0.28726422786712646, 0.19150948524475098, 0.047877371311187744, 0.4160805940628052, 0.3744725286960602, 0.1664322316646576, 0.5441805720329285, 0.23322023451328278, 0.1943501979112625, 0.5292445421218872, 0.3367919921875, 0.0962262824177742, 0.02405657060444355, 0.3163088262081146, 0.537725031375885, 0.12652353942394257, 0.4670347571372986, 0.2802208662033081, 0.2335173785686493, 0.36608922481536865, 0.32755351066589355, 0.28901779651641846, 0.01926785334944725, 0.3883160352706909, 0.42067569494247437, 0.12943868339061737, 0.03235967084765434, 0.3058706223964691, 0.550567090511322, 0.12234824895858765, 0.5352010726928711, 0.22937187552452087, 0.22937187552452087, 0.6694402694702148, 0.1673600673675537, 0.13946673274040222, 0.6879251599311829, 0.1587519645690918, 0.13229329884052277, 0.4834376573562622, 0.2900626063346863, 0.19337506592273712, 0.4880540370941162, 0.2928324341773987, 0.19522161781787872, 0.48934119939804077, 0.2936047315597534, 0.19573648273944855, 0.3641490638256073, 0.19862675666809082, 0.430357962846756, 0.2527245283126831, 0.6318113207817078, 0.12636226415634155, 0.4797351360321045, 0.2878410816192627, 0.1918940544128418, 0.04797351360321045, 0.4745572805404663, 0.25884944200515747, 0.21570785343647003, 0.04314156994223595, 0.3288859724998474, 0.19733159244060516, 0.46044036746025085, 0.47680899500846863, 0.2860853970050812, 0.19072359800338745, 0.04768089950084686, 0.4158843159675598, 0.3049818277359009, 0.2495305836200714, 0.027725620195269585, 0.516430139541626, 0.26711905002593994, 0.17807935178279877, 0.017807936295866966, 0.45882877707481384, 0.24148882925510406, 0.26563772559165955, 0.5085791349411011, 0.27740681171417236, 0.18493786454200745, 0.40422323346138, 0.40422323346138, 0.14699026942253113, 0.3752270042896271, 0.41096290946006775, 0.16081157326698303, 0.035735905170440674, 0.017867952585220337, 0.017867952585220337, 0.4883781969547272, 0.2930269241333008, 0.1953512728214264, 0.45424726605415344, 0.3179730772972107, 0.18169890344142914, 0.40161582827568054, 0.2811310589313507, 0.2409694939851761, 0.040161579847335815, 0.040161579847335815, 0.6679016947746277, 0.13358034193515778, 0.15584373474121094, 0.544321596622467, 0.21585167944431305, 0.21585167944431305, 0.00938485562801361, 0.00938485562801361, 0.00938485562801361, 0.4596041440963745, 0.27576249837875366, 0.22980207204818726, 0.04596041515469551, 0.5120604038238525, 0.241806298494339, 0.2275823950767517, 0.014223899692296982, 0.014223899692296982, 0.7388733625411987, 0.1766871064901352, 0.06424985826015472, 0.47404295206069946, 0.2844257652759552, 0.18961718678474426, 0.047404296696186066, 0.4777383506298065, 0.2605845630168915, 0.173723042011261, 0.4782307744026184, 0.28693845868110657, 0.19129231572151184, 0.04782307893037796, 0.5169506669044495, 0.23859260976314545, 0.19882716238498688, 0.039765432476997375, 0.5669981241226196, 0.24715302884578705, 0.1599225550889969, 0.014538413845002651, 0.014538413845002651, 0.4139615297317505, 0.3311692178249359, 0.20698076486587524, 0.04139615222811699, 0.38128066062927246, 0.22876839339733124, 0.38128066062927246, 0.4813111424446106, 0.2887866795063019, 0.19252446293830872, 0.04813111573457718, 0.6451392769813538, 0.17203713953495026, 0.129027858376503, 0.021504642441868782, 0.021504642441868782, 0.5487155318260193, 0.20903447270393372, 0.20903447270393372, 0.026129309087991714, 0.6683148741722107, 0.0932532399892807, 0.21759089827537537, 0.48752492666244507, 0.29251495003700256, 0.1950099617242813, 0.47511911392211914, 0.285071462392807, 0.19004765152931213, 0.04751191288232803, 0.3545582592487335, 0.21273495256900787, 0.42546990513801575, 0.37202176451683044, 0.2232130616903305, 0.4092239439487457, 0.47973522543907166, 0.28784114122390747, 0.19189408421516418, 0.047973521053791046, 0.37815773487091064, 0.2647104263305664, 0.3403419852256775, 0.4659925103187561, 0.2541777193546295, 0.2118147760629654, 0.04236295446753502, 0.4295012950897217, 0.15158869326114655, 0.353706955909729, 0.025264782831072807, 0.025264782831072807, 0.47680941224098206, 0.2860856354236603, 0.19072376191616058, 0.047680940479040146, 0.3968122899532318, 0.43649351596832275, 0.15872491896152496, 0.5614863038063049, 0.24063698947429657, 0.16042466461658478, 0.7088383436203003, 0.141767680644989, 0.09451178461313248, 0.04725589230656624, 0.7059873342514038, 0.16136853396892548, 0.10085533559322357, 0.020171066746115685, 0.3475923240184784, 0.40190359950065613, 0.23896971344947815, 0.01086226012557745, 0.48771101236343384, 0.2348238229751587, 0.25288718938827515, 0.018063370138406754, 0.48126453161239624, 0.2887587249279022, 0.1925058215856552, 0.0481264553964138, 0.47694331407546997, 0.2861659824848175, 0.19077733159065247, 0.047694332897663116, 0.2823907732963562, 0.5391096472740173, 0.12835943698883057, 0.025671888142824173, 0.20431935787200928, 0.6315325498580933, 0.13002140820026398, 0.018574487417936325, 0.47910675406455994, 0.28746405243873596, 0.19164270162582397, 0.4226815402507782, 0.34583035111427307, 0.19212797284126282, 0.019212797284126282, 0.41616371273994446, 0.3329309821128845, 0.20808185636997223, 0.709693968296051, 0.16377553343772888, 0.10918368399143219, 0.30734384059906006, 0.5308666229248047, 0.1397017389535904, 0.4279302954673767, 0.37087294459342957, 0.14264343678951263, 0.028528686612844467, 0.48670005798339844, 0.2920200228691101, 0.19468002021312714, 0.22476935386657715, 0.6518311500549316, 0.08990774303674698, 0.022476935759186745, 0.4838252067565918, 0.2902951240539551, 0.19353008270263672, 0.4297140836715698, 0.3437712490558624, 0.1718856245279312, 0.6814045906066895, 0.15724721550941467, 0.15724721550941467, 0.44307568669319153, 0.2658454179763794, 0.2658454179763794, 0.04430756717920303, 0.4768107533454895, 0.28608646988868713, 0.19072429835796356, 0.04768107458949089, 0.40317440032958984, 0.28222209215164185, 0.28222209215164185, 0.04031744226813316, 0.3359732925891876, 0.453563928604126, 0.1679866462945938, 0.01679866388440132, 0.26453036069869995, 0.6084198355674744, 0.10581213980913162, 0.4799864888191223, 0.2879919111728668, 0.1919945925474167, 0.04799864813685417, 0.4292055368423462, 0.32190415263175964, 0.2146027684211731, 0.03576712682843208, 0.3528696298599243, 0.21172179281711578, 0.42344358563423157, 0.03528696298599243, 0.39181578159332275, 0.2350894659757614, 0.3526342213153839, 0.5108350515365601, 0.25541752576828003, 0.17027834057807922, 0.31518083810806274, 0.5358074307441711, 0.12607233226299286, 0.2547363340854645, 0.6368408799171448, 0.10189453512430191, 0.45682355761528015, 0.2740941345691681, 0.22841177880764008, 0.045682355761528015, 0.45914992690086365, 0.2754899561405182, 0.18365997076034546, 0.045914992690086365, 0.5689465999603271, 0.13654719293117523, 0.2958522439002991, 0.49577638506889343, 0.2704235017299652, 0.180282324552536, 0.045070581138134, 0.48692232370376587, 0.29215338826179504, 0.19476892054080963, 0.4854298233985901, 0.2912578880786896, 0.1941719353199005, 0.3970813751220703, 0.3970813751220703, 0.14439323544502258, 0.32242491841316223, 0.47288987040519714, 0.19345493614673615, 0.021494993939995766, 0.2814103662967682, 0.5346797108650208, 0.1407051831483841, 0.02814103662967682, 0.4167148470878601, 0.378831684589386, 0.189415842294693, 0.4460625946521759, 0.31224381923675537, 0.22303129732608795, 0.04460625723004341, 0.4479263722896576, 0.26875582337379456, 0.2239631861448288, 0.04479263722896576, 0.41901740431785583, 0.34283244609832764, 0.19046245515346527, 0.03809249401092529, 0.03809249401092529, 0.2687838077545166, 0.6182027459144592, 0.10751351714134216, 0.4766426980495453, 0.2859856188297272, 0.19065707921981812, 0.04766426980495453, 0.35211554169654846, 0.19206301867961884, 0.4161365330219269, 0.032010503113269806, 0.7562345862388611, 0.12911322712898254, 0.11066848039627075, 0.4318162500858307, 0.25908973813056946, 0.25908973813056946, 0.04318162426352501, 0.48520946502685547, 0.29112568497657776, 0.1940837949514389, 0.5991717576980591, 0.21147239208221436, 0.14098159968852997, 0.5651554465293884, 0.20184123516082764, 0.1816571056842804, 0.020184122025966644, 0.4838252067565918, 0.2902951240539551, 0.19353008270263672, 0.4766412675380707, 0.28598475456237793, 0.19065651297569275, 0.04766412824392319, 0.47744470834732056, 0.2864668369293213, 0.19097788631916046, 0.047744471579790115, 0.4564216136932373, 0.27385297417640686, 0.18256865441799164, 0.04564216360449791, 0.4456034004688263, 0.3119223713874817, 0.17824135720729828, 0.04456033930182457, 0.24727977812290192, 0.4062453508377075, 0.3002683222293854, 0.035325683653354645, 0.3911062180995941, 0.26073747873306274, 0.3259218633174896, 0.03259218484163284, 0.4803002178668976, 0.2881801426410675, 0.19212009012699127, 0.04803002253174782, 0.29965850710868835, 0.5993170142173767, 0.09988616406917572, 0.016647694632411003, 0.35092824697494507, 0.21055695414543152, 0.42111390829086304, 0.38705822825431824, 0.21112267673015594, 0.3518711030483246, 0.4593067169189453, 0.29228609800338745, 0.16702061891555786, 0.45569711923599243, 0.31898796558380127, 0.1822788417339325, 0.4968515932559967, 0.2710099518299103, 0.18067330121994019, 0.6684485673904419, 0.18716560304164886, 0.1069517657160759, 0.4072021245956421, 0.3619574308395386, 0.19606028497219086, 0.015081560239195824, 0.37823331356048584, 0.41605666279792786, 0.1512933224439621, 0.7001325488090515, 0.14485502243041992, 0.120712511241436, 0.6746795177459717, 0.1760033518075943, 0.11733556538820267, 0.47637253999710083, 0.2679595649242401, 0.2084129899740219, 0.029773283749818802, 0.3489221930503845, 0.44196808338165283, 0.16283035278320312, 0.023261478170752525, 0.31630921363830566, 0.5377256870269775, 0.1265236884355545, 0.29057347774505615, 0.5230322480201721, 0.14528673887252808, 0.4508783221244812, 0.31561481952667236, 0.18035133183002472, 0.7331826090812683, 0.14663653075695038, 0.09775768220424652, 0.4837973415851593, 0.2902784049510956, 0.19351893663406372, 0.47283831238746643, 0.2837029993534088, 0.1891353279352188, 0.0472838319838047, 0.4812633991241455, 0.2887580394744873, 0.1925053596496582, 0.04812633991241455, 0.24430203437805176, 0.12215101718902588, 0.631113588809967, 0.2865665853023529, 0.20059660077095032, 0.4871631860733032, 0.41044801473617554, 0.3390657603740692, 0.21414679288864136, 0.01784556731581688, 0.01784556731581688, 0.4892943203449249, 0.29357659816741943, 0.1957177221775055, 0.3642105460166931, 0.21852633357048035, 0.4006316065788269, 0.03642105311155319, 0.29050153493881226, 0.1743009239435196, 0.4938526153564453, 0.48931655287742615, 0.29358991980552673, 0.19572661817073822, 0.4667156934738159, 0.32670098543167114, 0.18668627738952637, 0.6067589521408081, 0.21415020525455475, 0.1427668035030365, 0.48246335983276367, 0.28947800397872925, 0.19298534095287323, 0.4562320113182068, 0.273739218711853, 0.18249280750751495, 0.04562320187687874, 0.04562320187687874, 0.48106837272644043, 0.2886410355567932, 0.1924273520708084, 0.0481068380177021, 0.4721909761428833, 0.28331458568573, 0.18887639045715332, 0.04721909761428833, 0.48126205801963806, 0.28875723481178284, 0.19250482320785522, 0.048126205801963806, 0.4893399775028229, 0.2936039865016937, 0.19573599100112915, 0.5742308497428894, 0.24609892070293427, 0.16406594216823578, 0.016406595706939697, 0.016406595706939697, 0.34945088624954224, 0.2096705436706543, 0.4193410873413086, 0.49307483434677124, 0.31377488374710083, 0.17929993569850922, 0.6839966177940369, 0.16415919363498688, 0.10943945497274399, 0.6548611521720886, 0.17462964355945587, 0.15280093252658844, 0.3163068890571594, 0.5377216935157776, 0.1265227496623993, 0.6972221732139587, 0.19233715534210205, 0.09616857767105103, 0.46596163511276245, 0.3688862919807434, 0.13590547442436218, 0.01941506750881672, 0.4610995352268219, 0.2766597270965576, 0.23054976761341095, 0.04610995203256607, 0.4481538236141205, 0.2688922882080078, 0.2688922882080078, 0.04481538385152817, 0.3163069188594818, 0.5377217531204224, 0.12652276456356049, 0.4300283193588257, 0.3010198175907135, 0.1720113307237625, 0.04300283268094063, 0.41598162055015564, 0.27732110023498535, 0.2495889812707901, 0.027732109650969505, 0.46552398800849915, 0.25392216444015503, 0.21160180866718292, 0.042320363223552704, 0.6678626537322998, 0.19643019139766693, 0.11785811185836792, 0.3858163058757782, 0.4051071107387543, 0.1929081529378891, 0.01929081417620182, 0.5254989862442017, 0.2425379902124405, 0.16169199347496033, 0.04042299836874008, 0.46839508414268494, 0.28103703260421753, 0.18735802173614502, 0.046839505434036255, 0.5089186429977417, 0.20356746017932892, 0.23749537765979767, 0.03392791002988815, 0.361390084028244, 0.4818534255027771, 0.12046335637569427, 0.6099868416786194, 0.15249671041965485, 0.22027303278446198, 0.016944078728556633, 0.016944078728556633, 0.5244901776313782, 0.2532021403312683, 0.18085867166519165, 0.018085867166519165, 0.018085867166519165, 0.38459646701812744, 0.23075789213180542, 0.38459646701812744, 0.3598625361919403, 0.5080412030220032, 0.10584191977977753, 0.021168384701013565, 0.021168384701013565, 0.6478307843208313, 0.2159436047077179, 0.10797180235385895, 0.017995299771428108, 0.4830004870891571, 0.2898002862930298, 0.19320020079612732, 0.47064319252967834, 0.282385915517807, 0.18825727701187134, 0.047064319252967834, 0.5237998366355896, 0.2773057818412781, 0.1540587693452835, 0.030811753123998642, 0.4780919849872589, 0.28685519099235535, 0.19123679399490356, 0.04780919849872589, 0.4648924469947815, 0.33206602931022644, 0.1549641489982605, 0.45387423038482666, 0.19856998324394226, 0.34040567278862, 0.25859323143959045, 0.6095411777496338, 0.11082567274570465, 0.018470944836735725, 0.018470944836735725, 0.5196548700332642, 0.24943432211875916, 0.20786193013191223, 0.020786194130778313, 0.48862001299858093, 0.2931720018386841, 0.19544801115989685, 0.3491574227809906, 0.4800914227962494, 0.15275636315345764, 0.021822338923811913, 0.42985156178474426, 0.3438812494277954, 0.1719406247138977, 0.028656771406531334, 0.4978979527950287, 0.27158069610595703, 0.22631725668907166, 0.5451836585998535, 0.13629591464996338, 0.29530781507492065, 0.30828484892845154, 0.48811766505241394, 0.1798328161239624, 0.02569040283560753, 0.7560016512870789, 0.1374548375606537, 0.09163656085729599, 0.5245579481124878, 0.254331111907959, 0.19074834883213043, 0.015895694494247437, 0.015895694494247437, 0.4368624985218048, 0.3397819399833679, 0.19416110217571259, 0.024270137771964073, 0.4177353084087372, 0.2702993154525757, 0.24572665989398956, 0.024572664871811867, 0.42945364117622375, 0.25767219066619873, 0.3006175458431244, 0.3887375593185425, 0.4276112914085388, 0.15549501776695251, 0.4821039140224457, 0.2892623543739319, 0.1928415596485138, 0.48736485838890076, 0.32490989565849304, 0.16245494782924652, 0.032490991055965424, 0.2680240869522095, 0.5092458128929138, 0.18761686980724335, 0.026802409440279007, 0.026802409440279007, 0.3837037980556488, 0.42207416892051697, 0.15348151326179504, 0.4651602506637573, 0.25372377038002014, 0.21143648028373718, 0.042287297546863556, 0.2568261921405792, 0.6070436835289001, 0.1167391762137413, 0.46725618839263916, 0.28035372495651245, 0.1869024783372879, 0.28410789370536804, 0.549275279045105, 0.13258367776870728, 0.018940525129437447, 0.018940525129437447, 0.4669256806373596, 0.28015539050102234, 0.1867702603340149, 0.4896184206008911, 0.2670646011829376, 0.17804306745529175, 0.5540325045585632, 0.22161300480365753, 0.1939113736152649, 0.02770162560045719, 0.02770162560045719, 0.38071244955062866, 0.41878369450569153, 0.15228497982025146, 0.36715903878211975, 0.4038749635219574, 0.22029542922973633, 0.4839118421077728, 0.28098106384277344, 0.2029307633638382, 0.015610058791935444, 0.48048773407936096, 0.28829264640808105, 0.1921951025724411, 0.3724568784236908, 0.35626310110092163, 0.24290664494037628, 0.016193777322769165, 0.28489741683006287, 0.4821341037750244, 0.19723667204380035, 0.021915186196565628, 0.47053036093711853, 0.28231823444366455, 0.18821215629577637, 0.04705303907394409, 0.47973302006721497, 0.2878398299217224, 0.19189321994781494, 0.047973304986953735, 0.45925405621528625, 0.2755524218082428, 0.22962702810764313, 0.045925404876470566, 0.5522950887680054, 0.240128293633461, 0.16808980703353882, 0.02401283010840416, 0.4614247679710388, 0.3229973316192627, 0.18456991016864777, 0.04614247754216194, 0.4725079834461212, 0.28350478410720825, 0.2362539917230606, 0.4470404088497162, 0.26822423934936523, 0.26822423934936523, 0.7021266222000122, 0.1950351744890213, 0.0780140683054924, 0.4554654359817505, 0.2898416519165039, 0.20702974498271942, 0.4598637819290161, 0.32190465927124023, 0.18394552171230316, 0.04598638042807579, 0.21868351101875305, 0.6779189109802246, 0.08747340738773346, 0.45921915769577026, 0.27553150057792664, 0.18368767201900482, 0.09184383600950241, 0.4754142463207245, 0.21942195296287537, 0.2559922933578491, 0.03657032549381256, 0.03657032549381256, 0.7408427000045776, 0.14186349511146545, 0.11033827066421509, 0.3971925675868988, 0.43029195070266724, 0.16549690067768097, 0.033099379390478134, 0.4653978645801544, 0.2792387008666992, 0.186159148812294, 0.4777829349040985, 0.2866697609424591, 0.23889146745204926, 0.7273397445678711, 0.16163106262683868, 0.08081553131341934, 0.3835159242153168, 0.2301095426082611, 0.3835159242153168, 0.2825491726398468, 0.593353271484375, 0.1130196675658226, 0.4861518144607544, 0.2916910946369171, 0.19446073472499847, 0.7294460535049438, 0.14588920772075653, 0.09725947678089142, 0.3044600784778595, 0.5258855819702148, 0.1383909434080124, 0.02767818793654442, 0.22793620824813843, 0.661014974117279, 0.09117448329925537, 0.218939870595932, 0.6787136197090149, 0.08757594972848892, 0.4542527198791504, 0.3179768919944763, 0.18170109391212463, 0.4280647039413452, 0.3424517512321472, 0.1712258756160736, 0.3507440388202667, 0.21044641733169556, 0.4208928346633911, 0.3151804804801941, 0.5358068346977234, 0.12607219815254211, 0.47113239765167236, 0.2826794385910034, 0.18845295906066895, 0.047113239765167236, 0.48343878984451294, 0.2900632619857788, 0.19337551295757294, 0.5062975883483887, 0.25314879417419434, 0.19689351320266724, 0.028127646073698997, 0.4766424298286438, 0.28598546981811523, 0.19065697491168976, 0.04766424372792244, 0.37825292348861694, 0.4539034962654114, 0.15130116045475006, 0.037825290113687515, 0.42037561535835266, 0.2522253692150116, 0.2522253692150116, 0.042037561535835266, 0.4284270107746124, 0.25705620646476746, 0.25705620646476746, 0.04284270107746124, 0.04284270107746124, 0.5111901760101318, 0.27883100509643555, 0.18588733673095703, 0.4821038544178009, 0.2892623245716095, 0.1928415447473526, 0.6393311023712158, 0.1643994301557541, 0.1643994301557541, 0.018266603350639343, 0.6045121550559998, 0.2311370074748993, 0.14223815500736237, 0.017779769375920296, 0.33356034755706787, 0.5374027490615845, 0.11118678003549576, 0.018531130626797676, 0.4759135842323303, 0.2855481505393982, 0.19036543369293213, 0.3582002520561218, 0.21492014825344086, 0.3582002520561218, 0.6547850370407104, 0.15110424160957336, 0.17628827691078186, 0.025184040889143944, 0.5347902774810791, 0.22919581830501556, 0.19099651277065277, 0.038199301809072495, 0.48219048976898193, 0.28931429982185364, 0.1928762048482895], \"Term\": [\"acid\", \"acid\", \"acid\", \"acid\", \"acidizing\", \"acidizing\", \"acidizing\", \"acidizing\", \"adp\", \"adp\", \"adp\", \"adp\", \"after-closure\", \"after-closure\", \"after-closure\", \"aggradation\", \"aggradation\", \"aggradation\", \"aging\", \"aging\", \"aging\", \"aging\", \"american\", \"american\", \"american\", \"anhydrite\", \"anhydrite\", \"anhydrite\", \"ansys\", \"ansys\", \"ansys\", \"archie\", \"archie\", \"archie\", \"archie\", \"arrhenius\", \"arrhenius\", \"arrhenius\", \"artifacts\", \"artifacts\", \"artifacts\", \"asp\", \"asp\", \"asp\", \"asphaltene\", \"asphaltene\", \"asphaltene\", \"asphaltene\", \"asphaltenes\", \"asphaltenes\", \"asphaltenes\", \"asphaltenes\", \"asphaltenes\", \"averaging\", \"averaging\", \"averaging\", \"axial\", \"axial\", \"axial\", \"ball\", \"ball\", \"ball\", \"band\", \"band\", \"band\", \"band\", \"bands\", \"bands\", \"bands\", \"bands\", \"bangladesh\", \"bangladesh\", \"bangladesh\", \"basefluid\", \"basefluid\", \"basefluid\", \"basefluid\", \"basins\", \"basins\", \"basins\", \"battery\", \"battery\", \"battery\", \"battery\", \"bayesian\", \"bayesian\", \"bayesian\", \"biases\", \"biases\", \"biases\", \"bit\", \"bit\", \"bit\", \"bit\", \"bitumen\", \"bitumen\", \"bitumen\", \"bitumen\", \"bitumen\", \"blend\", \"blend\", \"blend\", \"bodies\", \"bodies\", \"bodies\", \"bodies\", \"borehole\", \"borehole\", \"borehole\", \"breakout\", \"breakout\", \"breakout\", \"brinkman\", \"brinkman\", \"brinkman\", \"brinkman\", \"butler\", \"butler\", \"butler\", \"canopy\", \"canopy\", \"canopy\", \"capillary\", \"capillary\", \"capillary\", \"capillary\", \"carbonate\", \"carbonate\", \"carbonate\", \"carbonate\", \"carbonate\", \"casing\", \"casing\", \"casing\", \"casing\", \"casings\", \"casings\", \"casings\", \"cement\", \"cement\", \"cement\", \"cement\", \"cfd\", \"cfd\", \"cfd\", \"chamber\", \"chamber\", \"chamber\", \"chamber-edge\", \"chamber-edge\", \"chamber-edge\", \"channel\", \"channel\", \"channel\", \"chelating\", \"chelating\", \"chelating\", \"chelating\", \"circulation\", \"circulation\", \"circulation\", \"cleanup\", \"cleanup\", \"cleanup\", \"cliff\", \"cliff\", \"cliff\", \"cliff\", \"closure\", \"closure\", \"closure\", \"cnf\", \"cnf\", \"cnf\", \"co-solvents\", \"co-solvents\", \"co-solvents\", \"coal\", \"coal\", \"coal\", \"coal\", \"coinjection\", \"coinjection\", \"coinjection\", \"combustion\", \"combustion\", \"combustion\", \"combustion\", \"compacting\", \"compacting\", \"compacting\", \"condensate\", \"condensate\", \"condensate\", \"condensate\", \"conditioning\", \"conditioning\", \"conditioning\", \"conductivity\", \"conductivity\", \"conductivity\", \"conductivity\", \"conjugate\", \"conjugate\", \"conjugate\", \"conjugate\", \"connectivities\", \"connectivities\", \"connectivities\", \"connectivities\", \"contracts\", \"contracts\", \"contracts\", \"cores\", \"cores\", \"cores\", \"cores\", \"cretaceous\", \"cretaceous\", \"cretaceous\", \"cretaceous\", \"crm\", \"crm\", \"crm\", \"crm\", \"crm\", \"crude-oil\", \"crude-oil\", \"crude-oil\", \"damping\", \"damping\", \"damping\", \"data-analysis\", \"data-analysis\", \"data-analysis\", \"data-analysis\", \"deconvolution\", \"deconvolution\", \"deconvolution\", \"deconvolution\", \"deim\", \"deim\", \"deim\", \"deim\", \"derivative-free\", \"derivative-free\", \"derivative-free\", \"derivative-free\", \"digitised\", \"digitised\", \"digitised\", \"diversion\", \"diversion\", \"diversion\", \"diverter\", \"diverter\", \"diverter\", \"dmd\", \"dmd\", \"dmd\", \"dmd\", \"dog-leg\", \"dog-leg\", \"dog-leg\", \"dolomite\", \"dolomite\", \"dolomite\", \"dolomite\", \"dolomite\", \"domino\", \"domino\", \"domino\", \"drainage\", \"drainage\", \"drainage\", \"drainage\", \"drilling\", \"drilling\", \"drilling\", \"drilling\", \"drillstring\", \"drillstring\", \"drillstring\", \"edfm\", \"edfm\", \"edfm\", \"edfm\", \"edge\", \"edge\", \"edge\", \"egs\", \"egs\", \"egs\", \"egs\", \"eikonal\", \"eikonal\", \"eikonal\", \"embedment\", \"embedment\", \"embedment\", \"emissions\", \"emissions\", \"emissions\", \"emissions\", \"enabler\", \"enabler\", \"enabler\", \"eocene\", \"eocene\", \"eocene\", \"eor\", \"eor\", \"eor\", \"eor\", \"es-sagd\", \"es-sagd\", \"es-sagd\", \"es-sagd\", \"estaillades\", \"estaillades\", \"estaillades\", \"etching\", \"etching\", \"etching\", \"expert\", \"expert\", \"expert\", \"experts\", \"experts\", \"experts\", \"fct\", \"fct\", \"fct\", \"fibers\", \"fibers\", \"fibers\", \"fibrous\", \"fibrous\", \"fibrous\", \"fire\", \"fire\", \"fire\", \"fiscal\", \"fiscal\", \"fiscal\", \"fischer-tropsch\", \"fischer-tropsch\", \"fischer-tropsch\", \"fischer-tropsch\", \"fixed-stress\", \"fixed-stress\", \"fixed-stress\", \"fixed-stress\", \"flame\", \"flame\", \"flame\", \"flaws\", \"flaws\", \"flaws\", \"flaws\", \"flood\", \"flood\", \"flood\", \"flood\", \"flooding\", \"flooding\", \"flooding\", \"flooding\", \"floods\", \"floods\", \"floods\", \"fluid-loss\", \"fluid-loss\", \"fluid-loss\", \"fmm\", \"fmm\", \"fmm\", \"foam\", \"foam\", \"foam\", \"foam\", \"foam\", \"foam\", \"foam-bubble\", \"foam-bubble\", \"foam-bubble\", \"foaming\", \"foaming\", \"foaming\", \"foams\", \"foams\", \"foams\", \"foams\", \"foams\", \"forecasts\", \"forecasts\", \"forecasts\", \"fracture\", \"fracture\", \"fracture\", \"fracture\", \"fracture\", \"fracture\", \"fracture-vug\", \"fracture-vug\", \"fracture-vug\", \"fracture-vug\", \"fractures\", \"fractures\", \"fractures\", \"fractures\", \"fractures\", \"frontier\", \"frontier\", \"frontier\", \"fts\", \"fts\", \"fts\", \"fts\", \"fuels\", \"fuels\", \"fuels\", \"full-order\", \"full-order\", \"full-order\", \"full-order\", \"galerkin\", \"galerkin\", \"galerkin\", \"galerkin\", \"gas\", \"gas\", \"gas\", \"gas\", \"gas\", \"gas-condensate\", \"gas-condensate\", \"gas-condensate\", \"gas-condensate\", \"gas-liquid-solid\", \"gas-liquid-solid\", \"gas-liquid-solid\", \"gas-to-liquid\", \"gas-to-liquid\", \"gas-to-liquid\", \"gas-to-liquid\", \"gel\", \"gel\", \"gel\", \"gel\", \"gel\", \"geomechanics\", \"geomechanics\", \"geomechanics\", \"geomechanics\", \"geosteering\", \"geosteering\", \"geosteering\", \"gpme\", \"gpme\", \"gpme\", \"gpr\", \"gpr\", \"gpr\", \"gpr\", \"graphene\", \"graphene\", \"graphene\", \"graphenes\", \"graphenes\", \"graphenes\", \"gtl\", \"gtl\", \"gtl\", \"gtl\", \"gypsum\", \"gypsum\", \"gypsum\", \"hcl\", \"hcl\", \"hcl\", \"hcl\", \"height\", \"height\", \"height\", \"height\", \"height\", \"herrick\", \"herrick\", \"herrick\", \"herrick\", \"high-angle\", \"high-angle\", \"high-angle\", \"hoop\", \"hoop\", \"hoop\", \"hpht\", \"hpht\", \"hpht\", \"hpht\", \"huff-n-puff\", \"huff-n-puff\", \"huff-n-puff\", \"huff-n-puff\", \"hydrate\", \"hydrate\", \"hydrate\", \"hydrate\", \"hydraulic\", \"hydraulic\", \"hydraulic\", \"hydraulic\", \"hydrogels\", \"hydrogels\", \"hydrogels\", \"hydrogels\", \"hyperspectral\", \"hyperspectral\", \"hyperspectral\", \"hyperspectral\", \"image\", \"image\", \"image\", \"image\", \"imbibition\", \"imbibition\", \"imbibition\", \"imbibition\", \"in-situ-combustion\", \"in-situ-combustion\", \"in-situ-combustion\", \"injection\", \"injection\", \"injection\", \"injection\", \"injector\", \"injector\", \"injector\", \"intelligence\", \"intelligence\", \"intelligence\", \"intervention\", \"intervention\", \"intervention\", \"inversion\", \"inversion\", \"inversion\", \"inversion\", \"irr\", \"irr\", \"irr\", \"isc\", \"isc\", \"isc\", \"isc\", \"isenthalpic\", \"isenthalpic\", \"isenthalpic\", \"isoconversional\", \"isoconversional\", \"isoconversional\", \"jetting\", \"jetting\", \"jetting\", \"karst\", \"karst\", \"karst\", \"karst\", \"kennedy\", \"kennedy\", \"kennedy\", \"kennedy\", \"kernel\", \"kernel\", \"kernel\", \"kernel\", \"kerogen\", \"kerogen\", \"kerogen\", \"kerogen\", \"ketton\", \"ketton\", \"ketton\", \"khuff\", \"khuff\", \"khuff\", \"khuff\", \"kinetics\", \"kinetics\", \"kinetics\", \"kinetics\", \"koval\", \"koval\", \"koval\", \"koval\", \"lct\", \"lct\", \"lct\", \"limiters\", \"limiters\", \"limiters\", \"lineament\", \"lineament\", \"lineament\", \"lineaments\", \"lineaments\", \"lineaments\", \"lithium-ion\", \"lithium-ion\", \"lithium-ion\", \"lithium-ion\", \"loaded\", \"loaded\", \"loaded\", \"loaded\", \"lrs\", \"lrs\", \"lrs\", \"lsw\", \"lsw\", \"lsw\", \"lsw\", \"lswag\", \"lswag\", \"lswag\", \"ltg\", \"ltg\", \"ltg\", \"lwd\", \"lwd\", \"lwd\", \"magnetic\", \"magnetic\", \"magnetic\", \"magnetic\", \"manufacturing\", \"manufacturing\", \"manufacturing\", \"manufacturing\", \"marching\", \"marching\", \"marching\", \"matrix-fracture\", \"matrix-fracture\", \"matrix-fracture\", \"matrix-fracture\", \"matrix-vug\", \"matrix-vug\", \"matrix-vug\", \"matrix-vug\", \"mesh\", \"mesh\", \"mesh\", \"mesh\", \"mesh\", \"micro-models\", \"micro-models\", \"micro-models\", \"micrometer\", \"micrometer\", \"micrometer\", \"micrometer\", \"moments\", \"moments\", \"moments\", \"moments\", \"mpd\", \"mpd\", \"mpd\", \"mpg\", \"mpg\", \"mpg\", \"mpg\", \"mud-rich\", \"mud-rich\", \"mud-rich\", \"mudcake\", \"mudcake\", \"mudcake\", \"multiscale\", \"multiscale\", \"multiscale\", \"multiscale\", \"n-alkanes\", \"n-alkanes\", \"n-alkanes\", \"nano-chemomechanical\", \"nano-chemomechanical\", \"nano-chemomechanical\", \"nano-chemomechanical\", \"nano/micro\", \"nano/micro\", \"nano/micro\", \"nano/micro\", \"nanofluids\", \"nanofluids\", \"nanofluids\", \"nanofluids\", \"nanoindentation\", \"nanoindentation\", \"nanoindentation\", \"nanoindentation\", \"nanoparticles\", \"nanoparticles\", \"nanoparticles\", \"nanoparticles\", \"nanopores\", \"nanopores\", \"nanopores\", \"nanopores\", \"narrow-boiling\", \"narrow-boiling\", \"narrow-boiling\", \"narrow-boiling\", \"nmr\", \"nmr\", \"nmr\", \"nmr\", \"nonlocal\", \"nonlocal\", \"nonlocal\", \"nozzle\", \"nozzle\", \"nozzle\", \"object\", \"object\", \"object\", \"object-based\", \"object-based\", \"object-based\", \"objects\", \"objects\", \"objects\", \"ogip\", \"ogip\", \"ogip\", \"oil\", \"oil\", \"oil\", \"oil\", \"ooip\", \"ooip\", \"ooip\", \"opinions\", \"opinions\", \"opinions\", \"optimism\", \"optimism\", \"optimism\", \"optimization\", \"optimization\", \"optimization\", \"optimization\", \"organic-rich\", \"organic-rich\", \"organic-rich\", \"organic-rich\", \"orthoslices\", \"orthoslices\", \"orthoslices\", \"outcrop\", \"outcrop\", \"outcrop\", \"overburden\", \"overburden\", \"overburden\", \"overconfidence\", \"overconfidence\", \"overconfidence\", \"parametrization\", \"parametrization\", \"parametrization\", \"pdg\", \"pdg\", \"pdg\", \"pdg\", \"pec\", \"pec\", \"pec\", \"pec\", \"peridynamic\", \"peridynamic\", \"peridynamic\", \"peridynamics\", \"peridynamics\", \"peridynamics\", \"permeability\", \"permeability\", \"permeability\", \"permeability\", \"permeability\", \"pga\", \"pga\", \"pga\", \"phase-field\", \"phase-field\", \"phase-field\", \"phase-field\", \"pipeline\", \"pipeline\", \"pipeline\", \"pla\", \"pla\", \"pla\", \"plug-in\", \"plug-in\", \"plug-in\", \"plunger\", \"plunger\", \"plunger\", \"pna\", \"pna\", \"pna\", \"pod\", \"pod\", \"pod\", \"pod\", \"pod\", \"pod-deim\", \"pod-deim\", \"pod-deim\", \"pod-deim\", \"pod-tpwl\", \"pod-tpwl\", \"pod-tpwl\", \"pod-tpwl\", \"polyelectrolyte\", \"polyelectrolyte\", \"polyelectrolyte\", \"polyelectrolyte\", \"polyglycolic\", \"polyglycolic\", \"polyglycolic\", \"polymer\", \"polymer\", \"polymer\", \"polymer\", \"polymer\", \"pool\", \"pool\", \"pool\", \"powder\", \"powder\", \"powder\", \"ppg\", \"ppg\", \"ppg\", \"practices\", \"practices\", \"practices\", \"printing\", \"printing\", \"printing\", \"prise\", \"prise\", \"prise\", \"proppant\", \"proppant\", \"proppant\", \"proppant\", \"pvs\", \"pvs\", \"pvs\", \"pvs\", \"qatar\", \"qatar\", \"qatar\", \"qatar\", \"quasi-2d\", \"quasi-2d\", \"quasi-2d\", \"rate-time\", \"rate-time\", \"rate-time\", \"rate-time\", \"reaction\", \"reaction\", \"reaction\", \"reaction\", \"reactor\", \"reactor\", \"reactor\", \"reactor\", \"recoverable\", \"recoverable\", \"recoverable\", \"recovery\", \"recovery\", \"recovery\", \"recovery\", \"reduced-order\", \"reduced-order\", \"reduced-order\", \"reduced-order\", \"reforming\", \"reforming\", \"reforming\", \"reforming\", \"regression\", \"regression\", \"regression\", \"regression\", \"relaxation\", \"relaxation\", \"relaxation\", \"reserves\", \"reserves\", \"reserves\", \"reserves\", \"reserves\", \"reservoirs\", \"reservoirs\", \"reservoirs\", \"reservoirs\", \"reservoirs\", \"resilience\", \"resilience\", \"resilience\", \"resistivity\", \"resistivity\", \"resistivity\", \"resistivity\", \"resistivity\", \"resources\", \"resources\", \"resources\", \"resources\", \"resqml\", \"resqml\", \"resqml\", \"restimulation\", \"restimulation\", \"restimulation\", \"restimulation\", \"rheological\", \"rheological\", \"rheological\", \"rheological\", \"rnn\", \"rnn\", \"rnn\", \"rnn\", \"rop\", \"rop\", \"rop\", \"safety\", \"safety\", \"safety\", \"sagd\", \"sagd\", \"sagd\", \"sagd\", \"sagd\", \"salinity\", \"salinity\", \"salinity\", \"salinity\", \"sam\", \"sam\", \"sam\", \"samples\", \"samples\", \"samples\", \"samples\", \"sand\", \"sand\", \"sand\", \"sand\", \"sealers\", \"sealers\", \"sealers\", \"sec\", \"sec\", \"sec\", \"seismic\", \"seismic\", \"seismic\", \"seismic\", \"sfi\", \"sfi\", \"sfi\", \"shale\", \"shale\", \"shale\", \"shale\", \"shale\", \"shales\", \"shales\", \"shales\", \"shales\", \"shear\", \"shear\", \"shear\", \"shear\", \"sheets\", \"sheets\", \"sheets\", \"slowness\", \"slowness\", \"slowness\", \"smits\", \"smits\", \"smits\", \"solar\", \"solar\", \"solar\", \"solar\", \"solvent\", \"solvent\", \"solvent\", \"solvent\", \"solvent\", \"sonic\", \"sonic\", \"sonic\", \"split\", \"split\", \"split\", \"split\", \"spontaneous\", \"spontaneous\", \"spontaneous\", \"stacking\", \"stacking\", \"stacking\", \"steam\", \"steam\", \"steam\", \"steam\", \"steam\", \"steerability\", \"steerability\", \"steerability\", \"sticking\", \"sticking\", \"sticking\", \"stimulation\", \"stimulation\", \"stimulation\", \"stimulation\", \"stimulation\", \"streamline\", \"streamline\", \"streamline\", \"streamlines\", \"streamlines\", \"streamlines\", \"stress\", \"stress\", \"stress\", \"stress\", \"subgrid\", \"subgrid\", \"subgrid\", \"surfactant\", \"surfactant\", \"surfactant\", \"surfactant\", \"surfactants\", \"surfactants\", \"surfactants\", \"surfactants\", \"symmetrically\", \"symmetrically\", \"symmetrically\", \"symmetrically\", \"syngas\", \"syngas\", \"syngas\", \"syngas\", \"synthesis\", \"synthesis\", \"synthesis\", \"synthesis\", \"temperature\", \"temperature\", \"temperature\", \"temperature\", \"template\", \"template\", \"template\", \"template\", \"terrestrial\", \"terrestrial\", \"terrestrial\", \"tester\", \"tester\", \"tester\", \"tgs\", \"tgs\", \"tgs\", \"thick\", \"thick\", \"thick\", \"time-rate\", \"time-rate\", \"time-rate\", \"time-rate\", \"toolkit\", \"toolkit\", \"toolkit\", \"tpwl\", \"tpwl\", \"tpwl\", \"tpwl\", \"training\", \"training\", \"training\", \"training\", \"training\", \"trr\", \"trr\", \"trr\", \"tube\", \"tube\", \"tube\", \"tube\", \"twc\", \"twc\", \"twc\", \"ucs\", \"ucs\", \"ucs\", \"ugrs\", \"ugrs\", \"ugrs\", \"uhmwpe\", \"uhmwpe\", \"uhmwpe\", \"ulr\", \"ulr\", \"ulr\", \"unconventional-gas\", \"unconventional-gas\", \"unconventional-gas\", \"underbalanced\", \"underbalanced\", \"underbalanced\", \"upgrading\", \"upgrading\", \"upgrading\", \"upgrading\", \"uruguay\", \"uruguay\", \"uruguay\", \"uruguayan\", \"uruguayan\", \"uruguayan\", \"vehicle\", \"vehicle\", \"vehicle\", \"vehicles\", \"vehicles\", \"vehicles\", \"vein\", \"vein\", \"vein\", \"vertex\", \"vertex\", \"vertex\", \"ves\", \"ves\", \"ves\", \"ves\", \"visco-elastic\", \"visco-elastic\", \"visco-elastic\", \"viscous\", \"viscous\", \"viscous\", \"viscous\", \"vortex\", \"vortex\", \"vortex\", \"vortex\", \"vrr\", \"vrr\", \"vrr\", \"vrr\", \"vuggy\", \"vuggy\", \"vuggy\", \"vuggy\", \"vugs\", \"vugs\", \"vugs\", \"vugs\", \"vugs\", \"vugular\", \"vugular\", \"vugular\", \"waxman\", \"waxman\", \"waxman\", \"wellbore\", \"wellbore\", \"wellbore\", \"wellbore\", \"wells\", \"wells\", \"wells\", \"wells\", \"wettability\", \"wettability\", \"wettability\", \"wettability\", \"wettability-altering\", \"wettability-altering\", \"wettability-altering\", \"wob\", \"wob\", \"wob\", \"wormhole\", \"wormhole\", \"wormhole\", \"wormhole\", \"wormholes\", \"wormholes\", \"wormholes\", \"wormholes\", \"xwl\", \"xwl\", \"xwl\"]}, \"R\": 30, \"lambda.step\": 0.01, \"plot.opts\": {\"xlab\": \"PC1\", \"ylab\": \"PC2\"}, \"topic.order\": [8, 7, 6, 3, 4, 9, 5, 1, 2]};\n",
       "\n",
       "function LDAvis_load_lib(url, callback){\n",
       "  var s = document.createElement('script');\n",
       "  s.src = url;\n",
       "  s.async = true;\n",
       "  s.onreadystatechange = s.onload = callback;\n",
       "  s.onerror = function(){console.warn(\"failed to load library \" + url);};\n",
       "  document.getElementsByTagName(\"head\")[0].appendChild(s);\n",
       "}\n",
       "\n",
       "if(typeof(LDAvis) !== \"undefined\"){\n",
       "   // already loaded: just create the visualization\n",
       "   !function(LDAvis){\n",
       "       new LDAvis(\"#\" + \"ldavis_el827531128308149929666247292\", ldavis_el827531128308149929666247292_data);\n",
       "   }(LDAvis);\n",
       "}else if(typeof define === \"function\" && define.amd){\n",
       "   // require.js is available: use it to load d3/LDAvis\n",
       "   require.config({paths: {d3: \"https://cdnjs.cloudflare.com/ajax/libs/d3/3.5.5/d3.min\"}});\n",
       "   require([\"d3\"], function(d3){\n",
       "      window.d3 = d3;\n",
       "      LDAvis_load_lib(\"https://cdn.rawgit.com/bmabey/pyLDAvis/files/ldavis.v1.0.0.js\", function(){\n",
       "        new LDAvis(\"#\" + \"ldavis_el827531128308149929666247292\", ldavis_el827531128308149929666247292_data);\n",
       "      });\n",
       "    });\n",
       "}else{\n",
       "    // require.js not available: dynamically load d3 & LDAvis\n",
       "    LDAvis_load_lib(\"https://cdnjs.cloudflare.com/ajax/libs/d3/3.5.5/d3.min.js\", function(){\n",
       "         LDAvis_load_lib(\"https://cdn.rawgit.com/bmabey/pyLDAvis/files/ldavis.v1.0.0.js\", function(){\n",
       "                 new LDAvis(\"#\" + \"ldavis_el827531128308149929666247292\", ldavis_el827531128308149929666247292_data);\n",
       "            })\n",
       "         });\n",
       "}\n",
       "</script>"
      ],
      "text/plain": [
       "PreparedData(topic_coordinates=            Freq  cluster  topics         x         y\n",
       "topic                                                \n",
       "7      46.844734        1       1 -0.000351  0.001441\n",
       "6      28.237810        1       2  0.002916 -0.000459\n",
       "5      20.943893        1       3 -0.000770  0.000551\n",
       "2       1.896839        1       4 -0.000153  0.000346\n",
       "3       0.915257        1       5 -0.001126 -0.002080\n",
       "8       0.851137        1       6 -0.000145  0.000277\n",
       "4       0.306882        1       7 -0.000480 -0.000035\n",
       "0       0.001719        1       8 -0.000127 -0.000032\n",
       "1       0.001719        1       9  0.000237 -0.000009, topic_info=      Category        Freq                  Term       Total  loglift  logprob\n",
       "term                                                                          \n",
       "24     Default   57.000000                  acid   57.000000  30.0000  30.0000\n",
       "989    Default  106.000000              fracture  106.000000  29.0000  29.0000\n",
       "5457   Default   55.000000                  foam   55.000000  28.0000  28.0000\n",
       "434    Default   54.000000          conductivity   54.000000  27.0000  27.0000\n",
       "3800   Default   60.000000            combustion   60.000000  26.0000  26.0000\n",
       "293    Default   62.000000                casing   62.000000  25.0000  25.0000\n",
       "5150   Default   61.000000            surfactant   61.000000  24.0000  24.0000\n",
       "1759   Default   60.000000               polymer   60.000000  23.0000  23.0000\n",
       "1864   Default   51.000000              proppant   51.000000  22.0000  22.0000\n",
       "304    Default   93.000000                cement   93.000000  21.0000  21.0000\n",
       "1300   Default   38.000000               jetting   38.000000  20.0000  20.0000\n",
       "2287   Default   64.000000                stress   64.000000  19.0000  19.0000\n",
       "999    Default   70.000000             fractures   70.000000  18.0000  18.0000\n",
       "3584   Default   52.000000                 steam   52.000000  17.0000  17.0000\n",
       "1615   Default   66.000000                   oil   66.000000  16.0000  16.0000\n",
       "2616   Default   39.000000              wormhole   39.000000  15.0000  15.0000\n",
       "5695   Default   56.000000         nanoparticles   56.000000  14.0000  14.0000\n",
       "8107   Default   38.000000                   asp   38.000000  13.0000  13.0000\n",
       "2590   Default   54.000000              wellbore   54.000000  12.0000  12.0000\n",
       "1029   Default   68.000000                   gas   68.000000  11.0000  11.0000\n",
       "2596   Default   56.000000                 wells   56.000000  10.0000  10.0000\n",
       "2326   Default   45.000000           surfactants   45.000000   9.0000   9.0000\n",
       "2136   Default   62.000000                 shale   62.000000   8.0000   8.0000\n",
       "1719   Default   56.000000          permeability   56.000000   7.0000   7.0000\n",
       "5452   Default   56.000000              flooding   56.000000   6.0000   6.0000\n",
       "5453   Default   41.000000                floods   41.000000   5.0000   5.0000\n",
       "1156   Default   53.000000            imbibition   53.000000   4.0000   4.0000\n",
       "2353   Default   41.000000           temperature   41.000000   3.0000   3.0000\n",
       "1227   Default   52.000000             injection   52.000000   2.0000   2.0000\n",
       "221    Default   46.000000              borehole   46.000000   1.0000   1.0000\n",
       "...        ...         ...                   ...         ...      ...      ...\n",
       "14695   Topic9    0.000656                   ucs   20.930006   0.6008  -9.4224\n",
       "15449   Topic9    0.000651  wettability-altering   21.012218   0.5882  -9.4310\n",
       "6973    Topic9    0.000778            high-angle   25.200832   0.5857  -9.2518\n",
       "7019    Topic9    0.000765                kernel   24.803162   0.5843  -9.2691\n",
       "6252    Topic9    0.000719                 blend   23.460533   0.5780  -9.3310\n",
       "6745    Topic9    0.000695             anhydrite   23.155996   0.5571  -9.3650\n",
       "5730    Topic9    0.000789                  ooip   26.438707   0.5516  -9.2379\n",
       "19061   Topic9    0.000623                   egs   20.886694   0.5514  -9.4738\n",
       "6380    Topic9    0.000782                gypsum   26.443991   0.5426  -9.2467\n",
       "5460    Topic9    0.000649               foaming   22.014442   0.5389  -9.4338\n",
       "3368    Topic9    0.000821               plunger   28.017717   0.5328  -9.1987\n",
       "1279    Topic9    0.000980             inversion   35.052437   0.4865  -9.0210\n",
       "7051    Topic9    0.000787                   lwd   27.702129   0.5021  -9.2407\n",
       "5695    Topic9    0.001299         nanoparticles   56.616032   0.2886  -8.7395\n",
       "5150    Topic9    0.001348            surfactant   61.752117   0.2386  -8.7026\n",
       "1864    Topic9    0.001178              proppant   51.506386   0.2850  -8.8377\n",
       "945     Topic9    0.000921                 flood   36.067722   0.3958  -9.0831\n",
       "293     Topic9    0.001270                casing   62.772854   0.1627  -8.7621\n",
       "5453    Topic9    0.000993                floods   41.409782   0.3323  -9.0085\n",
       "2326    Topic9    0.001005           surfactants   45.630459   0.2481  -8.9957\n",
       "2554    Topic9    0.000878               viscous   35.552212   0.3623  -9.1311\n",
       "2063    Topic9    0.000861                  sand   34.895767   0.3613  -9.1507\n",
       "9443    Topic9    0.000835              breakout   32.971668   0.3876  -9.1811\n",
       "1759    Topic9    0.000988               polymer   60.951099  -0.0585  -9.0128\n",
       "503     Topic9    0.000858                 cores   41.771774   0.1780  -9.1542\n",
       "24      Topic9    0.000891                  acid   57.081738  -0.0962  -9.1160\n",
       "715     Topic9    0.000831              drainage   37.739792   0.2472  -9.1864\n",
       "221     Topic9    0.000855              borehole   46.647926   0.0639  -9.1579\n",
       "7219    Topic9    0.000842           resistivity   47.240261   0.0364  -9.1727\n",
       "989     Topic9    0.000858              fracture  106.554649  -0.7586  -9.1543\n",
       "\n",
       "[441 rows x 6 columns], token_table=       Topic      Freq                  Term\n",
       "term                                        \n",
       "24         1  0.613156                  acid\n",
       "24         2  0.157669                  acid\n",
       "24         3  0.175187                  acid\n",
       "24         4  0.035037                  acid\n",
       "40         1  0.620897             acidizing\n",
       "40         2  0.161973             acidizing\n",
       "40         3  0.161973             acidizing\n",
       "40         4  0.026996             acidizing\n",
       "15962      1  0.478230                   adp\n",
       "15962      2  0.286938                   adp\n",
       "15962      3  0.191292                   adp\n",
       "15962      4  0.047823                   adp\n",
       "5050       1  0.472830         after-closure\n",
       "5050       2  0.283698         after-closure\n",
       "5050       3  0.189132         after-closure\n",
       "17656      1  0.485209           aggradation\n",
       "17656      2  0.291125           aggradation\n",
       "17656      3  0.194083           aggradation\n",
       "8092       1  0.441891                 aging\n",
       "8092       2  0.309324                 aging\n",
       "8092       3  0.176756                 aging\n",
       "8092       4  0.044189                 aging\n",
       "3744       1  0.683758              american\n",
       "3744       2  0.184089              american\n",
       "3744       3  0.131492              american\n",
       "6745       1  0.431854             anhydrite\n",
       "6745       2  0.302298             anhydrite\n",
       "6745       3  0.259112             anhydrite\n",
       "6094       1  0.355137                 ansys\n",
       "6094       2  0.213082                 ansys\n",
       "...      ...       ...                   ...\n",
       "20894      3  0.192842                waxman\n",
       "2590       1  0.639331              wellbore\n",
       "2590       2  0.164399              wellbore\n",
       "2590       3  0.164399              wellbore\n",
       "2590       4  0.018267              wellbore\n",
       "2596       1  0.604512                 wells\n",
       "2596       2  0.231137                 wells\n",
       "2596       3  0.142238                 wells\n",
       "2596       4  0.017780                 wells\n",
       "2599       1  0.333560           wettability\n",
       "2599       2  0.537403           wettability\n",
       "2599       3  0.111187           wettability\n",
       "2599       4  0.018531           wettability\n",
       "15449      1  0.475914  wettability-altering\n",
       "15449      2  0.285548  wettability-altering\n",
       "15449      3  0.190365  wettability-altering\n",
       "9359       1  0.358200                   wob\n",
       "9359       2  0.214920                   wob\n",
       "9359       3  0.358200                   wob\n",
       "2616       1  0.654785              wormhole\n",
       "2616       2  0.151104              wormhole\n",
       "2616       3  0.176288              wormhole\n",
       "2616       4  0.025184              wormhole\n",
       "2619       1  0.534790             wormholes\n",
       "2619       2  0.229196             wormholes\n",
       "2619       3  0.190997             wormholes\n",
       "2619       4  0.038199             wormholes\n",
       "19694      1  0.482190                   xwl\n",
       "19694      2  0.289314                   xwl\n",
       "19694      3  0.192876                   xwl\n",
       "\n",
       "[1224 rows x 3 columns], R=30, lambda_step=0.01, plot_opts={'xlab': 'PC1', 'ylab': 'PC2'}, topic_order=[8, 7, 6, 3, 4, 9, 5, 1, 2])"
      ]
     },
     "execution_count": 136,
     "metadata": {},
     "output_type": "execute_result"
    }
   ],
   "source": [
    "# Visualize the topics with simple lda model\n",
    "pyLDAvis.enable_notebook()\n",
    "vis = pyLDAvis.gensim.prepare(lda_model, numerical_corpus, dictionary)\n",
    "vis"
   ]
  },
  {
   "cell_type": "markdown",
   "metadata": {},
   "source": [
    "# Visualizing best lda_mallet model\n",
    "* Code taken from: https://github.com/jerielizabeth/Gospel-of-Health-Notebooks/blob/master/blogPosts/pyLDAvis_and_Mallet.ipynb"
   ]
  },
  {
   "cell_type": "code",
   "execution_count": 145,
   "metadata": {
    "ExecuteTime": {
     "end_time": "2018-08-27T00:02:24.506532Z",
     "start_time": "2018-08-27T00:02:24.454869Z"
    }
   },
   "outputs": [],
   "source": [
    "import gzip\n",
    "import os\n",
    "import pandas as pd\n",
    "\n",
    "dataDir = \"/Users/Neha/Documents/GitHub/capstone\"\n",
    "\n",
    "def extract_params(statefile):\n",
    "    \"\"\"Extract the alpha and beta values from the statefile.\n",
    "\n",
    "    Args:\n",
    "        statefile (str): Path to statefile produced by MALLET.\n",
    "    Returns:\n",
    "        tuple: alpha (list), beta    \n",
    "    \"\"\"\n",
    "    with gzip.open(statefile, 'r') as state:\n",
    "        params = [x.decode('utf8').strip() for x in state.readlines()[1:3]]\n",
    "    return (list(params[0].split(\":\")[1].split(\" \")), float(params[1].split(\":\")[1]))\n",
    "\n",
    "\n",
    "def state_to_df(statefile):\n",
    "    \"\"\"Transform state file into pandas dataframe.\n",
    "    The MALLET statefile is tab-separated, and the first two rows contain the alpha and beta hypterparamters.\n",
    "    \n",
    "    Args:\n",
    "        statefile (str): Path to statefile produced by MALLET.\n",
    "    Returns:\n",
    "        datframe: topic assignment for each token in each document of the model\n",
    "    \"\"\"\n",
    "    return pd.read_csv(statefile,\n",
    "                       compression='gzip',\n",
    "                       sep=' ',\n",
    "                       skiprows=[1,2]\n",
    "                       )\n"
   ]
  },
  {
   "cell_type": "code",
   "execution_count": 146,
   "metadata": {
    "ExecuteTime": {
     "end_time": "2018-08-27T00:02:25.871034Z",
     "start_time": "2018-08-27T00:02:25.287601Z"
    }
   },
   "outputs": [],
   "source": [
    "params = extract_params(os.path.join(dataDir, 'state.mallet.gz'))"
   ]
  },
  {
   "cell_type": "code",
   "execution_count": 147,
   "metadata": {
    "ExecuteTime": {
     "end_time": "2018-08-27T00:03:25.896090Z",
     "start_time": "2018-08-27T00:03:25.847355Z"
    }
   },
   "outputs": [
    {
     "name": "stdout",
     "output_type": "stream",
     "text": [
      "[5.555555555555555, 5.555555555555555, 5.555555555555555, 5.555555555555555, 5.555555555555555, 5.555555555555555, 5.555555555555555, 5.555555555555555, 5.555555555555555], 0.01\n"
     ]
    }
   ],
   "source": [
    "alpha = [float(x) for x in params[0][1:]]\n",
    "beta = params[1]\n",
    "print(\"{}, {}\".format(alpha, beta))"
   ]
  },
  {
   "cell_type": "code",
   "execution_count": 148,
   "metadata": {
    "ExecuteTime": {
     "end_time": "2018-08-27T00:04:14.359000Z",
     "start_time": "2018-08-27T00:04:13.960673Z"
    }
   },
   "outputs": [],
   "source": [
    "df = state_to_df(os.path.join(dataDir, 'state.mallet.gz'))"
   ]
  },
  {
   "cell_type": "code",
   "execution_count": 149,
   "metadata": {
    "ExecuteTime": {
     "end_time": "2018-08-27T00:04:35.792078Z",
     "start_time": "2018-08-27T00:04:35.666852Z"
    }
   },
   "outputs": [
    {
     "data": {
      "text/html": [
       "<div>\n",
       "<style scoped>\n",
       "    .dataframe tbody tr th:only-of-type {\n",
       "        vertical-align: middle;\n",
       "    }\n",
       "\n",
       "    .dataframe tbody tr th {\n",
       "        vertical-align: top;\n",
       "    }\n",
       "\n",
       "    .dataframe thead th {\n",
       "        text-align: right;\n",
       "    }\n",
       "</style>\n",
       "<table border=\"1\" class=\"dataframe\">\n",
       "  <thead>\n",
       "    <tr style=\"text-align: right;\">\n",
       "      <th></th>\n",
       "      <th>#doc</th>\n",
       "      <th>source</th>\n",
       "      <th>pos</th>\n",
       "      <th>typeindex</th>\n",
       "      <th>type</th>\n",
       "      <th>topic</th>\n",
       "    </tr>\n",
       "  </thead>\n",
       "  <tbody>\n",
       "    <tr>\n",
       "      <th>0</th>\n",
       "      <td>0</td>\n",
       "      <td>NaN</td>\n",
       "      <td>0</td>\n",
       "      <td>0</td>\n",
       "      <td>-based</td>\n",
       "      <td>1</td>\n",
       "    </tr>\n",
       "    <tr>\n",
       "      <th>1</th>\n",
       "      <td>0</td>\n",
       "      <td>NaN</td>\n",
       "      <td>1</td>\n",
       "      <td>1</td>\n",
       "      <td>-scan</td>\n",
       "      <td>1</td>\n",
       "    </tr>\n",
       "    <tr>\n",
       "      <th>2</th>\n",
       "      <td>0</td>\n",
       "      <td>NaN</td>\n",
       "      <td>2</td>\n",
       "      <td>2</td>\n",
       "      <td>ability</td>\n",
       "      <td>0</td>\n",
       "    </tr>\n",
       "    <tr>\n",
       "      <th>3</th>\n",
       "      <td>0</td>\n",
       "      <td>NaN</td>\n",
       "      <td>3</td>\n",
       "      <td>2</td>\n",
       "      <td>ability</td>\n",
       "      <td>0</td>\n",
       "    </tr>\n",
       "    <tr>\n",
       "      <th>4</th>\n",
       "      <td>0</td>\n",
       "      <td>NaN</td>\n",
       "      <td>4</td>\n",
       "      <td>2</td>\n",
       "      <td>ability</td>\n",
       "      <td>0</td>\n",
       "    </tr>\n",
       "    <tr>\n",
       "      <th>5</th>\n",
       "      <td>0</td>\n",
       "      <td>NaN</td>\n",
       "      <td>5</td>\n",
       "      <td>3</td>\n",
       "      <td>absence</td>\n",
       "      <td>0</td>\n",
       "    </tr>\n",
       "    <tr>\n",
       "      <th>6</th>\n",
       "      <td>0</td>\n",
       "      <td>NaN</td>\n",
       "      <td>6</td>\n",
       "      <td>4</td>\n",
       "      <td>abstract</td>\n",
       "      <td>1</td>\n",
       "    </tr>\n",
       "    <tr>\n",
       "      <th>7</th>\n",
       "      <td>0</td>\n",
       "      <td>NaN</td>\n",
       "      <td>7</td>\n",
       "      <td>4</td>\n",
       "      <td>abstract</td>\n",
       "      <td>5</td>\n",
       "    </tr>\n",
       "    <tr>\n",
       "      <th>8</th>\n",
       "      <td>0</td>\n",
       "      <td>NaN</td>\n",
       "      <td>8</td>\n",
       "      <td>4</td>\n",
       "      <td>abstract</td>\n",
       "      <td>1</td>\n",
       "    </tr>\n",
       "    <tr>\n",
       "      <th>9</th>\n",
       "      <td>0</td>\n",
       "      <td>NaN</td>\n",
       "      <td>9</td>\n",
       "      <td>4</td>\n",
       "      <td>abstract</td>\n",
       "      <td>1</td>\n",
       "    </tr>\n",
       "  </tbody>\n",
       "</table>\n",
       "</div>"
      ],
      "text/plain": [
       "   #doc  source  pos  typeindex      type  topic\n",
       "0     0     NaN    0          0    -based      1\n",
       "1     0     NaN    1          1     -scan      1\n",
       "2     0     NaN    2          2   ability      0\n",
       "3     0     NaN    3          2   ability      0\n",
       "4     0     NaN    4          2   ability      0\n",
       "5     0     NaN    5          3   absence      0\n",
       "6     0     NaN    6          4  abstract      1\n",
       "7     0     NaN    7          4  abstract      5\n",
       "8     0     NaN    8          4  abstract      1\n",
       "9     0     NaN    9          4  abstract      1"
      ]
     },
     "execution_count": 149,
     "metadata": {},
     "output_type": "execute_result"
    }
   ],
   "source": [
    "df['type'] = df.type.astype(str)\n",
    "df[:10]"
   ]
  },
  {
   "cell_type": "code",
   "execution_count": 150,
   "metadata": {
    "ExecuteTime": {
     "end_time": "2018-08-27T00:05:12.251598Z",
     "start_time": "2018-08-27T00:05:12.169664Z"
    }
   },
   "outputs": [
    {
     "data": {
      "text/html": [
       "<div>\n",
       "<style scoped>\n",
       "    .dataframe tbody tr th:only-of-type {\n",
       "        vertical-align: middle;\n",
       "    }\n",
       "\n",
       "    .dataframe tbody tr th {\n",
       "        vertical-align: top;\n",
       "    }\n",
       "\n",
       "    .dataframe thead th {\n",
       "        text-align: right;\n",
       "    }\n",
       "</style>\n",
       "<table border=\"1\" class=\"dataframe\">\n",
       "  <thead>\n",
       "    <tr style=\"text-align: right;\">\n",
       "      <th></th>\n",
       "      <th>#doc</th>\n",
       "      <th>doc_length</th>\n",
       "    </tr>\n",
       "  </thead>\n",
       "  <tbody>\n",
       "    <tr>\n",
       "      <th>0</th>\n",
       "      <td>0</td>\n",
       "      <td>14767</td>\n",
       "    </tr>\n",
       "    <tr>\n",
       "      <th>1</th>\n",
       "      <td>1</td>\n",
       "      <td>6476</td>\n",
       "    </tr>\n",
       "    <tr>\n",
       "      <th>2</th>\n",
       "      <td>2</td>\n",
       "      <td>2975</td>\n",
       "    </tr>\n",
       "    <tr>\n",
       "      <th>3</th>\n",
       "      <td>3</td>\n",
       "      <td>9746</td>\n",
       "    </tr>\n",
       "    <tr>\n",
       "      <th>4</th>\n",
       "      <td>4</td>\n",
       "      <td>1732</td>\n",
       "    </tr>\n",
       "    <tr>\n",
       "      <th>5</th>\n",
       "      <td>5</td>\n",
       "      <td>10177</td>\n",
       "    </tr>\n",
       "    <tr>\n",
       "      <th>6</th>\n",
       "      <td>6</td>\n",
       "      <td>858</td>\n",
       "    </tr>\n",
       "    <tr>\n",
       "      <th>7</th>\n",
       "      <td>7</td>\n",
       "      <td>10449</td>\n",
       "    </tr>\n",
       "    <tr>\n",
       "      <th>8</th>\n",
       "      <td>8</td>\n",
       "      <td>7576</td>\n",
       "    </tr>\n",
       "    <tr>\n",
       "      <th>9</th>\n",
       "      <td>9</td>\n",
       "      <td>2841</td>\n",
       "    </tr>\n",
       "  </tbody>\n",
       "</table>\n",
       "</div>"
      ],
      "text/plain": [
       "   #doc  doc_length\n",
       "0     0       14767\n",
       "1     1        6476\n",
       "2     2        2975\n",
       "3     3        9746\n",
       "4     4        1732\n",
       "5     5       10177\n",
       "6     6         858\n",
       "7     7       10449\n",
       "8     8        7576\n",
       "9     9        2841"
      ]
     },
     "execution_count": 150,
     "metadata": {},
     "output_type": "execute_result"
    }
   ],
   "source": [
    "# Get document lengths from statefile\n",
    "docs = df.groupby('#doc')['type'].count().reset_index(name ='doc_length')\n",
    "\n",
    "docs[:10]"
   ]
  },
  {
   "cell_type": "code",
   "execution_count": 151,
   "metadata": {
    "ExecuteTime": {
     "end_time": "2018-08-27T00:05:36.270114Z",
     "start_time": "2018-08-27T00:05:36.113907Z"
    }
   },
   "outputs": [
    {
     "data": {
      "text/html": [
       "<div>\n",
       "<style scoped>\n",
       "    .dataframe tbody tr th:only-of-type {\n",
       "        vertical-align: middle;\n",
       "    }\n",
       "\n",
       "    .dataframe tbody tr th {\n",
       "        vertical-align: top;\n",
       "    }\n",
       "\n",
       "    .dataframe thead th {\n",
       "        text-align: right;\n",
       "    }\n",
       "</style>\n",
       "<table border=\"1\" class=\"dataframe\">\n",
       "  <thead>\n",
       "    <tr style=\"text-align: right;\">\n",
       "      <th></th>\n",
       "      <th>type</th>\n",
       "      <th>term_freq</th>\n",
       "    </tr>\n",
       "  </thead>\n",
       "  <tbody>\n",
       "    <tr>\n",
       "      <th>20383</th>\n",
       "      <td>-acetamide</td>\n",
       "      <td>1</td>\n",
       "    </tr>\n",
       "    <tr>\n",
       "      <th>11428</th>\n",
       "      <td>-acetate-hpam</td>\n",
       "      <td>2</td>\n",
       "    </tr>\n",
       "    <tr>\n",
       "      <th>4186</th>\n",
       "      <td>-based</td>\n",
       "      <td>11</td>\n",
       "    </tr>\n",
       "    <tr>\n",
       "      <th>19680</th>\n",
       "      <td>-benzoic</td>\n",
       "      <td>1</td>\n",
       "    </tr>\n",
       "    <tr>\n",
       "      <th>20298</th>\n",
       "      <td>-both</td>\n",
       "      <td>1</td>\n",
       "    </tr>\n",
       "    <tr>\n",
       "      <th>17261</th>\n",
       "      <td>-cost-effective</td>\n",
       "      <td>1</td>\n",
       "    </tr>\n",
       "    <tr>\n",
       "      <th>14381</th>\n",
       "      <td>-cpmg</td>\n",
       "      <td>1</td>\n",
       "    </tr>\n",
       "    <tr>\n",
       "      <th>13467</th>\n",
       "      <td>-density</td>\n",
       "      <td>1</td>\n",
       "    </tr>\n",
       "    <tr>\n",
       "      <th>11178</th>\n",
       "      <td>-derived</td>\n",
       "      <td>2</td>\n",
       "    </tr>\n",
       "    <tr>\n",
       "      <th>10217</th>\n",
       "      <td>-ethylenediaminetriacetic</td>\n",
       "      <td>2</td>\n",
       "    </tr>\n",
       "  </tbody>\n",
       "</table>\n",
       "</div>"
      ],
      "text/plain": [
       "                            type  term_freq\n",
       "20383                 -acetamide          1\n",
       "11428              -acetate-hpam          2\n",
       "4186                      -based         11\n",
       "19680                   -benzoic          1\n",
       "20298                      -both          1\n",
       "17261            -cost-effective          1\n",
       "14381                      -cpmg          1\n",
       "13467                   -density          1\n",
       "11178                   -derived          2\n",
       "10217  -ethylenediaminetriacetic          2"
      ]
     },
     "execution_count": 151,
     "metadata": {},
     "output_type": "execute_result"
    }
   ],
   "source": [
    "# Get vocab and term frequencies from statefile\n",
    "vocab = df['type'].value_counts().reset_index()\n",
    "vocab.columns = ['type', 'term_freq']\n",
    "vocab = vocab.sort_values(by='type', ascending=True)\n",
    "\n",
    "vocab[:10]"
   ]
  },
  {
   "cell_type": "code",
   "execution_count": 153,
   "metadata": {
    "ExecuteTime": {
     "end_time": "2018-08-27T00:06:23.971649Z",
     "start_time": "2018-08-27T00:06:23.922942Z"
    }
   },
   "outputs": [],
   "source": [
    "#  Topic-term matrix from state file\n",
    "# https://ldavis.cpsievert.me/reviews/reviews.html\n",
    "\n",
    "import sklearn.preprocessing\n",
    "\n",
    "def pivot_and_smooth(df, smooth_value, rows_variable, cols_variable, values_variable):\n",
    "    \"\"\"\n",
    "    Turns the pandas dataframe into a data matrix.\n",
    "    Args:\n",
    "        df (dataframe): aggregated dataframe \n",
    "        smooth_value (float): value to add to the matrix to account for the priors\n",
    "        rows_variable (str): name of dataframe column to use as the rows in the matrix\n",
    "        cols_variable (str): name of dataframe column to use as the columns in the matrix\n",
    "        values_variable(str): name of the dataframe column to use as the values in the matrix\n",
    "    Returns:\n",
    "        dataframe: pandas matrix that has been normalized on the rows.\n",
    "    \"\"\"\n",
    "    matrix = df.pivot(index=rows_variable, columns=cols_variable, values=values_variable).fillna(value=0)\n",
    "    matrix = matrix.values + smooth_value\n",
    "    \n",
    "    normed = sklearn.preprocessing.normalize(matrix, norm='l1', axis=1)\n",
    "    \n",
    "    return pd.DataFrame(normed)"
   ]
  },
  {
   "cell_type": "code",
   "execution_count": 154,
   "metadata": {
    "ExecuteTime": {
     "end_time": "2018-08-27T00:06:37.283735Z",
     "start_time": "2018-08-27T00:06:37.105996Z"
    }
   },
   "outputs": [
    {
     "data": {
      "text/html": [
       "<div>\n",
       "<style scoped>\n",
       "    .dataframe tbody tr th:only-of-type {\n",
       "        vertical-align: middle;\n",
       "    }\n",
       "\n",
       "    .dataframe tbody tr th {\n",
       "        vertical-align: top;\n",
       "    }\n",
       "\n",
       "    .dataframe thead th {\n",
       "        text-align: right;\n",
       "    }\n",
       "</style>\n",
       "<table border=\"1\" class=\"dataframe\">\n",
       "  <thead>\n",
       "    <tr style=\"text-align: right;\">\n",
       "      <th></th>\n",
       "      <th>topic</th>\n",
       "      <th>type</th>\n",
       "      <th>token_count</th>\n",
       "    </tr>\n",
       "  </thead>\n",
       "  <tbody>\n",
       "    <tr>\n",
       "      <th>23667</th>\n",
       "      <td>7</td>\n",
       "      <td>-acetamide</td>\n",
       "      <td>1</td>\n",
       "    </tr>\n",
       "    <tr>\n",
       "      <th>16938</th>\n",
       "      <td>5</td>\n",
       "      <td>-acetate-hpam</td>\n",
       "      <td>2</td>\n",
       "    </tr>\n",
       "    <tr>\n",
       "      <th>23668</th>\n",
       "      <td>7</td>\n",
       "      <td>-based</td>\n",
       "      <td>1</td>\n",
       "    </tr>\n",
       "    <tr>\n",
       "      <th>3251</th>\n",
       "      <td>1</td>\n",
       "      <td>-based</td>\n",
       "      <td>2</td>\n",
       "    </tr>\n",
       "    <tr>\n",
       "      <th>0</th>\n",
       "      <td>0</td>\n",
       "      <td>-based</td>\n",
       "      <td>8</td>\n",
       "    </tr>\n",
       "    <tr>\n",
       "      <th>13485</th>\n",
       "      <td>4</td>\n",
       "      <td>-benzoic</td>\n",
       "      <td>1</td>\n",
       "    </tr>\n",
       "    <tr>\n",
       "      <th>1</th>\n",
       "      <td>0</td>\n",
       "      <td>-both</td>\n",
       "      <td>1</td>\n",
       "    </tr>\n",
       "    <tr>\n",
       "      <th>23669</th>\n",
       "      <td>7</td>\n",
       "      <td>-cost-effective</td>\n",
       "      <td>1</td>\n",
       "    </tr>\n",
       "    <tr>\n",
       "      <th>20754</th>\n",
       "      <td>6</td>\n",
       "      <td>-cpmg</td>\n",
       "      <td>1</td>\n",
       "    </tr>\n",
       "    <tr>\n",
       "      <th>10276</th>\n",
       "      <td>3</td>\n",
       "      <td>-density</td>\n",
       "      <td>1</td>\n",
       "    </tr>\n",
       "  </tbody>\n",
       "</table>\n",
       "</div>"
      ],
      "text/plain": [
       "       topic             type  token_count\n",
       "23667      7       -acetamide            1\n",
       "16938      5    -acetate-hpam            2\n",
       "23668      7           -based            1\n",
       "3251       1           -based            2\n",
       "0          0           -based            8\n",
       "13485      4         -benzoic            1\n",
       "1          0            -both            1\n",
       "23669      7  -cost-effective            1\n",
       "20754      6            -cpmg            1\n",
       "10276      3         -density            1"
      ]
     },
     "execution_count": 154,
     "metadata": {},
     "output_type": "execute_result"
    }
   ],
   "source": [
    "phi_df = df.groupby(['topic', 'type'])['type'].count().reset_index(name ='token_count')\n",
    "phi_df = phi_df.sort_values(by='type', ascending=True)\n",
    "\n",
    "phi_df[:10]"
   ]
  },
  {
   "cell_type": "code",
   "execution_count": 155,
   "metadata": {
    "ExecuteTime": {
     "end_time": "2018-08-27T00:07:41.400719Z",
     "start_time": "2018-08-27T00:07:41.313854Z"
    }
   },
   "outputs": [],
   "source": [
    "phi = pivot_and_smooth(phi_df, beta, 'topic', 'type', 'token_count')"
   ]
  },
  {
   "cell_type": "code",
   "execution_count": 156,
   "metadata": {
    "ExecuteTime": {
     "end_time": "2018-08-27T00:07:50.762090Z",
     "start_time": "2018-08-27T00:07:50.679439Z"
    }
   },
   "outputs": [
    {
     "data": {
      "text/html": [
       "<div>\n",
       "<style scoped>\n",
       "    .dataframe tbody tr th:only-of-type {\n",
       "        vertical-align: middle;\n",
       "    }\n",
       "\n",
       "    .dataframe tbody tr th {\n",
       "        vertical-align: top;\n",
       "    }\n",
       "\n",
       "    .dataframe thead th {\n",
       "        text-align: right;\n",
       "    }\n",
       "</style>\n",
       "<table border=\"1\" class=\"dataframe\">\n",
       "  <thead>\n",
       "    <tr style=\"text-align: right;\">\n",
       "      <th></th>\n",
       "      <th>#doc</th>\n",
       "      <th>topic</th>\n",
       "      <th>topic_count</th>\n",
       "    </tr>\n",
       "  </thead>\n",
       "  <tbody>\n",
       "    <tr>\n",
       "      <th>0</th>\n",
       "      <td>0</td>\n",
       "      <td>0</td>\n",
       "      <td>1372</td>\n",
       "    </tr>\n",
       "    <tr>\n",
       "      <th>1</th>\n",
       "      <td>0</td>\n",
       "      <td>1</td>\n",
       "      <td>11891</td>\n",
       "    </tr>\n",
       "    <tr>\n",
       "      <th>2</th>\n",
       "      <td>0</td>\n",
       "      <td>2</td>\n",
       "      <td>39</td>\n",
       "    </tr>\n",
       "    <tr>\n",
       "      <th>3</th>\n",
       "      <td>0</td>\n",
       "      <td>3</td>\n",
       "      <td>91</td>\n",
       "    </tr>\n",
       "    <tr>\n",
       "      <th>4</th>\n",
       "      <td>0</td>\n",
       "      <td>4</td>\n",
       "      <td>161</td>\n",
       "    </tr>\n",
       "    <tr>\n",
       "      <th>5</th>\n",
       "      <td>0</td>\n",
       "      <td>5</td>\n",
       "      <td>416</td>\n",
       "    </tr>\n",
       "    <tr>\n",
       "      <th>6</th>\n",
       "      <td>0</td>\n",
       "      <td>6</td>\n",
       "      <td>108</td>\n",
       "    </tr>\n",
       "    <tr>\n",
       "      <th>7</th>\n",
       "      <td>0</td>\n",
       "      <td>7</td>\n",
       "      <td>616</td>\n",
       "    </tr>\n",
       "    <tr>\n",
       "      <th>8</th>\n",
       "      <td>0</td>\n",
       "      <td>8</td>\n",
       "      <td>73</td>\n",
       "    </tr>\n",
       "    <tr>\n",
       "      <th>9</th>\n",
       "      <td>1</td>\n",
       "      <td>0</td>\n",
       "      <td>84</td>\n",
       "    </tr>\n",
       "  </tbody>\n",
       "</table>\n",
       "</div>"
      ],
      "text/plain": [
       "   #doc  topic  topic_count\n",
       "0     0      0         1372\n",
       "1     0      1        11891\n",
       "2     0      2           39\n",
       "3     0      3           91\n",
       "4     0      4          161\n",
       "5     0      5          416\n",
       "6     0      6          108\n",
       "7     0      7          616\n",
       "8     0      8           73\n",
       "9     1      0           84"
      ]
     },
     "execution_count": 156,
     "metadata": {},
     "output_type": "execute_result"
    }
   ],
   "source": [
    "theta_df = df.groupby(['#doc', 'topic'])['topic'].count().reset_index(name ='topic_count')\n",
    "\n",
    "theta_df[:10]"
   ]
  },
  {
   "cell_type": "code",
   "execution_count": 157,
   "metadata": {
    "ExecuteTime": {
     "end_time": "2018-08-27T00:08:03.186791Z",
     "start_time": "2018-08-27T00:08:03.136989Z"
    }
   },
   "outputs": [],
   "source": [
    "theta = pivot_and_smooth(theta_df, alpha , '#doc', 'topic', 'topic_count')"
   ]
  },
  {
   "cell_type": "code",
   "execution_count": 158,
   "metadata": {
    "ExecuteTime": {
     "end_time": "2018-08-27T00:08:21.810337Z",
     "start_time": "2018-08-27T00:08:21.759830Z"
    }
   },
   "outputs": [],
   "source": [
    "import pyLDAvis\n",
    "\n",
    "data = {'topic_term_dists': phi, \n",
    "        'doc_topic_dists': theta,\n",
    "        'doc_lengths': list(docs['doc_length']),\n",
    "        'vocab': list(vocab['type']),\n",
    "        'term_frequency': list(vocab['term_freq'])\n",
    "       }"
   ]
  },
  {
   "cell_type": "code",
   "execution_count": 159,
   "metadata": {
    "ExecuteTime": {
     "end_time": "2018-08-27T00:08:45.227502Z",
     "start_time": "2018-08-27T00:08:41.989064Z"
    }
   },
   "outputs": [],
   "source": [
    "vis_data = pyLDAvis.prepare(**data)"
   ]
  },
  {
   "cell_type": "code",
   "execution_count": 160,
   "metadata": {
    "ExecuteTime": {
     "end_time": "2018-08-27T00:09:16.827591Z",
     "start_time": "2018-08-27T00:09:16.749836Z"
    }
   },
   "outputs": [
    {
     "data": {
      "text/html": [
       "\n",
       "<link rel=\"stylesheet\" type=\"text/css\" href=\"https://cdn.rawgit.com/bmabey/pyLDAvis/files/ldavis.v1.0.0.css\">\n",
       "\n",
       "\n",
       "<div id=\"ldavis_el82753112204475752327521692\"></div>\n",
       "<script type=\"text/javascript\">\n",
       "\n",
       "var ldavis_el82753112204475752327521692_data = {\"mdsDat\": {\"Freq\": [19.874858529304, 15.185597474707102, 13.344298543429984, 13.1228381955072, 10.221755941190565, 7.93684060099456, 7.711943778160332, 6.466266172390804, 6.13560076431545], \"cluster\": [1, 1, 1, 1, 1, 1, 1, 1, 1], \"topics\": [1, 2, 3, 4, 5, 6, 7, 8, 9], \"x\": [-0.054569727797096276, 0.029973204477435976, 0.060354732444235885, -0.11713526234655922, 0.16711587477830928, -0.09401058549883184, 0.09156862282142907, 0.18383047757273063, -0.2671273364516532], \"y\": [-0.0730836072677868, -0.07339246190868655, 0.11199940299034504, -0.04650971856095005, 0.08757117365362159, -0.032795772842052213, 0.2248856119037681, -0.23367494066632208, 0.03500031269806345]}, \"tinfo\": {\"Category\": [\"Default\", \"Default\", \"Default\", \"Default\", \"Default\", \"Default\", \"Default\", \"Default\", \"Default\", \"Default\", \"Default\", \"Default\", \"Default\", \"Default\", \"Default\", \"Default\", \"Default\", \"Default\", \"Default\", \"Default\", \"Default\", \"Default\", \"Default\", \"Default\", \"Default\", \"Default\", \"Default\", \"Default\", \"Default\", \"Default\", \"Topic1\", \"Topic1\", \"Topic1\", \"Topic1\", \"Topic1\", \"Topic1\", \"Topic1\", \"Topic1\", \"Topic1\", \"Topic1\", \"Topic1\", \"Topic1\", \"Topic1\", \"Topic1\", \"Topic1\", \"Topic1\", \"Topic1\", \"Topic1\", \"Topic1\", \"Topic1\", \"Topic1\", \"Topic1\", \"Topic1\", \"Topic1\", \"Topic1\", \"Topic1\", \"Topic1\", \"Topic1\", \"Topic1\", \"Topic1\", \"Topic1\", \"Topic1\", \"Topic1\", \"Topic1\", \"Topic1\", \"Topic1\", \"Topic1\", \"Topic1\", \"Topic1\", \"Topic1\", \"Topic1\", \"Topic1\", \"Topic1\", \"Topic1\", \"Topic1\", \"Topic1\", \"Topic1\", \"Topic1\", \"Topic1\", \"Topic1\", \"Topic1\", \"Topic1\", \"Topic1\", \"Topic1\", \"Topic1\", \"Topic1\", \"Topic1\", \"Topic1\", \"Topic1\", \"Topic1\", \"Topic1\", \"Topic1\", \"Topic1\", \"Topic1\", \"Topic1\", \"Topic1\", \"Topic1\", \"Topic1\", \"Topic1\", \"Topic1\", \"Topic1\", \"Topic1\", \"Topic1\", \"Topic1\", \"Topic1\", \"Topic1\", \"Topic1\", \"Topic1\", \"Topic1\", \"Topic1\", \"Topic1\", \"Topic1\", \"Topic1\", \"Topic1\", \"Topic1\", \"Topic2\", \"Topic2\", \"Topic2\", \"Topic2\", \"Topic2\", \"Topic2\", \"Topic2\", \"Topic2\", \"Topic2\", \"Topic2\", \"Topic2\", \"Topic2\", \"Topic2\", \"Topic2\", \"Topic2\", \"Topic2\", \"Topic2\", \"Topic2\", \"Topic2\", \"Topic2\", \"Topic2\", \"Topic2\", \"Topic2\", \"Topic2\", \"Topic2\", \"Topic2\", \"Topic2\", \"Topic2\", \"Topic2\", \"Topic2\", \"Topic2\", \"Topic2\", \"Topic2\", \"Topic2\", \"Topic2\", \"Topic2\", \"Topic2\", \"Topic2\", \"Topic2\", \"Topic2\", \"Topic2\", \"Topic2\", \"Topic2\", \"Topic2\", \"Topic2\", \"Topic2\", \"Topic2\", \"Topic2\", \"Topic2\", \"Topic2\", \"Topic2\", \"Topic2\", \"Topic2\", \"Topic2\", \"Topic2\", \"Topic2\", \"Topic2\", \"Topic2\", \"Topic2\", \"Topic2\", \"Topic2\", \"Topic2\", \"Topic2\", \"Topic2\", \"Topic2\", \"Topic2\", \"Topic2\", \"Topic2\", \"Topic2\", \"Topic2\", \"Topic3\", \"Topic3\", \"Topic3\", \"Topic3\", \"Topic3\", \"Topic3\", \"Topic3\", \"Topic3\", \"Topic3\", \"Topic3\", \"Topic3\", \"Topic3\", \"Topic3\", \"Topic3\", \"Topic3\", \"Topic3\", \"Topic3\", \"Topic3\", \"Topic3\", \"Topic3\", \"Topic3\", \"Topic3\", \"Topic3\", \"Topic3\", \"Topic3\", \"Topic3\", \"Topic3\", \"Topic3\", \"Topic3\", \"Topic3\", \"Topic3\", \"Topic3\", \"Topic3\", \"Topic3\", \"Topic3\", \"Topic3\", \"Topic3\", \"Topic3\", \"Topic3\", \"Topic3\", \"Topic3\", \"Topic3\", \"Topic3\", \"Topic3\", \"Topic3\", \"Topic3\", \"Topic3\", \"Topic3\", \"Topic3\", \"Topic3\", \"Topic3\", \"Topic3\", \"Topic3\", \"Topic3\", \"Topic3\", \"Topic3\", \"Topic3\", \"Topic3\", \"Topic3\", \"Topic3\", \"Topic3\", \"Topic3\", \"Topic3\", \"Topic3\", \"Topic3\", \"Topic3\", \"Topic3\", \"Topic3\", \"Topic3\", \"Topic3\", \"Topic3\", \"Topic3\", \"Topic3\", \"Topic4\", \"Topic4\", \"Topic4\", \"Topic4\", \"Topic4\", \"Topic4\", \"Topic4\", \"Topic4\", \"Topic4\", \"Topic4\", \"Topic4\", \"Topic4\", \"Topic4\", \"Topic4\", \"Topic4\", \"Topic4\", \"Topic4\", \"Topic4\", \"Topic4\", \"Topic4\", \"Topic4\", \"Topic4\", \"Topic4\", \"Topic4\", \"Topic4\", \"Topic4\", \"Topic4\", \"Topic4\", \"Topic4\", \"Topic4\", \"Topic4\", \"Topic4\", \"Topic4\", \"Topic4\", \"Topic4\", \"Topic4\", \"Topic4\", \"Topic4\", \"Topic4\", \"Topic4\", \"Topic4\", \"Topic4\", \"Topic4\", \"Topic4\", \"Topic4\", \"Topic4\", \"Topic4\", \"Topic4\", \"Topic4\", \"Topic4\", \"Topic4\", \"Topic4\", \"Topic4\", \"Topic4\", \"Topic4\", \"Topic4\", \"Topic4\", \"Topic4\", \"Topic4\", \"Topic4\", \"Topic4\", \"Topic4\", \"Topic4\", \"Topic4\", \"Topic4\", \"Topic4\", \"Topic4\", \"Topic4\", \"Topic4\", \"Topic4\", \"Topic5\", \"Topic5\", \"Topic5\", \"Topic5\", \"Topic5\", \"Topic5\", \"Topic5\", \"Topic5\", \"Topic5\", \"Topic5\", \"Topic5\", \"Topic5\", \"Topic5\", \"Topic5\", \"Topic5\", \"Topic5\", \"Topic5\", \"Topic5\", \"Topic5\", \"Topic5\", \"Topic5\", \"Topic5\", \"Topic5\", \"Topic5\", \"Topic5\", \"Topic5\", \"Topic5\", \"Topic5\", \"Topic5\", \"Topic5\", \"Topic5\", \"Topic5\", \"Topic5\", \"Topic5\", \"Topic5\", \"Topic5\", \"Topic5\", \"Topic5\", \"Topic5\", \"Topic5\", \"Topic5\", \"Topic5\", \"Topic5\", \"Topic5\", \"Topic5\", \"Topic5\", \"Topic5\", \"Topic5\", \"Topic5\", \"Topic5\", \"Topic5\", \"Topic5\", \"Topic5\", \"Topic5\", \"Topic5\", \"Topic5\", \"Topic5\", \"Topic5\", \"Topic5\", \"Topic5\", \"Topic5\", \"Topic5\", \"Topic5\", \"Topic5\", \"Topic5\", \"Topic5\", \"Topic5\", \"Topic5\", \"Topic5\", \"Topic5\", \"Topic5\", \"Topic5\", \"Topic5\", \"Topic5\", \"Topic5\", \"Topic5\", \"Topic5\", \"Topic5\", \"Topic5\", \"Topic6\", \"Topic6\", \"Topic6\", \"Topic6\", \"Topic6\", \"Topic6\", \"Topic6\", \"Topic6\", \"Topic6\", \"Topic6\", \"Topic6\", \"Topic6\", \"Topic6\", \"Topic6\", \"Topic6\", \"Topic6\", \"Topic6\", \"Topic6\", \"Topic6\", \"Topic6\", \"Topic6\", \"Topic6\", \"Topic6\", \"Topic6\", \"Topic6\", \"Topic6\", \"Topic6\", \"Topic6\", \"Topic6\", \"Topic6\", \"Topic6\", \"Topic6\", \"Topic6\", \"Topic6\", \"Topic6\", \"Topic6\", \"Topic6\", \"Topic6\", \"Topic6\", \"Topic6\", \"Topic6\", \"Topic6\", \"Topic6\", \"Topic6\", \"Topic6\", \"Topic6\", \"Topic6\", \"Topic6\", \"Topic6\", \"Topic6\", \"Topic6\", \"Topic6\", \"Topic6\", \"Topic6\", \"Topic6\", \"Topic6\", \"Topic6\", \"Topic6\", \"Topic6\", \"Topic6\", \"Topic7\", \"Topic7\", \"Topic7\", \"Topic7\", \"Topic7\", \"Topic7\", \"Topic7\", \"Topic7\", \"Topic7\", \"Topic7\", \"Topic7\", \"Topic7\", \"Topic7\", \"Topic7\", \"Topic7\", \"Topic7\", \"Topic7\", \"Topic7\", \"Topic7\", \"Topic7\", \"Topic7\", \"Topic7\", \"Topic7\", \"Topic7\", \"Topic7\", \"Topic7\", \"Topic7\", \"Topic7\", \"Topic7\", \"Topic7\", \"Topic7\", \"Topic7\", \"Topic7\", \"Topic7\", \"Topic7\", \"Topic7\", \"Topic7\", \"Topic7\", \"Topic7\", \"Topic7\", \"Topic7\", \"Topic7\", \"Topic7\", \"Topic7\", \"Topic7\", \"Topic7\", \"Topic7\", \"Topic7\", \"Topic7\", \"Topic7\", \"Topic7\", \"Topic7\", \"Topic7\", \"Topic7\", \"Topic7\", \"Topic7\", \"Topic7\", \"Topic7\", \"Topic7\", \"Topic7\", \"Topic7\", \"Topic7\", \"Topic7\", \"Topic7\", \"Topic7\", \"Topic7\", \"Topic7\", \"Topic7\", \"Topic7\", \"Topic7\", \"Topic7\", \"Topic7\", \"Topic7\", \"Topic8\", \"Topic8\", \"Topic8\", \"Topic8\", \"Topic8\", \"Topic8\", \"Topic8\", \"Topic8\", \"Topic8\", \"Topic8\", \"Topic8\", \"Topic8\", \"Topic8\", \"Topic8\", \"Topic8\", \"Topic8\", \"Topic8\", \"Topic8\", \"Topic8\", \"Topic8\", \"Topic8\", \"Topic8\", \"Topic8\", \"Topic8\", \"Topic8\", \"Topic8\", \"Topic8\", \"Topic8\", \"Topic8\", \"Topic8\", \"Topic8\", \"Topic8\", \"Topic8\", \"Topic8\", \"Topic8\", \"Topic8\", \"Topic8\", \"Topic8\", \"Topic8\", \"Topic8\", \"Topic8\", \"Topic8\", \"Topic8\", \"Topic8\", \"Topic8\", \"Topic8\", \"Topic8\", \"Topic8\", \"Topic8\", \"Topic8\", \"Topic8\", \"Topic8\", \"Topic8\", \"Topic8\", \"Topic8\", \"Topic8\", \"Topic8\", \"Topic8\", \"Topic8\", \"Topic8\", \"Topic8\", \"Topic8\", \"Topic8\", \"Topic8\", \"Topic8\", \"Topic8\", \"Topic8\", \"Topic8\", \"Topic8\", \"Topic8\", \"Topic9\", \"Topic9\", \"Topic9\", \"Topic9\", \"Topic9\", \"Topic9\", \"Topic9\", \"Topic9\", \"Topic9\", \"Topic9\", \"Topic9\", \"Topic9\", \"Topic9\", \"Topic9\", \"Topic9\", \"Topic9\", \"Topic9\", \"Topic9\", \"Topic9\", \"Topic9\", \"Topic9\", \"Topic9\", \"Topic9\", \"Topic9\", \"Topic9\", \"Topic9\", \"Topic9\", \"Topic9\", \"Topic9\", \"Topic9\", \"Topic9\", \"Topic9\", \"Topic9\", \"Topic9\", \"Topic9\", \"Topic9\", \"Topic9\", \"Topic9\", \"Topic9\", \"Topic9\", \"Topic9\", \"Topic9\", \"Topic9\", \"Topic9\", \"Topic9\", \"Topic9\", \"Topic9\", \"Topic9\", \"Topic9\", \"Topic9\", \"Topic9\", \"Topic9\", \"Topic9\", \"Topic9\", \"Topic9\", \"Topic9\", \"Topic9\", \"Topic9\", \"Topic9\", \"Topic9\", \"Topic9\", \"Topic9\", \"Topic9\", \"Topic9\", \"Topic9\", \"Topic9\", \"Topic9\", \"Topic9\", \"Topic9\", \"Topic9\", \"Topic9\"], \"Freq\": [3608.0, 3864.0, 1070.0, 3634.0, 1699.0, 1519.0, 2719.0, 918.0, 1110.0, 1329.0, 708.0, 3417.0, 798.0, 2476.0, 838.0, 2032.0, 955.0, 1731.0, 767.0, 2001.0, 3993.0, 656.0, 762.0, 607.0, 432.0, 955.0, 1507.0, 706.0, 909.0, 2218.0, 189.70938030128593, 135.08388469073816, 94.36306069014803, 93.36986986086536, 74.49924410449431, 70.52648078736357, 68.54009912879819, 68.54009912879819, 62.58095415310207, 62.58095415310207, 59.60138166525402, 58.60819083597133, 56.62180917740595, 52.6490458602752, 50.66266420170983, 50.66266420170983, 50.66266420170983, 46.68990088457909, 46.68990088457909, 46.68990088457909, 45.6967100552964, 45.6967100552964, 44.70351922601372, 42.71713756744834, 41.72394673816566, 41.72394673816566, 41.72394673816566, 40.73075590888297, 40.73075590888297, 38.74437425031759, 38.74437425031759, 77.47881659234237, 101.31539649512683, 111.24730478795371, 68.54009912879819, 63.57414498238476, 299.9535623516641, 59.60138166525402, 142.03622049571698, 155.94089210567458, 215.53234186263577, 88.40391571445191, 357.5586304500599, 68.54009912879819, 364.51096625503874, 173.81832703276294, 242.34849425326829, 422.11603435343454, 743.9098630410249, 1004.1258603130888, 833.2970376764667, 176.797899520611, 172.82513620348024, 164.87960956921876, 224.47105932617995, 1591.1016404191564, 242.34849425326829, 1642.7475635418562, 252.2804025460952, 867.0655258720781, 276.11698244887964, 274.13060079031425, 908.779540701951, 1114.370042363467, 1459.0072601245593, 233.40977678972413, 557.18998713588, 505.54406401318016, 240.36211259470292, 346.6335313279504, 347.6267221572331, 673.3933141619542, 322.7969514251659, 297.9671806930988, 346.6335313279504, 588.9720936729258, 647.5703526006043, 472.7687666468516, 318.8241881080352, 293.0012265466853, 303.92632566879485, 421.1228435241519, 387.3543553285405, 318.8241881080352, 301.93994401022945, 206.20038609998272, 166.35682567295353, 131.49371029930302, 127.5093542566001, 76.70881471213792, 76.70881471213792, 70.73228064808355, 56.78703449862332, 55.790945487947596, 54.794856477271864, 53.79876746659614, 52.80267845592041, 51.80658944524468, 46.82614439186603, 44.833966370514574, 44.833966370514574, 42.84178834916311, 42.84178834916311, 40.849610327811654, 34.87307626375728, 34.87307626375728, 33.87698725308155, 33.87698725308155, 32.88089824240582, 30.888720221054367, 29.89263121037864, 29.89263121037864, 28.896542199702907, 28.896542199702907, 27.90045318902718, 756.0415199929853, 3204.428308233928, 87.66579382957094, 102.60712898970688, 66.74792460538062, 383.5042300002625, 1091.723516590706, 438.28912558742763, 799.8694364627173, 135.47806634200595, 219.1495432387672, 337.684135509179, 606.6281683916259, 656.4326189254124, 169.34509270498071, 465.1835288756723, 475.1444189824296, 119.54064217119428, 307.8014651889071, 244.05176850566042, 540.8862936870278, 187.27469489714386, 383.5042300002625, 592.6829222421658, 313.7779992529615, 892.5057144555602, 381.5120519789111, 497.0583772172957, 622.5655925624376, 352.62547066931495, 430.32041350202184, 382.5081409895868, 491.0818431532413, 390.4768530749926, 374.53942890418097, 325.7310673810702, 273.9344388259323, 339.6763135305304, 323.73888935971877, 299.8327531035013, 708.1771141674195, 171.56595739206185, 163.5866093359227, 127.67954308329654, 108.72859144996607, 80.80087325347905, 76.81119922540948, 75.81378071839208, 63.844758634183364, 60.85250311313117, 56.862829085061605, 55.86541057804421, 54.86799207102681, 51.87573654997464, 48.88348102892245, 41.9015514798007, 38.909295958748515, 37.91187745173113, 35.917040437696336, 34.91962193067894, 33.92220342366155, 33.92220342366155, 32.92478491664416, 28.935110888574588, 28.935110888574588, 26.940273874539802, 25.942855367522405, 25.942855367522405, 24.945436860505016, 24.945436860505016, 383.01868087974924, 152.61500575873137, 88.7802213096182, 267.31813406573167, 297.2406892762535, 384.01609938676665, 280.2845746569577, 558.5643381148105, 184.53239798328798, 211.46269767275757, 259.33878600959247, 100.74924339382693, 585.4946378042802, 355.09096268326226, 115.71052099908783, 347.1116146271231, 128.67696159031394, 115.71052099908783, 1135.072235170864, 133.6640541254009, 355.09096268326226, 1911.0638336303962, 255.34911198152287, 113.71568398505303, 257.3439489955577, 580.5075452691932, 628.3836336060281, 391.9954474429058, 283.2768301780099, 336.1400110499318, 535.6237124534105, 756.0532025042545, 659.3036073235672, 377.0341698376449, 398.9773769920276, 267.31813406573167, 268.315552572749, 378.0315883446623, 294.24843375520123, 349.1064516411579, 349.1064516411579, 345.1167776130883, 268.315552572749, 435.7495464133419, 243.74556829006846, 190.0242479861474, 182.06553386704798, 117.40098164936526, 107.45258900049099, 102.47839267605386, 87.55580370274245, 83.57644664319274, 83.57644664319274, 79.59708958364304, 79.59708958364304, 73.62805399431846, 71.63837546454361, 70.64353619965618, 69.64869693476876, 68.65385766988133, 63.679661345444195, 61.68998281566933, 59.70030428589449, 53.73126869656993, 51.74159016679507, 48.75707237213279, 47.762233107245365, 44.777715312583084, 43.78287604769566, 40.79835825303338, 38.80867972325852, 37.81384045837109, 36.819001193483665, 36.819001193483665, 424.80631449958014, 841.6439664874121, 170.12746268839888, 296.47204932910205, 87.55580370274245, 124.36485650357723, 131.32873135778922, 2051.3685125905236, 120.38549944402753, 117.40098164936526, 169.13262342351143, 1307.2287424547278, 123.37001723868983, 852.5871984011737, 359.14692301700995, 755.092950442206, 256.678478733605, 191.01908725103485, 746.1393970582191, 276.5752640313535, 532.2489551074223, 210.91587254878337, 174.10681974794858, 487.481188187488, 182.06553386704798, 173.11198048306116, 209.92103328389595, 223.8487829923199, 241.7558897602936, 528.2695980478726, 546.1767048158463, 276.5752640313535, 255.6836394687176, 237.77653270074387, 222.8539437274325, 244.74040755495588, 204.9468369594588, 202.95715842968394, 201.96231916479653, 113.62404998409549, 94.68836934469708, 93.69175457420242, 73.75945916430935, 60.803467147878834, 45.85424559045903, 45.85424559045903, 38.87794219699645, 38.87794219699645, 33.894868344523175, 33.894868344523175, 33.894868344523175, 32.89825357402852, 29.908409262544566, 28.911794492049914, 28.911794492049914, 28.911794492049914, 26.918564951060606, 24.925335410071295, 24.925335410071295, 22.93210586908199, 22.93210586908199, 21.935491098587335, 21.935491098587335, 21.935491098587335, 20.93887632809268, 20.93887632809268, 20.93887632809268, 20.93887632809268, 19.942261557598027, 79.73914778727728, 57.81362283639488, 105.65113182013827, 66.78315577084678, 94.68836934469708, 38.87794219699645, 122.59358291854738, 70.76961485282538, 248.16704400087377, 304.974085919069, 592.995754592024, 173.42093621377472, 135.54957493497787, 156.4784851153656, 166.44463282031217, 228.2347485909807, 110.63420567261154, 122.59358291854738, 195.3464611646571, 169.43447713179611, 149.502181721903, 129.56988631200994, 599.9720579854867, 122.59358291854738, 129.56988631200994, 249.1636587713684, 347.8285210503392, 310.95377454203697, 221.2584451975181, 202.32276455811967, 282.051946197692, 380.7168084766628, 362.77774260775897, 224.2482895090021, 469.415523050687, 206.3092236400983, 293.0147086731332, 166.44463282031217, 216.27537134504487, 177.40739529575336, 239.1975110664219, 198.33630547614106, 201.32614978762504, 222.25505996801277, 205.31260886960365, 231.22459290246468, 183.38708391872126, 195.3464611646571, 173.42093621377472, 342.6139984026322, 216.12936773162176, 122.51082219559834, 121.51488022181086, 119.52299627423588, 86.65691113924893, 86.65691113924893, 84.66502719167397, 84.66502719167397, 84.66502719167397, 68.72995561107423, 63.75024574213681, 62.754303768349324, 62.754303768349324, 60.76241982077436, 55.78270995183694, 51.798942056687004, 51.798942056687004, 48.81111613532456, 46.81923218774959, 38.85169639744973, 38.85169639744973, 37.85575442366224, 36.85981244987476, 36.85981244987476, 32.87604455472483, 30.884160607149862, 30.884160607149862, 30.884160607149862, 30.884160607149862, 892.373967933323, 69.72589758486171, 264.9305244472084, 131.47429995968568, 210.15371588889687, 266.9224083947834, 116.53517035287344, 392.4110970920063, 60.76241982077436, 58.77053587319939, 132.47024193347315, 478.0621068377299, 201.1902381248095, 103.58792469363615, 215.1334257578343, 305.76414537249525, 251.98327878797116, 259.95081457827104, 222.10501957434664, 145.41748759271042, 185.25516654420977, 200.19429615102203, 157.36879127816024, 189.2389344393597, 195.2145862820846, 224.09690352192163, 145.41748759271042, 130.47835798589819, 127.49053206453574, 125.49864811696078, 348.606543114749, 217.75797961217856, 163.8204038172258, 137.85045991595229, 95.89901207543353, 91.90363609062221, 85.91057211340525, 65.93369218934869, 51.949876242509085, 39.96374828807515, 37.96606029566949, 33.97068431085818, 32.97184031465535, 32.97184031465535, 27.977620333641216, 27.977620333641216, 26.97877633743839, 26.97877633743839, 26.97877633743839, 26.97877633743839, 25.97993234123556, 25.97993234123556, 24.98108834503273, 24.98108834503273, 24.98108834503273, 23.982244348829905, 22.983400352627076, 22.983400352627076, 21.984556356424246, 20.985712360221417, 229.74410756661248, 253.71636347548034, 83.91288412099959, 401.54527491349893, 197.781099688122, 63.93600419694303, 87.90826010581091, 32.97184031465535, 217.75797961217856, 115.87589199949008, 82.91404012479677, 39.96374828807515, 84.91172811720241, 89.90594809821656, 75.92213215137697, 170.81231179064562, 169.81346779444277, 1070.770752369394, 78.91866413998545, 356.59729508437164, 124.86548796531555, 120.87011198050423, 153.83196385519753, 304.6574072818246, 184.7961277374852, 136.85161591974946, 336.6204151603151, 267.70017942231993, 317.64237923246134, 173.8088437792541, 139.84814790835796, 274.69208739573975, 186.79381572989087, 160.82387182861734, 267.70017942231993, 204.77300766154178, 179.80190775647105, 175.80653177165973, 169.81346779444277, 196.78225569191918, 153.83196385519753, 154.83080785140038, 154.83080785140038, 167.45032694582002, 165.45698932370445, 106.65352947129458, 82.73347800590751, 67.7834458400406, 44.86006318571132, 42.866725563595736, 41.87005675253794, 37.88338150830676, 31.903368641959997, 30.906699830902205, 29.91003101984441, 28.913362208786616, 27.91669339772882, 26.92002458667103, 26.92002458667103, 26.92002458667103, 25.923355775613235, 25.923355775613235, 25.923355775613235, 23.93001815349764, 23.93001815349764, 22.93334934243985, 21.936680531382056, 20.94001172032426, 20.94001172032426, 19.943342909266466, 19.943342909266466, 19.943342909266466, 18.946674098208675, 43.86339437465353, 39.87671913042235, 193.36371603332267, 79.74347157273414, 203.3304041439006, 83.73014681696532, 247.18383183044358, 203.3304041439006, 150.50695715783752, 57.81675772946265, 401.66749754440167, 179.41035267851356, 533.2277806040306, 109.64353590446797, 100.6735166049478, 62.80010178475162, 154.4936324020687, 215.29042987659415, 131.5702497477394, 141.53693785831737, 108.64686709341017, 368.7774267794945, 119.6102240150459, 104.66019184917899, 207.3170793881318, 160.47364526841545, 209.31041701024736, 189.3770407890915, 155.49030121312651, 270.10721448477284, 186.38703435591813, 204.32707295495842, 144.52694429149076, 202.33373533284282, 145.52361310254852, 189.3770407890915, 124.59356807033488, 140.54026904725959, 124.59356807033488, 125.59023688139268, 165.30938514595647, 74.6934340087838, 52.786280986610166, 52.786280986610166, 50.794721620958015, 48.80316225530587, 39.841145109871206, 38.84536542704513, 38.84536542704513, 37.849585744219056, 36.85380606139298, 36.85380606139298, 35.85802637856691, 33.86646701291476, 33.86646701291476, 33.86646701291476, 33.86646701291476, 31.874907647262614, 30.879127964436545, 29.88334828161047, 28.887568598784398, 28.887568598784398, 27.891788915958326, 27.891788915958326, 26.896009233132254, 26.896009233132254, 26.896009233132254, 26.896009233132254, 26.896009233132254, 25.90022955030618, 25.90022955030618, 25.90022955030618, 25.90022955030618, 38.84536542704513, 62.74407781487089, 205.14057245899943, 58.760959083566604, 158.33892736617398, 114.52462132182673, 368.4484404424755, 83.65545115421845, 277.8324893053028, 61.74829813204482, 89.63012925117489, 82.65967147139237, 78.67655274008808, 261.9000143800856, 241.98442072356417, 114.52462132182673, 71.70609496030556, 258.9126753316074, 119.50351973595711, 92.61746829965311, 71.70609496030556, 113.52884163900067, 113.52884163900067, 291.7734048648678, 197.17433499639083, 119.50351973595711, 158.33892736617398, 108.54994322487029, 93.61324798247918, 123.4866384672614, 76.68499337443593, 149.3769102207393, 112.53306195617458, 87.63856988552274, 88.63434956834882, 95.60480734813135, 89.63012925117489, 86.64279020269667], \"Term\": [\"fracture\", \"oil\", \"drilling\", \"gas\", \"recovery\", \"fractures\", \"production\", \"unconventional\", \"acid\", \"rock\", \"surfactant\", \"reservoir\", \"conductivity\", \"pressure\", \"wellbore\", \"permeability\", \"pore\", \"water\", \"energy\", \"shale\", \"model\", \"optimization\", \"measurements\", \"polymer\", \"steam\", \"phase\", \"injection\", \"foam\", \"fracturing\", \"reservoirs\", \"geomechanics\", \"convergence\", \"sequential\", \"unstructured\", \"solver\", \"ensemble\", \"generalized\", \"crm\", \"analytic\", \"streamlines\", \"fine-scale\", \"split\", \"proxy\", \"computing\", \"relies\", \"refinement\", \"marching\", \"orthogonal\", \"sensitivities\", \"faults\", \"fmm\", \"utility\", \"flight\", \"referred\", \"parameterization\", \"connections\", \"fixed-stress\", \"vugs\", \"derive\", \"iterations\", \"convective\", \"discretization\", \"approximation\", \"grids\", \"compute\", \"diffusivity\", \"matching\", \"diffusive\", \"scheme\", \"multiscale\", \"grid\", \"streamline\", \"equation\", \"iterative\", \"history\", \"geologic\", \"local\", \"coupled\", \"numerical\", \"simulation\", \"approach\", \"nonlinear\", \"coupling\", \"functions\", \"demonstrate\", \"flow\", \"equations\", \"reservoir\", \"computational\", \"models\", \"heterogeneous\", \"algorithm\", \"method\", \"pressure\", \"model\", \"geological\", \"modeling\", \"time\", \"problems\", \"proposed\", \"solution\", \"data\", \"transport\", \"simulator\", \"complex\", \"reservoirs\", \"production\", \"field\", \"optimization\", \"media\", \"fractured\", \"results\", \"permeability\", \"based\", \"parameters\", \"closure\", \"width\", \"perforation\", \"jetting\", \"wormholes\", \"clusters\", \"pumping\", \"edfm\", \"huff-n-puff\", \"embedment\", \"nonplanar\", \"etching\", \"diagnosis\", \"sound\", \"leakoff\", \"ball\", \"peridynamic\", \"crack\", \"segments\", \"wormholing\", \"perforations\", \"hydraulic-fracture\", \"das\", \"conductivities\", \"bedding\", \"fracture-propagation\", \"seismicity\", \"unpropped\", \"flow-rate\", \"interstitial\", \"conductivity\", \"fracture\", \"propped\", \"diversion\", \"acoustic\", \"treatment\", \"fractures\", \"proppant\", \"acid\", \"wormhole\", \"treatments\", \"stimulation\", \"fracturing\", \"hydraulic\", \"acidizing\", \"stress\", \"horizontal\", \"height\", \"propagation\", \"geometry\", \"temperature\", \"length\", \"wellbore\", \"fluid\", \"natural\", \"model\", \"effect\", \"shale\", \"flow\", \"rate\", \"study\", \"rock\", \"results\", \"wells\", \"injection\", \"formation\", \"distribution\", \"pressure\", \"production\", \"reservoir\", \"surfactant\", \"asp\", \"ift\", \"fingering\", \"tertiary\", \"corefloods\", \"ooip\", \"utchem\", \"gypsum\", \"lswi\", \"conformance\", \"finger\", \"recoveries\", \"ppg\", \"gridblock\", \"sulfate\", \"foaming\", \"brines\", \"nonionic\", \"four-phase\", \"acp\", \"ltg\", \"ulr\", \"geochemistry\", \"anhydrite\", \"koval\", \"co-solvent\", \"ros\", \"displacing\", \"co-solvents\", \"surfactants\", \"pilot\", \"retention\", \"floods\", \"flood\", \"flooding\", \"mobility\", \"polymer\", \"sweep\", \"imbibition\", \"viscous\", \"miscible\", \"foam\", \"eor\", \"unstable\", \"salinity\", \"wag\", \"geochemical\", \"recovery\", \"trapping\", \"chemical\", \"oil\", \"brine\", \"microemulsion\", \"wettability\", \"injection\", \"water\", \"experiments\", \"viscosity\", \"low\", \"permeability\", \"model\", \"reservoir\", \"high\", \"field\", \"saturation\", \"core\", \"reservoirs\", \"phase\", \"results\", \"pressure\", \"flow\", \"gas\", \"reserves\", \"north\", \"basins\", \"resource\", \"recoverable\", \"eur\", \"forecast\", \"frontier\", \"forecasts\", \"exploration\", \"worldwide\", \"relations\", \"technically\", \"american\", \"exponential\", \"sec\", \"trr\", \"dca\", \"arps\", \"analog\", \"analogous\", \"supply\", \"rate-time\", \"plots\", \"ugrs\", \"mcmc\", \"lrs\", \"tgs\", \"tcf\", \"exploitation\", \"fig\", \"resources\", \"unconventional\", \"curve\", \"decline\", \"america\", \"world\", \"probabilistic\", \"gas\", \"play\", \"forecasting\", \"plays\", \"production\", \"ultimate\", \"reservoirs\", \"development\", \"shale\", \"industry\", \"basin\", \"data\", \"uncertainty\", \"wells\", \"technology\", \"petroleum\", \"analysis\", \"methodology\", \"estimates\", \"estimate\", \"tight\", \"conventional\", \"reservoir\", \"oil\", \"paper\", \"performance\", \"work\", \"study\", \"model\", \"method\", \"recovery\", \"flow\", \"hcl\", \"acids\", \"berea\", \"chelating\", \"ves\", \"dissolved\", \"altered\", \"xrd\", \"low-salinity\", \"diffraction\", \"multi-component\", \"cations\", \"glass\", \"microscope\", \"charged\", \"dispersants\", \"huff-and-puff\", \"exposure\", \"plasma\", \"capillaries\", \"nanoparticle-stabilized\", \"engineered\", \"glda\", \"inductively\", \"sorbed\", \"ves-based\", \"medical\", \"klinkenberg\", \"hydrate-bearing\", \"suspensions\", \"nps\", \"iron\", \"fines\", \"iii\", \"silica\", \"stabilize\", \"x-ray\", \"adsorbed\", \"sandstone\", \"nanoparticles\", \"pore\", \"hydrate\", \"coal\", \"particles\", \"adsorption\", \"cores\", \"migration\", \"agents\", \"damage\", \"organic\", \"pores\", \"concentrations\", \"permeability\", \"shales\", \"methane\", \"fluids\", \"formation\", \"acid\", \"surface\", \"media\", \"effect\", \"shale\", \"fluid\", \"core\", \"gas\", \"samples\", \"water\", \"showed\", \"fracturing\", \"porous\", \"injection\", \"conditions\", \"experiments\", \"study\", \"high\", \"oil\", \"work\", \"results\", \"matrix\", \"cement\", \"casing\", \"lost\", \"circulation\", \"integrity\", \"bit\", \"rop\", \"annular\", \"cementing\", \"hole\", \"strengthening\", \"deepwater\", \"annulus\", \"hpht\", \"breakout\", \"rig\", \"mpd\", \"automated\", \"underbalanced\", \"failures\", \"managed\", \"contamination\", \"influx\", \"kick\", \"mudcake\", \"automation\", \"lcm\", \"vibration\", \"pga\", \"drillstring\", \"drilling\", \"strain\", \"failure\", \"real-time\", \"mud\", \"operations\", \"practices\", \"wellbore\", \"pipe\", \"top\", \"strength\", \"pressure\", \"control\", \"downhole\", \"stress\", \"data\", \"field\", \"fluid\", \"paper\", \"tests\", \"system\", \"formation\", \"fluids\", \"time\", \"wells\", \"model\", \"high\", \"temperature\", \"based\", \"methods\", \"combustion\", \"bitumen\", \"isc\", \"asphaltenes\", \"solvents\", \"chamber\", \"es-sagd\", \"coinjection\", \"edge\", \"aromatics\", \"oxidation\", \"steam-assisted\", \"narrow-boiling\", \"crude-oil\", \"n-hexane\", \"vrr\", \"saturates\", \"resins\", \"athabasca\", \"sara\", \"burning\", \"xwl\", \"pna\", \"impurities\", \"waals\", \"dilution\", \"oleic\", \"chamber-edge\", \"ftir\", \"snap-off\", \"sagd\", \"solvent\", \"fractions\", \"steam\", \"asphaltene\", \"upgrading\", \"tube\", \"cyclic\", \"heavy\", \"mixtures\", \"flash\", \"sor\", \"eos\", \"heating\", \"air\", \"gravity\", \"crude\", \"oil\", \"thermodynamic\", \"phase\", \"phases\", \"content\", \"research\", \"behavior\", \"thermal\", \"produced\", \"water\", \"temperature\", \"recovery\", \"samples\", \"in-situ\", \"results\", \"experimental\", \"viscosity\", \"reservoir\", \"injection\", \"experiments\", \"process\", \"high\", \"gas\", \"simulation\", \"fluid\", \"method\", \"resistivity\", \"organic-rich\", \"mudrocks\", \"relaxation\", \"acquired\", \"neutron\", \"sediment\", \"fabric\", \"cretaceous\", \"lwd\", \"magnetization\", \"nmr-based\", \"susceptibility\", \"pore-network\", \"depositional\", \"well-log\", \"archie\", \"cec\", \"maturation\", \"continental\", \"relaxivity\", \"inversion-based\", \"slowness\", \"permittivity\", \"mud-filtrate\", \"fib-sem\", \"eocene\", \"humidity\", \"high-angle\", \"paramagnetic\", \"mudrock\", \"sonic\", \"nmr\", \"maturity\", \"logs\", \"nuclear\", \"kerogen\", \"petrophysical\", \"magnetic\", \"dielectric\", \"measurements\", \"interpretation\", \"rock\", \"images\", \"electrical\", \"quantifying\", \"assessment\", \"porosity\", \"spatial\", \"density\", \"borehole\", \"properties\", \"quantify\", \"elastic\", \"formations\", \"rocks\", \"distribution\", \"samples\", \"hydrocarbon\", \"method\", \"pore\", \"formation\", \"conventional\", \"permeability\", \"saturation\", \"results\", \"nanoparticles\", \"water\", \"models\", \"model\", \"safety\", \"battery\", \"reactor\", \"facility\", \"emission\", \"flame\", \"hazards\", \"reduced-order\", \"measures\", \"wind\", \"vehicles\", \"electricity\", \"synthesis\", \"fire\", \"tpwl\", \"fuels\", \"hazard\", \"explosion\", \"high-fidelity\", \"surrogate\", \"profit\", \"fts\", \"pod\", \"resilience\", \"entails\", \"dust\", \"time-varying\", \"vehicle\", \"reforming\", \"wellhead\", \"online\", \"lift\", \"laminar\", \"plant\", \"incidents\", \"risk\", \"product\", \"management\", \"hybrid\", \"energy\", \"emissions\", \"optimization\", \"cycle\", \"power\", \"operating\", \"procedures\", \"system\", \"design\", \"procedure\", \"net\", \"process\", \"heat\", \"capture\", \"fuel\", \"optimal\", \"operations\", \"model\", \"study\", \"control\", \"analysis\", \"systems\", \"liquid\", \"approach\", \"framework\", \"gas\", \"modeling\", \"dynamic\", \"thermal\", \"work\", \"results\", \"based\"], \"Total\": [3608.0, 3864.0, 1070.0, 3634.0, 1699.0, 1519.0, 2719.0, 918.0, 1110.0, 1329.0, 708.0, 3417.0, 798.0, 2476.0, 838.0, 2032.0, 955.0, 1731.0, 767.0, 2001.0, 3993.0, 656.0, 762.0, 607.0, 432.0, 955.0, 1507.0, 706.0, 909.0, 2218.0, 189.78910226145544, 135.16360665090767, 94.44278265031753, 93.44959182103486, 74.5789660646638, 70.60620274753306, 68.61982108896768, 68.61982108896768, 62.660676113271556, 62.660676113271556, 59.6811036254235, 58.687912796140814, 56.70153113757544, 52.72876782044469, 50.74238616187932, 50.74238616187932, 50.74238616187932, 46.769622844748575, 46.769622844748575, 46.769622844748575, 45.776432015465886, 45.776432015465886, 44.783241186183204, 42.796859527617826, 41.803668698335144, 41.803668698335144, 41.803668698335144, 40.810477869052455, 40.810477869052455, 38.82409621048708, 38.82409621048708, 78.55515332300652, 103.38845607741192, 114.31928226917537, 69.61560077179375, 64.65048171304889, 330.92400910985623, 60.67771839591816, 152.08209016083302, 168.9766060822746, 245.5346190333271, 93.46698172991037, 434.41985579807357, 71.60982752214106, 461.26389659474984, 201.75479815556872, 294.3125099377529, 551.7389063164755, 1059.963567246822, 1519.7431696904446, 1233.7216018107495, 209.73997392365501, 205.79492892855697, 196.87672375394484, 287.2796402840721, 3045.963281066539, 319.1876797170651, 3417.8269277126537, 340.9950334246735, 1630.2219354710392, 395.8246492640265, 393.00967792941435, 1893.40322652349, 2476.8286178773255, 3993.7870844951785, 328.18843242835777, 1103.372919956071, 1138.1014540430529, 358.98058350523837, 674.5172829028289, 691.6106549910215, 2268.5538184156776, 627.8873999963105, 558.2988885003557, 753.3007593290009, 2218.213627213901, 2719.626425444912, 1501.2015041724246, 656.5715519977227, 557.2144109397694, 635.8589000185789, 2294.030561330224, 2032.055356326179, 1025.2282480840613, 969.5747511477512, 206.2800790783383, 166.43651865130911, 131.5734032776586, 127.58904723495567, 76.78850769049349, 76.78850769049349, 70.81197362643911, 56.86672747697888, 55.870638466303156, 54.874549455627424, 53.8784604449517, 52.88237143427597, 51.88628242360024, 46.90583737022159, 44.913659348870134, 44.913659348870134, 42.92148132751867, 42.92148132751867, 40.92930330616721, 34.952769242112836, 34.952769242112836, 33.95668023143711, 33.95668023143711, 32.96059122076138, 30.96841319940993, 29.972324188734202, 29.972324188734202, 28.97623517805847, 28.97623517805847, 27.980146167382742, 798.9779718468262, 3608.0220635182545, 90.73533111941047, 111.66358853121899, 70.81429282796736, 470.23482621174736, 1519.446381562107, 567.9304680281089, 1110.892937835405, 157.48328427124392, 273.96799506422417, 459.2496266682703, 909.5189379003875, 1060.1856745711257, 220.25213897856366, 778.007112963308, 799.5189506776248, 149.50850837988375, 513.7992395777336, 385.32480462735333, 1177.343332193569, 302.88300742930653, 838.6744578722677, 1821.9925793828893, 740.8962958196746, 3993.7870844951785, 1065.5244118146277, 2001.9586891638835, 3045.963281066539, 1093.6364573044577, 1649.556151523933, 1329.6155501267788, 2294.030561330224, 1432.2141256625334, 1507.325057498769, 1256.5911646407617, 745.9424018852174, 2476.8286178773255, 2719.626425444912, 3417.8269277126537, 708.2567938508118, 171.645637075454, 163.66628901931486, 127.75922276668868, 108.80827113335822, 80.8805529368712, 76.89087890880162, 75.89346040178422, 63.92443831757551, 60.932182796523314, 56.94250876845375, 55.945090261436356, 54.947671754418955, 51.95541623336678, 48.9631607123146, 41.981231163192845, 38.98897564214066, 37.99155713512327, 35.99672012108848, 34.999301614071086, 34.00188310705369, 34.00188310705369, 33.0044646000363, 29.014790571966735, 29.014790571966735, 27.01995355793195, 26.022535050914552, 26.022535050914552, 25.025116543897163, 25.025116543897163, 386.0948925517499, 154.68672026760905, 89.85874498921316, 276.3874097149493, 310.26662791703706, 408.0680349790267, 296.33270716872494, 607.4523793213136, 195.53717678878968, 230.47908476624784, 294.2797195203779, 107.82083105063887, 706.1313012107823, 418.0978141274326, 125.74814183982501, 418.9479360700723, 141.71333581745742, 126.75355760411571, 1699.5733796212007, 150.65695972052916, 495.6181635587615, 3864.8528452096743, 372.0252040237723, 134.72427384883292, 444.88785883560723, 1507.325057498769, 1731.9276362524104, 1008.2078164295758, 600.6375666243038, 849.2924666795228, 2032.055356326179, 3993.7870844951785, 3417.8269277126537, 1243.8503301606493, 1501.2015041724246, 627.8900762438112, 688.9170121560892, 2218.213627213901, 955.0461027361349, 2294.030561330224, 2476.8286178773255, 3045.963281066539, 3634.5787459357543, 435.8292518891553, 243.82527376588192, 190.10395346196086, 182.14523934286143, 117.4806871251787, 107.53229447630443, 102.5580981518673, 87.63550917855589, 83.65615211900618, 83.65615211900618, 79.67679505945648, 79.67679505945648, 73.7077594701319, 71.71808094035705, 70.72324167546962, 69.7284024105822, 68.73356314569477, 63.75936682125764, 61.76968829148278, 59.78000976170794, 53.810974172383375, 51.82129564260852, 48.83677784794624, 47.84193858305881, 44.85742078839653, 43.86258152350911, 40.878063728846826, 38.88838519907197, 37.89354593418454, 36.89870666929711, 36.89870666929711, 448.85827588426145, 918.330553113241, 179.1767010986642, 320.4657774584168, 91.6198652212588, 133.4327324560307, 147.29949010212567, 3634.5787459357543, 139.39903489282864, 135.35812205226708, 216.02909220146623, 2719.626425444912, 151.3774409109903, 2218.213627213901, 700.7034837954718, 2001.9586891638835, 445.0332272725524, 294.7523490768589, 2268.5538184156776, 515.1146740429397, 1432.2141256625334, 353.49757311180053, 272.8961543935636, 1478.0741000511812, 294.67855132124635, 273.8552358757118, 396.35258067465605, 480.87490793351026, 591.8307142692016, 3417.8269277126537, 3864.8528452096743, 1293.7673000678365, 1081.2725061724434, 963.9449244481607, 1649.556151523933, 3993.7870844951785, 1893.40322652349, 1699.5733796212007, 3045.963281066539, 113.70373770485287, 94.76805706545446, 93.7714422949598, 73.83914688506673, 60.88315486863621, 45.93393331121641, 45.93393331121641, 38.95762991775383, 38.95762991775383, 33.97455606528055, 33.97455606528055, 33.97455606528055, 32.9779412947859, 29.98809698330194, 28.991482212807288, 28.991482212807288, 28.991482212807288, 26.99825267181798, 25.00502313082867, 25.00502313082867, 23.011793589839364, 23.011793589839364, 22.015178819344708, 22.015178819344708, 22.015178819344708, 21.018564048850052, 21.018564048850052, 21.018564048850052, 21.018564048850052, 20.0219492783554, 80.81367477292207, 59.89099854955791, 116.69417646253139, 71.82879763801758, 106.73707914966317, 40.94823925405391, 148.6432145405783, 81.79253448734445, 335.987323412899, 429.6373750220506, 955.6782136043572, 234.08785337431934, 189.37286173609084, 229.30623291950658, 256.2919861726349, 408.79499593340626, 163.49644850767282, 189.45008098017698, 362.766161941172, 306.11593449596853, 265.12147488512943, 217.36621638038923, 2032.055356326179, 209.2576691051748, 227.1786174554651, 657.0091118655974, 1256.5911646407617, 1110.892937835405, 643.8891404992279, 557.2144109397694, 1065.5244118146277, 2001.9586891638835, 1821.9925793828893, 688.9170121560892, 3634.5787459357543, 655.2184957192414, 1731.9276362524104, 423.7764267246467, 909.5189379003875, 525.3994166126395, 1507.325057498769, 835.0337022993033, 1008.2078164295758, 1649.556151523933, 1243.8503301606493, 3864.8528452096743, 963.9449244481607, 2294.030561330224, 647.1073595433193, 342.6936928513566, 216.20906218034622, 122.59051664432279, 121.59457467053531, 119.60269072296033, 86.73660558797339, 86.73660558797339, 84.74472164039842, 84.74472164039842, 84.74472164039842, 68.80965005979868, 63.82994019086126, 62.83399821707377, 62.83399821707377, 60.84211426949881, 55.86240440056139, 51.87863650541145, 51.87863650541145, 48.89081058404901, 46.89892663647404, 38.931390846174175, 38.931390846174175, 37.93544887238669, 36.939506898599205, 36.939506898599205, 32.955739003449274, 30.96385505587431, 30.96385505587431, 30.96385505587431, 30.96385505587431, 1070.7180943912629, 74.78893608887513, 343.62589802309634, 156.46201767912402, 266.0438374853219, 431.3325671863399, 157.4032746619824, 838.6744578722677, 72.79518239760756, 72.81408942016735, 261.08120531172096, 2476.8286178773255, 592.8085684590579, 193.38174975582663, 778.007112963308, 2268.5538184156776, 1501.2015041724246, 1821.9925793828893, 1293.7673000678365, 477.46903974360316, 898.8515705643234, 1256.5911646407617, 657.0091118655974, 1138.1014540430529, 1432.2141256625334, 3993.7870844951785, 1243.8503301606493, 1177.343332193569, 1025.2282480840613, 963.5665315983019, 348.6862085432493, 217.83764504067886, 163.90006924572612, 137.9301253444526, 95.97867750393382, 91.9833015191225, 85.99023754190554, 66.01335761784898, 52.029541671009376, 40.043413716575444, 38.045725724169785, 34.050349739358474, 33.051505743155644, 33.051505743155644, 28.057285762141507, 28.057285762141507, 27.05844176593868, 27.05844176593868, 27.05844176593868, 27.05844176593868, 26.059597769735852, 26.059597769735852, 25.060753773533023, 25.060753773533023, 25.060753773533023, 24.061909777330197, 23.063065781127367, 23.063065781127367, 22.064221784924538, 21.065377788721708, 230.8169638243955, 255.79086591801544, 84.98921836055767, 432.5449140595384, 227.75920823146194, 68.99456803957369, 97.95407323925774, 34.04728542598172, 278.63366951365805, 139.87180665685634, 96.89837716325468, 43.03566923762763, 105.93718219306797, 116.91591321618648, 97.9051889302963, 273.51193614310034, 283.57312345419825, 3864.8528452096743, 112.78372847503591, 955.0461027361349, 226.48314025605876, 219.6085613782132, 335.18214319848596, 1053.3756635742573, 506.6642369561755, 303.2684835730584, 1731.9276362524104, 1177.343332193569, 1699.5733796212007, 655.2184957192414, 373.1417947935766, 2294.030561330224, 856.529487901927, 600.6375666243038, 3417.8269277126537, 1507.325057498769, 1008.2078164295758, 1065.3838557118397, 1243.8503301606493, 3634.5787459357543, 1519.7431696904446, 1821.9925793828893, 1893.40322652349, 167.53001412617178, 165.5366765040562, 106.73321665164632, 82.81316518625925, 67.86313302039234, 44.93975036606306, 42.94641274394748, 41.94974393288968, 37.9630686886585, 31.98305582231174, 30.98638701125395, 29.989718200196155, 28.99304938913836, 27.996380578080565, 26.999711767022774, 26.999711767022774, 26.999711767022774, 26.00304295596498, 26.00304295596498, 26.00304295596498, 24.009705333849386, 24.009705333849386, 23.013036522791595, 22.0163677117338, 21.019698900676005, 21.019698900676005, 20.02303008961821, 20.02303008961821, 20.02303008961821, 19.02636127856042, 44.93969632549992, 40.952495321449824, 212.37908385307287, 88.77671213707272, 244.24394439917117, 93.77598170226359, 313.07353224906507, 254.2136690721563, 200.41738286292198, 68.88372886804551, 762.5112917173417, 291.02672139963295, 1329.6155501267788, 169.53164913204657, 162.57512415427342, 87.75799967972043, 312.82893655255174, 503.9823114124414, 256.85574140835655, 286.14224628417884, 197.36538994084796, 1280.8686706036776, 248.1541384490807, 205.2605125195315, 665.6317004163245, 435.6572615848742, 745.9424018852174, 655.2184957192414, 521.3988815092671, 1893.40322652349, 955.6782136043572, 1256.5911646407617, 591.8307142692016, 2032.055356326179, 627.8900762438112, 2294.030561330224, 429.6373750220506, 1731.9276362524104, 1630.2219354710392, 3993.7870844951785, 165.38908121759053, 74.77313008041786, 52.865977058244226, 52.865977058244226, 50.874417692592075, 48.88285832693993, 39.92084118150527, 38.92506149867919, 38.92506149867919, 37.929281815853116, 36.93350213302704, 36.93350213302704, 35.93772245020097, 33.94616308454882, 33.94616308454882, 33.94616308454882, 33.94616308454882, 31.954603718896674, 30.958824036070606, 29.96304435324453, 28.96726467041846, 28.96726467041846, 27.971484987592387, 27.971484987592387, 26.975705304766315, 26.975705304766315, 26.975705304766315, 26.975705304766315, 26.975705304766315, 25.97992562194024, 25.97992562194024, 25.97992562194024, 25.97992562194024, 39.92390549488202, 66.80754178165489, 254.97877240850568, 63.82372900767393, 242.93769237618352, 168.31359132646278, 767.11622736282, 119.61309082387164, 656.5715519977227, 83.74690798097316, 155.3284845344012, 137.62352089882177, 128.5465014167164, 898.8515705643234, 812.6599234492455, 246.94504310646676, 119.58987357773006, 1065.3838557118397, 290.18177855080813, 234.9312970655625, 143.59443101302742, 420.17377675231694, 431.3325671863399, 3993.7870844951785, 1649.556151523933, 592.8085684590579, 1478.0741000511812, 549.2602369182493, 364.6718012507473, 1233.7216018107495, 199.92035227712313, 3634.5787459357543, 1103.372919956071, 373.3843435889422, 506.6642369561755, 963.9449244481607, 2294.030561330224, 1025.2282480840613], \"loglift\": [30.0, 29.0, 28.0, 27.0, 26.0, 25.0, 24.0, 23.0, 22.0, 21.0, 20.0, 19.0, 18.0, 17.0, 16.0, 15.0, 14.0, 13.0, 12.0, 11.0, 10.0, 9.0, 8.0, 7.0, 6.0, 5.0, 4.0, 3.0, 2.0, 1.0, 1.6153, 1.6151, 1.6149, 1.6149, 1.6146, 1.6146, 1.6146, 1.6146, 1.6144, 1.6144, 1.6144, 1.6144, 1.6143, 1.6142, 1.6141, 1.6141, 1.6141, 1.614, 1.614, 1.614, 1.614, 1.614, 1.6139, 1.6139, 1.6138, 1.6138, 1.6138, 1.6138, 1.6138, 1.6137, 1.6137, 1.6019, 1.5955, 1.5885, 1.6001, 1.5989, 1.5175, 1.5978, 1.5474, 1.5354, 1.4854, 1.56, 1.421, 1.5719, 1.3803, 1.4667, 1.4214, 1.3479, 1.2616, 1.2013, 1.2233, 1.4449, 1.4411, 1.4384, 1.369, 0.9663, 1.3403, 0.8831, 1.3144, 0.9844, 1.2556, 1.2555, 0.8817, 0.817, 0.6087, 1.2749, 0.9325, 0.8042, 1.2146, 0.95, 0.9278, 0.4011, 0.9504, 0.9878, 0.8395, 0.2896, 0.1807, 0.4603, 0.8933, 0.9729, 0.8775, -0.0794, -0.0417, 0.4477, 0.4491, 1.8844, 1.8843, 1.8842, 1.8842, 1.8838, 1.8838, 1.8837, 1.8834, 1.8834, 1.8834, 1.8833, 1.8833, 1.8833, 1.8831, 1.883, 1.883, 1.883, 1.883, 1.8829, 1.8825, 1.8825, 1.8825, 1.8825, 1.8824, 1.8822, 1.8822, 1.8822, 1.8821, 1.8821, 1.882, 1.8296, 1.7662, 1.8504, 1.8002, 1.8257, 1.6809, 1.5542, 1.6257, 1.5564, 1.7343, 1.6616, 1.5773, 1.4798, 1.4054, 1.622, 1.3705, 1.3644, 1.6611, 1.3724, 1.4281, 1.107, 1.4041, 1.1024, 0.7618, 1.0256, 0.3864, 0.8577, 0.4916, 0.2971, 0.753, 0.5411, 0.6389, 0.3434, 0.5852, 0.4924, 0.5347, 0.8831, -0.1019, -0.2435, -0.5487, 2.014, 2.0136, 2.0136, 2.0135, 2.0133, 2.0131, 2.013, 2.013, 2.0128, 2.0128, 2.0127, 2.0127, 2.0126, 2.0125, 2.0125, 2.0122, 2.012, 2.012, 2.0119, 2.0118, 2.0117, 2.0117, 2.0117, 2.0113, 2.0113, 2.0111, 2.011, 2.011, 2.0109, 2.0109, 2.0061, 2.0006, 2.002, 1.9807, 1.9712, 1.9533, 1.9584, 1.9302, 1.9562, 1.928, 1.8877, 1.9462, 1.8267, 1.8507, 1.9309, 1.826, 1.9176, 1.9229, 1.6104, 1.8944, 1.6806, 1.3098, 1.6378, 1.8446, 1.4667, 1.0599, 1.0002, 1.0694, 1.2625, 1.0872, 0.6807, 0.3497, 0.3685, 0.8204, 0.689, 1.1602, 1.0711, 0.2446, 0.8367, 0.1314, 0.0547, -0.1636, -0.592, 2.0306, 2.0305, 2.0304, 2.0304, 2.0301, 2.0301, 2.03, 2.0299, 2.0299, 2.0299, 2.0298, 2.0298, 2.0297, 2.0297, 2.0297, 2.0297, 2.0297, 2.0296, 2.0295, 2.0295, 2.0293, 2.0293, 2.0292, 2.0291, 2.029, 2.029, 2.0289, 2.0288, 2.0287, 2.0287, 2.0287, 1.9757, 1.9436, 1.979, 1.953, 1.9854, 1.9604, 1.9161, 1.4588, 1.8842, 1.8885, 1.7861, 1.2982, 1.8262, 1.0746, 1.3625, 1.0558, 1.4805, 1.5971, 0.9188, 1.4089, 1.041, 1.5144, 1.5814, 0.9216, 1.5493, 1.5722, 1.3952, 1.2662, 1.1355, 0.1637, 0.0741, 0.488, 0.5889, 0.6311, 0.0291, -0.7615, -0.1926, -0.0943, -0.6827, 2.28, 2.2798, 2.2798, 2.2796, 2.2793, 2.2789, 2.2789, 2.2786, 2.2786, 2.2783, 2.2783, 2.2783, 2.2782, 2.278, 2.2779, 2.2779, 2.2779, 2.2777, 2.2775, 2.2775, 2.2772, 2.2772, 2.277, 2.277, 2.277, 2.2769, 2.2769, 2.2769, 2.2769, 2.2767, 2.2673, 2.2454, 2.1812, 2.2078, 2.1609, 2.2288, 2.088, 2.1359, 1.9777, 1.9379, 1.8034, 1.9807, 1.9463, 1.8985, 1.849, 1.6978, 1.8901, 1.8454, 1.6617, 1.6892, 1.7078, 1.7633, 1.0607, 1.746, 1.7191, 1.3111, 0.9962, 1.0074, 1.2125, 1.2676, 0.9515, 0.6208, 0.6668, 1.1583, 0.2339, 1.1251, 0.5039, 1.3461, 0.8443, 1.1949, 0.4398, 0.8431, 0.6696, 0.2762, 0.4792, -0.5356, 0.6212, -0.1826, 0.9639, 2.5334, 2.5333, 2.533, 2.533, 2.533, 2.5327, 2.5327, 2.5327, 2.5327, 2.5327, 2.5325, 2.5324, 2.5324, 2.5324, 2.5323, 2.5322, 2.5321, 2.5321, 2.532, 2.532, 2.5316, 2.5316, 2.5316, 2.5315, 2.5315, 2.5312, 2.5311, 2.5311, 2.5311, 2.5311, 2.3515, 2.4636, 2.2736, 2.3597, 2.2978, 2.0537, 2.233, 1.7741, 2.353, 2.3194, 1.8552, 0.8887, 1.453, 1.9094, 1.2482, 0.5296, 0.749, 0.5865, 0.7715, 1.3448, 0.9543, 0.6968, 1.1045, 0.7395, 0.5408, -0.3468, 0.3873, 0.3338, 0.449, 0.4953, 2.5622, 2.562, 2.5619, 2.5618, 2.5616, 2.5615, 2.5615, 2.5612, 2.5609, 2.5604, 2.5603, 2.5601, 2.56, 2.56, 2.5596, 2.5596, 2.5595, 2.5595, 2.5595, 2.5595, 2.5593, 2.5593, 2.5592, 2.5592, 2.5592, 2.5591, 2.5589, 2.5589, 2.5588, 2.5586, 2.5577, 2.5543, 2.5497, 2.488, 2.4213, 2.4863, 2.4542, 2.5303, 2.3159, 2.3742, 2.4065, 2.4883, 2.3412, 2.2997, 2.3081, 2.0916, 2.0496, 1.2789, 2.2053, 1.5772, 1.967, 1.9653, 1.7836, 1.3218, 1.5538, 1.7667, 0.9244, 1.0813, 0.8852, 1.2354, 1.581, 0.44, 1.0395, 1.2447, 0.0155, 0.5662, 0.8383, 0.7607, 0.5711, -0.3538, 0.272, 0.097, 0.0586, 2.7381, 2.7381, 2.7378, 2.7376, 2.7374, 2.7368, 2.7367, 2.7367, 2.7365, 2.7361, 2.736, 2.7359, 2.7358, 2.7357, 2.7356, 2.7356, 2.7356, 2.7355, 2.7355, 2.7355, 2.7352, 2.7352, 2.7351, 2.7349, 2.7348, 2.7348, 2.7346, 2.7346, 2.7346, 2.7344, 2.7143, 2.712, 2.6448, 2.6313, 2.5552, 2.6253, 2.5023, 2.5152, 2.4522, 2.5634, 2.0976, 2.2548, 1.8249, 2.3028, 2.2593, 2.4039, 2.0331, 1.888, 2.0696, 2.0346, 2.1416, 1.4935, 2.0088, 2.065, 1.5721, 1.7398, 1.4677, 1.4973, 1.5286, 0.7913, 1.104, 0.9221, 1.3288, 0.4317, 1.2765, 0.2442, 1.5007, 0.2271, 0.1672, -0.7209, 2.7906, 2.79, 2.7896, 2.7896, 2.7895, 2.7894, 2.7891, 2.789, 2.789, 2.789, 2.7889, 2.7889, 2.7888, 2.7887, 2.7887, 2.7887, 2.7887, 2.7886, 2.7885, 2.7884, 2.7883, 2.7883, 2.7882, 2.7882, 2.7881, 2.7881, 2.7881, 2.7881, 2.7881, 2.788, 2.788, 2.788, 2.788, 2.7637, 2.7283, 2.5736, 2.7084, 2.363, 2.406, 2.0577, 2.4335, 1.931, 2.4863, 2.2412, 2.2813, 2.3001, 1.5579, 1.5796, 2.0227, 2.2796, 1.3765, 1.9039, 1.8602, 2.0966, 1.4825, 1.4562, 0.1745, 0.6669, 1.1895, 0.5573, 1.1697, 1.4312, 0.4894, 1.8328, -0.4007, 0.5082, 1.3417, 1.0477, 0.4803, -0.4513, 0.3202], \"logprob\": [30.0, 29.0, 28.0, 27.0, 26.0, 25.0, 24.0, 23.0, 22.0, 21.0, 20.0, 19.0, 18.0, 17.0, 16.0, 15.0, 14.0, 13.0, 12.0, 11.0, 10.0, 9.0, 8.0, 7.0, 6.0, 5.0, 4.0, 3.0, 2.0, 1.0, -6.1419, -6.4815, -6.8403, -6.8508, -7.0766, -7.1314, -7.16, -7.16, -7.251, -7.251, -7.2997, -7.3165, -7.351, -7.4238, -7.4622, -7.4622, -7.4622, -7.5439, -7.5439, -7.5439, -7.5654, -7.5654, -7.5874, -7.6328, -7.6563, -7.6563, -7.6563, -7.6804, -7.6804, -7.7304, -7.7304, -7.0374, -6.7692, -6.6757, -7.16, -7.2352, -5.6838, -7.2997, -6.4313, -6.3379, -6.0143, -6.9055, -5.5081, -7.16, -5.4889, -6.2294, -5.897, -5.3421, -4.7755, -4.4755, -4.662, -6.2124, -6.2351, -6.2822, -5.9737, -4.0152, -5.897, -3.9833, -5.8569, -4.6223, -5.7666, -5.7738, -4.5753, -4.3714, -4.1019, -5.9346, -5.0645, -5.1618, -5.9053, -5.5391, -5.5363, -4.8751, -5.6104, -5.6904, -5.5391, -5.009, -4.9142, -5.2288, -5.6228, -5.7072, -5.6706, -5.3445, -5.4281, -5.6228, -5.6772, -5.7895, -6.0042, -6.2393, -6.2701, -6.7783, -6.7783, -6.8594, -7.079, -7.0967, -7.1147, -7.1331, -7.1517, -7.1708, -7.2719, -7.3153, -7.3153, -7.3608, -7.3608, -7.4084, -7.5666, -7.5666, -7.5956, -7.5956, -7.6254, -7.6879, -7.7207, -7.7207, -7.7546, -7.7546, -7.7897, -4.4902, -3.046, -6.6448, -6.4874, -6.9174, -5.169, -4.1228, -5.0354, -4.4339, -6.2095, -5.7285, -5.2962, -4.7104, -4.6315, -5.9864, -4.9759, -4.9547, -6.3346, -5.3888, -5.6209, -4.8251, -5.8857, -5.169, -4.7336, -5.3696, -4.3243, -5.1742, -4.9096, -4.6845, -5.2529, -5.0538, -5.1716, -4.9217, -5.1509, -5.1926, -5.3322, -5.5054, -5.2903, -5.3384, -5.4151, -4.4264, -5.8441, -5.8917, -6.1395, -6.3002, -6.5971, -6.6477, -6.6608, -6.8326, -6.8806, -6.9484, -6.9661, -6.9841, -7.0402, -7.0996, -7.2537, -7.3278, -7.3538, -7.4078, -7.436, -7.465, -7.465, -7.4948, -7.624, -7.624, -7.6954, -7.7331, -7.7331, -7.7724, -7.7724, -5.041, -5.9611, -6.5029, -5.4006, -5.2945, -5.0384, -5.3532, -4.6637, -5.7712, -5.635, -5.4309, -6.3764, -4.6166, -5.1167, -6.238, -5.1394, -6.1317, -6.238, -3.9546, -6.0937, -5.1167, -3.4336, -5.4464, -6.2553, -5.4386, -4.6251, -4.5459, -5.0178, -5.3426, -5.1715, -4.7056, -4.3609, -4.4979, -5.0567, -5.0001, -5.4006, -5.3969, -5.0541, -5.3046, -5.1337, -5.1337, -5.1452, -5.3969, -4.8952, -5.4762, -5.7252, -5.7679, -6.2067, -6.2953, -6.3427, -6.5, -6.5465, -6.5465, -6.5953, -6.5953, -6.6733, -6.7007, -6.7147, -6.7288, -6.7432, -6.8184, -6.8502, -6.883, -6.9883, -7.026, -7.0855, -7.1061, -7.1706, -7.1931, -7.2637, -7.3137, -7.3396, -7.3663, -7.3663, -4.9207, -4.237, -5.8358, -5.2804, -6.5, -6.1491, -6.0946, -3.346, -6.1816, -6.2067, -5.8416, -3.7966, -6.1571, -4.224, -5.0886, -4.3455, -5.4245, -5.7199, -4.3574, -5.3498, -4.6952, -5.6209, -5.8126, -4.7831, -5.7679, -5.8184, -5.6256, -5.5613, -5.4844, -4.7027, -4.6694, -5.3498, -5.4284, -5.501, -5.5658, -5.4721, -5.6496, -5.6593, -5.6642, -5.9896, -6.1719, -6.1825, -6.4217, -6.6148, -6.897, -6.897, -7.062, -7.062, -7.1992, -7.1992, -7.1992, -7.2291, -7.3243, -7.3582, -7.3582, -7.3582, -7.4297, -7.5066, -7.5066, -7.5899, -7.5899, -7.6344, -7.6344, -7.6344, -7.6809, -7.6809, -7.6809, -7.6809, -7.7296, -6.3437, -6.6653, -6.0623, -6.521, -6.1719, -7.062, -5.9136, -6.463, -5.2084, -5.0022, -4.3373, -5.5668, -5.8131, -5.6696, -5.6078, -5.2921, -6.0162, -5.9136, -5.4477, -5.59, -5.7152, -5.8583, -4.3256, -5.9136, -5.8583, -5.2044, -4.8708, -4.9828, -5.3231, -5.4126, -5.0804, -4.7804, -4.8287, -5.3097, -4.571, -5.3931, -5.0423, -5.6078, -5.3459, -5.544, -5.2452, -5.4325, -5.4175, -5.3186, -5.3979, -5.2791, -5.5109, -5.4477, -5.5668, -4.6329, -5.0936, -5.6613, -5.6694, -5.686, -6.0075, -6.0075, -6.0308, -6.0308, -6.0308, -6.2393, -6.3145, -6.3302, -6.3302, -6.3625, -6.448, -6.5221, -6.5221, -6.5815, -6.6232, -6.8097, -6.8097, -6.8357, -6.8624, -6.8624, -6.9767, -7.0392, -7.0392, -7.0392, -7.0392, -3.6756, -6.2249, -4.89, -5.5907, -5.1216, -4.8825, -5.7113, -4.4972, -6.3625, -6.3958, -5.5831, -4.2997, -5.1652, -5.8291, -5.0982, -4.7467, -4.9401, -4.909, -5.0663, -5.4899, -5.2477, -5.1702, -5.4109, -5.2265, -5.1954, -5.0574, -5.4899, -5.5983, -5.6214, -5.6372, -4.5868, -5.0573, -5.342, -5.5146, -5.8774, -5.92, -5.9874, -6.2521, -6.4904, -6.7528, -6.804, -6.9152, -6.9451, -6.9451, -7.1093, -7.1093, -7.1457, -7.1457, -7.1457, -7.1457, -7.1834, -7.1834, -7.2226, -7.2226, -7.2226, -7.2634, -7.306, -7.306, -7.3504, -7.3969, -5.0038, -4.9045, -6.0109, -4.4454, -5.1536, -6.2828, -5.9644, -6.9451, -5.0573, -5.6882, -6.0229, -6.7528, -5.9991, -5.942, -6.111, -5.3002, -5.306, -3.4646, -6.0723, -4.5641, -5.6135, -5.646, -5.4049, -4.7215, -5.2215, -5.5218, -4.6218, -4.8509, -4.6798, -5.2828, -5.5002, -4.8251, -5.2107, -5.3604, -4.8509, -5.1188, -5.2489, -5.2713, -5.306, -5.1586, -5.4049, -5.3984, -5.3984, -5.1439, -5.1558, -5.595, -5.8489, -6.0482, -6.461, -6.5065, -6.53, -6.63, -6.8018, -6.8336, -6.8664, -6.9003, -6.9353, -6.9717, -6.9717, -6.9717, -7.0094, -7.0094, -7.0094, -7.0894, -7.0894, -7.132, -7.1764, -7.2229, -7.2229, -7.2717, -7.2717, -7.2717, -7.3229, -6.4835, -6.5788, -5.0, -5.8857, -4.9497, -5.837, -4.7544, -4.9497, -5.2505, -6.2073, -4.2689, -5.0749, -3.9856, -5.5673, -5.6527, -6.1246, -5.2244, -4.8926, -5.385, -5.312, -5.5765, -4.3544, -5.4803, -5.6138, -4.9303, -5.1864, -4.9207, -5.0208, -5.218, -4.6657, -5.0367, -4.9448, -5.2911, -4.9546, -5.2842, -5.0208, -5.4395, -5.3191, -5.4395, -5.4315, -5.1042, -5.8987, -6.2458, -6.2458, -6.2843, -6.3243, -6.5272, -6.5525, -6.5525, -6.5784, -6.6051, -6.6051, -6.6325, -6.6896, -6.6896, -6.6896, -6.6896, -6.7502, -6.782, -6.8148, -6.8487, -6.8487, -6.8837, -6.8837, -6.9201, -6.9201, -6.9201, -6.9201, -6.9201, -6.9578, -6.9578, -6.9578, -6.9578, -6.5525, -6.073, -4.8884, -6.1386, -5.1473, -5.4713, -4.3028, -5.7854, -4.585, -6.089, -5.7164, -5.7973, -5.8467, -4.6441, -4.7232, -5.4713, -5.9395, -4.6556, -5.4287, -5.6836, -5.9395, -5.48, -5.48, -4.5361, -4.928, -5.4287, -5.1473, -5.5249, -5.6729, -5.3959, -5.8724, -5.2056, -5.4888, -5.7388, -5.7275, -5.6518, -5.7164, -5.7503]}, \"token.table\": {\"Topic\": [2, 5, 2, 5, 5, 2, 8, 3, 8, 4, 5, 3, 5, 5, 8, 4, 7, 9, 1, 7, 8, 5, 2, 4, 4, 4, 4, 1, 2, 3, 4, 5, 6, 7, 8, 9, 1, 3, 6, 6, 1, 2, 3, 4, 5, 6, 9, 1, 8, 8, 7, 4, 3, 5, 7, 7, 4, 8, 9, 7, 6, 6, 2, 1, 2, 3, 4, 5, 6, 7, 8, 9, 4, 8, 4, 9, 2, 1, 2, 3, 4, 6, 7, 5, 6, 7, 6, 8, 6, 3, 5, 9, 3, 7, 5, 1, 3, 8, 9, 6, 5, 8, 6, 6, 7, 7, 5, 5, 2, 3, 7, 8, 9, 6, 2, 2, 3, 3, 4, 5, 6, 9, 7, 7, 1, 2, 3, 4, 7, 8, 1, 2, 9, 1, 9, 1, 2, 3, 5, 7, 8, 1, 2, 3, 4, 5, 6, 7, 9, 2, 2, 8, 3, 1, 6, 2, 5, 7, 8, 8, 1, 2, 3, 6, 9, 1, 2, 3, 4, 5, 6, 7, 8, 1, 2, 3, 5, 8, 3, 2, 3, 5, 8, 1, 2, 3, 5, 1, 8, 2, 8, 1, 3, 5, 7, 7, 4, 5, 1, 3, 6, 9, 7, 9, 2, 5, 6, 2, 1, 2, 3, 4, 6, 7, 8, 9, 4, 2, 4, 5, 6, 1, 3, 4, 8, 2, 4, 5, 6, 7, 8, 8, 1, 1, 2, 3, 4, 6, 9, 1, 2, 3, 4, 6, 8, 9, 2, 7, 8, 5, 1, 5, 1, 5, 7, 1, 5, 5, 3, 5, 1, 2, 4, 5, 8, 2, 3, 2, 6, 7, 4, 5, 6, 6, 9, 1, 2, 3, 5, 8, 9, 2, 7, 2, 3, 4, 5, 6, 7, 8, 9, 1, 2, 8, 9, 3, 8, 9, 9, 2, 9, 4, 7, 8, 9, 3, 4, 5, 7, 9, 5, 1, 9, 8, 3, 7, 3, 7, 1, 2, 7, 1, 2, 7, 7, 2, 3, 4, 8, 9, 4, 8, 2, 4, 2, 3, 5, 6, 7, 8, 9, 1, 2, 3, 5, 6, 7, 9, 4, 4, 9, 4, 5, 8, 9, 1, 2, 6, 6, 1, 8, 1, 2, 3, 4, 6, 8, 4, 1, 5, 8, 3, 3, 9, 1, 9, 1, 7, 1, 1, 2, 3, 3, 7, 3, 7, 1, 2, 3, 4, 5, 6, 7, 2, 1, 2, 3, 4, 5, 6, 7, 8, 2, 3, 4, 5, 6, 7, 1, 3, 5, 9, 3, 4, 1, 4, 4, 2, 3, 4, 5, 6, 7, 8, 2, 3, 4, 5, 6, 7, 8, 3, 7, 8, 1, 2, 4, 2, 1, 2, 3, 4, 8, 1, 2, 3, 8, 1, 2, 4, 5, 6, 1, 9, 4, 7, 9, 4, 7, 9, 9, 1, 3, 1, 2, 3, 4, 5, 6, 7, 9, 1, 3, 8, 3, 1, 2, 4, 1, 3, 4, 7, 8, 1, 1, 2, 6, 8, 5, 5, 1, 3, 7, 1, 3, 3, 1, 3, 3, 9, 9, 5, 2, 6, 7, 9, 3, 7, 1, 3, 7, 2, 3, 4, 6, 9, 1, 2, 3, 8, 1, 2, 3, 4, 5, 6, 7, 8, 9, 8, 9, 1, 3, 4, 8, 6, 1, 2, 3, 4, 6, 7, 6, 5, 2, 8, 1, 7, 8, 9, 1, 5, 9, 5, 1, 2, 4, 5, 8, 2, 3, 4, 7, 8, 3, 1, 5, 1, 5, 7, 8, 3, 8, 7, 2, 3, 5, 6, 7, 8, 9, 6, 9, 5, 2, 4, 5, 6, 7, 9, 6, 1, 2, 3, 5, 7, 6, 2, 3, 4, 8, 2, 8, 5, 7, 7, 1, 1, 8, 2, 5, 7, 8, 6, 5, 3, 9, 6, 2, 2, 3, 4, 5, 6, 9, 9, 1, 2, 3, 4, 5, 7, 9, 1, 3, 7, 1, 2, 8, 6, 1, 2, 3, 4, 5, 6, 7, 8, 5, 4, 3, 3, 8, 5, 8, 8, 6, 1, 4, 6, 9, 1, 1, 2, 3, 1, 2, 3, 5, 8, 8, 4, 8, 4, 1, 2, 3, 5, 6, 7, 8, 9, 1, 5, 7, 8, 9, 5, 4, 5, 9, 1, 2, 3, 4, 6, 7, 8, 2, 4, 9, 1, 2, 3, 4, 6, 7, 8, 9, 3, 5, 5, 1, 2, 5, 6, 8, 3, 7, 5, 7, 9, 3, 7, 8, 1, 2, 3, 4, 6, 8, 9, 1, 2, 3, 4, 6, 8, 9, 1, 2, 3, 4, 6, 8, 9, 6, 5, 6, 8, 6, 5, 8, 8, 5, 1, 5, 7, 5, 5, 8, 7, 1, 2, 4, 5, 8, 9, 2, 3, 4, 9, 8, 5, 8, 8, 3, 1, 6, 9, 2, 4, 4, 5, 5, 8, 1, 2, 3, 6, 8, 2, 3, 4, 5, 7, 9, 7, 9, 3, 3, 4, 7, 9, 2, 5, 6, 9, 1, 2, 3, 4, 5, 6, 9, 1, 3, 9, 5, 7, 8, 9, 8, 1, 7, 1, 2, 3, 4, 5, 6, 7, 8, 9, 8, 1, 1, 2, 3, 4, 6, 7, 8, 9, 3, 5, 6, 2, 2, 1, 2, 3, 4, 5, 6, 7, 9, 2, 1, 2, 3, 4, 5, 8, 8, 2, 4, 6, 7, 8, 2, 4, 7, 8, 6, 1, 3, 5, 7, 9, 1, 3, 7, 1, 3, 7, 2, 6, 7, 9, 5, 2, 4, 5, 7, 2, 4, 8, 4, 7, 9, 2, 3, 1, 2, 3, 5, 6, 7, 8, 8, 1, 4, 5, 7, 8, 1, 2, 5, 8, 1, 3, 5, 8, 1, 4, 5, 7, 9, 3, 4, 6, 1, 2, 3, 5, 6, 7, 1, 4, 1, 4, 6, 7, 9, 1, 2, 9, 2, 4, 8, 9, 1, 2, 3, 4, 5, 6, 7, 9, 3, 4, 5, 6, 7, 5, 9, 1, 2, 3, 4, 5, 7, 9, 1, 2, 3, 6, 7, 1, 2, 3, 4, 5, 6, 7, 8, 1, 2, 3, 4, 5, 6, 8, 9, 2, 5, 8, 2, 5, 1, 2, 2, 4, 6, 7, 8, 9, 1, 4, 5, 8, 1, 2, 3, 4, 5, 6, 7, 9, 4, 9, 2, 6, 8, 4, 3, 3, 4, 5, 7, 9, 9, 1, 1, 9, 4, 8, 8, 1, 2, 3, 4, 5, 6, 7, 8, 9, 4, 1, 2, 3, 4, 7, 8, 1, 2, 3, 4, 5, 7, 8, 9, 7, 8, 4, 4, 7, 1, 2, 3, 4, 5, 6, 7, 8, 9, 3, 7, 6, 4, 6, 9, 2, 3, 4, 5, 6, 7, 8, 2, 3, 5, 8, 6, 3, 9, 1, 7, 3, 5, 8, 2, 5, 7, 8, 3, 5, 8, 7, 7, 1, 3, 5, 7, 8, 1, 5, 4, 8, 2, 2, 1, 1, 1, 2, 4, 5, 7, 8, 4, 5, 6, 8, 2, 3, 5, 6, 7, 8, 3, 5, 1, 2, 3, 4, 7, 8, 1, 2, 3, 4, 8, 8, 7, 1, 2, 3, 4, 5, 7, 9, 3, 7, 7, 1, 2, 8, 3, 7, 5, 2, 1, 2, 8, 1, 1, 3, 5, 3, 7, 7, 2, 4, 5, 6, 8, 1, 8, 1, 1, 2, 3, 6, 8, 6, 2, 4, 5, 6, 8, 1, 2, 3, 4, 5, 6, 7, 9, 3, 4, 2, 3, 5, 6, 8, 3, 3, 7, 9, 8, 5, 1, 3, 9, 1, 2, 4, 5, 6, 9, 1, 2, 4, 5, 6, 9, 4, 4, 2, 4, 6, 7, 9, 2, 3, 5, 6, 7, 9, 3, 2, 3, 5, 6, 7, 4, 2, 5, 6, 7, 8, 9, 1, 3, 7, 1, 2, 3, 4, 8, 1, 2, 3, 4, 5, 6, 8, 9, 9, 3, 6, 9, 1, 2, 3, 5, 8, 1, 2, 3, 2, 3, 4, 5, 9, 1, 2, 4, 5, 6, 4, 5, 7, 4, 3, 3, 4, 1, 4, 8, 1, 2, 4, 5, 6, 2, 3, 4, 6, 8, 1, 7, 9, 3, 1, 9, 9, 5, 5, 6, 3, 5, 6, 7, 1, 2, 3, 7, 7, 1, 7, 3, 8, 1, 2, 3, 5, 7, 8, 8, 1, 2, 3, 6, 9, 1, 2, 3, 4, 6, 8, 2, 3, 7, 8, 2, 9, 1, 2, 3, 4, 5, 9, 3, 4, 7, 4, 2, 5, 2, 2, 5, 7, 5, 7], \"Freq\": [0.7201414040481835, 0.27995497082373133, 0.7673024234123245, 0.2315528023315299, 1.0024474801080425, 0.9461366812313777, 0.0564857720138136, 0.9999446175658047, 1.0020168090318868, 0.13448660160667844, 0.8680498830976517, 0.351161974839811, 0.6476987535934292, 0.649247545124407, 0.35365516685638426, 0.04085585292979521, 0.776261205666109, 0.18385133818407845, 0.6971838491193878, 0.22900199423629525, 0.07378953147613958, 1.0014382980951353, 0.04365865405215494, 0.9604903891474086, 1.0039309342350835, 1.0036799966940282, 1.0035127746807013, 0.20093715192608802, 0.11839731174096095, 0.029091910884921832, 0.32948280467341706, 0.0737446113129414, 0.040593364025472325, 0.03991680795838112, 0.06089004603820849, 0.10689585860041045, 1.005415260539402, 0.9994902402645283, 1.0030123216485956, 1.002641910233895, 0.6751928464066731, 0.10537223293261404, 0.032422225517727395, 0.06079167284573887, 0.000810555637943185, 0.025127224776238733, 0.09969834346701174, 0.9768982324716836, 0.019344519454884825, 1.000010675409416, 0.9989158337777413, 1.0037285554596036, 1.0020645029526163, 0.1317180553662282, 0.8693391654171061, 1.0005065945918117, 0.2493375480528697, 0.49228182564284534, 0.2589274537472109, 0.9978401651342595, 1.002339373251953, 1.001343043666722, 1.0019223695504125, 0.3111502249339547, 0.12680103210474644, 0.10826857356636042, 0.12289946188613886, 0.018532458538386018, 0.12387485444079074, 0.037064917076772036, 0.0663266937163289, 0.08485915225471492, 0.6480016210157339, 0.35283857898238913, 0.9994531756964136, 1.003034110239041, 1.001019968326652, 0.16708189308532753, 0.16613256414734273, 0.2012577348527809, 0.13955135388376788, 0.03607449964342299, 0.28954532608536876, 1.0024373913789368, 1.0030367157008406, 1.0007453025820712, 0.4509402587083482, 0.5522751483057298, 1.002595007297114, 0.6854374306954364, 0.2903029118239495, 0.024191909318662462, 1.0002222300298642, 0.9977130203519463, 0.9997991151296927, 0.3830907210923184, 0.15323628843692735, 0.06810501708307883, 0.39586041179539566, 0.9990330554222013, 1.0007489114698234, 0.9998829769281183, 1.0008938219612238, 1.0030123216485956, 1.0001815381770573, 0.9972655074687002, 1.0002938030946533, 1.0021784259666981, 0.09281338615538078, 0.7162772192426125, 0.004035364615451338, 0.05044205769314172, 0.1372023969253455, 1.0033342386415118, 0.99864223884541, 1.0027542182530615, 0.9991340178475902, 0.9989963465763244, 0.16369821798015313, 0.7181599240419622, 0.021122350707116534, 0.10033116585880354, 0.9997976528034476, 1.0008999250588708, 0.46063938699476237, 0.23894838518460296, 0.07699447967059428, 0.047789677036920594, 0.04513469497931389, 0.13142161185153162, 0.7390136960914632, 0.09970819709170535, 0.16129267176599393, 0.991157143442434, 0.014364596281774406, 1.0051439127210202, 0.19782282967446205, 0.11961380398920961, 0.598069019946048, 0.032203716458633354, 0.05520637107194289, 0.09580451636828113, 0.18083102464513065, 0.09221184700447059, 0.0682607179124003, 0.23711617801149582, 0.11376786318733385, 0.1520896697346463, 0.05987782273017571, 1.0011956332632104, 0.9462088150597153, 0.05381875535392561, 1.0010096364348826, 1.004696508889725, 1.001762309343042, 0.05919623496650116, 0.3278560705836987, 0.5509803408420492, 0.06374979150238586, 0.9998829769281183, 0.08603114515123998, 0.04385901517514195, 0.3306294990126086, 0.33906392500782817, 0.20242622388527057, 1.0045307890377988, 0.09462165218841227, 0.05406951553623558, 0.4089007112427816, 0.05913853261775767, 0.003379344721014724, 0.13686346120109633, 0.2450024922735675, 0.9987895658087149, 0.15096157906525398, 0.3890163768220007, 0.3251480164482394, 0.13499448897181365, 1.0014768329195527, 0.09050991418208895, 0.3424699455538501, 0.5577367684734129, 0.00978485558725286, 0.7648545266045499, 0.11599689503007392, 0.038061481181743004, 0.08156031681802073, 0.8406426771577936, 0.16035380546940572, 1.0018293560718974, 1.0009728220772767, 1.0055403658155768, 0.2891670374158162, 0.11284567313787948, 0.5994926385449847, 0.9984416521426922, 0.9487840715762982, 0.05022974496580402, 0.0477629574205746, 0.15522961161686744, 0.05970369677571825, 0.7403258400189062, 0.9692402665035219, 0.02937091716677339, 0.4052197129230544, 0.5375363538775212, 0.055131933731027816, 1.001275736269495, 0.2966647714225324, 0.11901855614276931, 0.07626003782481144, 0.3288438625277996, 0.13488769696180522, 0.015869140819035905, 0.00969780827829972, 0.018954807089404, 1.003774083569822, 0.02808412202818701, 0.9236555689270395, 0.04680687004697835, 1.0026642639587353, 0.7797280718483948, 0.038290217813983674, 0.1322752979028527, 0.04873300449052467, 0.08037960244834948, 0.04543194920993666, 0.2271597460496833, 0.0559162451814605, 0.09785342906755588, 0.49625667598546197, 1.000010675409416, 1.0046439576511614, 0.12182217572610866, 0.3150149190493315, 0.13658850005654607, 0.006152635137682255, 0.1230527027536451, 0.2977875406638212, 0.11417097509872119, 0.10275387758884907, 0.07991968256910484, 0.5123422507555113, 0.0670754478704987, 0.01997992064227621, 0.10418101477758308, 1.0021916693794204, 0.1596893806528931, 0.8419985525334364, 1.0007489114698234, 0.9888308523485327, 0.01648051420580888, 0.9899384862136673, 0.015467788847088552, 0.9974270630260395, 0.9802030387922231, 0.012729909594704197, 1.0002938030946533, 0.9989963465763244, 1.0014382980951353, 0.10188454203424487, 0.3673205857550407, 0.16087032952775504, 0.08847868124026527, 0.2801824905941734, 0.9224134863908944, 0.08059923667493252, 0.3412938402064045, 0.5377963542646375, 0.1241068509841471, 0.06817854333684611, 0.09899898073569435, 0.8330857624173524, 1.0011673270030643, 1.0009006139027399, 0.28121157676497066, 0.19283079549597987, 0.12319745267798714, 0.09641539774798993, 0.07231154831099246, 0.2356820833839754, 1.0023435940300076, 0.9994322135067771, 0.35850891426263976, 0.17925445713131988, 0.008446545100428686, 0.26465841314676547, 0.04786375556909588, 0.08071143095965189, 0.01595458518969863, 0.045986745546778396, 0.14128387210979274, 0.3459018937860443, 0.5115450541906289, 0.004871857658958371, 0.3137011290337644, 0.6212512555374551, 0.06766102783081193, 1.0018004755339325, 1.0022861334738433, 1.0024684765566607, 0.15884548981329472, 0.12540433406312743, 0.016720577875083655, 0.7022642707535135, 0.05866125418139085, 0.2346450167255634, 0.09385800669022536, 0.13296550947781927, 0.4797187008611518, 0.9994874980173396, 1.005577374750984, 1.0009006139027399, 0.9988498199565634, 0.8490836067652797, 0.1506824428907398, 0.19823068317720594, 0.8023622890505955, 0.8240875623475301, 0.10819026656517854, 0.06905761695649694, 0.7581746269608967, 0.17231241521838558, 0.06892496608735424, 1.0001135298421486, 0.18670245535941776, 0.09839723998672018, 0.5298312922361855, 0.15390337536384438, 0.03279907999557339, 0.6317206221995164, 0.36880799330723213, 1.0022243436240417, 0.9950499105510883, 0.23817043415481112, 0.18446533625715764, 0.16228279582117033, 0.08522765535931967, 0.2183228979752435, 0.05487260002586335, 0.05837510641049292, 0.015869744054020248, 0.18845321064149045, 0.38880872932349614, 0.19936365967862937, 0.01785346206077278, 0.17853462060772782, 0.010910449037138921, 1.002745172930063, 1.004110252172544, 1.0014206491653808, 1.0039132584702544, 1.0000647200470067, 1.001198006528734, 1.0025351454605316, 0.07566368003570105, 0.15423750161123675, 0.7711875080561837, 1.0021551317007618, 1.0049257860388603, 0.9990628362104953, 0.31508095261385527, 0.15853967594523796, 0.265787103790546, 0.06727944231289511, 0.16786553923613431, 0.025313057503861525, 1.002745172930063, 1.005343339100731, 0.9083572395237297, 0.09426348712038704, 1.0009814934305592, 1.0018846172362132, 1.0015859499442423, 1.004696508889725, 1.0023963752748786, 0.14448126387517055, 0.8565674929742254, 1.0048401769964714, 0.003223034351820114, 0.038676412221841365, 0.9572412024905739, 0.941019553319672, 0.0588137220824795, 0.9660353207672124, 0.032562988340467836, 0.5223306564099204, 0.2045329974502705, 0.11326466150937933, 0.06631728007215834, 0.02396614576865128, 0.03841149390318082, 0.0315171232026099, 1.0008201487113662, 0.11800267598939437, 0.32546784586842264, 0.055433815232227124, 0.03347982900164213, 0.1992324250425589, 0.1427009104988025, 0.08507169664351688, 0.0417125738381115, 0.07914654311618968, 0.08066859202227025, 0.031963027027691986, 0.3789901776140621, 0.23896167825464962, 0.19025611326007136, 1.0048839102282716, 0.8284578222165168, 0.11470954461459464, 0.056646688698565255, 1.000282755770773, 0.9945582244413224, 0.13298056834040217, 0.8643736942126141, 1.004110252172544, 0.2594320326079946, 0.04933983442237934, 0.04854403064137322, 0.2769397157901292, 0.1591607562012237, 0.044565011736342634, 0.16234397132524817, 0.31248511732524875, 0.02704198130699268, 0.07511661474164634, 0.163754220136789, 0.09765159916414023, 0.01352099065349634, 0.3109827850304158, 1.0000199542818486, 0.9883606605680144, 0.01176619834009541, 0.06513263939712353, 0.8880211771420586, 0.04656290816475214, 1.000923378884184, 0.4780934889660545, 0.19343914191718653, 0.23904674448302726, 0.06919774182403421, 0.02201746330764725, 0.18098697218738247, 0.7186828131949878, 0.03422299110452323, 0.0664715788760932, 0.03298446986629504, 0.6673857736280363, 0.01869119959090052, 0.23748818303732427, 0.04397929315506005, 0.6152450143220105, 0.38515338294955126, 1.004159168182631, 0.9970893247198767, 1.0011300801078042, 0.1880295761438719, 0.3133826269064532, 0.5014122030503251, 1.0015859499442423, 0.8380879001532748, 0.16253825942366543, 0.07070970749701919, 0.055577279822559826, 0.07373619303191106, 0.5643019847330208, 0.12903833780584434, 0.011005401945061352, 0.05420160457942716, 0.04099512224535354, 1.0055403658155768, 0.9151616900749889, 0.08678257405883516, 0.9994902402645283, 0.8624330206304803, 0.004956511612818852, 0.13382581354610903, 0.7099579905238219, 0.06703466004945959, 0.06703466004945959, 0.05484654004046693, 0.10055199007418937, 1.0011112215402864, 0.23875960980236655, 0.6332320086062765, 0.03633298410036012, 0.09083246025090032, 1.0006688927309597, 0.9993105293638873, 0.09871598432133401, 0.2778672151267179, 0.6252012340351153, 0.879713015013503, 0.12218236319631985, 1.0007523878595554, 0.970964808357003, 0.02624229211775684, 1.0011820468730457, 1.0015859499442423, 1.001982894552117, 1.0026055633801252, 0.18953636673768615, 0.062030083659606376, 0.33771934436896806, 0.41353389106404254, 0.23093520169555476, 0.7697840056518491, 0.039478358876010866, 0.1794470858000494, 0.7823892940882153, 0.8026299058184296, 0.06019724293638223, 0.006688582548486914, 0.040131495290921484, 0.0936401556788168, 0.6972784552785646, 0.08842299251720927, 0.16168775774575408, 0.05305379551032556, 0.09969045068628539, 0.09325880870652503, 0.3030911282962064, 0.03296216514627178, 0.1648108257313589, 0.1165735108831563, 0.1366723920699074, 0.016079104949400867, 0.036981941383622, 0.9988498199565634, 1.001330023513859, 0.7913040727761014, 0.13224533818997858, 0.058534821821793794, 0.019511607273931267, 1.0030123216485956, 0.17135303657766576, 0.5941072436086952, 0.003752256275423338, 0.13508122591524016, 0.046277827396887836, 0.04877933158050339, 1.002641910233895, 1.0002938030946533, 1.002315375969345, 0.9988498199565634, 0.23765163398133182, 0.07723678104393285, 0.005941290849533295, 0.683248447696329, 0.2563140254187248, 0.7390387732906564, 0.0042719004236454125, 0.9991167784437173, 0.21317020727659164, 0.618759539705505, 0.09149340754791765, 0.06508293938975586, 0.011318772067783627, 1.001275736269495, 0.12658255002188176, 0.3107026227809825, 0.2646726045912073, 0.29727720080896475, 1.0020389720001885, 0.06960996375294465, 0.9327735142894583, 0.053087432618495835, 0.1887553159768741, 0.11207346886126898, 0.6488463986705046, 0.9154843712347975, 0.08243698129602442, 0.9975757403754876, 0.10451790859175918, 0.16615667519715563, 0.16079678244886028, 0.05091898110880575, 0.375192492380674, 0.10451790859175918, 0.04019919561221507, 0.05987347974983246, 0.9430073060598613, 0.9993105293638873, 0.09437497567856405, 0.5774849702235944, 0.06965772014370204, 0.2134672068919901, 0.013482139382652008, 0.03370534845663002, 1.0017016044236213, 0.07165010590297853, 0.24878508994089768, 0.3854510326817641, 0.15855903065566546, 0.1360025158343574, 1.0033219091864745, 0.23021940967405785, 0.04123332710580141, 0.11339164954095388, 0.615063795994871, 1.0007095685811822, 0.9995957745538966, 0.9684259973058695, 0.03339399990709895, 1.000609705381662, 1.0045307890377988, 0.9635548972473907, 0.04189369118466916, 1.0032209094271827, 0.16290102722393998, 0.04791206683057058, 0.7889520338100623, 1.0016376261211837, 0.9991167784437173, 0.9992615250840766, 1.0007726880496843, 1.0011673270030643, 1.0019223695504125, 0.617400103053474, 0.05612728209577037, 0.11225456419154074, 0.07593691107074814, 0.0627304917540963, 0.07593691107074814, 1.0007726880496843, 0.153562737255614, 0.06581260168097743, 0.1617893124657362, 0.13985177857207703, 0.04387506778731829, 0.18098465462268792, 0.2577660232504949, 0.8222552281287092, 0.13251220618603166, 0.04417073539534388, 0.008188534642772445, 0.15967642553406267, 0.8311362662414031, 1.0033402531197846, 0.055340182379994274, 0.12480977302722113, 0.3956234314825122, 0.08595390029233153, 0.19545681436338402, 0.02943626722340121, 0.09419605511488387, 0.020016661711912822, 1.0010875939407922, 1.00298292678347, 1.001112994814303, 0.9999446175658047, 1.0005297860774278, 0.24947935795668053, 0.7534276610291751, 1.0004393215879317, 1.001762309343042, 0.13583729917422713, 0.16876755351949432, 0.04527909972474238, 0.650372523319027, 1.0050768964096177, 0.9065525369614676, 0.0664805193771743, 0.02719657610884403, 0.32915712803872255, 0.2611622283499723, 0.07263091557661953, 0.26734358286713145, 0.06954023831803997, 0.9998829769281183, 0.10137793778737661, 0.9011372247766809, 1.0031329318001323, 0.03803222367328578, 0.13114559887339924, 0.0170489278535419, 0.170489278535419, 0.03147494372961582, 0.08655609525644349, 0.5272053074710649, 1.0019251993043954, 0.5258299036197595, 0.362517544475056, 0.030508902257801743, 0.061017804515603485, 0.019741054402107012, 0.9991167784437173, 0.26851118597003576, 0.5722369537066336, 0.16286744067034956, 0.48008791115721844, 0.09242616551431598, 0.03855491475740038, 0.10827065103105586, 0.05651199834303891, 0.08186317516982272, 0.14260036965065895, 0.11198643352913992, 0.6176221485546505, 0.27148226310094525, 0.305116450560328, 0.07160896288660759, 0.0944408061258158, 0.18161693485733807, 0.12972638204095577, 0.0809492623935564, 0.07472239605559053, 0.06226866337965877, 0.8461726810115411, 0.15587391492317862, 1.0003969247099838, 0.036698044849080756, 0.1345594977799628, 0.678913829707994, 0.06116340808180126, 0.0917451121227019, 0.9367392090732873, 0.06492251944072289, 0.15013747589261303, 0.8293308192163387, 0.021448210841801863, 0.9448838863425715, 0.03374585308366326, 0.02024751185019796, 0.36531742156816055, 0.2235972977795527, 0.18929401693319353, 0.061345283265386796, 0.05608711612835364, 0.03154900282219893, 0.07311356209588957, 0.504815724516944, 0.10603849150535448, 0.15860458131142763, 0.001812623786416316, 0.038065099514742635, 0.08972487742760764, 0.10241324393252185, 0.531829428334546, 0.14660580550398675, 0.08649129111323067, 0.07606326310667094, 0.03987187178978719, 0.07667667651882153, 0.04293893885054005, 1.002339373251953, 0.21049162622716122, 0.7893435983518546, 0.9990628362104953, 1.0016376261211837, 0.022252041775203867, 0.9790898381089701, 1.0024995344160235, 1.0007489114698234, 0.9232047181965751, 0.07693372651638127, 0.9979582571661724, 0.9994874980173396, 0.709900994959636, 0.2909430307211623, 0.9984416521426922, 0.05128922929484959, 0.4238109999627045, 0.24699813055151248, 0.09852930890852683, 0.09043100954618216, 0.09043100954618216, 0.22577162423748828, 0.058533384061571034, 0.11706676812314207, 0.6020576646333021, 1.0013406757591257, 0.08946267050075653, 0.9087523898234743, 1.0003428441619628, 1.0000911160489203, 0.8439020787922272, 0.04767808354758346, 0.10965959215944196, 1.0022558097251588, 1.0007166042773967, 0.012374143396026662, 0.9899314716821329, 0.10663711345352535, 0.895751753009613, 0.701910917497368, 0.08490857872952032, 0.1207588675264289, 0.01792514439845429, 0.07547429220401806, 0.012160876980932033, 0.49445608320342793, 0.14127316662955083, 0.059769416650963816, 0.27711274992719587, 0.015265781742021062, 0.9972655074687002, 1.0007726880496843, 1.0014191682127578, 0.12352539659625539, 0.0508633985984581, 0.22525219379317157, 0.6030945833817175, 0.0695519009744509, 0.04868633068211563, 0.619011918672613, 0.2642972237029134, 0.11185847999197115, 0.3926946638016009, 0.007139902978210925, 0.1880174450928877, 0.009519870637614567, 0.021419708934632773, 0.27131631317201516, 0.4858571758544702, 0.0913837948315618, 0.42341158271956963, 0.5520784152522634, 0.09800208554773908, 0.32340688230753895, 0.02613388947939709, 0.9967579601367492, 1.0049257860388603, 0.9987981376803982, 0.0989358750938353, 0.12289690734312353, 0.1329450821573412, 0.21410341719525294, 0.04405738187772353, 0.1715919083658706, 0.05797023931279412, 0.09584412899715294, 0.06260785845781765, 0.9986144865970707, 1.004696508889725, 0.3114767578698828, 0.18667977872334038, 0.1392362990477953, 0.1608952788996746, 0.06703969954153108, 0.0680710795344777, 0.046412099682598434, 0.02062759985893264, 0.13082941365370956, 0.6803129509992897, 0.18752215957031704, 0.9956419514630283, 1.0013512737019492, 0.2145620078894341, 0.17941823073513025, 0.1304019099672854, 0.23675807767109971, 0.10635616770381433, 0.049016320767844866, 0.06566337310409406, 0.018496724818054665, 1.0018293560718974, 0.19044756767830887, 0.12204391933907131, 0.26377234179734765, 0.02903464210082745, 0.29526754678807576, 0.09940674075198551, 0.9992565662080092, 0.08061674613513307, 0.6376051739778708, 0.06595915592874525, 0.10993192654790875, 0.10626752899631178, 0.1219446621936011, 0.051138084145703686, 0.027535891463071217, 0.7985408524290653, 1.0011673270030643, 0.2492026293999295, 0.30783854219991286, 0.054447633314270306, 0.3738039440998942, 0.014658978199995851, 0.2075209657851902, 0.2428436833656481, 0.5519174621946548, 0.00646467905111695, 0.9890958948208934, 0.00646467905111695, 0.16484607366536916, 0.8379675411322932, 0.02504764971273147, 0.9768583387965273, 0.9997991151296927, 0.08608380975683023, 0.8608380975683023, 0.03586825406534593, 0.014347301626138372, 0.21293428367092768, 0.7823020421823212, 0.004629006166759297, 1.0033038255058744, 0.9975757403754876, 1.0010194314824636, 0.08066475935899053, 0.9202367445239941, 0.06278263870190044, 0.05859712945510708, 0.028252187415855202, 0.620501745837116, 0.01360290505207843, 0.021973923545665158, 0.19462617997589138, 1.0001292817801695, 0.13201495659740364, 0.022631135416697767, 0.5657783854174442, 0.10184010937513994, 0.18104908333358213, 0.22024582507452628, 0.08532045475860027, 0.267866544009559, 0.42660227379300136, 0.5157980603541473, 0.07042261340628579, 0.3368865560246645, 0.07613255503382248, 0.2961465834028156, 0.02575187681763614, 0.08369359965731744, 0.019313907613227103, 0.5794172283968131, 1.0008581158590466, 0.26047742709321614, 0.7433136334123486, 0.44976870501226385, 0.1372723157128992, 0.14090599465824064, 0.03795175787356625, 0.19298872620813476, 0.04118169471386976, 0.10862223615918074, 0.8893445585532923, 0.668559835901258, 0.025070993846297174, 0.21728194666790884, 0.0334279917950629, 0.05571331965843816, 0.1943752318174919, 0.3442061396768085, 0.46569065956274097, 0.18670286422030152, 0.12446857614686768, 0.0777928600917923, 0.6145635947251592, 0.08259933687581789, 0.12859214945439829, 0.2402889800023793, 0.023465720703357354, 0.050685956719251885, 0.06570401796940059, 0.16519867375163577, 0.24310486648678217, 0.05275853201589128, 0.20114190331058548, 0.2868745178364088, 0.009892224752979614, 0.45174493038606905, 0.07834076882907952, 0.9244210721831383, 0.238268018701867, 0.1191340093509335, 0.09596906308825198, 0.48058071056071017, 0.014340204829279033, 0.05184535592123958, 1.0011300801078042, 0.23550054316826932, 0.5994559280646855, 0.06617370634480295, 0.07006627730626194, 0.029194282210942477, 0.16629339516877434, 0.20532940342435516, 0.06401905353915256, 0.0655804938693758, 0.09837074080406369, 0.06948409469493387, 0.04450104941136215, 0.2880857409261865, 0.5144419702734123, 0.048923876135511836, 0.15270179521083999, 0.06226675144519689, 0.02816829232044621, 0.08746996036349086, 0.04595879273335961, 0.06226675144519689, 0.7712211699449127, 0.1725563348278572, 0.05634492565807582, 0.9698537373957373, 0.0330631955930365, 1.0052638589547147, 1.0026552906794097, 0.16924964565367534, 0.1652198921857307, 0.08865457629478232, 0.04029753467944651, 0.4835704161533581, 0.05641654855122511, 0.011394972579703013, 0.21650447901435724, 0.05697486289851506, 0.7178832725212898, 0.1408146180309056, 0.32277636470720567, 0.08686616047361059, 0.10241063129520406, 0.13624271484808398, 0.09418120556612516, 0.08412301856391763, 0.033832083552879914, 1.0033421974021701, 1.0025351454605316, 0.09586991285490357, 0.8372639055994912, 0.06391327523660237, 0.9959083732233663, 1.0009523287140338, 0.667814649022667, 0.11944173898819505, 0.019416637372465205, 0.1871057783164829, 0.006472212457488402, 1.0019251993043954, 1.0047466210050082, 1.0050768964096177, 1.0009006139027399, 1.0040564500655722, 1.0022561003835626, 0.9995957745538966, 1.0050768964096177, 0.008950357472425015, 0.05966904981616676, 0.14320571955880024, 0.11635464714152519, 0.09248702721505848, 0.45945168358448407, 0.04176833487131673, 0.08055321725182513, 1.0003917775369702, 0.48071480351392787, 0.08777507063553155, 0.19281257182938433, 0.15448412431853553, 0.0784123964344082, 0.005851671375702104, 0.26552897916319723, 0.11901468675566054, 0.17040739240015032, 0.38454366591885775, 0.026147166029652696, 0.010819516977787323, 0.02389309999261367, 1.0010194314824636, 0.9978401651342595, 0.9968363034591963, 0.9992026179581447, 0.9468467505979252, 0.053468992974941655, 0.18351978700574834, 0.21403376584280864, 0.1521339802019149, 0.07454129115910443, 0.08500322676038224, 0.049258280122683046, 0.1198763454313083, 0.0823877428600628, 0.039232258504791805, 0.9904433899080579, 0.01112857741469728, 1.0024631163107836, 0.13726632875903066, 0.058828426611013146, 0.8039884970171797, 0.2880531894828403, 0.08573906945442245, 0.01955452461241214, 0.06844083614344249, 0.06242405933962336, 0.07596180714821638, 0.40086775455444884, 0.16985829578691278, 0.22035670804788685, 0.24331053180287507, 0.3672611800798114, 1.0030367157008406, 0.9991340178475902, 0.9976474794180721, 0.004332437197990333, 0.9964605555377766, 0.8282652094076949, 0.15515054354899185, 0.016708520074506815, 0.13125392607483818, 0.3143989392025194, 0.26556026903513774, 0.2884533956760979, 0.13393362446802476, 0.7381230859571143, 0.12798101893611255, 0.9978401651342595, 0.9978401651342595, 0.18315307782527404, 0.4252336676465058, 0.08281704388621086, 0.07644650204881002, 0.2325247770651305, 0.9337062625180204, 0.06575396214915637, 1.0038950783329086, 1.001247770247355, 1.001727287984942, 1.000923378884184, 1.0049257860388603, 0.9953116306202353, 0.11838406121106468, 0.24825687097847743, 0.37713065913229465, 0.19031361738993943, 0.022477986305898357, 0.04345744019140349, 0.29628543730379714, 0.5877920772317266, 0.08123955538975083, 0.03823037900694157, 0.11326727248844476, 0.23125401466390805, 0.39171598402253816, 0.0896699240533521, 0.10146859827089844, 0.07315178014878725, 0.11242578582438068, 0.8900374711096803, 0.6606379420047034, 0.060536544486486765, 0.11251901203466562, 0.053956485303172985, 0.10133291142303219, 0.011844106529964801, 0.5337642723962008, 0.05731696884791418, 0.3850983844469234, 0.021493863317967817, 0.001791155276497318, 0.9994335157475337, 0.99689643407408, 0.5031732774627622, 0.059281909126359916, 0.280504643183264, 0.06795731046192478, 0.037593405787447756, 0.024580303784100452, 0.028918004451882886, 0.007818887483812764, 0.992998710444221, 1.0002221586775386, 0.9922368719330085, 0.024418536456708335, 0.9767414582683334, 0.06970961653773917, 0.9294615538365223, 0.9993105293638873, 1.0020074821185943, 0.40100330027759695, 0.0856511903505547, 0.5139071421033281, 1.0053177424275295, 0.024421074464172455, 0.024421074464172455, 0.9524219041027256, 0.0716688579436931, 0.9293832546246653, 0.9985213150600837, 0.73598317858655, 0.12411550644802766, 0.14153522665125962, 0.9359673189737019, 0.06685480849812157, 0.9415089518381133, 0.05349482680898371, 1.005415260539402, 0.053623162890199375, 0.21832287748152604, 0.21832287748152604, 0.5055898215361656, 0.003830225920728527, 1.0027663262352866, 0.5976809109480855, 0.035989388186121275, 0.0449867352326516, 0.27634708785771694, 0.0449867352326516, 0.10123935450497881, 0.26067618225832867, 0.11457627545773051, 0.13518788056652858, 0.13458165688685805, 0.04364810493627829, 0.09093355195057977, 0.11942606489509476, 1.0004470768552307, 1.0034484733578244, 0.2842104152558222, 0.22053485773949044, 0.3432267856368126, 0.0776531189223558, 0.07454699416546155, 0.9996374283267857, 0.9919841142386128, 0.0077701105553938336, 1.0012333742299275, 1.0002397336950781, 0.9989037391889146, 0.05625528700295032, 0.9461116450496191, 1.0017329297894524, 0.1980304711357925, 0.05228894462574296, 0.12349091177569083, 0.1290535654592805, 0.20581818629281803, 0.2914830530200991, 0.3040453118124695, 0.05279828768000967, 0.2548882853517708, 0.11287909779864137, 0.07828711621518676, 0.19844873645245015, 1.0028092928014802, 1.0039648543378465, 0.17256129784152027, 0.5968923581075537, 0.06789296964256536, 0.07637959084788602, 0.08769508578831359, 0.4595091212620494, 0.08323825117131393, 0.06794959279290934, 0.11041808828847767, 0.22763113585624628, 0.051811564504593365, 1.0017620798919487, 0.15498387086990473, 0.17383326057029855, 0.30159023520630107, 0.30368461183967815, 0.06702005226806691, 1.0028701320550253, 0.10460576479287662, 0.11644792684490039, 0.06118450393545614, 0.3651333299373995, 0.17960612445569382, 0.17565873710501922, 0.265995816999793, 0.03546610893330574, 0.7004556514327883, 0.10813623073714204, 0.2412269762597784, 0.1497270887129659, 0.4658176093292272, 0.03743177217824147, 0.44460008218288305, 0.06589922166742337, 0.09050159775659478, 0.13619172477934166, 0.04920475217834279, 0.1660660386019069, 0.03426759526706016, 0.014058500622383653, 1.0009006139027399, 0.19227048104954278, 0.8102827415659303, 1.0015859499442423, 0.5144234459903129, 0.10670703059241785, 0.15926422476480276, 0.1783759317365791, 0.04300134068649674, 0.04646317045681196, 0.06637595779544565, 0.8894378344589718, 0.8166132719125407, 0.025519164747266898, 0.06592450893043948, 0.07017770305498397, 0.023392567684994658, 0.05110085941504988, 0.7993634437068518, 0.047450798028260605, 0.0803013505093641, 0.021900368320735664, 1.0038763719224109, 0.10208865919821934, 0.8983802009443301, 1.0031784977624114, 0.9998647273909634, 0.18496811566833105, 0.8125385081144543, 0.41155884443378876, 0.5377443391894315, 0.052415513206190076, 0.03811263807062302, 0.026134380391284354, 0.9168811787275595, 0.019600785293463267, 1.002233332085245, 1.0008201487113662, 0.9224788398683301, 0.015904807583936725, 0.055666826543778546, 0.007952403791968363, 0.9951889375622328, 0.9276092570547159, 0.07246947320739967, 1.0014038047237765, 1.0048839102282716, 1.0009006139027399, 1.0018004755339325, 1.0019191701155419, 0.9991167784437173, 1.0011673270030643, 0.4711660004726532, 0.2563942193384756, 0.0033297950563438393, 0.26804850203567904, 0.044175657164508726, 0.03058314726773681, 0.8801150158159815, 0.044175657164508726, 0.9979582571661724, 1.0046439576511614, 0.9975757403754876, 0.9102883596372778, 0.09173448585491947, 0.07332869881030704, 0.1189426138182933, 0.36260175474703005, 0.16917565945999968, 0.1945808779454604, 0.08141217741931726, 1.000010675409416, 0.04173252168522651, 0.4578653807750566, 0.03338601734818121, 0.4674042428745369, 1.0007726880496843, 0.1536083160038862, 0.27230565109779825, 0.032816322055375685, 0.37145283688212477, 0.13615282554889913, 0.03351454167357517, 0.05394617884788886, 0.5776736651628098, 0.10789235769577772, 0.2607398644314628, 0.9973772663905351, 1.001864474642315, 0.1068525777641969, 0.22096698120168876, 0.13589988045737664, 0.24690207289202779, 0.1898448711732819, 0.09959075209090197, 0.007494412964446517, 0.9293072075913681, 0.05995530371557214, 1.0040564500655722, 0.8572338367510836, 0.1396973659890655, 1.0027542182530615, 1.0013512737019492, 0.82748479559033, 0.17491548524673642, 1.0010875939407922, 0.9977130203519463], \"Term\": [\"acid\", \"acid\", \"acidizing\", \"acidizing\", \"acids\", \"acoustic\", \"acoustic\", \"acp\", \"acquired\", \"adsorbed\", \"adsorbed\", \"adsorption\", \"adsorption\", \"agents\", \"agents\", \"air\", \"air\", \"air\", \"algorithm\", \"algorithm\", \"algorithm\", \"altered\", \"america\", \"america\", \"american\", \"analog\", \"analogous\", \"analysis\", \"analysis\", \"analysis\", \"analysis\", \"analysis\", \"analysis\", \"analysis\", \"analysis\", \"analysis\", \"analytic\", \"anhydrite\", \"annular\", \"annulus\", \"approach\", \"approach\", \"approach\", \"approach\", \"approach\", \"approach\", \"approach\", \"approximation\", \"approximation\", \"archie\", \"aromatics\", \"arps\", \"asp\", \"asphaltene\", \"asphaltene\", \"asphaltenes\", \"assessment\", \"assessment\", \"assessment\", \"athabasca\", \"automated\", \"automation\", \"ball\", \"based\", \"based\", \"based\", \"based\", \"based\", \"based\", \"based\", \"based\", \"based\", \"basin\", \"basin\", \"basins\", \"battery\", \"bedding\", \"behavior\", \"behavior\", \"behavior\", \"behavior\", \"behavior\", \"behavior\", \"berea\", \"bit\", \"bitumen\", \"borehole\", \"borehole\", \"breakout\", \"brine\", \"brine\", \"brine\", \"brines\", \"burning\", \"capillaries\", \"capture\", \"capture\", \"capture\", \"capture\", \"casing\", \"cations\", \"cec\", \"cement\", \"cementing\", \"chamber\", \"chamber-edge\", \"charged\", \"chelating\", \"chemical\", \"chemical\", \"chemical\", \"chemical\", \"chemical\", \"circulation\", \"closure\", \"clusters\", \"co-solvent\", \"co-solvents\", \"coal\", \"coal\", \"coal\", \"coal\", \"coinjection\", \"combustion\", \"complex\", \"complex\", \"complex\", \"complex\", \"complex\", \"complex\", \"computational\", \"computational\", \"computational\", \"compute\", \"compute\", \"computing\", \"concentrations\", \"concentrations\", \"concentrations\", \"concentrations\", \"concentrations\", \"conditions\", \"conditions\", \"conditions\", \"conditions\", \"conditions\", \"conditions\", \"conditions\", \"conditions\", \"conductivities\", \"conductivity\", \"conductivity\", \"conformance\", \"connections\", \"contamination\", \"content\", \"content\", \"content\", \"content\", \"continental\", \"control\", \"control\", \"control\", \"control\", \"control\", \"convective\", \"conventional\", \"conventional\", \"conventional\", \"conventional\", \"conventional\", \"conventional\", \"conventional\", \"convergence\", \"core\", \"core\", \"core\", \"core\", \"corefloods\", \"cores\", \"cores\", \"cores\", \"cores\", \"coupled\", \"coupled\", \"coupled\", \"coupled\", \"coupling\", \"coupling\", \"crack\", \"cretaceous\", \"crm\", \"crude\", \"crude\", \"crude\", \"crude-oil\", \"curve\", \"curve\", \"cycle\", \"cycle\", \"cycle\", \"cycle\", \"cyclic\", \"cyclic\", \"damage\", \"damage\", \"damage\", \"das\", \"data\", \"data\", \"data\", \"data\", \"data\", \"data\", \"data\", \"data\", \"dca\", \"decline\", \"decline\", \"decline\", \"deepwater\", \"demonstrate\", \"demonstrate\", \"demonstrate\", \"demonstrate\", \"density\", \"density\", \"density\", \"density\", \"density\", \"density\", \"depositional\", \"derive\", \"design\", \"design\", \"design\", \"design\", \"design\", \"design\", \"development\", \"development\", \"development\", \"development\", \"development\", \"development\", \"development\", \"diagnosis\", \"dielectric\", \"dielectric\", \"diffraction\", \"diffusive\", \"diffusive\", \"diffusivity\", \"diffusivity\", \"dilution\", \"discretization\", \"discretization\", \"dispersants\", \"displacing\", \"dissolved\", \"distribution\", \"distribution\", \"distribution\", \"distribution\", \"distribution\", \"diversion\", \"diversion\", \"downhole\", \"downhole\", \"downhole\", \"drilling\", \"drilling\", \"drilling\", \"drillstring\", \"dust\", \"dynamic\", \"dynamic\", \"dynamic\", \"dynamic\", \"dynamic\", \"dynamic\", \"edfm\", \"edge\", \"effect\", \"effect\", \"effect\", \"effect\", \"effect\", \"effect\", \"effect\", \"effect\", \"elastic\", \"elastic\", \"elastic\", \"elastic\", \"electrical\", \"electrical\", \"electrical\", \"electricity\", \"embedment\", \"emission\", \"emissions\", \"emissions\", \"emissions\", \"emissions\", \"energy\", \"energy\", \"energy\", \"energy\", \"energy\", \"engineered\", \"ensemble\", \"entails\", \"eocene\", \"eor\", \"eor\", \"eos\", \"eos\", \"equation\", \"equation\", \"equation\", \"equations\", \"equations\", \"equations\", \"es-sagd\", \"estimate\", \"estimate\", \"estimate\", \"estimate\", \"estimate\", \"estimates\", \"estimates\", \"etching\", \"eur\", \"experimental\", \"experimental\", \"experimental\", \"experimental\", \"experimental\", \"experimental\", \"experimental\", \"experiments\", \"experiments\", \"experiments\", \"experiments\", \"experiments\", \"experiments\", \"experiments\", \"exploitation\", \"exploration\", \"explosion\", \"exponential\", \"exposure\", \"fabric\", \"facility\", \"failure\", \"failure\", \"failure\", \"failures\", \"faults\", \"fib-sem\", \"field\", \"field\", \"field\", \"field\", \"field\", \"field\", \"fig\", \"fine-scale\", \"fines\", \"fines\", \"finger\", \"fingering\", \"fire\", \"fixed-stress\", \"flame\", \"flash\", \"flash\", \"flight\", \"flood\", \"flood\", \"flood\", \"flooding\", \"flooding\", \"floods\", \"floods\", \"flow\", \"flow\", \"flow\", \"flow\", \"flow\", \"flow\", \"flow\", \"flow-rate\", \"fluid\", \"fluid\", \"fluid\", \"fluid\", \"fluid\", \"fluid\", \"fluid\", \"fluid\", \"fluids\", \"fluids\", \"fluids\", \"fluids\", \"fluids\", \"fluids\", \"fmm\", \"foam\", \"foam\", \"foam\", \"foaming\", \"forecast\", \"forecasting\", \"forecasting\", \"forecasts\", \"formation\", \"formation\", \"formation\", \"formation\", \"formation\", \"formation\", \"formation\", \"formations\", \"formations\", \"formations\", \"formations\", \"formations\", \"formations\", \"formations\", \"four-phase\", \"fractions\", \"fractions\", \"fracture\", \"fracture\", \"fracture\", \"fracture-propagation\", \"fractured\", \"fractured\", \"fractured\", \"fractured\", \"fractured\", \"fractures\", \"fractures\", \"fractures\", \"fractures\", \"fracturing\", \"fracturing\", \"fracturing\", \"fracturing\", \"fracturing\", \"framework\", \"framework\", \"frontier\", \"ftir\", \"fts\", \"fuel\", \"fuel\", \"fuel\", \"fuels\", \"functions\", \"functions\", \"gas\", \"gas\", \"gas\", \"gas\", \"gas\", \"gas\", \"gas\", \"gas\", \"generalized\", \"geochemical\", \"geochemical\", \"geochemistry\", \"geologic\", \"geologic\", \"geologic\", \"geological\", \"geological\", \"geological\", \"geological\", \"geological\", \"geomechanics\", \"geometry\", \"geometry\", \"geometry\", \"geometry\", \"glass\", \"glda\", \"gravity\", \"gravity\", \"gravity\", \"grid\", \"grid\", \"gridblock\", \"grids\", \"grids\", \"gypsum\", \"hazard\", \"hazards\", \"hcl\", \"heat\", \"heat\", \"heat\", \"heat\", \"heating\", \"heating\", \"heavy\", \"heavy\", \"heavy\", \"height\", \"height\", \"height\", \"height\", \"height\", \"heterogeneous\", \"heterogeneous\", \"heterogeneous\", \"heterogeneous\", \"high\", \"high\", \"high\", \"high\", \"high\", \"high\", \"high\", \"high\", \"high\", \"high-angle\", \"high-fidelity\", \"history\", \"history\", \"history\", \"history\", \"hole\", \"horizontal\", \"horizontal\", \"horizontal\", \"horizontal\", \"horizontal\", \"horizontal\", \"hpht\", \"huff-and-puff\", \"huff-n-puff\", \"humidity\", \"hybrid\", \"hybrid\", \"hybrid\", \"hybrid\", \"hydrate\", \"hydrate\", \"hydrate\", \"hydrate-bearing\", \"hydraulic\", \"hydraulic\", \"hydraulic\", \"hydraulic\", \"hydraulic\", \"hydraulic-fracture\", \"hydrocarbon\", \"hydrocarbon\", \"hydrocarbon\", \"hydrocarbon\", \"ift\", \"iii\", \"iii\", \"images\", \"images\", \"images\", \"images\", \"imbibition\", \"imbibition\", \"impurities\", \"in-situ\", \"in-situ\", \"in-situ\", \"in-situ\", \"in-situ\", \"in-situ\", \"in-situ\", \"incidents\", \"incidents\", \"inductively\", \"industry\", \"industry\", \"industry\", \"industry\", \"industry\", \"industry\", \"influx\", \"injection\", \"injection\", \"injection\", \"injection\", \"injection\", \"integrity\", \"interpretation\", \"interpretation\", \"interpretation\", \"interpretation\", \"interstitial\", \"inversion-based\", \"iron\", \"iron\", \"isc\", \"iterations\", \"iterative\", \"iterative\", \"jetting\", \"kerogen\", \"kerogen\", \"kerogen\", \"kick\", \"klinkenberg\", \"koval\", \"laminar\", \"lcm\", \"leakoff\", \"length\", \"length\", \"length\", \"length\", \"length\", \"length\", \"lift\", \"liquid\", \"liquid\", \"liquid\", \"liquid\", \"liquid\", \"liquid\", \"liquid\", \"local\", \"local\", \"local\", \"logs\", \"logs\", \"logs\", \"lost\", \"low\", \"low\", \"low\", \"low\", \"low\", \"low\", \"low\", \"low\", \"low-salinity\", \"lrs\", \"lswi\", \"ltg\", \"lwd\", \"magnetic\", \"magnetic\", \"magnetization\", \"managed\", \"management\", \"management\", \"management\", \"management\", \"marching\", \"matching\", \"matching\", \"matching\", \"matrix\", \"matrix\", \"matrix\", \"matrix\", \"matrix\", \"maturation\", \"maturity\", \"maturity\", \"mcmc\", \"measurements\", \"measurements\", \"measurements\", \"measurements\", \"measurements\", \"measurements\", \"measurements\", \"measures\", \"media\", \"media\", \"media\", \"media\", \"media\", \"medical\", \"methane\", \"methane\", \"methane\", \"method\", \"method\", \"method\", \"method\", \"method\", \"method\", \"method\", \"methodology\", \"methodology\", \"methodology\", \"methods\", \"methods\", \"methods\", \"methods\", \"methods\", \"methods\", \"methods\", \"methods\", \"microemulsion\", \"microemulsion\", \"microscope\", \"migration\", \"migration\", \"migration\", \"migration\", \"migration\", \"miscible\", \"miscible\", \"mixtures\", \"mixtures\", \"mixtures\", \"mobility\", \"mobility\", \"mobility\", \"model\", \"model\", \"model\", \"model\", \"model\", \"model\", \"model\", \"modeling\", \"modeling\", \"modeling\", \"modeling\", \"modeling\", \"modeling\", \"modeling\", \"models\", \"models\", \"models\", \"models\", \"models\", \"models\", \"models\", \"mpd\", \"mud\", \"mud\", \"mud-filtrate\", \"mudcake\", \"mudrock\", \"mudrock\", \"mudrocks\", \"multi-component\", \"multiscale\", \"multiscale\", \"n-hexane\", \"nanoparticle-stabilized\", \"nanoparticles\", \"nanoparticles\", \"narrow-boiling\", \"natural\", \"natural\", \"natural\", \"natural\", \"natural\", \"natural\", \"net\", \"net\", \"net\", \"net\", \"neutron\", \"nmr\", \"nmr\", \"nmr-based\", \"nonionic\", \"nonlinear\", \"nonlinear\", \"nonlinear\", \"nonplanar\", \"north\", \"nps\", \"nps\", \"nuclear\", \"nuclear\", \"numerical\", \"numerical\", \"numerical\", \"numerical\", \"numerical\", \"oil\", \"oil\", \"oil\", \"oil\", \"oil\", \"oil\", \"oleic\", \"online\", \"ooip\", \"operating\", \"operating\", \"operating\", \"operating\", \"operations\", \"operations\", \"operations\", \"operations\", \"optimal\", \"optimal\", \"optimal\", \"optimal\", \"optimal\", \"optimal\", \"optimal\", \"optimization\", \"optimization\", \"optimization\", \"organic\", \"organic\", \"organic\", \"organic\", \"organic-rich\", \"orthogonal\", \"oxidation\", \"paper\", \"paper\", \"paper\", \"paper\", \"paper\", \"paper\", \"paper\", \"paper\", \"paper\", \"paramagnetic\", \"parameterization\", \"parameters\", \"parameters\", \"parameters\", \"parameters\", \"parameters\", \"parameters\", \"parameters\", \"parameters\", \"particles\", \"particles\", \"particles\", \"perforation\", \"perforations\", \"performance\", \"performance\", \"performance\", \"performance\", \"performance\", \"performance\", \"performance\", \"performance\", \"peridynamic\", \"permeability\", \"permeability\", \"permeability\", \"permeability\", \"permeability\", \"permeability\", \"permittivity\", \"petroleum\", \"petroleum\", \"petroleum\", \"petroleum\", \"petroleum\", \"petrophysical\", \"petrophysical\", \"petrophysical\", \"petrophysical\", \"pga\", \"phase\", \"phase\", \"phase\", \"phase\", \"phase\", \"phases\", \"phases\", \"phases\", \"pilot\", \"pilot\", \"pilot\", \"pipe\", \"pipe\", \"plant\", \"plant\", \"plasma\", \"play\", \"play\", \"play\", \"play\", \"plays\", \"plays\", \"plays\", \"plots\", \"pna\", \"pod\", \"polymer\", \"polymer\", \"pore\", \"pore\", \"pore\", \"pore\", \"pore\", \"pore\", \"pore\", \"pore-network\", \"pores\", \"pores\", \"pores\", \"pores\", \"pores\", \"porosity\", \"porosity\", \"porosity\", \"porosity\", \"porous\", \"porous\", \"porous\", \"porous\", \"power\", \"power\", \"power\", \"power\", \"power\", \"ppg\", \"practices\", \"practices\", \"pressure\", \"pressure\", \"pressure\", \"pressure\", \"pressure\", \"pressure\", \"probabilistic\", \"probabilistic\", \"problems\", \"problems\", \"problems\", \"problems\", \"problems\", \"procedure\", \"procedure\", \"procedure\", \"procedures\", \"procedures\", \"procedures\", \"procedures\", \"process\", \"process\", \"process\", \"process\", \"process\", \"process\", \"process\", \"process\", \"produced\", \"produced\", \"produced\", \"produced\", \"produced\", \"product\", \"product\", \"production\", \"production\", \"production\", \"production\", \"production\", \"production\", \"profit\", \"propagation\", \"propagation\", \"propagation\", \"propagation\", \"propagation\", \"properties\", \"properties\", \"properties\", \"properties\", \"properties\", \"properties\", \"properties\", \"properties\", \"proposed\", \"proposed\", \"proposed\", \"proposed\", \"proposed\", \"proposed\", \"proposed\", \"proposed\", \"proppant\", \"proppant\", \"proppant\", \"propped\", \"propped\", \"proxy\", \"pumping\", \"quantify\", \"quantify\", \"quantify\", \"quantify\", \"quantify\", \"quantify\", \"quantifying\", \"quantifying\", \"quantifying\", \"quantifying\", \"rate\", \"rate\", \"rate\", \"rate\", \"rate\", \"rate\", \"rate\", \"rate\", \"rate-time\", \"reactor\", \"real-time\", \"real-time\", \"real-time\", \"recoverable\", \"recoveries\", \"recovery\", \"recovery\", \"recovery\", \"recovery\", \"recovery\", \"reduced-order\", \"referred\", \"refinement\", \"reforming\", \"relations\", \"relaxation\", \"relaxivity\", \"relies\", \"research\", \"research\", \"research\", \"research\", \"research\", \"research\", \"research\", \"research\", \"reserves\", \"reservoir\", \"reservoir\", \"reservoir\", \"reservoir\", \"reservoir\", \"reservoir\", \"reservoirs\", \"reservoirs\", \"reservoirs\", \"reservoirs\", \"reservoirs\", \"reservoirs\", \"reservoirs\", \"resilience\", \"resins\", \"resistivity\", \"resource\", \"resources\", \"resources\", \"results\", \"results\", \"results\", \"results\", \"results\", \"results\", \"results\", \"results\", \"results\", \"retention\", \"retention\", \"rig\", \"risk\", \"risk\", \"risk\", \"rock\", \"rock\", \"rock\", \"rock\", \"rock\", \"rock\", \"rock\", \"rocks\", \"rocks\", \"rocks\", \"rocks\", \"rop\", \"ros\", \"safety\", \"sagd\", \"sagd\", \"salinity\", \"salinity\", \"salinity\", \"samples\", \"samples\", \"samples\", \"samples\", \"sandstone\", \"sandstone\", \"sandstone\", \"sara\", \"saturates\", \"saturation\", \"saturation\", \"saturation\", \"saturation\", \"saturation\", \"scheme\", \"scheme\", \"sec\", \"sediment\", \"segments\", \"seismicity\", \"sensitivities\", \"sequential\", \"shale\", \"shale\", \"shale\", \"shale\", \"shale\", \"shale\", \"shales\", \"shales\", \"shales\", \"shales\", \"showed\", \"showed\", \"showed\", \"showed\", \"showed\", \"showed\", \"silica\", \"silica\", \"simulation\", \"simulation\", \"simulation\", \"simulation\", \"simulation\", \"simulation\", \"simulator\", \"simulator\", \"simulator\", \"simulator\", \"simulator\", \"slowness\", \"snap-off\", \"solution\", \"solution\", \"solution\", \"solution\", \"solution\", \"solution\", \"solution\", \"solvent\", \"solvent\", \"solvents\", \"solver\", \"sonic\", \"sonic\", \"sor\", \"sor\", \"sorbed\", \"sound\", \"spatial\", \"spatial\", \"spatial\", \"split\", \"stabilize\", \"stabilize\", \"stabilize\", \"steam\", \"steam\", \"steam-assisted\", \"stimulation\", \"stimulation\", \"stimulation\", \"strain\", \"strain\", \"streamline\", \"streamline\", \"streamlines\", \"strength\", \"strength\", \"strength\", \"strength\", \"strength\", \"strengthening\", \"stress\", \"stress\", \"stress\", \"stress\", \"stress\", \"study\", \"study\", \"study\", \"study\", \"study\", \"study\", \"study\", \"study\", \"sulfate\", \"supply\", \"surface\", \"surface\", \"surface\", \"surface\", \"surface\", \"surfactant\", \"surfactants\", \"surfactants\", \"surrogate\", \"susceptibility\", \"suspensions\", \"sweep\", \"sweep\", \"synthesis\", \"system\", \"system\", \"system\", \"system\", \"system\", \"system\", \"systems\", \"systems\", \"systems\", \"systems\", \"systems\", \"systems\", \"tcf\", \"technically\", \"technology\", \"technology\", \"technology\", \"technology\", \"technology\", \"temperature\", \"temperature\", \"temperature\", \"temperature\", \"temperature\", \"temperature\", \"tertiary\", \"tests\", \"tests\", \"tests\", \"tests\", \"tests\", \"tgs\", \"thermal\", \"thermal\", \"thermal\", \"thermal\", \"thermal\", \"thermal\", \"thermodynamic\", \"thermodynamic\", \"thermodynamic\", \"tight\", \"tight\", \"tight\", \"tight\", \"tight\", \"time\", \"time\", \"time\", \"time\", \"time\", \"time\", \"time\", \"time\", \"time-varying\", \"top\", \"top\", \"tpwl\", \"transport\", \"transport\", \"transport\", \"transport\", \"transport\", \"trapping\", \"trapping\", \"trapping\", \"treatment\", \"treatment\", \"treatment\", \"treatment\", \"treatment\", \"treatments\", \"treatments\", \"treatments\", \"treatments\", \"treatments\", \"trr\", \"tube\", \"tube\", \"ugrs\", \"ulr\", \"ultimate\", \"ultimate\", \"uncertainty\", \"uncertainty\", \"uncertainty\", \"unconventional\", \"unconventional\", \"unconventional\", \"unconventional\", \"underbalanced\", \"unpropped\", \"unstable\", \"unstable\", \"unstable\", \"unstable\", \"unstructured\", \"upgrading\", \"upgrading\", \"utchem\", \"utility\", \"vehicle\", \"vehicles\", \"ves\", \"ves-based\", \"vibration\", \"viscosity\", \"viscosity\", \"viscosity\", \"viscosity\", \"viscous\", \"viscous\", \"viscous\", \"viscous\", \"vrr\", \"vugs\", \"waals\", \"wag\", \"wag\", \"water\", \"water\", \"water\", \"water\", \"water\", \"water\", \"well-log\", \"wellbore\", \"wellbore\", \"wellbore\", \"wellbore\", \"wellhead\", \"wells\", \"wells\", \"wells\", \"wells\", \"wells\", \"wells\", \"wettability\", \"wettability\", \"wettability\", \"wettability\", \"width\", \"wind\", \"work\", \"work\", \"work\", \"work\", \"work\", \"work\", \"world\", \"world\", \"world\", \"worldwide\", \"wormhole\", \"wormhole\", \"wormholes\", \"wormholing\", \"x-ray\", \"x-ray\", \"xrd\", \"xwl\"]}, \"R\": 30, \"lambda.step\": 0.01, \"plot.opts\": {\"xlab\": \"PC1\", \"ylab\": \"PC2\"}, \"topic.order\": [8, 2, 4, 6, 1, 5, 9, 7, 3]};\n",
       "\n",
       "function LDAvis_load_lib(url, callback){\n",
       "  var s = document.createElement('script');\n",
       "  s.src = url;\n",
       "  s.async = true;\n",
       "  s.onreadystatechange = s.onload = callback;\n",
       "  s.onerror = function(){console.warn(\"failed to load library \" + url);};\n",
       "  document.getElementsByTagName(\"head\")[0].appendChild(s);\n",
       "}\n",
       "\n",
       "if(typeof(LDAvis) !== \"undefined\"){\n",
       "   // already loaded: just create the visualization\n",
       "   !function(LDAvis){\n",
       "       new LDAvis(\"#\" + \"ldavis_el82753112204475752327521692\", ldavis_el82753112204475752327521692_data);\n",
       "   }(LDAvis);\n",
       "}else if(typeof define === \"function\" && define.amd){\n",
       "   // require.js is available: use it to load d3/LDAvis\n",
       "   require.config({paths: {d3: \"https://cdnjs.cloudflare.com/ajax/libs/d3/3.5.5/d3.min\"}});\n",
       "   require([\"d3\"], function(d3){\n",
       "      window.d3 = d3;\n",
       "      LDAvis_load_lib(\"https://cdn.rawgit.com/bmabey/pyLDAvis/files/ldavis.v1.0.0.js\", function(){\n",
       "        new LDAvis(\"#\" + \"ldavis_el82753112204475752327521692\", ldavis_el82753112204475752327521692_data);\n",
       "      });\n",
       "    });\n",
       "}else{\n",
       "    // require.js not available: dynamically load d3 & LDAvis\n",
       "    LDAvis_load_lib(\"https://cdnjs.cloudflare.com/ajax/libs/d3/3.5.5/d3.min.js\", function(){\n",
       "         LDAvis_load_lib(\"https://cdn.rawgit.com/bmabey/pyLDAvis/files/ldavis.v1.0.0.js\", function(){\n",
       "                 new LDAvis(\"#\" + \"ldavis_el82753112204475752327521692\", ldavis_el82753112204475752327521692_data);\n",
       "            })\n",
       "         });\n",
       "}\n",
       "</script>"
      ],
      "text/plain": [
       "PreparedData(topic_coordinates=            Freq  cluster  topics         x         y\n",
       "topic                                                \n",
       "7      19.874859        1       1 -0.054570 -0.073084\n",
       "1      15.185597        1       2  0.029973 -0.073392\n",
       "3      13.344299        1       3  0.060355  0.111999\n",
       "5      13.122838        1       4 -0.117135 -0.046510\n",
       "0      10.221756        1       5  0.167116  0.087571\n",
       "4       7.936841        1       6 -0.094011 -0.032796\n",
       "8       7.711944        1       7  0.091569  0.224886\n",
       "6       6.466266        1       8  0.183830 -0.233675\n",
       "2       6.135601        1       9 -0.267127  0.035000, topic_info=      Category         Freq            Term        Total  loglift  logprob\n",
       "term                                                                      \n",
       "7006   Default  3608.000000        fracture  3608.000000  30.0000  30.0000\n",
       "12699  Default  3864.000000             oil  3864.000000  29.0000  29.0000\n",
       "5149   Default  1070.000000        drilling  1070.000000  28.0000  28.0000\n",
       "7265   Default  3634.000000             gas  3634.000000  27.0000  27.0000\n",
       "15344  Default  1699.000000        recovery  1699.000000  26.0000  26.0000\n",
       "7071   Default  1519.000000       fractures  1519.000000  25.0000  25.0000\n",
       "14585  Default  2719.000000      production  2719.000000  24.0000  24.0000\n",
       "19473  Default   918.000000  unconventional   918.000000  23.0000  23.0000\n",
       "171    Default  1110.000000            acid  1110.000000  22.0000  22.0000\n",
       "16015  Default  1329.000000            rock  1329.000000  21.0000  21.0000\n",
       "18193  Default   708.000000      surfactant   708.000000  20.0000  20.0000\n",
       "15688  Default  3417.000000       reservoir  3417.000000  19.0000  19.0000\n",
       "3289   Default   798.000000    conductivity   798.000000  18.0000  18.0000\n",
       "14386  Default  2476.000000        pressure  2476.000000  17.0000  17.0000\n",
       "20478  Default   838.000000        wellbore   838.000000  16.0000  16.0000\n",
       "13561  Default  2032.000000    permeability  2032.000000  15.0000  15.0000\n",
       "14030  Default   955.000000            pore   955.000000  14.0000  14.0000\n",
       "20238  Default  1731.000000           water  1731.000000  13.0000  13.0000\n",
       "5651   Default   767.000000          energy   767.000000  12.0000  12.0000\n",
       "16684  Default  2001.000000           shale  2001.000000  11.0000  11.0000\n",
       "11397  Default  3993.000000           model  3993.000000  10.0000  10.0000\n",
       "12911  Default   656.000000    optimization   656.000000   9.0000   9.0000\n",
       "10841  Default   762.000000    measurements   762.000000   8.0000   8.0000\n",
       "13984  Default   607.000000         polymer   607.000000   7.0000   7.0000\n",
       "17650  Default   432.000000           steam   432.000000   6.0000   6.0000\n",
       "13663  Default   955.000000           phase   955.000000   5.0000   5.0000\n",
       "8985   Default  1507.000000       injection  1507.000000   4.0000   4.0000\n",
       "6812   Default   706.000000            foam   706.000000   3.0000   3.0000\n",
       "7081   Default   909.000000      fracturing   909.000000   2.0000   2.0000\n",
       "15727  Default  2218.000000      reservoirs  2218.000000   1.0000   1.0000\n",
       "...        ...          ...             ...          ...      ...      ...\n",
       "12911   Topic9   277.832489    optimization   656.571552   1.9310  -4.5850\n",
       "4004    Topic9    61.748298           cycle    83.746908   2.4863  -6.0890\n",
       "14194   Topic9    89.630129           power   155.328485   2.2412  -5.7164\n",
       "12870   Topic9    82.659671       operating   137.623521   2.2813  -5.7973\n",
       "14545   Topic9    78.676553      procedures   128.546501   2.3001  -5.8467\n",
       "18361   Topic9   261.900014          system   898.851571   1.5579  -4.6441\n",
       "4447    Topic9   241.984421          design   812.659923   1.5796  -4.7232\n",
       "14542   Topic9   114.524621       procedure   246.945043   2.0227  -5.4713\n",
       "12136   Topic9    71.706095             net   119.589874   2.2796  -5.9395\n",
       "14551   Topic9   258.912675         process  1065.383856   1.3765  -4.6556\n",
       "7926    Topic9   119.503520            heat   290.181779   1.9039  -5.4287\n",
       "2235    Topic9    92.617468         capture   234.931297   1.8602  -5.6836\n",
       "7168    Topic9    71.706095            fuel   143.594431   2.0966  -5.9395\n",
       "12903   Topic9   113.528842         optimal   420.173777   1.4825  -5.4800\n",
       "12874   Topic9   113.528842      operations   431.332567   1.4562  -5.4800\n",
       "11397   Topic9   291.773405           model  3993.787084   0.1745  -4.5361\n",
       "17901   Topic9   197.174335           study  1649.556152   0.6669  -4.9280\n",
       "3532    Topic9   119.503520         control   592.808568   1.1895  -5.4287\n",
       "739     Topic9   158.338927        analysis  1478.074100   0.5573  -5.1473\n",
       "18368   Topic9   108.549943         systems   549.260237   1.1697  -5.5249\n",
       "10182   Topic9    93.613248          liquid   364.671801   1.4312  -5.6729\n",
       "929     Topic9   123.486638        approach  1233.721602   0.4894  -5.3959\n",
       "7095    Topic9    76.684993       framework   199.920352   1.8328  -5.8724\n",
       "7265    Topic9   149.376910             gas  3634.578746  -0.4007  -5.2056\n",
       "11413   Topic9   112.533062        modeling  1103.372920   0.5082  -5.4888\n",
       "5270    Topic9    87.638570         dynamic   373.384344   1.3417  -5.7388\n",
       "18659   Topic9    88.634350         thermal   506.664237   1.0477  -5.7275\n",
       "20638   Topic9    95.604807            work   963.944924   0.4803  -5.6518\n",
       "15818   Topic9    89.630129         results  2294.030561  -0.4513  -5.7164\n",
       "1428    Topic9    86.642790           based  1025.228248   0.3202  -5.7503\n",
       "\n",
       "[681 rows x 6 columns], token_table=       Topic      Freq         Term\n",
       "term                               \n",
       "171        2  0.720141         acid\n",
       "171        5  0.279955         acid\n",
       "206        2  0.767302    acidizing\n",
       "206        5  0.231553    acidizing\n",
       "208        5  1.002447        acids\n",
       "215        2  0.946137     acoustic\n",
       "215        8  0.056486     acoustic\n",
       "219        3  0.999945          acp\n",
       "221        8  1.002017     acquired\n",
       "344        4  0.134487     adsorbed\n",
       "344        5  0.868050     adsorbed\n",
       "349        3  0.351162   adsorption\n",
       "349        5  0.647699   adsorption\n",
       "448        5  0.649248       agents\n",
       "448        8  0.353655       agents\n",
       "498        4  0.040856          air\n",
       "498        7  0.776261          air\n",
       "498        9  0.183851          air\n",
       "557        1  0.697184    algorithm\n",
       "557        7  0.229002    algorithm\n",
       "557        8  0.073790    algorithm\n",
       "642        5  1.001438      altered\n",
       "688        2  0.043659      america\n",
       "688        4  0.960490      america\n",
       "689        4  1.003931     american\n",
       "727        4  1.003680       analog\n",
       "729        4  1.003513    analogous\n",
       "739        1  0.200937     analysis\n",
       "739        2  0.118397     analysis\n",
       "739        3  0.029092     analysis\n",
       "...      ...       ...          ...\n",
       "20508      1  0.153608        wells\n",
       "20508      2  0.272306        wells\n",
       "20508      3  0.032816        wells\n",
       "20508      4  0.371453        wells\n",
       "20508      6  0.136153        wells\n",
       "20508      8  0.033515        wells\n",
       "20528      2  0.053946  wettability\n",
       "20528      3  0.577674  wettability\n",
       "20528      7  0.107892  wettability\n",
       "20528      8  0.260740  wettability\n",
       "20568      2  0.997377        width\n",
       "20583      9  1.001864         wind\n",
       "20638      1  0.106853         work\n",
       "20638      2  0.220967         work\n",
       "20638      3  0.135900         work\n",
       "20638      4  0.246902         work\n",
       "20638      5  0.189845         work\n",
       "20638      9  0.099591         work\n",
       "20658      3  0.007494        world\n",
       "20658      4  0.929307        world\n",
       "20658      7  0.059955        world\n",
       "20661      4  1.004056    worldwide\n",
       "20665      2  0.857234     wormhole\n",
       "20665      5  0.139697     wormhole\n",
       "20668      2  1.002754    wormholes\n",
       "20669      2  1.001351   wormholing\n",
       "20707      5  0.827485        x-ray\n",
       "20707      7  0.174915        x-ray\n",
       "20732      5  1.001088          xrd\n",
       "20736      7  0.997713          xwl\n",
       "\n",
       "[1386 rows x 3 columns], R=30, lambda_step=0.01, plot_opts={'xlab': 'PC1', 'ylab': 'PC2'}, topic_order=[8, 2, 4, 6, 1, 5, 9, 7, 3])"
      ]
     },
     "execution_count": 160,
     "metadata": {},
     "output_type": "execute_result"
    }
   ],
   "source": [
    "vis_data"
   ]
  },
  {
   "cell_type": "code",
   "execution_count": null,
   "metadata": {},
   "outputs": [],
   "source": []
  }
 ],
 "metadata": {
  "kernelspec": {
   "display_name": "Python 3",
   "language": "python",
   "name": "python3"
  },
  "language_info": {
   "codemirror_mode": {
    "name": "ipython",
    "version": 3
   },
   "file_extension": ".py",
   "mimetype": "text/x-python",
   "name": "python",
   "nbconvert_exporter": "python",
   "pygments_lexer": "ipython3",
   "version": "3.6.5"
  }
 },
 "nbformat": 4,
 "nbformat_minor": 2
}
