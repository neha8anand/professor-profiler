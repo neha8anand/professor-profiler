{
 "cells": [
  {
   "cell_type": "code",
   "execution_count": 1,
   "metadata": {
    "ExecuteTime": {
     "end_time": "2018-08-27T03:48:13.380265Z",
     "start_time": "2018-08-27T03:48:11.032720Z"
    }
   },
   "outputs": [],
   "source": [
    "from cleaning import database_cleaner\n",
    "\n",
    "from pprint import pprint\n",
    "import string\n",
    "import re\n",
    "\n",
    "# Gensim\n",
    "import gensim\n",
    "from gensim.models import CoherenceModel\n",
    "from gensim import models, corpora\n",
    "from gensim import similarities\n",
    "\n",
    "# Plotting tools\n",
    "import pyLDAvis\n",
    "import pyLDAvis.gensim  \n",
    "import matplotlib.pyplot as plt\n",
    "%matplotlib inline\n",
    "\n",
    "# NLTK\n",
    "from nltk.corpus import stopwords\n",
    "from nltk import word_tokenize\n",
    "\n",
    "# spacy for lemmatization\n",
    "import spacy"
   ]
  },
  {
   "cell_type": "code",
   "execution_count": 2,
   "metadata": {
    "ExecuteTime": {
     "end_time": "2018-08-27T03:48:13.614844Z",
     "start_time": "2018-08-27T03:48:13.382573Z"
    },
    "scrolled": false
   },
   "outputs": [
    {
     "name": "stdout",
     "output_type": "stream",
     "text": [
      "0 faculties have missing papers in ../data/pge_database.json\n",
      "Running nlp-pipeline on faculties with non-missing papers...\n"
     ]
    }
   ],
   "source": [
    "def get_data(filename):\n",
    "    \"\"\"Load raw data from a file and return vectorizer and feature_matrix.\n",
    "    Parameters\n",
    "    ----------\n",
    "    filename: The path to a json file containing the university database.\n",
    "    Returns\n",
    "    -------\n",
    "    corpus: A numpy array containing abstracts.\n",
    "    \"\"\"\n",
    "    df_cleaned = database_cleaner(filename)\n",
    "\n",
    "    # For nlp, only retaining faculty_name, research_areas, paper_titles, abstracts\n",
    "    df_filtered = df_cleaned[['faculty_name', 'research_areas', 'paper_titles', 'abstracts']]\n",
    "    missing = df_filtered['paper_titles'] == ''\n",
    "    num_missing = sum(missing)\n",
    "    print(f'{num_missing} faculties have missing papers in {filename}')\n",
    "    print('Running nlp-pipeline on faculties with non-missing papers...')\n",
    "\n",
    "    df_nlp = df_filtered[~missing]\n",
    "\n",
    "    # Choosing abstracts and paper_titles to predict topics for a professor\n",
    "    data = (df_nlp['paper_titles'] + df_nlp['abstracts']).values\n",
    "\n",
    "    return data\n",
    "\n",
    "data = get_data('../data/pge_database.json')"
   ]
  },
  {
   "cell_type": "code",
   "execution_count": 3,
   "metadata": {
    "ExecuteTime": {
     "end_time": "2018-08-27T03:48:13.675070Z",
     "start_time": "2018-08-27T03:48:13.616937Z"
    }
   },
   "outputs": [
    {
     "data": {
      "text/plain": [
       "(88,)"
      ]
     },
     "execution_count": 3,
     "metadata": {},
     "output_type": "execute_result"
    }
   ],
   "source": [
    "data.shape"
   ]
  },
  {
   "cell_type": "code",
   "execution_count": 4,
   "metadata": {
    "ExecuteTime": {
     "end_time": "2018-08-27T03:48:23.111303Z",
     "start_time": "2018-08-27T03:48:13.677187Z"
    }
   },
   "outputs": [
    {
     "name": "stderr",
     "output_type": "stream",
     "text": [
      "<input>:6: DeprecationWarning: invalid escape sequence \\-\n",
      "<input>:6: DeprecationWarning: invalid escape sequence \\-\n",
      "<input>:6: DeprecationWarning: invalid escape sequence \\-\n",
      "<ipython-input-4-f0dc57127820>:6: DeprecationWarning: invalid escape sequence \\-\n",
      "  cleaned_text = [t for t in tokenized_text if t not in stopwords_ and re.match('[a-zA-Z\\-][a-zA-Z\\-]{2,}', t)]\n"
     ]
    }
   ],
   "source": [
    "# NLTK Stop words\n",
    "stopwords_ = stopwords.words('english')\n",
    "\n",
    "def clean_text(text):\n",
    "    tokenized_text = word_tokenize(text.lower())\n",
    "    cleaned_text = [t for t in tokenized_text if t not in stopwords_ and re.match('[a-zA-Z\\-][a-zA-Z\\-]{2,}', t)]\n",
    "    return cleaned_text\n",
    " \n",
    "# For gensim we need to tokenize the data and filter out stopwords\n",
    "tokens_filtered = []\n",
    "for text in data:\n",
    "    tokens_filtered.append(clean_text(text))\n",
    "\n",
    "# def filter_tokens(sent):\n",
    "#     return([w for w in sent if not w in stopwords_ and not w in punctuation_ and re.match('[a-zA-Z-][a-zA-Z-]{2,}]', w)])\n",
    "\n",
    "# tokens = [word_tokenize(doc) for doc in corpus]\n",
    "# tokens_lower = [[word.lower() for word in sent] for sent in tokens]\n",
    "# tokens_filtered = list(map(filter_tokens, tokens_lower))"
   ]
  },
  {
   "cell_type": "code",
   "execution_count": 5,
   "metadata": {
    "ExecuteTime": {
     "end_time": "2018-08-27T03:48:34.310246Z",
     "start_time": "2018-08-27T03:48:23.113565Z"
    }
   },
   "outputs": [],
   "source": [
    "# Build the bigram and trigram models\n",
    "import warnings\n",
    "warnings.filterwarnings(\"ignore\",category=UserWarning)\n",
    "\n",
    "bigram = gensim.models.Phrases(tokens_filtered, min_count=5, threshold=100) # higher threshold fewer phrases.\n",
    "trigram = gensim.models.Phrases(bigram[tokens_filtered], threshold=100) \n",
    "\n",
    "# Faster way to get a sentence clubbed as a trigram/bigram\n",
    "bigram_mod = gensim.models.phrases.Phraser(bigram)\n",
    "trigram_mod = gensim.models.phrases.Phraser(trigram)\n",
    "\n",
    "def make_bigrams(texts):\n",
    "    return [bigram_mod[doc] for doc in texts]\n",
    "\n",
    "def make_trigrams(texts):\n",
    "    return [trigram_mod[bigram_mod[doc]] for doc in texts]\n",
    "\n",
    "def lemmatization(texts, allowed_postags=['NOUN', 'ADJ', 'VERB', 'ADV']):\n",
    "    \"\"\"https://spacy.io/api/annotation\"\"\"\n",
    "    texts_out = []\n",
    "    for sent in texts:\n",
    "        doc = nlp(\" \".join(sent)) \n",
    "        texts_out.append([token.lemma_ for token in doc if token.pos_ in allowed_postags])\n",
    "    return texts_out"
   ]
  },
  {
   "cell_type": "code",
   "execution_count": 6,
   "metadata": {
    "ExecuteTime": {
     "end_time": "2018-08-27T03:49:29.388026Z",
     "start_time": "2018-08-27T03:48:34.312358Z"
    }
   },
   "outputs": [],
   "source": [
    "# Form Bigrams\n",
    "tokens_bigrams = make_bigrams(tokens_filtered)\n",
    "\n",
    "# Initialize spacy 'en' model, keeping only tagger component (for efficiency)\n",
    "\n",
    "nlp = spacy.load('en_core_web_sm', disable=['parser', 'ner'])\n",
    "\n",
    "# Do lemmatization keeping only noun, adj, vb, adv\n",
    "data_lemmatized = lemmatization(tokens_bigrams, allowed_postags=['NOUN', 'ADJ', 'VERB', 'ADV'])"
   ]
  },
  {
   "cell_type": "code",
   "execution_count": 7,
   "metadata": {
    "ExecuteTime": {
     "end_time": "2018-08-27T03:49:29.864823Z",
     "start_time": "2018-08-27T03:49:29.390693Z"
    }
   },
   "outputs": [],
   "source": [
    "n_topics = 9\n",
    "\n",
    "# Build a Dictionary - association word to numeric id\n",
    "dictionary = corpora.Dictionary(tokens_filtered)"
   ]
  },
  {
   "cell_type": "code",
   "execution_count": 8,
   "metadata": {
    "ExecuteTime": {
     "end_time": "2018-08-27T03:49:30.202879Z",
     "start_time": "2018-08-27T03:49:29.866997Z"
    }
   },
   "outputs": [],
   "source": [
    "# Transform the collection of texts to a numerical form [(word_id, count), ...]\n",
    "corpus = [dictionary.doc2bow(text) for text in tokens_filtered]"
   ]
  },
  {
   "cell_type": "code",
   "execution_count": 9,
   "metadata": {
    "ExecuteTime": {
     "end_time": "2018-08-27T03:49:32.452577Z",
     "start_time": "2018-08-27T03:49:30.204807Z"
    }
   },
   "outputs": [],
   "source": [
    "tfidf_model = gensim.models.TfidfModel(corpus, id2word=dictionary) # tfidf gives better coherence score\n",
    "\n",
    "lda_model = gensim.models.ldamodel.LdaModel(tfidf_model[corpus], id2word=dictionary, num_topics=n_topics)\n",
    "\n",
    "# Build the LDA model\n",
    "# lda_model = models.LdaModel(corpus=corpus, num_topics=n_topics, id2word=dictionary)\n",
    " \n",
    "# Build the LSI model\n",
    "lsi_model = models.LsiModel(corpus=corpus, num_topics=n_topics, id2word=dictionary)"
   ]
  },
  {
   "cell_type": "code",
   "execution_count": 10,
   "metadata": {
    "ExecuteTime": {
     "end_time": "2018-08-27T03:49:32.533920Z",
     "start_time": "2018-08-27T03:49:32.454409Z"
    },
    "scrolled": true
   },
   "outputs": [
    {
     "name": "stdout",
     "output_type": "stream",
     "text": [
      "LDA Model:\n",
      "Topic #0: 0.000*\"surging\" + 0.000*\"upgridding\" + 0.000*\"geosteering\" + 0.000*\"acid\" + 0.000*\"fracture\" + 0.000*\"foam\" + 0.000*\"lrs\" + 0.000*\"sec\" + 0.000*\"reserves\" + 0.000*\"newton\"\n",
      "Topic #1: 0.000*\"battery\" + 0.000*\"surfactant\" + 0.000*\"nmr\" + 0.000*\"asp\" + 0.000*\"nanoparticles\" + 0.000*\"floods\" + 0.000*\"polymer\" + 0.000*\"surfactants\" + 0.000*\"microemulsion\" + 0.000*\"kerogen\"\n",
      "Topic #2: 0.000*\"fts\" + 0.000*\"acid\" + 0.000*\"phase-field\" + 0.000*\"reforming\" + 0.000*\"reactor\" + 0.000*\"asphaltene\" + 0.000*\"hydrate\" + 0.000*\"moments\" + 0.000*\"fracture\" + 0.000*\"reaction\"\n",
      "Topic #3: 0.000*\"foam\" + 0.000*\"slug\" + 0.000*\"pga\" + 0.000*\"pipe\" + 0.000*\"surfactant\" + 0.000*\"holdup\" + 0.000*\"casing\" + 0.000*\"practices\" + 0.000*\"cement\" + 0.000*\"surfactants\"\n",
      "Topic #4: 0.000*\"sagd\" + 0.000*\"stratified\" + 0.000*\"steam\" + 0.000*\"slug\" + 0.000*\"pipe\" + 0.000*\"bitumen\" + 0.000*\"wax\" + 0.000*\"foam\" + 0.000*\"holdup\" + 0.000*\"combustion\"\n",
      "Topic #5: 0.000*\"fracture\" + 0.000*\"height\" + 0.000*\"fractures\" + 0.000*\"uruguayan\" + 0.000*\"uruguay\" + 0.000*\"flame\" + 0.000*\"fiscal\" + 0.000*\"pvs\" + 0.000*\"stress\" + 0.000*\"bodies\"\n",
      "Topic #6: 0.000*\"combustion\" + 0.000*\"steam\" + 0.000*\"sagd\" + 0.000*\"restimulation\" + 0.000*\"channel\" + 0.000*\"isc\" + 0.000*\"eccentric\" + 0.000*\"drilling\" + 0.000*\"condensate\" + 0.000*\"cuttings\"\n",
      "Topic #7: 0.000*\"basins\" + 0.000*\"nanoparticles\" + 0.000*\"fracture\" + 0.000*\"surfactant\" + 0.000*\"seismic\" + 0.000*\"cement\" + 0.000*\"foams\" + 0.000*\"permeability\" + 0.000*\"frontier\" + 0.000*\"trr\"\n",
      "Topic #8: 0.000*\"peridynamic\" + 0.000*\"archie\" + 0.000*\"toolkit\" + 0.000*\"fracture\" + 0.000*\"stress\" + 0.000*\"hydrate\" + 0.000*\"matrix-vug\" + 0.000*\"peridynamics\" + 0.000*\"lineaments\" + 0.000*\"manufacturing\"\n",
      "====================\n",
      "LSI Model:\n",
      "Topic #0: 0.245*\"model\" + 0.238*\"flow\" + 0.228*\"oil\" + 0.217*\"fracture\" + 0.211*\"gas\" + 0.185*\"reservoir\" + 0.167*\"pressure\" + 0.154*\"well\" + 0.148*\"production\" + 0.137*\"results\"\n",
      "Topic #1: 0.492*\"fracture\" + -0.387*\"oil\" + 0.356*\"acid\" + 0.250*\"conductivity\" + -0.168*\"recovery\" + -0.124*\"gas\" + 0.112*\"fractures\" + -0.111*\"surfactant\" + -0.107*\"liquid\" + 0.103*\"proppant\"\n",
      "Topic #2: 0.412*\"flow\" + -0.329*\"oil\" + 0.269*\"liquid\" + 0.196*\"gas\" + -0.190*\"recovery\" + 0.188*\"pressure\" + 0.156*\"data\" + -0.148*\"acid\" + 0.144*\"pipe\" + -0.139*\"water\"\n",
      "Topic #3: -0.250*\"production\" + 0.248*\"acid\" + -0.244*\"reservoir\" + 0.223*\"flow\" + -0.217*\"reservoirs\" + 0.211*\"liquid\" + -0.196*\"gas\" + 0.161*\"experimental\" + -0.156*\"unconventional\" + -0.144*\"shale\"\n",
      "Topic #4: 0.444*\"drilling\" + -0.275*\"fracture\" + -0.214*\"flow\" + 0.179*\"pressure\" + -0.173*\"gas\" + -0.163*\"liquid\" + 0.160*\"wellbore\" + 0.144*\"fluids\" + -0.138*\"conductivity\" + -0.125*\"acid\"\n",
      "Topic #5: -0.265*\"rock\" + -0.239*\"measurements\" + 0.234*\"drilling\" + -0.214*\"kerogen\" + -0.178*\"nmr\" + 0.172*\"fracture\" + -0.147*\"samples\" + 0.145*\"pressure\" + -0.144*\"properties\" + 0.139*\"oil\"\n",
      "Topic #6: -0.413*\"gas\" + 0.299*\"model\" + -0.205*\"acid\" + -0.174*\"unconventional\" + -0.161*\"resources\" + 0.149*\"fracture\" + 0.138*\"reservoir\" + 0.134*\"flow\" + -0.127*\"production\" + -0.126*\"shale\"\n",
      "Topic #7: -0.338*\"fracture\" + 0.332*\"acid\" + -0.239*\"fractures\" + 0.172*\"data\" + -0.149*\"hydraulic\" + 0.145*\"reservoir\" + -0.143*\"shale\" + -0.141*\"oil\" + 0.130*\"approach\" + 0.128*\"conductivity\"\n",
      "Topic #8: 0.234*\"surfactant\" + -0.226*\"combustion\" + -0.197*\"steam\" + 0.183*\"gas\" + 0.180*\"foam\" + -0.174*\"sagd\" + -0.158*\"bitumen\" + -0.157*\"solvent\" + 0.139*\"polymer\" + -0.137*\"isc\"\n",
      "====================\n"
     ]
    }
   ],
   "source": [
    "print(\"LDA Model:\")\n",
    " \n",
    "for idx in range(n_topics):\n",
    "    # Print the first 10 most representative topics\n",
    "    print(\"Topic #%s:\" % idx, lda_model.print_topic(idx, 10))\n",
    " \n",
    "print(\"=\" * 20)\n",
    " \n",
    "print(\"LSI Model:\")\n",
    " \n",
    "for idx in range(n_topics):\n",
    "    # Print the first 10 most representative topics\n",
    "    print(\"Topic #%s:\" % idx, lsi_model.print_topic(idx, 10))\n",
    " \n",
    "print(\"=\" * 20)"
   ]
  },
  {
   "cell_type": "code",
   "execution_count": 11,
   "metadata": {
    "ExecuteTime": {
     "end_time": "2018-08-27T03:49:40.684863Z",
     "start_time": "2018-08-27T03:49:32.536426Z"
    }
   },
   "outputs": [
    {
     "name": "stdout",
     "output_type": "stream",
     "text": [
      "\n",
      "Perplexity:  -13.7757034984\n",
      "\n",
      "Coherence Score:  0.446883892437\n"
     ]
    }
   ],
   "source": [
    "# Compute Perplexity\n",
    "print('\\nPerplexity: ', lda_model.log_perplexity(corpus))  # a measure of how good the model is. lower the better.\n",
    "\n",
    "# Compute Coherence Score\n",
    "coherence_model_lda = CoherenceModel(model=lda_model, texts=tokens_filtered, dictionary=dictionary, coherence='c_v')\n",
    "coherence_lda = coherence_model_lda.get_coherence()\n",
    "print('\\nCoherence Score: ', coherence_lda)"
   ]
  },
  {
   "cell_type": "code",
   "execution_count": 12,
   "metadata": {
    "ExecuteTime": {
     "end_time": "2018-08-27T03:50:30.180996Z",
     "start_time": "2018-08-27T03:49:40.687690Z"
    }
   },
   "outputs": [],
   "source": [
    "# LDA Mallet (slower)\n",
    "mallet_path = '~/Documents/GitHub/capstone/mallet-2.0.8/bin/mallet' # update this path\n",
    "ldamallet = gensim.models.wrappers.LdaMallet(mallet_path, corpus=corpus, num_topics=n_topics, id2word=dictionary, prefix='~/Documents/Github/capstone/')"
   ]
  },
  {
   "cell_type": "code",
   "execution_count": 13,
   "metadata": {
    "ExecuteTime": {
     "end_time": "2018-08-27T03:50:45.968899Z",
     "start_time": "2018-08-27T03:50:30.183915Z"
    },
    "scrolled": true
   },
   "outputs": [
    {
     "name": "stdout",
     "output_type": "stream",
     "text": [
      "\n",
      "Coherence Score:  0.456936364143\n"
     ]
    }
   ],
   "source": [
    "# Show Topics\n",
    "#pprint(ldamallet.show_topics(formatted=False))\n",
    "\n",
    "# Compute Coherence Score\n",
    "coherence_model_ldamallet = CoherenceModel(model=ldamallet, texts=tokens_filtered, dictionary=dictionary, coherence='c_v')\n",
    "coherence_ldamallet = coherence_model_ldamallet.get_coherence()\n",
    "print('\\nCoherence Score: ', coherence_ldamallet)"
   ]
  },
  {
   "cell_type": "markdown",
   "metadata": {},
   "source": [
    "# Choosing number of topics"
   ]
  },
  {
   "cell_type": "code",
   "execution_count": 14,
   "metadata": {
    "ExecuteTime": {
     "end_time": "2018-08-27T03:50:46.030189Z",
     "start_time": "2018-08-27T03:50:45.971383Z"
    }
   },
   "outputs": [],
   "source": [
    "def compute_coherence_values(dictionary, corpus, texts, limit, start=5, step=1):\n",
    "    \"\"\"\n",
    "    Compute c_v coherence for various number of topics\n",
    "\n",
    "    Parameters:\n",
    "    ----------\n",
    "    dictionary : Gensim dictionary\n",
    "    corpus : Gensim corpus\n",
    "    texts : List of input texts\n",
    "    limit : Max num of topics\n",
    "\n",
    "    Returns:\n",
    "    -------\n",
    "    model_list : List of LDA topic models\n",
    "    coherence_values : Coherence values corresponding to the LDA model with respective number of topics\n",
    "    \"\"\"\n",
    "    coherence_values = []\n",
    "    model_list = []\n",
    "    for num_topics in range(start, limit, step):\n",
    "        model = gensim.models.wrappers.LdaMallet(mallet_path, corpus=corpus, num_topics=num_topics, id2word=dictionary)\n",
    "        model_list.append(model)\n",
    "        coherencemodel = CoherenceModel(model=model, texts=texts, dictionary=dictionary, coherence='c_v')\n",
    "        coherence_values.append(coherencemodel.get_coherence())\n",
    "\n",
    "    return model_list, coherence_values"
   ]
  },
  {
   "cell_type": "code",
   "execution_count": 15,
   "metadata": {
    "ExecuteTime": {
     "end_time": "2018-08-27T03:59:49.047527Z",
     "start_time": "2018-08-27T03:50:46.032874Z"
    }
   },
   "outputs": [],
   "source": [
    "# Can take a long time to run.\n",
    "model_list, coherence_values = compute_coherence_values(dictionary=dictionary, corpus=corpus, texts=tokens_filtered, start=5, limit=21, step=2)"
   ]
  },
  {
   "cell_type": "code",
   "execution_count": 16,
   "metadata": {
    "ExecuteTime": {
     "end_time": "2018-08-27T03:59:49.216520Z",
     "start_time": "2018-08-27T03:59:49.050298Z"
    }
   },
   "outputs": [
    {
     "data": {
      "image/png": "[encoded data removed]",
      "text/plain": [
       "<Figure size 432x288 with 1 Axes>"
      ]
     },
     "metadata": {},
     "output_type": "display_data"
    }
   ],
   "source": [
    "# Show graph\n",
    "limit=21; start=5; step=2;\n",
    "x = range(start, limit, step)\n",
    "plt.plot(x, coherence_values)\n",
    "plt.xlabel(\"Num Topics\")\n",
    "plt.ylabel(\"Coherence score\")\n",
    "plt.legend((\"coherence_values\"), loc='best')\n",
    "plt.show()"
   ]
  },
  {
   "cell_type": "code",
   "execution_count": 17,
   "metadata": {
    "ExecuteTime": {
     "end_time": "2018-08-27T03:59:49.268145Z",
     "start_time": "2018-08-27T03:59:49.218540Z"
    }
   },
   "outputs": [
    {
     "name": "stdout",
     "output_type": "stream",
     "text": [
      "Num Topics = 5  has Coherence Value of 0.4278\n",
      "Num Topics = 7  has Coherence Value of 0.4551\n",
      "Num Topics = 9  has Coherence Value of 0.4655\n",
      "Num Topics = 11  has Coherence Value of 0.4866\n",
      "Num Topics = 13  has Coherence Value of 0.487\n",
      "Num Topics = 15  has Coherence Value of 0.5125\n",
      "Num Topics = 17  has Coherence Value of 0.4758\n",
      "Num Topics = 19  has Coherence Value of 0.4744\n"
     ]
    }
   ],
   "source": [
    "# Print the coherence scores (9 seems to be optimal here)\n",
    "for m, cv in zip(x, coherence_values):\n",
    "    print(\"Num Topics =\", m, \" has Coherence Value of\", round(cv, 4))"
   ]
  },
  {
   "cell_type": "code",
   "execution_count": 18,
   "metadata": {
    "ExecuteTime": {
     "end_time": "2018-08-27T03:59:52.525925Z",
     "start_time": "2018-08-27T03:59:49.272423Z"
    }
   },
   "outputs": [
    {
     "data": {
      "text/html": [
       "\n",
       "<link rel=\"stylesheet\" type=\"text/css\" href=\"https://cdn.rawgit.com/bmabey/pyLDAvis/files/ldavis.v1.0.0.css\">\n",
       "\n",
       "\n",
       "<div id=\"ldavis_el933331124710970409751324342\"></div>\n",
       "<script type=\"text/javascript\">\n",
       "\n",
       "var ldavis_el933331124710970409751324342_data = {\"mdsDat\": {\"Freq\": [82.45232391357422, 5.343538284301758, 3.855492115020752, 3.2264575958251953, 1.7193946838378906, 1.2418394088745117, 1.1580545902252197, 0.7610855102539062, 0.24181745946407318], \"cluster\": [1, 1, 1, 1, 1, 1, 1, 1, 1], \"topics\": [1, 2, 3, 4, 5, 6, 7, 8, 9], \"x\": [-0.0026206392412302898, -0.0003680083063084372, 0.0006444739400071015, 0.0020003940121556475, 0.0005062599931389496, 0.00018831961926298935, -3.576044058638838e-05, -0.0005036883672183852, 0.00018864879077881358], \"y\": [0.001562388361854581, -0.0011143422521835945, 0.0004509421949166031, 0.001987797150486902, -0.0013701449345091782, -0.0006360114881476792, -0.0005206372033458326, -0.0004045541202390822, 4.456229116728276e-05]}, \"tinfo\": {\"Category\": [\"Default\", \"Default\", \"Default\", \"Default\", \"Default\", \"Default\", \"Default\", \"Default\", \"Default\", \"Default\", \"Default\", \"Default\", \"Default\", \"Default\", \"Default\", \"Default\", \"Default\", \"Default\", \"Default\", \"Default\", \"Default\", \"Default\", \"Default\", \"Default\", \"Default\", \"Default\", \"Default\", \"Default\", \"Default\", \"Default\", \"Topic1\", \"Topic1\", \"Topic1\", \"Topic1\", \"Topic1\", \"Topic1\", \"Topic1\", \"Topic1\", \"Topic1\", \"Topic1\", \"Topic1\", \"Topic1\", \"Topic1\", \"Topic1\", \"Topic1\", \"Topic1\", \"Topic1\", \"Topic1\", \"Topic1\", \"Topic1\", \"Topic1\", \"Topic1\", \"Topic1\", \"Topic1\", \"Topic1\", \"Topic1\", \"Topic1\", \"Topic1\", \"Topic1\", \"Topic1\", \"Topic1\", \"Topic1\", \"Topic1\", \"Topic1\", \"Topic1\", \"Topic1\", \"Topic1\", \"Topic1\", \"Topic1\", \"Topic1\", \"Topic1\", \"Topic1\", \"Topic1\", \"Topic1\", \"Topic1\", \"Topic1\", \"Topic1\", \"Topic1\", \"Topic1\", \"Topic2\", \"Topic2\", \"Topic2\", \"Topic2\", \"Topic2\", \"Topic2\", \"Topic2\", \"Topic2\", \"Topic2\", \"Topic2\", \"Topic2\", \"Topic2\", \"Topic2\", \"Topic2\", \"Topic2\", \"Topic2\", \"Topic2\", \"Topic2\", \"Topic2\", \"Topic2\", \"Topic2\", \"Topic2\", \"Topic2\", \"Topic2\", \"Topic2\", \"Topic2\", \"Topic2\", \"Topic2\", \"Topic2\", \"Topic2\", \"Topic2\", \"Topic2\", \"Topic2\", \"Topic2\", \"Topic2\", \"Topic2\", \"Topic2\", \"Topic2\", \"Topic2\", \"Topic2\", \"Topic2\", \"Topic2\", \"Topic2\", \"Topic2\", \"Topic2\", \"Topic2\", \"Topic2\", \"Topic3\", \"Topic3\", \"Topic3\", \"Topic3\", \"Topic3\", \"Topic3\", \"Topic3\", \"Topic3\", \"Topic3\", \"Topic3\", \"Topic3\", \"Topic3\", \"Topic3\", \"Topic3\", \"Topic3\", \"Topic3\", \"Topic3\", \"Topic3\", \"Topic3\", \"Topic3\", \"Topic3\", \"Topic3\", \"Topic3\", \"Topic3\", \"Topic3\", \"Topic3\", \"Topic3\", \"Topic3\", \"Topic3\", \"Topic3\", \"Topic3\", \"Topic3\", \"Topic3\", \"Topic3\", \"Topic3\", \"Topic3\", \"Topic3\", \"Topic3\", \"Topic3\", \"Topic3\", \"Topic3\", \"Topic3\", \"Topic3\", \"Topic3\", \"Topic3\", \"Topic4\", \"Topic4\", \"Topic4\", \"Topic4\", \"Topic4\", \"Topic4\", \"Topic4\", \"Topic4\", \"Topic4\", \"Topic4\", \"Topic4\", \"Topic4\", \"Topic4\", \"Topic4\", \"Topic4\", \"Topic4\", \"Topic4\", \"Topic4\", \"Topic4\", \"Topic4\", \"Topic4\", \"Topic4\", \"Topic4\", \"Topic4\", \"Topic4\", \"Topic4\", \"Topic4\", \"Topic4\", \"Topic4\", \"Topic4\", \"Topic4\", \"Topic4\", \"Topic4\", \"Topic4\", \"Topic4\", \"Topic4\", \"Topic4\", \"Topic4\", \"Topic4\", \"Topic4\", \"Topic4\", \"Topic4\", \"Topic4\", \"Topic4\", \"Topic4\", \"Topic4\", \"Topic4\", \"Topic5\", \"Topic5\", \"Topic5\", \"Topic5\", \"Topic5\", \"Topic5\", \"Topic5\", \"Topic5\", \"Topic5\", \"Topic5\", \"Topic5\", \"Topic5\", \"Topic5\", \"Topic5\", \"Topic5\", \"Topic5\", \"Topic5\", \"Topic5\", \"Topic5\", \"Topic5\", \"Topic5\", \"Topic5\", \"Topic5\", \"Topic5\", \"Topic5\", \"Topic5\", \"Topic5\", \"Topic5\", \"Topic5\", \"Topic5\", \"Topic5\", \"Topic5\", \"Topic5\", \"Topic5\", \"Topic5\", \"Topic5\", \"Topic5\", \"Topic5\", \"Topic5\", \"Topic5\", \"Topic5\", \"Topic5\", \"Topic6\", \"Topic6\", \"Topic6\", \"Topic6\", \"Topic6\", \"Topic6\", \"Topic6\", \"Topic6\", \"Topic6\", \"Topic6\", \"Topic6\", \"Topic6\", \"Topic6\", \"Topic6\", \"Topic6\", \"Topic6\", \"Topic6\", \"Topic6\", \"Topic6\", \"Topic6\", \"Topic6\", \"Topic6\", \"Topic6\", \"Topic6\", \"Topic6\", \"Topic6\", \"Topic6\", \"Topic6\", \"Topic6\", \"Topic6\", \"Topic6\", \"Topic6\", \"Topic6\", \"Topic6\", \"Topic6\", \"Topic6\", \"Topic6\", \"Topic6\", \"Topic6\", \"Topic6\", \"Topic6\", \"Topic6\", \"Topic7\", \"Topic7\", \"Topic7\", \"Topic7\", \"Topic7\", \"Topic7\", \"Topic7\", \"Topic7\", \"Topic7\", \"Topic7\", \"Topic7\", \"Topic7\", \"Topic7\", \"Topic7\", \"Topic7\", \"Topic7\", \"Topic7\", \"Topic7\", \"Topic7\", \"Topic7\", \"Topic7\", \"Topic7\", \"Topic7\", \"Topic7\", \"Topic7\", \"Topic7\", \"Topic7\", \"Topic7\", \"Topic7\", \"Topic7\", \"Topic7\", \"Topic7\", \"Topic7\", \"Topic7\", \"Topic7\", \"Topic7\", \"Topic7\", \"Topic7\", \"Topic7\", \"Topic7\", \"Topic7\", \"Topic7\", \"Topic7\", \"Topic7\", \"Topic7\", \"Topic7\", \"Topic7\", \"Topic8\", \"Topic8\", \"Topic8\", \"Topic8\", \"Topic8\", \"Topic8\", \"Topic8\", \"Topic8\", \"Topic8\", \"Topic8\", \"Topic8\", \"Topic8\", \"Topic8\", \"Topic8\", \"Topic8\", \"Topic8\", \"Topic8\", \"Topic8\", \"Topic8\", \"Topic8\", \"Topic8\", \"Topic8\", \"Topic8\", \"Topic8\", \"Topic8\", \"Topic8\", \"Topic8\", \"Topic8\", \"Topic8\", \"Topic8\", \"Topic8\", \"Topic8\", \"Topic8\", \"Topic8\", \"Topic8\", \"Topic8\", \"Topic8\", \"Topic8\", \"Topic8\", \"Topic8\", \"Topic8\", \"Topic8\", \"Topic8\", \"Topic8\", \"Topic8\", \"Topic8\", \"Topic8\", \"Topic8\", \"Topic8\", \"Topic8\", \"Topic8\", \"Topic9\", \"Topic9\", \"Topic9\", \"Topic9\", \"Topic9\", \"Topic9\", \"Topic9\", \"Topic9\", \"Topic9\", \"Topic9\", \"Topic9\", \"Topic9\", \"Topic9\", \"Topic9\", \"Topic9\", \"Topic9\", \"Topic9\", \"Topic9\", \"Topic9\", \"Topic9\", \"Topic9\", \"Topic9\", \"Topic9\", \"Topic9\", \"Topic9\", \"Topic9\", \"Topic9\", \"Topic9\", \"Topic9\", \"Topic9\", \"Topic9\", \"Topic9\", \"Topic9\", \"Topic9\", \"Topic9\", \"Topic9\", \"Topic9\", \"Topic9\", \"Topic9\", \"Topic9\", \"Topic9\", \"Topic9\", \"Topic9\", \"Topic9\", \"Topic9\", \"Topic9\", \"Topic9\", \"Topic9\", \"Topic9\", \"Topic9\", \"Topic9\", \"Topic9\"], \"Freq\": [128.0, 121.0, 138.0, 100.0, 98.0, 95.0, 89.0, 100.0, 90.0, 72.0, 117.0, 79.0, 102.0, 64.0, 75.0, 80.0, 70.0, 74.0, 85.0, 74.0, 76.0, 70.0, 72.0, 149.0, 84.0, 66.0, 110.0, 72.0, 65.0, 75.0, 143.5880889892578, 81.86447143554688, 86.7591323852539, 89.29889678955078, 70.32075500488281, 68.46997833251953, 104.80058288574219, 68.89299774169922, 66.86641693115234, 70.55301666259766, 129.84364318847656, 62.22571563720703, 95.6470718383789, 56.752986907958984, 65.7652587890625, 66.53389739990234, 52.620086669921875, 55.52317810058594, 50.91737747192383, 53.86098861694336, 58.01045608520508, 50.2747917175293, 49.66332244873047, 79.8019790649414, 68.95555877685547, 55.28807067871094, 75.28020477294922, 54.57435607910156, 47.525726318359375, 49.76055908203125, 59.07841873168945, 78.98377227783203, 108.81071472167969, 68.11686706542969, 89.71312713623047, 104.630615234375, 80.94822692871094, 76.19778442382812, 85.15645599365234, 76.59111785888672, 86.71558380126953, 109.17801666259766, 66.71637725830078, 68.79780578613281, 76.83729553222656, 72.04975128173828, 82.29837036132812, 70.53679656982422, 68.8199234008789, 7.235592365264893, 5.314416885375977, 4.906249046325684, 8.088542938232422, 6.30855655670166, 4.601347923278809, 4.823797225952148, 4.723025798797607, 3.898214817047119, 3.7765612602233887, 4.348365306854248, 3.669548749923706, 4.086986541748047, 3.5543510913848877, 3.5899765491485596, 4.762447834014893, 3.3721065521240234, 3.406851291656494, 5.749416828155518, 3.307559013366699, 3.928307294845581, 3.323467969894409, 3.8230464458465576, 3.605592966079712, 3.3408215045928955, 3.1517136096954346, 3.5805225372314453, 3.1248536109924316, 2.9741392135620117, 2.9412002563476562, 3.532585859298706, 4.202428340911865, 6.551914691925049, 9.462711334228516, 3.9126298427581787, 5.934142589569092, 4.657188415527344, 4.360123634338379, 6.412177085876465, 4.660135746002197, 4.295628070831299, 5.450380802154541, 5.664823055267334, 4.745372295379639, 4.2776641845703125, 4.0771260261535645, 4.060009956359863, 4.800685405731201, 4.520555019378662, 4.206528186798096, 5.6749701499938965, 4.104413986206055, 3.725266456604004, 3.8871076107025146, 3.3472492694854736, 3.347217082977295, 2.887650728225708, 2.865510940551758, 2.730142116546631, 2.783949375152588, 2.566946029663086, 2.5084993839263916, 2.4634034633636475, 2.4633774757385254, 2.4633610248565674, 2.362846851348877, 2.284440279006958, 2.2705109119415283, 2.247138261795044, 2.3176076412200928, 2.591301679611206, 3.0520033836364746, 2.2015442848205566, 2.113044261932373, 2.29233455657959, 2.1600987911224365, 2.159238338470459, 2.5679187774658203, 8.372323036193848, 5.215231895446777, 3.5350375175476074, 3.8402068614959717, 2.9392330646514893, 2.670572280883789, 3.159581422805786, 2.7931368350982666, 3.2481393814086914, 3.3979623317718506, 2.667160749435425, 2.7344844341278076, 2.6945648193359375, 2.824101209640503, 5.44083833694458, 3.9520952701568604, 3.962794542312622, 3.154517650604248, 3.1808903217315674, 3.0573301315307617, 2.946192979812622, 2.8963851928710938, 2.8046860694885254, 2.804663896560669, 2.804642677307129, 3.3174586296081543, 2.500148296356201, 2.292266368865967, 2.6263644695281982, 2.2975783348083496, 2.1865336894989014, 2.186525821685791, 2.1865079402923584, 2.175759792327881, 2.1757588386535645, 2.1757590770721436, 2.175741195678711, 2.098660469055176, 2.838102102279663, 2.3949830532073975, 1.917471170425415, 1.9174573421478271, 1.9617581367492676, 1.9078961610794067, 2.431973457336426, 2.8551340103149414, 2.5795059204101562, 3.6685359477996826, 3.448650598526001, 2.6229989528656006, 3.878603935241699, 2.8468620777130127, 2.7264232635498047, 2.473564863204956, 2.8203799724578857, 2.5095832347869873, 2.8281471729278564, 2.8348002433776855, 2.7025251388549805, 2.5375168323516846, 2.5014963150024414, 2.256866693496704, 2.2259438037872314, 1.8522491455078125, 1.8508237600326538, 1.51148521900177, 1.4511728286743164, 2.149296760559082, 1.3163974285125732, 1.271023154258728, 1.4234825372695923, 1.3296482563018799, 1.4398095607757568, 1.6640573740005493, 1.1573197841644287, 1.0870980024337769, 1.3065967559814453, 1.994800090789795, 1.0608240365982056, 1.549543857574463, 1.0725722312927246, 1.1090128421783447, 1.1248090267181396, 1.0082768201828003, 1.5082752704620361, 0.994640588760376, 1.307876467704773, 0.9788448214530945, 0.9936811923980713, 0.929443895816803, 0.9294435977935791, 1.3565291166305542, 1.2276663780212402, 1.9128211736679077, 1.3750698566436768, 1.381345510482788, 1.7914893627166748, 1.302001953125, 1.2457743883132935, 1.1770594120025635, 1.1956106424331665, 1.1533950567245483, 1.206314206123352, 1.361114501953125, 1.1018404960632324, 1.1386312246322632, 0.9551487565040588, 0.9551467299461365, 0.9551354050636292, 1.0679588317871094, 0.8444347381591797, 0.8190599679946899, 0.8750954270362854, 0.9516178965568542, 0.9924370646476746, 0.8883652687072754, 0.7608094811439514, 0.7677726149559021, 0.6681202054023743, 0.7609092593193054, 0.7269330620765686, 0.6229994893074036, 0.6229944825172424, 0.6512027978897095, 0.6883772611618042, 0.9698002338409424, 0.7703516483306885, 0.835713267326355, 0.7890665531158447, 0.6308081746101379, 0.7221295833587646, 0.5860886573791504, 0.6789613962173462, 0.8937160968780518, 0.7247859239578247, 0.7588575482368469, 1.0407966375350952, 0.7903820872306824, 0.9335902333259583, 1.191630244255066, 1.0302754640579224, 0.9064168334007263, 0.9706833958625793, 0.867956817150116, 0.8910630941390991, 1.9441639184951782, 1.8886384963989258, 1.7517085075378418, 1.2193725109100342, 1.1491425037384033, 0.8252260684967041, 0.8078101277351379, 0.9970864653587341, 0.7495543360710144, 0.9180288910865784, 0.8314520120620728, 0.6904424428939819, 0.6699921488761902, 0.6471210718154907, 0.9133912920951843, 0.9358246326446533, 0.6305180191993713, 0.6342430114746094, 0.624658465385437, 0.6198910474777222, 0.621505618095398, 0.6571447253227234, 0.633426308631897, 0.8470569849014282, 0.5976886749267578, 0.5976813435554504, 0.6540559530258179, 0.7336746454238892, 0.6287915706634521, 0.6660969257354736, 0.7680465579032898, 0.7694265246391296, 1.0717567205429077, 1.4467400312423706, 1.2343709468841553, 0.8013772368431091, 1.3366588354110718, 0.984428882598877, 0.8651982545852661, 0.8404386639595032, 0.8591669201850891, 0.8557150959968567, 0.9208167195320129, 0.7640374302864075, 0.8083909153938293, 0.7779067754745483, 0.7761995196342468, 1.0424432754516602, 1.1367319822311401, 0.6015549898147583, 0.7737185955047607, 0.5546256899833679, 0.48357394337654114, 0.46700555086135864, 0.5731136202812195, 0.62782883644104, 0.579099714756012, 0.43987998366355896, 0.45129549503326416, 0.5782999992370605, 0.368998646736145, 0.3689989149570465, 0.38144806027412415, 0.3567838966846466, 0.4042128920555115, 0.397627592086792, 0.34527587890625, 0.5336827635765076, 0.42060989141464233, 0.3501841723918915, 0.3279896080493927, 0.3933276832103729, 0.3332458436489105, 0.33157870173454285, 0.467887282371521, 0.3215462267398834, 0.3215447664260864, 0.9049318432807922, 0.47390204668045044, 0.5453381538391113, 0.5290229320526123, 0.7862867712974548, 0.5559553503990173, 0.8523837924003601, 1.1127575635910034, 0.541125476360321, 0.6389438509941101, 0.6079679727554321, 0.8165714740753174, 0.6453405022621155, 0.8019657135009766, 0.6130599975585938, 0.9017212390899658, 0.6109858155250549, 0.6829847693443298, 0.5271658301353455, 0.5564593076705933, 0.5513656735420227, 0.3863406181335449, 0.22310984134674072, 0.23425108194351196, 0.2225581705570221, 0.20936834812164307, 0.16273677349090576, 0.24074684083461761, 0.1466878354549408, 0.1688462644815445, 0.13871441781520844, 0.14300450682640076, 0.1308775097131729, 0.1279807835817337, 0.12798243761062622, 0.12221921235322952, 0.17201831936836243, 0.16013012826442719, 0.11933323740959167, 0.1211710050702095, 0.13348883390426636, 0.12226060777902603, 0.12035354971885681, 0.11294274032115936, 0.11294268071651459, 0.11294187605381012, 0.11294178664684296, 0.1636659801006317, 0.12538832426071167, 0.126772940158844, 0.1155424416065216, 0.1315944790840149, 0.1946018487215042, 0.15624099969863892, 0.14005471765995026, 0.15905696153640747, 0.17146733403205872, 0.13900786638259888, 0.1388978362083435, 0.1496436893939972, 0.15106190741062164, 0.15178510546684265, 0.16055099666118622, 0.1576336771249771, 0.17355872690677643, 0.17133651673793793, 0.1633835881948471, 0.15597869455814362, 0.1461414396762848, 0.1443260908126831, 0.14340311288833618, 0.14709226787090302, 0.14458125829696655], \"Term\": [\"fracture\", \"surfactant\", \"nanoparticles\", \"foam\", \"acid\", \"surfactants\", \"drilling\", \"permeability\", \"polymer\", \"floods\", \"cement\", \"wellbore\", \"foams\", \"asp\", \"recovery\", \"gas\", \"hydrate\", \"oil\", \"eor\", \"fractures\", \"flooding\", \"shale\", \"reservoir\", \"basins\", \"imbibition\", \"carbonate\", \"seismic\", \"temperature\", \"optimization\", \"conductivity\", \"basins\", \"tgs\", \"trr\", \"frontier\", \"tpwl\", \"simpleware\", \"seismic\", \"ugrs\", \"nanofluids\", \"fixed-stress\", \"nanoparticles\", \"lapse\", \"foams\", \"prise\", \"split\", \"recoverable\", \"fixed-strain\", \"cleanup\", \"norne\", \"undrained\", \"resqml\", \"splits\", \"gpr\", \"hpht\", \"resources\", \"reduced-order\", \"crm\", \"american\", \"in-panel\", \"ulr\", \"asp\", \"geomechanics\", \"surfactant\", \"basin\", \"permeability\", \"cement\", \"polymer\", \"imbibition\", \"surfactants\", \"eor\", \"acid\", \"fracture\", \"annulus\", \"flooding\", \"drilling\", \"casing\", \"foam\", \"gas\", \"wellbore\", \"pga\", \"rate-time\", \"pla\", \"slug\", \"holdup\", \"ltg\", \"lsw\", \"isc\", \"twc\", \"band\", \"bands\", \"limiters\", \"stratified\", \"symmetrically\", \"sticking\", \"combustion\", \"time-rate\", \"hoop\", \"practices\", \"lswag\", \"esp\", \"compacting\", \"film\", \"breakout\", \"entrainment\", \"steerability\", \"tester\", \"loaded\", \"nanoindentation\", \"vugular\", \"opinions\", \"kerogen\", \"pipe\", \"foam\", \"organic-rich\", \"casing\", \"bit\", \"asphaltenes\", \"surfactant\", \"proppant\", \"liquid\", \"surfactants\", \"cement\", \"acid\", \"drilling\", \"salinity\", \"eor\", \"uruguayan\", \"uruguay\", \"flame\", \"height\", \"fiscal\", \"bodies\", \"pvs\", \"cliff\", \"hyperspectral\", \"data-analysis\", \"multiple-fracture\", \"khuff\", \"stress-shadow\", \"contracts\", \"resilience\", \"pec\", \"hydrogels\", \"polyelectrolyte\", \"shadow\", \"fdc\", \"vein\", \"exterior\", \"nonplanar\", \"incidents\", \"dolomite\", \"slowness\", \"ehrenberg\", \"hydraulic-fracture\", \"dust\", \"interior\", \"huff-n-puff\", \"fracture\", \"fractures\", \"gel\", \"stress\", \"safety\", \"width\", \"hydraulic\", \"propagation\", \"shale\", \"cement\", \"offshore\", \"fracturing\", \"adsorption\", \"nanoparticles\", \"peridynamic\", \"toolkit\", \"archie\", \"lineaments\", \"peridynamics\", \"manufacturing\", \"ketton\", \"micro-models\", \"flaws\", \"kennedy\", \"herrick\", \"matrix-vug\", \"portland\", \"estaillades\", \"cretaceous\", \"dissociation\", \"digitised\", \"lineament\", \"vertex\", \"enabler\", \"orthoslices\", \"printing\", \"quasi-2d\", \"eocene\", \"resistivity\", \"fracture-vug\", \"smits\", \"waxman\", \"analogues\", \"restimulation\", \"deconvolution\", \"vuggy\", \"mpg\", \"stress\", \"hydrate\", \"vugs\", \"fracture\", \"coal\", \"rotation\", \"image\", \"fractures\", \"spontaneous\", \"imbibition\", \"drilling\", \"wellbore\", \"proppant\", \"acid\", \"sagd\", \"stratified\", \"bitumen\", \"wax\", \"looped\", \"es-sagd\", \"steam\", \"vrr\", \"narrow-boiling\", \"superficial\", \"chamber\", \"stationary\", \"holdup\", \"sfi\", \"xwl\", \"pipelines\", \"slug\", \"pna\", \"combustion\", \"dunes\", \"edge\", \"coinjection\", \"chamber-edge\", \"solvent\", \"break-up\", \"rop\", \"mudcake\", \"micromodels\", \"n-alkanes\", \"isenthalpic\", \"drillstring\", \"pipes\", \"pipe\", \"liquid\", \"bit\", \"foam\", \"velocity\", \"deposition\", \"sand\", \"multiscale\", \"strengthening\", \"drilling\", \"fts\", \"reforming\", \"phase-field\", \"gtl\", \"fischer-tropsch\", \"syngas\", \"reactor\", \"gas-to-liquid\", \"ices\", \"synthesis\", \"galerkin\", \"moments\", \"confinement\", \"ves\", \"nanopore\", \"pc-saft\", \"nanopores\", \"fuels\", \"drm\", \"fischer\\u2013tropsch\", \"multirate\", \"capillaries\", \"reaction\", \"hcl\", \"condensate\", \"precipitation\", \"frio\", \"blood\", \"fixed-bed\", \"acids\", \"kerogen\", \"edfm\", \"adsorbed\", \"asphaltene\", \"random\", \"methane\", \"acid\", \"hydrate\", \"adsorption\", \"fracture\", \"foam\", \"nanoparticles\", \"surging\", \"upgridding\", \"geosteering\", \"lrs\", \"sec\", \"bdf\", \"geo-cellular\", \"newton\", \"cmt\", \"esp\", \"pipeline\", \"es-mda\", \"bangladesh\", \"ansys\", \"pump\", \"cfd\", \"multicontinuum\", \"appraisal\", \"pedfm\", \"smoothness\", \"securities\", \"pool\", \"mudcake\", \"condensate\", \"pocket\", \"minemura\", \"deterioration\", \"edfm\", \"phase-field\", \"head\", \"rop\", \"dca\", \"reserves\", \"acid\", \"foam\", \"analytic\", \"fracture\", \"hydrate\", \"decision\", \"loading\", \"jetting\", \"resqml\", \"drilling\", \"liquid\", \"conductivity\", \"pipe\", \"wells\", \"nmr\", \"battery\", \"aging\", \"kerogen\", \"hld-nac\", \"lithium-ion\", \"nmr-based\", \"vehicle\", \"resistivity\", \"mudrocks\", \"plug-in\", \"dielectric\", \"organic-rich\", \"automotive\", \"pba\", \"guerbet\", \"cec\", \"mudrock\", \"maturity\", \"hess\", \"electric\", \"engine\", \"fabric\", \"rankine\", \"charge\", \"humidity\", \"blend\", \"alkoxy\", \"pontryagin\", \"heavy-duty\", \"asp\", \"ppg\", \"acp\", \"pdg\", \"microemulsion\", \"vehicles\", \"floods\", \"surfactant\", \"slug\", \"flood\", \"wettability\", \"polymer\", \"salinity\", \"surfactants\", \"emissions\", \"nanoparticles\", \"ift\", \"foam\", \"utchem\", \"recovery\", \"flooding\", \"combustion\", \"restimulation\", \"sagd\", \"channel\", \"isc\", \"stacking\", \"steam\", \"object-based\", \"injector\", \"gpme\", \"conditioning\", \"arrhenius\", \"aggradation\", \"mud-rich\", \"foam-bubble\", \"condensate\", \"object\", \"subgrid\", \"isoconversional\", \"bitumen\", \"crude-oil\", \"reservoir-wide\", \"declustering\", \"sinuosity\", \"waxing\\u2013waning\", \"event-based\", \"connectivities\", \"turbidite\", \"confinement\", \"well-to-well\", \"objects\", \"eccentric\", \"reaction\", \"barite\", \"streamline\", \"cuttings\", \"kinetics\", \"proxy\", \"losses\", \"ypl\", \"asphaltene\", \"pipe\", \"rotation\", \"drilling\", \"foam\", \"wellbore\", \"optimization\", \"multiscale\", \"asphaltenes\", \"stimulation\", \"fracture\", \"annulus\"], \"Total\": [128.0, 121.0, 138.0, 100.0, 98.0, 95.0, 89.0, 100.0, 90.0, 72.0, 117.0, 79.0, 102.0, 64.0, 75.0, 80.0, 70.0, 74.0, 85.0, 74.0, 76.0, 70.0, 72.0, 149.0, 84.0, 66.0, 110.0, 72.0, 65.0, 75.0, 149.41001892089844, 85.89688110351562, 91.04306030273438, 93.86786651611328, 74.39141082763672, 72.50091552734375, 110.98863983154297, 73.2699203491211, 71.20576477050781, 75.19233703613281, 138.686767578125, 66.4765396118164, 102.3338394165039, 60.796634674072266, 70.64934539794922, 71.49708557128906, 56.6510009765625, 59.874507904052734, 54.965824127197266, 58.144683837890625, 62.62833786010742, 54.323760986328125, 53.69423294067383, 86.29230499267578, 74.61608123779297, 59.8607063293457, 81.59246063232422, 59.18205261230469, 51.556640625, 54.0461311340332, 64.35347747802734, 86.58297729492188, 121.11595153808594, 74.78355407714844, 100.02588653564453, 117.9194107055664, 90.04959869384766, 84.38976287841797, 95.56535339355469, 85.53958129882812, 98.59513092041016, 128.97474670410156, 73.72327423095703, 76.69569396972656, 89.51226806640625, 82.08775329589844, 100.5490951538086, 80.31338500976562, 79.09526824951172, 28.25263023376465, 26.440719604492188, 25.922672271728516, 42.7393798828125, 34.18256759643555, 25.61779022216797, 26.967792510986328, 27.296476364135742, 25.026735305786133, 24.8990478515625, 29.168964385986328, 24.871614456176758, 27.704484939575195, 24.579477310180664, 25.018211364746094, 33.479713439941406, 24.436901092529297, 24.800966262817383, 42.01349639892578, 24.32398796081543, 28.918975830078125, 24.91203498840332, 28.67120933532715, 27.18698501586914, 25.235305786132812, 24.16799545288086, 28.481260299682617, 25.00122833251953, 24.084962844848633, 24.033552169799805, 29.052053451538086, 34.99116897583008, 56.536277770996094, 100.5490951538086, 33.65177536010742, 82.08775329589844, 50.474639892578125, 46.56407928466797, 121.11595153808594, 58.93579864501953, 47.09449005126953, 95.56535339355469, 117.9194107055664, 98.59513092041016, 89.51226806640625, 60.78131103515625, 85.53958129882812, 26.157033920288086, 25.87649917602539, 25.56195640563965, 35.5633544921875, 26.301279067993164, 25.340391159057617, 27.430622100830078, 24.70279884338379, 24.702865600585938, 24.323213577270508, 25.065160751342773, 24.085674285888672, 24.61238670349121, 23.97562026977539, 23.877805709838867, 23.81873321533203, 23.81878089904785, 23.818836212158203, 24.217529296875, 23.6528263092041, 23.832923889160156, 23.886436462402344, 25.11516761779785, 28.1259708404541, 33.13004684448242, 24.154306411743164, 23.468505859375, 25.487958908081055, 24.15633773803711, 24.164077758789062, 29.099262237548828, 128.97474670410156, 74.41703033447266, 56.41627502441406, 67.49637603759766, 40.93225860595703, 34.36023712158203, 59.883392333984375, 44.06732177734375, 70.80719757080078, 117.9194107055664, 43.16002655029297, 59.91645431518555, 61.330230712890625, 138.686767578125, 27.16245460510254, 25.48832893371582, 26.60477638244629, 24.654525756835938, 24.878528594970703, 24.62849998474121, 24.446189880371094, 24.396270751953125, 24.30470085144043, 24.304677963256836, 24.30463981628418, 31.66864585876465, 24.558225631713867, 23.813247680664062, 27.718305587768555, 24.437049865722656, 23.686368942260742, 23.686325073242188, 23.686357498168945, 23.675556182861328, 23.675582885742188, 23.675596237182617, 23.67560386657715, 23.944528579711914, 32.892391204833984, 28.288227081298828, 23.41724395751953, 23.417268753051758, 23.98310089111328, 23.574256896972656, 30.151899337768555, 37.423038482666016, 35.50593566894531, 67.49637603759766, 70.29142761230469, 39.33197021484375, 128.97474670410156, 53.75774002075195, 55.62460708618164, 39.317020416259766, 74.41703033447266, 44.355770111083984, 84.38976287841797, 89.51226806640625, 79.09526824951172, 58.93579864501953, 98.59513092041016, 28.014429092407227, 27.704484939575195, 25.581035614013672, 25.679264068603516, 23.341960906982422, 24.359477996826172, 37.084800720214844, 23.60254669189453, 23.10139274597168, 26.610027313232422, 25.384109497070312, 28.976512908935547, 34.18256759643555, 24.20151710510254, 22.917356491088867, 27.544967651367188, 42.7393798828125, 22.891088485717773, 33.479713439941406, 23.238924026489258, 24.23263931274414, 25.085803985595703, 22.838550567626953, 34.53961944580078, 22.82489585876465, 30.84943962097168, 23.3856143951416, 24.05157470703125, 22.759700775146484, 22.75972557067871, 34.96452713012695, 32.24204635620117, 56.536277770996094, 47.09449005126953, 50.474639892578125, 100.5490951538086, 44.11932373046875, 40.3707160949707, 38.014156341552734, 43.79109573364258, 33.789310455322266, 89.51226806640625, 23.30483627319336, 23.152822494506836, 24.387535095214844, 22.898603439331055, 22.898696899414062, 22.898818969726562, 25.61638069152832, 22.787891387939453, 23.147327423095703, 25.284255981445312, 27.760948181152344, 29.01532745361328, 26.235322952270508, 23.341209411621094, 25.152822494506836, 22.6457462310791, 27.52785873413086, 26.32887077331543, 22.566354751586914, 22.566381454467773, 23.605850219726562, 25.254316329956055, 36.17860412597656, 29.091022491455078, 31.727880477905273, 30.006595611572266, 24.06821632385254, 27.645795822143555, 22.529462814331055, 26.25900650024414, 34.99116897583008, 28.311012268066406, 29.904062271118164, 46.695213317871094, 31.94744873046875, 48.754554748535156, 98.59513092041016, 70.29142761230469, 61.330230712890625, 128.97474670410156, 100.5490951538086, 138.686767578125, 24.506532669067383, 23.869245529174805, 24.34836769104004, 23.184932708740234, 28.175378799438477, 22.790660858154297, 22.77836799621582, 30.027326583862305, 23.44865608215332, 28.918975830078125, 26.382505416870117, 22.78968620300293, 22.728132247924805, 22.768939971923828, 32.49085235595703, 33.7501106262207, 22.74576759338379, 23.05179786682129, 22.766448974609375, 22.774925231933594, 22.92416000366211, 24.245929718017578, 23.3856143951416, 31.727880477905273, 22.563140869140625, 22.563297271728516, 25.02922248840332, 28.311012268066406, 24.387535095214844, 26.56269645690918, 30.84943962097168, 31.430004119873047, 51.10361862182617, 98.59513092041016, 100.5490951538086, 40.30545425415039, 128.97474670410156, 70.29142761230469, 52.437992095947266, 48.96797561645508, 60.74836349487305, 62.62833786010742, 89.51226806640625, 47.09449005126953, 75.53936004638672, 56.536277770996094, 66.5676498413086, 31.88103485107422, 35.20410919189453, 26.59946060180664, 34.99116897583008, 26.517038345336914, 23.251516342163086, 22.522031784057617, 29.241809844970703, 32.892391204833984, 31.5119571685791, 24.609777450561523, 25.912382125854492, 33.65177536010742, 22.424087524414062, 22.424108505249023, 24.00104522705078, 22.477792739868164, 25.9190673828125, 25.755647659301758, 22.40028953552246, 34.65268325805664, 27.995370864868164, 23.86565399169922, 22.455026626586914, 27.10074234008789, 23.044042587280273, 23.04043960571289, 32.51618194580078, 22.376535415649414, 22.376550674438477, 64.35347747802734, 33.25400161743164, 39.0334587097168, 38.5639533996582, 62.27071762084961, 42.180335998535156, 72.17251586914062, 121.11595153808594, 42.7393798828125, 56.34724044799805, 52.04317092895508, 90.04959869384766, 60.78131103515625, 95.56535339355469, 57.20679473876953, 138.686767578125, 61.373924255371094, 100.5490951538086, 46.56852340698242, 75.85972595214844, 76.69569396972656, 33.479713439941406, 23.574256896972656, 28.014429092407227, 27.74675178527832, 27.296476364135742, 24.210798263549805, 37.084800720214844, 22.765249252319336, 26.900043487548828, 22.54761505126953, 23.610170364379883, 22.833513259887695, 22.449554443359375, 22.451871871948242, 22.518964767456055, 31.727880477905273, 29.854568481445312, 22.638803482055664, 23.0760498046875, 25.581035614013672, 23.785547256469727, 23.46215057373047, 22.290319442749023, 22.290311813354492, 22.290359497070312, 22.2903995513916, 32.67713928222656, 25.872312545776367, 26.235322952270508, 24.04256820678711, 27.563167572021484, 48.20457458496094, 36.17860412597656, 31.86870574951172, 40.42823028564453, 46.58614730834961, 32.493717193603516, 32.788387298583984, 40.506492614746094, 42.99387741088867, 46.695213317871094, 56.536277770996094, 55.62460708618164, 89.51226806640625, 100.5490951538086, 79.09526824951172, 65.43815612792969, 43.79109573364258, 46.56407928466797, 48.61502456665039, 128.97474670410156, 73.72327423095703], \"loglift\": [30.0, 29.0, 28.0, 27.0, 26.0, 25.0, 24.0, 23.0, 22.0, 21.0, 20.0, 19.0, 18.0, 17.0, 16.0, 15.0, 14.0, 13.0, 12.0, 11.0, 10.0, 9.0, 8.0, 7.0, 6.0, 5.0, 4.0, 3.0, 2.0, 1.0, 0.15320000052452087, 0.14489999413490295, 0.14480000734329224, 0.14309999346733093, 0.13670000433921814, 0.13570000231266022, 0.1356000006198883, 0.131400004029274, 0.13009999692440033, 0.12929999828338623, 0.12710000574588776, 0.12690000236034393, 0.12540000677108765, 0.12409999966621399, 0.12129999697208405, 0.12099999934434891, 0.11909999698400497, 0.11749999970197678, 0.11640000343322754, 0.11640000343322754, 0.11640000343322754, 0.11550000309944153, 0.11490000039339066, 0.11479999870061874, 0.11410000175237656, 0.11349999904632568, 0.11240000277757645, 0.11190000176429749, 0.11150000244379044, 0.11029999703168869, 0.10740000009536743, 0.10109999775886536, 0.08579999953508377, 0.09960000216960907, 0.08410000056028366, 0.07339999824762344, 0.08640000224113464, 0.09080000221729279, 0.07760000228881836, 0.08250000327825546, 0.06459999829530716, 0.02630000002682209, 0.09309999644756317, 0.08429999649524689, 0.040300000458955765, 0.0625, -0.007300000172108412, 0.06310000270605087, 0.05380000174045563, 1.5671000480651855, 1.3248000144958496, 1.2647000551223755, 1.2646000385284424, 1.2395000457763672, 1.2122999429702759, 1.2081999778747559, 1.1749999523162842, 1.0699000358581543, 1.0433000326156616, 1.0260000228881836, 1.0155999660491943, 1.0154999494552612, 0.9955000281333923, 0.9878000020980835, 0.9790999889373779, 0.9487000107765198, 0.9441999793052673, 0.9404000043869019, 0.9340000152587891, 0.9330000281333923, 0.914900004863739, 0.9143999814987183, 0.9089999794960022, 0.9072999954223633, 0.8921999931335449, 0.8554999828338623, 0.8496999740600586, 0.8375999927520752, 0.8285999894142151, 0.8222000002861023, 0.8098000288009644, 0.7742000222206116, 0.5659999847412109, 0.777400016784668, 0.30219998955726624, 0.5461999773979187, 0.5609999895095825, -0.00930000003427267, 0.3919000029563904, 0.5346999764442444, 0.06520000100135803, -0.10639999806880951, -0.10459999740123749, -0.11169999837875366, 0.227400004863739, -0.1185000017285347, 1.5602999925613403, 1.5110000371932983, 1.451200008392334, 1.4204000234603882, 1.3981000185012817, 1.3384000062942505, 1.3016999959945679, 1.2568999528884888, 1.2568999528884888, 1.1246999502182007, 1.086899995803833, 1.0784000158309937, 1.076300024986267, 1.021399974822998, 1.0024000406265259, 0.9866999983787537, 0.9866999983787537, 0.9866999983787537, 0.9284999966621399, 0.9182999730110168, 0.9046000242233276, 0.8920000195503235, 0.8726999759674072, 0.8711000084877014, 0.8709999918937683, 0.8604000210762024, 0.8481000065803528, 0.847000002861023, 0.8413000106811523, 0.8406000137329102, 0.8281000256538391, 0.5210000276565552, 0.597599983215332, 0.48559999465942383, 0.38909998536109924, 0.6219000220298767, 0.7010999917984009, 0.31369999051094055, 0.49709999561309814, 0.1738000065088272, -0.29120001196861267, 0.4717999994754791, 0.16869999468326569, 0.1306000053882599, -0.6384000182151794, 1.8258999586105347, 1.5698000192642212, 1.5296000242233276, 1.3776999711990356, 1.3768999576568604, 1.3473999500274658, 1.3178000450134277, 1.3028000593185425, 1.274399995803833, 1.274399995803833, 1.274399995803833, 1.1777000427246094, 1.1490999460220337, 1.0930999517440796, 1.077299952507019, 1.0694999694824219, 1.051200032234192, 1.051200032234192, 1.051200032234192, 1.0467000007629395, 1.0467000007629395, 1.0467000007629395, 1.0467000007629395, 0.9993000030517578, 0.9836999773979187, 0.9646999835968018, 0.9312999844551086, 0.9312999844551086, 0.9302999973297119, 0.9196000099182129, 0.9161999821662903, 0.8605999946594238, 0.8116999864578247, 0.5214999914169312, 0.41909998655319214, 0.7261000275611877, -0.07039999961853027, 0.49549999833106995, 0.41819998621940613, 0.6678000092506409, 0.16099999845027924, 0.5616999864578247, 0.03799999877810478, -0.01860000006854534, 0.05730000138282776, 0.28850001096725464, -0.2402999997138977, 1.5444999933242798, 1.5418000221252441, 1.4377000331878662, 1.4330999851226807, 1.3259999752044678, 1.2425999641418457, 1.2151000499725342, 1.1766999959945679, 1.163100004196167, 1.1349999904632568, 1.1139999628067017, 1.0612000226974487, 1.0406999588012695, 1.0228999853134155, 1.014799952507019, 1.014799952507019, 0.9986000061035156, 0.9915000200271606, 0.9901999831199646, 0.9873999953269958, 0.9789999723434448, 0.9585000276565552, 0.9430000185966492, 0.9320999979972839, 0.9300000071525574, 0.9024999737739563, 0.8896999955177307, 0.8766999840736389, 0.8650000095367432, 0.8650000095367432, 0.8137999773025513, 0.7950000166893005, 0.6769000291824341, 0.5295000076293945, 0.46480000019073486, 0.035599999129772186, 0.5401999950408936, 0.5849000215530396, 0.5882999897003174, 0.46239998936653137, 0.6858000159263611, -0.243599995970726, 1.548200011253357, 1.343400001525879, 1.3243000507354736, 1.2115999460220337, 1.2115999460220337, 1.2115999460220337, 1.2110999822616577, 1.0932999849319458, 1.0470999479293823, 1.024999976158142, 1.0154000520706177, 1.013200044631958, 1.003100037574768, 0.9649999737739563, 0.8992999792098999, 0.8652999997138977, 0.8001000285148621, 0.7990000247955322, 0.7989000082015991, 0.7989000082015991, 0.7980999946594238, 0.7861999869346619, 0.7694000005722046, 0.7572000026702881, 0.7519000172615051, 0.7502999901771545, 0.7469000220298767, 0.7436000108718872, 0.7394999861717224, 0.7333999872207642, 0.7210999727249146, 0.7233999967575073, 0.7146000266075134, 0.5849000215530396, 0.6891999840736389, 0.43309998512268066, -0.02710000053048134, 0.16580000519752502, 0.17399999499320984, -0.5008000135421753, -0.3637000024318695, -0.6589999794960022, 1.924299955368042, 1.9217000007629395, 1.8265999555587769, 1.5132999420166016, 1.2589999437332153, 1.1399999856948853, 1.1191999912261963, 1.0534000396728516, 1.0153000354766846, 1.0083999633789062, 1.001099944114685, 0.9617000222206116, 0.9343000054359436, 0.8978000283241272, 0.886900007724762, 0.8730999827384949, 0.8727999925613403, 0.8654000163078308, 0.8626000285148621, 0.8546000123023987, 0.850600004196167, 0.8503000140190125, 0.8496999740600586, 0.8352000117301941, 0.8274000287055969, 0.8274000287055969, 0.8137999773025513, 0.8054999709129333, 0.8004000186920166, 0.772599995136261, 0.7653999924659729, 0.7486000061035156, 0.5939000248908997, 0.23669999837875366, 0.05829999968409538, 0.5404999852180481, -0.11100000143051147, 0.19009999930858612, 0.3540000021457672, 0.39340001344680786, 0.19990000128746033, 0.16539999842643738, -0.11840000003576279, 0.33709999918937683, -0.07890000194311142, 0.17239999771118164, 0.006899999920278788, 1.4577000141143799, 1.445199966430664, 1.0891000032424927, 1.066499948501587, 1.0109000205993652, 1.0053000450134277, 1.0023000240325928, 0.945900022983551, 0.9194999933242798, 0.8815000057220459, 0.8537999987602234, 0.8277999758720398, 0.8144999742507935, 0.7710999846458435, 0.7710999846458435, 0.736299991607666, 0.7350000143051147, 0.7174000144004822, 0.7073000073432922, 0.7056999802589417, 0.7049000263214111, 0.6801000237464905, 0.6564000248908997, 0.6518999934196472, 0.6455000042915344, 0.6419000029563904, 0.6370000243186951, 0.636900007724762, 0.6355999708175659, 0.6355000138282776, 0.6139000058174133, 0.6272000074386597, 0.6074000000953674, 0.5891000032424927, 0.5062999725341797, 0.5491999983787537, 0.43939998745918274, 0.1882999986410141, 0.5090000033378601, 0.3986999988555908, 0.4284999966621399, 0.17520000040531158, 0.3328999876976013, 0.09769999980926514, 0.34220001101493835, -0.1574999988079071, 0.2685000002384186, -0.1137000024318695, 0.3970000147819519, -0.03689999878406525, -0.05700000002980232, 1.5628000497817993, 1.3645000457763672, 1.2407000064849854, 1.1991000175476074, 1.1542999744415283, 1.0223000049591064, 0.987500011920929, 0.9800999760627747, 0.9538000226020813, 0.9337999820709229, 0.9182000160217285, 0.8629999756813049, 0.8575999736785889, 0.8575000166893005, 0.8083999752998352, 0.8073999881744385, 0.7965999841690063, 0.77920001745224, 0.7753999829292297, 0.7692000269889832, 0.7541000247001648, 0.7519999742507935, 0.7397000193595886, 0.7397000193595886, 0.7397000193595886, 0.7397000193595886, 0.7281000018119812, 0.6952000260353088, 0.692300021648407, 0.6868000030517578, 0.6801999807357788, 0.512499988079071, 0.5799000263214111, 0.5974000096321106, 0.48669999837875366, 0.42010000348091125, 0.5705000162124634, 0.560699999332428, 0.423799991607666, 0.3736000061035156, 0.29580000042915344, 0.1606999933719635, 0.15860000252723694, -0.22089999914169312, -0.3499999940395355, -0.15760000050067902, -0.014399999752640724, 0.3221000134944916, 0.24819999933242798, 0.19869999587535858, -0.7516000270843506, -0.2094999998807907], \"logprob\": [30.0, 29.0, 28.0, 27.0, 26.0, 25.0, 24.0, 23.0, 22.0, 21.0, 20.0, 19.0, 18.0, 17.0, 16.0, 15.0, 14.0, 13.0, 12.0, 11.0, 10.0, 9.0, 8.0, 7.0, 6.0, 5.0, 4.0, 3.0, 2.0, 1.0, -8.083900451660156, -8.64579963684082, -8.587800025939941, -8.558899879455566, -8.797800064086914, -8.82450008392334, -8.398799896240234, -8.818300247192383, -8.848199844360352, -8.794500350952148, -8.184599876403809, -8.920100212097168, -8.49020004272461, -9.012200355529785, -8.864800453186035, -8.85319995880127, -9.087800025939941, -9.034099578857422, -9.120699882507324, -9.064499855041504, -8.990300178527832, -9.133399963378906, -9.145600318908691, -8.671299934387207, -8.817399978637695, -9.038299560546875, -8.729700088500977, -9.051300048828125, -9.189599990844727, -9.143699645996094, -8.972000122070312, -8.681599617004395, -8.361300468444824, -8.829700469970703, -8.554300308227539, -8.400500297546387, -8.657099723815918, -8.717599868774414, -8.606399536132812, -8.712400436401367, -8.588299751281738, -8.35789966583252, -8.8503999710083, -8.819700241088867, -8.709199905395508, -8.773500442504883, -8.64050006866455, -8.7947998046875, -8.8193998336792, -8.33549976348877, -8.644100189208984, -8.723999977111816, -8.224100112915039, -8.472700119018555, -8.788200378417969, -8.741000175476074, -8.762100219726562, -8.954000473022461, -8.985699653625488, -8.844799995422363, -9.01449966430664, -8.906800270080566, -9.04640007019043, -9.036399841308594, -8.753800392150879, -9.098999977111816, -9.088800430297852, -8.565500259399414, -9.118300437927246, -8.946399688720703, -9.11359977722168, -8.97350025177002, -9.032099723815918, -9.10830020904541, -9.166600227355957, -9.038999557495117, -9.175200462341309, -9.224599838256836, -9.235699653625488, -9.052499771118164, -8.878899574279785, -8.434800148010254, -8.06719970703125, -8.950300216674805, -8.53380012512207, -8.776100158691406, -8.842100143432617, -8.456399917602539, -8.775500297546387, -8.857000350952148, -8.618900299072266, -8.580300331115723, -8.757399559020996, -8.861200332641602, -8.909199714660645, -8.913399696350098, -8.419400215148926, -8.479499816894531, -8.55150032043457, -8.252099990844727, -8.57610034942627, -8.67300033569336, -8.630499839782715, -8.779999732971191, -8.779999732971191, -8.92770004272461, -8.935400009155273, -8.983799934387207, -8.964300155639648, -9.045499801635742, -9.068499565124512, -9.086600303649902, -9.086600303649902, -9.086600303649902, -9.128299713134766, -9.161999702453613, -9.16819953918457, -9.178500175476074, -9.147600173950195, -9.03600025177002, -8.872400283813477, -9.199000358581543, -9.239999771118164, -9.158599853515625, -9.218000411987305, -9.218400001525879, -9.045100212097168, -7.8632001876831055, -8.336600303649902, -8.7253999710083, -8.642600059509277, -8.90999984741211, -9.005900382995605, -8.837699890136719, -8.961000442504883, -8.810099601745605, -8.765000343322754, -9.007200241088867, -8.982199668884277, -8.996899604797363, -8.949999809265137, -8.116100311279297, -8.435799598693848, -8.433099746704102, -8.661199569702148, -8.652899742126465, -8.692500114440918, -8.729499816894531, -8.746600151062012, -8.778800010681152, -8.778800010681152, -8.778800010681152, -8.610899925231934, -8.893699645996094, -8.980500221252441, -8.844499588012695, -8.97819995880127, -9.027700424194336, -9.027700424194336, -9.027799606323242, -9.032699584960938, -9.032699584960938, -9.032699584960938, -9.032699584960938, -9.06879997253418, -8.766900062561035, -8.936699867248535, -9.159000396728516, -9.159099578857422, -9.136199951171875, -9.16409969329834, -8.92140007019043, -8.760899543762207, -8.862500190734863, -8.510299682617188, -8.572099685668945, -8.84570026397705, -8.45460033416748, -8.763799667358398, -8.807100296020508, -8.904399871826172, -8.773200035095215, -8.889900207519531, -8.770400047302246, -8.768099784851074, -8.815899848937988, -8.878899574279785, -8.893199920654297, -8.366700172424316, -8.380499839782715, -8.564200401306152, -8.5649995803833, -8.767600059509277, -8.808300018310547, -8.415499687194824, -8.905699729919434, -8.940799713134766, -8.827500343322754, -8.895700454711914, -8.816100120544434, -8.67140007019043, -9.034500122070312, -9.097100257873535, -8.913200378417969, -8.490099906921387, -9.121600151062012, -8.74269962310791, -9.110600471496582, -9.077199935913086, -9.062999725341797, -9.17240047454834, -8.769700050354004, -9.185999870300293, -8.912199974060059, -9.20199966430664, -9.187000274658203, -9.253800392150879, -9.253800392150879, -8.875699996948242, -8.975500106811523, -8.532099723815918, -8.862099647521973, -8.857600212097168, -8.597599983215332, -8.91670036315918, -8.96090030670166, -9.017600059509277, -9.001999855041504, -9.0378999710083, -8.9931001663208, -8.54699993133545, -8.758299827575684, -8.7253999710083, -8.901200294494629, -8.901200294494629, -8.901200294494629, -8.78950023651123, -9.024399757385254, -9.054900169372559, -8.988699913024902, -8.904899597167969, -8.862899780273438, -8.973600387573242, -9.128600120544434, -9.119500160217285, -9.258600234985352, -9.128499984741211, -9.174200057983398, -9.328499794006348, -9.328499794006348, -9.284199714660645, -9.228699684143066, -8.885899543762207, -9.11620044708252, -9.034700393676758, -9.09220027923584, -9.315999984741211, -9.180800437927246, -9.38949966430664, -9.242500305175781, -8.967599868774414, -9.17710018157959, -9.131199836730957, -8.815299987792969, -9.090499877929688, -8.923999786376953, -8.679900169372559, -8.825400352478027, -8.953499794006348, -8.885000228881836, -8.996899604797363, -8.970600128173828, -8.120599746704102, -8.1496000289917, -8.224800109863281, -8.5871000289917, -8.646400451660156, -8.977499961853027, -8.998800277709961, -8.788299560546875, -9.073699951171875, -8.87090015411377, -8.970000267028809, -9.155799865722656, -9.18589973449707, -9.220600128173828, -8.87600040435791, -8.851699829101562, -9.246600151062012, -9.240699768066406, -9.255999565124512, -9.26360034942627, -9.26099967956543, -9.205300331115723, -9.241999626159668, -8.951399803161621, -9.300100326538086, -9.300100326538086, -9.210000038146973, -9.095100402832031, -9.24940013885498, -9.191699981689453, -9.049300193786621, -9.047499656677246, -8.716099739074707, -8.416099548339844, -8.574899673461914, -9.006799697875977, -8.495200157165527, -8.80109977722168, -8.93019962310791, -8.959199905395508, -8.937199592590332, -8.941200256347656, -8.867899894714355, -9.05459976196289, -8.998100280761719, -9.036600112915039, -9.038800239562988, -8.32409954071045, -8.237500190734863, -8.873900413513184, -8.622200012207031, -8.955100059509277, -9.09220027923584, -9.127099990844727, -8.922300338745117, -8.831100463867188, -8.91189956665039, -9.18690013885498, -9.161299705505371, -8.913299560546875, -9.362600326538086, -9.362600326538086, -9.329400062561035, -9.396300315856934, -9.271499633789062, -9.2878999710083, -9.429100036621094, -8.993599891662598, -9.23169994354248, -9.414999961853027, -9.480400085449219, -9.298800468444824, -9.464500427246094, -9.469599723815918, -9.125200271606445, -9.500300407409668, -9.500300407409668, -8.46560001373291, -9.11240005493164, -8.972000122070312, -9.002400398254395, -8.606100082397461, -8.952699661254883, -8.525400161743164, -8.25879955291748, -8.9798002243042, -8.813599586486816, -8.863300323486328, -8.568300247192383, -8.803600311279297, -8.586400032043457, -8.854999542236328, -8.469099998474121, -8.85830020904541, -8.746899604797363, -9.005900382995605, -8.951800346374512, -8.961000442504883, -8.170100212097168, -8.719200134277344, -8.670499801635742, -8.721699714660645, -8.78279972076416, -9.034700393676758, -8.643099784851074, -9.138500213623047, -8.997900009155273, -9.1943998336792, -9.163999557495117, -9.252599716186523, -9.274999618530273, -9.274999618530273, -9.321000099182129, -8.979299545288086, -9.05090045928955, -9.344900131225586, -9.329700469970703, -9.232799530029297, -9.320699691772461, -9.336400032043457, -9.399999618530273, -9.399999618530273, -9.399999618530273, -9.399999618530273, -9.029000282287598, -9.29539966583252, -9.284500122070312, -9.37720012664795, -9.247099876403809, -8.855899810791016, -9.075499534606934, -9.184800148010254, -9.057600021362305, -8.982500076293945, -9.192299842834473, -9.193099975585938, -9.118599891662598, -9.109199523925781, -9.104399681091309, -9.048199653625488, -9.06659984588623, -8.97029972076416, -8.983200073242188, -9.030799865722656, -9.077099800109863, -9.14229965209961, -9.154800415039062, -9.161199569702148, -9.1358003616333, -9.152999877929688]}, \"token.table\": {\"Topic\": [1, 2, 3, 4, 6, 7, 1, 2, 3, 4, 6, 1, 2, 3, 4, 8, 1, 2, 3, 4, 5, 6, 1, 2, 3, 4, 5, 6, 1, 2, 3, 4, 1, 2, 3, 4, 8, 1, 2, 3, 4, 1, 2, 3, 4, 1, 2, 3, 4, 1, 2, 3, 4, 7, 1, 2, 3, 4, 1, 2, 3, 4, 7, 1, 2, 3, 4, 7, 1, 2, 3, 4, 1, 2, 3, 4, 5, 1, 2, 3, 4, 8, 1, 2, 3, 4, 5, 6, 1, 2, 3, 4, 1, 2, 3, 4, 1, 2, 3, 4, 1, 2, 3, 4, 1, 2, 3, 4, 7, 1, 2, 3, 4, 1, 2, 3, 4, 1, 2, 3, 4, 1, 2, 3, 4, 8, 1, 2, 3, 4, 7, 1, 2, 3, 4, 5, 7, 1, 2, 3, 4, 5, 1, 2, 3, 4, 1, 2, 3, 4, 6, 1, 2, 3, 4, 1, 2, 3, 4, 5, 1, 2, 3, 4, 5, 7, 1, 2, 3, 4, 5, 6, 1, 2, 3, 4, 5, 8, 1, 2, 3, 4, 5, 1, 2, 3, 4, 1, 2, 3, 4, 5, 1, 2, 3, 4, 5, 7, 1, 2, 3, 4, 5, 1, 2, 3, 4, 5, 1, 2, 3, 4, 1, 2, 3, 4, 1, 2, 3, 4, 1, 2, 3, 4, 1, 2, 3, 4, 7, 1, 2, 3, 4, 6, 1, 2, 3, 4, 5, 1, 2, 3, 4, 5, 6, 1, 2, 3, 4, 1, 2, 3, 4, 5, 6, 7, 1, 2, 3, 4, 1, 2, 3, 4, 7, 1, 2, 3, 4, 6, 1, 2, 3, 4, 1, 2, 3, 4, 1, 2, 3, 4, 1, 2, 3, 4, 1, 2, 3, 4, 5, 1, 2, 3, 4, 5, 1, 2, 3, 4, 1, 2, 3, 4, 7, 1, 2, 3, 4, 7, 1, 2, 3, 4, 1, 2, 3, 4, 6, 1, 2, 3, 4, 5, 6, 1, 2, 3, 4, 7, 1, 2, 3, 4, 1, 2, 3, 4, 1, 2, 3, 4, 1, 2, 3, 4, 1, 2, 3, 4, 5, 7, 1, 2, 3, 4, 5, 1, 2, 3, 4, 6, 1, 2, 3, 4, 5, 1, 2, 3, 4, 1, 2, 3, 4, 1, 2, 3, 4, 6, 7, 1, 2, 3, 4, 5, 1, 2, 3, 4, 1, 2, 3, 4, 8, 1, 2, 3, 4, 5, 8, 1, 2, 3, 4, 1, 2, 3, 4, 1, 2, 3, 4, 5, 1, 2, 3, 4, 1, 2, 3, 4, 5, 6, 8, 1, 2, 3, 4, 7, 1, 2, 3, 4, 5, 1, 2, 3, 4, 7, 1, 2, 3, 4, 1, 2, 3, 4, 1, 2, 3, 4, 1, 2, 3, 4, 1, 2, 3, 4, 1, 2, 3, 4, 5, 7, 1, 2, 3, 4, 1, 2, 3, 4, 6, 1, 2, 3, 4, 6, 1, 2, 3, 4, 6, 1, 2, 3, 4, 1, 2, 3, 4, 6, 1, 2, 3, 4, 1, 2, 3, 4, 1, 2, 3, 4, 5, 8, 1, 2, 3, 4, 6, 8, 1, 2, 3, 4, 5, 8, 1, 2, 3, 4, 5, 6, 7, 8, 1, 2, 3, 4, 1, 2, 3, 4, 7, 1, 2, 3, 4, 5, 6, 7, 1, 2, 3, 4, 1, 2, 3, 4, 5, 6, 7, 1, 2, 3, 4, 5, 6, 1, 2, 3, 4, 6, 1, 2, 3, 4, 1, 2, 3, 4, 6, 1, 2, 3, 4, 6, 1, 2, 3, 4, 5, 6, 1, 2, 3, 4, 5, 6, 7, 1, 2, 3, 4, 6, 1, 2, 3, 4, 8, 1, 2, 3, 4, 7, 1, 2, 3, 4, 5, 6, 1, 2, 3, 4, 5, 7, 1, 2, 3, 4, 1, 2, 3, 4, 1, 2, 3, 4, 6, 1, 2, 3, 4, 1, 2, 3, 4, 6, 1, 2, 3, 4, 7, 1, 2, 3, 4, 1, 2, 3, 4, 5, 1, 2, 3, 4, 1, 2, 3, 4, 1, 2, 3, 4, 8, 1, 2, 3, 4, 5, 7, 1, 2, 3, 4, 5, 1, 2, 3, 4, 1, 2, 3, 4, 6, 1, 2, 3, 4, 1, 2, 3, 4, 5, 6, 7, 1, 2, 3, 4, 5, 6, 7, 1, 2, 3, 4, 1, 2, 3, 4, 1, 2, 3, 4, 1, 2, 3, 4, 6, 1, 2, 3, 4, 5, 8, 1, 2, 3, 4, 5, 1, 2, 3, 4, 5, 1, 2, 3, 4, 1, 2, 3, 4, 1, 2, 3, 4, 1, 2, 3, 4, 1, 2, 3, 4, 5, 1, 2, 3, 4, 5, 1, 2, 3, 4, 5, 1, 2, 3, 4, 7, 1, 2, 3, 4, 1, 2, 3, 4, 5, 6, 8, 1, 2, 3, 4, 1, 2, 3, 4, 1, 2, 3, 4, 5, 1, 2, 3, 4, 1, 2, 3, 4, 1, 2, 3, 4, 1, 2, 3, 4, 1, 2, 3, 4, 5, 7, 1, 2, 3, 4, 1, 2, 3, 4, 1, 2, 3, 4, 5, 7, 1, 2, 3, 4, 5, 1, 2, 3, 4, 5, 1, 2, 3, 4, 7, 1, 2, 3, 4, 1, 2, 3, 4, 1, 2, 3, 4, 1, 2, 3, 4, 1, 2, 3, 4, 1, 2, 3, 4, 1, 2, 3, 4, 5, 6, 1, 2, 3, 4, 1, 2, 3, 4, 6, 8, 1, 2, 3, 4, 5, 1, 2, 3, 4, 7, 1, 2, 3, 4, 6, 1, 2, 3, 4, 1, 2, 3, 4, 1, 2, 3, 4, 5, 7, 1, 2, 3, 4, 1, 2, 3, 4, 8, 1, 2, 3, 4, 7, 1, 2, 3, 4, 1, 2, 3, 4, 6, 1, 2, 3, 4, 5, 6, 1, 2, 3, 4, 5, 1, 2, 3, 4, 1, 2, 3, 4, 1, 2, 3, 4, 5, 6, 8, 1, 2, 3, 4, 6, 1, 2, 3, 4, 5, 6, 1, 2, 3, 4, 5, 1, 2, 3, 4, 5, 7, 1, 2, 3, 4, 6, 8, 1, 2, 3, 4, 1, 2, 3, 4, 6, 1, 2, 3, 4, 1, 2, 3, 4, 1, 2, 3, 4, 1, 2, 3, 4, 1, 2, 3, 4, 1, 2, 3, 4, 5, 6, 1, 2, 3, 4, 1, 2, 3, 4, 5, 6, 1, 2, 3, 4, 5, 6, 8, 1, 2, 3, 4, 1, 2, 3, 4, 1, 2, 3, 4, 6, 1, 2, 3, 4, 8, 1, 2, 3, 4, 1, 2, 3, 4, 7, 1, 2, 3, 4, 1, 2, 3, 4, 1, 2, 3, 4, 5, 6, 7, 1, 2, 3, 4, 1, 2, 3, 4, 6, 7, 1, 2, 3, 4, 5, 7, 1, 2, 3, 4, 5, 7, 1, 2, 3, 4, 5, 7, 1, 2, 3, 4, 5, 1, 2, 3, 4, 1, 2, 3, 4, 1, 2, 3, 4, 5, 1, 2, 3, 4, 7, 1, 2, 3, 4, 1, 2, 3, 4, 5, 6, 8, 1, 2, 3, 4, 1, 2, 3, 4, 7, 1, 2, 3, 4, 1, 2, 3, 4, 1, 2, 3, 4, 5, 1, 2, 3, 4, 5, 6, 1, 2, 3, 4, 1, 2, 3, 4, 1, 2, 3, 4, 5, 6, 1, 2, 3, 4, 7, 1, 2, 3, 4, 1, 2, 3, 4, 5, 7, 1, 2, 3, 4, 1, 2, 3, 4, 1, 2, 3, 4, 6, 1, 2, 3, 4, 1, 2, 3, 4, 1, 2, 3, 4, 5, 6, 1, 2, 3, 4, 6, 1, 2, 3, 4, 1, 2, 3, 4, 5, 6, 7, 8, 1, 2, 3, 4, 1, 2, 3, 4, 6, 1, 2, 3, 4, 7, 1, 2, 3, 4, 5, 6, 7, 1, 2, 3, 4, 1, 2, 3, 4, 1, 2, 3, 4, 5, 6, 8, 1, 2, 3, 4, 1, 2, 3, 4, 7, 1, 2, 3, 4, 1, 2, 3, 4, 5, 6, 7, 1, 2, 3, 4, 5, 1, 2, 3, 4, 1, 2, 3, 4, 5, 1, 2, 3, 4, 5, 6, 8, 1, 2, 3, 4, 5, 1, 2, 3, 4, 7, 1, 2, 3, 4, 7, 1, 2, 3, 4, 7, 1, 2, 3, 4, 5, 1, 2, 3, 4, 1, 2, 3, 4, 5, 6, 7, 1, 2, 3, 4, 1, 2, 3, 4, 1, 2, 3, 4, 1, 2, 3, 4, 5, 7, 8, 1, 2, 3, 4, 1, 2, 3, 4, 7, 1, 2, 3, 4, 5, 6, 1, 2, 3, 4, 5, 1, 2, 3, 4, 1, 2, 3, 4, 5, 1, 2, 3, 4, 1, 2, 3, 4, 5, 1, 2, 3, 4, 5, 1, 2, 3, 4, 1, 2, 3, 4, 1, 2, 3, 4, 7, 1, 2, 3, 4, 5, 1, 2, 3, 4, 7, 1, 2, 3, 4, 5, 7, 1, 2, 3, 4, 5, 6, 7, 1, 2, 3, 4, 1, 2, 3, 4, 1, 2, 3, 4, 5, 1, 2, 3, 4, 5, 6, 7, 8, 1, 2, 3, 4, 5, 6, 7, 8, 1, 2, 3, 4, 7, 1, 2, 3, 4, 1, 2, 3, 4, 6, 1, 2, 3, 4, 6, 1, 2, 3, 4, 5, 6, 1, 2, 3, 4, 1, 2, 3, 4, 1, 2, 3, 4, 1, 2, 3, 4, 1, 2, 3, 4, 1, 2, 3, 4, 1, 2, 3, 4, 1, 2, 3, 4, 1, 2, 3, 4, 1, 2, 3, 4, 1, 2, 3, 4, 1, 2, 3, 4, 7, 1, 2, 3, 4, 1, 2, 3, 4, 1, 2, 3, 4, 8, 1, 2, 3, 4, 8, 1, 2, 3, 4, 8, 1, 2, 3, 4, 5, 1, 2, 3, 4, 5, 1, 2, 3, 4, 1, 2, 3, 4, 6, 1, 2, 3, 4, 5, 1, 2, 3, 4, 1, 2, 3, 4, 1, 2, 3, 4, 1, 2, 3, 4, 5, 1, 2, 3, 4, 1, 2, 3, 4, 1, 2, 3, 4, 1, 2, 3, 4, 5, 6, 7, 1, 2, 3, 4, 5, 7, 1, 2, 3, 4, 5, 6, 7, 8, 1, 2, 3, 4, 1, 2, 3, 4, 5, 1, 2, 3, 4], \"Freq\": [0.8823965191841125, 0.05071244388818741, 0.010142488405108452, 0.030427465215325356, 0.010142488405108452, 0.010142488405108452, 0.7997255921363831, 0.07616434246301651, 0.038082171231508255, 0.038082171231508255, 0.038082171231508255, 0.8710476160049438, 0.05123809352517128, 0.02561904676258564, 0.02561904676258564, 0.02561904676258564, 0.769126296043396, 0.06688054651021957, 0.06688054651021957, 0.03344027325510979, 0.03344027325510979, 0.03344027325510979, 0.8641741275787354, 0.032610345631837845, 0.04891551658511162, 0.016305172815918922, 0.016305172815918922, 0.016305172815918922, 0.80179762840271, 0.04454431310296059, 0.04454431310296059, 0.04454431310296059, 0.7894896864891052, 0.0751894935965538, 0.0375947467982769, 0.0375947467982769, 0.0375947467982769, 0.8303557634353638, 0.06150783598423004, 0.03075391799211502, 0.03075391799211502, 0.9293357729911804, 0.016897015273571014, 0.016897015273571014, 0.016897015273571014, 0.7505284547805786, 0.04169602692127228, 0.04169602692127228, 0.08339205384254456, 0.8683688044548035, 0.04962107539176941, 0.024810537695884705, 0.024810537695884705, 0.024810537695884705, 0.9088039398193359, 0.027128474786877632, 0.013564237393438816, 0.027128474786877632, 0.7905506491661072, 0.043919481337070465, 0.043919481337070465, 0.043919481337070465, 0.043919481337070465, 0.7808501720428467, 0.04338056594133377, 0.04338056594133377, 0.04338056594133377, 0.04338056594133377, 0.7141574621200562, 0.0375872366130352, 0.0375872366130352, 0.1503489464521408, 0.788314938545227, 0.043795276433229446, 0.043795276433229446, 0.043795276433229446, 0.043795276433229446, 0.9168113470077515, 0.03107835166156292, 0.01553917583078146, 0.01553917583078146, 0.01553917583078146, 0.8352034091949463, 0.0856618881225586, 0.02141547203063965, 0.02141547203063965, 0.02141547203063965, 0.02141547203063965, 0.837555468082428, 0.0859031230211258, 0.02147578075528145, 0.02147578075528145, 0.8027082681655884, 0.0445949025452137, 0.0445949025452137, 0.0445949025452137, 0.722919225692749, 0.16064871847629547, 0.04016217961907387, 0.04016217961907387, 0.7542262673377991, 0.13713204860687256, 0.03428301215171814, 0.03428301215171814, 0.7919700741767883, 0.04399833455681801, 0.04399833455681801, 0.04399833455681801, 0.04399833455681801, 0.8158473968505859, 0.031378746032714844, 0.031378746032714844, 0.06275749206542969, 0.9092908501625061, 0.026743847876787186, 0.026743847876787186, 0.026743847876787186, 0.963790774345398, 0.006692991591989994, 0.013385983183979988, 0.006692991591989994, 0.8237674832344055, 0.05681154876947403, 0.028405774384737015, 0.028405774384737015, 0.028405774384737015, 0.7897971868515015, 0.04387762024998665, 0.04387762024998665, 0.04387762024998665, 0.04387762024998665, 0.7924771904945374, 0.09905964881181717, 0.019811930134892464, 0.03962386026978493, 0.019811930134892464, 0.019811930134892464, 0.7036462426185608, 0.11727437376976013, 0.03909146040678024, 0.03909146040678024, 0.07818292081356049, 0.7812350988388062, 0.04340194910764694, 0.04340194910764694, 0.04340194910764694, 0.8319529294967651, 0.036171864718198776, 0.036171864718198776, 0.036171864718198776, 0.036171864718198776, 0.7103284001350403, 0.03946268931031227, 0.15785075724124908, 0.03946268931031227, 0.7886126041412354, 0.04381180927157402, 0.04381180927157402, 0.04381180927157402, 0.04381180927157402, 0.73564612865448, 0.14712922275066376, 0.03678230568766594, 0.03678230568766594, 0.03678230568766594, 0.03678230568766594, 0.7919438481330872, 0.07919438183307648, 0.03959719091653824, 0.03959719091653824, 0.03959719091653824, 0.03959719091653824, 0.871155321598053, 0.030039837583899498, 0.015019918791949749, 0.030039837583899498, 0.015019918791949749, 0.015019918791949749, 0.8771101236343384, 0.0730925127863884, 0.01218208484351635, 0.01218208484351635, 0.01218208484351635, 0.8007903695106506, 0.04448835551738739, 0.04448835551738739, 0.04448835551738739, 0.8904386162757874, 0.050882209092378616, 0.025441104546189308, 0.016960736364126205, 0.008480368182063103, 0.7703678607940674, 0.05925906449556351, 0.05925906449556351, 0.029629532247781754, 0.029629532247781754, 0.029629532247781754, 0.7878944873809814, 0.03939472511410713, 0.03939472511410713, 0.03939472511410713, 0.03939472511410713, 0.7881410717964172, 0.043785616755485535, 0.043785616755485535, 0.043785616755485535, 0.043785616755485535, 0.7928856015205383, 0.036040253937244415, 0.036040253937244415, 0.07208050787448883, 0.8486852645874023, 0.03689935803413391, 0.03689935803413391, 0.03689935803413391, 0.9352895021438599, 0.016701597720384598, 0.016701597720384598, 0.016701597720384598, 0.728662371635437, 0.040481243282556534, 0.1214437261223793, 0.040481243282556534, 0.7676346302032471, 0.08529273420572281, 0.042646367102861404, 0.042646367102861404, 0.042646367102861404, 0.8370887637138367, 0.05580591782927513, 0.018601972609758377, 0.05580591782927513, 0.018601972609758377, 0.7972636818885803, 0.07972636818885803, 0.039863184094429016, 0.039863184094429016, 0.039863184094429016, 0.6869831681251526, 0.14934417605400085, 0.0597376674413681, 0.02986883372068405, 0.0597376674413681, 0.02986883372068405, 0.7626835703849792, 0.12042371928691864, 0.04014123976230621, 0.04014123976230621, 0.8194685578346252, 0.06303603947162628, 0.03151801973581314, 0.03151801973581314, 0.03151801973581314, 0.03151801973581314, 0.03151801973581314, 0.80473792552948, 0.04235462844371796, 0.04235462844371796, 0.04235462844371796, 0.8869548439979553, 0.03971439599990845, 0.013238131999969482, 0.026476263999938965, 0.013238131999969482, 0.7623310089111328, 0.07623309642076492, 0.03811654821038246, 0.03811654821038246, 0.03811654821038246, 0.8568681478500366, 0.06120486930012703, 0.030602434650063515, 0.030602434650063515, 0.7507626414299011, 0.04170903563499451, 0.12512710690498352, 0.04170903563499451, 0.7576220631599426, 0.036077242344617844, 0.036077242344617844, 0.10823172330856323, 0.9192025661468506, 0.024512069299817085, 0.024512069299817085, 0.012256034649908543, 0.7988044023513794, 0.08408467471599579, 0.042042337357997894, 0.042042337357997894, 0.042042337357997894, 0.8586243391036987, 0.042931217700242996, 0.021465608850121498, 0.042931217700242996, 0.021465608850121498, 0.7400338053703308, 0.0411129891872406, 0.1233389675617218, 0.0411129891872406, 0.8272350430488586, 0.06363346427679062, 0.06363346427679062, 0.03181673213839531, 0.03181673213839531, 0.8962967395782471, 0.03814028576016426, 0.01907014288008213, 0.01907014288008213, 0.01907014288008213, 0.8075254559516907, 0.044862523674964905, 0.044862523674964905, 0.044862523674964905, 0.7628043293952942, 0.06633081287145615, 0.03316540643572807, 0.06633081287145615, 0.03316540643572807, 0.8421946167945862, 0.04954085871577263, 0.024770429357886314, 0.024770429357886314, 0.024770429357886314, 0.024770429357886314, 0.8390192985534668, 0.03995329886674881, 0.03995329886674881, 0.03995329886674881, 0.03995329886674881, 0.8104233741760254, 0.07718317955732346, 0.03859158977866173, 0.03859158977866173, 0.7599307298660278, 0.04221837595105171, 0.04221837595105171, 0.08443675190210342, 0.7365864515304565, 0.040921468287706375, 0.040921468287706375, 0.08184293657541275, 0.7847861051559448, 0.06036816164851189, 0.09055224061012268, 0.030184080824255943, 0.860217273235321, 0.044686611741781235, 0.03351495787501335, 0.03351495787501335, 0.011171652935445309, 0.011171652935445309, 0.8008116483688354, 0.057200830429792404, 0.028600415214896202, 0.057200830429792404, 0.028600415214896202, 0.7976476550102234, 0.04431375861167908, 0.04431375861167908, 0.04431375861167908, 0.04431375861167908, 0.7745625376701355, 0.043031252920627594, 0.043031252920627594, 0.043031252920627594, 0.043031252920627594, 0.786543071269989, 0.04139700531959534, 0.08279401063919067, 0.04139700531959534, 0.8712866306304932, 0.04148983955383301, 0.020744919776916504, 0.04148983955383301, 0.7770828008651733, 0.03532194346189499, 0.07064388692378998, 0.03532194346189499, 0.03532194346189499, 0.03532194346189499, 0.7840664982795715, 0.041266657412052155, 0.041266657412052155, 0.041266657412052155, 0.041266657412052155, 0.7669853568077087, 0.0426102951169014, 0.0852205902338028, 0.0426102951169014, 0.865733802318573, 0.028857793658971786, 0.028857793658971786, 0.028857793658971786, 0.028857793658971786, 0.8915024995803833, 0.03496088087558746, 0.01748044043779373, 0.01748044043779373, 0.01748044043779373, 0.01748044043779373, 0.7602778077125549, 0.04223765432834625, 0.04223765432834625, 0.0844753086566925, 0.8572846055030823, 0.03572019189596176, 0.03572019189596176, 0.03572019189596176, 0.7132863998413086, 0.11888106167316437, 0.03962702304124832, 0.03962702304124832, 0.03962702304124832, 0.7517374753952026, 0.041763193905353546, 0.041763193905353546, 0.08352638781070709, 0.9001680612564087, 0.046761978417634964, 0.023380989208817482, 0.011690494604408741, 0.011690494604408741, 0.011690494604408741, 0.011690494604408741, 0.7898309826850891, 0.04387949779629707, 0.04387949779629707, 0.04387949779629707, 0.04387949779629707, 0.7389320731163025, 0.08210356533527374, 0.04105178266763687, 0.04105178266763687, 0.04105178266763687, 0.7261667847633362, 0.13831748068332672, 0.03457937017083168, 0.03457937017083168, 0.03457937017083168, 0.7558817863464355, 0.041993431746959686, 0.041993431746959686, 0.08398686349391937, 0.8075225353240967, 0.04486236348748207, 0.04486236348748207, 0.04486236348748207, 0.7535657286643982, 0.04186476394534111, 0.08372952789068222, 0.04186476394534111, 0.7961231470108032, 0.04190121963620186, 0.04190121963620186, 0.04190121963620186, 0.7610084414482117, 0.04227824509143829, 0.08455649018287659, 0.04227824509143829, 0.7324420809745789, 0.1395127773284912, 0.0348781943321228, 0.0348781943321228, 0.0348781943321228, 0.0348781943321228, 0.7223983407020569, 0.038020964711904526, 0.1520838588476181, 0.038020964711904526, 0.7860709428787231, 0.04367060586810112, 0.04367060586810112, 0.04367060586810112, 0.04367060586810112, 0.797646701335907, 0.0443137064576149, 0.0443137064576149, 0.0443137064576149, 0.0443137064576149, 0.7989538311958313, 0.04438632354140282, 0.04438632354140282, 0.04438632354140282, 0.04438632354140282, 0.9355527758598328, 0.017651937901973724, 0.017651937901973724, 0.017651937901973724, 0.9442451596260071, 0.013299227692186832, 0.013299227692186832, 0.013299227692186832, 0.013299227692186832, 0.7041714787483215, 0.0391206368803978, 0.1564825475215912, 0.0391206368803978, 0.7405974864959717, 0.04114430397748947, 0.04114430397748947, 0.12343291193246841, 0.8873549103736877, 0.03549419716000557, 0.017747098580002785, 0.017747098580002785, 0.017747098580002785, 0.017747098580002785, 0.8996593952178955, 0.052154164761304855, 0.013038541190326214, 0.013038541190326214, 0.013038541190326214, 0.013038541190326214, 0.9006198644638062, 0.04156706854701042, 0.013855690136551857, 0.013855690136551857, 0.013855690136551857, 0.013855690136551857, 0.8155220150947571, 0.08950851112604141, 0.019890781491994858, 0.019890781491994858, 0.019890781491994858, 0.009945390745997429, 0.009945390745997429, 0.009945390745997429, 0.7993262410163879, 0.044407013803720474, 0.044407013803720474, 0.044407013803720474, 0.938106119632721, 0.02931581623852253, 0.009771938435733318, 0.009771938435733318, 0.009771938435733318, 0.8451266884803772, 0.03101382404565811, 0.06202764809131622, 0.03101382404565811, 0.007753456011414528, 0.007753456011414528, 0.007753456011414528, 0.7777087092399597, 0.03535039350390434, 0.03535039350390434, 0.07070078700780869, 0.8197048306465149, 0.04031335189938545, 0.06718891859054565, 0.04031335189938545, 0.013437784276902676, 0.013437784276902676, 0.013437784276902676, 0.8511852025985718, 0.03337981179356575, 0.050069719552993774, 0.03337981179356575, 0.016689905896782875, 0.016689905896782875, 0.7478742599487305, 0.08309714496135712, 0.04154857248067856, 0.08309714496135712, 0.04154857248067856, 0.9481412768363953, 0.010653273202478886, 0.010653273202478886, 0.010653273202478886, 0.7723718881607056, 0.04290954768657684, 0.04290954768657684, 0.04290954768657684, 0.04290954768657684, 0.8355846405029297, 0.03798111900687218, 0.03798111900687218, 0.03798111900687218, 0.03798111900687218, 0.7924801111221313, 0.07204364985227585, 0.036021824926137924, 0.036021824926137924, 0.036021824926137924, 0.036021824926137924, 0.8840369582176208, 0.037353675812482834, 0.024902449920773506, 0.024902449920773506, 0.012451224960386753, 0.012451224960386753, 0.012451224960386753, 0.7898932099342346, 0.043882954865694046, 0.043882954865694046, 0.043882954865694046, 0.043882954865694046, 0.8685436844825745, 0.0354507640004158, 0.0709015280008316, 0.0177253820002079, 0.0177253820002079, 0.7902234196662903, 0.04390130192041397, 0.04390130192041397, 0.04390130192041397, 0.04390130192041397, 0.9124195575714111, 0.023099228739738464, 0.023099228739738464, 0.023099228739738464, 0.011549614369869232, 0.011549614369869232, 0.7392692565917969, 0.04107051342725754, 0.04107051342725754, 0.04107051342725754, 0.04107051342725754, 0.08214102685451508, 0.7983105778694153, 0.04435058683156967, 0.04435058683156967, 0.04435058683156967, 0.9311987161636353, 0.018623974174261093, 0.018623974174261093, 0.018623974174261093, 0.786074161529541, 0.043670784682035446, 0.043670784682035446, 0.043670784682035446, 0.043670784682035446, 0.7916321754455566, 0.04166485369205475, 0.04166485369205475, 0.04166485369205475, 0.8249967694282532, 0.06874973326921463, 0.034374866634607315, 0.034374866634607315, 0.034374866634607315, 0.8282291889190674, 0.07529356330633163, 0.03764678165316582, 0.03764678165316582, 0.03764678165316582, 0.8044134974479675, 0.044689640402793884, 0.044689640402793884, 0.044689640402793884, 0.7310896515846252, 0.05623766407370567, 0.16871298849582672, 0.028118832036852837, 0.028118832036852837, 0.7405993342399597, 0.04114440828561783, 0.04114440828561783, 0.12343322485685349, 0.8035610318183899, 0.04464228078722954, 0.04464228078722954, 0.04464228078722954, 0.8296552300453186, 0.07542320340871811, 0.037711601704359055, 0.037711601704359055, 0.037711601704359055, 0.6728575825691223, 0.17552806437015533, 0.029254678636789322, 0.029254678636789322, 0.058509357273578644, 0.029254678636789322, 0.7257781624794006, 0.12096302956342697, 0.04032101109623909, 0.04032101109623909, 0.04032101109623909, 0.9270815253257751, 0.03476555645465851, 0.011588518507778645, 0.011588518507778645, 0.7560328841209412, 0.06873026490211487, 0.1030953973531723, 0.034365132451057434, 0.034365132451057434, 0.7811129689216614, 0.08679033070802689, 0.04339516535401344, 0.04339516535401344, 0.8535891771316528, 0.014226485975086689, 0.028452971950173378, 0.04267945885658264, 0.014226485975086689, 0.014226485975086689, 0.014226485975086689, 0.8349560499191284, 0.03339824080467224, 0.05009736120700836, 0.03339824080467224, 0.01669912040233612, 0.01669912040233612, 0.01669912040233612, 0.7846842408180237, 0.0392342135310173, 0.0784684270620346, 0.0392342135310173, 0.7557061910629272, 0.041983675211668015, 0.08396735042333603, 0.041983675211668015, 0.7286604046821594, 0.04048113524913788, 0.12144339829683304, 0.04048113524913788, 0.7776275873184204, 0.04320153221487999, 0.04320153221487999, 0.04320153221487999, 0.04320153221487999, 0.8961460590362549, 0.03258712962269783, 0.016293564811348915, 0.016293564811348915, 0.016293564811348915, 0.016293564811348915, 0.813896894454956, 0.05086855590343475, 0.025434277951717377, 0.05086855590343475, 0.025434277951717377, 0.9005831480026245, 0.023699557408690453, 0.023699557408690453, 0.035549335181713104, 0.011849778704345226, 0.931014895439148, 0.019396143034100533, 0.019396143034100533, 0.019396143034100533, 0.7821952104568481, 0.07110865414142609, 0.10666298121213913, 0.03555432707071304, 0.8178425431251526, 0.037174660712480545, 0.037174660712480545, 0.037174660712480545, 0.7449073791503906, 0.04138374328613281, 0.08276748657226562, 0.04138374328613281, 0.6594257950782776, 0.18317382037639618, 0.036634765565395355, 0.036634765565395355, 0.036634765565395355, 0.7908706665039062, 0.043937262147665024, 0.043937262147665024, 0.043937262147665024, 0.043937262147665024, 0.7800295352935791, 0.043334972113370895, 0.043334972113370895, 0.043334972113370895, 0.043334972113370895, 0.9053741693496704, 0.03292269632220268, 0.01646134816110134, 0.01646134816110134, 0.01646134816110134, 0.7405981421470642, 0.041144341230392456, 0.041144341230392456, 0.12343303114175797, 0.7144659757614136, 0.11431455612182617, 0.028578639030456543, 0.028578639030456543, 0.028578639030456543, 0.028578639030456543, 0.028578639030456543, 0.7363110780715942, 0.04090616852045059, 0.04090616852045059, 0.12271851301193237, 0.7473322153091431, 0.04151845723390579, 0.12455536425113678, 0.04151845723390579, 0.8309298753738403, 0.061550360172986984, 0.030775180086493492, 0.030775180086493492, 0.030775180086493492, 0.9326598644256592, 0.015042901039123535, 0.015042901039123535, 0.015042901039123535, 0.7237166166305542, 0.1608259081840515, 0.04020647704601288, 0.04020647704601288, 0.7599321603775024, 0.04221845418214798, 0.04221845418214798, 0.08443690836429596, 0.7300890684127808, 0.04056050255894661, 0.04056050255894661, 0.12168151140213013, 0.8068884611129761, 0.08493562787771225, 0.021233906969428062, 0.021233906969428062, 0.021233906969428062, 0.021233906969428062, 0.7741430401802063, 0.043007947504520416, 0.043007947504520416, 0.043007947504520416, 0.7599626779556274, 0.11999410390853882, 0.03999803587794304, 0.03999803587794304, 0.8168603777885437, 0.08168604224920273, 0.040843021124601364, 0.020421510562300682, 0.020421510562300682, 0.020421510562300682, 0.7711434364318848, 0.04284130036830902, 0.04284130036830902, 0.04284130036830902, 0.08568260073661804, 0.8146842122077942, 0.04937480017542839, 0.024687400087714195, 0.04937480017542839, 0.024687400087714195, 0.7763662934303284, 0.04313145950436592, 0.04313145950436592, 0.04313145950436592, 0.04313145950436592, 0.7045441269874573, 0.18540635704994202, 0.0370812714099884, 0.0370812714099884, 0.7400102615356445, 0.12333504110574722, 0.04111167788505554, 0.04111167788505554, 0.70263671875, 0.1951768696308136, 0.0390353724360466, 0.0390353724360466, 0.7308605909347534, 0.04060336574912071, 0.04060336574912071, 0.12181010097265244, 0.7894243597984314, 0.0315769724547863, 0.0315769724547863, 0.0947309210896492, 0.7765287160873413, 0.07765287160873413, 0.07765287160873413, 0.038826435804367065, 0.8614580035209656, 0.04102180898189545, 0.020510904490947723, 0.020510904490947723, 0.020510904490947723, 0.020510904490947723, 0.7378177046775818, 0.04098987206816673, 0.04098987206816673, 0.1229696124792099, 0.8832401633262634, 0.048176735639572144, 0.016058912500739098, 0.016058912500739098, 0.016058912500739098, 0.016058912500739098, 0.7899690866470337, 0.04157732054591179, 0.04157732054591179, 0.04157732054591179, 0.04157732054591179, 0.7977557182312012, 0.0443197637796402, 0.0443197637796402, 0.0443197637796402, 0.0443197637796402, 0.8271490335464478, 0.03446454182267189, 0.03446454182267189, 0.03446454182267189, 0.03446454182267189, 0.8167648315429688, 0.028164304792881012, 0.028164304792881012, 0.08449291437864304, 0.8017148971557617, 0.044539716094732285, 0.044539716094732285, 0.044539716094732285, 0.7697039842605591, 0.04276132956147194, 0.04276132956147194, 0.04276132956147194, 0.04276132956147194, 0.04276132956147194, 0.8102143406867981, 0.03858163580298424, 0.03858163580298424, 0.03858163580298424, 0.8250836133956909, 0.06346797198057175, 0.03173398599028587, 0.03173398599028587, 0.03173398599028587, 0.7913560271263123, 0.04396422207355499, 0.04396422207355499, 0.04396422207355499, 0.04396422207355499, 0.758024275302887, 0.03989601507782936, 0.11968804150819778, 0.03989601507782936, 0.80488520860672, 0.042362380772829056, 0.042362380772829056, 0.042362380772829056, 0.042362380772829056, 0.7992492318153381, 0.06850707530975342, 0.022835692390799522, 0.045671384781599045, 0.022835692390799522, 0.022835692390799522, 0.7908715605735779, 0.043937310576438904, 0.043937310576438904, 0.043937310576438904, 0.043937310576438904, 0.9409350752830505, 0.014043807052075863, 0.014043807052075863, 0.014043807052075863, 0.74735426902771, 0.12455904483795166, 0.041519682854413986, 0.041519682854413986, 0.9373641014099121, 0.01442098617553711, 0.021631479263305664, 0.007210493087768555, 0.007210493087768555, 0.007210493087768555, 0.007210493087768555, 0.7951393723487854, 0.03975696861743927, 0.07951393723487854, 0.03975696861743927, 0.03975696861743927, 0.7991904020309448, 0.07265367358922958, 0.03632683679461479, 0.03632683679461479, 0.03632683679461479, 0.03632683679461479, 0.7791737914085388, 0.04328743368387222, 0.04328743368387222, 0.04328743368387222, 0.04328743368387222, 0.7992719411849976, 0.06660599261522293, 0.033302996307611465, 0.033302996307611465, 0.033302996307611465, 0.033302996307611465, 0.7841652631759644, 0.06273321807384491, 0.031366609036922455, 0.031366609036922455, 0.031366609036922455, 0.031366609036922455, 0.7992174029350281, 0.04440096765756607, 0.04440096765756607, 0.04440096765756607, 0.7565149664878845, 0.03981657698750496, 0.07963315397500992, 0.03981657698750496, 0.03981657698750496, 0.927849292755127, 0.01819312386214733, 0.01819312386214733, 0.01819312386214733, 0.8373927474021912, 0.0334957093000412, 0.0334957093000412, 0.0334957093000412, 0.7906787991523743, 0.043926600366830826, 0.043926600366830826, 0.043926600366830826, 0.834446907043457, 0.036280300468206406, 0.036280300468206406, 0.036280300468206406, 0.8341051340103149, 0.04633917286992073, 0.06950876116752625, 0.023169586434960365, 0.873045027256012, 0.04029438644647598, 0.02686292491853237, 0.013431462459266186, 0.013431462459266186, 0.013431462459266186, 0.7916824221611023, 0.1376838982105255, 0.03442097455263138, 0.03442097455263138, 0.9016146659851074, 0.03056320920586586, 0.01528160460293293, 0.01528160460293293, 0.01528160460293293, 0.01528160460293293, 0.7726189494132996, 0.11886445432901382, 0.029716113582253456, 0.029716113582253456, 0.029716113582253456, 0.029716113582253456, 0.029716113582253456, 0.7602769732475281, 0.04223760962486267, 0.04223760962486267, 0.08447521924972534, 0.8027074933052063, 0.044594861567020416, 0.044594861567020416, 0.044594861567020416, 0.7948512434959412, 0.04415840283036232, 0.04415840283036232, 0.04415840283036232, 0.04415840283036232, 0.8816523551940918, 0.02593095228075981, 0.02593095228075981, 0.02593095228075981, 0.02593095228075981, 0.7557076811790466, 0.04198376089334488, 0.08396752178668976, 0.04198376089334488, 0.7906371355056763, 0.04392428696155548, 0.04392428696155548, 0.04392428696155548, 0.04392428696155548, 0.6626794338226318, 0.036815524101257324, 0.036815524101257324, 0.18407762050628662, 0.7235154509544373, 0.04019530490040779, 0.04019530490040779, 0.12058591097593307, 0.8997671008110046, 0.02999223582446575, 0.01999482326209545, 0.01999482326209545, 0.009997411631047726, 0.009997411631047726, 0.009997411631047726, 0.6371088027954102, 0.24776454269886017, 0.03539493307471275, 0.03539493307471275, 0.7380819916725159, 0.08200910687446594, 0.04100455343723297, 0.04100455343723297, 0.04100455343723297, 0.04100455343723297, 0.7605735659599304, 0.12381430715322495, 0.017687758430838585, 0.03537551686167717, 0.03537551686167717, 0.017687758430838585, 0.7580780982971191, 0.07580780982971191, 0.03790390491485596, 0.03790390491485596, 0.03790390491485596, 0.03790390491485596, 0.7260854244232178, 0.10891281813383102, 0.03630427271127701, 0.03630427271127701, 0.03630427271127701, 0.03630427271127701, 0.744369626045227, 0.09304620325565338, 0.03101540170609951, 0.03101540170609951, 0.03101540170609951, 0.694372832775116, 0.19288134574890137, 0.03857627138495445, 0.03857627138495445, 0.8126851320266724, 0.04063425585627556, 0.04063425585627556, 0.04063425585627556, 0.7863321900367737, 0.043685123324394226, 0.043685123324394226, 0.043685123324394226, 0.043685123324394226, 0.7977612614631653, 0.04432006925344467, 0.04432006925344467, 0.04432006925344467, 0.04432006925344467, 0.755704402923584, 0.041983578354120255, 0.08396715670824051, 0.041983578354120255, 0.8995043039321899, 0.03331497311592102, 0.022209981456398964, 0.011104990728199482, 0.011104990728199482, 0.011104990728199482, 0.011104990728199482, 0.8044140934944153, 0.04468967020511627, 0.04468967020511627, 0.04468967020511627, 0.7836366891860962, 0.041244037449359894, 0.041244037449359894, 0.041244037449359894, 0.041244037449359894, 0.7329519987106323, 0.04071955382823944, 0.04071955382823944, 0.12215866148471832, 0.8720754981040955, 0.030071569606661797, 0.030071569606661797, 0.030071569606661797, 0.7854619026184082, 0.14281125366687775, 0.02380187436938286, 0.02380187436938286, 0.02380187436938286, 0.7998241782188416, 0.06665201485157013, 0.033326007425785065, 0.033326007425785065, 0.033326007425785065, 0.033326007425785065, 0.7602764964103699, 0.04223758354783058, 0.04223758354783058, 0.08447516709566116, 0.9375519156455994, 0.016448277980089188, 0.016448277980089188, 0.016448277980089188, 0.8169319033622742, 0.045385103672742844, 0.06807765364646912, 0.045385103672742844, 0.022692551836371422, 0.022692551836371422, 0.7974779605865479, 0.08483807742595673, 0.03393523022532463, 0.050902847200632095, 0.016967615112662315, 0.8539608716964722, 0.030498603358864784, 0.030498603358864784, 0.030498603358864784, 0.8002252578735352, 0.06155578792095184, 0.03077789396047592, 0.03077789396047592, 0.03077789396047592, 0.03077789396047592, 0.7291121482849121, 0.036455608904361725, 0.1458224356174469, 0.036455608904361725, 0.7602762579917908, 0.042237572371959686, 0.042237572371959686, 0.08447514474391937, 0.845137894153595, 0.06260281056165695, 0.031301405280828476, 0.031301405280828476, 0.031301405280828476, 0.8016022443771362, 0.04453345760703087, 0.04453345760703087, 0.04453345760703087, 0.6807681322097778, 0.18910226225852966, 0.03782045468688011, 0.03782045468688011, 0.8015787601470947, 0.05528129264712334, 0.05528129264712334, 0.02764064632356167, 0.02764064632356167, 0.02764064632356167, 0.7807503938674927, 0.03903752192854881, 0.03903752192854881, 0.03903752192854881, 0.03903752192854881, 0.9371011257171631, 0.013986583799123764, 0.013986583799123764, 0.013986583799123764, 0.8700268864631653, 0.05272890254855156, 0.039546675980091095, 0.01318222563713789, 0.01318222563713789, 0.01318222563713789, 0.01318222563713789, 0.01318222563713789, 0.9187996983528137, 0.016705449670553207, 0.016705449670553207, 0.016705449670553207, 0.777442991733551, 0.043191276490688324, 0.043191276490688324, 0.043191276490688324, 0.043191276490688324, 0.8414276838302612, 0.058704257011413574, 0.03913617134094238, 0.01956808567047119, 0.01956808567047119, 0.8817803859710693, 0.041333455592393875, 0.027555637061595917, 0.027555637061595917, 0.013777818530797958, 0.013777818530797958, 0.013777818530797958, 0.8098149299621582, 0.04262183979153633, 0.04262183979153633, 0.04262183979153633, 0.7538381218910217, 0.04187989607453346, 0.12563969194889069, 0.04187989607453346, 0.7600541710853577, 0.03040216863155365, 0.0608043372631073, 0.09120650589466095, 0.03040216863155365, 0.03040216863155365, 0.03040216863155365, 0.9247336387634277, 0.026803873479366302, 0.013401936739683151, 0.013401936739683151, 0.9260983467102051, 0.01596721261739731, 0.01596721261739731, 0.01596721261739731, 0.01596721261739731, 0.7635447382926941, 0.042419154196977615, 0.042419154196977615, 0.08483830839395523, 0.8103874921798706, 0.03241549804806709, 0.03241549804806709, 0.03241549804806709, 0.03241549804806709, 0.03241549804806709, 0.03241549804806709, 0.8809050917625427, 0.03595530986785889, 0.017977654933929443, 0.05393296480178833, 0.017977654933929443, 0.8306406736373901, 0.02443060837686062, 0.0732918232679367, 0.02443060837686062, 0.7139177918434143, 0.10708767175674438, 0.035695891827344894, 0.035695891827344894, 0.07139178365468979, 0.8555261492729187, 0.0658097043633461, 0.016452426090836525, 0.016452426090836525, 0.016452426090836525, 0.016452426090836525, 0.016452426090836525, 0.7628737092018127, 0.10522396117448807, 0.052611980587244034, 0.026305990293622017, 0.026305990293622017, 0.7808235883712769, 0.07098396122455597, 0.035491980612277985, 0.035491980612277985, 0.035491980612277985, 0.7851977944374084, 0.0872441977262497, 0.04362209886312485, 0.04362209886312485, 0.04362209886312485, 0.9460427761077881, 0.009009931236505508, 0.018019862473011017, 0.018019862473011017, 0.009009931236505508, 0.743755042552948, 0.08263944834470749, 0.041319724172353745, 0.041319724172353745, 0.041319724172353745, 0.7432632446289062, 0.041292402893304825, 0.08258480578660965, 0.041292402893304825, 0.8473714590072632, 0.0423685759305954, 0.0423685759305954, 0.02824571542441845, 0.014122857712209225, 0.014122857712209225, 0.014122857712209225, 0.9379191994667053, 0.013792929239571095, 0.013792929239571095, 0.013792929239571095, 0.8075256943702698, 0.0448625385761261, 0.0448625385761261, 0.0448625385761261, 0.745208740234375, 0.0414004847407341, 0.0828009694814682, 0.0414004847407341, 0.6785311102867126, 0.1871809959411621, 0.023397624492645264, 0.023397624492645264, 0.04679524898529053, 0.023397624492645264, 0.023397624492645264, 0.7686643004417419, 0.042703572660684586, 0.042703572660684586, 0.08540714532136917, 0.7903428673744202, 0.04390793666243553, 0.04390793666243553, 0.04390793666243553, 0.04390793666243553, 0.7527587413787842, 0.11580903828144073, 0.028952259570360184, 0.028952259570360184, 0.05790451914072037, 0.028952259570360184, 0.9341912269592285, 0.028308825567364693, 0.014154412783682346, 0.014154412783682346, 0.014154412783682346, 0.9204075336456299, 0.01840815134346485, 0.01840815134346485, 0.01840815134346485, 0.8567093014717102, 0.02254498191177845, 0.02254498191177845, 0.0676349401473999, 0.02254498191177845, 0.8260776996612549, 0.041303884238004684, 0.041303884238004684, 0.041303884238004684, 0.8282570242881775, 0.03451070934534073, 0.03451070934534073, 0.03451070934534073, 0.03451070934534073, 0.7550262808799744, 0.08089567720890045, 0.05393045023083687, 0.026965225115418434, 0.05393045023083687, 0.7447866201400757, 0.12413110584020615, 0.04137703403830528, 0.04137703403830528, 0.7194758653640747, 0.1598835289478302, 0.03997088223695755, 0.03997088223695755, 0.8433606624603271, 0.041139546781778336, 0.041139546781778336, 0.041139546781778336, 0.020569773390889168, 0.6858095526695251, 0.14438095688819885, 0.03609523922204971, 0.03609523922204971, 0.07219047844409943, 0.8657317161560059, 0.024735191836953163, 0.024735191836953163, 0.024735191836953163, 0.024735191836953163, 0.7990692853927612, 0.029595158994197845, 0.029595158994197845, 0.029595158994197845, 0.029595158994197845, 0.029595158994197845, 0.8000429272651672, 0.059262439608573914, 0.059262439608573914, 0.059262439608573914, 0.014815609902143478, 0.014815609902143478, 0.014815609902143478, 0.7313390970230103, 0.08125989884138107, 0.12188984453678131, 0.040629949420690536, 0.8392669558525085, 0.04417194426059723, 0.04417194426059723, 0.04417194426059723, 0.7140165567398071, 0.1127394586801529, 0.037579819560050964, 0.037579819560050964, 0.037579819560050964, 0.8999640345573425, 0.04953930526971817, 0.016513101756572723, 0.008256550878286362, 0.008256550878286362, 0.008256550878286362, 0.008256550878286362, 0.008256550878286362, 0.8894436955451965, 0.0523202158510685, 0.02092808671295643, 0.010464043356478214, 0.010464043356478214, 0.010464043356478214, 0.010464043356478214, 0.010464043356478214, 0.7344980239868164, 0.08161089569330215, 0.04080544784665108, 0.04080544784665108, 0.08161089569330215, 0.7323182821273804, 0.1627373844385147, 0.04068434610962868, 0.04068434610962868, 0.7860667705535889, 0.043670374900102615, 0.043670374900102615, 0.043670374900102615, 0.043670374900102615, 0.7910060882568359, 0.0395503044128418, 0.0395503044128418, 0.0395503044128418, 0.0395503044128418, 0.8923040628433228, 0.041183263063430786, 0.013727755285799503, 0.013727755285799503, 0.013727755285799503, 0.013727755285799503, 0.7724377512931824, 0.14044322073459625, 0.03511080518364906, 0.03511080518364906, 0.9546330571174622, 0.011641866527497768, 0.011641866527497768, 0.011641866527497768, 0.7365909218788147, 0.12276515364646912, 0.04092171788215637, 0.04092171788215637, 0.7062055468559265, 0.03923364356160164, 0.03923364356160164, 0.15693457424640656, 0.9409688711166382, 0.01344241201877594, 0.01344241201877594, 0.01344241201877594, 0.9555917978286743, 0.010983813554048538, 0.010983813554048538, 0.010983813554048538, 0.8503298759460449, 0.03865135833621025, 0.03865135833621025, 0.03865135833621025, 0.7192308306694031, 0.15982908010482788, 0.03995727002620697, 0.03995727002620697, 0.9417234063148499, 0.02729633077979088, 0.01364816538989544, 0.01364816538989544, 0.925135612487793, 0.01850271224975586, 0.01850271224975586, 0.01850271224975586, 0.9287177324295044, 0.017198476940393448, 0.017198476940393448, 0.017198476940393448, 0.7541084885597229, 0.04189491271972656, 0.04189491271972656, 0.04189491271972656, 0.08378982543945312, 0.6956118941307068, 0.03864510357379913, 0.19322551786899567, 0.03864510357379913, 0.6881514191627502, 0.03823063522577286, 0.1911531686782837, 0.03823063522577286, 0.9018967747688293, 0.021473731845617294, 0.021473731845617294, 0.021473731845617294, 0.021473731845617294, 0.8207426071166992, 0.0683952197432518, 0.0341976098716259, 0.0341976098716259, 0.0341976098716259, 0.8771860003471375, 0.04741545766592026, 0.02370772883296013, 0.02370772883296013, 0.02370772883296013, 0.7552577257156372, 0.0419587641954422, 0.0839175283908844, 0.0419587641954422, 0.0419587641954422, 0.8386347889900208, 0.06799741834402084, 0.022665806114673615, 0.022665806114673615, 0.022665806114673615, 0.7599310874938965, 0.042218394577503204, 0.042218394577503204, 0.08443678915500641, 0.7711682915687561, 0.0856853649020195, 0.04284268245100975, 0.04284268245100975, 0.04284268245100975, 0.7626295685768127, 0.04236830770969391, 0.04236830770969391, 0.04236830770969391, 0.04236830770969391, 0.828366756439209, 0.02672150731086731, 0.02672150731086731, 0.08016452193260193, 0.8390121459960938, 0.025424610823392868, 0.025424610823392868, 0.0762738287448883, 0.7489529848098755, 0.12482549250125885, 0.04160849750041962, 0.04160849750041962, 0.7788385152816772, 0.03894192725419998, 0.03894192725419998, 0.03894192725419998, 0.07788385450839996, 0.8075239658355713, 0.04486244544386864, 0.04486244544386864, 0.04486244544386864, 0.7686635255813599, 0.042703527957201004, 0.042703527957201004, 0.08540705591440201, 0.8318578600883484, 0.04159289598464966, 0.04159289598464966, 0.04159289598464966, 0.8723657131195068, 0.03792894259095192, 0.025285962969064713, 0.03792894259095192, 0.012642981484532356, 0.012642981484532356, 0.012642981484532356, 0.8562718033790588, 0.04506693407893181, 0.04506693407893181, 0.03004462458193302, 0.01502231229096651, 0.01502231229096651, 0.8454519510269165, 0.057644449174404144, 0.019214816391468048, 0.038429632782936096, 0.019214816391468048, 0.019214816391468048, 0.019214816391468048, 0.019214816391468048, 0.7857919931411743, 0.058206815272569656, 0.08731022477149963, 0.029103407636284828, 0.785430908203125, 0.0436350516974926, 0.0436350516974926, 0.0436350516974926, 0.0436350516974926, 0.8605876564979553, 0.023259125649929047, 0.023259125649929047, 0.04651825129985809], \"Term\": [\"acid\", \"acid\", \"acid\", \"acid\", \"acid\", \"acid\", \"acids\", \"acids\", \"acids\", \"acids\", \"acids\", \"acp\", \"acp\", \"acp\", \"acp\", \"acp\", \"adsorbed\", \"adsorbed\", \"adsorbed\", \"adsorbed\", \"adsorbed\", \"adsorbed\", \"adsorption\", \"adsorption\", \"adsorption\", \"adsorption\", \"adsorption\", \"adsorption\", \"aggradation\", \"aggradation\", \"aggradation\", \"aggradation\", \"aging\", \"aging\", \"aging\", \"aging\", \"aging\", \"alkoxy\", \"alkoxy\", \"alkoxy\", \"alkoxy\", \"american\", \"american\", \"american\", \"american\", \"analogues\", \"analogues\", \"analogues\", \"analogues\", \"analytic\", \"analytic\", \"analytic\", \"analytic\", \"analytic\", \"annulus\", \"annulus\", \"annulus\", \"annulus\", \"ansys\", \"ansys\", \"ansys\", \"ansys\", \"ansys\", \"appraisal\", \"appraisal\", \"appraisal\", \"appraisal\", \"appraisal\", \"archie\", \"archie\", \"archie\", \"archie\", \"arrhenius\", \"arrhenius\", \"arrhenius\", \"arrhenius\", \"arrhenius\", \"asp\", \"asp\", \"asp\", \"asp\", \"asp\", \"asphaltene\", \"asphaltene\", \"asphaltene\", \"asphaltene\", \"asphaltene\", \"asphaltene\", \"asphaltenes\", \"asphaltenes\", \"asphaltenes\", \"asphaltenes\", \"automotive\", \"automotive\", \"automotive\", \"automotive\", \"band\", \"band\", \"band\", \"band\", \"bands\", \"bands\", \"bands\", \"bands\", \"bangladesh\", \"bangladesh\", \"bangladesh\", \"bangladesh\", \"bangladesh\", \"barite\", \"barite\", \"barite\", \"barite\", \"basin\", \"basin\", \"basin\", \"basin\", \"basins\", \"basins\", \"basins\", \"basins\", \"battery\", \"battery\", \"battery\", \"battery\", \"battery\", \"bdf\", \"bdf\", \"bdf\", \"bdf\", \"bdf\", \"bit\", \"bit\", \"bit\", \"bit\", \"bit\", \"bit\", \"bitumen\", \"bitumen\", \"bitumen\", \"bitumen\", \"bitumen\", \"blend\", \"blend\", \"blend\", \"blend\", \"blood\", \"blood\", \"blood\", \"blood\", \"blood\", \"bodies\", \"bodies\", \"bodies\", \"bodies\", \"break-up\", \"break-up\", \"break-up\", \"break-up\", \"break-up\", \"breakout\", \"breakout\", \"breakout\", \"breakout\", \"breakout\", \"breakout\", \"capillaries\", \"capillaries\", \"capillaries\", \"capillaries\", \"capillaries\", \"capillaries\", \"carbonate\", \"carbonate\", \"carbonate\", \"carbonate\", \"carbonate\", \"carbonate\", \"casing\", \"casing\", \"casing\", \"casing\", \"casing\", \"cec\", \"cec\", \"cec\", \"cec\", \"cement\", \"cement\", \"cement\", \"cement\", \"cement\", \"cfd\", \"cfd\", \"cfd\", \"cfd\", \"cfd\", \"cfd\", \"chamber\", \"chamber\", \"chamber\", \"chamber\", \"chamber\", \"chamber-edge\", \"chamber-edge\", \"chamber-edge\", \"chamber-edge\", \"chamber-edge\", \"channel\", \"channel\", \"channel\", \"channel\", \"charge\", \"charge\", \"charge\", \"charge\", \"cleanup\", \"cleanup\", \"cleanup\", \"cleanup\", \"cliff\", \"cliff\", \"cliff\", \"cliff\", \"cmt\", \"cmt\", \"cmt\", \"cmt\", \"cmt\", \"coal\", \"coal\", \"coal\", \"coal\", \"coal\", \"coinjection\", \"coinjection\", \"coinjection\", \"coinjection\", \"coinjection\", \"combustion\", \"combustion\", \"combustion\", \"combustion\", \"combustion\", \"combustion\", \"compacting\", \"compacting\", \"compacting\", \"compacting\", \"condensate\", \"condensate\", \"condensate\", \"condensate\", \"condensate\", \"condensate\", \"condensate\", \"conditioning\", \"conditioning\", \"conditioning\", \"conditioning\", \"conductivity\", \"conductivity\", \"conductivity\", \"conductivity\", \"conductivity\", \"confinement\", \"confinement\", \"confinement\", \"confinement\", \"confinement\", \"connectivities\", \"connectivities\", \"connectivities\", \"connectivities\", \"contracts\", \"contracts\", \"contracts\", \"contracts\", \"cretaceous\", \"cretaceous\", \"cretaceous\", \"cretaceous\", \"crm\", \"crm\", \"crm\", \"crm\", \"crude-oil\", \"crude-oil\", \"crude-oil\", \"crude-oil\", \"crude-oil\", \"cuttings\", \"cuttings\", \"cuttings\", \"cuttings\", \"cuttings\", \"data-analysis\", \"data-analysis\", \"data-analysis\", \"data-analysis\", \"dca\", \"dca\", \"dca\", \"dca\", \"dca\", \"decision\", \"decision\", \"decision\", \"decision\", \"decision\", \"declustering\", \"declustering\", \"declustering\", \"declustering\", \"deconvolution\", \"deconvolution\", \"deconvolution\", \"deconvolution\", \"deconvolution\", \"deposition\", \"deposition\", \"deposition\", \"deposition\", \"deposition\", \"deposition\", \"deterioration\", \"deterioration\", \"deterioration\", \"deterioration\", \"deterioration\", \"dielectric\", \"dielectric\", \"dielectric\", \"dielectric\", \"digitised\", \"digitised\", \"digitised\", \"digitised\", \"dissociation\", \"dissociation\", \"dissociation\", \"dissociation\", \"dolomite\", \"dolomite\", \"dolomite\", \"dolomite\", \"drilling\", \"drilling\", \"drilling\", \"drilling\", \"drilling\", \"drilling\", \"drillstring\", \"drillstring\", \"drillstring\", \"drillstring\", \"drillstring\", \"drm\", \"drm\", \"drm\", \"drm\", \"drm\", \"dunes\", \"dunes\", \"dunes\", \"dunes\", \"dunes\", \"dust\", \"dust\", \"dust\", \"dust\", \"eccentric\", \"eccentric\", \"eccentric\", \"eccentric\", \"edfm\", \"edfm\", \"edfm\", \"edfm\", \"edfm\", \"edfm\", \"edge\", \"edge\", \"edge\", \"edge\", \"edge\", \"ehrenberg\", \"ehrenberg\", \"ehrenberg\", \"ehrenberg\", \"electric\", \"electric\", \"electric\", \"electric\", \"electric\", \"emissions\", \"emissions\", \"emissions\", \"emissions\", \"emissions\", \"emissions\", \"enabler\", \"enabler\", \"enabler\", \"enabler\", \"engine\", \"engine\", \"engine\", \"engine\", \"entrainment\", \"entrainment\", \"entrainment\", \"entrainment\", \"entrainment\", \"eocene\", \"eocene\", \"eocene\", \"eocene\", \"eor\", \"eor\", \"eor\", \"eor\", \"eor\", \"eor\", \"eor\", \"es-mda\", \"es-mda\", \"es-mda\", \"es-mda\", \"es-mda\", \"es-sagd\", \"es-sagd\", \"es-sagd\", \"es-sagd\", \"es-sagd\", \"esp\", \"esp\", \"esp\", \"esp\", \"esp\", \"estaillades\", \"estaillades\", \"estaillades\", \"estaillades\", \"event-based\", \"event-based\", \"event-based\", \"event-based\", \"exterior\", \"exterior\", \"exterior\", \"exterior\", \"fabric\", \"fabric\", \"fabric\", \"fabric\", \"fdc\", \"fdc\", \"fdc\", \"fdc\", \"film\", \"film\", \"film\", \"film\", \"film\", \"film\", \"fiscal\", \"fiscal\", \"fiscal\", \"fiscal\", \"fischer-tropsch\", \"fischer-tropsch\", \"fischer-tropsch\", \"fischer-tropsch\", \"fischer-tropsch\", \"fischer\\u2013tropsch\", \"fischer\\u2013tropsch\", \"fischer\\u2013tropsch\", \"fischer\\u2013tropsch\", \"fischer\\u2013tropsch\", \"fixed-bed\", \"fixed-bed\", \"fixed-bed\", \"fixed-bed\", \"fixed-bed\", \"fixed-strain\", \"fixed-strain\", \"fixed-strain\", \"fixed-strain\", \"fixed-stress\", \"fixed-stress\", \"fixed-stress\", \"fixed-stress\", \"fixed-stress\", \"flame\", \"flame\", \"flame\", \"flame\", \"flaws\", \"flaws\", \"flaws\", \"flaws\", \"flood\", \"flood\", \"flood\", \"flood\", \"flood\", \"flood\", \"flooding\", \"flooding\", \"flooding\", \"flooding\", \"flooding\", \"flooding\", \"floods\", \"floods\", \"floods\", \"floods\", \"floods\", \"floods\", \"foam\", \"foam\", \"foam\", \"foam\", \"foam\", \"foam\", \"foam\", \"foam\", \"foam-bubble\", \"foam-bubble\", \"foam-bubble\", \"foam-bubble\", \"foams\", \"foams\", \"foams\", \"foams\", \"foams\", \"fracture\", \"fracture\", \"fracture\", \"fracture\", \"fracture\", \"fracture\", \"fracture\", \"fracture-vug\", \"fracture-vug\", \"fracture-vug\", \"fracture-vug\", \"fractures\", \"fractures\", \"fractures\", \"fractures\", \"fractures\", \"fractures\", \"fractures\", \"fracturing\", \"fracturing\", \"fracturing\", \"fracturing\", \"fracturing\", \"fracturing\", \"frio\", \"frio\", \"frio\", \"frio\", \"frio\", \"frontier\", \"frontier\", \"frontier\", \"frontier\", \"fts\", \"fts\", \"fts\", \"fts\", \"fts\", \"fuels\", \"fuels\", \"fuels\", \"fuels\", \"fuels\", \"galerkin\", \"galerkin\", \"galerkin\", \"galerkin\", \"galerkin\", \"galerkin\", \"gas\", \"gas\", \"gas\", \"gas\", \"gas\", \"gas\", \"gas\", \"gas-to-liquid\", \"gas-to-liquid\", \"gas-to-liquid\", \"gas-to-liquid\", \"gas-to-liquid\", \"gel\", \"gel\", \"gel\", \"gel\", \"gel\", \"geo-cellular\", \"geo-cellular\", \"geo-cellular\", \"geo-cellular\", \"geo-cellular\", \"geomechanics\", \"geomechanics\", \"geomechanics\", \"geomechanics\", \"geomechanics\", \"geomechanics\", \"geosteering\", \"geosteering\", \"geosteering\", \"geosteering\", \"geosteering\", \"geosteering\", \"gpme\", \"gpme\", \"gpme\", \"gpme\", \"gpr\", \"gpr\", \"gpr\", \"gpr\", \"gtl\", \"gtl\", \"gtl\", \"gtl\", \"gtl\", \"guerbet\", \"guerbet\", \"guerbet\", \"guerbet\", \"hcl\", \"hcl\", \"hcl\", \"hcl\", \"hcl\", \"head\", \"head\", \"head\", \"head\", \"head\", \"heavy-duty\", \"heavy-duty\", \"heavy-duty\", \"heavy-duty\", \"height\", \"height\", \"height\", \"height\", \"height\", \"herrick\", \"herrick\", \"herrick\", \"herrick\", \"hess\", \"hess\", \"hess\", \"hess\", \"hld-nac\", \"hld-nac\", \"hld-nac\", \"hld-nac\", \"hld-nac\", \"holdup\", \"holdup\", \"holdup\", \"holdup\", \"holdup\", \"holdup\", \"hoop\", \"hoop\", \"hoop\", \"hoop\", \"hoop\", \"hpht\", \"hpht\", \"hpht\", \"hpht\", \"huff-n-puff\", \"huff-n-puff\", \"huff-n-puff\", \"huff-n-puff\", \"huff-n-puff\", \"humidity\", \"humidity\", \"humidity\", \"humidity\", \"hydrate\", \"hydrate\", \"hydrate\", \"hydrate\", \"hydrate\", \"hydrate\", \"hydrate\", \"hydraulic\", \"hydraulic\", \"hydraulic\", \"hydraulic\", \"hydraulic\", \"hydraulic\", \"hydraulic\", \"hydraulic-fracture\", \"hydraulic-fracture\", \"hydraulic-fracture\", \"hydraulic-fracture\", \"hydrogels\", \"hydrogels\", \"hydrogels\", \"hydrogels\", \"hyperspectral\", \"hyperspectral\", \"hyperspectral\", \"hyperspectral\", \"ices\", \"ices\", \"ices\", \"ices\", \"ices\", \"ift\", \"ift\", \"ift\", \"ift\", \"ift\", \"ift\", \"image\", \"image\", \"image\", \"image\", \"image\", \"imbibition\", \"imbibition\", \"imbibition\", \"imbibition\", \"imbibition\", \"in-panel\", \"in-panel\", \"in-panel\", \"in-panel\", \"incidents\", \"incidents\", \"incidents\", \"incidents\", \"injector\", \"injector\", \"injector\", \"injector\", \"interior\", \"interior\", \"interior\", \"interior\", \"isc\", \"isc\", \"isc\", \"isc\", \"isc\", \"isenthalpic\", \"isenthalpic\", \"isenthalpic\", \"isenthalpic\", \"isenthalpic\", \"isoconversional\", \"isoconversional\", \"isoconversional\", \"isoconversional\", \"isoconversional\", \"jetting\", \"jetting\", \"jetting\", \"jetting\", \"jetting\", \"kennedy\", \"kennedy\", \"kennedy\", \"kennedy\", \"kerogen\", \"kerogen\", \"kerogen\", \"kerogen\", \"kerogen\", \"kerogen\", \"kerogen\", \"ketton\", \"ketton\", \"ketton\", \"ketton\", \"khuff\", \"khuff\", \"khuff\", \"khuff\", \"kinetics\", \"kinetics\", \"kinetics\", \"kinetics\", \"kinetics\", \"lapse\", \"lapse\", \"lapse\", \"lapse\", \"limiters\", \"limiters\", \"limiters\", \"limiters\", \"lineament\", \"lineament\", \"lineament\", \"lineament\", \"lineaments\", \"lineaments\", \"lineaments\", \"lineaments\", \"liquid\", \"liquid\", \"liquid\", \"liquid\", \"liquid\", \"liquid\", \"lithium-ion\", \"lithium-ion\", \"lithium-ion\", \"lithium-ion\", \"loaded\", \"loaded\", \"loaded\", \"loaded\", \"loading\", \"loading\", \"loading\", \"loading\", \"loading\", \"loading\", \"looped\", \"looped\", \"looped\", \"looped\", \"looped\", \"losses\", \"losses\", \"losses\", \"losses\", \"losses\", \"lrs\", \"lrs\", \"lrs\", \"lrs\", \"lrs\", \"lsw\", \"lsw\", \"lsw\", \"lsw\", \"lswag\", \"lswag\", \"lswag\", \"lswag\", \"ltg\", \"ltg\", \"ltg\", \"ltg\", \"manufacturing\", \"manufacturing\", \"manufacturing\", \"manufacturing\", \"matrix-vug\", \"matrix-vug\", \"matrix-vug\", \"matrix-vug\", \"maturity\", \"maturity\", \"maturity\", \"maturity\", \"methane\", \"methane\", \"methane\", \"methane\", \"methane\", \"methane\", \"micro-models\", \"micro-models\", \"micro-models\", \"micro-models\", \"microemulsion\", \"microemulsion\", \"microemulsion\", \"microemulsion\", \"microemulsion\", \"microemulsion\", \"micromodels\", \"micromodels\", \"micromodels\", \"micromodels\", \"micromodels\", \"minemura\", \"minemura\", \"minemura\", \"minemura\", \"minemura\", \"moments\", \"moments\", \"moments\", \"moments\", \"moments\", \"mpg\", \"mpg\", \"mpg\", \"mpg\", \"mud-rich\", \"mud-rich\", \"mud-rich\", \"mud-rich\", \"mudcake\", \"mudcake\", \"mudcake\", \"mudcake\", \"mudcake\", \"mudcake\", \"mudrock\", \"mudrock\", \"mudrock\", \"mudrock\", \"mudrocks\", \"mudrocks\", \"mudrocks\", \"mudrocks\", \"mudrocks\", \"multicontinuum\", \"multicontinuum\", \"multicontinuum\", \"multicontinuum\", \"multicontinuum\", \"multiple-fracture\", \"multiple-fracture\", \"multiple-fracture\", \"multiple-fracture\", \"multirate\", \"multirate\", \"multirate\", \"multirate\", \"multirate\", \"multiscale\", \"multiscale\", \"multiscale\", \"multiscale\", \"multiscale\", \"multiscale\", \"n-alkanes\", \"n-alkanes\", \"n-alkanes\", \"n-alkanes\", \"n-alkanes\", \"nanofluids\", \"nanofluids\", \"nanofluids\", \"nanofluids\", \"nanoindentation\", \"nanoindentation\", \"nanoindentation\", \"nanoindentation\", \"nanoparticles\", \"nanoparticles\", \"nanoparticles\", \"nanoparticles\", \"nanoparticles\", \"nanoparticles\", \"nanoparticles\", \"nanopore\", \"nanopore\", \"nanopore\", \"nanopore\", \"nanopore\", \"nanopores\", \"nanopores\", \"nanopores\", \"nanopores\", \"nanopores\", \"nanopores\", \"narrow-boiling\", \"narrow-boiling\", \"narrow-boiling\", \"narrow-boiling\", \"narrow-boiling\", \"newton\", \"newton\", \"newton\", \"newton\", \"newton\", \"newton\", \"nmr\", \"nmr\", \"nmr\", \"nmr\", \"nmr\", \"nmr\", \"nmr-based\", \"nmr-based\", \"nmr-based\", \"nmr-based\", \"nonplanar\", \"nonplanar\", \"nonplanar\", \"nonplanar\", \"nonplanar\", \"norne\", \"norne\", \"norne\", \"norne\", \"object\", \"object\", \"object\", \"object\", \"object-based\", \"object-based\", \"object-based\", \"object-based\", \"objects\", \"objects\", \"objects\", \"objects\", \"offshore\", \"offshore\", \"offshore\", \"offshore\", \"oil\", \"oil\", \"oil\", \"oil\", \"oil\", \"oil\", \"opinions\", \"opinions\", \"opinions\", \"opinions\", \"optimization\", \"optimization\", \"optimization\", \"optimization\", \"optimization\", \"optimization\", \"organic-rich\", \"organic-rich\", \"organic-rich\", \"organic-rich\", \"organic-rich\", \"organic-rich\", \"organic-rich\", \"orthoslices\", \"orthoslices\", \"orthoslices\", \"orthoslices\", \"pba\", \"pba\", \"pba\", \"pba\", \"pc-saft\", \"pc-saft\", \"pc-saft\", \"pc-saft\", \"pc-saft\", \"pdg\", \"pdg\", \"pdg\", \"pdg\", \"pdg\", \"pec\", \"pec\", \"pec\", \"pec\", \"pedfm\", \"pedfm\", \"pedfm\", \"pedfm\", \"pedfm\", \"peridynamic\", \"peridynamic\", \"peridynamic\", \"peridynamic\", \"peridynamics\", \"peridynamics\", \"peridynamics\", \"peridynamics\", \"permeability\", \"permeability\", \"permeability\", \"permeability\", \"permeability\", \"permeability\", \"permeability\", \"pga\", \"pga\", \"pga\", \"pga\", \"phase-field\", \"phase-field\", \"phase-field\", \"phase-field\", \"phase-field\", \"phase-field\", \"pipe\", \"pipe\", \"pipe\", \"pipe\", \"pipe\", \"pipe\", \"pipeline\", \"pipeline\", \"pipeline\", \"pipeline\", \"pipeline\", \"pipeline\", \"pipelines\", \"pipelines\", \"pipelines\", \"pipelines\", \"pipelines\", \"pipelines\", \"pipes\", \"pipes\", \"pipes\", \"pipes\", \"pipes\", \"pla\", \"pla\", \"pla\", \"pla\", \"plug-in\", \"plug-in\", \"plug-in\", \"plug-in\", \"pna\", \"pna\", \"pna\", \"pna\", \"pna\", \"pocket\", \"pocket\", \"pocket\", \"pocket\", \"pocket\", \"polyelectrolyte\", \"polyelectrolyte\", \"polyelectrolyte\", \"polyelectrolyte\", \"polymer\", \"polymer\", \"polymer\", \"polymer\", \"polymer\", \"polymer\", \"polymer\", \"pontryagin\", \"pontryagin\", \"pontryagin\", \"pontryagin\", \"pool\", \"pool\", \"pool\", \"pool\", \"pool\", \"portland\", \"portland\", \"portland\", \"portland\", \"ppg\", \"ppg\", \"ppg\", \"ppg\", \"practices\", \"practices\", \"practices\", \"practices\", \"practices\", \"precipitation\", \"precipitation\", \"precipitation\", \"precipitation\", \"precipitation\", \"precipitation\", \"printing\", \"printing\", \"printing\", \"printing\", \"prise\", \"prise\", \"prise\", \"prise\", \"propagation\", \"propagation\", \"propagation\", \"propagation\", \"propagation\", \"propagation\", \"proppant\", \"proppant\", \"proppant\", \"proppant\", \"proppant\", \"proxy\", \"proxy\", \"proxy\", \"proxy\", \"pump\", \"pump\", \"pump\", \"pump\", \"pump\", \"pump\", \"pvs\", \"pvs\", \"pvs\", \"pvs\", \"quasi-2d\", \"quasi-2d\", \"quasi-2d\", \"quasi-2d\", \"random\", \"random\", \"random\", \"random\", \"random\", \"rankine\", \"rankine\", \"rankine\", \"rankine\", \"rate-time\", \"rate-time\", \"rate-time\", \"rate-time\", \"reaction\", \"reaction\", \"reaction\", \"reaction\", \"reaction\", \"reaction\", \"reactor\", \"reactor\", \"reactor\", \"reactor\", \"reactor\", \"recoverable\", \"recoverable\", \"recoverable\", \"recoverable\", \"recovery\", \"recovery\", \"recovery\", \"recovery\", \"recovery\", \"recovery\", \"recovery\", \"recovery\", \"reduced-order\", \"reduced-order\", \"reduced-order\", \"reduced-order\", \"reforming\", \"reforming\", \"reforming\", \"reforming\", \"reforming\", \"reserves\", \"reserves\", \"reserves\", \"reserves\", \"reserves\", \"reservoir\", \"reservoir\", \"reservoir\", \"reservoir\", \"reservoir\", \"reservoir\", \"reservoir\", \"reservoir-wide\", \"reservoir-wide\", \"reservoir-wide\", \"reservoir-wide\", \"resilience\", \"resilience\", \"resilience\", \"resilience\", \"resistivity\", \"resistivity\", \"resistivity\", \"resistivity\", \"resistivity\", \"resistivity\", \"resistivity\", \"resources\", \"resources\", \"resources\", \"resources\", \"resqml\", \"resqml\", \"resqml\", \"resqml\", \"resqml\", \"restimulation\", \"restimulation\", \"restimulation\", \"restimulation\", \"rop\", \"rop\", \"rop\", \"rop\", \"rop\", \"rop\", \"rop\", \"rotation\", \"rotation\", \"rotation\", \"rotation\", \"rotation\", \"safety\", \"safety\", \"safety\", \"safety\", \"sagd\", \"sagd\", \"sagd\", \"sagd\", \"sagd\", \"salinity\", \"salinity\", \"salinity\", \"salinity\", \"salinity\", \"salinity\", \"salinity\", \"sand\", \"sand\", \"sand\", \"sand\", \"sand\", \"sec\", \"sec\", \"sec\", \"sec\", \"sec\", \"securities\", \"securities\", \"securities\", \"securities\", \"securities\", \"seismic\", \"seismic\", \"seismic\", \"seismic\", \"seismic\", \"sfi\", \"sfi\", \"sfi\", \"sfi\", \"sfi\", \"shadow\", \"shadow\", \"shadow\", \"shadow\", \"shale\", \"shale\", \"shale\", \"shale\", \"shale\", \"shale\", \"shale\", \"simpleware\", \"simpleware\", \"simpleware\", \"simpleware\", \"sinuosity\", \"sinuosity\", \"sinuosity\", \"sinuosity\", \"slowness\", \"slowness\", \"slowness\", \"slowness\", \"slug\", \"slug\", \"slug\", \"slug\", \"slug\", \"slug\", \"slug\", \"smits\", \"smits\", \"smits\", \"smits\", \"smoothness\", \"smoothness\", \"smoothness\", \"smoothness\", \"smoothness\", \"solvent\", \"solvent\", \"solvent\", \"solvent\", \"solvent\", \"solvent\", \"split\", \"split\", \"split\", \"split\", \"split\", \"splits\", \"splits\", \"splits\", \"splits\", \"spontaneous\", \"spontaneous\", \"spontaneous\", \"spontaneous\", \"spontaneous\", \"stacking\", \"stacking\", \"stacking\", \"stacking\", \"stationary\", \"stationary\", \"stationary\", \"stationary\", \"stationary\", \"steam\", \"steam\", \"steam\", \"steam\", \"steam\", \"steerability\", \"steerability\", \"steerability\", \"steerability\", \"sticking\", \"sticking\", \"sticking\", \"sticking\", \"stimulation\", \"stimulation\", \"stimulation\", \"stimulation\", \"stimulation\", \"stratified\", \"stratified\", \"stratified\", \"stratified\", \"stratified\", \"streamline\", \"streamline\", \"streamline\", \"streamline\", \"streamline\", \"strengthening\", \"strengthening\", \"strengthening\", \"strengthening\", \"strengthening\", \"strengthening\", \"stress\", \"stress\", \"stress\", \"stress\", \"stress\", \"stress\", \"stress\", \"stress-shadow\", \"stress-shadow\", \"stress-shadow\", \"stress-shadow\", \"subgrid\", \"subgrid\", \"subgrid\", \"subgrid\", \"superficial\", \"superficial\", \"superficial\", \"superficial\", \"superficial\", \"surfactant\", \"surfactant\", \"surfactant\", \"surfactant\", \"surfactant\", \"surfactant\", \"surfactant\", \"surfactant\", \"surfactants\", \"surfactants\", \"surfactants\", \"surfactants\", \"surfactants\", \"surfactants\", \"surfactants\", \"surfactants\", \"surging\", \"surging\", \"surging\", \"surging\", \"surging\", \"symmetrically\", \"symmetrically\", \"symmetrically\", \"symmetrically\", \"syngas\", \"syngas\", \"syngas\", \"syngas\", \"syngas\", \"synthesis\", \"synthesis\", \"synthesis\", \"synthesis\", \"synthesis\", \"temperature\", \"temperature\", \"temperature\", \"temperature\", \"temperature\", \"temperature\", \"tester\", \"tester\", \"tester\", \"tester\", \"tgs\", \"tgs\", \"tgs\", \"tgs\", \"time-rate\", \"time-rate\", \"time-rate\", \"time-rate\", \"toolkit\", \"toolkit\", \"toolkit\", \"toolkit\", \"tpwl\", \"tpwl\", \"tpwl\", \"tpwl\", \"trr\", \"trr\", \"trr\", \"trr\", \"turbidite\", \"turbidite\", \"turbidite\", \"turbidite\", \"twc\", \"twc\", \"twc\", \"twc\", \"ugrs\", \"ugrs\", \"ugrs\", \"ugrs\", \"ulr\", \"ulr\", \"ulr\", \"ulr\", \"undrained\", \"undrained\", \"undrained\", \"undrained\", \"upgridding\", \"upgridding\", \"upgridding\", \"upgridding\", \"upgridding\", \"uruguay\", \"uruguay\", \"uruguay\", \"uruguay\", \"uruguayan\", \"uruguayan\", \"uruguayan\", \"uruguayan\", \"utchem\", \"utchem\", \"utchem\", \"utchem\", \"utchem\", \"vehicle\", \"vehicle\", \"vehicle\", \"vehicle\", \"vehicle\", \"vehicles\", \"vehicles\", \"vehicles\", \"vehicles\", \"vehicles\", \"vein\", \"vein\", \"vein\", \"vein\", \"vein\", \"velocity\", \"velocity\", \"velocity\", \"velocity\", \"velocity\", \"vertex\", \"vertex\", \"vertex\", \"vertex\", \"ves\", \"ves\", \"ves\", \"ves\", \"ves\", \"vrr\", \"vrr\", \"vrr\", \"vrr\", \"vrr\", \"vuggy\", \"vuggy\", \"vuggy\", \"vuggy\", \"vugs\", \"vugs\", \"vugs\", \"vugs\", \"vugular\", \"vugular\", \"vugular\", \"vugular\", \"wax\", \"wax\", \"wax\", \"wax\", \"wax\", \"waxing\\u2013waning\", \"waxing\\u2013waning\", \"waxing\\u2013waning\", \"waxing\\u2013waning\", \"waxman\", \"waxman\", \"waxman\", \"waxman\", \"well-to-well\", \"well-to-well\", \"well-to-well\", \"well-to-well\", \"wellbore\", \"wellbore\", \"wellbore\", \"wellbore\", \"wellbore\", \"wellbore\", \"wellbore\", \"wells\", \"wells\", \"wells\", \"wells\", \"wells\", \"wells\", \"wettability\", \"wettability\", \"wettability\", \"wettability\", \"wettability\", \"wettability\", \"wettability\", \"wettability\", \"width\", \"width\", \"width\", \"width\", \"xwl\", \"xwl\", \"xwl\", \"xwl\", \"xwl\", \"ypl\", \"ypl\", \"ypl\", \"ypl\"]}, \"R\": 30, \"lambda.step\": 0.01, \"plot.opts\": {\"xlab\": \"PC1\", \"ylab\": \"PC2\"}, \"topic.order\": [8, 4, 6, 9, 5, 3, 1, 2, 7]};\n",
       "\n",
       "function LDAvis_load_lib(url, callback){\n",
       "  var s = document.createElement('script');\n",
       "  s.src = url;\n",
       "  s.async = true;\n",
       "  s.onreadystatechange = s.onload = callback;\n",
       "  s.onerror = function(){console.warn(\"failed to load library \" + url);};\n",
       "  document.getElementsByTagName(\"head\")[0].appendChild(s);\n",
       "}\n",
       "\n",
       "if(typeof(LDAvis) !== \"undefined\"){\n",
       "   // already loaded: just create the visualization\n",
       "   !function(LDAvis){\n",
       "       new LDAvis(\"#\" + \"ldavis_el933331124710970409751324342\", ldavis_el933331124710970409751324342_data);\n",
       "   }(LDAvis);\n",
       "}else if(typeof define === \"function\" && define.amd){\n",
       "   // require.js is available: use it to load d3/LDAvis\n",
       "   require.config({paths: {d3: \"https://cdnjs.cloudflare.com/ajax/libs/d3/3.5.5/d3.min\"}});\n",
       "   require([\"d3\"], function(d3){\n",
       "      window.d3 = d3;\n",
       "      LDAvis_load_lib(\"https://cdn.rawgit.com/bmabey/pyLDAvis/files/ldavis.v1.0.0.js\", function(){\n",
       "        new LDAvis(\"#\" + \"ldavis_el933331124710970409751324342\", ldavis_el933331124710970409751324342_data);\n",
       "      });\n",
       "    });\n",
       "}else{\n",
       "    // require.js not available: dynamically load d3 & LDAvis\n",
       "    LDAvis_load_lib(\"https://cdnjs.cloudflare.com/ajax/libs/d3/3.5.5/d3.min.js\", function(){\n",
       "         LDAvis_load_lib(\"https://cdn.rawgit.com/bmabey/pyLDAvis/files/ldavis.v1.0.0.js\", function(){\n",
       "                 new LDAvis(\"#\" + \"ldavis_el933331124710970409751324342\", ldavis_el933331124710970409751324342_data);\n",
       "            })\n",
       "         });\n",
       "}\n",
       "</script>"
      ],
      "text/plain": [
       "PreparedData(topic_coordinates=            Freq  cluster  topics         x         y\n",
       "topic                                                \n",
       "7      82.452324        1       1 -0.002621  0.001562\n",
       "3       5.343538        1       2 -0.000368 -0.001114\n",
       "5       3.855492        1       3  0.000644  0.000451\n",
       "8       3.226458        1       4  0.002000  0.001988\n",
       "4       1.719395        1       5  0.000506 -0.001370\n",
       "2       1.241839        1       6  0.000188 -0.000636\n",
       "0       1.158055        1       7 -0.000036 -0.000521\n",
       "1       0.761086        1       8 -0.000504 -0.000405\n",
       "6       0.241817        1       9  0.000189  0.000045, topic_info=      Category        Freq            Term       Total  loglift  logprob\n",
       "term                                                                    \n",
       "989    Default  128.000000        fracture  128.000000  30.0000  30.0000\n",
       "5150   Default  121.000000      surfactant  121.000000  29.0000  29.0000\n",
       "5695   Default  138.000000   nanoparticles  138.000000  28.0000  28.0000\n",
       "5457   Default  100.000000            foam  100.000000  27.0000  27.0000\n",
       "24     Default   98.000000            acid   98.000000  26.0000  26.0000\n",
       "2326   Default   95.000000     surfactants   95.000000  25.0000  25.0000\n",
       "722    Default   89.000000        drilling   89.000000  24.0000  24.0000\n",
       "1719   Default  100.000000    permeability  100.000000  23.0000  23.0000\n",
       "1759   Default   90.000000         polymer   90.000000  22.0000  22.0000\n",
       "5453   Default   72.000000          floods   72.000000  21.0000  21.0000\n",
       "304    Default  117.000000          cement  117.000000  20.0000  20.0000\n",
       "2590   Default   79.000000        wellbore   79.000000  19.0000  19.0000\n",
       "5461   Default  102.000000           foams  102.000000  18.0000  18.0000\n",
       "8642   Default   64.000000             asp   64.000000  17.0000  17.0000\n",
       "3462   Default   75.000000        recovery   75.000000  16.0000  16.0000\n",
       "1029   Default   80.000000             gas   80.000000  15.0000  15.0000\n",
       "5530   Default   70.000000         hydrate   70.000000  14.0000  14.0000\n",
       "1615   Default   74.000000             oil   74.000000  13.0000  13.0000\n",
       "4427   Default   85.000000             eor   85.000000  12.0000  12.0000\n",
       "999    Default   74.000000       fractures   74.000000  11.0000  11.0000\n",
       "5452   Default   76.000000        flooding   76.000000  10.0000  10.0000\n",
       "2136   Default   70.000000           shale   70.000000   9.0000   9.0000\n",
       "2002   Default   72.000000       reservoir   72.000000   8.0000   8.0000\n",
       "9120   Default  149.000000          basins  149.000000   7.0000   7.0000\n",
       "1156   Default   84.000000      imbibition   84.000000   6.0000   6.0000\n",
       "280    Default   66.000000       carbonate   66.000000   5.0000   5.0000\n",
       "4860   Default  110.000000         seismic  110.000000   4.0000   4.0000\n",
       "2353   Default   72.000000     temperature   72.000000   3.0000   3.0000\n",
       "1635   Default   65.000000    optimization   65.000000   2.0000   2.0000\n",
       "434    Default   75.000000    conductivity   75.000000   1.0000   1.0000\n",
       "...        ...         ...             ...         ...      ...      ...\n",
       "18665   Topic9    0.112943    declustering   22.290319   0.7397  -9.4000\n",
       "18688   Topic9    0.112943       sinuosity   22.290312   0.7397  -9.4000\n",
       "18692   Topic9    0.112942   waxing–waning   22.290359   0.7397  -9.4000\n",
       "18667   Topic9    0.112942     event-based   22.290400   0.7397  -9.4000\n",
       "9557    Topic9    0.163666  connectivities   32.677139   0.7281  -9.0290\n",
       "4963    Topic9    0.125388       turbidite   25.872313   0.6952  -9.2954\n",
       "11300   Topic9    0.126773     confinement   26.235323   0.6923  -9.2845\n",
       "16856   Topic9    0.115542    well-to-well   24.042568   0.6868  -9.3772\n",
       "4716    Topic9    0.131594         objects   27.563168   0.6802  -9.2471\n",
       "10153   Topic9    0.194602       eccentric   48.204575   0.5125  -8.8559\n",
       "1926    Topic9    0.156241        reaction   36.178604   0.5799  -9.0755\n",
       "5233    Topic9    0.140055          barite   31.868706   0.5974  -9.1848\n",
       "2284    Topic9    0.159057      streamline   40.428230   0.4867  -9.0576\n",
       "2872    Topic9    0.171467        cuttings   46.586147   0.4201  -8.9825\n",
       "1312    Topic9    0.139008        kinetics   32.493717   0.5705  -9.1923\n",
       "4073    Topic9    0.138898           proxy   32.788387   0.5607  -9.1931\n",
       "3215    Topic9    0.149644          losses   40.506493   0.4238  -9.1186\n",
       "10737   Topic9    0.151062             ypl   42.993877   0.3736  -9.1092\n",
       "5055    Topic9    0.151785      asphaltene   46.695213   0.2958  -9.1044\n",
       "1739    Topic9    0.160551            pipe   56.536278   0.1607  -9.0482\n",
       "10528   Topic9    0.157634        rotation   55.624607   0.1586  -9.0666\n",
       "722     Topic9    0.173559        drilling   89.512268  -0.2209  -8.9703\n",
       "5457    Topic9    0.171337            foam  100.549095  -0.3500  -8.9832\n",
       "2590    Topic9    0.163384        wellbore   79.095268  -0.1576  -9.0308\n",
       "1635    Topic9    0.155979    optimization   65.438156  -0.0144  -9.0771\n",
       "4689    Topic9    0.146141      multiscale   43.791096   0.3221  -9.1423\n",
       "5056    Topic9    0.144326     asphaltenes   46.564079   0.2482  -9.1548\n",
       "2270    Topic9    0.143403     stimulation   48.615025   0.1987  -9.1612\n",
       "989     Topic9    0.147092        fracture  128.974747  -0.7516  -9.1358\n",
       "119     Topic9    0.144581         annulus   73.723274  -0.2095  -9.1530\n",
       "\n",
       "[452 rows x 6 columns], token_table=       Topic      Freq         Term\n",
       "term                               \n",
       "24         1  0.882397         acid\n",
       "24         2  0.050712         acid\n",
       "24         3  0.010142         acid\n",
       "24         4  0.030427         acid\n",
       "24         6  0.010142         acid\n",
       "24         7  0.010142         acid\n",
       "42         1  0.799726        acids\n",
       "42         2  0.076164        acids\n",
       "42         3  0.038082        acids\n",
       "42         4  0.038082        acids\n",
       "42         6  0.038082        acids\n",
       "11235      1  0.871048          acp\n",
       "11235      2  0.051238          acp\n",
       "11235      3  0.025619          acp\n",
       "11235      4  0.025619          acp\n",
       "11235      8  0.025619          acp\n",
       "4212       1  0.769126     adsorbed\n",
       "4212       2  0.066881     adsorbed\n",
       "4212       3  0.066881     adsorbed\n",
       "4212       4  0.033440     adsorbed\n",
       "4212       5  0.033440     adsorbed\n",
       "4212       6  0.033440     adsorbed\n",
       "5187       1  0.864174   adsorption\n",
       "5187       2  0.032610   adsorption\n",
       "5187       3  0.048916   adsorption\n",
       "5187       4  0.016305   adsorption\n",
       "5187       5  0.016305   adsorption\n",
       "5187       6  0.016305   adsorption\n",
       "18658      1  0.801798  aggradation\n",
       "18658      2  0.044544  aggradation\n",
       "...      ...       ...          ...\n",
       "2590       5  0.012643     wellbore\n",
       "2590       6  0.012643     wellbore\n",
       "2590       7  0.012643     wellbore\n",
       "2596       1  0.856272        wells\n",
       "2596       2  0.045067        wells\n",
       "2596       3  0.045067        wells\n",
       "2596       4  0.030045        wells\n",
       "2596       5  0.015022        wells\n",
       "2596       7  0.015022        wells\n",
       "2599       1  0.845452  wettability\n",
       "2599       2  0.057644  wettability\n",
       "2599       3  0.019215  wettability\n",
       "2599       4  0.038430  wettability\n",
       "2599       5  0.019215  wettability\n",
       "2599       6  0.019215  wettability\n",
       "2599       7  0.019215  wettability\n",
       "2599       8  0.019215  wettability\n",
       "2604       1  0.785792        width\n",
       "2604       2  0.058207        width\n",
       "2604       3  0.087310        width\n",
       "2604       4  0.029103        width\n",
       "21304      1  0.785431          xwl\n",
       "21304      2  0.043635          xwl\n",
       "21304      3  0.043635          xwl\n",
       "21304      4  0.043635          xwl\n",
       "21304      5  0.043635          xwl\n",
       "10737      1  0.860588          ypl\n",
       "10737      2  0.023259          ypl\n",
       "10737      3  0.023259          ypl\n",
       "10737      4  0.046518          ypl\n",
       "\n",
       "[1678 rows x 3 columns], R=30, lambda_step=0.01, plot_opts={'xlab': 'PC1', 'ylab': 'PC2'}, topic_order=[8, 4, 6, 9, 5, 3, 1, 2, 7])"
      ]
     },
     "execution_count": 18,
     "metadata": {},
     "output_type": "execute_result"
    }
   ],
   "source": [
    "# Visualize the topics with simple lda model\n",
    "pyLDAvis.enable_notebook()\n",
    "vis = pyLDAvis.gensim.prepare(lda_model, corpus, dictionary)\n",
    "vis"
   ]
  },
  {
   "cell_type": "markdown",
   "metadata": {},
   "source": [
    "# Visualizing best lda_mallet model\n",
    "* Code taken from: https://github.com/jerielizabeth/Gospel-of-Health-Notebooks/blob/master/blogPosts/pyLDAvis_and_Mallet.ipynb"
   ]
  },
  {
   "cell_type": "code",
   "execution_count": 19,
   "metadata": {
    "ExecuteTime": {
     "end_time": "2018-08-27T03:59:52.586859Z",
     "start_time": "2018-08-27T03:59:52.528503Z"
    }
   },
   "outputs": [],
   "source": [
    "import gzip\n",
    "import os\n",
    "import pandas as pd\n",
    "\n",
    "dataDir = \"/Users/Neha/Documents/GitHub/capstone\"\n",
    "\n",
    "def extract_params(statefile):\n",
    "    \"\"\"Extract the alpha and beta values from the statefile.\n",
    "\n",
    "    Args:\n",
    "        statefile (str): Path to statefile produced by MALLET.\n",
    "    Returns:\n",
    "        tuple: alpha (list), beta    \n",
    "    \"\"\"\n",
    "    with gzip.open(statefile, 'r') as state:\n",
    "        params = [x.decode('utf8').strip() for x in state.readlines()[1:3]]\n",
    "    return (list(params[0].split(\":\")[1].split(\" \")), float(params[1].split(\":\")[1]))\n",
    "\n",
    "\n",
    "def state_to_df(statefile):\n",
    "    \"\"\"Transform state file into pandas dataframe.\n",
    "    The MALLET statefile is tab-separated, and the first two rows contain the alpha and beta hypterparamters.\n",
    "    \n",
    "    Args:\n",
    "        statefile (str): Path to statefile produced by MALLET.\n",
    "    Returns:\n",
    "        datframe: topic assignment for each token in each document of the model\n",
    "    \"\"\"\n",
    "    return pd.read_csv(statefile,\n",
    "                       compression='gzip',\n",
    "                       sep=' ',\n",
    "                       skiprows=[1,2]\n",
    "                       )\n"
   ]
  },
  {
   "cell_type": "code",
   "execution_count": 20,
   "metadata": {
    "ExecuteTime": {
     "end_time": "2018-08-27T03:59:53.337685Z",
     "start_time": "2018-08-27T03:59:52.589269Z"
    },
    "scrolled": true
   },
   "outputs": [],
   "source": [
    "params = extract_params(os.path.join(dataDir, 'state.mallet.gz'))"
   ]
  },
  {
   "cell_type": "code",
   "execution_count": 21,
   "metadata": {
    "ExecuteTime": {
     "end_time": "2018-08-27T03:59:53.396599Z",
     "start_time": "2018-08-27T03:59:53.339735Z"
    }
   },
   "outputs": [
    {
     "name": "stdout",
     "output_type": "stream",
     "text": [
      "[5.555555555555555, 5.555555555555555, 5.555555555555555, 5.555555555555555, 5.555555555555555, 5.555555555555555, 5.555555555555555, 5.555555555555555, 5.555555555555555], 0.01\n"
     ]
    }
   ],
   "source": [
    "alpha = [float(x) for x in params[0][1:]]\n",
    "beta = params[1]\n",
    "print(\"{}, {}\".format(alpha, beta))"
   ]
  },
  {
   "cell_type": "code",
   "execution_count": 22,
   "metadata": {
    "ExecuteTime": {
     "end_time": "2018-08-27T03:59:53.869125Z",
     "start_time": "2018-08-27T03:59:53.398813Z"
    }
   },
   "outputs": [],
   "source": [
    "df = state_to_df(os.path.join(dataDir, 'state.mallet.gz'))"
   ]
  },
  {
   "cell_type": "code",
   "execution_count": 23,
   "metadata": {
    "ExecuteTime": {
     "end_time": "2018-08-27T03:59:54.018573Z",
     "start_time": "2018-08-27T03:59:53.871005Z"
    }
   },
   "outputs": [
    {
     "data": {
      "text/html": [
       "<div>\n",
       "<style scoped>\n",
       "    .dataframe tbody tr th:only-of-type {\n",
       "        vertical-align: middle;\n",
       "    }\n",
       "\n",
       "    .dataframe tbody tr th {\n",
       "        vertical-align: top;\n",
       "    }\n",
       "\n",
       "    .dataframe thead th {\n",
       "        text-align: right;\n",
       "    }\n",
       "</style>\n",
       "<table border=\"1\" class=\"dataframe\">\n",
       "  <thead>\n",
       "    <tr style=\"text-align: right;\">\n",
       "      <th></th>\n",
       "      <th>#doc</th>\n",
       "      <th>source</th>\n",
       "      <th>pos</th>\n",
       "      <th>typeindex</th>\n",
       "      <th>type</th>\n",
       "      <th>topic</th>\n",
       "    </tr>\n",
       "  </thead>\n",
       "  <tbody>\n",
       "    <tr>\n",
       "      <th>0</th>\n",
       "      <td>0</td>\n",
       "      <td>NaN</td>\n",
       "      <td>0</td>\n",
       "      <td>0</td>\n",
       "      <td>-based</td>\n",
       "      <td>4</td>\n",
       "    </tr>\n",
       "    <tr>\n",
       "      <th>1</th>\n",
       "      <td>0</td>\n",
       "      <td>NaN</td>\n",
       "      <td>1</td>\n",
       "      <td>1</td>\n",
       "      <td>-scan</td>\n",
       "      <td>4</td>\n",
       "    </tr>\n",
       "    <tr>\n",
       "      <th>2</th>\n",
       "      <td>0</td>\n",
       "      <td>NaN</td>\n",
       "      <td>2</td>\n",
       "      <td>2</td>\n",
       "      <td>ability</td>\n",
       "      <td>4</td>\n",
       "    </tr>\n",
       "    <tr>\n",
       "      <th>3</th>\n",
       "      <td>0</td>\n",
       "      <td>NaN</td>\n",
       "      <td>3</td>\n",
       "      <td>2</td>\n",
       "      <td>ability</td>\n",
       "      <td>4</td>\n",
       "    </tr>\n",
       "    <tr>\n",
       "      <th>4</th>\n",
       "      <td>0</td>\n",
       "      <td>NaN</td>\n",
       "      <td>4</td>\n",
       "      <td>2</td>\n",
       "      <td>ability</td>\n",
       "      <td>4</td>\n",
       "    </tr>\n",
       "    <tr>\n",
       "      <th>5</th>\n",
       "      <td>0</td>\n",
       "      <td>NaN</td>\n",
       "      <td>5</td>\n",
       "      <td>3</td>\n",
       "      <td>absence</td>\n",
       "      <td>4</td>\n",
       "    </tr>\n",
       "    <tr>\n",
       "      <th>6</th>\n",
       "      <td>0</td>\n",
       "      <td>NaN</td>\n",
       "      <td>6</td>\n",
       "      <td>4</td>\n",
       "      <td>abstract</td>\n",
       "      <td>3</td>\n",
       "    </tr>\n",
       "    <tr>\n",
       "      <th>7</th>\n",
       "      <td>0</td>\n",
       "      <td>NaN</td>\n",
       "      <td>7</td>\n",
       "      <td>4</td>\n",
       "      <td>abstract</td>\n",
       "      <td>3</td>\n",
       "    </tr>\n",
       "    <tr>\n",
       "      <th>8</th>\n",
       "      <td>0</td>\n",
       "      <td>NaN</td>\n",
       "      <td>8</td>\n",
       "      <td>4</td>\n",
       "      <td>abstract</td>\n",
       "      <td>3</td>\n",
       "    </tr>\n",
       "    <tr>\n",
       "      <th>9</th>\n",
       "      <td>0</td>\n",
       "      <td>NaN</td>\n",
       "      <td>9</td>\n",
       "      <td>4</td>\n",
       "      <td>abstract</td>\n",
       "      <td>8</td>\n",
       "    </tr>\n",
       "  </tbody>\n",
       "</table>\n",
       "</div>"
      ],
      "text/plain": [
       "   #doc  source  pos  typeindex      type  topic\n",
       "0     0     NaN    0          0    -based      4\n",
       "1     0     NaN    1          1     -scan      4\n",
       "2     0     NaN    2          2   ability      4\n",
       "3     0     NaN    3          2   ability      4\n",
       "4     0     NaN    4          2   ability      4\n",
       "5     0     NaN    5          3   absence      4\n",
       "6     0     NaN    6          4  abstract      3\n",
       "7     0     NaN    7          4  abstract      3\n",
       "8     0     NaN    8          4  abstract      3\n",
       "9     0     NaN    9          4  abstract      8"
      ]
     },
     "execution_count": 23,
     "metadata": {},
     "output_type": "execute_result"
    }
   ],
   "source": [
    "df['type'] = df.type.astype(str)\n",
    "df[:10]"
   ]
  },
  {
   "cell_type": "code",
   "execution_count": 24,
   "metadata": {
    "ExecuteTime": {
     "end_time": "2018-08-27T03:59:54.116636Z",
     "start_time": "2018-08-27T03:59:54.020608Z"
    }
   },
   "outputs": [
    {
     "data": {
      "text/html": [
       "<div>\n",
       "<style scoped>\n",
       "    .dataframe tbody tr th:only-of-type {\n",
       "        vertical-align: middle;\n",
       "    }\n",
       "\n",
       "    .dataframe tbody tr th {\n",
       "        vertical-align: top;\n",
       "    }\n",
       "\n",
       "    .dataframe thead th {\n",
       "        text-align: right;\n",
       "    }\n",
       "</style>\n",
       "<table border=\"1\" class=\"dataframe\">\n",
       "  <thead>\n",
       "    <tr style=\"text-align: right;\">\n",
       "      <th></th>\n",
       "      <th>#doc</th>\n",
       "      <th>doc_length</th>\n",
       "    </tr>\n",
       "  </thead>\n",
       "  <tbody>\n",
       "    <tr>\n",
       "      <th>0</th>\n",
       "      <td>0</td>\n",
       "      <td>14767</td>\n",
       "    </tr>\n",
       "    <tr>\n",
       "      <th>1</th>\n",
       "      <td>1</td>\n",
       "      <td>6476</td>\n",
       "    </tr>\n",
       "    <tr>\n",
       "      <th>2</th>\n",
       "      <td>2</td>\n",
       "      <td>2975</td>\n",
       "    </tr>\n",
       "    <tr>\n",
       "      <th>3</th>\n",
       "      <td>3</td>\n",
       "      <td>9746</td>\n",
       "    </tr>\n",
       "    <tr>\n",
       "      <th>4</th>\n",
       "      <td>4</td>\n",
       "      <td>1732</td>\n",
       "    </tr>\n",
       "    <tr>\n",
       "      <th>5</th>\n",
       "      <td>5</td>\n",
       "      <td>10177</td>\n",
       "    </tr>\n",
       "    <tr>\n",
       "      <th>6</th>\n",
       "      <td>6</td>\n",
       "      <td>858</td>\n",
       "    </tr>\n",
       "    <tr>\n",
       "      <th>7</th>\n",
       "      <td>7</td>\n",
       "      <td>10449</td>\n",
       "    </tr>\n",
       "    <tr>\n",
       "      <th>8</th>\n",
       "      <td>8</td>\n",
       "      <td>7576</td>\n",
       "    </tr>\n",
       "    <tr>\n",
       "      <th>9</th>\n",
       "      <td>9</td>\n",
       "      <td>11286</td>\n",
       "    </tr>\n",
       "  </tbody>\n",
       "</table>\n",
       "</div>"
      ],
      "text/plain": [
       "   #doc  doc_length\n",
       "0     0       14767\n",
       "1     1        6476\n",
       "2     2        2975\n",
       "3     3        9746\n",
       "4     4        1732\n",
       "5     5       10177\n",
       "6     6         858\n",
       "7     7       10449\n",
       "8     8        7576\n",
       "9     9       11286"
      ]
     },
     "execution_count": 24,
     "metadata": {},
     "output_type": "execute_result"
    }
   ],
   "source": [
    "# Get document lengths from statefile\n",
    "docs = df.groupby('#doc')['type'].count().reset_index(name ='doc_length')\n",
    "\n",
    "docs[:10]"
   ]
  },
  {
   "cell_type": "code",
   "execution_count": 25,
   "metadata": {
    "ExecuteTime": {
     "end_time": "2018-08-27T03:59:54.286233Z",
     "start_time": "2018-08-27T03:59:54.119398Z"
    }
   },
   "outputs": [
    {
     "data": {
      "text/html": [
       "<div>\n",
       "<style scoped>\n",
       "    .dataframe tbody tr th:only-of-type {\n",
       "        vertical-align: middle;\n",
       "    }\n",
       "\n",
       "    .dataframe tbody tr th {\n",
       "        vertical-align: top;\n",
       "    }\n",
       "\n",
       "    .dataframe thead th {\n",
       "        text-align: right;\n",
       "    }\n",
       "</style>\n",
       "<table border=\"1\" class=\"dataframe\">\n",
       "  <thead>\n",
       "    <tr style=\"text-align: right;\">\n",
       "      <th></th>\n",
       "      <th>type</th>\n",
       "      <th>term_freq</th>\n",
       "    </tr>\n",
       "  </thead>\n",
       "  <tbody>\n",
       "    <tr>\n",
       "      <th>18404</th>\n",
       "      <td>-acetamide</td>\n",
       "      <td>1</td>\n",
       "    </tr>\n",
       "    <tr>\n",
       "      <th>11750</th>\n",
       "      <td>-acetate-hpam</td>\n",
       "      <td>2</td>\n",
       "    </tr>\n",
       "    <tr>\n",
       "      <th>4669</th>\n",
       "      <td>-based</td>\n",
       "      <td>11</td>\n",
       "    </tr>\n",
       "    <tr>\n",
       "      <th>21575</th>\n",
       "      <td>-benzoic</td>\n",
       "      <td>1</td>\n",
       "    </tr>\n",
       "    <tr>\n",
       "      <th>18822</th>\n",
       "      <td>-both</td>\n",
       "      <td>1</td>\n",
       "    </tr>\n",
       "    <tr>\n",
       "      <th>8814</th>\n",
       "      <td>-buckling</td>\n",
       "      <td>3</td>\n",
       "    </tr>\n",
       "    <tr>\n",
       "      <th>19467</th>\n",
       "      <td>-cost-effective</td>\n",
       "      <td>1</td>\n",
       "    </tr>\n",
       "    <tr>\n",
       "      <th>20728</th>\n",
       "      <td>-cpmg</td>\n",
       "      <td>1</td>\n",
       "    </tr>\n",
       "    <tr>\n",
       "      <th>19802</th>\n",
       "      <td>-density</td>\n",
       "      <td>1</td>\n",
       "    </tr>\n",
       "    <tr>\n",
       "      <th>11074</th>\n",
       "      <td>-derived</td>\n",
       "      <td>2</td>\n",
       "    </tr>\n",
       "  </tbody>\n",
       "</table>\n",
       "</div>"
      ],
      "text/plain": [
       "                  type  term_freq\n",
       "18404       -acetamide          1\n",
       "11750    -acetate-hpam          2\n",
       "4669            -based         11\n",
       "21575         -benzoic          1\n",
       "18822            -both          1\n",
       "8814         -buckling          3\n",
       "19467  -cost-effective          1\n",
       "20728            -cpmg          1\n",
       "19802         -density          1\n",
       "11074         -derived          2"
      ]
     },
     "execution_count": 25,
     "metadata": {},
     "output_type": "execute_result"
    }
   ],
   "source": [
    "# Get vocab and term frequencies from statefile\n",
    "vocab = df['type'].value_counts().reset_index()\n",
    "vocab.columns = ['type', 'term_freq']\n",
    "vocab = vocab.sort_values(by='type', ascending=True)\n",
    "\n",
    "vocab[:10]"
   ]
  },
  {
   "cell_type": "code",
   "execution_count": 26,
   "metadata": {
    "ExecuteTime": {
     "end_time": "2018-08-27T03:59:54.346004Z",
     "start_time": "2018-08-27T03:59:54.288650Z"
    }
   },
   "outputs": [],
   "source": [
    "#  Topic-term matrix from state file\n",
    "# https://ldavis.cpsievert.me/reviews/reviews.html\n",
    "\n",
    "import sklearn.preprocessing\n",
    "\n",
    "def pivot_and_smooth(df, smooth_value, rows_variable, cols_variable, values_variable):\n",
    "    \"\"\"\n",
    "    Turns the pandas dataframe into a data matrix.\n",
    "    Args:\n",
    "        df (dataframe): aggregated dataframe \n",
    "        smooth_value (float): value to add to the matrix to account for the priors\n",
    "        rows_variable (str): name of dataframe column to use as the rows in the matrix\n",
    "        cols_variable (str): name of dataframe column to use as the columns in the matrix\n",
    "        values_variable(str): name of the dataframe column to use as the values in the matrix\n",
    "    Returns:\n",
    "        dataframe: pandas matrix that has been normalized on the rows.\n",
    "    \"\"\"\n",
    "    matrix = df.pivot(index=rows_variable, columns=cols_variable, values=values_variable).fillna(value=0)\n",
    "    matrix = matrix.values + smooth_value\n",
    "    \n",
    "    normed = sklearn.preprocessing.normalize(matrix, norm='l1', axis=1)\n",
    "    \n",
    "    return pd.DataFrame(normed)"
   ]
  },
  {
   "cell_type": "code",
   "execution_count": 27,
   "metadata": {
    "ExecuteTime": {
     "end_time": "2018-08-27T03:59:54.538227Z",
     "start_time": "2018-08-27T03:59:54.348284Z"
    }
   },
   "outputs": [
    {
     "data": {
      "text/html": [
       "<div>\n",
       "<style scoped>\n",
       "    .dataframe tbody tr th:only-of-type {\n",
       "        vertical-align: middle;\n",
       "    }\n",
       "\n",
       "    .dataframe tbody tr th {\n",
       "        vertical-align: top;\n",
       "    }\n",
       "\n",
       "    .dataframe thead th {\n",
       "        text-align: right;\n",
       "    }\n",
       "</style>\n",
       "<table border=\"1\" class=\"dataframe\">\n",
       "  <thead>\n",
       "    <tr style=\"text-align: right;\">\n",
       "      <th></th>\n",
       "      <th>topic</th>\n",
       "      <th>type</th>\n",
       "      <th>token_count</th>\n",
       "    </tr>\n",
       "  </thead>\n",
       "  <tbody>\n",
       "    <tr>\n",
       "      <th>29142</th>\n",
       "      <td>8</td>\n",
       "      <td>-acetamide</td>\n",
       "      <td>1</td>\n",
       "    </tr>\n",
       "    <tr>\n",
       "      <th>21523</th>\n",
       "      <td>6</td>\n",
       "      <td>-acetate-hpam</td>\n",
       "      <td>1</td>\n",
       "    </tr>\n",
       "    <tr>\n",
       "      <th>3978</th>\n",
       "      <td>1</td>\n",
       "      <td>-acetate-hpam</td>\n",
       "      <td>1</td>\n",
       "    </tr>\n",
       "    <tr>\n",
       "      <th>11756</th>\n",
       "      <td>3</td>\n",
       "      <td>-based</td>\n",
       "      <td>2</td>\n",
       "    </tr>\n",
       "    <tr>\n",
       "      <th>15696</th>\n",
       "      <td>4</td>\n",
       "      <td>-based</td>\n",
       "      <td>9</td>\n",
       "    </tr>\n",
       "    <tr>\n",
       "      <th>25736</th>\n",
       "      <td>7</td>\n",
       "      <td>-benzoic</td>\n",
       "      <td>1</td>\n",
       "    </tr>\n",
       "    <tr>\n",
       "      <th>7714</th>\n",
       "      <td>2</td>\n",
       "      <td>-both</td>\n",
       "      <td>1</td>\n",
       "    </tr>\n",
       "    <tr>\n",
       "      <th>0</th>\n",
       "      <td>0</td>\n",
       "      <td>-buckling</td>\n",
       "      <td>3</td>\n",
       "    </tr>\n",
       "    <tr>\n",
       "      <th>19005</th>\n",
       "      <td>5</td>\n",
       "      <td>-cost-effective</td>\n",
       "      <td>1</td>\n",
       "    </tr>\n",
       "    <tr>\n",
       "      <th>15697</th>\n",
       "      <td>4</td>\n",
       "      <td>-cpmg</td>\n",
       "      <td>1</td>\n",
       "    </tr>\n",
       "  </tbody>\n",
       "</table>\n",
       "</div>"
      ],
      "text/plain": [
       "       topic             type  token_count\n",
       "29142      8       -acetamide            1\n",
       "21523      6    -acetate-hpam            1\n",
       "3978       1    -acetate-hpam            1\n",
       "11756      3           -based            2\n",
       "15696      4           -based            9\n",
       "25736      7         -benzoic            1\n",
       "7714       2            -both            1\n",
       "0          0        -buckling            3\n",
       "19005      5  -cost-effective            1\n",
       "15697      4            -cpmg            1"
      ]
     },
     "execution_count": 27,
     "metadata": {},
     "output_type": "execute_result"
    }
   ],
   "source": [
    "phi_df = df.groupby(['topic', 'type'])['type'].count().reset_index(name ='token_count')\n",
    "phi_df = phi_df.sort_values(by='type', ascending=True)\n",
    "\n",
    "phi_df[:10]"
   ]
  },
  {
   "cell_type": "code",
   "execution_count": 28,
   "metadata": {
    "ExecuteTime": {
     "end_time": "2018-08-27T03:59:54.631289Z",
     "start_time": "2018-08-27T03:59:54.540280Z"
    }
   },
   "outputs": [],
   "source": [
    "phi = pivot_and_smooth(phi_df, beta, 'topic', 'type', 'token_count')"
   ]
  },
  {
   "cell_type": "code",
   "execution_count": 29,
   "metadata": {
    "ExecuteTime": {
     "end_time": "2018-08-27T03:59:54.720097Z",
     "start_time": "2018-08-27T03:59:54.633460Z"
    }
   },
   "outputs": [
    {
     "data": {
      "text/html": [
       "<div>\n",
       "<style scoped>\n",
       "    .dataframe tbody tr th:only-of-type {\n",
       "        vertical-align: middle;\n",
       "    }\n",
       "\n",
       "    .dataframe tbody tr th {\n",
       "        vertical-align: top;\n",
       "    }\n",
       "\n",
       "    .dataframe thead th {\n",
       "        text-align: right;\n",
       "    }\n",
       "</style>\n",
       "<table border=\"1\" class=\"dataframe\">\n",
       "  <thead>\n",
       "    <tr style=\"text-align: right;\">\n",
       "      <th></th>\n",
       "      <th>#doc</th>\n",
       "      <th>topic</th>\n",
       "      <th>topic_count</th>\n",
       "    </tr>\n",
       "  </thead>\n",
       "  <tbody>\n",
       "    <tr>\n",
       "      <th>0</th>\n",
       "      <td>0</td>\n",
       "      <td>0</td>\n",
       "      <td>313</td>\n",
       "    </tr>\n",
       "    <tr>\n",
       "      <th>1</th>\n",
       "      <td>0</td>\n",
       "      <td>1</td>\n",
       "      <td>97</td>\n",
       "    </tr>\n",
       "    <tr>\n",
       "      <th>2</th>\n",
       "      <td>0</td>\n",
       "      <td>2</td>\n",
       "      <td>52</td>\n",
       "    </tr>\n",
       "    <tr>\n",
       "      <th>3</th>\n",
       "      <td>0</td>\n",
       "      <td>3</td>\n",
       "      <td>4559</td>\n",
       "    </tr>\n",
       "    <tr>\n",
       "      <th>4</th>\n",
       "      <td>0</td>\n",
       "      <td>4</td>\n",
       "      <td>8350</td>\n",
       "    </tr>\n",
       "    <tr>\n",
       "      <th>5</th>\n",
       "      <td>0</td>\n",
       "      <td>5</td>\n",
       "      <td>483</td>\n",
       "    </tr>\n",
       "    <tr>\n",
       "      <th>6</th>\n",
       "      <td>0</td>\n",
       "      <td>6</td>\n",
       "      <td>412</td>\n",
       "    </tr>\n",
       "    <tr>\n",
       "      <th>7</th>\n",
       "      <td>0</td>\n",
       "      <td>7</td>\n",
       "      <td>42</td>\n",
       "    </tr>\n",
       "    <tr>\n",
       "      <th>8</th>\n",
       "      <td>0</td>\n",
       "      <td>8</td>\n",
       "      <td>459</td>\n",
       "    </tr>\n",
       "    <tr>\n",
       "      <th>9</th>\n",
       "      <td>1</td>\n",
       "      <td>0</td>\n",
       "      <td>1210</td>\n",
       "    </tr>\n",
       "  </tbody>\n",
       "</table>\n",
       "</div>"
      ],
      "text/plain": [
       "   #doc  topic  topic_count\n",
       "0     0      0          313\n",
       "1     0      1           97\n",
       "2     0      2           52\n",
       "3     0      3         4559\n",
       "4     0      4         8350\n",
       "5     0      5          483\n",
       "6     0      6          412\n",
       "7     0      7           42\n",
       "8     0      8          459\n",
       "9     1      0         1210"
      ]
     },
     "execution_count": 29,
     "metadata": {},
     "output_type": "execute_result"
    }
   ],
   "source": [
    "theta_df = df.groupby(['#doc', 'topic'])['topic'].count().reset_index(name ='topic_count')\n",
    "\n",
    "theta_df[:10]"
   ]
  },
  {
   "cell_type": "code",
   "execution_count": 30,
   "metadata": {
    "ExecuteTime": {
     "end_time": "2018-08-27T03:59:54.774240Z",
     "start_time": "2018-08-27T03:59:54.722263Z"
    }
   },
   "outputs": [],
   "source": [
    "theta = pivot_and_smooth(theta_df, alpha , '#doc', 'topic', 'topic_count')"
   ]
  },
  {
   "cell_type": "code",
   "execution_count": 31,
   "metadata": {
    "ExecuteTime": {
     "end_time": "2018-08-27T03:59:54.830062Z",
     "start_time": "2018-08-27T03:59:54.776405Z"
    }
   },
   "outputs": [],
   "source": [
    "import pyLDAvis\n",
    "\n",
    "data = {'topic_term_dists': phi, \n",
    "        'doc_topic_dists': theta,\n",
    "        'doc_lengths': list(docs['doc_length']),\n",
    "        'vocab': list(vocab['type']),\n",
    "        'term_frequency': list(vocab['term_freq'])\n",
    "       }"
   ]
  },
  {
   "cell_type": "code",
   "execution_count": 32,
   "metadata": {
    "ExecuteTime": {
     "end_time": "2018-08-27T03:59:55.928979Z",
     "start_time": "2018-08-27T03:59:54.832249Z"
    }
   },
   "outputs": [],
   "source": [
    "vis_data = pyLDAvis.prepare(**data)"
   ]
  },
  {
   "cell_type": "code",
   "execution_count": 33,
   "metadata": {
    "ExecuteTime": {
     "end_time": "2018-08-27T03:59:56.002955Z",
     "start_time": "2018-08-27T03:59:55.931120Z"
    }
   },
   "outputs": [
    {
     "data": {
      "text/html": [
       "\n",
       "<link rel=\"stylesheet\" type=\"text/css\" href=\"https://cdn.rawgit.com/bmabey/pyLDAvis/files/ldavis.v1.0.0.css\">\n",
       "\n",
       "\n",
       "<div id=\"ldavis_el933331126616177841278286461\"></div>\n",
       "<script type=\"text/javascript\">\n",
       "\n",
       "var ldavis_el933331126616177841278286461_data = {\"mdsDat\": {\"Freq\": [16.08576842065424, 15.362212043273535, 14.737748918666357, 10.74484722667978, 10.627939527462624, 9.75968424830068, 8.042440038039562, 7.888396897847462, 6.750962679075753], \"cluster\": [1, 1, 1, 1, 1, 1, 1, 1, 1], \"topics\": [1, 2, 3, 4, 5, 6, 7, 8, 9], \"x\": [-0.05505337810021139, -0.13355475382953227, 0.05372148097861801, -0.09768802808231872, -0.06537798884390972, 0.1437857230594496, 0.2968456985749145, -0.06530117790260775, -0.07737757585440214], \"y\": [-0.0185060485698925, 0.08266595523903252, -0.07788578701384634, 0.26625238549610364, -0.06126904883625232, -0.0257025898927163, 0.07692858733240358, -0.14021255836207502, -0.10227089539275719]}, \"tinfo\": {\"Category\": [\"Default\", \"Default\", \"Default\", \"Default\", \"Default\", \"Default\", \"Default\", \"Default\", \"Default\", \"Default\", \"Default\", \"Default\", \"Default\", \"Default\", \"Default\", \"Default\", \"Default\", \"Default\", \"Default\", \"Default\", \"Default\", \"Default\", \"Default\", \"Default\", \"Default\", \"Default\", \"Default\", \"Default\", \"Default\", \"Default\", \"Topic1\", \"Topic1\", \"Topic1\", \"Topic1\", \"Topic1\", \"Topic1\", \"Topic1\", \"Topic1\", \"Topic1\", \"Topic1\", \"Topic1\", \"Topic1\", \"Topic1\", \"Topic1\", \"Topic1\", \"Topic1\", \"Topic1\", \"Topic1\", \"Topic1\", \"Topic1\", \"Topic1\", \"Topic1\", \"Topic1\", \"Topic1\", \"Topic1\", \"Topic1\", \"Topic1\", \"Topic1\", \"Topic1\", \"Topic1\", \"Topic1\", \"Topic1\", \"Topic1\", \"Topic1\", \"Topic1\", \"Topic1\", \"Topic1\", \"Topic1\", \"Topic1\", \"Topic1\", \"Topic1\", \"Topic1\", \"Topic1\", \"Topic1\", \"Topic1\", \"Topic1\", \"Topic1\", \"Topic1\", \"Topic1\", \"Topic1\", \"Topic1\", \"Topic1\", \"Topic1\", \"Topic1\", \"Topic1\", \"Topic1\", \"Topic1\", \"Topic1\", \"Topic1\", \"Topic1\", \"Topic1\", \"Topic1\", \"Topic1\", \"Topic1\", \"Topic1\", \"Topic1\", \"Topic1\", \"Topic1\", \"Topic1\", \"Topic1\", \"Topic1\", \"Topic1\", \"Topic1\", \"Topic1\", \"Topic2\", \"Topic2\", \"Topic2\", \"Topic2\", \"Topic2\", \"Topic2\", \"Topic2\", \"Topic2\", \"Topic2\", \"Topic2\", \"Topic2\", \"Topic2\", \"Topic2\", \"Topic2\", \"Topic2\", \"Topic2\", \"Topic2\", \"Topic2\", \"Topic2\", \"Topic2\", \"Topic2\", \"Topic2\", \"Topic2\", \"Topic2\", \"Topic2\", \"Topic2\", \"Topic2\", \"Topic2\", \"Topic2\", \"Topic2\", \"Topic2\", \"Topic2\", \"Topic2\", \"Topic2\", \"Topic2\", \"Topic2\", \"Topic2\", \"Topic2\", \"Topic2\", \"Topic2\", \"Topic2\", \"Topic2\", \"Topic2\", \"Topic2\", \"Topic2\", \"Topic2\", \"Topic2\", \"Topic2\", \"Topic2\", \"Topic2\", \"Topic2\", \"Topic2\", \"Topic2\", \"Topic2\", \"Topic2\", \"Topic2\", \"Topic2\", \"Topic2\", \"Topic2\", \"Topic2\", \"Topic2\", \"Topic2\", \"Topic2\", \"Topic2\", \"Topic2\", \"Topic2\", \"Topic2\", \"Topic2\", \"Topic2\", \"Topic2\", \"Topic2\", \"Topic2\", \"Topic2\", \"Topic2\", \"Topic2\", \"Topic2\", \"Topic2\", \"Topic2\", \"Topic2\", \"Topic2\", \"Topic3\", \"Topic3\", \"Topic3\", \"Topic3\", \"Topic3\", \"Topic3\", \"Topic3\", \"Topic3\", \"Topic3\", \"Topic3\", \"Topic3\", \"Topic3\", \"Topic3\", \"Topic3\", \"Topic3\", \"Topic3\", \"Topic3\", \"Topic3\", \"Topic3\", \"Topic3\", \"Topic3\", \"Topic3\", \"Topic3\", \"Topic3\", \"Topic3\", \"Topic3\", \"Topic3\", \"Topic3\", \"Topic3\", \"Topic3\", \"Topic3\", \"Topic3\", \"Topic3\", \"Topic3\", \"Topic3\", \"Topic3\", \"Topic3\", \"Topic3\", \"Topic3\", \"Topic3\", \"Topic3\", \"Topic3\", \"Topic3\", \"Topic3\", \"Topic3\", \"Topic3\", \"Topic3\", \"Topic3\", \"Topic3\", \"Topic3\", \"Topic3\", \"Topic3\", \"Topic3\", \"Topic3\", \"Topic3\", \"Topic3\", \"Topic3\", \"Topic3\", \"Topic3\", \"Topic3\", \"Topic3\", \"Topic3\", \"Topic3\", \"Topic3\", \"Topic3\", \"Topic3\", \"Topic3\", \"Topic3\", \"Topic3\", \"Topic4\", \"Topic4\", \"Topic4\", \"Topic4\", \"Topic4\", \"Topic4\", \"Topic4\", \"Topic4\", \"Topic4\", \"Topic4\", \"Topic4\", \"Topic4\", \"Topic4\", \"Topic4\", \"Topic4\", \"Topic4\", \"Topic4\", \"Topic4\", \"Topic4\", \"Topic4\", \"Topic4\", \"Topic4\", \"Topic4\", \"Topic4\", \"Topic4\", \"Topic4\", \"Topic4\", \"Topic4\", \"Topic4\", \"Topic4\", \"Topic4\", \"Topic4\", \"Topic4\", \"Topic4\", \"Topic4\", \"Topic4\", \"Topic4\", \"Topic4\", \"Topic4\", \"Topic4\", \"Topic4\", \"Topic4\", \"Topic4\", \"Topic4\", \"Topic4\", \"Topic4\", \"Topic4\", \"Topic4\", \"Topic4\", \"Topic4\", \"Topic4\", \"Topic4\", \"Topic4\", \"Topic4\", \"Topic4\", \"Topic4\", \"Topic4\", \"Topic4\", \"Topic4\", \"Topic4\", \"Topic4\", \"Topic4\", \"Topic4\", \"Topic4\", \"Topic4\", \"Topic4\", \"Topic4\", \"Topic4\", \"Topic4\", \"Topic4\", \"Topic5\", \"Topic5\", \"Topic5\", \"Topic5\", \"Topic5\", \"Topic5\", \"Topic5\", \"Topic5\", \"Topic5\", \"Topic5\", \"Topic5\", \"Topic5\", \"Topic5\", \"Topic5\", \"Topic5\", \"Topic5\", \"Topic5\", \"Topic5\", \"Topic5\", \"Topic5\", \"Topic5\", \"Topic5\", \"Topic5\", \"Topic5\", \"Topic5\", \"Topic5\", \"Topic5\", \"Topic5\", \"Topic5\", \"Topic5\", \"Topic5\", \"Topic5\", \"Topic5\", \"Topic5\", \"Topic5\", \"Topic5\", \"Topic5\", \"Topic5\", \"Topic5\", \"Topic5\", \"Topic5\", \"Topic5\", \"Topic5\", \"Topic5\", \"Topic5\", \"Topic5\", \"Topic5\", \"Topic5\", \"Topic5\", \"Topic5\", \"Topic5\", \"Topic5\", \"Topic5\", \"Topic5\", \"Topic5\", \"Topic5\", \"Topic5\", \"Topic5\", \"Topic5\", \"Topic5\", \"Topic5\", \"Topic5\", \"Topic5\", \"Topic5\", \"Topic5\", \"Topic5\", \"Topic6\", \"Topic6\", \"Topic6\", \"Topic6\", \"Topic6\", \"Topic6\", \"Topic6\", \"Topic6\", \"Topic6\", \"Topic6\", \"Topic6\", \"Topic6\", \"Topic6\", \"Topic6\", \"Topic6\", \"Topic6\", \"Topic6\", \"Topic6\", \"Topic6\", \"Topic6\", \"Topic6\", \"Topic6\", \"Topic6\", \"Topic6\", \"Topic6\", \"Topic6\", \"Topic6\", \"Topic6\", \"Topic6\", \"Topic6\", \"Topic6\", \"Topic6\", \"Topic6\", \"Topic6\", \"Topic6\", \"Topic6\", \"Topic6\", \"Topic6\", \"Topic6\", \"Topic6\", \"Topic6\", \"Topic6\", \"Topic6\", \"Topic6\", \"Topic6\", \"Topic6\", \"Topic6\", \"Topic6\", \"Topic6\", \"Topic6\", \"Topic6\", \"Topic6\", \"Topic6\", \"Topic6\", \"Topic6\", \"Topic6\", \"Topic6\", \"Topic6\", \"Topic6\", \"Topic6\", \"Topic6\", \"Topic6\", \"Topic6\", \"Topic6\", \"Topic6\", \"Topic6\", \"Topic6\", \"Topic6\", \"Topic6\", \"Topic7\", \"Topic7\", \"Topic7\", \"Topic7\", \"Topic7\", \"Topic7\", \"Topic7\", \"Topic7\", \"Topic7\", \"Topic7\", \"Topic7\", \"Topic7\", \"Topic7\", \"Topic7\", \"Topic7\", \"Topic7\", \"Topic7\", \"Topic7\", \"Topic7\", \"Topic7\", \"Topic7\", \"Topic7\", \"Topic7\", \"Topic7\", \"Topic7\", \"Topic7\", \"Topic7\", \"Topic7\", \"Topic7\", \"Topic7\", \"Topic7\", \"Topic7\", \"Topic7\", \"Topic7\", \"Topic7\", \"Topic7\", \"Topic7\", \"Topic7\", \"Topic7\", \"Topic7\", \"Topic7\", \"Topic7\", \"Topic7\", \"Topic7\", \"Topic7\", \"Topic7\", \"Topic7\", \"Topic7\", \"Topic7\", \"Topic7\", \"Topic7\", \"Topic7\", \"Topic7\", \"Topic7\", \"Topic7\", \"Topic7\", \"Topic7\", \"Topic7\", \"Topic7\", \"Topic7\", \"Topic7\", \"Topic7\", \"Topic7\", \"Topic7\", \"Topic7\", \"Topic7\", \"Topic7\", \"Topic7\", \"Topic7\", \"Topic7\", \"Topic7\", \"Topic7\", \"Topic7\", \"Topic7\", \"Topic7\", \"Topic7\", \"Topic7\", \"Topic7\", \"Topic8\", \"Topic8\", \"Topic8\", \"Topic8\", \"Topic8\", \"Topic8\", \"Topic8\", \"Topic8\", \"Topic8\", \"Topic8\", \"Topic8\", \"Topic8\", \"Topic8\", \"Topic8\", \"Topic8\", \"Topic8\", \"Topic8\", \"Topic8\", \"Topic8\", \"Topic8\", \"Topic8\", \"Topic8\", \"Topic8\", \"Topic8\", \"Topic8\", \"Topic8\", \"Topic8\", \"Topic8\", \"Topic8\", \"Topic8\", \"Topic8\", \"Topic8\", \"Topic8\", \"Topic8\", \"Topic8\", \"Topic8\", \"Topic8\", \"Topic8\", \"Topic8\", \"Topic8\", \"Topic8\", \"Topic8\", \"Topic8\", \"Topic8\", \"Topic8\", \"Topic8\", \"Topic8\", \"Topic8\", \"Topic8\", \"Topic8\", \"Topic8\", \"Topic8\", \"Topic8\", \"Topic8\", \"Topic8\", \"Topic8\", \"Topic8\", \"Topic8\", \"Topic8\", \"Topic8\", \"Topic8\", \"Topic8\", \"Topic8\", \"Topic8\", \"Topic8\", \"Topic8\", \"Topic8\", \"Topic9\", \"Topic9\", \"Topic9\", \"Topic9\", \"Topic9\", \"Topic9\", \"Topic9\", \"Topic9\", \"Topic9\", \"Topic9\", \"Topic9\", \"Topic9\", \"Topic9\", \"Topic9\", \"Topic9\", \"Topic9\", \"Topic9\", \"Topic9\", \"Topic9\", \"Topic9\", \"Topic9\", \"Topic9\", \"Topic9\", \"Topic9\", \"Topic9\", \"Topic9\", \"Topic9\", \"Topic9\", \"Topic9\", \"Topic9\", \"Topic9\", \"Topic9\", \"Topic9\", \"Topic9\", \"Topic9\", \"Topic9\", \"Topic9\", \"Topic9\", \"Topic9\", \"Topic9\", \"Topic9\", \"Topic9\", \"Topic9\", \"Topic9\", \"Topic9\", \"Topic9\", \"Topic9\", \"Topic9\", \"Topic9\", \"Topic9\", \"Topic9\", \"Topic9\", \"Topic9\", \"Topic9\", \"Topic9\", \"Topic9\", \"Topic9\", \"Topic9\", \"Topic9\", \"Topic9\", \"Topic9\", \"Topic9\", \"Topic9\", \"Topic9\", \"Topic9\", \"Topic9\", \"Topic9\", \"Topic9\", \"Topic9\", \"Topic9\", \"Topic9\", \"Topic9\", \"Topic9\", \"Topic9\", \"Topic9\", \"Topic9\"], \"Freq\": [3775.0, 4726.0, 1588.0, 4416.0, 4286.0, 1202.0, 1114.0, 1595.0, 3699.0, 3512.0, 1769.0, 2927.0, 1108.0, 819.0, 1408.0, 953.0, 2358.0, 893.0, 2199.0, 1196.0, 1428.0, 2857.0, 903.0, 4851.0, 1118.0, 1411.0, 586.0, 470.0, 1142.0, 1253.0, 199.0608180128842, 131.38352375321654, 111.47843720625549, 77.63979007642168, 72.6635184396814, 71.66826411233335, 64.70148382089697, 63.70622949354892, 57.73470352946058, 53.753686220068374, 53.753686220068374, 49.77266891067616, 47.78216025598005, 44.796397273935895, 43.801142946587845, 42.80588861923979, 42.80588861923979, 42.80588861923979, 41.81063429189173, 40.81537996454367, 39.82012563719562, 35.83910832780341, 33.8485996731073, 33.8485996731073, 30.862836691063148, 30.862836691063148, 29.86758236371509, 29.86758236371509, 29.86758236371509, 28.872328036367037, 28.872328036367037, 3571.9777333954385, 1508.8155128029227, 1031.093435675857, 129.39301509852044, 45.791651601283945, 55.74419487476448, 78.63504440376973, 346.35845846039615, 144.32183000874124, 200.05607234023225, 671.8066235032097, 240.86149976150247, 151.28861030017762, 135.36454106260877, 379.2018512628819, 1200.2866713250262, 504.6038965087366, 138.35030404465294, 548.395086912051, 358.30151038857275, 596.1672946247576, 395.1259205004507, 321.4771002766948, 363.27778202531306, 403.08795511923523, 256.7855689990713, 998.2500428733713, 1254.030405001821, 740.4791720902253, 1223.1775208540314, 729.5313744893967, 890.7625755197814, 964.4113957435374, 448.86965417724565, 747.4459523816618, 622.043907135807, 405.07846377393133, 521.5232200736535, 479.7225383250353, 352.32998442448445, 408.0642267559754, 373.23032529879356, 361.28727337061696, 158.98073838207384, 103.34095743465723, 97.37955233314828, 94.39884978239382, 76.51463447786705, 76.51463447786705, 68.56609434252182, 68.56609434252182, 67.57252682560366, 65.58539179176735, 62.604689241012885, 62.604689241012885, 59.62398669025843, 58.63041917334027, 56.64328413950396, 54.65614910566765, 54.65614910566765, 51.675446554913194, 51.675446554913194, 48.69474400415873, 46.70760897032242, 45.71404145340427, 44.720473936486115, 42.733338902649805, 41.73977138573165, 38.75906883497719, 38.75906883497719, 37.76550131805904, 37.76550131805904, 36.77193380114088, 241.4468422862806, 101.3538224008209, 271.25386779382524, 107.31522750232982, 318.9451086058967, 167.9228460343372, 75.5210669609489, 515.6714769556911, 355.7071067318683, 151.0321982467286, 836.593784920255, 169.90998106817352, 156.00003583131937, 287.1509480645157, 106.32165998541169, 912.1049162060347, 162.95500844974643, 235.48543718477168, 324.90651370740557, 159.97430589899196, 250.388949938544, 892.2335658676716, 166.92927851741908, 882.2978906984899, 1285.6863025672606, 212.63338429565414, 1445.6506727910835, 189.78133140653662, 496.79369413424627, 508.7165043372641, 479.9030463466376, 240.45327476936245, 341.79716149501417, 702.462170136304, 521.6328820572, 914.0920512398709, 435.19250808532064, 352.7264041811139, 652.7837942903964, 229.52403208326277, 442.14748070374776, 258.3374900738892, 276.221705378416, 301.06089330136984, 388.4948347901674, 326.89364874124186, 288.14451558143384, 306.02873088596067, 268.27316524307076, 284.17024551376124, 444.6609816168988, 433.6942526247554, 299.102578630268, 187.4413379829895, 184.4504118942231, 173.48368290207972, 167.50183072454692, 127.62281620766176, 114.66213648967408, 94.7226292312315, 90.73472777954298, 83.75590023908808, 79.76799878739956, 77.7740480615553, 63.816392980645496, 63.816392980645496, 63.816392980645496, 61.82244225480123, 60.825466891879095, 56.83756544019058, 52.849663988502066, 50.85571326265781, 47.86478717389142, 47.86478717389142, 41.88293499635864, 41.88293499635864, 39.88898427051439, 38.892008907592256, 36.898058181748, 34.90410745590374, 153.54417564363712, 303.0904800819565, 561.3070990787879, 456.62468597196437, 799.5842108171768, 420.73357290676773, 312.06325834825566, 121.640964030129, 193.42319016052227, 338.98159314715315, 1348.91763578727, 137.59256983688306, 118.65003794136261, 682.9380933552877, 280.16004673474754, 203.39294378974358, 2520.363687220772, 146.5653481031822, 376.86665693819407, 513.4522816585257, 321.03603661455486, 737.7717383160048, 810.5509398093202, 538.376665731579, 264.2084409279935, 469.585365689952, 362.9090018572843, 546.352468634956, 664.9925368226893, 750.7324180339924, 683.9350687182099, 299.102578630268, 367.89387867189487, 419.7365975438456, 434.6912279876775, 412.7577700033907, 353.9362235909851, 345.96042068760806, 332.9997409696204, 458.7400570169221, 301.5180249380654, 193.0547243267023, 191.06457202190668, 120.414165201661, 113.44863213487622, 104.49294676329578, 87.57665217253273, 87.57665217253273, 71.6554337341675, 71.6554337341675, 69.66528142937184, 68.67020527697403, 63.69482451498489, 62.69974836258705, 61.70467221018923, 58.719443752995744, 53.744062991006615, 50.758834533813136, 50.758834533813136, 49.76375838141531, 48.76868222901748, 44.78837761942617, 43.79330146702835, 40.808073009834864, 38.817920705039214, 38.817920705039214, 38.817920705039214, 37.822844552641385, 37.822844552641385, 240.81837964179797, 85.58649986773707, 436.8483816641699, 91.55695678212403, 88.57172832493055, 85.58649986773707, 294.55249187128067, 723.430313554744, 168.17782051675667, 136.3353836400262, 126.38462211604796, 125.38954596365014, 267.68543575653933, 125.38954596365014, 1695.6197144474204, 144.29599285920884, 110.46340367768273, 1003.0467123785331, 358.2373656247416, 297.53772032847417, 714.4746281831634, 754.2776742790765, 180.11873434553058, 247.78391270858282, 466.70066623610467, 435.85330551177196, 488.59234158885687, 163.20243975476754, 257.7346742325611, 155.2418305355849, 455.7548285597286, 186.08919125991756, 210.96609506986323, 368.18812714871984, 191.06457202190668, 175.14335358354145, 208.97594276506754, 198.03010508869147, 190.06949586950887, 187.08426741231537, 249.1144833307904, 198.2971614241854, 190.3258168113846, 177.37238181558337, 132.53356836857895, 127.55147798557849, 106.62669837697645, 106.62669837697645, 102.64102607057605, 99.65177184077577, 80.71982838537392, 75.73773800237342, 70.75564761937294, 69.75922954277284, 65.77355723637245, 65.77355723637245, 65.77355723637245, 62.78430300657214, 62.78430300657214, 61.78788492997205, 60.79146685337195, 59.79504877677185, 58.798630700171756, 57.802212623571656, 56.80579454697157, 55.80937647037147, 55.80937647037147, 54.81295839377137, 53.81654031717127, 51.82370416397107, 143.49416721118004, 1476.7015537021105, 367.688234446202, 355.7312175270008, 116.59087914297743, 158.4404383601815, 123.56580567917811, 155.45118413038122, 356.7276356036009, 668.6064935794315, 107.62311645357654, 273.02851716919275, 164.4189468197821, 414.51988404640656, 91.68042722797497, 835.0083123716477, 574.9431943790223, 238.15388448818933, 324.8422571523978, 256.08940986699105, 181.35805412198374, 405.55212135700566, 304.9138956203958, 280.0034437053934, 239.15030256478943, 425.4804828890077, 273.02851716919275, 200.2899975773856, 227.19328564558822, 294.94971485439487, 240.14672064138952, 260.0750821733915, 241.1431387179896, 194.31148911778502, 195.3079071943851, 190.3258168113846, 1114.7605619372027, 224.75808822635102, 220.76256645885002, 203.7815989469707, 167.8219030394615, 157.83309862070897, 127.86668536445131, 113.88235917819776, 106.89019608507098, 76.92378282881336, 73.9271415031876, 70.93050017756184, 62.93945664255979, 60.94169575880928, 52.95065222380724, 44.959608688805204, 44.959608688805204, 44.959608688805204, 43.960728246929946, 40.96408692130419, 40.96408692130419, 34.97080427005266, 30.975282502551647, 30.975282502551647, 29.976402060676392, 29.976402060676392, 28.977521618801134, 28.977521618801134, 26.979760735050625, 26.979760735050625, 94.90363078256794, 244.7356970638561, 677.2509283958414, 53.94953266568249, 164.82526171383574, 210.77376204009747, 53.94953266568249, 42.961847805054695, 273.70322987823846, 77.92266327068862, 131.86220713195235, 83.91594592194014, 503.44573150954704, 90.90810901506693, 360.6058283213857, 324.64613241387644, 208.77600115634695, 635.2979498370806, 284.6909147388663, 267.70994722698697, 123.87116359695032, 192.79391408634288, 314.6573279951239, 227.7547295519768, 315.6562084369992, 439.5173832295307, 314.6573279951239, 417.54201350827515, 410.54985041514834, 257.7211428082344, 213.77040336572324, 372.5923936238887, 283.69203429699104, 307.6651649019971, 286.6886756226168, 298.67524092511985, 224.75808822635102, 211.77264248197272, 217.76592513322424, 347.22087916528244, 163.16923982664676, 91.53833154350203, 76.61522565118022, 73.63060447271586, 68.65623584194192, 60.6972460327036, 56.71775112808446, 53.733129949620086, 50.74850877115573, 46.769013866536575, 40.79977150960785, 39.80489778345306, 37.815150331143485, 37.815150331143485, 37.815150331143485, 36.8202766049887, 36.8202766049887, 34.83052915267912, 33.83565542652433, 33.83565542652433, 32.84078170036955, 31.845907974214754, 31.845907974214754, 30.85103424805997, 29.856160521905185, 28.8612867957504, 27.86641306959561, 26.871539343440823, 26.871539343440823, 26.871539343440823, 26.871539343440823, 26.871539343440823, 94.52295272196639, 26.871539343440823, 48.758761318846155, 77.610099377335, 40.79977150960785, 128.34865941122916, 109.44605861428822, 95.51782644812118, 109.44605861428822, 157.19999746971803, 197.98982024206433, 165.15898727895635, 276.58484460829254, 251.71300145442285, 322.3490360114128, 370.1029748668426, 449.69287295922567, 147.25126020817015, 178.09234571896857, 142.2768915773962, 118.3999221496813, 255.69249635904202, 245.74375909749412, 142.2768915773962, 105.46656370966906, 196.99494651590956, 589.9700683470508, 170.13335590973026, 133.32302804200313, 140.28714412508663, 411.8876713653437, 125.36403823276483, 237.78476928825586, 192.0205778851356, 168.14360845742067, 151.2307551127893, 222.86166339593402, 180.08209317127816, 179.08721944512334, 190.030830432826, 165.15898727895635, 164.16411355280152, 163.16923982664676, 150.2358813866345, 150.2358813866345, 216.4600407540608, 160.6019591807351, 151.62476749930778, 131.67545265169144, 107.73627483455189, 106.7388090921711, 98.75908315312455, 84.79456275979315, 75.81737107836581, 72.82497385122335, 65.84271365455764, 58.86045345789193, 57.86298771551112, 51.87819326122622, 48.88579603408377, 46.890864549322146, 45.89339880694133, 41.90353583741806, 41.90353583741806, 36.916207125513985, 35.91874138313317, 34.92127564075235, 32.92634415599072, 30.931412671229094, 29.93394692884828, 29.93394692884828, 26.94154970170583, 25.944083959325017, 25.944083959325017, 24.9466182169442, 1133.1310580020304, 438.8949013049827, 90.77935721407803, 296.257300144526, 148.63237027216533, 454.8543531830757, 405.97853180641573, 41.90353583741806, 280.297848266433, 200.50058887596776, 1926.116323194779, 152.62223324168858, 591.5071598892475, 178.5563425435898, 137.66024710597637, 175.56394531644733, 123.69572671264496, 794.9901713349337, 222.44483520834567, 222.44483520834567, 592.5046256316283, 252.36880747977014, 315.20914924976154, 647.3652414625732, 482.7833939697386, 256.3586704492934, 385.0317512164187, 348.12551874832843, 165.5892878926392, 241.39668431358118, 223.4423009507265, 314.2116835073807, 197.5081916488253, 221.44736946596487, 212.47017778453753, 179.5538082859706, 180.5512740283514, 230.84692405407904, 85.94928331194035, 56.96975516351261, 48.97540257084288, 42.97963812634059, 41.980344052256875, 35.98457960775458, 34.98528553367087, 33.985991459587154, 33.985991459587154, 32.98669738550344, 31.987403311419726, 31.987403311419726, 31.987403311419726, 27.990227015084866, 27.990227015084866, 27.990227015084866, 26.99093294100115, 26.99093294100115, 24.99234479283372, 24.99234479283372, 23.993050718750006, 23.993050718750006, 23.993050718750006, 22.993756644666288, 22.993756644666288, 22.993756644666288, 21.994462570582574, 20.995168496498863, 20.995168496498863, 217.85610109099076, 90.94575368235893, 56.96975516351261, 93.94363590461008, 55.97046108942889, 92.94434183052637, 139.91116331246099, 59.96763738576375, 115.92810553445182, 91.94504775644265, 47.97610849675917, 181.88151442397702, 55.97046108942889, 84.94998923785664, 154.9005744237167, 146.906221831047, 444.69585590799414, 371.7473884998829, 374.7452707221341, 158.89775072005156, 94.94292997869378, 297.799627017688, 107.93375294178209, 63.964813682098615, 134.9146929420424, 403.7247988705618, 351.76150701820865, 121.92386997895412, 232.8455122022465, 246.8356292394185, 138.91186923837725, 120.92457590487038, 88.9471655341915, 205.8645722019862, 117.92669368261924, 212.85963072057217, 170.88927960905613, 202.866689979735, 189.87586701664674, 212.85963072057217, 149.9041040532981, 164.89351516455386, 195.871631461149, 138.91186923837725, 141.9097514606284, 122.92316405303782], \"Term\": [\"fracture\", \"flow\", \"drilling\", \"gas\", \"oil\", \"liquid\", \"acid\", \"fractures\", \"reservoir\", \"pressure\", \"recovery\", \"production\", \"hydraulic\", \"conductivity\", \"temperature\", \"unconventional\", \"reservoirs\", \"surfactant\", \"shale\", \"wellbore\", \"experimental\", \"data\", \"foam\", \"model\", \"pore\", \"rock\", \"pipe\", \"slug\", \"phase\", \"behavior\", \"geomechanics\", \"perforation\", \"mechanics\", \"clusters\", \"edfm\", \"desorption\", \"planar\", \"split\", \"huff-n-puff\", \"nonplanar\", \"dfn\", \"nanopore\", \"propagating\", \"non-darcy\", \"adjacent\", \"segments\", \"peridynamic\", \"crack\", \"fixed-stress\", \"creates\", \"pulse\", \"pre-existing\", \"planes\", \"hydraulic-fracture\", \"reactivation\", \"irregular\", \"seismicity\", \"slippage\", \"fracture-propagation\", \"far-field\", \"soft\", \"fracture\", \"fractures\", \"hydraulic\", \"geomechanical\", \"tip\", \"embedded\", \"shut-in\", \"geometry\", \"geometries\", \"networks\", \"fracturing\", \"induced\", \"deformation\", \"height\", \"propagation\", \"shale\", \"natural\", \"width\", \"stress\", \"coupled\", \"horizontal\", \"matrix\", \"multiple\", \"fractured\", \"complex\", \"network\", \"production\", \"flow\", \"fluid\", \"model\", \"reservoirs\", \"reservoir\", \"gas\", \"numerical\", \"pressure\", \"results\", \"behavior\", \"permeability\", \"study\", \"show\", \"injection\", \"wells\", \"method\", \"convergence\", \"unstructured\", \"streamline\", \"schemes\", \"ensemble\", \"solver\", \"crm\", \"fine-scale\", \"newton\", \"streamlines\", \"benchmark\", \"marching\", \"adaptive\", \"proxy\", \"upscaled\", \"computing\", \"relies\", \"iteration\", \"fmm\", \"geometric\", \"sensitivities\", \"flight\", \"connections\", \"fluxes\", \"parameterization\", \"physically\", \"reduced-order\", \"utilize\", \"asymptotic\", \"streamline-based\", \"nonlinear\", \"implicit\", \"grid\", \"cells\", \"matching\", \"seismic\", \"iterative\", \"optimization\", \"history\", \"upscaling\", \"approach\", \"framework\", \"resolution\", \"computational\", \"approximation\", \"simulation\", \"geologic\", \"demonstrate\", \"equation\", \"functions\", \"geological\", \"models\", \"examples\", \"method\", \"reservoir\", \"local\", \"model\", \"basis\", \"numerical\", \"time\", \"modeling\", \"heterogeneous\", \"solution\", \"data\", \"field\", \"flow\", \"based\", \"proposed\", \"pressure\", \"algorithm\", \"reservoirs\", \"uncertainty\", \"volume\", \"methods\", \"production\", \"permeability\", \"parameters\", \"results\", \"simulations\", \"wells\", \"eor\", \"flooding\", \"floods\", \"ift\", \"foams\", \"asp\", \"microemulsion\", \"fingering\", \"tertiary\", \"retention\", \"spontaneous\", \"corefloods\", \"ooip\", \"utchem\", \"sodium\", \"gypsum\", \"lsw\", \"effluent\", \"lswi\", \"conformance\", \"sulfate\", \"gridblock\", \"nacl\", \"acp\", \"foaming\", \"mmp\", \"brines\", \"divalent\", \"nonionic\", \"four-phase\", \"pilot\", \"mobility\", \"polymer\", \"surfactants\", \"surfactant\", \"salinity\", \"flood\", \"oil-wet\", \"sweep\", \"brine\", \"recovery\", \"wag\", \"waterflooding\", \"foam\", \"viscous\", \"imbibition\", \"oil\", \"tension\", \"chemical\", \"viscosity\", \"wettability\", \"injection\", \"water\", \"experiments\", \"cores\", \"low\", \"core\", \"high\", \"permeability\", \"reservoir\", \"model\", \"saturation\", \"phase\", \"field\", \"results\", \"reservoirs\", \"gas\", \"flow\", \"pressure\", \"reserves\", \"basin\", \"resource\", \"basins\", \"recoverable\", \"eur\", \"forecast\", \"worldwide\", \"frontier\", \"exponential\", \"american\", \"sec\", \"trr\", \"dca\", \"analog\", \"arps\", \"late\", \"supply\", \"reserve\", \"climate\", \"plots\", \"rate-time\", \"ugrs\", \"return\", \"lrs\", \"assessments\", \"tgs\", \"public\", \"exploitation\", \"cretaceous\", \"north\", \"forecasts\", \"resources\", \"exploration\", \"america\", \"relations\", \"decline\", \"unconventional\", \"curve\", \"probabilistic\", \"world\", \"technologies\", \"technology\", \"ultimate\", \"gas\", \"project\", \"forecasting\", \"production\", \"development\", \"uncertainty\", \"reservoirs\", \"data\", \"petroleum\", \"industry\", \"wells\", \"analysis\", \"shale\", \"years\", \"energy\", \"future\", \"oil\", \"estimate\", \"conventional\", \"reservoir\", \"tight\", \"methodology\", \"paper\", \"performance\", \"work\", \"study\", \"casing\", \"circulation\", \"lost\", \"annulus\", \"bit\", \"cuttings\", \"strengthening\", \"rotation\", \"eccentric\", \"rop\", \"drillstring\", \"annuli\", \"eccentricity\", \"ypl\", \"underbalanced\", \"influx\", \"hpht\", \"drillpipe\", \"breakout\", \"barite\", \"cleaning\", \"rig\", \"circulating\", \"mpd\", \"compressive\", \"cutting\", \"buckling\", \"pdc\", \"zonal\", \"kick\", \"hole\", \"drilling\", \"cement\", \"mud\", \"integrity\", \"losses\", \"instability\", \"real-time\", \"operations\", \"wellbore\", \"cementing\", \"loss\", \"annular\", \"fluids\", \"drill\", \"pressure\", \"fluid\", \"stability\", \"stress\", \"control\", \"failure\", \"results\", \"field\", \"paper\", \"design\", \"model\", \"formation\", \"tests\", \"system\", \"data\", \"temperature\", \"study\", \"wells\", \"developed\", \"experimental\", \"time\", \"acid\", \"nmr\", \"acidizing\", \"magnetic\", \"resistivity\", \"wormhole\", \"jetting\", \"hcl\", \"mudrocks\", \"wormholes\", \"chelating\", \"acoustic\", \"resonance\", \"ves\", \"etching\", \"neutron\", \"mudrock\", \"ball\", \"fabric\", \"packs\", \"sonic\", \"wormholing\", \"well-log-based\", \"magnetization\", \"nmr-based\", \"unpropped\", \"susceptibility\", \"dispersants\", \"sealers\", \"well-log\", \"acids\", \"logs\", \"conductivity\", \"embedment\", \"agents\", \"petrophysical\", \"isolated\", \"leakoff\", \"damage\", \"maturity\", \"organic-rich\", \"nuclear\", \"measurements\", \"cake\", \"carbonate\", \"proppant\", \"interpretation\", \"rock\", \"treatment\", \"stimulation\", \"filter\", \"kerogen\", \"samples\", \"nanoparticles\", \"formations\", \"temperature\", \"distribution\", \"formation\", \"properties\", \"core\", \"porosity\", \"permeability\", \"pore\", \"fluid\", \"water\", \"results\", \"surface\", \"concentration\", \"method\", \"combustion\", \"isc\", \"extraction\", \"battery\", \"solar\", \"upgrading\", \"sem\", \"sediments\", \"reactor\", \"emission\", \"catalyst\", \"greenhouse\", \"aromatics\", \"conversion\", \"synthesis\", \"oxidation\", \"multi-component\", \"vehicles\", \"gas-in-place\", \"crude-oil\", \"fuels\", \"micromodel\", \"greatest\", \"percolation\", \"activation\", \"polar\", \"fts\", \"waste\", \"capillaries\", \"vehicle\", \"saturates\", \"reforming\", \"sara\", \"tube\", \"resins\", \"oxygen\", \"scanning\", \"sediment\", \"x-ray\", \"asphaltenes\", \"emissions\", \"fuel\", \"methane\", \"organic\", \"generation\", \"storage\", \"steam\", \"samples\", \"energy\", \"pore\", \"hydrate\", \"carbon\", \"content\", \"pore-scale\", \"media\", \"porous\", \"reaction\", \"capacity\", \"thermal\", \"oil\", \"in-situ\", \"pores\", \"produced\", \"gas\", \"adsorption\", \"water\", \"conditions\", \"transport\", \"capillary\", \"permeability\", \"system\", \"experiments\", \"results\", \"rock\", \"injection\", \"study\", \"experimental\", \"shale\", \"holdup\", \"film\", \"pipes\", \"stratified\", \"lift\", \"superficial\", \"pipelines\", \"wax\", \"upward\", \"entrainment\", \"pipeline\", \"body\", \"esp\", \"gas-liquid\", \"slugging\", \"plunger\", \"high-viscosity\", \"upgridding\", \"zhang\", \"visual\", \"eot\", \"surging\", \"meg\", \"camera\", \"slugs\", \"pseudo-slug\", \"air-water\", \"gas/liquid\", \"gas\\u2013liquid\", \"wavy\", \"liquid\", \"slug\", \"inclined\", \"loading\", \"velocities\", \"velocity\", \"pipe\", \"fall\", \"two-phase\", \"gradient\", \"flow\", \"mechanistic\", \"experimental\", \"drop\", \"pattern\", \"predictions\", \"deposition\", \"gas\", \"vertical\", \"critical\", \"pressure\", \"observed\", \"horizontal\", \"model\", \"data\", \"viscosity\", \"study\", \"models\", \"characteristics\", \"effect\", \"conditions\", \"oil\", \"foam\", \"wells\", \"high\", \"compared\", \"based\", \"sagd\", \"es-sagd\", \"ethane\", \"flame\", \"sor\", \"hazards\", \"fire\", \"pressure-transient\", \"hazard\", \"steam-assisted\", \"narrow-boiling\", \"radiation\", \"explosion\", \"j-t\", \"sustained\", \"infinite-acting\", \"resilience\", \"athabasca\", \"dust\", \"binary\", \"pna\", \"dilution\", \"peng-robinson\", \"vaporization\", \"pdg\", \"chamber-edge\", \"safer\", \"ignition\", \"nanocomposites\", \"adiabatic\", \"bitumen\", \"chamber\", \"edge\", \"flash\", \"deconvolution\", \"geothermal\", \"safety\", \"incidents\", \"mixtures\", \"thermodynamic\", \"vapor\", \"risk\", \"coinjection\", \"eos\", \"solvent\", \"phases\", \"temperature\", \"phase\", \"behavior\", \"research\", \"condensate\", \"process\", \"asphaltene\", \"learning\", \"algorithm\", \"reservoir\", \"pressure\", \"multiphase\", \"analysis\", \"method\", \"thermal\", \"compositional\", \"mixture\", \"study\", \"steam\", \"results\", \"paper\", \"data\", \"fluid\", \"oil\", \"show\", \"simulation\", \"gas\", \"methods\", \"rate\", \"fluids\"], \"Total\": [3775.0, 4726.0, 1588.0, 4416.0, 4286.0, 1202.0, 1114.0, 1595.0, 3699.0, 3512.0, 1769.0, 2927.0, 1108.0, 819.0, 1408.0, 953.0, 2358.0, 893.0, 2199.0, 1196.0, 1428.0, 2857.0, 903.0, 4851.0, 1118.0, 1411.0, 586.0, 470.0, 1142.0, 1253.0, 199.1405435238175, 131.46324926414985, 111.55816271718885, 77.71951558735503, 72.74324395061475, 71.7479896232667, 64.78120933183033, 63.78595500448225, 57.81442904039391, 53.8334117310017, 53.8334117310017, 49.85239442160949, 47.86188576691338, 44.876122784869224, 43.880868457521174, 42.88561413017312, 42.88561413017312, 42.88561413017312, 41.89035980282506, 40.895105475477, 39.89985114812895, 35.91883383873674, 33.92832518404063, 33.92832518404063, 30.942562201996477, 30.942562201996477, 29.94730787464842, 29.94730787464842, 29.94730787464842, 28.952053547300366, 28.952053547300366, 3775.826606683649, 1595.7444945463155, 1108.0298908690236, 133.45223551407292, 46.867795188817375, 57.82250853386524, 84.69662209223586, 430.15975641899655, 167.2653030851801, 242.8592010786462, 953.3292580904741, 307.7012364046424, 183.25371426231408, 163.3934190089368, 547.6037863445525, 2199.4924679773444, 791.3699325212848, 178.38524723059643, 978.1329638117404, 603.2452012403601, 1171.6009668217819, 697.2418936189032, 565.187971767606, 692.7122697687198, 803.2697408782974, 434.08538915165514, 2927.52470706953, 4726.558101685839, 2239.465637560692, 4851.547250832095, 2358.893949212825, 3699.1340985201864, 4416.746696603724, 1209.981512200393, 3512.5338209663673, 2744.922577733012, 1253.3078709640904, 2148.706391293775, 2139.919401149987, 982.409358139467, 1591.6706805884905, 1738.561472633703, 2168.48252725952, 159.06048076111145, 103.42069981369488, 97.45929471218594, 94.47859216143148, 76.5943768569047, 76.5943768569047, 68.64583672155948, 68.64583672155948, 67.65226920464131, 65.665134170805, 62.68443162005051, 62.68443162005051, 59.70372906929605, 58.7101615523779, 56.72302651854159, 54.73589148470528, 54.73589148470528, 51.75518893395082, 51.75518893395082, 48.774486383196354, 46.787351349360044, 45.793783832441896, 44.80021631552374, 42.81308128168743, 41.819513764769276, 38.83881121401482, 38.83881121401482, 37.84524369709666, 37.84524369709666, 36.85167618017851, 248.518747758445, 104.42449086862494, 292.2700927942276, 111.39214617770233, 352.9601149033492, 183.92380685174004, 79.59067230950981, 694.0303974680435, 483.2743476703345, 181.02120151343007, 1354.6851145851397, 209.88978174189964, 190.9385363179591, 398.79321245808575, 121.3476735134508, 1702.5106518862658, 206.81810153428842, 328.17897223300594, 498.45142596473227, 206.89469485744527, 371.90440710419387, 2021.471859282811, 224.8680007356729, 2168.48252725952, 3699.1340985201864, 321.35488427319564, 4851.547250832095, 279.6664284873201, 1209.981512200393, 1276.051750657134, 1228.045666878753, 418.90972657979717, 802.30617292192, 2857.819916375709, 1705.749025596042, 4726.558101685839, 1315.4543239432387, 937.9817644041594, 3512.5338209663673, 419.37302780848626, 2358.893949212825, 593.848700230348, 759.7654021223807, 1074.5984682623314, 2927.52470706953, 2148.706391293775, 1159.4984365120233, 2744.922577733012, 748.8530626626446, 1738.561472633703, 444.7406899174764, 433.773960925333, 299.1822869308456, 187.52104628356707, 184.53012019480067, 173.5633912026573, 167.5815390251245, 127.70252450823936, 114.74184479025169, 94.8023375318091, 90.81443608012059, 83.83560853966569, 79.84770708797717, 77.85375636213291, 63.89610128122308, 63.89610128122308, 63.89610128122308, 61.90215055537882, 60.90517519245668, 56.91727374076817, 52.92937228907965, 50.935421563235394, 47.94449547446901, 47.94449547446901, 41.96264329693623, 41.96264329693623, 39.96869257109198, 38.97171720816984, 36.977766482325585, 34.98381575648133, 156.613138174015, 315.09805901684166, 611.3118080257411, 495.60555822539374, 893.4256989015512, 458.70671650145084, 336.05234215435416, 126.71507454008288, 207.412843697954, 385.97680466612513, 1769.1420996407019, 148.65996299808845, 126.67828637728546, 903.4993687189838, 333.0469659995684, 238.32528623150247, 4286.279079064654, 170.59071279633238, 555.5282987132699, 832.7675367237408, 467.95116987079484, 1591.6706805884905, 1949.000685290195, 1201.2132267479615, 420.1134981611107, 1051.5959246873988, 733.1101365072574, 1505.178910424217, 2148.706391293775, 3699.1340985201864, 4851.547250832095, 653.6608701587834, 1142.896018484422, 1705.749025596042, 2744.922577733012, 2358.893949212825, 4416.746696603724, 4726.558101685839, 3512.5338209663673, 458.819784309605, 301.5977522307483, 193.13445161938512, 191.1442993145895, 120.49389249434385, 113.52835942755907, 104.57267405597862, 87.65637946521558, 87.65637946521558, 71.73516102685035, 71.73516102685035, 69.74500872205469, 68.74993256965688, 63.77455180766771, 62.77947565526988, 61.784399502872056, 58.79917104567857, 53.82379028368944, 50.83856182649596, 50.83856182649596, 49.84348567409813, 48.848409521700304, 44.868104912109, 43.873028759711175, 40.88780030251769, 38.89764799772204, 38.89764799772204, 38.89764799772204, 37.90257184532421, 37.90257184532421, 246.8696328985691, 86.66552123450363, 464.7845732891869, 93.62952022800707, 91.64809694323915, 88.65548139022022, 332.47597810122664, 953.3911676479897, 202.11987452462742, 159.26716382182656, 146.39033611031286, 145.36674777942872, 379.4531301823942, 155.38440114263918, 4416.746696603724, 192.15056625900104, 135.3823188933194, 2927.52470706953, 773.3522541282846, 593.848700230348, 2358.893949212825, 2857.819916375709, 303.81785133674225, 524.0597066024, 1738.561472633703, 1693.39121307034, 2199.4924679773444, 282.83714183323804, 825.4157237030813, 264.7263123766763, 4286.279079064654, 450.25597578030676, 672.9710817419016, 3699.1340985201864, 506.76899875197824, 404.350065303875, 1462.9899694131327, 1258.7789333674132, 1037.7327083519249, 2139.919401149987, 249.1941972042312, 198.37687529762619, 190.4055306848254, 177.45209568902416, 132.61328224201975, 127.63119185901931, 106.70641225041727, 106.70641225041727, 102.72073994401687, 99.73148571421659, 80.79954225881474, 75.81745187581424, 70.83536149281376, 69.83894341621367, 65.85327110981328, 65.85327110981328, 65.85327110981328, 62.86401688001295, 62.86401688001295, 61.86759880341286, 60.87118072681276, 59.87476265021266, 58.878344573612566, 57.881926497012465, 56.88550842041238, 55.88909034381228, 55.88909034381228, 54.89267226721218, 53.896254190612076, 51.90341803741188, 145.5678318104651, 1588.2297966441079, 396.6303238127364, 394.7672686335766, 126.6635337572554, 180.50462186346405, 137.59266644969202, 187.42069119443076, 544.9112555522863, 1196.8013635369052, 125.61740821928234, 417.65131427371614, 229.3339339479759, 943.3650533151418, 107.68135953978103, 3512.5338209663673, 2239.465637560692, 562.9417434719935, 978.1329638117404, 656.341548615997, 386.5126761366872, 2744.922577733012, 1705.749025596042, 1462.9899694131327, 956.544506033628, 4851.547250832095, 1422.80218557613, 642.2481735202073, 1063.6181957571848, 2857.819916375709, 1408.5748336210565, 2139.919401149987, 1738.561472633703, 1224.8215761026247, 1428.1193939193543, 1276.051750657134, 1114.8402511869908, 224.83777747613905, 220.84225570863805, 203.86128819675872, 167.90159228924952, 157.912787870497, 127.94637461423939, 113.96204842798583, 106.96988533485906, 77.00347207860143, 74.00683075297567, 71.01018942734991, 63.019145892347844, 61.021385008597335, 53.03034147359529, 45.03929793859326, 45.03929793859326, 45.03929793859326, 44.040417496718, 41.04377617109224, 41.04377617109224, 35.050493519840714, 31.054971752339704, 31.054971752339704, 30.05609131046445, 30.05609131046445, 29.05721086858919, 29.05721086858919, 27.059449984838682, 27.059449984838682, 95.97973810895611, 259.7558387163854, 819.651986456401, 56.0193742202662, 192.8202611254434, 260.6274537039202, 58.017123367159066, 45.031689359638406, 370.3825926548391, 88.94819019685278, 165.76760307100318, 97.92386733789523, 888.1729683015927, 109.90632247823415, 648.8113974556691, 571.5488948459817, 323.47459057663644, 1411.0170297804436, 492.8212055279302, 462.8477250902785, 165.76083765095007, 313.2533242008603, 675.9481125192297, 442.0873662824431, 732.9814206419245, 1408.5748336210565, 834.282492252217, 1422.80218557613, 1427.1754589835346, 733.1101365072574, 515.2688020234842, 2148.706391293775, 1118.9475608748871, 2239.465637560692, 1949.000685290195, 2744.922577733012, 709.9986445903883, 558.8477589632654, 2168.48252725952, 347.30060848222774, 163.248969143592, 91.6180608604473, 76.6949549681255, 73.71033378966114, 68.7359651588872, 60.776975349648865, 56.79748044502972, 53.81285926656535, 50.82823808810099, 46.84874318348184, 40.87950082655311, 39.88462710039832, 37.89487964808875, 37.89487964808875, 37.89487964808875, 36.90000592193396, 36.90000592193396, 34.91025846962438, 33.915384743469595, 33.915384743469595, 32.92051101731481, 31.92563729116001, 31.92563729116001, 30.93076356500523, 29.935889838850443, 28.941016112695657, 27.946142386540867, 26.95126866038608, 26.95126866038608, 26.95126866038608, 26.95126866038608, 26.95126866038608, 98.58369934830388, 26.95126866038608, 50.83132678899161, 85.68087222928231, 42.86965313134877, 161.3914433100578, 138.43807345597523, 119.4793834226143, 143.35837711275957, 228.94479073225662, 307.8357397191271, 247.85387916166874, 478.4835374425397, 436.5067808290292, 675.9481125192297, 825.4157237030813, 1118.9475608748871, 244.88139351045402, 321.82698427041726, 243.19442706543003, 190.39713820269176, 590.9442649185103, 563.1542614016713, 263.1830527821848, 172.2250689089337, 554.5363240771694, 4286.279079064654, 435.4053979326075, 276.9789027895417, 336.7130682633522, 4416.746696603724, 272.98776196735474, 1949.000685290195, 1111.2328853360073, 741.5575460700662, 527.5557708930952, 2148.706391293775, 1063.6181957571848, 1201.2132267479615, 2744.922577733012, 1411.0170297804436, 1591.6706805884905, 2139.919401149987, 1428.1193939193543, 2199.4924679773444, 216.5397441508438, 160.6816625775181, 151.70447089609078, 131.75515604847445, 107.8159782313349, 106.8185124889541, 98.83878654990755, 84.87426615657616, 75.89707447514881, 72.90467724800635, 65.92241705134064, 58.94015685467493, 57.94269111229412, 51.957896658009226, 48.96549943086677, 46.97056794610515, 45.97310220372433, 41.983239234201065, 41.983239234201065, 36.99591052229699, 35.99844477991617, 35.00097903753535, 33.00604755277372, 31.011116068012093, 30.01365032563128, 30.01365032563128, 27.02125309848883, 26.023787356108016, 26.023787356108016, 25.026321613727198, 1202.1620525105898, 470.87781631527383, 96.83756907046163, 346.09971990871173, 171.64492088757095, 651.2670828993075, 586.4099070678164, 43.97607538740126, 430.69972422215494, 291.2367849887655, 4726.558101685839, 234.46534687180494, 1428.1193939193543, 300.19870086630607, 229.29630868500956, 343.9968934669064, 209.4459573074088, 4416.746696603724, 570.2045489992378, 576.4652431566095, 3512.5338209663673, 748.9259267336885, 1171.6009668217819, 4851.547250832095, 2857.819916375709, 832.7675367237408, 2139.919401149987, 2021.471859282811, 383.8490923043856, 1353.9360674856327, 1111.2328853360073, 4286.279079064654, 903.4993687189838, 1738.561472633703, 1505.178910424217, 836.5521736285825, 1315.4543239432387, 230.92660916754502, 86.02896842540632, 57.04944027697858, 49.05508768430885, 43.05932323980656, 42.060029165722845, 36.06426472122055, 35.06497064713684, 34.065676573053125, 34.065676573053125, 33.06638249896941, 32.067088424885696, 32.067088424885696, 32.067088424885696, 28.069912128550836, 28.069912128550836, 28.069912128550836, 27.070618054467122, 27.070618054467122, 25.07202990629969, 25.07202990629969, 24.072735832215976, 24.072735832215976, 24.072735832215976, 23.073441758132258, 23.073441758132258, 23.073441758132258, 22.074147684048544, 21.074853609964833, 21.074853609964833, 218.93466664633198, 92.02431923770015, 58.043007793896734, 98.00433832746826, 59.03537466008834, 108.95042368006528, 181.82833032531062, 69.0150851886306, 151.8692257813301, 116.91469623148035, 54.04717118252354, 267.57263867291516, 66.01989983211615, 114.93893523898649, 255.53396152890585, 261.51969499884945, 1408.5748336210565, 1142.896018484422, 1253.3078709640904, 359.19190618975705, 175.74804211549915, 1176.0194017443139, 237.62023523512482, 97.9227133999679, 419.37302780848626, 3699.1340985201864, 3512.5338209663673, 378.757186356346, 1693.39121307034, 2168.48252725952, 554.5363240771694, 408.54541128697133, 195.6946772641844, 2139.919401149987, 436.5067808290292, 2744.922577733012, 1462.9899694131327, 2857.819916375709, 2239.465637560692, 4286.279079064654, 982.409358139467, 1702.5106518862658, 4416.746696603724, 1074.5984682623314, 1268.797790796692, 943.3650533151418], \"loglift\": [30.0, 29.0, 28.0, 27.0, 26.0, 25.0, 24.0, 23.0, 22.0, 21.0, 20.0, 19.0, 18.0, 17.0, 16.0, 15.0, 14.0, 13.0, 12.0, 11.0, 10.0, 9.0, 8.0, 7.0, 6.0, 5.0, 4.0, 3.0, 2.0, 1.0, 1.8268, 1.8266, 1.8265, 1.8262, 1.8261, 1.8261, 1.826, 1.826, 1.8259, 1.8258, 1.8258, 1.8256, 1.8256, 1.8255, 1.8254, 1.8254, 1.8254, 1.8254, 1.8253, 1.8253, 1.8252, 1.825, 1.8249, 1.8249, 1.8247, 1.8247, 1.8246, 1.8246, 1.8246, 1.8245, 1.8245, 1.7717, 1.7712, 1.7553, 1.7963, 1.804, 1.7906, 1.753, 1.6106, 1.6797, 1.6334, 1.4772, 1.5823, 1.6356, 1.639, 1.4598, 1.2216, 1.3772, 1.5731, 1.2486, 1.3063, 1.1516, 1.2593, 1.263, 1.1818, 1.1377, 1.3022, 0.7513, 0.5004, 0.7205, 0.4494, 0.6537, 0.4035, 0.3056, 0.8356, 0.2798, 0.3427, 0.6978, 0.4114, 0.3319, 0.8018, 0.4661, 0.2886, 0.0351, 1.8728, 1.8725, 1.8724, 1.8724, 1.8722, 1.8722, 1.8721, 1.8721, 1.8721, 1.872, 1.872, 1.872, 1.8719, 1.8719, 1.8719, 1.8718, 1.8718, 1.8717, 1.8717, 1.8716, 1.8716, 1.8715, 1.8715, 1.8714, 1.8714, 1.8712, 1.8712, 1.8712, 1.8712, 1.8711, 1.8444, 1.8434, 1.7986, 1.836, 1.7719, 1.7822, 1.8208, 1.5762, 1.5668, 1.6921, 1.3913, 1.6619, 1.6712, 1.5448, 1.7411, 1.2492, 1.6349, 1.5413, 1.4453, 1.6161, 1.4776, 1.0554, 1.5753, 0.974, 0.8165, 1.4603, 0.6625, 1.4855, 0.9831, 0.9536, 0.9337, 1.3181, 1.02, 0.47, 0.6885, 0.2302, 0.7671, 0.8952, 0.1904, 1.2705, 0.199, 1.0409, 0.8615, 0.6009, -0.1464, -0.0097, 0.481, -0.3206, 0.8467, 0.062, 1.9146, 1.9146, 1.9145, 1.9143, 1.9143, 1.9143, 1.9143, 1.9141, 1.9141, 1.9139, 1.9139, 1.9138, 1.9138, 1.9137, 1.9135, 1.9135, 1.9135, 1.9135, 1.9134, 1.9134, 1.9133, 1.9132, 1.9131, 1.9131, 1.9129, 1.9129, 1.9128, 1.9127, 1.9126, 1.9125, 1.895, 1.8759, 1.8294, 1.8328, 1.8038, 1.8283, 1.8407, 1.8739, 1.8449, 1.7849, 1.6436, 1.8374, 1.8493, 1.6349, 1.7418, 1.7563, 1.3837, 1.763, 1.5267, 1.4312, 1.5379, 1.1459, 1.0374, 1.1122, 1.451, 1.1085, 1.2116, 0.9014, 0.7419, 0.32, -0.0444, 1.133, 0.7812, 0.5126, 0.0719, 0.1717, -0.6093, -0.6999, -0.4412, 2.2306, 2.2305, 2.2303, 2.2303, 2.2301, 2.23, 2.23, 2.2298, 2.2298, 2.2296, 2.2296, 2.2296, 2.2296, 2.2295, 2.2295, 2.2295, 2.2294, 2.2293, 2.2292, 2.2292, 2.2291, 2.2291, 2.229, 2.2289, 2.2288, 2.2287, 2.2287, 2.2287, 2.2286, 2.2286, 2.2059, 2.2182, 2.1688, 2.2084, 2.1966, 2.1955, 2.1096, 1.9547, 2.0469, 2.0753, 2.0838, 2.0829, 1.8818, 2.0163, 1.2734, 1.9443, 2.0273, 1.1596, 1.4612, 1.5397, 1.0363, 0.8987, 1.7079, 1.4817, 0.9156, 0.8736, 0.7263, 1.6809, 1.0668, 1.697, -0.0105, 1.3472, 1.0707, -0.0765, 1.2553, 1.3941, 0.2847, 0.3813, 0.5333, -0.2062, 2.2414, 2.2413, 2.2413, 2.2412, 2.2411, 2.2411, 2.2409, 2.2409, 2.2409, 2.2409, 2.2407, 2.2406, 2.2406, 2.2405, 2.2405, 2.2405, 2.2405, 2.2404, 2.2404, 2.2404, 2.2404, 2.2404, 2.2403, 2.2403, 2.2403, 2.2403, 2.2403, 2.2402, 2.2402, 2.2401, 2.2273, 2.1689, 2.1659, 2.1376, 2.1588, 2.1113, 2.1342, 2.0547, 1.818, 1.6595, 2.0871, 1.8166, 1.9089, 1.4194, 2.0808, 0.805, 0.882, 1.3814, 1.1394, 1.3005, 1.485, 0.3294, 0.52, 0.5882, 0.8554, -0.1922, 0.5909, 1.0765, 0.6981, -0.0293, 0.4726, 0.1341, 0.2663, 0.4006, 0.2521, 0.3389, 2.3268, 2.3266, 2.3265, 2.3265, 2.3264, 2.3264, 2.3263, 2.3262, 2.3262, 2.3259, 2.3258, 2.3258, 2.3256, 2.3256, 2.3254, 2.3251, 2.3251, 2.3251, 2.3251, 2.325, 2.325, 2.3246, 2.3243, 2.3243, 2.3243, 2.3243, 2.3242, 2.3242, 2.324, 2.324, 2.3156, 2.2673, 2.1361, 2.2893, 2.17, 2.1146, 2.2542, 2.2799, 2.0244, 2.1946, 2.0981, 2.1725, 1.7592, 2.1371, 1.7396, 1.7613, 1.8891, 1.5289, 1.7782, 1.7794, 2.0356, 1.8415, 1.5623, 1.6637, 1.4844, 1.1623, 1.3518, 1.1009, 1.081, 1.2815, 1.4471, 0.5748, 0.9547, 0.3419, 0.4102, 0.1088, 1.1767, 1.3565, 0.0285, 2.5202, 2.5199, 2.5196, 2.5194, 2.5194, 2.5193, 2.5191, 2.519, 2.519, 2.5189, 2.5187, 2.5185, 2.5184, 2.5183, 2.5183, 2.5183, 2.5183, 2.5183, 2.5182, 2.5181, 2.5181, 2.518, 2.5179, 2.5179, 2.5179, 2.5178, 2.5177, 2.5176, 2.5175, 2.5175, 2.5175, 2.5175, 2.5175, 2.4784, 2.5175, 2.4788, 2.4215, 2.4709, 2.2914, 2.2854, 2.2966, 2.2505, 2.1445, 2.0791, 2.1145, 1.9723, 1.9699, 1.78, 1.7183, 1.6089, 2.0118, 1.9287, 1.9844, 2.0454, 1.6827, 1.6912, 1.9054, 2.03, 1.4855, 0.5373, 1.5807, 1.7893, 1.6449, 0.148, 1.7422, 0.4167, 0.7648, 1.0365, 1.271, 0.2544, 0.7444, 0.6172, -0.1499, 0.3753, 0.2488, -0.0533, 0.2685, -0.1633, 2.5394, 2.5393, 2.5393, 2.5392, 2.539, 2.539, 2.539, 2.5388, 2.5387, 2.5387, 2.5386, 2.5384, 2.5384, 2.5382, 2.5381, 2.5381, 2.538, 2.5379, 2.5379, 2.5376, 2.5376, 2.5375, 2.5374, 2.5372, 2.5371, 2.5371, 2.5368, 2.5367, 2.5367, 2.5366, 2.4806, 2.4694, 2.4752, 2.3843, 2.3958, 2.1808, 2.1721, 2.4915, 2.1102, 2.1665, 1.6421, 2.1104, 1.6583, 2.0202, 2.0296, 1.8671, 2.0131, 0.8249, 1.5985, 1.5875, 0.76, 1.452, 1.2269, 0.5256, 0.7615, 1.3616, 0.8246, 0.7808, 1.699, 0.8154, 0.9357, -0.0733, 1.0193, 0.4791, 0.5819, 1.001, 0.5539, 2.6951, 2.6946, 2.6941, 2.6939, 2.6936, 2.6936, 2.6933, 2.6932, 2.6931, 2.6931, 2.6931, 2.693, 2.693, 2.693, 2.6926, 2.6926, 2.6926, 2.6925, 2.6925, 2.6923, 2.6923, 2.6922, 2.6922, 2.6922, 2.692, 2.692, 2.692, 2.6919, 2.6917, 2.6917, 2.6905, 2.6837, 2.6768, 2.6532, 2.6422, 2.5366, 2.4334, 2.555, 2.4254, 2.4552, 2.5763, 2.3094, 2.5304, 2.3931, 2.1949, 2.1188, 1.5425, 1.5724, 1.4882, 1.8799, 2.0797, 1.322, 1.9063, 2.2696, 1.5614, 0.4804, 0.3943, 1.562, 0.7114, 0.5224, 1.3112, 1.478, 1.907, 0.3542, 1.3867, 0.1386, 0.5483, 0.0502, 0.2279, -0.3071, 0.8155, 0.3609, -0.4202, 0.6496, 0.5049, 0.6576], \"logprob\": [30.0, 29.0, 28.0, 27.0, 26.0, 25.0, 24.0, 23.0, 22.0, 21.0, 20.0, 19.0, 18.0, 17.0, 16.0, 15.0, 14.0, 13.0, 12.0, 11.0, 10.0, 9.0, 8.0, 7.0, 6.0, 5.0, 4.0, 3.0, 2.0, 1.0, -6.0382, -6.4537, -6.618, -6.9798, -7.046, -7.0598, -7.162, -7.1775, -7.276, -7.3474, -7.3474, -7.4244, -7.4652, -7.5297, -7.5522, -7.5752, -7.5752, -7.5752, -7.5987, -7.6228, -7.6475, -7.7528, -7.8099, -7.8099, -7.9023, -7.9023, -7.9351, -7.9351, -7.9351, -7.9689, -7.9689, -3.151, -4.0128, -4.3935, -6.469, -7.5077, -7.3111, -6.967, -5.4844, -6.3598, -6.0332, -4.8219, -5.8476, -6.3126, -6.4239, -5.3938, -4.2415, -5.1081, -6.402, -5.0248, -5.4505, -4.9413, -5.3526, -5.5589, -5.4367, -5.3327, -5.7836, -4.4258, -4.1977, -4.7245, -4.2226, -4.7394, -4.5398, -4.4603, -5.2251, -4.7152, -4.8988, -5.3277, -5.0751, -5.1586, -5.4673, -5.3204, -5.4096, -5.4422, -6.217, -6.6478, -6.7072, -6.7383, -6.9483, -6.9483, -7.058, -7.058, -7.0726, -7.1025, -7.149, -7.149, -7.1977, -7.2146, -7.249, -7.2847, -7.2847, -7.3408, -7.3408, -7.4002, -7.4419, -7.4634, -7.4854, -7.5308, -7.5544, -7.6284, -7.6284, -7.6544, -7.6544, -7.6811, -5.7992, -6.6672, -5.6828, -6.61, -5.5208, -6.1623, -6.9614, -5.0403, -5.4117, -6.2683, -4.5565, -6.1505, -6.2359, -5.6258, -6.6193, -4.4701, -6.1923, -5.8242, -5.5023, -6.2108, -5.7628, -4.4921, -6.1682, -4.5033, -4.1268, -5.9262, -4.0095, -6.0399, -5.0776, -5.0539, -5.1122, -5.8033, -5.4516, -4.7312, -5.0288, -4.4679, -5.21, -5.4201, -4.8046, -5.8498, -5.1942, -5.7315, -5.6646, -5.5785, -5.3235, -5.4962, -5.6223, -5.5621, -5.6938, -5.6362, -5.147, -5.172, -5.5435, -6.0108, -6.0269, -6.0882, -6.1233, -6.3952, -6.5023, -6.6934, -6.7364, -6.8164, -6.8652, -6.8905, -7.0883, -7.0883, -7.0883, -7.12, -7.1363, -7.2041, -7.2769, -7.3153, -7.3759, -7.3759, -7.5094, -7.5094, -7.5582, -7.5835, -7.6361, -7.6917, -6.2103, -5.5303, -4.914, -5.1204, -4.5602, -5.2023, -5.5011, -6.4432, -5.9794, -5.4184, -4.0372, -6.32, -6.4681, -4.7179, -5.6089, -5.9292, -3.4121, -6.2568, -5.3124, -5.0032, -5.4728, -4.6407, -4.5466, -4.9557, -5.6676, -5.0925, -5.3502, -4.941, -4.7445, -4.6233, -4.7164, -5.5435, -5.3365, -5.2047, -5.1697, -5.2214, -5.3752, -5.398, -5.4362, -4.7998, -5.2195, -5.6653, -5.6757, -6.1374, -6.197, -6.2792, -6.4558, -6.4558, -6.6565, -6.6565, -6.6846, -6.699, -6.7742, -6.79, -6.806, -6.8556, -6.9441, -7.0012, -7.0012, -7.021, -7.0412, -7.1264, -7.1488, -7.2194, -7.2694, -7.2694, -7.2694, -7.2954, -7.2954, -5.4443, -6.4788, -4.8487, -6.4114, -6.4445, -6.4788, -5.2429, -4.3443, -5.8033, -6.0132, -6.089, -6.0969, -5.3385, -6.0969, -3.4925, -5.9565, -6.2236, -4.0175, -5.0471, -5.2328, -4.3568, -4.3026, -5.7347, -5.4158, -4.7826, -4.851, -4.7368, -5.8333, -5.3764, -5.8833, -4.8064, -5.7021, -5.5766, -5.0197, -5.6757, -5.7627, -5.5861, -5.6399, -5.6809, -5.6968, -5.3995, -5.6276, -5.6686, -5.7391, -6.0305, -6.0689, -6.248, -6.248, -6.2861, -6.3157, -6.5264, -6.5901, -6.6581, -6.6723, -6.7312, -6.7312, -6.7312, -6.7777, -6.7777, -6.7937, -6.8099, -6.8265, -6.8433, -6.8604, -6.8777, -6.8954, -6.8954, -6.9135, -6.9318, -6.9695, -5.9511, -3.6198, -5.0101, -5.0432, -6.1587, -5.852, -6.1006, -5.871, -5.0404, -4.4122, -6.2387, -5.3078, -5.815, -4.8903, -6.3991, -4.1899, -4.5631, -5.4445, -5.134, -5.3719, -5.7169, -4.9121, -5.1974, -5.2826, -5.4403, -4.8642, -5.3078, -5.6176, -5.4916, -5.2306, -5.4361, -5.3564, -5.432, -5.6479, -5.6428, -5.6686, -3.8158, -5.4171, -5.4351, -5.5151, -5.7093, -5.7706, -5.9812, -6.097, -6.1604, -6.4893, -6.5291, -6.5705, -6.69, -6.7222, -6.8628, -7.0264, -7.0264, -7.0264, -7.0489, -7.1195, -7.1195, -7.2776, -7.399, -7.399, -7.4317, -7.4317, -7.4656, -7.4656, -7.5371, -7.5371, -6.2793, -5.332, -4.3141, -6.8441, -5.7273, -5.4814, -6.8441, -7.0718, -5.2201, -6.4764, -5.9504, -6.4023, -4.6107, -6.3223, -4.9444, -5.0494, -5.4909, -4.3781, -5.1808, -5.2423, -6.0129, -5.5705, -5.0807, -5.4039, -5.0775, -4.7465, -5.0807, -4.7978, -4.8147, -5.2803, -5.4673, -4.9117, -5.1843, -5.1031, -5.1738, -5.1328, -5.4171, -5.4766, -5.4487, -4.7887, -5.5438, -6.1219, -6.2998, -6.3396, -6.4095, -6.5327, -6.6005, -6.6546, -6.7117, -6.7934, -6.93, -6.9546, -7.0059, -7.0059, -7.0059, -7.0326, -7.0326, -7.0881, -7.1171, -7.1171, -7.147, -7.1777, -7.1777, -7.2095, -7.2422, -7.2761, -7.3112, -7.3476, -7.3476, -7.3476, -7.3476, -7.3476, -6.0898, -7.3476, -6.7517, -6.2869, -6.93, -5.7839, -5.9432, -6.0793, -5.9432, -5.5811, -5.3504, -5.5317, -5.0161, -5.1103, -4.863, -4.7248, -4.5301, -5.6465, -5.4563, -5.6809, -5.8646, -5.0947, -5.1343, -5.6809, -5.9802, -5.3554, -4.2586, -5.502, -5.7459, -5.6949, -4.6179, -5.8074, -5.1673, -5.381, -5.5138, -5.6198, -5.2321, -5.4452, -5.4508, -5.3914, -5.5317, -5.5378, -5.5438, -5.6264, -5.6264, -5.2419, -5.5404, -5.5979, -5.7389, -5.9396, -5.9489, -6.0266, -6.1791, -6.291, -6.3312, -6.432, -6.5441, -6.5612, -6.6704, -6.7298, -6.7715, -6.793, -6.8839, -6.8839, -7.0106, -7.038, -7.0662, -7.125, -7.1875, -7.2203, -7.2203, -7.3256, -7.3633, -7.3633, -7.4026, -3.5865, -4.535, -6.1109, -4.9281, -5.6178, -4.4993, -4.613, -6.8839, -4.9834, -5.3185, -3.056, -5.5913, -4.2366, -5.4344, -5.6945, -5.4513, -5.8015, -3.941, -5.2146, -5.2146, -4.2349, -5.0884, -4.8661, -4.1464, -4.4397, -5.0727, -4.666, -4.7667, -5.5098, -5.1328, -5.2101, -4.8692, -5.3335, -5.2191, -5.2605, -5.4288, -5.4233, -5.0218, -6.0098, -6.4211, -6.5723, -6.7029, -6.7264, -6.8805, -6.9087, -6.9376, -6.9376, -6.9675, -6.9982, -6.9982, -6.9982, -7.1317, -7.1317, -7.1317, -7.1681, -7.1681, -7.245, -7.245, -7.2858, -7.2858, -7.2858, -7.3284, -7.3284, -7.3284, -7.3728, -7.4193, -7.4193, -5.0797, -5.9533, -6.4211, -5.9209, -6.4388, -5.9316, -5.5226, -6.3698, -5.7106, -5.9424, -6.5929, -5.2602, -6.4388, -6.0215, -5.4208, -5.4738, -4.3662, -4.5454, -4.5373, -5.3953, -5.9103, -4.7672, -5.7821, -6.3052, -5.5589, -4.4628, -4.6006, -5.6602, -5.0132, -4.9549, -5.5297, -5.6684, -5.9755, -5.1364, -5.6935, -5.1029, -5.3226, -5.151, -5.2172, -5.1029, -5.4536, -5.3583, -5.1861, -5.5297, -5.5084, -5.652]}, \"token.table\": {\"Topic\": [6, 6, 5, 6, 6, 3, 7, 2, 9, 1, 3, 5, 7, 3, 6, 8, 2, 5, 6, 9, 4, 6, 4, 4, 1, 2, 3, 4, 5, 6, 7, 8, 9, 5, 8, 5, 5, 1, 2, 3, 4, 5, 7, 8, 9, 2, 5, 7, 4, 3, 3, 9, 3, 7, 4, 2, 9, 6, 5, 1, 2, 3, 4, 5, 6, 7, 8, 9, 4, 4, 2, 3, 5, 6, 8, 9, 7, 1, 2, 3, 4, 5, 8, 9, 2, 9, 5, 6, 9, 8, 5, 2, 3, 6, 3, 5, 4, 5, 6, 8, 2, 5, 6, 7, 7, 2, 3, 6, 7, 2, 3, 6, 7, 9, 3, 6, 5, 7, 2, 9, 1, 5, 1, 5, 6, 9, 9, 1, 2, 3, 4, 5, 6, 8, 6, 3, 5, 6, 7, 9, 5, 5, 5, 4, 1, 3, 9, 7, 1, 2, 3, 5, 6, 8, 9, 1, 2, 3, 4, 6, 9, 2, 3, 6, 9, 5, 1, 2, 5, 8, 2, 1, 2, 3, 5, 6, 8, 9, 4, 8, 9, 1, 3, 4, 5, 6, 7, 8, 9, 1, 6, 3, 2, 3, 5, 6, 7, 8, 9, 1, 2, 3, 5, 7, 2, 3, 4, 5, 6, 8, 9, 2, 7, 1, 2, 3, 6, 7, 3, 3, 6, 1, 2, 3, 9, 1, 1, 4, 1, 3, 4, 5, 6, 8, 9, 2, 7, 1, 4, 5, 6, 5, 5, 1, 3, 4, 5, 6, 1, 2, 3, 4, 5, 6, 8, 9, 4, 1, 3, 4, 4, 9, 1, 5, 1, 2, 3, 4, 8, 3, 7, 8, 1, 2, 3, 4, 5, 6, 7, 8, 9, 1, 1, 2, 3, 4, 5, 6, 8, 9, 1, 2, 3, 4, 5, 7, 8, 1, 9, 6, 1, 2, 3, 4, 6, 7, 8, 3, 4, 5, 4, 5, 5, 5, 1, 3, 6, 7, 8, 9, 5, 5, 1, 2, 9, 1, 3, 5, 6, 7, 8, 9, 3, 1, 9, 4, 6, 7, 4, 7, 2, 3, 4, 5, 7, 8, 9, 2, 8, 3, 3, 9, 8, 1, 2, 3, 6, 8, 9, 9, 8, 1, 2, 3, 4, 5, 6, 8, 6, 9, 4, 2, 4, 6, 3, 5, 6, 7, 8, 9, 1, 3, 5, 6, 7, 8, 4, 4, 5, 9, 4, 7, 6, 1, 5, 9, 5, 8, 1, 1, 2, 3, 4, 5, 6, 8, 9, 8, 2, 4, 5, 6, 2, 3, 9, 1, 9, 1, 9, 2, 2, 3, 6, 3, 3, 1, 2, 3, 4, 5, 8, 9, 1, 2, 3, 5, 6, 7, 8, 9, 1, 3, 5, 6, 8, 9, 2, 2, 3, 6, 8, 9, 3, 3, 4, 2, 4, 4, 9, 1, 3, 4, 5, 6, 7, 8, 9, 1, 3, 4, 5, 6, 7, 3, 1, 5, 6, 1, 1, 2, 3, 1, 3, 6, 1, 3, 5, 6, 2, 4, 9, 4, 7, 4, 7, 7, 2, 3, 4, 5, 1, 2, 4, 5, 8, 1, 3, 4, 7, 8, 9, 7, 8, 8, 8, 1, 2, 3, 4, 7, 8, 2, 4, 2, 3, 4, 7, 1, 7, 1, 2, 1, 2, 8, 1, 2, 5, 6, 8, 1, 5, 9, 2, 3, 5, 8, 7, 7, 2, 3, 3, 3, 9, 9, 6, 1, 8, 9, 1, 2, 3, 6, 8, 1, 2, 3, 4, 5, 6, 7, 8, 9, 8, 2, 3, 4, 8, 3, 5, 1, 2, 4, 5, 8, 9, 5, 1, 1, 7, 8, 1, 4, 6, 1, 3, 9, 3, 6, 7, 2, 3, 1, 3, 5, 6, 7, 8, 5, 9, 5, 8, 1, 5, 1, 3, 4, 5, 6, 8, 9, 9, 5, 1, 2, 3, 6, 7, 8, 9, 3, 5, 7, 5, 9, 2, 3, 4, 5, 6, 9, 1, 7, 3, 6, 2, 2, 8, 9, 6, 6, 7, 5, 4, 4, 6, 5, 9, 8, 8, 9, 1, 8, 1, 2, 3, 5, 9, 1, 5, 6, 1, 3, 5, 6, 9, 5, 9, 5, 1, 3, 4, 5, 6, 7, 8, 4, 3, 3, 6, 6, 2, 2, 3, 6, 1, 2, 3, 6, 7, 4, 6, 2, 3, 5, 6, 7, 8, 9, 1, 3, 6, 8, 1, 2, 3, 6, 7, 8, 2, 4, 7, 9, 1, 2, 3, 4, 5, 6, 8, 9, 1, 2, 4, 8, 9, 1, 2, 3, 4, 5, 6, 7, 8, 9, 3, 7, 3, 6, 7, 8, 9, 3, 5, 7, 9, 3, 1, 2, 3, 1, 2, 3, 4, 5, 6, 8, 9, 1, 2, 3, 4, 5, 7, 8, 9, 1, 2, 3, 4, 5, 6, 8, 5, 5, 6, 6, 6, 7, 2, 8, 9, 1, 2, 4, 5, 8, 9, 3, 9, 3, 5, 6, 7, 1, 9, 1, 4, 6, 7, 8, 9, 1, 2, 5, 6, 7, 1, 2, 6, 2, 6, 6, 1, 3, 2, 6, 1, 1, 4, 6, 7, 1, 2, 3, 5, 6, 9, 1, 3, 4, 5, 6, 7, 8, 9, 1, 3, 4, 7, 8, 9, 3, 6, 3, 1, 4, 5, 7, 8, 2, 3, 4, 5, 7, 1, 6, 7, 9, 6, 7, 7, 5, 7, 6, 1, 2, 3, 4, 5, 6, 8, 9, 2, 1, 2, 3, 4, 5, 6, 8, 9, 2, 3, 6, 8, 5, 9, 9, 7, 1, 1, 2, 3, 4, 5, 6, 7, 8, 1, 1, 2, 3, 4, 6, 7, 1, 4, 5, 6, 7, 8, 9, 1, 3, 6, 7, 1, 2, 3, 7, 8, 9, 1, 2, 3, 5, 8, 9, 2, 3, 5, 5, 8, 8, 8, 8, 1, 1, 4, 8, 9, 7, 3, 4, 6, 1, 3, 5, 6, 7, 3, 6, 7, 1, 6, 7, 9, 1, 2, 6, 7, 1, 2, 3, 6, 7, 1, 2, 5, 8, 9, 1, 2, 3, 5, 8, 9, 9, 2, 4, 1, 2, 3, 4, 5, 7, 9, 1, 3, 4, 6, 7, 8, 1, 2, 3, 4, 8, 9, 2, 3, 4, 7, 1, 1, 2, 3, 5, 6, 8, 1, 2, 3, 4, 5, 6, 7, 8, 9, 1, 2, 3, 4, 5, 6, 8, 9, 1, 6, 2, 8, 4, 1, 9, 1, 2, 3, 4, 5, 6, 8, 9, 4, 3, 6, 7, 1, 7, 2, 5, 6, 4, 2, 3, 4, 7, 9, 2, 7, 4, 5, 2, 1, 3, 4, 5, 6, 7, 9, 4, 4, 1, 2, 3, 4, 9, 1, 2, 3, 4, 6, 9, 7, 6, 2, 6, 7, 8, 6, 4, 4, 7, 1, 2, 3, 4, 5, 6, 7, 8, 9, 3, 4, 5, 4, 5, 9, 1, 3, 4, 5, 6, 7, 5, 5, 9, 4, 5, 9, 9, 3, 5, 6, 3, 5, 6, 7, 7, 7, 1, 2, 3, 6, 7, 6, 7, 2, 6, 4, 4, 7, 7, 1, 2, 4, 1, 7, 2, 1, 4, 5, 6, 7, 9, 1, 2, 3, 5, 6, 7, 8, 9, 1, 3, 1, 2, 3, 4, 5, 8, 9, 1, 2, 3, 5, 6, 7, 8, 9, 1, 3, 8, 8, 8, 3, 1, 7, 1, 2, 3, 4, 5, 9, 3, 7, 9, 2, 6, 9, 1, 3, 1, 3, 5, 7, 8, 3, 7, 9, 9, 1, 4, 6, 2, 3, 4, 7, 8, 2, 2, 2, 5, 1, 5, 6, 8, 1, 3, 4, 5, 6, 7, 8, 9, 3, 8, 4, 1, 2, 3, 5, 6, 7, 8, 3, 8, 3, 8, 8, 6, 9, 2, 3, 7, 1, 2, 4, 5, 6, 7, 8, 9, 4, 7, 4, 5, 6, 7, 3, 5, 6, 8, 9, 2, 3, 5, 6, 3, 1, 3, 5, 6, 8, 9, 4, 3, 5, 6, 7, 9, 1, 3, 9, 1, 3, 4, 1, 2, 3, 4, 5, 6, 8, 9, 1, 5, 1, 2, 3, 5, 7, 8, 1, 2, 3, 4, 6, 8, 4, 1, 7, 2, 3, 6, 8, 9, 4, 2, 3, 4, 9, 2, 4, 8, 1, 2, 3, 4, 5, 6, 2, 7, 8, 2, 2, 3, 8, 3, 2, 3, 6, 9, 9, 7, 7, 2, 3, 6, 8, 2, 3, 5, 6, 8, 1, 6, 8, 9, 6, 1, 3, 8, 9, 2, 3, 8, 8, 1, 2, 3, 4, 5, 6, 7, 8, 3, 6, 7, 1, 2, 3, 5, 6, 7, 8, 9, 2, 3, 8, 8, 6, 6, 1, 2, 5, 6, 9, 1, 2, 4, 5, 6, 8, 3, 6, 1, 6, 1, 2, 3, 4, 5, 6, 7, 8, 9, 4, 7, 8, 4, 6, 6, 6, 6, 7, 1, 3, 4, 5, 5, 8, 5], \"Freq\": [1.0001432930079794, 1.0007142849128026, 0.010418865686680672, 0.9897922402346637, 0.999856507531777, 1.001157682961969, 1.0022384327774276, 1.0049623521900966, 0.9964482026138753, 1.002714885704556, 0.4872013274203289, 0.054947518130112276, 0.4578959844176023, 0.14521295550877816, 0.8557192021052998, 0.9992134673247253, 0.5484377505198865, 0.07153535876346345, 0.05961279896955288, 0.32190911443558556, 0.9711058163610401, 0.03273390392228225, 1.0036918990542243, 1.0035126821692657, 0.13050735015879647, 0.1535380590103488, 0.026573894828714216, 0.2574715143404311, 0.09330389739859658, 0.09035124241762833, 0.06436787858510777, 0.04606141770310464, 0.13759372211312026, 0.7151144062143162, 0.28342949026786923, 1.0024077322525262, 0.9974522944501234, 0.14837396368790431, 0.6178557592376911, 0.008858147085845033, 0.06348338744855607, 0.0723415345344011, 0.01181086278112671, 0.02509808340989426, 0.0531488825150702, 0.8735231334142588, 0.12361176416239511, 1.0028926658712707, 1.0034895620716995, 0.9967539744484512, 0.5470914540226981, 0.4545067464188569, 0.20947994490274605, 0.7873556549792868, 1.0026313159675864, 1.004089187643815, 0.997391339409945, 0.9991274744413904, 1.0021400733040868, 0.053973747858586704, 0.3306842298378199, 0.08666207402646316, 0.10566691482174016, 0.14215620914867202, 0.057014522385831025, 0.025846583481576733, 0.13759504735780553, 0.06081549054488643, 1.0013337227027606, 0.9992450765463217, 0.6793807931387605, 0.042908260619290144, 0.08939220962352112, 0.05005963738917183, 0.05005963738917183, 0.08939220962352112, 1.00397738067649, 0.3231448627929378, 0.03351131910445281, 0.18431225507449045, 0.02154299085286252, 0.030319764904028733, 0.10851284281441863, 0.29920820628975725, 1.0050342385149513, 0.9971270811909174, 1.0029161314118935, 0.004567572670505418, 0.9957308421701812, 1.0010153204286956, 1.0021631312591208, 0.015544975572275844, 0.8782911198335852, 0.10622399974388493, 1.0007832987994876, 1.001984459856216, 0.09098657633622853, 0.08188791870260567, 0.8279778446596796, 0.999641545696462, 0.22064151427393539, 0.10451440149817992, 0.0638699120266655, 0.6096673420727161, 1.0018081278557973, 0.3487782906601662, 0.34498722228342527, 0.018955341883704683, 0.2862256624439407, 0.03728711570660874, 0.21750817495521765, 0.09321778926652186, 0.5530922163146963, 0.09943230855095665, 0.44388862638572557, 0.5564020629348853, 0.9992206993324486, 1.00322862058275, 0.9605704142669484, 0.03590917436511957, 0.0731159426269484, 0.927816099541966, 0.14329224153851783, 0.859753449231107, 0.010866692720833777, 0.9888690375958737, 0.9968170436425517, 0.1068128095701936, 0.049498619069114104, 0.14068028577537692, 0.13025952386608974, 0.033867476205183336, 0.10941800004751538, 0.432461619235418, 0.9999077010472388, 0.6786332953212606, 0.05940291444456658, 0.10620521067361904, 0.07020344434357868, 0.08640423919209685, 1.0020662168284187, 0.9981002054949158, 1.0021162604642972, 1.0031755063027747, 1.0036089315601782, 0.15146948155676213, 0.8482290967178678, 0.9991344429727853, 0.12312441859212783, 0.09563061638223522, 0.20082429440269395, 0.1159521223634602, 0.18887046735491456, 0.21516888686002922, 0.06096451794367495, 0.5016994659345174, 0.3112279565350604, 0.0448168257410487, 0.017428765565963383, 0.08589891600367668, 0.038592266610347495, 0.45037832984190423, 0.195816665148654, 0.05874499954459621, 0.2961727060373392, 1.0020126668947296, 0.1278858275587131, 0.7196712256735425, 0.0977950446037218, 0.055166435417484096, 1.0048251432128135, 0.028630337589045828, 0.0035787921986307285, 0.32209129787676555, 0.07157584397261457, 0.37935197305485724, 0.1449410840445445, 0.0501030907808302, 0.16500895060294105, 0.295878118322515, 0.5405465623199792, 0.16828155687946203, 0.144884121163601, 0.0458949700580351, 0.13408530467935745, 0.0602933920370265, 0.17278106374789684, 0.20067800633219268, 0.07289201126864397, 0.17324425774151805, 0.8259602992324487, 1.0014534473244205, 1.0044594357105154, 0.020559681651976257, 0.037007426973557266, 0.22204456184134358, 0.5838949589161258, 0.06990291761671928, 0.06579098128632402, 0.05637308818559563, 0.16454847362281969, 0.26053508323613117, 0.3900408263652022, 0.12798214615108197, 0.062409813942210186, 0.1381931594434654, 0.31353501766205594, 0.0668676577952252, 0.24815330781783573, 0.07578334550125523, 0.0965866168153253, 0.9996197624902047, 1.0027739988327566, 0.032737236609962514, 0.02046077288122657, 0.495150703725683, 0.351925293557097, 0.10093981288071774, 1.0019608787148784, 0.6284016132677502, 0.3713282260218524, 0.5934568551293898, 0.24202430404718134, 0.0862004370579002, 0.07791193349464057, 1.0026672317080427, 1.0025649652520372, 1.002570489281661, 0.15438918661019982, 0.15265447664828746, 0.04163303908589658, 0.07979665824796844, 0.04857187893354601, 0.38510561154454337, 0.1387767969529886, 1.005159282708973, 1.0024948930159696, 0.09895117957617319, 0.8311899084398547, 0.05442314876689525, 0.014842676936425978, 1.001984459856216, 1.0028896395591766, 0.09719679248951242, 0.03779875263481038, 0.03779875263481038, 0.08909705978205305, 0.739775587281289, 0.07698175757659506, 0.24564179008531697, 0.052487561984042086, 0.2638374782397849, 0.1032255385686161, 0.01784577107457431, 0.1690099495886155, 0.07103316721840362, 1.0035350807797474, 0.0721856662759945, 0.04210830532766346, 0.8872821479757657, 0.05081698925895342, 0.9485837995004639, 0.8239942126567471, 0.1746212900994431, 0.08531929943433456, 0.7160726916810222, 0.0457067675541078, 0.10360200645597768, 0.048753885391048316, 0.25304857005289744, 0.1575585436178418, 0.5920381638973449, 0.18504105024233702, 0.12336070016155802, 0.10767925522576674, 0.02195402291010778, 0.24985768931027427, 0.07318007636702595, 0.07736179501657028, 0.05331691278169033, 0.10872468488815283, 1.0035124381610767, 0.14206150789216745, 0.10450501729998525, 0.17226998945544444, 0.10123923550936072, 0.15839041684529015, 0.1126694717765466, 0.14206150789216745, 0.06613208126014691, 0.1719785508997014, 0.16551319184332164, 0.08534273954421272, 0.4629197084367902, 0.03361986709317471, 0.024568364414243055, 0.05560208788486586, 1.003094514422209, 0.9969784974702113, 0.9980310956599404, 0.2181515274384764, 0.1234593809129839, 0.04434948634738257, 0.10667849418694725, 0.37756995133582455, 0.04195221681509161, 0.08869897269476514, 1.0007257260869231, 0.14858653408893, 0.8543725710113474, 0.0698891308011853, 0.9299661819220784, 1.0021631312591208, 1.0024809266931631, 0.1565629693412015, 0.1998676204355764, 0.03664239707985567, 0.013324508029038427, 0.5962717342994696, 0.997391339409945, 1.002718633609292, 1.0023242417871043, 1.003529620559121, 0.017228604064607946, 0.9820304316826529, 0.2245305426899161, 0.2178832568865962, 0.1100495094105181, 0.1506718115419174, 0.05317828642655908, 0.17799954206667692, 0.06573427072171886, 1.0015807115543367, 0.9684809846532715, 0.034588606594759694, 0.03570193397977047, 0.9639522174538028, 1.0033792615750579, 0.2008714751657936, 0.8034859006631744, 0.01574963939586443, 0.0508834503558697, 0.31256976647177104, 0.05815251469242252, 0.4482589674207569, 0.027864746623452456, 0.08722877203863377, 1.0052957300488663, 1.0013074984430612, 1.0005830590463214, 0.26100816000794314, 0.7395231200225055, 1.000043202424253, 0.1725343644740318, 0.6520194006286086, 0.03811805726751866, 0.002006213540395719, 0.022068348944352906, 0.11435417180255597, 0.9996632712685444, 1.0009890615469483, 0.07773356020282458, 0.13769944950214638, 0.06662876588813535, 0.4130983485064392, 0.07995451906576242, 0.20432821539028176, 0.02220958862937845, 0.9994278469126886, 0.9991333784040904, 0.9953460137165445, 0.7426579124359478, 0.08894106735759853, 0.1689880279794372, 0.17155428393673583, 0.13654320558229996, 0.12463943894179175, 0.10503323506330765, 0.4145311677165209, 0.04761506656203281, 0.07742172491038783, 0.44788051614826513, 0.09573654155585593, 0.13819361650671377, 0.149016008160854, 0.09240657489304355, 1.002570489281661, 0.9825960848241148, 0.021360784452698147, 0.997907872894577, 1.0036918990542243, 1.0041688192913674, 0.9990822635430054, 0.49674955532920395, 0.4682899453884683, 0.033634084475414855, 0.04547927440958002, 0.9550647626011805, 1.0016560639687027, 0.10904300527740639, 0.3060239180365921, 0.24622614094898215, 0.04924522818979643, 0.17880707854628466, 0.07504034771778503, 0.03400265755962135, 0.0023450108661807823, 1.001981168338536, 0.07239345656100588, 0.02413115218700196, 0.15685248921551273, 0.7480657177970607, 1.005159282708973, 1.0023294409637253, 0.9982180498696611, 1.00261731333154, 0.9988770240374787, 0.04081451972702004, 0.9591412135849711, 1.0045031475955917, 0.03570872300151448, 0.9284267980393764, 0.03570872300151448, 1.0005210987634778, 0.9993907161660018, 0.2653093377933366, 0.19337538655750372, 0.07320337390470052, 0.0012694226688676393, 0.033851271169803715, 0.4074846767065122, 0.025388453377352786, 0.33043596989772756, 0.019647544156081095, 0.09020008908019049, 0.25675767931242344, 0.13753280909256768, 0.03304359698977275, 0.047779255106833576, 0.08484166794671383, 0.10070332758899027, 0.16112532414238442, 0.4399145363097996, 0.12614416824305097, 0.043461436117353695, 0.13038430835206108, 1.0043659253834767, 1.0047301743282515, 0.7559496150709919, 0.0011068076355358594, 0.21914791183610016, 0.024349767981788905, 1.0008902371282817, 0.997127188806678, 0.9945236739793795, 0.1846622232826421, 0.8125137824436252, 0.992320807340409, 0.011538614038841965, 0.17711527474071076, 0.12721374892090734, 0.04357598029334948, 0.19187488096910335, 0.2937864477841949, 0.08785479897852717, 0.02178799014667474, 0.05692990973808561, 0.26876533900064337, 0.07094313516768251, 0.04365731394934308, 0.17872212898012324, 0.4311159752497629, 0.008185746365501827, 1.0004626208767886, 0.9460180172673045, 0.00026484267000764403, 0.05376306201155174, 1.0017594945619865, 0.524027097312997, 0.27139695398028496, 0.2049913163042578, 0.9456401104044054, 0.017546668715257358, 0.03697333765000658, 0.7048981181444292, 0.07867166497147647, 0.041958221318120784, 0.17517557400315426, 0.8099489102763855, 0.08099489102763854, 0.10958132315504039, 1.003920085872595, 1.0020380724392903, 0.2371678633977354, 0.7603322679515635, 1.0024948930159696, 0.7733402739506845, 0.15950143150232868, 0.03383363698534245, 0.03383363698534245, 0.1359895043178631, 0.21531671516994993, 0.5855103658130217, 0.052884807234724544, 0.01133245869315526, 0.2182601960717539, 0.08014949108859012, 0.3839930420515504, 0.09328132861157946, 0.17999673846166425, 0.044376554388032945, 1.0025706349454189, 1.0008103357660512, 0.9990859379619688, 0.9990859379619688, 0.11700442251736573, 0.07262343466595114, 0.01613854103687803, 0.06455416414751212, 0.6657148177712189, 0.06455416414751212, 0.7881321740736325, 0.2127473353327597, 0.6722157501348438, 0.06991043801402375, 0.08604361601726, 0.17208723203452, 0.966637984767191, 0.029973270845494292, 0.999294249572033, 1.0046235979817788, 0.86090777551557, 0.1195705243771625, 0.017935578656574372, 0.8043523245419061, 0.041844918617787025, 0.0650920956276687, 0.05579322482371603, 0.03254604781383435, 0.12849881191018797, 0.018356973130026856, 0.8535992505462487, 0.04463721847671638, 0.12017712666808256, 0.14764618419221573, 0.6901600702938455, 1.0023292474371555, 1.0029476674374804, 0.92722453197015, 0.07185134749584189, 1.0012678492644738, 1.001626057250655, 0.998072060218376, 0.9985727740347892, 1.0003330193914348, 0.8262266670153721, 0.10404335806860242, 0.06732217286791921, 0.16710044087903472, 0.5729157972995477, 0.2100691256765008, 0.04774298310829564, 0.002387149155414782, 0.07773162325734748, 0.0710878947738135, 0.36274757520095485, 0.03122552387260967, 0.08703284313429503, 0.10231341864642317, 0.06710165768369311, 0.1408470438509202, 0.05912918350345235, 1.0005850768163627, 0.7366416233680281, 0.12829151867645433, 0.1365683908491288, 0.997507413001893, 0.013739299233391598, 0.9823598951874992, 0.5087056232266327, 0.03584838284482982, 0.02048479019704561, 0.09474215466133597, 0.26886287133622366, 0.07169676568965964, 1.0022281184778512, 1.003209768957096, 0.3716084701066322, 0.6002906055568675, 0.028585266931279402, 0.9304803132985796, 0.013537540930629189, 0.05595516917993398, 1.0021125362236591, 0.9972213983769099, 0.9966409718232462, 0.8517770112014531, 0.03356756694389963, 0.11329053843566125, 0.9672060563557523, 0.02872889276304215, 0.08038485550750414, 0.19522036337536722, 0.1837368125885809, 0.1125387977105058, 0.39044072675073443, 0.03904407267507344, 0.13040627241713007, 0.8693751494475338, 0.061959423987959034, 0.9397179304840454, 0.7832272720642339, 0.21774368144524348, 0.04579630850766517, 0.020989974732679866, 0.4732285212458734, 0.261420594397922, 0.07823536036726132, 0.07823536036726132, 0.043888128986512454, 0.9975093570570986, 1.0022281184778512, 0.25633443210070916, 0.0056544360022215264, 0.46366375218216516, 0.09109924670245792, 0.10303638937381447, 0.027015638677280625, 0.05340300668764775, 0.06541046287005906, 0.9012108217652581, 0.036339146038921695, 0.9237070570305176, 0.07894932111371945, 0.07728582314745086, 0.052554359740266586, 0.06492009144385873, 0.030914329258980345, 0.6461094815126892, 0.12984018288771745, 1.0018562715533563, 0.9984749113890391, 0.0689451625287617, 0.930759694138283, 1.0047301743282515, 0.9548857648098948, 0.050257145516310255, 0.997907872894577, 1.0004191239175184, 0.6161147706648024, 0.38307654134599106, 1.0018608015857164, 1.0034155065581691, 0.04441316833635352, 0.9548831192316006, 0.3472126008306786, 0.6535766603871598, 1.001706813513951, 0.9424686111442696, 0.05739658796906849, 0.14446703399005392, 0.8552448412211192, 0.1275848042351346, 0.6628186171239919, 0.1089138572738954, 0.03734189392247842, 0.06534831436433723, 0.019248845472379365, 0.03849769094475873, 0.9431934281465888, 0.17957563507353708, 0.03830946881568791, 0.653655311667675, 0.0838019630343173, 0.045492494218629394, 0.8753238469401253, 0.12188053564989086, 0.9978701738160292, 0.15880624494588358, 0.44693973128482206, 0.03423368154522041, 0.05705613590870069, 0.07227110548435421, 0.06466362069652745, 0.1673646653321887, 1.0027440873965383, 1.001626057250655, 1.0015569252899064, 1.000680422479757, 0.9982298566304263, 1.0050342385149513, 0.903784837239617, 0.03966453831145655, 0.056663626159223636, 0.5665178808316101, 0.07888223657149002, 0.12047468858191203, 0.17354092045727804, 0.06167156677407402, 0.12366749650167935, 0.8769149751937263, 0.036029018155317144, 0.04391036587679276, 0.06642850222386598, 0.5663311291288913, 0.11259068173536607, 0.11709430900478071, 0.057421247685036696, 0.9949966662806751, 0.3241417165222005, 0.025590135514910562, 0.6525484556302193, 0.05076620889812159, 0.3942842224420777, 0.08291814120026526, 0.03892076015522655, 0.4332049825973043, 0.9998167744028105, 0.004367865269183901, 0.28827910776613747, 0.6857548472618725, 0.021839326345919507, 0.1664758629419181, 0.40673604186917384, 0.053493629089369804, 0.0756289238849711, 0.058105148838453406, 0.10053113053002256, 0.025363358619959822, 0.11390453780236501, 0.07913934668454062, 0.1681711117046488, 0.4327933021810815, 0.2596759813086489, 0.06182761459729735, 0.09771091538013188, 0.28010462408971143, 0.07909931245058295, 0.15075398372934634, 0.0902662742083123, 0.0921274345012672, 0.07351583157171827, 0.00837522131829702, 0.12935064036036506, 1.0024970589082176, 1.002414573171218, 0.12264002442744223, 0.05621001119591102, 0.12775002544525232, 0.24017004783707438, 0.4547900905850983, 0.10535379974240275, 0.052676899871201374, 0.07901534980680205, 0.76381504813242, 1.0008902371282817, 0.009520845699146796, 0.028562537097440385, 0.9616054156138263, 0.25208452824822875, 0.29804924599095567, 0.14098595038576328, 0.03483424797542981, 0.08760091946483829, 0.041430081911605875, 0.1333595173970597, 0.011542709388308104, 0.25976232692614953, 0.39086494333715294, 0.11725948300114587, 0.021171851097429115, 0.06188694936171588, 0.058629741500572936, 0.05781543953528721, 0.03338638057671515, 0.14939609404562537, 0.44126263539303917, 0.05342641773817066, 0.07271929081028784, 0.042543258569284044, 0.06876177838523817, 0.172151790489661, 1.0020399027837061, 0.9017971556563865, 0.09879238502977268, 0.9991274744413904, 1.0002815247024588, 1.00270986617936, 0.3986723036270914, 0.2798626767183555, 0.3221060996192394, 0.5679526388293147, 0.2813223351210624, 0.08846614311983095, 0.03892510297272561, 0.005307968587189856, 0.01769322862396619, 1.001157682961969, 0.9964482026138753, 0.35060943112536896, 0.04297793026698071, 0.5157351632037686, 0.0927418495234847, 1.0029608523342366, 0.997992447496442, 0.638133923525604, 0.13520857389552404, 0.025272630634677388, 0.17311751984754012, 0.025272630634677388, 0.002527263063467739, 0.5920494133706322, 0.10596993391069681, 0.018429553723599446, 0.10366623969524688, 0.18199184302054452, 0.8235224323876166, 0.17705732296333757, 0.9991274744413904, 1.0051399723829932, 1.000721509195127, 0.9981337789440066, 1.002760425978078, 1.0006012671880828, 0.9697457522771962, 0.028166889070292005, 1.003094514422209, 0.024304325848231036, 0.9762237549039466, 0.8578092581877954, 0.14296820969796592, 0.37108004996165445, 0.4107500775744817, 0.09752215121486688, 0.08099297304285553, 0.018182095989212468, 0.0223143905322153, 0.04806883927360855, 0.23366796869115264, 0.04806883927360855, 0.09346718747646106, 0.08278522319343694, 0.07210325891041282, 0.3364818749152598, 0.08545571426419298, 0.04502739939232239, 0.587922520562966, 0.10638597991139384, 0.13764852663974203, 0.07325701248284576, 0.04969345114282212, 0.9627899477848518, 0.03945860441741196, 1.0019072922388996, 0.07340644846739057, 0.07524160967907534, 0.6551525525714609, 0.16332934783994402, 0.03486806302201052, 0.7434832852890412, 0.08356982664101625, 0.02737632252033291, 0.06627951768080599, 0.08068810848098121, 0.10395154256356709, 0.21115157083224564, 0.6432001696120714, 0.04223031416644913, 0.7962955218907308, 0.20510642230518825, 1.0027739988327566, 0.039345815392588454, 0.9639724771184172, 0.9989334273018702, 0.07723908048756417, 0.1455922490606298, 0.1380734005175926, 0.14285812231770717, 0.1913888720045838, 0.14012399557478455, 0.04784721800114595, 0.11688391825994224, 1.0043158377269985, 0.14144046670156887, 0.24838325859787705, 0.13540337361064825, 0.10004325693525604, 0.11642965246775486, 0.10090569880538755, 0.06985779148065292, 0.08796907075341479, 0.23114196780554155, 0.13519624532022242, 0.03488935363102514, 0.6018413501351837, 1.0019552287829123, 0.9968170436425517, 0.9969784974702113, 1.0023292474371555, 0.996476207101659, 0.2049605321164799, 0.17397812609887248, 0.15650087142227342, 0.15729529208939155, 0.06355365336945114, 0.0873862733829953, 0.05402060536403346, 0.10327468672535808, 1.0026672317080427, 0.24293686755671365, 0.15218458944644705, 0.30948853817090916, 0.018615851920054688, 0.17359281915450994, 0.10378337445430487, 0.08557759159181996, 0.5924602494818305, 0.06912036243954689, 0.03949734996545536, 0.055954579117728435, 0.08557759159181996, 0.0724118082700015, 0.15731266763085175, 0.02685826032721859, 0.8095847041490175, 0.007673788664919598, 0.042873541606154336, 0.09537175581777188, 0.32198904716458765, 0.08487211297544837, 0.13037056529218358, 0.32548892811202884, 0.0726522719448858, 0.10706650602404223, 0.17589497418235508, 0.0038238037865729367, 0.08029987951803166, 0.5620991566262217, 1.0041501987560066, 0.9833146937448408, 0.019155481046977417, 0.30695252217009966, 0.6923484666725581, 1.0011768826467473, 1.0016310747604236, 1.0019480579719475, 1.0033773785705198, 1.0021125362236591, 1.003140115980757, 1.0006266063022407, 0.9971270811909174, 1.0021415819437696, 0.9176986157224324, 0.00817913204743701, 0.07361218842693308, 0.11975538862181133, 0.05809030045087863, 0.16622762898251423, 0.25380992812383896, 0.40216361850608284, 0.005252179782951498, 0.37290476458955635, 0.6197572143882768, 0.2635579795601543, 0.23828529658863268, 0.48018097645891133, 0.01805191640822975, 0.28140651914219983, 0.1242070153455227, 0.4153172075615915, 0.18048831917396266, 0.058598508902097536, 0.3604696153674485, 0.1012156062854412, 0.04439280977431632, 0.43682524817927254, 1.0022597103688742, 0.19767620374322312, 0.1395361438187457, 0.511632527335401, 0.15407115879986508, 0.21266699142970402, 0.18590568327121385, 0.09480335762528976, 0.23772013098233316, 0.16882399721260308, 0.10021255821051649, 0.9981471352766655, 0.14441143703500794, 0.8539111059461338, 0.16326261260249514, 0.11479402448612938, 0.23894163615261005, 0.01955750046800723, 0.09268554569620817, 0.11734500280804337, 0.2533971799767893, 0.005939775400804304, 0.20789213902815065, 0.20195236362734634, 0.09800629411327103, 0.4157842780563013, 0.07127730480965165, 0.3409023321271997, 0.13253517521578506, 0.1035004074494404, 0.34261025964286707, 0.0450892864136176, 0.03518330682274706, 0.10928929541479446, 0.11969779974001298, 0.7494123114157334, 0.02081700865043704, 1.0028856830622854, 0.6921062444252952, 0.10043758164483176, 0.09678530594865606, 0.060262548986899055, 0.0328704812655813, 0.018261378480878502, 0.23332800315748833, 0.13102803780916011, 0.09949722657166168, 0.032231495931665056, 0.09949722657166168, 0.2879814093024856, 0.05255135206249737, 0.015415063271665896, 0.04974861328583084, 0.02878520779895054, 0.37633993900109414, 0.10981023715895948, 0.06290100963474378, 0.20043033578528527, 0.04477698990947862, 0.14712439541685832, 0.03091744541368762, 0.4321590020160224, 0.5686302658105558, 1.0049367680135495, 0.9995451960863414, 1.0026313159675864, 1.0025100056513805, 0.997907872894577, 0.20176579897672647, 0.11034067131539729, 0.14738361097128067, 0.08039106052978945, 0.11191696661990297, 0.1544769398415562, 0.08275550348654796, 0.11191696661990297, 1.0031032838076817, 0.0759927350510383, 0.38376331200774344, 0.539548418862372, 1.0018562715533563, 1.0034776210739451, 0.07469826255990253, 0.8270164783417779, 0.09604062329130325, 0.9959010993493547, 0.03165376032336415, 0.76251647636104, 0.08874357804943164, 0.0723514521676895, 0.04465441188474586, 1.0041501987560066, 1.0018081278557973, 0.9700471832245542, 0.033838855228763516, 1.0048251432128135, 0.06403262324026132, 0.1224971922857173, 0.10857705679870397, 0.10022497550649598, 0.055680541948053316, 0.10857705679870397, 0.44266030848702387, 1.0031755063027747, 1.0003927809927948, 0.24086718033726826, 0.3476489269514332, 0.20302048533477943, 0.09948274114939924, 0.10921474843575352, 0.30946707046478483, 0.18737595225402043, 0.1750820549341865, 0.3026842305641868, 0.025435649627242592, 0.9975093570570986, 1.0018081278557973, 1.0005861034991315, 0.8170168422168171, 0.026186437250539013, 0.12045761135247945, 0.03666101215075462, 0.9996961892758662, 0.9993038444552084, 0.9402205346606901, 0.06024296331922042, 0.2266001981424554, 0.11147855407008256, 0.15847441509962717, 0.042259844026567246, 0.14790945409298537, 0.10892839106847937, 0.06921871004351532, 0.05792513103641545, 0.07759781704878296, 1.0020849957220155, 1.0028940614285884, 1.0020916550520456, 0.2242381743424256, 0.09716987554838442, 0.680189128838691, 0.20481680511323724, 0.099927922217877, 0.029057055396687636, 0.099927922217877, 0.4500300043145524, 0.11693693025496245, 1.002692372261984, 1.0027513599547677, 0.9968170436425517, 0.04949723722314352, 0.1814898698181929, 0.7699570234711214, 1.000317810202642, 0.9177977667537999, 0.05668109723420142, 0.02616050641578527, 0.03106747339190563, 0.026629262907347684, 0.46601210087858447, 0.476367925342553, 1.0018081278557973, 1.0018081278557973, 0.055074430248907354, 0.20805895871809443, 0.4574237401228694, 0.1789918983089489, 0.10096978878966348, 0.09336973109461318, 0.9103548781724785, 0.9949343851291335, 0.9978029862073327, 1.0036560505564132, 0.0466530483433626, 0.9563874910389333, 1.0035656432888125, 1.0026672317080427, 0.9134217199811652, 0.08699254476011097, 1.0017594945619865, 1.0036695582343163, 1.004545002965697, 0.5455804088765629, 0.2223240166171994, 0.055012691228386756, 0.08729286542025007, 0.06819755110957036, 0.021823216355062517, 0.3583027758068532, 0.09873684446950216, 0.11400542866581692, 0.09059359956480095, 0.042752035749681346, 0.0793966378208368, 0.06412805362452202, 0.15268584196314766, 0.9327408584721106, 0.07084107785864131, 0.19265665071557606, 0.535679467843309, 0.12041040669723503, 0.025256817014541983, 0.018208402963972126, 0.010572621075854783, 0.09691569319533551, 0.13620829650789665, 0.35788062219721867, 0.2577274630002358, 0.01335375455959771, 0.08546402918142534, 0.04673814095859199, 0.06409802188606901, 0.03872588822283336, 1.0017594945619865, 0.06795818127599913, 0.9323012993801131, 1.0007045893442166, 0.9995451960863414, 1.001626057250655, 1.0016560639687027, 1.0039297910543379, 0.09721974307630175, 0.4262711811807077, 0.3041232988540722, 0.04985627850066757, 0.08350926648861817, 0.039885022800534055, 0.13305472116728384, 0.2621960681825887, 0.6065729935567351, 1.0052957300488663, 0.9989334273018702, 0.9986222904740937, 1.0033556759556663, 1.0020433306409093, 0.14566338515644206, 0.27889209109221225, 0.42277909350284404, 0.14211061966482152, 0.012434679220671884, 0.15349131546765715, 0.5773106193708896, 0.27032798843557526, 0.998072060218376, 0.27870937461092316, 0.14259549398698393, 0.579024127098662, 0.30722060112183686, 0.04597859336517287, 0.0689678900477593, 0.5789122891887675, 1.0018583253883095, 0.9952873175047868, 1.004024886659057, 1.0050995986442968, 1.0027513599547677, 0.5602510295374041, 0.33226566532784, 0.066453133065568, 0.040894235732657234, 0.2243075135175882, 0.13271527883123968, 0.08738646880789373, 0.12149990315536027, 0.08177878096995403, 0.07617109313201433, 0.17991331813389888, 0.0962653078846316, 1.0013343765071425, 1.0016990267587247, 1.003273825856221, 0.08450720358010703, 0.007042266965008919, 0.28309913199335857, 0.08873256375911238, 0.31690201342540136, 0.15492987323019622, 0.06478885607808206, 0.8954298057282031, 0.10521300217306385, 0.922104267023098, 0.07869161140897335, 0.9999720282814288, 0.9980310956599404, 0.9975093570570986, 0.06749823082502822, 0.930511324945032, 1.0027739988327566, 0.08179626894974762, 0.1880373998844773, 0.11658318792837591, 0.2134224488688817, 0.05359065896707602, 0.16923365989602956, 0.10718131793415205, 0.07051402495667898, 0.859894039795593, 0.13758304636729488, 0.7062795868126814, 0.10541486370338529, 0.1317685796292316, 0.05797817503686191, 0.17677442053958173, 0.17038498365260887, 0.31237247002978297, 0.024847810116005464, 0.3159221571892123, 0.005861983830232871, 0.8617116230442319, 0.052757854472095835, 0.08206777362326018, 1.0022498785009097, 0.13546165421249376, 0.22109833216292082, 0.31140610163791665, 0.11054916608146041, 0.0840796474422375, 0.1385757152288729, 1.0026313159675864, 0.054099251387949104, 0.10098526925750499, 0.23984001448657435, 0.3552517507808658, 0.2506598647641642, 0.17106489299174021, 0.042766223247935053, 0.786898507762005, 0.4755618449303559, 0.14799642477085764, 0.3768975617497841, 0.12303576239690044, 0.39888664369440974, 0.12068476056766031, 0.10736241686863288, 0.14889678251854194, 0.047020036584802714, 0.021159016463161224, 0.0329140256093619, 0.9814841900430505, 0.021336612827022837, 0.33038568793264106, 0.20497397781943447, 0.09978996288577731, 0.03775836433515898, 0.22655018601095386, 0.10113847589774727, 0.2232046810610828, 0.05275747006898321, 0.04464093621221656, 0.05275747006898321, 0.5783030372946236, 0.04869920314059988, 1.0036373480088836, 0.040574659162136824, 0.9636481551007495, 0.19735327240691938, 0.07429770255319318, 0.025539835252660157, 0.6501048973404403, 0.051079670505320314, 1.0029396179791719, 0.006435652437737452, 0.1608913109434363, 0.8044565547171816, 0.02574260975094981, 0.4344540956306285, 0.5018113197594081, 0.06398936292234063, 0.16572421201445053, 0.04510215896595805, 0.030417735116576364, 0.7583456030787831, 1.0022281184778512, 0.9981337789440066, 0.9959321507739481, 1.0038412909530328, 1.0003992251694882, 1.0048829108469357, 0.834156434371016, 0.1657264439147714, 1.0013561197920071, 1.0018784403566456, 1.004089187643815, 0.018502355962773415, 0.09251177981386709, 0.888113086213124, 0.9969784974702113, 1.0018081278557973, 1.00270986617936, 0.034955884327798184, 0.029129903606498486, 0.06991176865559637, 0.8680711274736549, 0.07984435474384283, 0.0875216965461354, 0.03838670901146289, 0.09673450670888649, 0.6986381040086247, 0.45948423326301846, 0.04735142861870801, 0.3893339686427103, 0.10347164031495454, 0.9996495489475645, 0.020413860111407677, 0.6160182492442434, 0.3074087169717862, 0.05523750383086783, 0.04503869283114694, 0.8407222661814095, 0.11409802183890559, 1.0001105386418465, 0.14478153347430467, 0.36327002944461895, 0.04080206852457677, 0.08950131160229742, 0.051331634595435285, 0.23296664931774477, 0.04738304731886334, 0.030272502453718247, 0.9282929796086017, 0.07399436793981608, 1.0019271931243388, 0.13904561555331094, 0.015392503566787188, 0.41611067975548033, 0.012314002853429751, 0.14725495078893078, 0.12211386162984503, 0.08671110342623449, 0.062083097719374994, 0.06315210150675413, 0.9393875099129676, 0.9989482428087729, 1.0014814130256147, 0.9978029862073327, 0.9982298566304263, 0.27907722214898745, 0.017546771452481246, 0.5589900048433312, 0.06684484362849999, 0.07770713071813123, 0.2145451891528182, 0.16335344160697152, 0.26861287757202706, 0.1386203500960568, 0.08742860255021011, 0.1271165866026081, 0.6859690084515244, 0.3141353403189224, 0.7736065742118746, 0.22423378962663032, 0.2727099162648987, 0.1137094350503818, 0.15707320265434097, 0.18309146321671646, 0.051072881844663014, 0.08094569952739043, 0.08480025664774236, 0.017345507041583663, 0.040472849763695216, 0.8607125534915935, 0.06147946810654239, 0.07514157213021848, 1.003920085872595, 1.0005522803484068, 0.9999549101033017, 0.9985594063087263, 0.20447180670292364, 0.7931027653931584, 0.1308173309918941, 0.17678017701607313, 0.5763033770723984, 0.11667491683060827, 1.0023061142667422, 1.0003992251694882, 1.0019249168786575], \"Term\": [\"acid\", \"acidizing\", \"acids\", \"acids\", \"acoustic\", \"acp\", \"activation\", \"adaptive\", \"adiabatic\", \"adjacent\", \"adsorption\", \"adsorption\", \"adsorption\", \"agents\", \"agents\", \"air-water\", \"algorithm\", \"algorithm\", \"algorithm\", \"algorithm\", \"america\", \"america\", \"american\", \"analog\", \"analysis\", \"analysis\", \"analysis\", \"analysis\", \"analysis\", \"analysis\", \"analysis\", \"analysis\", \"analysis\", \"annular\", \"annular\", \"annuli\", \"annulus\", \"approach\", \"approach\", \"approach\", \"approach\", \"approach\", \"approach\", \"approach\", \"approach\", \"approximation\", \"approximation\", \"aromatics\", \"arps\", \"asp\", \"asphaltene\", \"asphaltene\", \"asphaltenes\", \"asphaltenes\", \"assessments\", \"asymptotic\", \"athabasca\", \"ball\", \"barite\", \"based\", \"based\", \"based\", \"based\", \"based\", \"based\", \"based\", \"based\", \"based\", \"basin\", \"basins\", \"basis\", \"basis\", \"basis\", \"basis\", \"basis\", \"basis\", \"battery\", \"behavior\", \"behavior\", \"behavior\", \"behavior\", \"behavior\", \"behavior\", \"behavior\", \"benchmark\", \"binary\", \"bit\", \"bitumen\", \"bitumen\", \"body\", \"breakout\", \"brine\", \"brine\", \"brine\", \"brines\", \"buckling\", \"cake\", \"cake\", \"cake\", \"camera\", \"capacity\", \"capacity\", \"capacity\", \"capacity\", \"capillaries\", \"capillary\", \"capillary\", \"capillary\", \"capillary\", \"carbon\", \"carbon\", \"carbon\", \"carbon\", \"carbon\", \"carbonate\", \"carbonate\", \"casing\", \"catalyst\", \"cells\", \"cells\", \"cement\", \"cement\", \"cementing\", \"cementing\", \"chamber\", \"chamber\", \"chamber-edge\", \"characteristics\", \"characteristics\", \"characteristics\", \"characteristics\", \"characteristics\", \"characteristics\", \"characteristics\", \"chelating\", \"chemical\", \"chemical\", \"chemical\", \"chemical\", \"chemical\", \"circulating\", \"circulation\", \"cleaning\", \"climate\", \"clusters\", \"coinjection\", \"coinjection\", \"combustion\", \"compared\", \"compared\", \"compared\", \"compared\", \"compared\", \"compared\", \"compared\", \"complex\", \"complex\", \"complex\", \"complex\", \"complex\", \"complex\", \"compositional\", \"compositional\", \"compositional\", \"compositional\", \"compressive\", \"computational\", \"computational\", \"computational\", \"computational\", \"computing\", \"concentration\", \"concentration\", \"concentration\", \"concentration\", \"concentration\", \"concentration\", \"concentration\", \"condensate\", \"condensate\", \"condensate\", \"conditions\", \"conditions\", \"conditions\", \"conditions\", \"conditions\", \"conditions\", \"conditions\", \"conditions\", \"conductivity\", \"conductivity\", \"conformance\", \"connections\", \"content\", \"content\", \"content\", \"content\", \"content\", \"content\", \"control\", \"control\", \"control\", \"control\", \"control\", \"conventional\", \"conventional\", \"conventional\", \"conventional\", \"conventional\", \"conventional\", \"conventional\", \"convergence\", \"conversion\", \"core\", \"core\", \"core\", \"core\", \"core\", \"corefloods\", \"cores\", \"cores\", \"coupled\", \"coupled\", \"coupled\", \"coupled\", \"crack\", \"creates\", \"cretaceous\", \"critical\", \"critical\", \"critical\", \"critical\", \"critical\", \"critical\", \"critical\", \"crm\", \"crude-oil\", \"curve\", \"curve\", \"curve\", \"curve\", \"cutting\", \"cuttings\", \"damage\", \"damage\", \"damage\", \"damage\", \"damage\", \"data\", \"data\", \"data\", \"data\", \"data\", \"data\", \"data\", \"data\", \"dca\", \"decline\", \"decline\", \"decline\", \"deconvolution\", \"deconvolution\", \"deformation\", \"deformation\", \"demonstrate\", \"demonstrate\", \"demonstrate\", \"demonstrate\", \"demonstrate\", \"deposition\", \"deposition\", \"deposition\", \"design\", \"design\", \"design\", \"design\", \"design\", \"design\", \"design\", \"design\", \"design\", \"desorption\", \"developed\", \"developed\", \"developed\", \"developed\", \"developed\", \"developed\", \"developed\", \"developed\", \"development\", \"development\", \"development\", \"development\", \"development\", \"development\", \"development\", \"dfn\", \"dilution\", \"dispersants\", \"distribution\", \"distribution\", \"distribution\", \"distribution\", \"distribution\", \"distribution\", \"distribution\", \"divalent\", \"drill\", \"drill\", \"drilling\", \"drilling\", \"drillpipe\", \"drillstring\", \"drop\", \"drop\", \"drop\", \"drop\", \"drop\", \"dust\", \"eccentric\", \"eccentricity\", \"edfm\", \"edge\", \"edge\", \"effect\", \"effect\", \"effect\", \"effect\", \"effect\", \"effect\", \"effect\", \"effluent\", \"embedded\", \"embedded\", \"embedment\", \"embedment\", \"emission\", \"emissions\", \"emissions\", \"energy\", \"energy\", \"energy\", \"energy\", \"energy\", \"energy\", \"energy\", \"ensemble\", \"entrainment\", \"eor\", \"eos\", \"eos\", \"eot\", \"equation\", \"equation\", \"equation\", \"equation\", \"equation\", \"equation\", \"es-sagd\", \"esp\", \"estimate\", \"estimate\", \"estimate\", \"estimate\", \"estimate\", \"estimate\", \"estimate\", \"etching\", \"ethane\", \"eur\", \"examples\", \"examples\", \"examples\", \"experimental\", \"experimental\", \"experimental\", \"experimental\", \"experimental\", \"experimental\", \"experiments\", \"experiments\", \"experiments\", \"experiments\", \"experiments\", \"experiments\", \"exploitation\", \"exploration\", \"exploration\", \"explosion\", \"exponential\", \"extraction\", \"fabric\", \"failure\", \"failure\", \"failure\", \"fall\", \"fall\", \"far-field\", \"field\", \"field\", \"field\", \"field\", \"field\", \"field\", \"field\", \"field\", \"film\", \"filter\", \"filter\", \"filter\", \"filter\", \"fine-scale\", \"fingering\", \"fire\", \"fixed-stress\", \"flame\", \"flash\", \"flash\", \"flight\", \"flood\", \"flood\", \"flood\", \"flooding\", \"floods\", \"flow\", \"flow\", \"flow\", \"flow\", \"flow\", \"flow\", \"flow\", \"fluid\", \"fluid\", \"fluid\", \"fluid\", \"fluid\", \"fluid\", \"fluid\", \"fluid\", \"fluids\", \"fluids\", \"fluids\", \"fluids\", \"fluids\", \"fluids\", \"fluxes\", \"fmm\", \"foam\", \"foam\", \"foam\", \"foam\", \"foaming\", \"foams\", \"forecast\", \"forecasting\", \"forecasting\", \"forecasts\", \"forecasts\", \"formation\", \"formation\", \"formation\", \"formation\", \"formation\", \"formation\", \"formation\", \"formation\", \"formations\", \"formations\", \"formations\", \"formations\", \"formations\", \"formations\", \"four-phase\", \"fracture\", \"fracture\", \"fracture\", \"fracture-propagation\", \"fractured\", \"fractured\", \"fractured\", \"fractures\", \"fractures\", \"fractures\", \"fracturing\", \"fracturing\", \"fracturing\", \"fracturing\", \"framework\", \"framework\", \"framework\", \"frontier\", \"fts\", \"fuel\", \"fuel\", \"fuels\", \"functions\", \"functions\", \"functions\", \"functions\", \"future\", \"future\", \"future\", \"future\", \"future\", \"gas\", \"gas\", \"gas\", \"gas\", \"gas\", \"gas\", \"gas-in-place\", \"gas-liquid\", \"gas/liquid\", \"gas\\u2013liquid\", \"generation\", \"generation\", \"generation\", \"generation\", \"generation\", \"generation\", \"geologic\", \"geologic\", \"geological\", \"geological\", \"geological\", \"geological\", \"geomechanical\", \"geomechanical\", \"geomechanics\", \"geometric\", \"geometries\", \"geometries\", \"geometries\", \"geometry\", \"geometry\", \"geometry\", \"geometry\", \"geometry\", \"geothermal\", \"geothermal\", \"geothermal\", \"gradient\", \"gradient\", \"gradient\", \"gradient\", \"greatest\", \"greenhouse\", \"grid\", \"grid\", \"gridblock\", \"gypsum\", \"hazard\", \"hazards\", \"hcl\", \"height\", \"height\", \"height\", \"heterogeneous\", \"heterogeneous\", \"heterogeneous\", \"heterogeneous\", \"heterogeneous\", \"high\", \"high\", \"high\", \"high\", \"high\", \"high\", \"high\", \"high\", \"high\", \"high-viscosity\", \"history\", \"history\", \"history\", \"holdup\", \"hole\", \"hole\", \"horizontal\", \"horizontal\", \"horizontal\", \"horizontal\", \"horizontal\", \"horizontal\", \"hpht\", \"huff-n-puff\", \"hydrate\", \"hydrate\", \"hydrate\", \"hydraulic\", \"hydraulic\", \"hydraulic\", \"hydraulic-fracture\", \"ift\", \"ignition\", \"imbibition\", \"imbibition\", \"imbibition\", \"implicit\", \"implicit\", \"in-situ\", \"in-situ\", \"in-situ\", \"in-situ\", \"in-situ\", \"in-situ\", \"incidents\", \"incidents\", \"inclined\", \"inclined\", \"induced\", \"induced\", \"industry\", \"industry\", \"industry\", \"industry\", \"industry\", \"industry\", \"industry\", \"infinite-acting\", \"influx\", \"injection\", \"injection\", \"injection\", \"injection\", \"injection\", \"injection\", \"injection\", \"instability\", \"instability\", \"instability\", \"integrity\", \"integrity\", \"interpretation\", \"interpretation\", \"interpretation\", \"interpretation\", \"interpretation\", \"interpretation\", \"irregular\", \"isc\", \"isolated\", \"isolated\", \"iteration\", \"iterative\", \"iterative\", \"j-t\", \"jetting\", \"kerogen\", \"kerogen\", \"kick\", \"late\", \"leakoff\", \"leakoff\", \"learning\", \"learning\", \"lift\", \"liquid\", \"liquid\", \"loading\", \"loading\", \"local\", \"local\", \"local\", \"local\", \"local\", \"logs\", \"logs\", \"logs\", \"loss\", \"loss\", \"loss\", \"loss\", \"loss\", \"losses\", \"losses\", \"lost\", \"low\", \"low\", \"low\", \"low\", \"low\", \"low\", \"low\", \"lrs\", \"lsw\", \"lswi\", \"magnetic\", \"magnetization\", \"marching\", \"matching\", \"matching\", \"matching\", \"matrix\", \"matrix\", \"matrix\", \"matrix\", \"matrix\", \"maturity\", \"maturity\", \"measurements\", \"measurements\", \"measurements\", \"measurements\", \"measurements\", \"measurements\", \"measurements\", \"mechanics\", \"mechanistic\", \"mechanistic\", \"mechanistic\", \"media\", \"media\", \"media\", \"media\", \"media\", \"meg\", \"methane\", \"methane\", \"methane\", \"methane\", \"method\", \"method\", \"method\", \"method\", \"method\", \"method\", \"method\", \"method\", \"methodology\", \"methodology\", \"methodology\", \"methodology\", \"methodology\", \"methods\", \"methods\", \"methods\", \"methods\", \"methods\", \"methods\", \"methods\", \"methods\", \"methods\", \"microemulsion\", \"micromodel\", \"mixture\", \"mixture\", \"mixture\", \"mixture\", \"mixture\", \"mixtures\", \"mixtures\", \"mixtures\", \"mixtures\", \"mmp\", \"mobility\", \"mobility\", \"mobility\", \"model\", \"model\", \"model\", \"model\", \"model\", \"model\", \"model\", \"model\", \"modeling\", \"modeling\", \"modeling\", \"modeling\", \"modeling\", \"modeling\", \"modeling\", \"modeling\", \"models\", \"models\", \"models\", \"models\", \"models\", \"models\", \"models\", \"mpd\", \"mud\", \"mud\", \"mudrock\", \"mudrocks\", \"multi-component\", \"multiphase\", \"multiphase\", \"multiphase\", \"multiple\", \"multiple\", \"multiple\", \"multiple\", \"multiple\", \"multiple\", \"nacl\", \"nanocomposites\", \"nanoparticles\", \"nanoparticles\", \"nanoparticles\", \"nanoparticles\", \"nanopore\", \"narrow-boiling\", \"natural\", \"natural\", \"natural\", \"natural\", \"natural\", \"natural\", \"network\", \"network\", \"network\", \"network\", \"network\", \"networks\", \"networks\", \"neutron\", \"newton\", \"nmr\", \"nmr-based\", \"non-darcy\", \"nonionic\", \"nonlinear\", \"nonlinear\", \"nonplanar\", \"north\", \"north\", \"nuclear\", \"nuclear\", \"numerical\", \"numerical\", \"numerical\", \"numerical\", \"numerical\", \"numerical\", \"observed\", \"observed\", \"observed\", \"observed\", \"observed\", \"observed\", \"observed\", \"observed\", \"oil\", \"oil\", \"oil\", \"oil\", \"oil\", \"oil\", \"oil-wet\", \"oil-wet\", \"ooip\", \"operations\", \"operations\", \"operations\", \"operations\", \"operations\", \"optimization\", \"optimization\", \"optimization\", \"optimization\", \"optimization\", \"organic\", \"organic\", \"organic\", \"organic\", \"organic-rich\", \"organic-rich\", \"oxidation\", \"oxygen\", \"oxygen\", \"packs\", \"paper\", \"paper\", \"paper\", \"paper\", \"paper\", \"paper\", \"paper\", \"paper\", \"parameterization\", \"parameters\", \"parameters\", \"parameters\", \"parameters\", \"parameters\", \"parameters\", \"parameters\", \"parameters\", \"pattern\", \"pattern\", \"pattern\", \"pattern\", \"pdc\", \"pdg\", \"peng-robinson\", \"percolation\", \"perforation\", \"performance\", \"performance\", \"performance\", \"performance\", \"performance\", \"performance\", \"performance\", \"performance\", \"peridynamic\", \"permeability\", \"permeability\", \"permeability\", \"permeability\", \"permeability\", \"permeability\", \"petroleum\", \"petroleum\", \"petroleum\", \"petroleum\", \"petroleum\", \"petroleum\", \"petroleum\", \"petrophysical\", \"petrophysical\", \"petrophysical\", \"petrophysical\", \"phase\", \"phase\", \"phase\", \"phase\", \"phase\", \"phase\", \"phases\", \"phases\", \"phases\", \"phases\", \"phases\", \"phases\", \"physically\", \"pilot\", \"pilot\", \"pipe\", \"pipe\", \"pipeline\", \"pipelines\", \"pipes\", \"planar\", \"planes\", \"plots\", \"plunger\", \"pna\", \"polar\", \"polymer\", \"polymer\", \"polymer\", \"pore\", \"pore\", \"pore\", \"pore\", \"pore\", \"pore-scale\", \"pore-scale\", \"pore-scale\", \"pores\", \"pores\", \"pores\", \"pores\", \"porosity\", \"porosity\", \"porosity\", \"porosity\", \"porous\", \"porous\", \"porous\", \"porous\", \"porous\", \"pre-existing\", \"predictions\", \"predictions\", \"predictions\", \"predictions\", \"pressure\", \"pressure\", \"pressure\", \"pressure\", \"pressure\", \"pressure\", \"pressure-transient\", \"probabilistic\", \"probabilistic\", \"process\", \"process\", \"process\", \"process\", \"process\", \"process\", \"process\", \"produced\", \"produced\", \"produced\", \"produced\", \"produced\", \"produced\", \"production\", \"production\", \"production\", \"production\", \"production\", \"production\", \"project\", \"project\", \"project\", \"project\", \"propagating\", \"propagation\", \"propagation\", \"propagation\", \"propagation\", \"propagation\", \"propagation\", \"properties\", \"properties\", \"properties\", \"properties\", \"properties\", \"properties\", \"properties\", \"properties\", \"properties\", \"proposed\", \"proposed\", \"proposed\", \"proposed\", \"proposed\", \"proposed\", \"proposed\", \"proposed\", \"proppant\", \"proppant\", \"proxy\", \"pseudo-slug\", \"public\", \"pulse\", \"radiation\", \"rate\", \"rate\", \"rate\", \"rate\", \"rate\", \"rate\", \"rate\", \"rate\", \"rate-time\", \"reaction\", \"reaction\", \"reaction\", \"reactivation\", \"reactor\", \"real-time\", \"real-time\", \"real-time\", \"recoverable\", \"recovery\", \"recovery\", \"recovery\", \"recovery\", \"recovery\", \"reduced-order\", \"reforming\", \"relations\", \"relations\", \"relies\", \"research\", \"research\", \"research\", \"research\", \"research\", \"research\", \"research\", \"reserve\", \"reserves\", \"reservoir\", \"reservoir\", \"reservoir\", \"reservoir\", \"reservoir\", \"reservoirs\", \"reservoirs\", \"reservoirs\", \"reservoirs\", \"reservoirs\", \"resilience\", \"resins\", \"resistivity\", \"resolution\", \"resolution\", \"resolution\", \"resolution\", \"resonance\", \"resource\", \"resources\", \"resources\", \"results\", \"results\", \"results\", \"results\", \"results\", \"results\", \"results\", \"results\", \"results\", \"retention\", \"return\", \"rig\", \"risk\", \"risk\", \"risk\", \"rock\", \"rock\", \"rock\", \"rock\", \"rock\", \"rock\", \"rop\", \"rotation\", \"safer\", \"safety\", \"safety\", \"safety\", \"sagd\", \"salinity\", \"salinity\", \"salinity\", \"samples\", \"samples\", \"samples\", \"samples\", \"sara\", \"saturates\", \"saturation\", \"saturation\", \"saturation\", \"saturation\", \"saturation\", \"scanning\", \"scanning\", \"schemes\", \"sealers\", \"sec\", \"sediment\", \"sediment\", \"sediments\", \"segments\", \"seismic\", \"seismic\", \"seismicity\", \"sem\", \"sensitivities\", \"shale\", \"shale\", \"shale\", \"shale\", \"shale\", \"shale\", \"show\", \"show\", \"show\", \"show\", \"show\", \"show\", \"show\", \"show\", \"shut-in\", \"shut-in\", \"simulation\", \"simulation\", \"simulation\", \"simulation\", \"simulation\", \"simulation\", \"simulation\", \"simulations\", \"simulations\", \"simulations\", \"simulations\", \"simulations\", \"simulations\", \"simulations\", \"simulations\", \"slippage\", \"slug\", \"slug\", \"slugging\", \"slugs\", \"sodium\", \"soft\", \"solar\", \"solution\", \"solution\", \"solution\", \"solution\", \"solution\", \"solution\", \"solvent\", \"solvent\", \"solvent\", \"solver\", \"sonic\", \"sor\", \"split\", \"spontaneous\", \"stability\", \"stability\", \"stability\", \"stability\", \"stability\", \"steam\", \"steam\", \"steam\", \"steam-assisted\", \"stimulation\", \"stimulation\", \"stimulation\", \"storage\", \"storage\", \"storage\", \"storage\", \"stratified\", \"streamline\", \"streamline-based\", \"streamlines\", \"strengthening\", \"stress\", \"stress\", \"stress\", \"stress\", \"study\", \"study\", \"study\", \"study\", \"study\", \"study\", \"study\", \"study\", \"sulfate\", \"superficial\", \"supply\", \"surface\", \"surface\", \"surface\", \"surface\", \"surface\", \"surface\", \"surface\", \"surfactant\", \"surfactant\", \"surfactants\", \"surfactants\", \"surging\", \"susceptibility\", \"sustained\", \"sweep\", \"sweep\", \"synthesis\", \"system\", \"system\", \"system\", \"system\", \"system\", \"system\", \"system\", \"system\", \"technologies\", \"technologies\", \"technology\", \"technology\", \"technology\", \"technology\", \"temperature\", \"temperature\", \"temperature\", \"temperature\", \"temperature\", \"tension\", \"tension\", \"tension\", \"tension\", \"tertiary\", \"tests\", \"tests\", \"tests\", \"tests\", \"tests\", \"tests\", \"tgs\", \"thermal\", \"thermal\", \"thermal\", \"thermal\", \"thermal\", \"thermodynamic\", \"thermodynamic\", \"thermodynamic\", \"tight\", \"tight\", \"tight\", \"time\", \"time\", \"time\", \"time\", \"time\", \"time\", \"time\", \"time\", \"tip\", \"tip\", \"transport\", \"transport\", \"transport\", \"transport\", \"transport\", \"transport\", \"treatment\", \"treatment\", \"treatment\", \"treatment\", \"treatment\", \"treatment\", \"trr\", \"tube\", \"tube\", \"two-phase\", \"two-phase\", \"two-phase\", \"two-phase\", \"two-phase\", \"ugrs\", \"ultimate\", \"ultimate\", \"ultimate\", \"ultimate\", \"uncertainty\", \"uncertainty\", \"uncertainty\", \"unconventional\", \"unconventional\", \"unconventional\", \"unconventional\", \"underbalanced\", \"unpropped\", \"unstructured\", \"upgrading\", \"upgridding\", \"upscaled\", \"upscaling\", \"upscaling\", \"upward\", \"utchem\", \"utilize\", \"vapor\", \"vapor\", \"vapor\", \"vaporization\", \"vehicle\", \"vehicles\", \"velocities\", \"velocities\", \"velocities\", \"velocities\", \"velocity\", \"velocity\", \"velocity\", \"velocity\", \"velocity\", \"vertical\", \"vertical\", \"vertical\", \"vertical\", \"ves\", \"viscosity\", \"viscosity\", \"viscosity\", \"viscosity\", \"viscous\", \"viscous\", \"viscous\", \"visual\", \"volume\", \"volume\", \"volume\", \"volume\", \"volume\", \"volume\", \"volume\", \"volume\", \"wag\", \"wag\", \"waste\", \"water\", \"water\", \"water\", \"water\", \"water\", \"water\", \"water\", \"water\", \"waterflooding\", \"waterflooding\", \"wavy\", \"wax\", \"well-log\", \"well-log-based\", \"wellbore\", \"wellbore\", \"wellbore\", \"wellbore\", \"wellbore\", \"wells\", \"wells\", \"wells\", \"wells\", \"wells\", \"wells\", \"wettability\", \"wettability\", \"width\", \"width\", \"work\", \"work\", \"work\", \"work\", \"work\", \"work\", \"work\", \"work\", \"work\", \"world\", \"world\", \"world\", \"worldwide\", \"wormhole\", \"wormholes\", \"wormholing\", \"x-ray\", \"x-ray\", \"years\", \"years\", \"years\", \"years\", \"ypl\", \"zhang\", \"zonal\"]}, \"R\": 30, \"lambda.step\": 0.01, \"plot.opts\": {\"xlab\": \"PC1\", \"ylab\": \"PC2\"}, \"topic.order\": [4, 9, 2, 7, 1, 5, 3, 6, 8]};\n",
       "\n",
       "function LDAvis_load_lib(url, callback){\n",
       "  var s = document.createElement('script');\n",
       "  s.src = url;\n",
       "  s.async = true;\n",
       "  s.onreadystatechange = s.onload = callback;\n",
       "  s.onerror = function(){console.warn(\"failed to load library \" + url);};\n",
       "  document.getElementsByTagName(\"head\")[0].appendChild(s);\n",
       "}\n",
       "\n",
       "if(typeof(LDAvis) !== \"undefined\"){\n",
       "   // already loaded: just create the visualization\n",
       "   !function(LDAvis){\n",
       "       new LDAvis(\"#\" + \"ldavis_el933331126616177841278286461\", ldavis_el933331126616177841278286461_data);\n",
       "   }(LDAvis);\n",
       "}else if(typeof define === \"function\" && define.amd){\n",
       "   // require.js is available: use it to load d3/LDAvis\n",
       "   require.config({paths: {d3: \"https://cdnjs.cloudflare.com/ajax/libs/d3/3.5.5/d3.min\"}});\n",
       "   require([\"d3\"], function(d3){\n",
       "      window.d3 = d3;\n",
       "      LDAvis_load_lib(\"https://cdn.rawgit.com/bmabey/pyLDAvis/files/ldavis.v1.0.0.js\", function(){\n",
       "        new LDAvis(\"#\" + \"ldavis_el933331126616177841278286461\", ldavis_el933331126616177841278286461_data);\n",
       "      });\n",
       "    });\n",
       "}else{\n",
       "    // require.js not available: dynamically load d3 & LDAvis\n",
       "    LDAvis_load_lib(\"https://cdnjs.cloudflare.com/ajax/libs/d3/3.5.5/d3.min.js\", function(){\n",
       "         LDAvis_load_lib(\"https://cdn.rawgit.com/bmabey/pyLDAvis/files/ldavis.v1.0.0.js\", function(){\n",
       "                 new LDAvis(\"#\" + \"ldavis_el933331126616177841278286461\", ldavis_el933331126616177841278286461_data);\n",
       "            })\n",
       "         });\n",
       "}\n",
       "</script>"
      ],
      "text/plain": [
       "PreparedData(topic_coordinates=            Freq  cluster  topics         x         y\n",
       "topic                                                \n",
       "3      16.085768        1       1 -0.055053 -0.018506\n",
       "8      15.362212        1       2 -0.133555  0.082666\n",
       "1      14.737749        1       3  0.053721 -0.077886\n",
       "6      10.744847        1       4 -0.097688  0.266252\n",
       "0      10.627940        1       5 -0.065378 -0.061269\n",
       "4       9.759684        1       6  0.143786 -0.025703\n",
       "2       8.042440        1       7  0.296846  0.076929\n",
       "5       7.888397        1       8 -0.065301 -0.140213\n",
       "7       6.750963        1       9 -0.077378 -0.102271, topic_info=      Category         Freq            Term        Total  loglift  logprob\n",
       "term                                                                      \n",
       "7463   Default  3775.000000        fracture  3775.000000  30.0000  30.0000\n",
       "7106   Default  4726.000000            flow  4726.000000  29.0000  29.0000\n",
       "5479   Default  1588.000000        drilling  1588.000000  28.0000  28.0000\n",
       "7746   Default  4416.000000             gas  4416.000000  27.0000  27.0000\n",
       "13615  Default  4286.000000             oil  4286.000000  26.0000  26.0000\n",
       "10907  Default  1202.000000          liquid  1202.000000  25.0000  25.0000\n",
       "185    Default  1114.000000            acid  1114.000000  24.0000  24.0000\n",
       "7532   Default  1595.000000       fractures  1595.000000  23.0000  23.0000\n",
       "16828  Default  3699.000000       reservoir  3699.000000  22.0000  22.0000\n",
       "15436  Default  3512.000000        pressure  3512.000000  21.0000  21.0000\n",
       "16469  Default  1769.000000        recovery  1769.000000  20.0000  20.0000\n",
       "15658  Default  2927.000000      production  2927.000000  19.0000  19.0000\n",
       "8930   Default  1108.000000       hydraulic  1108.000000  18.0000  18.0000\n",
       "3516   Default   819.000000    conductivity   819.000000  17.0000  17.0000\n",
       "19885  Default  1408.000000     temperature  1408.000000  16.0000  16.0000\n",
       "20963  Default   953.000000  unconventional   953.000000  15.0000  15.0000\n",
       "16871  Default  2358.000000      reservoirs  2358.000000  14.0000  14.0000\n",
       "19553  Default   893.000000      surfactant   893.000000  13.0000  13.0000\n",
       "17912  Default  2199.000000           shale  2199.000000  12.0000  12.0000\n",
       "22063  Default  1196.000000        wellbore  1196.000000  11.0000  11.0000\n",
       "6515   Default  1428.000000    experimental  1428.000000  10.0000  10.0000\n",
       "4347   Default  2857.000000            data  2857.000000   9.0000   9.0000\n",
       "7254   Default   903.000000            foam   903.000000   8.0000   8.0000\n",
       "12207  Default  4851.000000           model  4851.000000   7.0000   7.0000\n",
       "15060  Default  1118.000000            pore  1118.000000   6.0000   6.0000\n",
       "17180  Default  1411.000000            rock  1411.000000   5.0000   5.0000\n",
       "14797  Default   586.000000            pipe   586.000000   4.0000   4.0000\n",
       "18369  Default   470.000000            slug   470.000000   3.0000   3.0000\n",
       "14660  Default  1142.000000           phase  1142.000000   2.0000   2.0000\n",
       "1631   Default  1253.000000        behavior  1253.000000   1.0000   1.0000\n",
       "...        ...          ...             ...          ...      ...      ...\n",
       "19885   Topic9   444.695856     temperature  1408.574834   1.5425  -4.3662\n",
       "14660   Topic9   371.747388           phase  1142.896018   1.5724  -4.5454\n",
       "1631    Topic9   374.745271        behavior  1253.307871   1.4882  -4.5373\n",
       "16812   Topic9   158.897751        research   359.191906   1.8799  -5.3953\n",
       "3479    Topic9    94.942930      condensate   175.748042   2.0797  -5.9103\n",
       "15623   Topic9   297.799627         process  1176.019402   1.3220  -4.7672\n",
       "1158    Topic9   107.933753      asphaltene   237.620235   1.9063  -5.7821\n",
       "10715   Topic9    63.964814        learning    97.922713   2.2696  -6.3052\n",
       "596     Topic9   134.914693       algorithm   419.373028   1.5614  -5.5589\n",
       "16828   Topic9   403.724799       reservoir  3699.134099   0.4804  -4.4628\n",
       "15436   Topic9   351.761507        pressure  3512.533821   0.3943  -4.6006\n",
       "12633   Topic9   121.923870      multiphase   378.757186   1.5620  -5.6602\n",
       "786     Topic9   232.845512        analysis  1693.391213   0.7114  -5.0132\n",
       "11765   Topic9   246.835629          method  2168.482527   0.5224  -4.9549\n",
       "20067   Topic9   138.911869         thermal   554.536324   1.3112  -5.5297\n",
       "3381    Topic9   120.924576   compositional   408.545411   1.4780  -5.6684\n",
       "12158   Topic9    88.947166         mixture   195.694677   1.9070  -5.9755\n",
       "19242   Topic9   205.864572           study  2139.919401   0.3542  -5.1364\n",
       "18967   Topic9   117.926694           steam   436.506781   1.3867  -5.6935\n",
       "16968   Topic9   212.859631         results  2744.922578   0.1386  -5.1029\n",
       "14204   Topic9   170.889280           paper  1462.989969   0.5483  -5.3226\n",
       "4347    Topic9   202.866690            data  2857.819916   0.0502  -5.1510\n",
       "7178    Topic9   189.875867           fluid  2239.465638   0.2279  -5.2172\n",
       "13615   Topic9   212.859631             oil  4286.279079  -0.3071  -5.1029\n",
       "18056   Topic9   149.904104            show   982.409358   0.8155  -5.4536\n",
       "18183   Topic9   164.893515      simulation  1702.510652   0.3609  -5.3583\n",
       "7746    Topic9   195.871631             gas  4416.746697  -0.4202  -5.1861\n",
       "11772   Topic9   138.911869         methods  1074.598468   0.6496  -5.5297\n",
       "16212   Topic9   141.909751            rate  1268.797791   0.5049  -5.5084\n",
       "7219    Topic9   122.923164          fluids   943.365053   0.6576  -5.6520\n",
       "\n",
       "[679 rows x 6 columns], token_table=       Topic      Freq         Term\n",
       "term                               \n",
       "185        6  1.000143         acid\n",
       "221        6  1.000714    acidizing\n",
       "223        5  0.010419        acids\n",
       "223        6  0.989792        acids\n",
       "231        6  0.999857     acoustic\n",
       "235        3  1.001158          acp\n",
       "262        7  1.002238   activation\n",
       "291        2  1.004962     adaptive\n",
       "329        9  0.996448    adiabatic\n",
       "333        1  1.002715     adjacent\n",
       "371        3  0.487201   adsorption\n",
       "371        5  0.054948   adsorption\n",
       "371        7  0.457896   adsorption\n",
       "472        3  0.145213       agents\n",
       "472        6  0.855719       agents\n",
       "532        8  0.999213    air-water\n",
       "596        2  0.548438    algorithm\n",
       "596        5  0.071535    algorithm\n",
       "596        6  0.059613    algorithm\n",
       "596        9  0.321909    algorithm\n",
       "735        4  0.971106      america\n",
       "735        6  0.032734      america\n",
       "736        4  1.003692     american\n",
       "774        4  1.003513       analog\n",
       "786        1  0.130507     analysis\n",
       "786        2  0.153538     analysis\n",
       "786        3  0.026574     analysis\n",
       "786        4  0.257472     analysis\n",
       "786        5  0.093304     analysis\n",
       "786        6  0.090351     analysis\n",
       "...      ...       ...          ...\n",
       "22097      8  0.127117        wells\n",
       "22125      3  0.685969  wettability\n",
       "22125      6  0.314135  wettability\n",
       "22169      1  0.773607        width\n",
       "22169      6  0.224234        width\n",
       "22254      1  0.272710         work\n",
       "22254      2  0.113709         work\n",
       "22254      3  0.157073         work\n",
       "22254      4  0.183091         work\n",
       "22254      5  0.051073         work\n",
       "22254      6  0.080946         work\n",
       "22254      7  0.084800         work\n",
       "22254      8  0.017346         work\n",
       "22254      9  0.040473         work\n",
       "22274      4  0.860713        world\n",
       "22274      7  0.061479        world\n",
       "22274      8  0.075142        world\n",
       "22277      4  1.003920    worldwide\n",
       "22281      6  1.000552     wormhole\n",
       "22284      6  0.999955    wormholes\n",
       "22285      6  0.998559   wormholing\n",
       "22325      6  0.204472        x-ray\n",
       "22325      7  0.793103        x-ray\n",
       "22368      1  0.130817        years\n",
       "22368      3  0.176780        years\n",
       "22368      4  0.576303        years\n",
       "22368      5  0.116675        years\n",
       "22393      5  1.002306          ypl\n",
       "22415      8  1.000399        zhang\n",
       "22436      5  1.001925        zonal\n",
       "\n",
       "[1452 rows x 3 columns], R=30, lambda_step=0.01, plot_opts={'xlab': 'PC1', 'ylab': 'PC2'}, topic_order=[4, 9, 2, 7, 1, 5, 3, 6, 8])"
      ]
     },
     "execution_count": 33,
     "metadata": {},
     "output_type": "execute_result"
    }
   ],
   "source": [
    "vis_data"
   ]
  },
  {
   "cell_type": "markdown",
   "metadata": {},
   "source": [
    "# Dominant Topic for each professor"
   ]
  },
  {
   "cell_type": "code",
   "execution_count": 34,
   "metadata": {
    "ExecuteTime": {
     "end_time": "2018-08-27T03:59:56.056001Z",
     "start_time": "2018-08-27T03:59:56.005024Z"
    }
   },
   "outputs": [],
   "source": [
    "def format_topics_sentences(ldamodel=lda_model, corpus=corpus):\n",
    "    # Init output\n",
    "    sent_topics_df = pd.DataFrame()\n",
    "\n",
    "    # Get main topic in each document\n",
    "    for i, row in enumerate(ldamodel[corpus]):\n",
    "        row = sorted(row, key=lambda x: (x[1]), reverse=True)\n",
    "        # Get the Dominant topic, Perc Contribution and Keywords for each document\n",
    "        for j, (topic_num, prop_topic) in enumerate(row):\n",
    "            if j == 0:  # => dominant topic\n",
    "                wp = ldamodel.show_topic(topic_num)\n",
    "                topic_keywords = \", \".join([word for word, prop in wp])\n",
    "                sent_topics_df = sent_topics_df.append(pd.Series([int(topic_num), round(prop_topic,4), topic_keywords]), ignore_index=True)\n",
    "            else:\n",
    "                break\n",
    "    sent_topics_df.columns = ['Dominant_Topic', 'Perc_Contribution', 'Topic_Keywords']\n",
    "    return(sent_topics_df)"
   ]
  },
  {
   "cell_type": "code",
   "execution_count": 35,
   "metadata": {
    "ExecuteTime": {
     "end_time": "2018-08-27T04:00:05.704740Z",
     "start_time": "2018-08-27T03:59:56.058438Z"
    }
   },
   "outputs": [
    {
     "data": {
      "text/html": [
       "<div>\n",
       "<style scoped>\n",
       "    .dataframe tbody tr th:only-of-type {\n",
       "        vertical-align: middle;\n",
       "    }\n",
       "\n",
       "    .dataframe tbody tr th {\n",
       "        vertical-align: top;\n",
       "    }\n",
       "\n",
       "    .dataframe thead th {\n",
       "        text-align: right;\n",
       "    }\n",
       "</style>\n",
       "<table border=\"1\" class=\"dataframe\">\n",
       "  <thead>\n",
       "    <tr style=\"text-align: right;\">\n",
       "      <th></th>\n",
       "      <th>Document_No</th>\n",
       "      <th>Dominant_Topic</th>\n",
       "      <th>Topic_Perc_Contrib</th>\n",
       "      <th>Keywords</th>\n",
       "    </tr>\n",
       "  </thead>\n",
       "  <tbody>\n",
       "    <tr>\n",
       "      <th>0</th>\n",
       "      <td>0</td>\n",
       "      <td>4.0</td>\n",
       "      <td>0.5749</td>\n",
       "      <td>acid, conductivity, rock, measurements, temper...</td>\n",
       "    </tr>\n",
       "    <tr>\n",
       "      <th>1</th>\n",
       "      <td>1</td>\n",
       "      <td>7.0</td>\n",
       "      <td>0.4013</td>\n",
       "      <td>temperature, reservoir, behavior, phase, press...</td>\n",
       "    </tr>\n",
       "    <tr>\n",
       "      <th>2</th>\n",
       "      <td>2</td>\n",
       "      <td>2.0</td>\n",
       "      <td>0.5202</td>\n",
       "      <td>oil, pore, gas, energy, combustion, samples, s...</td>\n",
       "    </tr>\n",
       "    <tr>\n",
       "      <th>3</th>\n",
       "      <td>3</td>\n",
       "      <td>8.0</td>\n",
       "      <td>0.7442</td>\n",
       "      <td>model, reservoir, flow, simulation, models, me...</td>\n",
       "    </tr>\n",
       "    <tr>\n",
       "      <th>4</th>\n",
       "      <td>4</td>\n",
       "      <td>6.0</td>\n",
       "      <td>0.2762</td>\n",
       "      <td>gas, production, data, unconventional, reservo...</td>\n",
       "    </tr>\n",
       "    <tr>\n",
       "      <th>5</th>\n",
       "      <td>5</td>\n",
       "      <td>1.0</td>\n",
       "      <td>0.3792</td>\n",
       "      <td>oil, recovery, water, surfactant, reservoir, i...</td>\n",
       "    </tr>\n",
       "    <tr>\n",
       "      <th>6</th>\n",
       "      <td>6</td>\n",
       "      <td>5.0</td>\n",
       "      <td>0.2939</td>\n",
       "      <td>flow, liquid, gas, model, pressure, experiment...</td>\n",
       "    </tr>\n",
       "    <tr>\n",
       "      <th>7</th>\n",
       "      <td>7</td>\n",
       "      <td>2.0</td>\n",
       "      <td>0.5602</td>\n",
       "      <td>oil, pore, gas, energy, combustion, samples, s...</td>\n",
       "    </tr>\n",
       "    <tr>\n",
       "      <th>8</th>\n",
       "      <td>8</td>\n",
       "      <td>4.0</td>\n",
       "      <td>0.4828</td>\n",
       "      <td>acid, conductivity, rock, measurements, temper...</td>\n",
       "    </tr>\n",
       "    <tr>\n",
       "      <th>9</th>\n",
       "      <td>9</td>\n",
       "      <td>5.0</td>\n",
       "      <td>0.9106</td>\n",
       "      <td>flow, liquid, gas, model, pressure, experiment...</td>\n",
       "    </tr>\n",
       "  </tbody>\n",
       "</table>\n",
       "</div>"
      ],
      "text/plain": [
       "   Document_No  Dominant_Topic  Topic_Perc_Contrib  \\\n",
       "0            0             4.0              0.5749   \n",
       "1            1             7.0              0.4013   \n",
       "2            2             2.0              0.5202   \n",
       "3            3             8.0              0.7442   \n",
       "4            4             6.0              0.2762   \n",
       "5            5             1.0              0.3792   \n",
       "6            6             5.0              0.2939   \n",
       "7            7             2.0              0.5602   \n",
       "8            8             4.0              0.4828   \n",
       "9            9             5.0              0.9106   \n",
       "\n",
       "                                            Keywords  \n",
       "0  acid, conductivity, rock, measurements, temper...  \n",
       "1  temperature, reservoir, behavior, phase, press...  \n",
       "2  oil, pore, gas, energy, combustion, samples, s...  \n",
       "3  model, reservoir, flow, simulation, models, me...  \n",
       "4  gas, production, data, unconventional, reservo...  \n",
       "5  oil, recovery, water, surfactant, reservoir, i...  \n",
       "6  flow, liquid, gas, model, pressure, experiment...  \n",
       "7  oil, pore, gas, energy, combustion, samples, s...  \n",
       "8  acid, conductivity, rock, measurements, temper...  \n",
       "9  flow, liquid, gas, model, pressure, experiment...  "
      ]
     },
     "execution_count": 35,
     "metadata": {},
     "output_type": "execute_result"
    }
   ],
   "source": [
    "df_topic_sents_keywords = format_topics_sentences(ldamodel=ldamallet, corpus=corpus)\n",
    "\n",
    "# Format\n",
    "df_dominant_topic = df_topic_sents_keywords.reset_index()\n",
    "df_dominant_topic.columns = ['Document_No', 'Dominant_Topic', 'Topic_Perc_Contrib', 'Keywords']\n",
    "\n",
    "# Show\n",
    "df_dominant_topic.head(10)"
   ]
  },
  {
   "cell_type": "code",
   "execution_count": 36,
   "metadata": {
    "ExecuteTime": {
     "end_time": "2018-08-27T04:00:06.037191Z",
     "start_time": "2018-08-27T04:00:05.707351Z"
    }
   },
   "outputs": [
    {
     "ename": "NameError",
     "evalue": "name 'pge_df' is not defined",
     "output_type": "error",
     "traceback": [
      "\u001b[0;31m---------------------------------------------------------------------------\u001b[0m",
      "\u001b[0;31mNameError\u001b[0m                                 Traceback (most recent call last)",
      "\u001b[0;32m<ipython-input-36-151f1c98c4e7>\u001b[0m in \u001b[0;36m<module>\u001b[0;34m()\u001b[0m\n\u001b[0;32m----> 1\u001b[0;31m \u001b[0mpge_df\u001b[0m\u001b[0;34m.\u001b[0m\u001b[0mindex\u001b[0m \u001b[0;34m=\u001b[0m \u001b[0mlist\u001b[0m\u001b[0;34m(\u001b[0m\u001b[0mrange\u001b[0m\u001b[0;34m(\u001b[0m\u001b[0;36m75\u001b[0m\u001b[0;34m)\u001b[0m\u001b[0;34m)\u001b[0m\u001b[0;34m\u001b[0m\u001b[0m\n\u001b[0m\u001b[1;32m      2\u001b[0m \u001b[0mpge_df\u001b[0m\u001b[0;34m.\u001b[0m\u001b[0mindex\u001b[0m\u001b[0;34m\u001b[0m\u001b[0m\n",
      "\u001b[0;31mNameError\u001b[0m: name 'pge_df' is not defined"
     ]
    }
   ],
   "source": [
    "pge_df.index = list(range(75))\n",
    "pge_df.index"
   ]
  },
  {
   "cell_type": "code",
   "execution_count": null,
   "metadata": {
    "ExecuteTime": {
     "end_time": "2018-08-27T04:00:06.038060Z",
     "start_time": "2018-08-27T03:48:11.105Z"
    },
    "scrolled": false
   },
   "outputs": [],
   "source": [
    "pd.concat([pge_df, df_dominant_topic], axis=1)"
   ]
  },
  {
   "cell_type": "markdown",
   "metadata": {},
   "source": [
    "# Querying"
   ]
  },
  {
   "cell_type": "code",
   "execution_count": null,
   "metadata": {
    "ExecuteTime": {
     "end_time": "2018-08-27T04:00:06.039390Z",
     "start_time": "2018-08-27T03:48:11.106Z"
    }
   },
   "outputs": [],
   "source": [
    "text = \"Steam injection is a widely used oil-recovery method that has been commercially successful in many types of heavy-oil reservoirs, including the oil sands of Alberta, Canada. Steam is very effective in delivering heat that is the key to heavy-oil mobilization. In the distant past in California, and also recently in Alberta, solvents were/are being used as additives to steam for additional viscosity reduction. The current applications are in field projects involving steam-assisted gravity drainage (SAGD) and cyclic steam stimulation (CSS).The past and present projects using solvents alone or in combination with steam are reviewed and evaluated, including enhanced solvent SAGD (ES-SAGD) and liquid addition to steam for enhancing recovery (LASER). The use of solvent in other processes, such as effective solvent extraction incorporating electromagnetic heating (ESEIEH) and after cold-heavy-oil production with sand (CHOPS), are also reviewed. The theories behind the use of solvents with steam are outlined. These postulate additional heavy-oil/bitumen mobilization; oil mobilization ahead of the steam front; and oil mobilization by solvent dispersion caused by frontal instability. The plausibility of the different approaches and solvent availability and economics are also discussed.\"\n",
    "bow = dictionary.doc2bow(clean_text(text))\n",
    "\n",
    "print(lda_model[tfidf_model[bow]])\n",
    "print(ldamallet[bow])"
   ]
  },
  {
   "cell_type": "code",
   "execution_count": null,
   "metadata": {
    "ExecuteTime": {
     "end_time": "2018-08-27T04:00:06.040185Z",
     "start_time": "2018-08-27T03:48:11.108Z"
    }
   },
   "outputs": [],
   "source": [
    "import numpy as np  \n",
    "pge_df = database_cleaner('../data/pge_database.json')\n",
    "pge_df.head()"
   ]
  },
  {
   "cell_type": "code",
   "execution_count": null,
   "metadata": {
    "ExecuteTime": {
     "end_time": "2018-08-27T04:00:06.041437Z",
     "start_time": "2018-08-27T03:48:11.109Z"
    }
   },
   "outputs": [],
   "source": [
    "# lda_index = similarities.MatrixSimilarity(lda_model[tfidf_model[corpus]])\n",
    "lda_index = similarities.MatrixSimilarity(ldamallet[corpus])"
   ]
  },
  {
   "cell_type": "code",
   "execution_count": null,
   "metadata": {
    "ExecuteTime": {
     "end_time": "2018-08-27T04:00:06.042625Z",
     "start_time": "2018-08-27T03:48:11.110Z"
    }
   },
   "outputs": [],
   "source": [
    "# Let's perform some queries\n",
    "similarity_results = lda_index[lda_model[bow]]\n",
    "# similarity_results = lda_index[lda_model[tfidf_model[bow]]]\n",
    "\n",
    "# Sort the similarities\n",
    "similarity_results = sorted(enumerate(similarity_results), key=lambda item: -item[1])\n",
    " \n",
    "# Top most similar documents:\n",
    "print(similarity_results[:10])"
   ]
  },
  {
   "cell_type": "code",
   "execution_count": null,
   "metadata": {
    "ExecuteTime": {
     "end_time": "2018-08-27T04:00:06.044216Z",
     "start_time": "2018-08-27T03:48:11.112Z"
    }
   },
   "outputs": [],
   "source": [
    "# # Let's see what's the most similar document\n",
    "# document_id, similarity = similarities[0]\n",
    "# print(corpus[document_id][:1000])\n",
    "# similarity_results = similarity_results[similarity_results[:,0].argsort()] # sorting by document_id\n",
    "# document_ids = list(map(int, similarity_results[:,0]))\n",
    "\n",
    "document_ids, similarity = list(zip(*similarity_results[:10]))\n",
    "document_ids = list(map(str, document_ids))\n",
    "document_ids"
   ]
  },
  {
   "cell_type": "code",
   "execution_count": null,
   "metadata": {
    "ExecuteTime": {
     "end_time": "2018-08-27T04:00:06.045442Z",
     "start_time": "2018-08-27T03:48:11.117Z"
    },
    "scrolled": true
   },
   "outputs": [],
   "source": [
    "pge_df"
   ]
  },
  {
   "cell_type": "code",
   "execution_count": null,
   "metadata": {
    "ExecuteTime": {
     "end_time": "2018-08-27T04:00:06.046535Z",
     "start_time": "2018-08-27T03:48:11.119Z"
    }
   },
   "outputs": [],
   "source": [
    "results_df = pge_df[pge_df.index.isin(document_ids)].sort_index()\n",
    "results_df['similarity'] = similarity\n",
    "results_df.sort_values(by='similarity', ascending=False)[['faculty_name', 'research_areas', 'similarity']][:10]"
   ]
  },
  {
   "cell_type": "code",
   "execution_count": null,
   "metadata": {},
   "outputs": [],
   "source": []
  }
 ],
 "metadata": {
  "kernelspec": {
   "display_name": "Python 3",
   "language": "python",
   "name": "python3"
  },
  "language_info": {
   "codemirror_mode": {
    "name": "ipython",
    "version": 3
   },
   "file_extension": ".py",
   "mimetype": "text/x-python",
   "name": "python",
   "nbconvert_exporter": "python",
   "pygments_lexer": "ipython3",
   "version": "3.6.5"
  }
 },
 "nbformat": 4,
 "nbformat_minor": 2
}
