{
 "cells": [
  {
   "cell_type": "code",
   "execution_count": 105,
   "metadata": {
    "ExecuteTime": {
     "end_time": "2018-08-20T21:42:47.451326Z",
     "start_time": "2018-08-20T21:42:47.405217Z"
    }
   },
   "outputs": [],
   "source": [
    "from cleaning import database_cleaner\n",
    "from nlp_pipeline import feature_matrix\n",
    "\n",
    "import string\n",
    "import numpy as np\n",
    "import pandas as pd\n",
    "\n",
    "import nltk\n",
    "from nltk.corpus import stopwords\n",
    "from nltk.tokenize import word_tokenize\n",
    "from nltk.util import ngrams\n",
    "from nltk.stem.porter import PorterStemmer\n",
    "from nltk.stem.snowball import SnowballStemmer\n",
    "from nltk.stem.wordnet import WordNetLemmatizer\n",
    "\n",
    "from sklearn.utils import shuffle\n",
    "from sklearn.feature_extraction.text import TfidfVectorizer, CountVectorizer\n",
    "from sklearn.naive_bayes import MultinomialNB\n",
    "from sklearn.metrics import log_loss, confusion_matrix\n",
    "from sklearn.model_selection import train_test_split, KFold\n",
    "from sklearn.linear_model import LogisticRegression\n",
    "from sklearn.tree import DecisionTreeClassifier\n",
    "from sklearn.ensemble import RandomForestClassifier, GradientBoostingClassifier\n",
    "\n",
    "%matplotlib inline\n",
    "import matplotlib.pyplot as plt\n",
    "plt.style.use('ggplot')\n",
    "\n",
    "from scipy.spatial.distance import pdist, squareform\n",
    "from scipy.cluster.hierarchy  import linkage, dendrogram\n",
    "from sklearn.cluster import KMeans\n",
    "from sklearn.metrics import silhouette_score, silhouette_samples"
   ]
  },
  {
   "cell_type": "code",
   "execution_count": 90,
   "metadata": {
    "ExecuteTime": {
     "end_time": "2018-08-20T21:37:57.493953Z",
     "start_time": "2018-08-20T21:37:57.394616Z"
    }
   },
   "outputs": [
    {
     "data": {
      "text/html": [
       "<div>\n",
       "<style scoped>\n",
       "    .dataframe tbody tr th:only-of-type {\n",
       "        vertical-align: middle;\n",
       "    }\n",
       "\n",
       "    .dataframe tbody tr th {\n",
       "        vertical-align: top;\n",
       "    }\n",
       "\n",
       "    .dataframe thead th {\n",
       "        text-align: right;\n",
       "    }\n",
       "</style>\n",
       "<table border=\"1\" class=\"dataframe\">\n",
       "  <thead>\n",
       "    <tr style=\"text-align: right;\">\n",
       "      <th></th>\n",
       "      <th>faculty_name</th>\n",
       "      <th>email</th>\n",
       "      <th>google_scholar_link</th>\n",
       "      <th>office</th>\n",
       "      <th>page</th>\n",
       "      <th>phone</th>\n",
       "      <th>faculty_title</th>\n",
       "      <th>paper_titles</th>\n",
       "      <th>abstracts</th>\n",
       "      <th>research_areas</th>\n",
       "    </tr>\n",
       "  </thead>\n",
       "  <tbody>\n",
       "    <tr>\n",
       "      <th>0</th>\n",
       "      <td>A. Daniel Hill</td>\n",
       "      <td>danhill@tamu.edu</td>\n",
       "      <td>https://scholar.google.com/citations?user=EBnW...</td>\n",
       "      <td>RICH 1012</td>\n",
       "      <td>https://engineering.tamu.edu/petroleum/profile...</td>\n",
       "      <td>979-845-2244</td>\n",
       "      <td>Professor</td>\n",
       "      <td>Mechanism of wormholing and its optimal condi...</td>\n",
       "      <td>Acid stimulation is commonly used in carbonat...</td>\n",
       "      <td>Dr. Hill has five patents in oil recovery and ...</td>\n",
       "    </tr>\n",
       "    <tr>\n",
       "      <th>1</th>\n",
       "      <td>A. Rashid Hasan</td>\n",
       "      <td>rhasan@tamu.edu</td>\n",
       "      <td>https://scholar.google.com/citations?user=6lMX...</td>\n",
       "      <td>RICH 501E</td>\n",
       "      <td>https://engineering.tamu.edu/petroleum/profile...</td>\n",
       "      <td>979.847.8564</td>\n",
       "      <td>Professor</td>\n",
       "      <td></td>\n",
       "      <td></td>\n",
       "      <td>Wellbore Heat transferSystematic modeling of h...</td>\n",
       "    </tr>\n",
       "    <tr>\n",
       "      <th>2</th>\n",
       "      <td>Akhil Datta-Gupta</td>\n",
       "      <td>datta-gupta@tamu.edu</td>\n",
       "      <td>https://scholar.google.com/citations?user=Al-S...</td>\n",
       "      <td>RICH 401G</td>\n",
       "      <td>https://engineering.tamu.edu/petroleum/profile...</td>\n",
       "      <td>979-847-9030</td>\n",
       "      <td>University Distinguished Professor</td>\n",
       "      <td>Radius of Investigation and its Generalizatio...</td>\n",
       "      <td>The concept of radius of investigation is fun...</td>\n",
       "      <td>Dr. Datta-Gupta has research interests in rapi...</td>\n",
       "    </tr>\n",
       "    <tr>\n",
       "      <th>3</th>\n",
       "      <td>Albertus Retnanto</td>\n",
       "      <td>albertus.retnanto@qatar.tamu.edu</td>\n",
       "      <td>https://scholar.google.com/citations?user=kN7P...</td>\n",
       "      <td>204K</td>\n",
       "      <td>https://engineering.tamu.edu/petroleum/profile...</td>\n",
       "      <td>974-4423-0281</td>\n",
       "      <td>Associate Professor of the Practice</td>\n",
       "      <td>After-Closure Idiosyncrasies of Fracture C...</td>\n",
       "      <td>Fracture Calibration Tests (FCT), are stra...</td>\n",
       "      <td>Field development and planning Production enha...</td>\n",
       "    </tr>\n",
       "    <tr>\n",
       "      <th>4</th>\n",
       "      <td>Aziz Rahman</td>\n",
       "      <td>aziz.rahman@qatar.tamu.edu</td>\n",
       "      <td>https://scholar.google.com/citations?user=PYRt...</td>\n",
       "      <td>204E</td>\n",
       "      <td>https://engineering.tamu.edu/petroleum/profile...</td>\n",
       "      <td>974-4423-0601</td>\n",
       "      <td>Assistant Professor</td>\n",
       "      <td></td>\n",
       "      <td></td>\n",
       "      <td>Flow assurance Multiphase pipe flow Wellbore h...</td>\n",
       "    </tr>\n",
       "  </tbody>\n",
       "</table>\n",
       "</div>"
      ],
      "text/plain": [
       "        faculty_name                             email  \\\n",
       "0     A. Daniel Hill                  danhill@tamu.edu   \n",
       "1    A. Rashid Hasan                   rhasan@tamu.edu   \n",
       "2  Akhil Datta-Gupta              datta-gupta@tamu.edu   \n",
       "3  Albertus Retnanto  albertus.retnanto@qatar.tamu.edu   \n",
       "4        Aziz Rahman        aziz.rahman@qatar.tamu.edu   \n",
       "\n",
       "                                 google_scholar_link     office  \\\n",
       "0  https://scholar.google.com/citations?user=EBnW...  RICH 1012   \n",
       "1  https://scholar.google.com/citations?user=6lMX...  RICH 501E   \n",
       "2  https://scholar.google.com/citations?user=Al-S...  RICH 401G   \n",
       "3  https://scholar.google.com/citations?user=kN7P...       204K   \n",
       "4  https://scholar.google.com/citations?user=PYRt...       204E   \n",
       "\n",
       "                                                page          phone  \\\n",
       "0  https://engineering.tamu.edu/petroleum/profile...   979-845-2244   \n",
       "1  https://engineering.tamu.edu/petroleum/profile...   979.847.8564   \n",
       "2  https://engineering.tamu.edu/petroleum/profile...  979-847-9030    \n",
       "3  https://engineering.tamu.edu/petroleum/profile...  974-4423-0281   \n",
       "4  https://engineering.tamu.edu/petroleum/profile...  974-4423-0601   \n",
       "\n",
       "                         faculty_title  \\\n",
       "0                            Professor   \n",
       "1                            Professor   \n",
       "2   University Distinguished Professor   \n",
       "3  Associate Professor of the Practice   \n",
       "4                  Assistant Professor   \n",
       "\n",
       "                                        paper_titles  \\\n",
       "0   Mechanism of wormholing and its optimal condi...   \n",
       "1                                                      \n",
       "2   Radius of Investigation and its Generalizatio...   \n",
       "3      After-Closure Idiosyncrasies of Fracture C...   \n",
       "4                                                      \n",
       "\n",
       "                                           abstracts  \\\n",
       "0   Acid stimulation is commonly used in carbonat...   \n",
       "1                                                      \n",
       "2   The concept of radius of investigation is fun...   \n",
       "3      Fracture Calibration Tests (FCT), are stra...   \n",
       "4                                                      \n",
       "\n",
       "                                      research_areas  \n",
       "0  Dr. Hill has five patents in oil recovery and ...  \n",
       "1  Wellbore Heat transferSystematic modeling of h...  \n",
       "2  Dr. Datta-Gupta has research interests in rapi...  \n",
       "3  Field development and planning Production enha...  \n",
       "4  Flow assurance Multiphase pipe flow Wellbore h...  "
      ]
     },
     "execution_count": 90,
     "metadata": {},
     "output_type": "execute_result"
    }
   ],
   "source": [
    "tamu_df = database_cleaner('../data/tamu_database.json')\n",
    "tamu_df.head()"
   ]
  },
  {
   "cell_type": "code",
   "execution_count": 91,
   "metadata": {
    "ExecuteTime": {
     "end_time": "2018-08-20T21:37:58.060375Z",
     "start_time": "2018-08-20T21:37:58.014411Z"
    }
   },
   "outputs": [
    {
     "data": {
      "text/html": [
       "<div>\n",
       "<style scoped>\n",
       "    .dataframe tbody tr th:only-of-type {\n",
       "        vertical-align: middle;\n",
       "    }\n",
       "\n",
       "    .dataframe tbody tr th {\n",
       "        vertical-align: top;\n",
       "    }\n",
       "\n",
       "    .dataframe thead th {\n",
       "        text-align: right;\n",
       "    }\n",
       "</style>\n",
       "<table border=\"1\" class=\"dataframe\">\n",
       "  <thead>\n",
       "    <tr style=\"text-align: right;\">\n",
       "      <th></th>\n",
       "      <th>faculty_name</th>\n",
       "      <th>research_areas</th>\n",
       "      <th>paper_titles</th>\n",
       "      <th>abstracts</th>\n",
       "    </tr>\n",
       "  </thead>\n",
       "  <tbody>\n",
       "    <tr>\n",
       "      <th>0</th>\n",
       "      <td>A. Daniel Hill</td>\n",
       "      <td>Dr. Hill has five patents in oil recovery and ...</td>\n",
       "      <td>Mechanism of wormholing and its optimal condi...</td>\n",
       "      <td>Acid stimulation is commonly used in carbonat...</td>\n",
       "    </tr>\n",
       "    <tr>\n",
       "      <th>1</th>\n",
       "      <td>A. Rashid Hasan</td>\n",
       "      <td>Wellbore Heat transferSystematic modeling of h...</td>\n",
       "      <td></td>\n",
       "      <td></td>\n",
       "    </tr>\n",
       "    <tr>\n",
       "      <th>2</th>\n",
       "      <td>Akhil Datta-Gupta</td>\n",
       "      <td>Dr. Datta-Gupta has research interests in rapi...</td>\n",
       "      <td>Radius of Investigation and its Generalizatio...</td>\n",
       "      <td>The concept of radius of investigation is fun...</td>\n",
       "    </tr>\n",
       "    <tr>\n",
       "      <th>3</th>\n",
       "      <td>Albertus Retnanto</td>\n",
       "      <td>Field development and planning Production enha...</td>\n",
       "      <td>After-Closure Idiosyncrasies of Fracture C...</td>\n",
       "      <td>Fracture Calibration Tests (FCT), are stra...</td>\n",
       "    </tr>\n",
       "    <tr>\n",
       "      <th>4</th>\n",
       "      <td>Aziz Rahman</td>\n",
       "      <td>Flow assurance Multiphase pipe flow Wellbore h...</td>\n",
       "      <td></td>\n",
       "      <td></td>\n",
       "    </tr>\n",
       "  </tbody>\n",
       "</table>\n",
       "</div>"
      ],
      "text/plain": [
       "        faculty_name                                     research_areas  \\\n",
       "0     A. Daniel Hill  Dr. Hill has five patents in oil recovery and ...   \n",
       "1    A. Rashid Hasan  Wellbore Heat transferSystematic modeling of h...   \n",
       "2  Akhil Datta-Gupta  Dr. Datta-Gupta has research interests in rapi...   \n",
       "3  Albertus Retnanto  Field development and planning Production enha...   \n",
       "4        Aziz Rahman  Flow assurance Multiphase pipe flow Wellbore h...   \n",
       "\n",
       "                                        paper_titles  \\\n",
       "0   Mechanism of wormholing and its optimal condi...   \n",
       "1                                                      \n",
       "2   Radius of Investigation and its Generalizatio...   \n",
       "3      After-Closure Idiosyncrasies of Fracture C...   \n",
       "4                                                      \n",
       "\n",
       "                                           abstracts  \n",
       "0   Acid stimulation is commonly used in carbonat...  \n",
       "1                                                     \n",
       "2   The concept of radius of investigation is fun...  \n",
       "3      Fracture Calibration Tests (FCT), are stra...  \n",
       "4                                                     "
      ]
     },
     "execution_count": 91,
     "metadata": {},
     "output_type": "execute_result"
    }
   ],
   "source": [
    "# For nlp, only retaining faculty_name, research_areas, paper_titles, abstracts\n",
    "df = tamu_df[['faculty_name', 'research_areas', 'paper_titles', 'abstracts']]\n",
    "df.head()"
   ]
  },
  {
   "cell_type": "code",
   "execution_count": 92,
   "metadata": {
    "ExecuteTime": {
     "end_time": "2018-08-20T21:37:58.701830Z",
     "start_time": "2018-08-20T21:37:58.663082Z"
    }
   },
   "outputs": [
    {
     "data": {
      "text/plain": [
       "16"
      ]
     },
     "execution_count": 92,
     "metadata": {},
     "output_type": "execute_result"
    }
   ],
   "source": [
    "missing = df['paper_titles'] == ''\n",
    "sum(missing)"
   ]
  },
  {
   "cell_type": "code",
   "execution_count": 93,
   "metadata": {
    "ExecuteTime": {
     "end_time": "2018-08-20T21:37:59.444092Z",
     "start_time": "2018-08-20T21:37:59.406312Z"
    }
   },
   "outputs": [
    {
     "data": {
      "text/plain": [
       "26"
      ]
     },
     "execution_count": 93,
     "metadata": {},
     "output_type": "execute_result"
    }
   ],
   "source": [
    "# Working with non-missing entries i.e. 26 faculties\n",
    "df_nlp = df[~missing]\n",
    "len(df_nlp)"
   ]
  },
  {
   "cell_type": "code",
   "execution_count": 94,
   "metadata": {
    "ExecuteTime": {
     "end_time": "2018-08-20T21:38:00.851570Z",
     "start_time": "2018-08-20T21:38:00.806769Z"
    }
   },
   "outputs": [
    {
     "data": {
      "text/html": [
       "<div>\n",
       "<style scoped>\n",
       "    .dataframe tbody tr th:only-of-type {\n",
       "        vertical-align: middle;\n",
       "    }\n",
       "\n",
       "    .dataframe tbody tr th {\n",
       "        vertical-align: top;\n",
       "    }\n",
       "\n",
       "    .dataframe thead th {\n",
       "        text-align: right;\n",
       "    }\n",
       "</style>\n",
       "<table border=\"1\" class=\"dataframe\">\n",
       "  <thead>\n",
       "    <tr style=\"text-align: right;\">\n",
       "      <th></th>\n",
       "      <th>faculty_name</th>\n",
       "      <th>research_areas</th>\n",
       "      <th>paper_titles</th>\n",
       "      <th>abstracts</th>\n",
       "    </tr>\n",
       "  </thead>\n",
       "  <tbody>\n",
       "    <tr>\n",
       "      <th>0</th>\n",
       "      <td>A. Daniel Hill</td>\n",
       "      <td>Dr. Hill has five patents in oil recovery and ...</td>\n",
       "      <td>Mechanism of wormholing and its optimal condi...</td>\n",
       "      <td>Acid stimulation is commonly used in carbonat...</td>\n",
       "    </tr>\n",
       "    <tr>\n",
       "      <th>2</th>\n",
       "      <td>Akhil Datta-Gupta</td>\n",
       "      <td>Dr. Datta-Gupta has research interests in rapi...</td>\n",
       "      <td>Radius of Investigation and its Generalizatio...</td>\n",
       "      <td>The concept of radius of investigation is fun...</td>\n",
       "    </tr>\n",
       "    <tr>\n",
       "      <th>3</th>\n",
       "      <td>Albertus Retnanto</td>\n",
       "      <td>Field development and planning Production enha...</td>\n",
       "      <td>After-Closure Idiosyncrasies of Fracture C...</td>\n",
       "      <td>Fracture Calibration Tests (FCT), are stra...</td>\n",
       "    </tr>\n",
       "    <tr>\n",
       "      <th>5</th>\n",
       "      <td>Berna Hascakir</td>\n",
       "      <td>Heavy oil and oil shale recovery with enhanced...</td>\n",
       "      <td>Water and aromatics fraction interaction at e...</td>\n",
       "      <td>Performance predictions of the In-Situ Combus...</td>\n",
       "    </tr>\n",
       "    <tr>\n",
       "      <th>6</th>\n",
       "      <td>David Schechter</td>\n",
       "      <td>Spraberry Trend Area Geological and petrophysi...</td>\n",
       "      <td>Gas Injection for EOR in Organic Rich Shales....</td>\n",
       "      <td>Laboratory experiments of gas injection in or...</td>\n",
       "    </tr>\n",
       "  </tbody>\n",
       "</table>\n",
       "</div>"
      ],
      "text/plain": [
       "        faculty_name                                     research_areas  \\\n",
       "0     A. Daniel Hill  Dr. Hill has five patents in oil recovery and ...   \n",
       "2  Akhil Datta-Gupta  Dr. Datta-Gupta has research interests in rapi...   \n",
       "3  Albertus Retnanto  Field development and planning Production enha...   \n",
       "5     Berna Hascakir  Heavy oil and oil shale recovery with enhanced...   \n",
       "6    David Schechter  Spraberry Trend Area Geological and petrophysi...   \n",
       "\n",
       "                                        paper_titles  \\\n",
       "0   Mechanism of wormholing and its optimal condi...   \n",
       "2   Radius of Investigation and its Generalizatio...   \n",
       "3      After-Closure Idiosyncrasies of Fracture C...   \n",
       "5   Water and aromatics fraction interaction at e...   \n",
       "6   Gas Injection for EOR in Organic Rich Shales....   \n",
       "\n",
       "                                           abstracts  \n",
       "0   Acid stimulation is commonly used in carbonat...  \n",
       "2   The concept of radius of investigation is fun...  \n",
       "3      Fracture Calibration Tests (FCT), are stra...  \n",
       "5   Performance predictions of the In-Situ Combus...  \n",
       "6   Laboratory experiments of gas injection in or...  "
      ]
     },
     "execution_count": 94,
     "metadata": {},
     "output_type": "execute_result"
    }
   ],
   "source": [
    "df_nlp.head()"
   ]
  },
  {
   "cell_type": "markdown",
   "metadata": {},
   "source": [
    "# NLP pipeline"
   ]
  },
  {
   "cell_type": "code",
   "execution_count": 110,
   "metadata": {
    "ExecuteTime": {
     "end_time": "2018-08-20T21:48:23.905597Z",
     "start_time": "2018-08-20T21:48:23.864606Z"
    }
   },
   "outputs": [],
   "source": [
    "corpus = df_nlp['abstracts'].values"
   ]
  },
  {
   "cell_type": "code",
   "execution_count": 111,
   "metadata": {
    "ExecuteTime": {
     "end_time": "2018-08-20T21:48:28.201713Z",
     "start_time": "2018-08-20T21:48:25.576628Z"
    }
   },
   "outputs": [],
   "source": [
    "vectorizer, matrix = feature_matrix(corpus, tf_idf=True, stem_lem=None, ngram_range=(1,1), \n",
    "                                    max_df=1.0, min_df=1, max_features=None)"
   ]
  },
  {
   "cell_type": "markdown",
   "metadata": {},
   "source": [
    "# Clustering to find research topics\n",
    "* Applying K-means to TF-IDF or bag-of-words features produces topic centroids. \n",
    "* For this sprint, we will perform topic modeling on abstracts using k-means and hierarchical clustering."
   ]
  },
  {
   "cell_type": "code",
   "execution_count": 112,
   "metadata": {
    "ExecuteTime": {
     "end_time": "2018-08-20T21:49:43.703355Z",
     "start_time": "2018-08-20T21:49:42.905796Z"
    }
   },
   "outputs": [],
   "source": [
    "X = matrix\n",
    "km = KMeans(10) \n",
    "y = km.fit_predict(X)"
   ]
  },
  {
   "cell_type": "code",
   "execution_count": 120,
   "metadata": {
    "ExecuteTime": {
     "end_time": "2018-08-20T22:12:03.486389Z",
     "start_time": "2018-08-20T22:12:03.447867Z"
    }
   },
   "outputs": [
    {
     "data": {
      "text/plain": [
       "array([3, 4, 3, 2, 9, 3, 5, 0, 4, 6, 1, 1, 3, 5, 7, 6, 1, 5, 0, 5, 6, 2,\n",
       "       4, 5, 9, 8], dtype=int32)"
      ]
     },
     "execution_count": 120,
     "metadata": {},
     "output_type": "execute_result"
    }
   ],
   "source": [
    "# The centroid to which the faculty maps to\n",
    "y"
   ]
  },
  {
   "cell_type": "code",
   "execution_count": 113,
   "metadata": {
    "ExecuteTime": {
     "end_time": "2018-08-20T21:50:49.057927Z",
     "start_time": "2018-08-20T21:50:49.018003Z"
    }
   },
   "outputs": [
    {
     "data": {
      "text/plain": [
       "array([[0.00657833, 0.00238547, 0.        , ..., 0.        , 0.        ,\n",
       "        0.        ],\n",
       "       [0.0022097 , 0.        , 0.        , ..., 0.        , 0.        ,\n",
       "        0.        ],\n",
       "       [0.00738742, 0.        , 0.00353283, ..., 0.        , 0.        ,\n",
       "        0.        ],\n",
       "       ...,\n",
       "       [0.        , 0.        , 0.        , ..., 0.        , 0.        ,\n",
       "        0.        ],\n",
       "       [0.        , 0.        , 0.        , ..., 0.06116011, 0.03058006,\n",
       "        0.03058006],\n",
       "       [0.        , 0.        , 0.        , ..., 0.        , 0.        ,\n",
       "        0.        ]])"
      ]
     },
     "execution_count": 113,
     "metadata": {},
     "output_type": "execute_result"
    }
   ],
   "source": [
    "# \"topics\" Kmeans has discovered i.e. the centroids\n",
    "centroids = km.cluster_centers_\n",
    "centroids"
   ]
  },
  {
   "cell_type": "code",
   "execution_count": 114,
   "metadata": {
    "ExecuteTime": {
     "end_time": "2018-08-20T21:50:59.223700Z",
     "start_time": "2018-08-20T21:50:59.186630Z"
    }
   },
   "outputs": [
    {
     "data": {
      "text/plain": [
       "(10, 10028)"
      ]
     },
     "execution_count": 114,
     "metadata": {},
     "output_type": "execute_result"
    }
   ],
   "source": [
    "centroids.shape"
   ]
  },
  {
   "cell_type": "code",
   "execution_count": 115,
   "metadata": {
    "ExecuteTime": {
     "end_time": "2018-08-20T21:51:44.281447Z",
     "start_time": "2018-08-20T21:51:44.239174Z"
    }
   },
   "outputs": [
    {
     "data": {
      "text/plain": [
       "array([[2550, 8093, 9435, 7770, 9447, 2502, 1143, 7739, 7173, 4050],\n",
       "       [7741, 4115, 3860, 8224, 7740, 3850, 9847, 4512, 7173, 4050],\n",
       "       [4050, 9807,  966, 4348, 8450, 5072, 1903, 8644, 7955, 6396],\n",
       "       [9942, 9318, 3860, 9029, 1542,  507, 8678, 2079, 3967,  503],\n",
       "       [9177, 3850, 8337, 7173, 7099, 2502, 5947, 9847,  880, 7740],\n",
       "       [9777, 5672, 7740, 7741, 3969, 3850, 8224, 5947, 4050, 3967],\n",
       "       [9610, 9847, 6441, 1573, 7016, 7099, 1268, 4483, 1621, 3078],\n",
       "       [7979,  818, 4525, 4203, 7376, 2502,  592, 6707, 4072, 7336],\n",
       "       [7129, 9817, 8415, 6963, 4117, 3831, 5178, 4368, 7757,  906],\n",
       "       [8006, 8887, 9807, 3967, 9864, 7536, 8558, 9862, 4606, 6396]])"
      ]
     },
     "execution_count": 115,
     "metadata": {},
     "output_type": "execute_result"
    }
   ],
   "source": [
    "# But for topics we are only really interested in the most present words, \n",
    "# i.e. features/dimensions with the greatest representation in the centroid. \n",
    "# Print out the top ten words for each centroid\n",
    "indices = np.argsort(centroids, axis=1)\n",
    "top_ten_indices = indices[:, -10:]\n",
    "top_ten_indices # in ascending order of importance"
   ]
  },
  {
   "cell_type": "code",
   "execution_count": 117,
   "metadata": {
    "ExecuteTime": {
     "end_time": "2018-08-20T21:55:28.529210Z",
     "start_time": "2018-08-20T21:55:28.482458Z"
    }
   },
   "outputs": [
    {
     "data": {
      "text/plain": [
       "array([['decline', 'sec', 'uncertainty', 'resources', 'unconventional',\n",
       "        'data', 'basins', 'reserves', 'production', 'gas'],\n",
       "       ['reservoirs', 'geomechanics', 'fluid', 'shale', 'reservoir',\n",
       "        'flow', 'well', 'hydrate', 'production', 'gas'],\n",
       "       ['gas', 'water', 'asphaltene', 'heavy', 'solvent', 'isc',\n",
       "        'combustion', 'steam', 'sagd', 'oil'],\n",
       "       ['wormhole', 'treatment', 'fluid', 'temperature', 'carbonate',\n",
       "        'acidizing', 'stimulation', 'conductivity', 'fracture', 'acid'],\n",
       "       ['time', 'flow', 'simulation', 'production', 'pressure', 'data',\n",
       "        'model', 'well', 'approach', 'reservoir'],\n",
       "       ['vug', 'matrix', 'reservoir', 'reservoirs', 'fractures', 'flow',\n",
       "        'shale', 'model', 'gas', 'fracture'],\n",
       "       ['used', 'well', 'operations', 'casing', 'practices', 'pressure',\n",
       "        'bit', 'hpht', 'cement', 'drilling'],\n",
       "       ['sand', 'anionic', 'hydrogels', 'grains', 'quartz', 'data',\n",
       "        'adsorption', 'pec', 'gel', 'pvs'],\n",
       "       ['principles', 'waxman', 'smits', 'porosity', 'geometrical',\n",
       "        'flaws', 'kennedy', 'herrick', 'resistivity', 'archie'],\n",
       "       ['saturation', 'surfactants', 'water', 'fracture', 'wettability',\n",
       "        'recovery', 'spontaneous', 'wet', 'imbibition', 'oil']],\n",
       "      dtype='<U14')"
      ]
     },
     "execution_count": 117,
     "metadata": {},
     "output_type": "execute_result"
    }
   ],
   "source": [
    "# Go back to your vectorizer object to find out what words each of these features corresponds to.\n",
    "# reverse the vocab to look-up keys using values\n",
    "reverse_vocab = {}\n",
    "for key, value in vectorizer.vocabulary_.items():\n",
    "    reverse_vocab[value] = key\n",
    "    \n",
    "top_ten_features = np.array([reverse_vocab[index] for row in top_ten_indices for index in row])\n",
    "top_ten_features = top_ten_features.reshape(len(centroids), -1)\n",
    "top_ten_features"
   ]
  },
  {
   "cell_type": "code",
   "execution_count": null,
   "metadata": {},
   "outputs": [],
   "source": [
    "\n",
    "vectorizer, matrix = get_data('../data/tamu_database.json')\n",
    "model = MyModel(n=10)\n",
    "y_pred = model.fit_predict(matrix)"
   ]
  }
 ],
 "metadata": {
  "kernelspec": {
   "display_name": "Python 3",
   "language": "python",
   "name": "python3"
  },
  "language_info": {
   "codemirror_mode": {
    "name": "ipython",
    "version": 3
   },
   "file_extension": ".py",
   "mimetype": "text/x-python",
   "name": "python",
   "nbconvert_exporter": "python",
   "pygments_lexer": "ipython3",
   "version": "3.6.5"
  }
 },
 "nbformat": 4,
 "nbformat_minor": 2
}
