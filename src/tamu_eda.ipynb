{
 "cells": [
  {
   "cell_type": "code",
   "execution_count": 1,
   "metadata": {
    "ExecuteTime": {
     "end_time": "2018-08-20T18:49:06.322746Z",
     "start_time": "2018-08-20T18:49:05.291128Z"
    }
   },
   "outputs": [],
   "source": [
    "from cleaning import database_cleaner\n",
    "\n",
    "import string\n",
    "import numpy as np\n",
    "import pandas as pd\n",
    "\n",
    "import nltk\n",
    "from nltk.corpus import stopwords\n",
    "from nltk.tokenize import word_tokenize\n",
    "from nltk.stem.porter import PorterStemmer\n",
    "from nltk.stem.snowball import SnowballStemmer\n",
    "from nltk.stem.wordnet import WordNetLemmatizer\n",
    "\n",
    "from sklearn.utils import shuffle\n",
    "from sklearn.feature_extraction.text import TfidfVectorizer, CountVectorizer\n",
    "from sklearn.naive_bayes import MultinomialNB\n",
    "from sklearn.metrics import log_loss, confusion_matrix\n",
    "from sklearn.model_selection import train_test_split, KFold\n",
    "from sklearn.linear_model import LogisticRegression\n",
    "from sklearn.tree import DecisionTreeClassifier\n",
    "from sklearn.ensemble import RandomForestClassifier, GradientBoostingClassifier\n",
    "\n",
    "%matplotlib inline\n",
    "import matplotlib.pyplot as plt\n",
    "plt.style.use('ggplot')"
   ]
  },
  {
   "cell_type": "code",
   "execution_count": 3,
   "metadata": {
    "ExecuteTime": {
     "end_time": "2018-08-20T18:49:31.416395Z",
     "start_time": "2018-08-20T18:49:31.305349Z"
    }
   },
   "outputs": [
    {
     "data": {
      "text/html": [
       "<div>\n",
       "<style scoped>\n",
       "    .dataframe tbody tr th:only-of-type {\n",
       "        vertical-align: middle;\n",
       "    }\n",
       "\n",
       "    .dataframe tbody tr th {\n",
       "        vertical-align: top;\n",
       "    }\n",
       "\n",
       "    .dataframe thead th {\n",
       "        text-align: right;\n",
       "    }\n",
       "</style>\n",
       "<table border=\"1\" class=\"dataframe\">\n",
       "  <thead>\n",
       "    <tr style=\"text-align: right;\">\n",
       "      <th></th>\n",
       "      <th>faculty_name</th>\n",
       "      <th>email</th>\n",
       "      <th>google_scholar_link</th>\n",
       "      <th>office</th>\n",
       "      <th>page</th>\n",
       "      <th>phone</th>\n",
       "      <th>faculty_title</th>\n",
       "      <th>paper_titles</th>\n",
       "      <th>abstracts</th>\n",
       "      <th>research_areas</th>\n",
       "    </tr>\n",
       "  </thead>\n",
       "  <tbody>\n",
       "    <tr>\n",
       "      <th>0</th>\n",
       "      <td>A. Daniel Hill</td>\n",
       "      <td>danhill@tamu.edu</td>\n",
       "      <td>https://scholar.google.com/citations?user=EBnW...</td>\n",
       "      <td>RICH 1012</td>\n",
       "      <td>https://engineering.tamu.edu/petroleum/profile...</td>\n",
       "      <td>979-845-2244</td>\n",
       "      <td>Professor</td>\n",
       "      <td>Mechanism of wormholing and its optimal condi...</td>\n",
       "      <td>Acid stimulation is commonly used in carbonat...</td>\n",
       "      <td>Dr. Hill has five patents in oil recovery and ...</td>\n",
       "    </tr>\n",
       "    <tr>\n",
       "      <th>1</th>\n",
       "      <td>A. Rashid Hasan</td>\n",
       "      <td>rhasan@tamu.edu</td>\n",
       "      <td>https://scholar.google.com/citations?user=6lMX...</td>\n",
       "      <td>RICH 501E</td>\n",
       "      <td>https://engineering.tamu.edu/petroleum/profile...</td>\n",
       "      <td>979.847.8564</td>\n",
       "      <td>Professor</td>\n",
       "      <td></td>\n",
       "      <td></td>\n",
       "      <td>Wellbore Heat transferSystematic modeling of h...</td>\n",
       "    </tr>\n",
       "    <tr>\n",
       "      <th>2</th>\n",
       "      <td>Akhil Datta-Gupta</td>\n",
       "      <td>datta-gupta@tamu.edu</td>\n",
       "      <td>https://scholar.google.com/citations?user=Al-S...</td>\n",
       "      <td>RICH 401G</td>\n",
       "      <td>https://engineering.tamu.edu/petroleum/profile...</td>\n",
       "      <td>979-847-9030</td>\n",
       "      <td>University Distinguished Professor</td>\n",
       "      <td>Radius of Investigation and its Generalizatio...</td>\n",
       "      <td>The concept of radius of investigation is fun...</td>\n",
       "      <td>Dr. Datta-Gupta has research interests in rapi...</td>\n",
       "    </tr>\n",
       "    <tr>\n",
       "      <th>3</th>\n",
       "      <td>Albertus Retnanto</td>\n",
       "      <td>albertus.retnanto@qatar.tamu.edu</td>\n",
       "      <td>https://scholar.google.com/citations?user=kN7P...</td>\n",
       "      <td>204K</td>\n",
       "      <td>https://engineering.tamu.edu/petroleum/profile...</td>\n",
       "      <td>974-4423-0281</td>\n",
       "      <td>Associate Professor of the Practice</td>\n",
       "      <td>After-Closure Idiosyncrasies of Fracture C...</td>\n",
       "      <td>Fracture Calibration Tests (FCT), are stra...</td>\n",
       "      <td>Field development and planning Production enha...</td>\n",
       "    </tr>\n",
       "    <tr>\n",
       "      <th>4</th>\n",
       "      <td>Aziz Rahman</td>\n",
       "      <td>aziz.rahman@qatar.tamu.edu</td>\n",
       "      <td>https://scholar.google.com/citations?user=PYRt...</td>\n",
       "      <td>204E</td>\n",
       "      <td>https://engineering.tamu.edu/petroleum/profile...</td>\n",
       "      <td>974-4423-0601</td>\n",
       "      <td>Assistant Professor</td>\n",
       "      <td></td>\n",
       "      <td></td>\n",
       "      <td>Flow assurance Multiphase pipe flow Wellbore h...</td>\n",
       "    </tr>\n",
       "  </tbody>\n",
       "</table>\n",
       "</div>"
      ],
      "text/plain": [
       "        faculty_name                             email  \\\n",
       "0     A. Daniel Hill                  danhill@tamu.edu   \n",
       "1    A. Rashid Hasan                   rhasan@tamu.edu   \n",
       "2  Akhil Datta-Gupta              datta-gupta@tamu.edu   \n",
       "3  Albertus Retnanto  albertus.retnanto@qatar.tamu.edu   \n",
       "4        Aziz Rahman        aziz.rahman@qatar.tamu.edu   \n",
       "\n",
       "                                 google_scholar_link     office  \\\n",
       "0  https://scholar.google.com/citations?user=EBnW...  RICH 1012   \n",
       "1  https://scholar.google.com/citations?user=6lMX...  RICH 501E   \n",
       "2  https://scholar.google.com/citations?user=Al-S...  RICH 401G   \n",
       "3  https://scholar.google.com/citations?user=kN7P...       204K   \n",
       "4  https://scholar.google.com/citations?user=PYRt...       204E   \n",
       "\n",
       "                                                page          phone  \\\n",
       "0  https://engineering.tamu.edu/petroleum/profile...   979-845-2244   \n",
       "1  https://engineering.tamu.edu/petroleum/profile...   979.847.8564   \n",
       "2  https://engineering.tamu.edu/petroleum/profile...  979-847-9030    \n",
       "3  https://engineering.tamu.edu/petroleum/profile...  974-4423-0281   \n",
       "4  https://engineering.tamu.edu/petroleum/profile...  974-4423-0601   \n",
       "\n",
       "                         faculty_title  \\\n",
       "0                            Professor   \n",
       "1                            Professor   \n",
       "2   University Distinguished Professor   \n",
       "3  Associate Professor of the Practice   \n",
       "4                  Assistant Professor   \n",
       "\n",
       "                                        paper_titles  \\\n",
       "0   Mechanism of wormholing and its optimal condi...   \n",
       "1                                                      \n",
       "2   Radius of Investigation and its Generalizatio...   \n",
       "3      After-Closure Idiosyncrasies of Fracture C...   \n",
       "4                                                      \n",
       "\n",
       "                                           abstracts  \\\n",
       "0   Acid stimulation is commonly used in carbonat...   \n",
       "1                                                      \n",
       "2   The concept of radius of investigation is fun...   \n",
       "3      Fracture Calibration Tests (FCT), are stra...   \n",
       "4                                                      \n",
       "\n",
       "                                      research_areas  \n",
       "0  Dr. Hill has five patents in oil recovery and ...  \n",
       "1  Wellbore Heat transferSystematic modeling of h...  \n",
       "2  Dr. Datta-Gupta has research interests in rapi...  \n",
       "3  Field development and planning Production enha...  \n",
       "4  Flow assurance Multiphase pipe flow Wellbore h...  "
      ]
     },
     "execution_count": 3,
     "metadata": {},
     "output_type": "execute_result"
    }
   ],
   "source": [
    "tamu_df = database_cleaner('../data/tamu_database.json')\n",
    "tamu_df.head()"
   ]
  },
  {
   "cell_type": "code",
   "execution_count": 4,
   "metadata": {
    "ExecuteTime": {
     "end_time": "2018-08-20T18:49:42.605102Z",
     "start_time": "2018-08-20T18:49:42.559359Z"
    }
   },
   "outputs": [
    {
     "data": {
      "text/html": [
       "<div>\n",
       "<style scoped>\n",
       "    .dataframe tbody tr th:only-of-type {\n",
       "        vertical-align: middle;\n",
       "    }\n",
       "\n",
       "    .dataframe tbody tr th {\n",
       "        vertical-align: top;\n",
       "    }\n",
       "\n",
       "    .dataframe thead th {\n",
       "        text-align: right;\n",
       "    }\n",
       "</style>\n",
       "<table border=\"1\" class=\"dataframe\">\n",
       "  <thead>\n",
       "    <tr style=\"text-align: right;\">\n",
       "      <th></th>\n",
       "      <th>faculty_name</th>\n",
       "      <th>research_areas</th>\n",
       "      <th>paper_titles</th>\n",
       "      <th>abstracts</th>\n",
       "    </tr>\n",
       "  </thead>\n",
       "  <tbody>\n",
       "    <tr>\n",
       "      <th>0</th>\n",
       "      <td>A. Daniel Hill</td>\n",
       "      <td>Dr. Hill has five patents in oil recovery and ...</td>\n",
       "      <td>Mechanism of wormholing and its optimal condi...</td>\n",
       "      <td>Acid stimulation is commonly used in carbonat...</td>\n",
       "    </tr>\n",
       "    <tr>\n",
       "      <th>1</th>\n",
       "      <td>A. Rashid Hasan</td>\n",
       "      <td>Wellbore Heat transferSystematic modeling of h...</td>\n",
       "      <td></td>\n",
       "      <td></td>\n",
       "    </tr>\n",
       "    <tr>\n",
       "      <th>2</th>\n",
       "      <td>Akhil Datta-Gupta</td>\n",
       "      <td>Dr. Datta-Gupta has research interests in rapi...</td>\n",
       "      <td>Radius of Investigation and its Generalizatio...</td>\n",
       "      <td>The concept of radius of investigation is fun...</td>\n",
       "    </tr>\n",
       "    <tr>\n",
       "      <th>3</th>\n",
       "      <td>Albertus Retnanto</td>\n",
       "      <td>Field development and planning Production enha...</td>\n",
       "      <td>After-Closure Idiosyncrasies of Fracture C...</td>\n",
       "      <td>Fracture Calibration Tests (FCT), are stra...</td>\n",
       "    </tr>\n",
       "    <tr>\n",
       "      <th>4</th>\n",
       "      <td>Aziz Rahman</td>\n",
       "      <td>Flow assurance Multiphase pipe flow Wellbore h...</td>\n",
       "      <td></td>\n",
       "      <td></td>\n",
       "    </tr>\n",
       "  </tbody>\n",
       "</table>\n",
       "</div>"
      ],
      "text/plain": [
       "        faculty_name                                     research_areas  \\\n",
       "0     A. Daniel Hill  Dr. Hill has five patents in oil recovery and ...   \n",
       "1    A. Rashid Hasan  Wellbore Heat transferSystematic modeling of h...   \n",
       "2  Akhil Datta-Gupta  Dr. Datta-Gupta has research interests in rapi...   \n",
       "3  Albertus Retnanto  Field development and planning Production enha...   \n",
       "4        Aziz Rahman  Flow assurance Multiphase pipe flow Wellbore h...   \n",
       "\n",
       "                                        paper_titles  \\\n",
       "0   Mechanism of wormholing and its optimal condi...   \n",
       "1                                                      \n",
       "2   Radius of Investigation and its Generalizatio...   \n",
       "3      After-Closure Idiosyncrasies of Fracture C...   \n",
       "4                                                      \n",
       "\n",
       "                                           abstracts  \n",
       "0   Acid stimulation is commonly used in carbonat...  \n",
       "1                                                     \n",
       "2   The concept of radius of investigation is fun...  \n",
       "3      Fracture Calibration Tests (FCT), are stra...  \n",
       "4                                                     "
      ]
     },
     "execution_count": 4,
     "metadata": {},
     "output_type": "execute_result"
    }
   ],
   "source": [
    "# For nlp, only retaining faculty_name, research_areas, paper_titles, abstracts\n",
    "df = tamu_df[['faculty_name', 'research_areas', 'paper_titles', 'abstracts']]\n",
    "df.head()"
   ]
  },
  {
   "cell_type": "code",
   "execution_count": 5,
   "metadata": {
    "ExecuteTime": {
     "end_time": "2018-08-20T18:49:47.492424Z",
     "start_time": "2018-08-20T18:49:47.454498Z"
    }
   },
   "outputs": [
    {
     "data": {
      "text/plain": [
       "16"
      ]
     },
     "execution_count": 5,
     "metadata": {},
     "output_type": "execute_result"
    }
   ],
   "source": [
    "missing = df['paper_titles'] == ''\n",
    "sum(missing)"
   ]
  },
  {
   "cell_type": "code",
   "execution_count": 7,
   "metadata": {
    "ExecuteTime": {
     "end_time": "2018-08-20T18:52:33.284329Z",
     "start_time": "2018-08-20T18:52:33.243937Z"
    }
   },
   "outputs": [
    {
     "data": {
      "text/plain": [
       "26"
      ]
     },
     "execution_count": 7,
     "metadata": {},
     "output_type": "execute_result"
    }
   ],
   "source": [
    "# Working with non-missing entries i.e. 26 faculties\n",
    "df_nlp = df[~missing]\n",
    "len(df_nlp)"
   ]
  },
  {
   "cell_type": "code",
   "execution_count": 10,
   "metadata": {
    "ExecuteTime": {
     "end_time": "2018-08-20T19:17:21.449591Z",
     "start_time": "2018-08-20T19:17:21.400067Z"
    }
   },
   "outputs": [
    {
     "data": {
      "text/html": [
       "<div>\n",
       "<style scoped>\n",
       "    .dataframe tbody tr th:only-of-type {\n",
       "        vertical-align: middle;\n",
       "    }\n",
       "\n",
       "    .dataframe tbody tr th {\n",
       "        vertical-align: top;\n",
       "    }\n",
       "\n",
       "    .dataframe thead th {\n",
       "        text-align: right;\n",
       "    }\n",
       "</style>\n",
       "<table border=\"1\" class=\"dataframe\">\n",
       "  <thead>\n",
       "    <tr style=\"text-align: right;\">\n",
       "      <th></th>\n",
       "      <th>faculty_name</th>\n",
       "      <th>research_areas</th>\n",
       "      <th>paper_titles</th>\n",
       "      <th>abstracts</th>\n",
       "    </tr>\n",
       "  </thead>\n",
       "  <tbody>\n",
       "    <tr>\n",
       "      <th>0</th>\n",
       "      <td>A. Daniel Hill</td>\n",
       "      <td>Dr. Hill has five patents in oil recovery and ...</td>\n",
       "      <td>Mechanism of wormholing and its optimal condi...</td>\n",
       "      <td>Acid stimulation is commonly used in carbonat...</td>\n",
       "    </tr>\n",
       "    <tr>\n",
       "      <th>2</th>\n",
       "      <td>Akhil Datta-Gupta</td>\n",
       "      <td>Dr. Datta-Gupta has research interests in rapi...</td>\n",
       "      <td>Radius of Investigation and its Generalizatio...</td>\n",
       "      <td>The concept of radius of investigation is fun...</td>\n",
       "    </tr>\n",
       "    <tr>\n",
       "      <th>3</th>\n",
       "      <td>Albertus Retnanto</td>\n",
       "      <td>Field development and planning Production enha...</td>\n",
       "      <td>After-Closure Idiosyncrasies of Fracture C...</td>\n",
       "      <td>Fracture Calibration Tests (FCT), are stra...</td>\n",
       "    </tr>\n",
       "    <tr>\n",
       "      <th>5</th>\n",
       "      <td>Berna Hascakir</td>\n",
       "      <td>Heavy oil and oil shale recovery with enhanced...</td>\n",
       "      <td>Water and aromatics fraction interaction at e...</td>\n",
       "      <td>Performance predictions of the In-Situ Combus...</td>\n",
       "    </tr>\n",
       "    <tr>\n",
       "      <th>6</th>\n",
       "      <td>David Schechter</td>\n",
       "      <td>Spraberry Trend Area Geological and petrophysi...</td>\n",
       "      <td>Gas Injection for EOR in Organic Rich Shales....</td>\n",
       "      <td>Laboratory experiments of gas injection in or...</td>\n",
       "    </tr>\n",
       "  </tbody>\n",
       "</table>\n",
       "</div>"
      ],
      "text/plain": [
       "        faculty_name                                     research_areas  \\\n",
       "0     A. Daniel Hill  Dr. Hill has five patents in oil recovery and ...   \n",
       "2  Akhil Datta-Gupta  Dr. Datta-Gupta has research interests in rapi...   \n",
       "3  Albertus Retnanto  Field development and planning Production enha...   \n",
       "5     Berna Hascakir  Heavy oil and oil shale recovery with enhanced...   \n",
       "6    David Schechter  Spraberry Trend Area Geological and petrophysi...   \n",
       "\n",
       "                                        paper_titles  \\\n",
       "0   Mechanism of wormholing and its optimal condi...   \n",
       "2   Radius of Investigation and its Generalizatio...   \n",
       "3      After-Closure Idiosyncrasies of Fracture C...   \n",
       "5   Water and aromatics fraction interaction at e...   \n",
       "6   Gas Injection for EOR in Organic Rich Shales....   \n",
       "\n",
       "                                           abstracts  \n",
       "0   Acid stimulation is commonly used in carbonat...  \n",
       "2   The concept of radius of investigation is fun...  \n",
       "3      Fracture Calibration Tests (FCT), are stra...  \n",
       "5   Performance predictions of the In-Situ Combus...  \n",
       "6   Laboratory experiments of gas injection in or...  "
      ]
     },
     "execution_count": 10,
     "metadata": {},
     "output_type": "execute_result"
    }
   ],
   "source": [
    "df_nlp.head()"
   ]
  },
  {
   "cell_type": "code",
   "execution_count": 23,
   "metadata": {
    "ExecuteTime": {
     "end_time": "2018-08-20T19:22:04.239018Z",
     "start_time": "2018-08-20T19:22:04.200514Z"
    }
   },
   "outputs": [
    {
     "data": {
      "text/plain": [
       "str"
      ]
     },
     "execution_count": 23,
     "metadata": {},
     "output_type": "execute_result"
    }
   ],
   "source": [
    "type(df_nlp.iloc[0].loc['paper_titles'])"
   ]
  },
  {
   "cell_type": "markdown",
   "metadata": {},
   "source": [
    "# Start of NLP pipeline"
   ]
  },
  {
   "cell_type": "code",
   "execution_count": 8,
   "metadata": {
    "ExecuteTime": {
     "end_time": "2018-08-20T18:56:02.943968Z",
     "start_time": "2018-08-20T18:56:02.902270Z"
    }
   },
   "outputs": [],
   "source": [
    "punctuation_ = set(string.punctuation)\n",
    "stopwords_ = set(stopwords.words('english'))\n",
    "\n",
    "def filter_tokens(sent):\n",
    "    return([w for w in sent if not w in stopwords_ and not w in punctuation_])"
   ]
  },
  {
   "cell_type": "code",
   "execution_count": 15,
   "metadata": {
    "ExecuteTime": {
     "end_time": "2018-08-20T19:19:24.958561Z",
     "start_time": "2018-08-20T19:19:24.919501Z"
    }
   },
   "outputs": [],
   "source": [
    "def vectors(corpus, tf_idf=True, stemmer=False, lemmatizer=False):\n",
    "    '''\n",
    "    Returns tf-idf vector for a given corpus (list/array of documents) by default\n",
    "    Count vector(bag of words) returned when tf_idf is set to False\n",
    "    Option to include stemming or lemmatizing\n",
    "    '''\n",
    "    tokens = [word_tokenize(doc) for doc in corpus]\n",
    "    tokens_lower = [[word.lower() for word in doc] for doc in tokens]\n",
    "    tokens_filtered = list(map(filter_tokens, tokens_lower))\n",
    "    \n",
    "    # Stemmer\n",
    "    if stemmer:  \n",
    "        stemmer_porter = PorterStemmer()\n",
    "        tokens_filtered = [' '. join(list(map(stemmer_porter.stem, sent))) for sent in tokens_filtered]\n",
    "    \n",
    "    # Lemmatizer\n",
    "    if lemmatizer:  \n",
    "        lemmatizer = WordNetLemmatizer()\n",
    "        tokens_filtered = [' '.join(list(map(lemmatizer.lemmatize, sent))) for sent in tokens_filtered]\n",
    "    \n",
    "    if tf_idf:\n",
    "        # tf-idf Vectorizer\n",
    "        vectorizer = TfidfVectorizer(stop_words=stopwords_)\n",
    "        vector= vectorizer.fit_transform(tokens_filtered)\n",
    "        \n",
    "    else:\n",
    "        # Count Vectorizer\n",
    "        vectorizer = CountVectorizer()\n",
    "        vector = vectorizer.fit_transform(tokens_filtered)\n",
    "    \n",
    "    return vector"
   ]
  },
  {
   "cell_type": "code",
   "execution_count": 16,
   "metadata": {
    "ExecuteTime": {
     "end_time": "2018-08-20T19:19:25.696834Z",
     "start_time": "2018-08-20T19:19:25.661489Z"
    }
   },
   "outputs": [],
   "source": [
    "corpus = df_nlp['paper_titles'].values"
   ]
  },
  {
   "cell_type": "code",
   "execution_count": 17,
   "metadata": {
    "ExecuteTime": {
     "end_time": "2018-08-20T19:19:28.486897Z",
     "start_time": "2018-08-20T19:19:28.366948Z"
    }
   },
   "outputs": [
    {
     "ename": "AttributeError",
     "evalue": "'list' object has no attribute 'lower'",
     "output_type": "error",
     "traceback": [
      "\u001b[0;31m---------------------------------------------------------------------------\u001b[0m",
      "\u001b[0;31mAttributeError\u001b[0m                            Traceback (most recent call last)",
      "\u001b[0;32m<ipython-input-17-16e8d4b5e627>\u001b[0m in \u001b[0;36m<module>\u001b[0;34m()\u001b[0m\n\u001b[0;32m----> 1\u001b[0;31m \u001b[0mvectors\u001b[0m\u001b[0;34m(\u001b[0m\u001b[0mcorpus\u001b[0m\u001b[0;34m,\u001b[0m \u001b[0mtf_idf\u001b[0m\u001b[0;34m=\u001b[0m\u001b[0;32mTrue\u001b[0m\u001b[0;34m,\u001b[0m \u001b[0mstemmer\u001b[0m\u001b[0;34m=\u001b[0m\u001b[0;32mFalse\u001b[0m\u001b[0;34m,\u001b[0m \u001b[0mlemmatizer\u001b[0m\u001b[0;34m=\u001b[0m\u001b[0;32mFalse\u001b[0m\u001b[0;34m)\u001b[0m\u001b[0;34m\u001b[0m\u001b[0m\n\u001b[0m",
      "\u001b[0;32m<ipython-input-15-b63b2680878c>\u001b[0m in \u001b[0;36mvectors\u001b[0;34m(corpus, tf_idf, stemmer, lemmatizer)\u001b[0m\n\u001b[1;32m     22\u001b[0m         \u001b[0;31m# tf-idf Vectorizer\u001b[0m\u001b[0;34m\u001b[0m\u001b[0;34m\u001b[0m\u001b[0m\n\u001b[1;32m     23\u001b[0m         \u001b[0mvectorizer\u001b[0m \u001b[0;34m=\u001b[0m \u001b[0mTfidfVectorizer\u001b[0m\u001b[0;34m(\u001b[0m\u001b[0mstop_words\u001b[0m\u001b[0;34m=\u001b[0m\u001b[0mstopwords_\u001b[0m\u001b[0;34m)\u001b[0m\u001b[0;34m\u001b[0m\u001b[0m\n\u001b[0;32m---> 24\u001b[0;31m         \u001b[0mvector\u001b[0m\u001b[0;34m=\u001b[0m \u001b[0mvectorizer\u001b[0m\u001b[0;34m.\u001b[0m\u001b[0mfit_transform\u001b[0m\u001b[0;34m(\u001b[0m\u001b[0mtokens_filtered\u001b[0m\u001b[0;34m)\u001b[0m\u001b[0;34m\u001b[0m\u001b[0m\n\u001b[0m\u001b[1;32m     25\u001b[0m \u001b[0;34m\u001b[0m\u001b[0m\n\u001b[1;32m     26\u001b[0m     \u001b[0;32melse\u001b[0m\u001b[0;34m:\u001b[0m\u001b[0;34m\u001b[0m\u001b[0m\n",
      "\u001b[0;32m/anaconda3/lib/python3.6/site-packages/sklearn/feature_extraction/text.py\u001b[0m in \u001b[0;36mfit_transform\u001b[0;34m(self, raw_documents, y)\u001b[0m\n\u001b[1;32m   1379\u001b[0m             \u001b[0mTf\u001b[0m\u001b[0;34m-\u001b[0m\u001b[0midf\u001b[0m\u001b[0;34m-\u001b[0m\u001b[0mweighted\u001b[0m \u001b[0mdocument\u001b[0m\u001b[0;34m-\u001b[0m\u001b[0mterm\u001b[0m \u001b[0mmatrix\u001b[0m\u001b[0;34m.\u001b[0m\u001b[0;34m\u001b[0m\u001b[0m\n\u001b[1;32m   1380\u001b[0m         \"\"\"\n\u001b[0;32m-> 1381\u001b[0;31m         \u001b[0mX\u001b[0m \u001b[0;34m=\u001b[0m \u001b[0msuper\u001b[0m\u001b[0;34m(\u001b[0m\u001b[0mTfidfVectorizer\u001b[0m\u001b[0;34m,\u001b[0m \u001b[0mself\u001b[0m\u001b[0;34m)\u001b[0m\u001b[0;34m.\u001b[0m\u001b[0mfit_transform\u001b[0m\u001b[0;34m(\u001b[0m\u001b[0mraw_documents\u001b[0m\u001b[0;34m)\u001b[0m\u001b[0;34m\u001b[0m\u001b[0m\n\u001b[0m\u001b[1;32m   1382\u001b[0m         \u001b[0mself\u001b[0m\u001b[0;34m.\u001b[0m\u001b[0m_tfidf\u001b[0m\u001b[0;34m.\u001b[0m\u001b[0mfit\u001b[0m\u001b[0;34m(\u001b[0m\u001b[0mX\u001b[0m\u001b[0;34m)\u001b[0m\u001b[0;34m\u001b[0m\u001b[0m\n\u001b[1;32m   1383\u001b[0m         \u001b[0;31m# X is already a transformed view of raw_documents so\u001b[0m\u001b[0;34m\u001b[0m\u001b[0;34m\u001b[0m\u001b[0m\n",
      "\u001b[0;32m/anaconda3/lib/python3.6/site-packages/sklearn/feature_extraction/text.py\u001b[0m in \u001b[0;36mfit_transform\u001b[0;34m(self, raw_documents, y)\u001b[0m\n\u001b[1;32m    867\u001b[0m \u001b[0;34m\u001b[0m\u001b[0m\n\u001b[1;32m    868\u001b[0m         vocabulary, X = self._count_vocab(raw_documents,\n\u001b[0;32m--> 869\u001b[0;31m                                           self.fixed_vocabulary_)\n\u001b[0m\u001b[1;32m    870\u001b[0m \u001b[0;34m\u001b[0m\u001b[0m\n\u001b[1;32m    871\u001b[0m         \u001b[0;32mif\u001b[0m \u001b[0mself\u001b[0m\u001b[0;34m.\u001b[0m\u001b[0mbinary\u001b[0m\u001b[0;34m:\u001b[0m\u001b[0;34m\u001b[0m\u001b[0m\n",
      "\u001b[0;32m/anaconda3/lib/python3.6/site-packages/sklearn/feature_extraction/text.py\u001b[0m in \u001b[0;36m_count_vocab\u001b[0;34m(self, raw_documents, fixed_vocab)\u001b[0m\n\u001b[1;32m    790\u001b[0m         \u001b[0;32mfor\u001b[0m \u001b[0mdoc\u001b[0m \u001b[0;32min\u001b[0m \u001b[0mraw_documents\u001b[0m\u001b[0;34m:\u001b[0m\u001b[0;34m\u001b[0m\u001b[0m\n\u001b[1;32m    791\u001b[0m             \u001b[0mfeature_counter\u001b[0m \u001b[0;34m=\u001b[0m \u001b[0;34m{\u001b[0m\u001b[0;34m}\u001b[0m\u001b[0;34m\u001b[0m\u001b[0m\n\u001b[0;32m--> 792\u001b[0;31m             \u001b[0;32mfor\u001b[0m \u001b[0mfeature\u001b[0m \u001b[0;32min\u001b[0m \u001b[0manalyze\u001b[0m\u001b[0;34m(\u001b[0m\u001b[0mdoc\u001b[0m\u001b[0;34m)\u001b[0m\u001b[0;34m:\u001b[0m\u001b[0;34m\u001b[0m\u001b[0m\n\u001b[0m\u001b[1;32m    793\u001b[0m                 \u001b[0;32mtry\u001b[0m\u001b[0;34m:\u001b[0m\u001b[0;34m\u001b[0m\u001b[0m\n\u001b[1;32m    794\u001b[0m                     \u001b[0mfeature_idx\u001b[0m \u001b[0;34m=\u001b[0m \u001b[0mvocabulary\u001b[0m\u001b[0;34m[\u001b[0m\u001b[0mfeature\u001b[0m\u001b[0;34m]\u001b[0m\u001b[0;34m\u001b[0m\u001b[0m\n",
      "\u001b[0;32m/anaconda3/lib/python3.6/site-packages/sklearn/feature_extraction/text.py\u001b[0m in \u001b[0;36m<lambda>\u001b[0;34m(doc)\u001b[0m\n\u001b[1;32m    264\u001b[0m \u001b[0;34m\u001b[0m\u001b[0m\n\u001b[1;32m    265\u001b[0m             return lambda doc: self._word_ngrams(\n\u001b[0;32m--> 266\u001b[0;31m                 tokenize(preprocess(self.decode(doc))), stop_words)\n\u001b[0m\u001b[1;32m    267\u001b[0m \u001b[0;34m\u001b[0m\u001b[0m\n\u001b[1;32m    268\u001b[0m         \u001b[0;32melse\u001b[0m\u001b[0;34m:\u001b[0m\u001b[0;34m\u001b[0m\u001b[0m\n",
      "\u001b[0;32m/anaconda3/lib/python3.6/site-packages/sklearn/feature_extraction/text.py\u001b[0m in \u001b[0;36m<lambda>\u001b[0;34m(x)\u001b[0m\n\u001b[1;32m    230\u001b[0m \u001b[0;34m\u001b[0m\u001b[0m\n\u001b[1;32m    231\u001b[0m         \u001b[0;32mif\u001b[0m \u001b[0mself\u001b[0m\u001b[0;34m.\u001b[0m\u001b[0mlowercase\u001b[0m\u001b[0;34m:\u001b[0m\u001b[0;34m\u001b[0m\u001b[0m\n\u001b[0;32m--> 232\u001b[0;31m             \u001b[0;32mreturn\u001b[0m \u001b[0;32mlambda\u001b[0m \u001b[0mx\u001b[0m\u001b[0;34m:\u001b[0m \u001b[0mstrip_accents\u001b[0m\u001b[0;34m(\u001b[0m\u001b[0mx\u001b[0m\u001b[0;34m.\u001b[0m\u001b[0mlower\u001b[0m\u001b[0;34m(\u001b[0m\u001b[0;34m)\u001b[0m\u001b[0;34m)\u001b[0m\u001b[0;34m\u001b[0m\u001b[0m\n\u001b[0m\u001b[1;32m    233\u001b[0m         \u001b[0;32melse\u001b[0m\u001b[0;34m:\u001b[0m\u001b[0;34m\u001b[0m\u001b[0m\n\u001b[1;32m    234\u001b[0m             \u001b[0;32mreturn\u001b[0m \u001b[0mstrip_accents\u001b[0m\u001b[0;34m\u001b[0m\u001b[0m\n",
      "\u001b[0;31mAttributeError\u001b[0m: 'list' object has no attribute 'lower'"
     ]
    }
   ],
   "source": [
    "vectors(corpus, tf_idf=True, stemmer=False, lemmatizer=False)"
   ]
  },
  {
   "cell_type": "code",
   "execution_count": null,
   "metadata": {},
   "outputs": [],
   "source": []
  }
 ],
 "metadata": {
  "kernelspec": {
   "display_name": "Python 3",
   "language": "python",
   "name": "python3"
  },
  "language_info": {
   "codemirror_mode": {
    "name": "ipython",
    "version": 3
   },
   "file_extension": ".py",
   "mimetype": "text/x-python",
   "name": "python",
   "nbconvert_exporter": "python",
   "pygments_lexer": "ipython3",
   "version": "3.6.5"
  }
 },
 "nbformat": 4,
 "nbformat_minor": 2
}
