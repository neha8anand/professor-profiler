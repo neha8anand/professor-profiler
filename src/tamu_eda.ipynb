{
 "cells": [
  {
   "cell_type": "code",
   "execution_count": 105,
   "metadata": {
    "ExecuteTime": {
     "end_time": "2018-08-20T21:42:47.451326Z",
     "start_time": "2018-08-20T21:42:47.405217Z"
    }
   },
   "outputs": [],
   "source": [
    "from cleaning import database_cleaner\n",
    "from nlp_pipeline import feature_matrix\n",
    "\n",
    "import string\n",
    "import numpy as np\n",
    "import pandas as pd\n",
    "\n",
    "import nltk\n",
    "from nltk.corpus import stopwords\n",
    "from nltk.tokenize import word_tokenize\n",
    "from nltk.util import ngrams\n",
    "from nltk.stem.porter import PorterStemmer\n",
    "from nltk.stem.snowball import SnowballStemmer\n",
    "from nltk.stem.wordnet import WordNetLemmatizer\n",
    "\n",
    "from sklearn.utils import shuffle\n",
    "from sklearn.feature_extraction.text import TfidfVectorizer, CountVectorizer\n",
    "from sklearn.naive_bayes import MultinomialNB\n",
    "from sklearn.metrics import log_loss, confusion_matrix\n",
    "from sklearn.model_selection import train_test_split, KFold\n",
    "from sklearn.linear_model import LogisticRegression\n",
    "from sklearn.tree import DecisionTreeClassifier\n",
    "from sklearn.ensemble import RandomForestClassifier, GradientBoostingClassifier\n",
    "\n",
    "%matplotlib inline\n",
    "import matplotlib.pyplot as plt\n",
    "plt.style.use('ggplot')\n",
    "\n",
    "from scipy.spatial.distance import pdist, squareform\n",
    "from scipy.cluster.hierarchy  import linkage, dendrogram\n",
    "from sklearn.cluster import KMeans\n",
    "from sklearn.metrics import silhouette_score, silhouette_samples"
   ]
  },
  {
   "cell_type": "code",
   "execution_count": 90,
   "metadata": {
    "ExecuteTime": {
     "end_time": "2018-08-20T21:37:57.493953Z",
     "start_time": "2018-08-20T21:37:57.394616Z"
    }
   },
   "outputs": [
    {
     "data": {
      "text/html": [
       "<div>\n",
       "<style scoped>\n",
       "    .dataframe tbody tr th:only-of-type {\n",
       "        vertical-align: middle;\n",
       "    }\n",
       "\n",
       "    .dataframe tbody tr th {\n",
       "        vertical-align: top;\n",
       "    }\n",
       "\n",
       "    .dataframe thead th {\n",
       "        text-align: right;\n",
       "    }\n",
       "</style>\n",
       "<table border=\"1\" class=\"dataframe\">\n",
       "  <thead>\n",
       "    <tr style=\"text-align: right;\">\n",
       "      <th></th>\n",
       "      <th>faculty_name</th>\n",
       "      <th>email</th>\n",
       "      <th>google_scholar_link</th>\n",
       "      <th>office</th>\n",
       "      <th>page</th>\n",
       "      <th>phone</th>\n",
       "      <th>faculty_title</th>\n",
       "      <th>paper_titles</th>\n",
       "      <th>abstracts</th>\n",
       "      <th>research_areas</th>\n",
       "    </tr>\n",
       "  </thead>\n",
       "  <tbody>\n",
       "    <tr>\n",
       "      <th>0</th>\n",
       "      <td>A. Daniel Hill</td>\n",
       "      <td>danhill@tamu.edu</td>\n",
       "      <td>https://scholar.google.com/citations?user=EBnW...</td>\n",
       "      <td>RICH 1012</td>\n",
       "      <td>https://engineering.tamu.edu/petroleum/profile...</td>\n",
       "      <td>979-845-2244</td>\n",
       "      <td>Professor</td>\n",
       "      <td>Mechanism of wormholing and its optimal condi...</td>\n",
       "      <td>Acid stimulation is commonly used in carbonat...</td>\n",
       "      <td>Dr. Hill has five patents in oil recovery and ...</td>\n",
       "    </tr>\n",
       "    <tr>\n",
       "      <th>1</th>\n",
       "      <td>A. Rashid Hasan</td>\n",
       "      <td>rhasan@tamu.edu</td>\n",
       "      <td>https://scholar.google.com/citations?user=6lMX...</td>\n",
       "      <td>RICH 501E</td>\n",
       "      <td>https://engineering.tamu.edu/petroleum/profile...</td>\n",
       "      <td>979.847.8564</td>\n",
       "      <td>Professor</td>\n",
       "      <td></td>\n",
       "      <td></td>\n",
       "      <td>Wellbore Heat transferSystematic modeling of h...</td>\n",
       "    </tr>\n",
       "    <tr>\n",
       "      <th>2</th>\n",
       "      <td>Akhil Datta-Gupta</td>\n",
       "      <td>datta-gupta@tamu.edu</td>\n",
       "      <td>https://scholar.google.com/citations?user=Al-S...</td>\n",
       "      <td>RICH 401G</td>\n",
       "      <td>https://engineering.tamu.edu/petroleum/profile...</td>\n",
       "      <td>979-847-9030</td>\n",
       "      <td>University Distinguished Professor</td>\n",
       "      <td>Radius of Investigation and its Generalizatio...</td>\n",
       "      <td>The concept of radius of investigation is fun...</td>\n",
       "      <td>Dr. Datta-Gupta has research interests in rapi...</td>\n",
       "    </tr>\n",
       "    <tr>\n",
       "      <th>3</th>\n",
       "      <td>Albertus Retnanto</td>\n",
       "      <td>albertus.retnanto@qatar.tamu.edu</td>\n",
       "      <td>https://scholar.google.com/citations?user=kN7P...</td>\n",
       "      <td>204K</td>\n",
       "      <td>https://engineering.tamu.edu/petroleum/profile...</td>\n",
       "      <td>974-4423-0281</td>\n",
       "      <td>Associate Professor of the Practice</td>\n",
       "      <td>After-Closure Idiosyncrasies of Fracture C...</td>\n",
       "      <td>Fracture Calibration Tests (FCT), are stra...</td>\n",
       "      <td>Field development and planning Production enha...</td>\n",
       "    </tr>\n",
       "    <tr>\n",
       "      <th>4</th>\n",
       "      <td>Aziz Rahman</td>\n",
       "      <td>aziz.rahman@qatar.tamu.edu</td>\n",
       "      <td>https://scholar.google.com/citations?user=PYRt...</td>\n",
       "      <td>204E</td>\n",
       "      <td>https://engineering.tamu.edu/petroleum/profile...</td>\n",
       "      <td>974-4423-0601</td>\n",
       "      <td>Assistant Professor</td>\n",
       "      <td></td>\n",
       "      <td></td>\n",
       "      <td>Flow assurance Multiphase pipe flow Wellbore h...</td>\n",
       "    </tr>\n",
       "  </tbody>\n",
       "</table>\n",
       "</div>"
      ],
      "text/plain": [
       "        faculty_name                             email  \\\n",
       "0     A. Daniel Hill                  danhill@tamu.edu   \n",
       "1    A. Rashid Hasan                   rhasan@tamu.edu   \n",
       "2  Akhil Datta-Gupta              datta-gupta@tamu.edu   \n",
       "3  Albertus Retnanto  albertus.retnanto@qatar.tamu.edu   \n",
       "4        Aziz Rahman        aziz.rahman@qatar.tamu.edu   \n",
       "\n",
       "                                 google_scholar_link     office  \\\n",
       "0  https://scholar.google.com/citations?user=EBnW...  RICH 1012   \n",
       "1  https://scholar.google.com/citations?user=6lMX...  RICH 501E   \n",
       "2  https://scholar.google.com/citations?user=Al-S...  RICH 401G   \n",
       "3  https://scholar.google.com/citations?user=kN7P...       204K   \n",
       "4  https://scholar.google.com/citations?user=PYRt...       204E   \n",
       "\n",
       "                                                page          phone  \\\n",
       "0  https://engineering.tamu.edu/petroleum/profile...   979-845-2244   \n",
       "1  https://engineering.tamu.edu/petroleum/profile...   979.847.8564   \n",
       "2  https://engineering.tamu.edu/petroleum/profile...  979-847-9030    \n",
       "3  https://engineering.tamu.edu/petroleum/profile...  974-4423-0281   \n",
       "4  https://engineering.tamu.edu/petroleum/profile...  974-4423-0601   \n",
       "\n",
       "                         faculty_title  \\\n",
       "0                            Professor   \n",
       "1                            Professor   \n",
       "2   University Distinguished Professor   \n",
       "3  Associate Professor of the Practice   \n",
       "4                  Assistant Professor   \n",
       "\n",
       "                                        paper_titles  \\\n",
       "0   Mechanism of wormholing and its optimal condi...   \n",
       "1                                                      \n",
       "2   Radius of Investigation and its Generalizatio...   \n",
       "3      After-Closure Idiosyncrasies of Fracture C...   \n",
       "4                                                      \n",
       "\n",
       "                                           abstracts  \\\n",
       "0   Acid stimulation is commonly used in carbonat...   \n",
       "1                                                      \n",
       "2   The concept of radius of investigation is fun...   \n",
       "3      Fracture Calibration Tests (FCT), are stra...   \n",
       "4                                                      \n",
       "\n",
       "                                      research_areas  \n",
       "0  Dr. Hill has five patents in oil recovery and ...  \n",
       "1  Wellbore Heat transferSystematic modeling of h...  \n",
       "2  Dr. Datta-Gupta has research interests in rapi...  \n",
       "3  Field development and planning Production enha...  \n",
       "4  Flow assurance Multiphase pipe flow Wellbore h...  "
      ]
     },
     "execution_count": 90,
     "metadata": {},
     "output_type": "execute_result"
    }
   ],
   "source": [
    "tamu_df = database_cleaner('../data/tamu_database.json')\n",
    "tamu_df.head()"
   ]
  },
  {
   "cell_type": "code",
   "execution_count": 91,
   "metadata": {
    "ExecuteTime": {
     "end_time": "2018-08-20T21:37:58.060375Z",
     "start_time": "2018-08-20T21:37:58.014411Z"
    }
   },
   "outputs": [
    {
     "data": {
      "text/html": [
       "<div>\n",
       "<style scoped>\n",
       "    .dataframe tbody tr th:only-of-type {\n",
       "        vertical-align: middle;\n",
       "    }\n",
       "\n",
       "    .dataframe tbody tr th {\n",
       "        vertical-align: top;\n",
       "    }\n",
       "\n",
       "    .dataframe thead th {\n",
       "        text-align: right;\n",
       "    }\n",
       "</style>\n",
       "<table border=\"1\" class=\"dataframe\">\n",
       "  <thead>\n",
       "    <tr style=\"text-align: right;\">\n",
       "      <th></th>\n",
       "      <th>faculty_name</th>\n",
       "      <th>research_areas</th>\n",
       "      <th>paper_titles</th>\n",
       "      <th>abstracts</th>\n",
       "    </tr>\n",
       "  </thead>\n",
       "  <tbody>\n",
       "    <tr>\n",
       "      <th>0</th>\n",
       "      <td>A. Daniel Hill</td>\n",
       "      <td>Dr. Hill has five patents in oil recovery and ...</td>\n",
       "      <td>Mechanism of wormholing and its optimal condi...</td>\n",
       "      <td>Acid stimulation is commonly used in carbonat...</td>\n",
       "    </tr>\n",
       "    <tr>\n",
       "      <th>1</th>\n",
       "      <td>A. Rashid Hasan</td>\n",
       "      <td>Wellbore Heat transferSystematic modeling of h...</td>\n",
       "      <td></td>\n",
       "      <td></td>\n",
       "    </tr>\n",
       "    <tr>\n",
       "      <th>2</th>\n",
       "      <td>Akhil Datta-Gupta</td>\n",
       "      <td>Dr. Datta-Gupta has research interests in rapi...</td>\n",
       "      <td>Radius of Investigation and its Generalizatio...</td>\n",
       "      <td>The concept of radius of investigation is fun...</td>\n",
       "    </tr>\n",
       "    <tr>\n",
       "      <th>3</th>\n",
       "      <td>Albertus Retnanto</td>\n",
       "      <td>Field development and planning Production enha...</td>\n",
       "      <td>After-Closure Idiosyncrasies of Fracture C...</td>\n",
       "      <td>Fracture Calibration Tests (FCT), are stra...</td>\n",
       "    </tr>\n",
       "    <tr>\n",
       "      <th>4</th>\n",
       "      <td>Aziz Rahman</td>\n",
       "      <td>Flow assurance Multiphase pipe flow Wellbore h...</td>\n",
       "      <td></td>\n",
       "      <td></td>\n",
       "    </tr>\n",
       "  </tbody>\n",
       "</table>\n",
       "</div>"
      ],
      "text/plain": [
       "        faculty_name                                     research_areas  \\\n",
       "0     A. Daniel Hill  Dr. Hill has five patents in oil recovery and ...   \n",
       "1    A. Rashid Hasan  Wellbore Heat transferSystematic modeling of h...   \n",
       "2  Akhil Datta-Gupta  Dr. Datta-Gupta has research interests in rapi...   \n",
       "3  Albertus Retnanto  Field development and planning Production enha...   \n",
       "4        Aziz Rahman  Flow assurance Multiphase pipe flow Wellbore h...   \n",
       "\n",
       "                                        paper_titles  \\\n",
       "0   Mechanism of wormholing and its optimal condi...   \n",
       "1                                                      \n",
       "2   Radius of Investigation and its Generalizatio...   \n",
       "3      After-Closure Idiosyncrasies of Fracture C...   \n",
       "4                                                      \n",
       "\n",
       "                                           abstracts  \n",
       "0   Acid stimulation is commonly used in carbonat...  \n",
       "1                                                     \n",
       "2   The concept of radius of investigation is fun...  \n",
       "3      Fracture Calibration Tests (FCT), are stra...  \n",
       "4                                                     "
      ]
     },
     "execution_count": 91,
     "metadata": {},
     "output_type": "execute_result"
    }
   ],
   "source": [
    "# For nlp, only retaining faculty_name, research_areas, paper_titles, abstracts\n",
    "df = tamu_df[['faculty_name', 'research_areas', 'paper_titles', 'abstracts']]\n",
    "df.head()"
   ]
  },
  {
   "cell_type": "code",
   "execution_count": 92,
   "metadata": {
    "ExecuteTime": {
     "end_time": "2018-08-20T21:37:58.701830Z",
     "start_time": "2018-08-20T21:37:58.663082Z"
    }
   },
   "outputs": [
    {
     "data": {
      "text/plain": [
       "16"
      ]
     },
     "execution_count": 92,
     "metadata": {},
     "output_type": "execute_result"
    }
   ],
   "source": [
    "missing = df['paper_titles'] == ''\n",
    "sum(missing)"
   ]
  },
  {
   "cell_type": "code",
   "execution_count": 93,
   "metadata": {
    "ExecuteTime": {
     "end_time": "2018-08-20T21:37:59.444092Z",
     "start_time": "2018-08-20T21:37:59.406312Z"
    }
   },
   "outputs": [
    {
     "data": {
      "text/plain": [
       "26"
      ]
     },
     "execution_count": 93,
     "metadata": {},
     "output_type": "execute_result"
    }
   ],
   "source": [
    "# Working with non-missing entries i.e. 26 faculties\n",
    "df_nlp = df[~missing]\n",
    "len(df_nlp)"
   ]
  },
  {
   "cell_type": "code",
   "execution_count": 94,
   "metadata": {
    "ExecuteTime": {
     "end_time": "2018-08-20T21:38:00.851570Z",
     "start_time": "2018-08-20T21:38:00.806769Z"
    }
   },
   "outputs": [
    {
     "data": {
      "text/html": [
       "<div>\n",
       "<style scoped>\n",
       "    .dataframe tbody tr th:only-of-type {\n",
       "        vertical-align: middle;\n",
       "    }\n",
       "\n",
       "    .dataframe tbody tr th {\n",
       "        vertical-align: top;\n",
       "    }\n",
       "\n",
       "    .dataframe thead th {\n",
       "        text-align: right;\n",
       "    }\n",
       "</style>\n",
       "<table border=\"1\" class=\"dataframe\">\n",
       "  <thead>\n",
       "    <tr style=\"text-align: right;\">\n",
       "      <th></th>\n",
       "      <th>faculty_name</th>\n",
       "      <th>research_areas</th>\n",
       "      <th>paper_titles</th>\n",
       "      <th>abstracts</th>\n",
       "    </tr>\n",
       "  </thead>\n",
       "  <tbody>\n",
       "    <tr>\n",
       "      <th>0</th>\n",
       "      <td>A. Daniel Hill</td>\n",
       "      <td>Dr. Hill has five patents in oil recovery and ...</td>\n",
       "      <td>Mechanism of wormholing and its optimal condi...</td>\n",
       "      <td>Acid stimulation is commonly used in carbonat...</td>\n",
       "    </tr>\n",
       "    <tr>\n",
       "      <th>2</th>\n",
       "      <td>Akhil Datta-Gupta</td>\n",
       "      <td>Dr. Datta-Gupta has research interests in rapi...</td>\n",
       "      <td>Radius of Investigation and its Generalizatio...</td>\n",
       "      <td>The concept of radius of investigation is fun...</td>\n",
       "    </tr>\n",
       "    <tr>\n",
       "      <th>3</th>\n",
       "      <td>Albertus Retnanto</td>\n",
       "      <td>Field development and planning Production enha...</td>\n",
       "      <td>After-Closure Idiosyncrasies of Fracture C...</td>\n",
       "      <td>Fracture Calibration Tests (FCT), are stra...</td>\n",
       "    </tr>\n",
       "    <tr>\n",
       "      <th>5</th>\n",
       "      <td>Berna Hascakir</td>\n",
       "      <td>Heavy oil and oil shale recovery with enhanced...</td>\n",
       "      <td>Water and aromatics fraction interaction at e...</td>\n",
       "      <td>Performance predictions of the In-Situ Combus...</td>\n",
       "    </tr>\n",
       "    <tr>\n",
       "      <th>6</th>\n",
       "      <td>David Schechter</td>\n",
       "      <td>Spraberry Trend Area Geological and petrophysi...</td>\n",
       "      <td>Gas Injection for EOR in Organic Rich Shales....</td>\n",
       "      <td>Laboratory experiments of gas injection in or...</td>\n",
       "    </tr>\n",
       "  </tbody>\n",
       "</table>\n",
       "</div>"
      ],
      "text/plain": [
       "        faculty_name                                     research_areas  \\\n",
       "0     A. Daniel Hill  Dr. Hill has five patents in oil recovery and ...   \n",
       "2  Akhil Datta-Gupta  Dr. Datta-Gupta has research interests in rapi...   \n",
       "3  Albertus Retnanto  Field development and planning Production enha...   \n",
       "5     Berna Hascakir  Heavy oil and oil shale recovery with enhanced...   \n",
       "6    David Schechter  Spraberry Trend Area Geological and petrophysi...   \n",
       "\n",
       "                                        paper_titles  \\\n",
       "0   Mechanism of wormholing and its optimal condi...   \n",
       "2   Radius of Investigation and its Generalizatio...   \n",
       "3      After-Closure Idiosyncrasies of Fracture C...   \n",
       "5   Water and aromatics fraction interaction at e...   \n",
       "6   Gas Injection for EOR in Organic Rich Shales....   \n",
       "\n",
       "                                           abstracts  \n",
       "0   Acid stimulation is commonly used in carbonat...  \n",
       "2   The concept of radius of investigation is fun...  \n",
       "3      Fracture Calibration Tests (FCT), are stra...  \n",
       "5   Performance predictions of the In-Situ Combus...  \n",
       "6   Laboratory experiments of gas injection in or...  "
      ]
     },
     "execution_count": 94,
     "metadata": {},
     "output_type": "execute_result"
    }
   ],
   "source": [
    "df_nlp.head()"
   ]
  },
  {
   "cell_type": "markdown",
   "metadata": {},
   "source": [
    "# Start of NLP pipeline"
   ]
  },
  {
   "cell_type": "code",
   "execution_count": 106,
   "metadata": {
    "ExecuteTime": {
     "end_time": "2018-08-20T21:42:52.573937Z",
     "start_time": "2018-08-20T21:42:52.538926Z"
    }
   },
   "outputs": [],
   "source": [
    "corpus = df_nlp['paper_titles'].values"
   ]
  },
  {
   "cell_type": "code",
   "execution_count": 102,
   "metadata": {
    "ExecuteTime": {
     "end_time": "2018-08-20T21:41:52.442681Z",
     "start_time": "2018-08-20T21:41:52.402115Z"
    }
   },
   "outputs": [],
   "source": [
    "def filter_tokens(sent):\n",
    "    return([w for w in sent if not w in stopwords_ and not w in punctuation_])\n",
    "\n",
    "def feature_matrix(corpus, tf_idf=True, stem_lem=None, ngram_range=(1,1), max_df=1.0, min_df=1, max_features=None):\n",
    "    '''\n",
    "    Returns tf-idf vector for a given corpus (list/array of documents) by default\n",
    "    Count vector(bag of words) returned when tf_idf is set to False\n",
    "    Option to include stemming or lemmatizing\n",
    "    '''\n",
    "    tokens = [word_tokenize(doc) for doc in corpus]\n",
    "    tokens_lower = [[word.lower() for word in sent] for sent in tokens]\n",
    "    tokens_filtered = list(map(filter_tokens, tokens_lower))\n",
    "\n",
    "    # Stemming-Lemmatizing\n",
    "    if stem_lem == 'stem':\n",
    "        stemmer_porter = PorterStemmer()\n",
    "        tokens_filtered = [' '. join(list(map(stemmer_porter.stem, sent))) for sent in tokens_filtered]\n",
    "\n",
    "\n",
    "    elif stem_lem == 'lem':\n",
    "        lemmatizer = WordNetLemmatizer()\n",
    "        tokens_filtered = [' '.join(list(map(lemmatizer.lemmatize, sent))) for sent in tokens_filtered]\n",
    "\n",
    "    else:\n",
    "        tokens_filtered = [' '.join(sent) for sent in tokens_filtered]\n",
    "\n",
    "    # Vectorizing\n",
    "    if tf_idf:\n",
    "        vectorizer = TfidfVectorizer(stop_words=stopwords_, ngram_range=ngram_range, \n",
    "                                     max_df=max_df, min_df=min_df, max_features=max_features)\n",
    "        matrix = vectorizer.fit_transform(tokens_filtered) # sparse matrix\n",
    "\n",
    "    else:\n",
    "        vectorizer = CountVectorizer(stop_words=stopwords_, ngram_range=ngram_range, \n",
    "                                     max_df=max_df, min_df=min_df, max_features=max_features)\n",
    "        matrix = vectorizer.fit_transform(tokens_filtered) # sparse matrix\n",
    "\n",
    "    return vectorizer, matrix"
   ]
  },
  {
   "cell_type": "code",
   "execution_count": 107,
   "metadata": {
    "ExecuteTime": {
     "end_time": "2018-08-20T21:42:56.483862Z",
     "start_time": "2018-08-20T21:42:56.366061Z"
    }
   },
   "outputs": [],
   "source": [
    "vectorizer, matrix = feature_matrix(corpus, tf_idf=True, stem_lem=None, ngram_range=(1,1), \n",
    "                                    max_df=1.0, min_df=1, max_features=None)"
   ]
  },
  {
   "cell_type": "code",
   "execution_count": 108,
   "metadata": {
    "ExecuteTime": {
     "end_time": "2018-08-20T21:43:03.593814Z",
     "start_time": "2018-08-20T21:43:03.556305Z"
    }
   },
   "outputs": [
    {
     "data": {
      "text/plain": [
       "(26, 1690)"
      ]
     },
     "execution_count": 108,
     "metadata": {},
     "output_type": "execute_result"
    }
   ],
   "source": [
    "matrix.shape"
   ]
  },
  {
   "cell_type": "code",
   "execution_count": null,
   "metadata": {},
   "outputs": [],
   "source": []
  }
 ],
 "metadata": {
  "kernelspec": {
   "display_name": "Python 3",
   "language": "python",
   "name": "python3"
  },
  "language_info": {
   "codemirror_mode": {
    "name": "ipython",
    "version": 3
   },
   "file_extension": ".py",
   "mimetype": "text/x-python",
   "name": "python",
   "nbconvert_exporter": "python",
   "pygments_lexer": "ipython3",
   "version": "3.6.5"
  }
 },
 "nbformat": 4,
 "nbformat_minor": 2
}
