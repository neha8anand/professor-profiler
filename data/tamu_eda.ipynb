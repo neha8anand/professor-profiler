{
 "cells": [
  {
   "cell_type": "code",
   "execution_count": 1,
   "metadata": {
    "ExecuteTime": {
     "end_time": "2018-08-20T17:57:12.406337Z",
     "start_time": "2018-08-20T17:57:11.938823Z"
    }
   },
   "outputs": [],
   "source": [
    "import numpy as np\n",
    "import pandas as pd\n",
    "\n",
    "%matplotlib inline\n",
    "import matplotlib.pyplot as plt\n",
    "plt.style.use('ggplot')\n",
    "\n",
    "import json"
   ]
  },
  {
   "cell_type": "code",
   "execution_count": 27,
   "metadata": {
    "ExecuteTime": {
     "end_time": "2018-08-20T18:05:52.540949Z",
     "start_time": "2018-08-20T18:05:52.515267Z"
    }
   },
   "outputs": [
    {
     "data": {
      "text/plain": [
       "16"
      ]
     },
     "execution_count": 27,
     "metadata": {},
     "output_type": "execute_result"
    }
   ],
   "source": [
    "# Number of faculty members whose papers are missing\n",
    "missing = tamu_df_final['paper_titles'] == ''\n",
    "sum(missing)"
   ]
  },
  {
   "cell_type": "code",
   "execution_count": 36,
   "metadata": {
    "ExecuteTime": {
     "end_time": "2018-08-20T18:18:19.550189Z",
     "start_time": "2018-08-20T18:18:19.522611Z"
    }
   },
   "outputs": [],
   "source": [
    "from cleaning import database_cleaner"
   ]
  },
  {
   "cell_type": "code",
   "execution_count": 37,
   "metadata": {
    "ExecuteTime": {
     "end_time": "2018-08-20T18:18:20.007340Z",
     "start_time": "2018-08-20T18:18:19.938067Z"
    }
   },
   "outputs": [],
   "source": [
    "res = database_cleaner('tamu_database.json')"
   ]
  },
  {
   "cell_type": "code",
   "execution_count": 38,
   "metadata": {
    "ExecuteTime": {
     "end_time": "2018-08-20T18:18:21.747212Z",
     "start_time": "2018-08-20T18:18:21.722519Z"
    }
   },
   "outputs": [
    {
     "data": {
      "text/plain": [
       "Index(['faculty_name', 'email', 'google_scholar_link', 'office', 'page',\n",
       "       'phone', 'research_areas', 'faculty_title', 'paper_titles',\n",
       "       'abstracts'],\n",
       "      dtype='object')"
      ]
     },
     "execution_count": 38,
     "metadata": {},
     "output_type": "execute_result"
    }
   ],
   "source": [
    "res.columns"
   ]
  },
  {
   "cell_type": "code",
   "execution_count": null,
   "metadata": {},
   "outputs": [],
   "source": []
  }
 ],
 "metadata": {
  "kernelspec": {
   "display_name": "Python 3",
   "language": "python",
   "name": "python3"
  },
  "language_info": {
   "codemirror_mode": {
    "name": "ipython",
    "version": 3
   },
   "file_extension": ".py",
   "mimetype": "text/x-python",
   "name": "python",
   "nbconvert_exporter": "python",
   "pygments_lexer": "ipython3",
   "version": "3.6.5"
  }
 },
 "nbformat": 4,
 "nbformat_minor": 2
}
