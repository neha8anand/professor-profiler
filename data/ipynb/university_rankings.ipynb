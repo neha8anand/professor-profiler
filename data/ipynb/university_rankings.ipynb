{
 "cells": [
  {
   "cell_type": "code",
   "execution_count": 1,
   "metadata": {
    "ExecuteTime": {
     "end_time": "2018-08-19T23:10:03.273103Z",
     "start_time": "2018-08-19T23:09:59.936271Z"
    }
   },
   "outputs": [],
   "source": [
    "import requests\n",
    "from bs4 import BeautifulSoup\n",
    "import json\n",
    "\n",
    "def create_ranks(scores):\n",
    "    '''\n",
    "    Creates ranks corresponding to the scores, allowing for ties between universities.\n",
    "    '''\n",
    "    ranks = list(range(1, len(scores) + 1))\n",
    "    # Allowing for ties\n",
    "    for i, score in enumerate(scores[1:], start=1):\n",
    "        if score == scores[i - 1]:\n",
    "            ranks[i] = ranks[i-1]\n",
    "    return ranks\n",
    "\n",
    "majors = ['aerospace', 'biological-agricultural', 'biomedical','chemical-engineering',\n",
    "          'civil-engineering', 'computer-engineering','electrical-engineering',\n",
    "          'environmental-engineering', 'industrial-engineering','material-engineering',\n",
    "          'mechanical-engineering', 'nuclear-engineering', 'petroleum-engineering']\n",
    "\n",
    "headers = {'User-Agent': 'Mozilla/5.0 (Macintosh; Intel Mac OS X 10_13_6) AppleWebKit/537.36 (KHTML, like Gecko) Chrome/68.0.3440.106 Safari/537.36'}\n",
    "\n",
    "results = {}\n",
    "\n",
    "for major in majors:\n",
    "    results[major] = {}\n",
    "\n",
    "    url = \"https://www.usnews.com/best-graduate-schools/search?program=top-engineering-schools&name=&specialty=\" + major\n",
    "    response = requests.get(url, headers=headers)\n",
    "    soup = BeautifulSoup(response.content, 'html.parser')\n",
    "\n",
    "    # Names of universities\n",
    "    universities = []\n",
    "    for a_tag in soup.select(\"a.Anchor-s8bzdzo-0.fwxkXI\"):\n",
    "        universities.append(a_tag.get_text())\n",
    "\n",
    "    # locations\n",
    "    locations = []\n",
    "    for p_tag in soup.select(\"p.Paragraph-fqygwe-0.cPvbgl\"):\n",
    "        locations.append(p_tag.get_text())\n",
    "\n",
    "    # scores\n",
    "    scores = []\n",
    "    for p_tag in soup.select(\"p.fqygwe-0-Paragraph-hHEPzZ.kkoztb\"):\n",
    "        if p_tag.get_text() != 'N/A':\n",
    "            scores.append(float(p_tag.get_text()))\n",
    "\n",
    "    # ranks (recreated from scores)\n",
    "    ranks = create_ranks(scores)\n",
    "\n",
    "    # Dropping universities with empty scores\n",
    "    universities = universities[:len(scores)]\n",
    "    locations = locations[:len(scores)]\n",
    "\n",
    "    # Storing results\n",
    "    for university, location, score, rank in zip(universities, locations, scores, ranks):\n",
    "        results[major][university] = {'location': location, 'score' : score, 'rank': rank}"
   ]
  },
  {
   "cell_type": "code",
   "execution_count": 5,
   "metadata": {
    "ExecuteTime": {
     "end_time": "2018-08-19T23:12:45.238523Z",
     "start_time": "2018-08-19T23:12:44.996012Z"
    }
   },
   "outputs": [],
   "source": [
    "# For computer science\n",
    "results[major] = {}\n",
    "major = 'computer-science'\n",
    "url = \"https://www.usnews.com/best-graduate-schools/search?program=top-computer-science-schools&location=&name=\"\n",
    "response = requests.get(url, headers=headers)\n",
    "soup = BeautifulSoup(response.content, 'html.parser')\n",
    "\n",
    "# Names of universities\n",
    "universities = []\n",
    "for a_tag in soup.select(\"h3.sc-bdVaJa.btaKty\"):\n",
    "    universities.append(a_tag.get_text())\n",
    "\n",
    "# scores\n",
    "scores = [''] * len(universities) # no scores available\n",
    "\n",
    "# locations and ranks\n",
    "paras = []\n",
    "for p_tag in soup.select(\"p.Paragraph-fqygwe-0.zReoL\"):\n",
    "    paras.append(p_tag.get_text())\n",
    "locations = paras[0::2]\n",
    "rank_texts = paras[1::2]\n",
    "\n",
    "ranks = [int(text[:3].strip('#').strip(' ')) for text in rank_texts]\n",
    "\n",
    "# Dropping duplicate entries, taking only first 20 entries\n",
    "# Storing results\n",
    "for university, location, score, rank in zip(universities[:20], locations[:20], scores[:20], ranks[:20]):\n",
    "    results[major][university] = {'location': location, 'score' : score, 'rank': rank}"
   ]
  },
  {
   "cell_type": "code",
   "execution_count": 6,
   "metadata": {
    "ExecuteTime": {
     "end_time": "2018-08-19T23:12:48.266934Z",
     "start_time": "2018-08-19T23:12:48.244530Z"
    }
   },
   "outputs": [],
   "source": [
    "# Writing results to a json file\n",
    "with open('university_rankings.json', 'w') as university_rankings:\n",
    "    json.dump(results, university_rankings)"
   ]
  }
 ],
 "metadata": {
  "kernelspec": {
   "display_name": "Python 3",
   "language": "python",
   "name": "python3"
  },
  "language_info": {
   "codemirror_mode": {
    "name": "ipython",
    "version": 3
   },
   "file_extension": ".py",
   "mimetype": "text/x-python",
   "name": "python",
   "nbconvert_exporter": "python",
   "pygments_lexer": "ipython3",
   "version": "3.6.5"
  }
 },
 "nbformat": 4,
 "nbformat_minor": 2
}
