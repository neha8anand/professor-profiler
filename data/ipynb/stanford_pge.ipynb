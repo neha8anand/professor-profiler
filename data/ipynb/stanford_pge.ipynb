{
 "cells": [
  {
   "cell_type": "code",
   "execution_count": 1,
   "metadata": {
    "ExecuteTime": {
     "end_time": "2018-08-19T19:53:26.770574Z",
     "start_time": "2018-08-19T19:53:26.581366Z"
    }
   },
   "outputs": [],
   "source": [
    "import requests\n",
    "import bs4\n",
    "import json\n",
    "from bs4 import BeautifulSoup"
   ]
  },
  {
   "cell_type": "code",
   "execution_count": 2,
   "metadata": {
    "ExecuteTime": {
     "end_time": "2018-08-19T19:53:28.147950Z",
     "start_time": "2018-08-19T19:53:27.252175Z"
    }
   },
   "outputs": [],
   "source": [
    "# final code\n",
    "def extract_from_contact(contact):\n",
    "    '''Extracts office, phone and email from contact'''\n",
    "    \n",
    "    info = []\n",
    "\n",
    "    for elem in contact:\n",
    "        if type(elem) != bs4.element.Tag:\n",
    "            info.append(elem.strip())\n",
    "    \n",
    "    office, phone, email = '', '', ''\n",
    "        \n",
    "    for elem in info:\n",
    "        if '@' in  elem:\n",
    "            email = elem\n",
    "        elif '(' in elem:\n",
    "            phone = elem\n",
    "        elif elem:\n",
    "            office = elem\n",
    "    \n",
    "    return phone, office, email\n",
    "\n",
    "pge_faculties_url = \"https://pangea.stanford.edu/ere/people/all?tmp_associate_type=faculty&field_ses_phd_student_value=All&name=\"\n",
    "pge_faculties = requests.get(pge_faculties_url)\n",
    "pge_faculties_soup = BeautifulSoup(pge_faculties.content, 'html.parser')\n",
    "pge_faculty_names = [name.get_text().strip('\\n').strip(' ') for name in pge_faculties_soup.find_all(class_=\"views-field views-field-name ses-people-column-name\")]\n",
    "pge_faculty_titles = [title.get_text().strip('\\n').strip(' ') for title in pge_faculties_soup.select(\"td.views-field.views-field-field-ses-title-override\")]\n",
    "pge_faculties_pages = [entry.select_one('a')['href'] for entry in pge_faculties_soup.find_all(class_=\"views-field views-field-name ses-people-column-name\")]\n",
    "pge_faculties_pages_url = ['https://pangea.stanford.edu' + entry for entry in pge_faculties_pages]\n",
    "pge_faculty_research_areas = [area.get_text().strip('\\n').strip(' ') for area in pge_faculties_soup.select(\"td.views-field.views-field-field-ses-research-override\")]\n",
    "\n",
    "\n",
    "# cleaning up the contact info and dividing it in office, phone and email categories\n",
    "pge_faculty_contact = [info.children for info in pge_faculties_soup.select(\"td.views-field.views-field-field-office-location.ses-people-column-contact\")]\n",
    "pge_faculty_extracted_from_contact = [extract_from_contact(contact) for contact in pge_faculty_contact]\n",
    "        "
   ]
  },
  {
   "cell_type": "code",
   "execution_count": 3,
   "metadata": {
    "ExecuteTime": {
     "end_time": "2018-08-19T19:53:30.272060Z",
     "start_time": "2018-08-19T19:53:30.245688Z"
    }
   },
   "outputs": [],
   "source": [
    "faculty_names_dictionary = {}\n",
    "\n",
    "for i, faculty in enumerate(pge_faculty_names):\n",
    "    faculty_names_dictionary[faculty] = {'title' : pge_faculty_titles[i], \n",
    "                                         'page' : pge_faculties_pages_url[i],\n",
    "                                         'phone' : pge_faculty_extracted_from_contact[i][0],\n",
    "                                         'office': pge_faculty_extracted_from_contact[i][1],\n",
    "                                         'email': pge_faculty_extracted_from_contact[i][2],\n",
    "                                         'research_areas': pge_faculty_research_areas[i]\n",
    "                                         }\n",
    "\n",
    "pge_dictionary = {}\n",
    "pge_dictionary['university_name'] = 'Stanford University'\n",
    "pge_dictionary['faculty_names'] = faculty_names_dictionary\n",
    "    \n",
    "with open('stanford_pge.json', 'w') as st_pge_faculty_names_file:\n",
    "    json.dump(pge_dictionary, st_pge_faculty_names_file)"
   ]
  },
  {
   "cell_type": "code",
   "execution_count": null,
   "metadata": {},
   "outputs": [],
   "source": [
    "with open('university.json', 'w') as f:\n",
    "    university = json.load(f)\n",
    "    \n",
    "university['petroleum-engineering'][\"Stanford University\"]['faculty_names'] = {}\n",
    "\n",
    "for i, faculty in enumerate(pge_faculty_names):\n",
    "    university['petroleum-engineering']['Stanford University'] ['faculty_names'][faculty] = rating_and_tags(sid, school, faculty)\n",
    "\n",
    "with open('ut_pge.json', 'w') as ut_pge_faculty_names_file:\n",
    "    json.dump(faculty_names_dictionary, ut_pge_faculty_names_file)"
   ]
  }
 ],
 "metadata": {
  "kernelspec": {
   "display_name": "Python 3",
   "language": "python",
   "name": "python3"
  },
  "language_info": {
   "codemirror_mode": {
    "name": "ipython",
    "version": 3
   },
   "file_extension": ".py",
   "mimetype": "text/x-python",
   "name": "python",
   "nbconvert_exporter": "python",
   "pygments_lexer": "ipython3",
   "version": "3.6.5"
  }
 },
 "nbformat": 4,
 "nbformat_minor": 2
}
