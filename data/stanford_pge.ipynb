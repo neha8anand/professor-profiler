{
 "cells": [
  {
   "cell_type": "code",
   "execution_count": 1,
   "metadata": {
    "ExecuteTime": {
     "end_time": "2018-08-19T06:08:43.207184Z",
     "start_time": "2018-08-19T06:08:43.023753Z"
    }
   },
   "outputs": [],
   "source": [
    "import requests\n",
    "import bs4\n",
    "import json\n",
    "from bs4 import BeautifulSoup"
   ]
  },
  {
   "cell_type": "code",
   "execution_count": null,
   "metadata": {},
   "outputs": [],
   "source": [
    "pge_url = \"https://www.pge.utexas.edu\""
   ]
  },
  {
   "cell_type": "code",
   "execution_count": null,
   "metadata": {},
   "outputs": [],
   "source": [
    "pge_url = \"https://www.pge.utexas.edu\"\n",
    "pge_faculties_page_url = pge_url + \"/facultystaff/profiles\"\n",
    "pge_faculties_page = requests.get(pge_faculties_page_url, verify=False)\n",
    "pge_faculties_soup = BeautifulSoup(pge_faculties_page.content, 'html.parser')\n",
    "\n",
    "pge_faculty_entries = pge_faculties_soup.find_all(class_=\"facentry\")\n",
    "\n",
    "faculty_names_dictionary = {}\n",
    "faculty_names_dictionary['university_name'] = \"University of Texas at Austin\"\n",
    "faculty_names_dictionary['faculty_names'] = []\n",
    "\n",
    "for pge_faculty_entry in pge_faculty_entries:\n",
    "        pge_faculty_info = list(pge_faculty_entry.find_all(\"td\"))\n",
    "        # getting the faculty page url\n",
    "        pge_faculty_link = pge_faculty_info[0].find(\"a\")['href']\n",
    "\n",
    "        pge_faculty_page_url = pge_url + pge_faculty_link\n",
    "        pge_faculty_page = requests.get(pge_faculty_page_url, verify=False)\n",
    "\n",
    "        pge_faculty_soup = BeautifulSoup(pge_faculty_page.content, 'html.parser')\n",
    "        pge_faculty_name = pge_faculty_soup.select(\"div#mainbody2\")[0].find_all(\"h1\")[0].get_text()\n",
    "\n",
    "        faculty_name = pge_faculty_name.replace(\"  \", \" \") # Name in HTML contains 2 spaces instead of 1\n",
    "        faculty_names_dictionary['faculty_names'].append(faculty_name)\n",
    "\n",
    "with open('ut_pge.json', 'w') as ut_pge_faculty_names_file:\n",
    "    json.dump(faculty_names_dictionary, ut_pge_faculty_names_file)"
   ]
  }
 ],
 "metadata": {
  "kernelspec": {
   "display_name": "Python 3",
   "language": "python",
   "name": "python3"
  },
  "language_info": {
   "codemirror_mode": {
    "name": "ipython",
    "version": 3
   },
   "file_extension": ".py",
   "mimetype": "text/x-python",
   "name": "python",
   "nbconvert_exporter": "python",
   "pygments_lexer": "ipython3",
   "version": "3.6.5"
  }
 },
 "nbformat": 4,
 "nbformat_minor": 2
}
