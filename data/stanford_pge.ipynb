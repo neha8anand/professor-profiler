{
 "cells": [
  {
   "cell_type": "code",
   "execution_count": 1,
   "metadata": {
    "ExecuteTime": {
     "end_time": "2018-08-19T06:08:43.207184Z",
     "start_time": "2018-08-19T06:08:43.023753Z"
    }
   },
   "outputs": [],
   "source": [
    "import requests\n",
    "import bs4\n",
    "import json\n",
    "from bs4 import BeautifulSoup"
   ]
  },
  {
   "cell_type": "code",
   "execution_count": 3,
   "metadata": {
    "ExecuteTime": {
     "end_time": "2018-08-19T06:47:10.485350Z",
     "start_time": "2018-08-19T06:47:10.465693Z"
    }
   },
   "outputs": [],
   "source": []
  },
  {
   "cell_type": "code",
   "execution_count": 30,
   "metadata": {
    "ExecuteTime": {
     "end_time": "2018-08-19T07:24:12.596702Z",
     "start_time": "2018-08-19T07:24:12.257656Z"
    }
   },
   "outputs": [],
   "source": [
    "# final code\n",
    "pge_faculties_page_url = \"https://pangea.stanford.edu/ere/people/all?tmp_associate_type=faculty&field_ses_phd_student_value=All&name=\"\n",
    "pge_faculties_page = requests.get(pge_faculties_page_url)\n",
    "pge_faculties_soup = BeautifulSoup(pge_faculties_page.content, 'html.parser')\n",
    "pge_faculty_names = [name.get_text().strip('\\n').strip(' ') for name in pge_faculties_soup.find_all(class_=\"views-field views-field-name ses-people-column-name\")]\n",
    "pge_faculty_titles = [title.get_text().strip('\\n').strip(' ') for title in pge_faculties_soup.select(\"td.views-field.views-field-field-ses-title-override\")]\n",
    "pge_faculty_research_areas = [area.get_text().strip('\\n').strip(' ') for area in pge_faculties_soup.select(\"td.views-field.views-field-field-ses-research-override\")]\n",
    "pge_faculty_contact = [info.get_text().strip('\\n').strip(' ') for info in pge_faculties_soup.select(\"td.views-field.views-field-field-office-location.ses-people-column-contact\")]\n",
    "\n",
    "faculty_names_dictionary = {}\n",
    "\n",
    "for i, faculty in enumerate(pge_faculty_names):\n",
    "    faculty_names_dictionary[faculty] = {'title' : pge_faculty_titles[i], \n",
    "                                        'research_areas': pge_faculty_research_areas[i],\n",
    "                                        'contact': pge_faculty_contact[i]}\n",
    "\n",
    "pge_dictionary = {}\n",
    "pge_dictionary['university_name'] = 'Stanford University'\n",
    "pge_dictionary['faculty_names'] = faculty_names_dictionary\n",
    "    \n",
    "with open('stanford_pge.json', 'w') as st_pge_faculty_names_file:\n",
    "    json.dump(pge_dictionary, st_pge_faculty_names_file)"
   ]
  },
  {
   "cell_type": "code",
   "execution_count": null,
   "metadata": {},
   "outputs": [],
   "source": [
    "with open('university.json', 'w') as f:\n",
    "    university = json.load(f)\n",
    "    \n",
    "university['petroleum-engineering'][\"Stanford University\"]['faculty_names'] = {}\n",
    "\n",
    "for i, faculty in enumerate(pge_faculty_names):\n",
    "    university['petroleum-engineering']['Stanford University'] ['faculty_names'][faculty] = rating_and_tags(sid, school, faculty)\n",
    "\n",
    "with open('ut_pge.json', 'w') as ut_pge_faculty_names_file:\n",
    "    json.dump(faculty_names_dictionary, ut_pge_faculty_names_file)"
   ]
  }
 ],
 "metadata": {
  "kernelspec": {
   "display_name": "Python 3",
   "language": "python",
   "name": "python3"
  },
  "language_info": {
   "codemirror_mode": {
    "name": "ipython",
    "version": 3
   },
   "file_extension": ".py",
   "mimetype": "text/x-python",
   "name": "python",
   "nbconvert_exporter": "python",
   "pygments_lexer": "ipython3",
   "version": "3.6.5"
  }
 },
 "nbformat": 4,
 "nbformat_minor": 2
}
