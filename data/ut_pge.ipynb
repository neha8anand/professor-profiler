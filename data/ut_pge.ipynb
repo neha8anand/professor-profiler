{
 "cells": [
  {
   "cell_type": "code",
   "execution_count": 1,
   "metadata": {
    "ExecuteTime": {
     "end_time": "2018-08-19T20:32:48.559049Z",
     "start_time": "2018-08-19T20:32:48.375039Z"
    }
   },
   "outputs": [],
   "source": [
    "import requests\n",
    "import bs4\n",
    "import json\n",
    "from bs4 import BeautifulSoup\n",
    "import warnings\n",
    "warnings.filterwarnings(\"ignore\") # ut's certificate is not trusted"
   ]
  },
  {
   "cell_type": "code",
   "execution_count": 6,
   "metadata": {
    "ExecuteTime": {
     "end_time": "2018-08-19T20:52:12.393951Z",
     "start_time": "2018-08-19T20:52:11.515724Z"
    }
   },
   "outputs": [
    {
     "data": {
      "text/plain": [
       "<tr class=\"facentry\">\n",
       "<td><a href=\"/facultystaff/profiles/balhoff\">Balhoff, Matthew </a></td>\n",
       "<td><a href=\"mailto:balhoff@mail.utexas.edu\">balhoff@mail.utexas.edu</a></td>\n",
       "<td>(512) 471-3246</td>\n",
       "</tr>"
      ]
     },
     "execution_count": 6,
     "metadata": {},
     "output_type": "execute_result"
    }
   ],
   "source": [
    "pge_url = \"https://www.pge.utexas.edu\"\n",
    "pge_faculties_page_url = pge_url + \"/facultystaff/profiles\"\n",
    "pge_faculties_page = requests.get(pge_faculties_page_url, verify=False)\n",
    "pge_faculties_soup = BeautifulSoup(pge_faculties_page.content, 'html.parser')\n",
    "pge_faculty_entries = pge_faculties_soup.find_all(class_=\"facentry\")\n",
    "pge_faculty_entry = pge_faculty_entries[0]\n",
    "pge_faculty_entry"
   ]
  },
  {
   "cell_type": "code",
   "execution_count": 15,
   "metadata": {
    "ExecuteTime": {
     "end_time": "2018-08-19T21:07:35.228428Z",
     "start_time": "2018-08-19T21:07:34.386083Z"
    }
   },
   "outputs": [
    {
     "data": {
      "text/plain": [
       "['http://www.engr.utexas.edu/',\n",
       " 'http://www.utexas.edu',\n",
       " '/',\n",
       " '/',\n",
       " '/about',\n",
       " '/about/welcome',\n",
       " '/about/petroleum',\n",
       " '/about/geosystems',\n",
       " '/about/history',\n",
       " '/about/contact',\n",
       " '/about/events',\n",
       " '/future',\n",
       " '/future/undergraduate',\n",
       " '/future/graduate',\n",
       " '/students',\n",
       " '/students/undergraduate',\n",
       " '/students/graduate',\n",
       " '/facultystaff',\n",
       " '/facultystaff/profiles',\n",
       " '/facultystaff/academic-staff',\n",
       " '/facultystaff/research-staff',\n",
       " '/facultystaff/facultyopenings',\n",
       " '/research',\n",
       " '/research/research-areas',\n",
       " '/research/internship',\n",
       " '/research/theses/2018',\n",
       " '/alumni',\n",
       " 'http://www.pge.utexas.edu/hireutpe/',\n",
       " '/alumni/success',\n",
       " '/alumni/alumni-events',\n",
       " '/alumni/alumni-profiles',\n",
       " '/alumni/external-advisory-committee',\n",
       " '/alumni/industry-partners',\n",
       " '/news',\n",
       " '/news/features',\n",
       " '/news/coverage',\n",
       " '/news/energy-one-e-newsletter',\n",
       " '/facultystaff',\n",
       " '/facultystaff/profiles',\n",
       " '/facultystaff/profiles/balhoff',\n",
       " '/facultystaff/profiles/bickel',\n",
       " '/facultystaff/profiles/bommer',\n",
       " '/facultystaff/profiles/daigle',\n",
       " '/facultystaff/profiles/delshad',\n",
       " '/facultystaff/profiles/dicarlo',\n",
       " '/facultystaff/profiles/espinoza',\n",
       " '/facultystaff/profiles/foster',\n",
       " '/facultystaff/profiles/gray',\n",
       " '/facultystaff/profiles/heidari',\n",
       " '/facultystaff/profiles/hempel-medina',\n",
       " '/facultystaff/profiles/huh',\n",
       " '/facultystaff/profiles/lake',\n",
       " '/facultystaff/profiles/malik',\n",
       " '/facultystaff/profiles/mohanty',\n",
       " '/facultystaff/profiles/nguyen',\n",
       " '/facultystaff/profiles/okuno',\n",
       " '/facultystaff/profiles/clementolson',\n",
       " '/facultystaff/profiles/olson',\n",
       " '/facultystaff/profiles/pope',\n",
       " '/facultystaff/profiles/prodanovic',\n",
       " '/facultystaff/profiles/pyrcz',\n",
       " '/facultystaff/profiles/sepehrnoori',\n",
       " '/facultystaff/profiles/sharma',\n",
       " '/facultystaff/profiles/torres-verdin',\n",
       " '/facultystaff/profiles/vanoort',\n",
       " '/facultystaff/profiles/wheeler',\n",
       " '/facultystaff/academic-staff',\n",
       " '/facultystaff/research-staff',\n",
       " '/facultystaff/facultyopenings',\n",
       " 'mailto:balhoff@mail.utexas.edu',\n",
       " 'https://scholar.google.com/citations?user=cbFq7J0AAAAJ&hl=en&oi=ao',\n",
       " 'http://www.engr.utexas.edu',\n",
       " 'http://www.utexas.edu',\n",
       " 'http://www.utexas.edu',\n",
       " 'http://directory.utexas.edu/',\n",
       " 'https://utdirect.utexas.edu/utdirect/',\n",
       " 'http://www.utexas.edu/calendars/',\n",
       " 'http://www.utexas.edu/calendars/',\n",
       " 'http://www.utexas.edu/policies/privacy/',\n",
       " 'http://www.utexas.edu/web/guidelines/accessibility.html',\n",
       " 'http://www.utexas.edu/web/guidelines/browsers.html',\n",
       " 'http://get.adobe.com/reader/',\n",
       " 'http://office.microsoft.com/en-us/downloads/HA010449811033.aspx',\n",
       " 'http://get.adobe.com/flashplayer/',\n",
       " 'http://www.facebook.com/UTPGE ',\n",
       " 'http://twitter.com/UT_PGE',\n",
       " 'http://www.linkedin.com/groups?home=&gid=3851652&trk=anet_ug_hm ',\n",
       " 'http://www.flickr.com/photos/ut-pge/']"
      ]
     },
     "execution_count": 15,
     "metadata": {},
     "output_type": "execute_result"
    }
   ],
   "source": [
    "pge_faculty_info = list(pge_faculty_entry.find_all(\"td\"))\n",
    "pge_faculty_link = pge_faculty_info[0].find(\"a\")[\"href\"]\n",
    "pge_faculty_page_url = pge_url + pge_faculty_link\n",
    "pge_faculty_page = requests.get(pge_faculty_page_url, verify=False)\n",
    "pge_faculty_soup = BeautifulSoup(pge_faculty_page.content, \"html.parser\")\n",
    "faculty = pge_faculty_soup.select(\"div#mainbody2\")[0].find_all(\"h1\")[0].get_text()\n",
    "faculty = faculty.replace(\"  \", \" \") # Name in HTML contains 2 spaces instead of 1\n",
    "title = pge_faculty_soup.select_one(\"p.depttitle\").get_text()"
   ]
  },
  {
   "cell_type": "code",
   "execution_count": 19,
   "metadata": {
    "ExecuteTime": {
     "end_time": "2018-08-19T22:15:42.866456Z",
     "start_time": "2018-08-19T22:15:42.844500Z"
    }
   },
   "outputs": [
    {
     "data": {
      "text/plain": [
       "'balhoff@mail.utexas.edu'"
      ]
     },
     "execution_count": 19,
     "metadata": {},
     "output_type": "execute_result"
    }
   ],
   "source": [
    "# google-scholar and email\n",
    "for a_tag in pge_faculty_soup.select(\"a\"):\n",
    "    if 'scholar.google.com' in a_tag['href']:\n",
    "        google_scholar_link = a_tag['href']\n",
    "    if '@' in a_tag['href']:\n",
    "                email = a_tag.get_text()\n",
    "email"
   ]
  },
  {
   "cell_type": "code",
   "execution_count": null,
   "metadata": {},
   "outputs": [],
   "source": [
    "pge_dictionary = {}\n",
    "pge_dictionary['university_name'] = \"University of Texas at Austin\"\n",
    "\n",
    "for pge_faculty_entry in pge_faculty_entries:\n",
    "        pge_faculty_info = list(pge_faculty_entry.find_all(\"td\"))\n",
    "        \n",
    "        # getting the faculty page url\n",
    "        pge_faculty_link = pge_faculty_info[0].find(\"a\")[\"href\"]\n",
    "        pge_faculty_page_url = pge_url + pge_faculty_link\n",
    "        pge_faculty_page = requests.get(pge_faculty_page_url, verify=False)\n",
    "        pge_faculty_soup = BeautifulSoup(pge_faculty_page.content, \"html.parser\")\n",
    "        \n",
    "        # extracting name, title, phone, office, email, research_areas \n",
    "        faculty = pge_faculty_soup.select(\"div#mainbody2\")[0].find_all(\"h1\")[0].get_text()\n",
    "        faculty = faculty.replace(\"  \", \" \") # Name in HTML contains 2 spaces instead of 1\n",
    "        title = pge_faculty_soup.select_one(\"p.depttitle\").get_text()\n",
    "        phone = pge_faculty_soup.select_one(\"p.depttitle\").get_text()\n",
    "        office = pge_faculty_soup.select_one(\"p.depttitle\").get_text()\n",
    "        research_areas = pge_faculty_soup.select_one(\"p.depttitle\").get_text()\n",
    "        \n",
    "        # google-scholar link and email\n",
    "        for a_tag in pge_faculty_soup.select(\"a\"):\n",
    "            if 'scholar.google.com' in a_tag['href']:\n",
    "                google_scholar_link = a_tag['href']\n",
    "                \n",
    "            if '@' in a_tag['href']:\n",
    "                email = a_tag.get_text()\n",
    "            \n",
    "        \n",
    "        faculty_names_dictionary[faculty] = {'title' : title, \n",
    "                                             'page' : page,\n",
    "                                             'phone' : phone,\n",
    "                                             'office': office,\n",
    "                                             'email': email,\n",
    "                                             'research_areas' : research_areas,\n",
    "                                             'google_scholar_link' : google_scholar_link}\n",
    "\n",
    "pge_dictionary['faculty_names'] = faculty_names_dictionary\n",
    "\n",
    "with open('ut_pge.json', 'w') as ut_pge_faculty_names_file:\n",
    "    json.dump(pge_dictionary, ut_pge_faculty_names_file)"
   ]
  }
 ],
 "metadata": {
  "kernelspec": {
   "display_name": "Python 3",
   "language": "python",
   "name": "python3"
  },
  "language_info": {
   "codemirror_mode": {
    "name": "ipython",
    "version": 3
   },
   "file_extension": ".py",
   "mimetype": "text/x-python",
   "name": "python",
   "nbconvert_exporter": "python",
   "pygments_lexer": "ipython3",
   "version": "3.6.5"
  }
 },
 "nbformat": 4,
 "nbformat_minor": 2
}
