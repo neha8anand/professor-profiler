{
 "cells": [
  {
   "cell_type": "code",
   "execution_count": 49,
   "metadata": {
    "ExecuteTime": {
     "end_time": "2018-08-19T23:49:07.241989Z",
     "start_time": "2018-08-19T23:49:07.221171Z"
    }
   },
   "outputs": [],
   "source": [
    "import requests\n",
    "import bs4\n",
    "import json\n",
    "from bs4 import BeautifulSoup\n",
    "import warnings\n",
    "warnings.filterwarnings(\"ignore\") # ut's certificate is not trusted"
   ]
  },
  {
   "cell_type": "code",
   "execution_count": 81,
   "metadata": {
    "ExecuteTime": {
     "end_time": "2018-08-20T00:16:09.080569Z",
     "start_time": "2018-08-20T00:15:47.884214Z"
    }
   },
   "outputs": [],
   "source": [
    "# final_code\n",
    "pge_url = \"https://www.pge.utexas.edu\"\n",
    "pge_faculties_page_url = pge_url + \"/facultystaff/profiles\"\n",
    "pge_faculties_page = requests.get(pge_faculties_page_url, verify=False)\n",
    "pge_faculties_soup = BeautifulSoup(pge_faculties_page.content, 'html.parser')\n",
    "\n",
    "pge_faculty_entries = pge_faculties_soup.find_all(class_=\"facentry\")\n",
    "pge_dictionary = {}\n",
    "pge_dictionary['university_name'] = \"University of Texas at Austin\"\n",
    "\n",
    "faculty_names_dictionary = {}\n",
    "\n",
    "for pge_faculty_entry in pge_faculty_entries:\n",
    "        pge_faculty_info = list(pge_faculty_entry.find_all(\"td\"))\n",
    "        \n",
    "        # getting the faculty page url\n",
    "        pge_faculty_link = pge_faculty_info[0].find(\"a\")[\"href\"]\n",
    "        pge_faculty_page_url = pge_url + pge_faculty_link\n",
    "        pge_faculty_page = requests.get(pge_faculty_page_url, verify=False)\n",
    "        pge_faculty_soup = BeautifulSoup(pge_faculty_page.content, \"html.parser\")\n",
    "        \n",
    "        # extracting name, title, phone, office, email, research_areas \n",
    "        faculty = pge_faculty_soup.select(\"div#mainbody2\")[0].find_all(\"h1\")[0].get_text()\n",
    "        faculty = faculty.replace(\"  \", \" \") # Name in HTML contains 2 spaces instead of 1\n",
    "        title = pge_faculty_soup.select_one(\"p.depttitle\").get_text()\n",
    "        facdata = pge_faculty_soup.select_one(\"div.facdata\").select(\"p\")\n",
    "        google_scholar_link = ''\n",
    "      \n",
    "        phone = facdata[-1].get_text().split('\\n')[0].split(': ')[-1]\n",
    "        office = facdata[-1].get_text().split('\\n')[1].split(': ')[1]\n",
    "        email = facdata[-1].get_text().split('\\n')[0].split(': ')[1].split('Phone')[0]\n",
    "        \n",
    "        for p_tag in pge_faculty_soup.select(\"p\"):\n",
    "            if 'Research Areas' in p_tag.get_text():\n",
    "                research_areas = p_tag.get_text().split(': ')[-1].split(', ')\n",
    "        \n",
    "        # google-scholar link\n",
    "        for a_tag in pge_faculty_soup.select(\"a\"):\n",
    "            try:\n",
    "                if 'scholar.google.com' in a_tag['href']:\n",
    "                    google_scholar_link = a_tag['href']\n",
    "            except:\n",
    "                 google_scholar_link = ''\n",
    "                         \n",
    "        faculty_names_dictionary[faculty] = {'title' : title, \n",
    "                                             'page' : pge_faculty_page_url,\n",
    "                                             'phone' : phone,\n",
    "                                             'office': office,\n",
    "                                             'email': email,\n",
    "                                             'research_areas' : research_areas,\n",
    "                                             'google_scholar_link' : google_scholar_link}\n",
    "\n",
    "pge_dictionary['faculty_names'] = faculty_names_dictionary\n",
    "\n",
    "with open('ut_pge.json', 'w') as ut_pge_faculty_names_file:\n",
    "    json.dump(pge_dictionary, ut_pge_faculty_names_file)"
   ]
  }
 ],
 "metadata": {
  "kernelspec": {
   "display_name": "Python 3",
   "language": "python",
   "name": "python3"
  },
  "language_info": {
   "codemirror_mode": {
    "name": "ipython",
    "version": 3
   },
   "file_extension": ".py",
   "mimetype": "text/x-python",
   "name": "python",
   "nbconvert_exporter": "python",
   "pygments_lexer": "ipython3",
   "version": "3.6.5"
  }
 },
 "nbformat": 4,
 "nbformat_minor": 2
}
