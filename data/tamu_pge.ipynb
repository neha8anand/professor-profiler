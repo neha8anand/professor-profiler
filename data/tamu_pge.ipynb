{
 "cells": [
  {
   "cell_type": "code",
   "execution_count": 1,
   "metadata": {
    "ExecuteTime": {
     "end_time": "2018-08-19T18:09:17.292679Z",
     "start_time": "2018-08-19T18:09:16.991959Z"
    }
   },
   "outputs": [],
   "source": [
    "import requests\n",
    "import bs4\n",
    "import json\n",
    "from bs4 import BeautifulSoup"
   ]
  },
  {
   "cell_type": "code",
   "execution_count": 7,
   "metadata": {
    "ExecuteTime": {
     "end_time": "2018-08-19T18:23:58.231480Z",
     "start_time": "2018-08-19T18:23:12.819574Z"
    },
    "scrolled": false
   },
   "outputs": [],
   "source": [
    "faculties_page_url = 'https://engineering.tamu.edu/profile-data.json'\n",
    "faculties_page = requests.get(faculties_page_url)\n",
    "\n",
    "faculty_names_dictionary = {}\n",
    "\n",
    "for faculty_entry in faculties_page.json():\n",
    "    if 'petroleum' in faculty_entry['tag']:\n",
    "        faculty = faculty_entry['name']\n",
    "        title = faculty_entry['titles'][0]\n",
    "        page = 'https://engineering.tamu.edu' + faculty_entry['link']\n",
    "        phone = faculty_entry['phone']\n",
    "        office = faculty_entry['office']\n",
    "        email = faculty_entry['email']\n",
    "          \n",
    "        # google-scholar profile link\n",
    "        faculty_page = requests.get(page)\n",
    "        soup = BeautifulSoup(faculty_page.content, 'html.parser')\n",
    "        for a_tag in soup.select('a.button '):\n",
    "            if 'scholar.google.com' in a_tag['href']:\n",
    "                google_scholar_link = a_tag['href']\n",
    "                break\n",
    "                \n",
    "        # research areas\n",
    "        for div_tag in soup.select('div.simple-list-collection__list'):\n",
    "            if 'Research Interests' in div_tag.get_text():\n",
    "                research_areas = div_tag.select(\"ul.no-bullets\")[0].get_text().strip('\\n').strip('\\xa0').split('\\n')\n",
    "                research_areas = [area for area in research_areas if area]\n",
    "                break  \n",
    "        \n",
    "        faculty_names_dictionary[faculty] = {'title' : title, \n",
    "                                             'page' : page,\n",
    "                                             'phone' : phone,\n",
    "                                             'office': office,\n",
    "                                             'email': email,\n",
    "                                             'research_areas' : research_areas,\n",
    "                                             'google_scholar_link' : google_scholar_link}\n",
    "        \n",
    "        research_areas = '' # for faculties whose research_areas are not defined\n",
    "                \n",
    "\n",
    "\n",
    "pge_dictionary = {}\n",
    "pge_dictionary['university_name'] = 'Texas A&M University--College Station'\n",
    "pge_dictionary['faculty_names'] = faculty_names_dictionary\n",
    "    \n",
    "with open('tamu_pge.json', 'w') as tamu_pge_faculty_names_file:\n",
    "    json.dump(pge_dictionary, tamu_pge_faculty_names_file)   "
   ]
  },
  {
   "cell_type": "code",
   "execution_count": null,
   "metadata": {},
   "outputs": [],
   "source": []
  }
 ],
 "metadata": {
  "kernelspec": {
   "display_name": "Python 3",
   "language": "python",
   "name": "python3"
  },
  "language_info": {
   "codemirror_mode": {
    "name": "ipython",
    "version": 3
   },
   "file_extension": ".py",
   "mimetype": "text/x-python",
   "name": "python",
   "nbconvert_exporter": "python",
   "pygments_lexer": "ipython3",
   "version": "3.6.5"
  }
 },
 "nbformat": 4,
 "nbformat_minor": 2
}
