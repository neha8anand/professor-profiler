{
 "cells": [
  {
   "cell_type": "code",
   "execution_count": 1,
   "metadata": {
    "ExecuteTime": {
     "end_time": "2018-08-19T01:41:29.001450Z",
     "start_time": "2018-08-19T01:41:28.791246Z"
    }
   },
   "outputs": [],
   "source": [
    "import requests\n",
    "import json\n",
    "import time\n",
    "import pymongo"
   ]
  },
  {
   "cell_type": "code",
   "execution_count": 2,
   "metadata": {
    "ExecuteTime": {
     "end_time": "2018-08-19T01:44:15.498807Z",
     "start_time": "2018-08-19T01:44:15.475811Z"
    }
   },
   "outputs": [],
   "source": [
    "db = pymongo.MongoClient().local.ratemyprofs"
   ]
  },
  {
   "cell_type": "code",
   "execution_count": null,
   "metadata": {},
   "outputs": [],
   "source": [
    "counter = 0\n",
    "\n",
    "for i in range(1,210):\n",
    "    query = \"http://www.ratemyprofessors.com/filter/professor/?department=&institution=California+State+University%2C+Northridge&page=\"+str(i)+\"&filter=teacherlastname_sort_s+asc&query=*%3A*&queryoption=TEACHER&queryBy=schoolId&sid=163\"\n",
    "\n",
    "    try:\n",
    "        page = requests.get(query)\n",
    "        jsonpage = json.loads(page.content)\n",
    "        professorlist = jsonpage['professors']\n",
    "\n",
    "    if len(professorlist)>0:\n",
    "        for prof in professorlist:\n",
    "            if db.find_one({\"tid\":int(prof['tid'])}) is None:\n",
    "                db.insert(prof)\n",
    "    print(\"page \"+str(i)+\" \"+'\\xF0\\x9F\\x98\\x8F')\n",
    "    \n",
    "    except:\n",
    "        pass\n",
    "\n",
    "time.sleep(1)\n",
    "\n",
    "http://www.ratemyprofessors.com/search.jsp?queryBy=schoolId&schoolName=University+of+Texas+at+Austin&schoolID=1255&queryoption=TEACHER"
   ]
  },
  {
   "cell_type": "code",
   "execution_count": 10,
   "metadata": {
    "ExecuteTime": {
     "end_time": "2018-08-19T02:11:46.499449Z",
     "start_time": "2018-08-19T02:11:45.847564Z"
    }
   },
   "outputs": [],
   "source": [
    "# correcting university names\n",
    "import pandas as pd\n",
    "university_rankings = pd.read_json('university_rankings.json')"
   ]
  },
  {
   "cell_type": "code",
   "execution_count": 13,
   "metadata": {
    "ExecuteTime": {
     "end_time": "2018-08-19T02:12:39.803833Z",
     "start_time": "2018-08-19T02:12:39.772541Z"
    }
   },
   "outputs": [
    {
     "data": {
      "text/plain": [
       "Index(['Boston University', 'California Institute of Technology',\n",
       "       'Carnegie Mellon University', 'Colorado School of Mines',\n",
       "       'Columbia University (Fu Foundation)', 'Cornell University',\n",
       "       'Duke University (Pratt)', 'Emory University-Georgia Tech University',\n",
       "       'Georgia Institute of Technology', 'Harvard University',\n",
       "       'Iowa State University', 'Johns Hopkins University (Whiting)',\n",
       "       'Louisiana State University--Baton Rouge',\n",
       "       'Massachusetts Institute of Technology', 'Michigan State University',\n",
       "       'North Carolina State University',\n",
       "       'Northwestern University (McCormick)', 'Ohio State University',\n",
       "       'Oregon State University',\n",
       "       'Pennsylvania State University--University Park',\n",
       "       'Princeton University', 'Purdue University--West Lafayette',\n",
       "       'Rice University (Brown)', 'Stanford University',\n",
       "       'Texas A&M University--College Station',\n",
       "       'Texas Tech University (Whitacre)',\n",
       "       'University of California--Berkeley', 'University of California--Davis',\n",
       "       'University of California--San Diego (Jacobs)',\n",
       "       'University of California--Santa Barbara',\n",
       "       'University of Colorado--Boulder', 'University of Delaware',\n",
       "       'University of Florida', 'University of Illinois--Urbana-Champaign',\n",
       "       'University of Kansas', 'University of Maryland--College Park (Clark)',\n",
       "       'University of Michigan--Ann Arbor',\n",
       "       'University of Minnesota--Twin Cities',\n",
       "       'University of Nebraska--Lincoln', 'University of Oklahoma',\n",
       "       'University of Pennsylvania',\n",
       "       'University of Southern California (Viterbi)',\n",
       "       'University of Tennessee--Knoxville (Tickle)',\n",
       "       'University of Texas--Austin (Cockrell)', 'University of Tulsa',\n",
       "       'University of Washington', 'University of Wisconsin--Madison',\n",
       "       'University of Wyoming', 'Virginia Tech', 'Yale University'],\n",
       "      dtype='object')"
      ]
     },
     "execution_count": 13,
     "metadata": {},
     "output_type": "execute_result"
    }
   ],
   "source": [
    "# correcting professor names\n",
    "university_rankings.index"
   ]
  },
  {
   "cell_type": "code",
   "execution_count": 14,
   "metadata": {
    "ExecuteTime": {
     "end_time": "2018-08-19T02:43:57.035586Z",
     "start_time": "2018-08-19T02:43:56.989881Z"
    }
   },
   "outputs": [],
   "source": [
    "# Dictionary of school ids (keys) that map to corrected school name\n",
    "sids = {124 : 'Boston University',\n",
    "        181: 'Carnegie Mellon University', \n",
    "        'NA': 'Colorado School of Mines',\n",
    "        278: 'Columbia University', \n",
    "        298: 'Cornell University',\n",
    "        1350:'Duke University', \n",
    "        340: 'Emory University',\n",
    "        361: 'Georgia Institute of Technology', \n",
    "        'NA': 'Harvard University',\n",
    "        452: 'Iowa State University', \n",
    "        464: 'Johns Hopkins University',\n",
    "        3071: 'Louisiana State University',\n",
    "        580: 'Massachusetts Institute of Technology', \n",
    "        601: 'Michigan State University',\n",
    "        685: 'North Carolina State University',\n",
    "        709:'Northwestern University', \n",
    "        724: 'The Ohio State University',\n",
    "        742:'Oregon State University',\n",
    "        758:'Pennsylvania State University',\n",
    "        780:'Princeton University', \n",
    "        783: 'Purdue University - West Lafayette',\n",
    "        799: 'Rice University', \n",
    "        953: 'Stanford University',\n",
    "       1003: 'Texas A&M University at College Station',\n",
    "       1011: 'Texas Tech University',\n",
    "       1072: 'University of California Berkeley', \n",
    "       1073:'University of California Davis',\n",
    "       1079: 'University of California San Diego',\n",
    "       1077: 'University of California Santa Barbara',\n",
    "       1087: 'University of Colorado - Boulder', \n",
    "       1094: 'University of Delaware',\n",
    "       1100: 'University of Florida', \n",
    "       1112:'University of Illinois at Urbana-Champaign',\n",
    "       1117: 'University of Kansas', \n",
    "       1270: 'University of Maryland',\n",
    "       1258: 'University of Michigan',\n",
    "       1257: 'University of Minnesota - Twin Cities',\n",
    "       1249: 'University of Nebraska - Lincoln', \n",
    "       1596: 'University of Oklahoma',\n",
    "       1275:'University of Pennsylvania',\n",
    "       1381: 'University of Southern California',\n",
    "       1385: 'University of Tennessee--Knoxville (Tickle)',\n",
    "       1255: 'University of Texas at Austin', \n",
    "       3963:'University of Tulsa',\n",
    "       1530: 'University of Washington', \n",
    "       1256: 'University of Wisconsin - Madison',\n",
    "       4282: 'University of Wyoming', \n",
    "       1349: 'Virginia Tech', \n",
    "       1222: 'Yale University'}"
   ]
  },
  {
   "cell_type": "code",
   "execution_count": 16,
   "metadata": {
    "ExecuteTime": {
     "end_time": "2018-08-19T02:44:41.953431Z",
     "start_time": "2018-08-19T02:44:41.925815Z"
    }
   },
   "outputs": [],
   "source": [
    "with open('sids.json', 'w') as f:\n",
    "    json.dump(sids, f)"
   ]
  },
  {
   "cell_type": "code",
   "execution_count": null,
   "metadata": {},
   "outputs": [],
   "source": []
  }
 ],
 "metadata": {
  "kernelspec": {
   "display_name": "Python 3",
   "language": "python",
   "name": "python3"
  },
  "language_info": {
   "codemirror_mode": {
    "name": "ipython",
    "version": 3
   },
   "file_extension": ".py",
   "mimetype": "text/x-python",
   "name": "python",
   "nbconvert_exporter": "python",
   "pygments_lexer": "ipython3",
   "version": "3.6.5"
  }
 },
 "nbformat": 4,
 "nbformat_minor": 2
}
