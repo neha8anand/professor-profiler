{
 "cells": [
  {
   "cell_type": "code",
   "execution_count": 28,
   "metadata": {
    "ExecuteTime": {
     "end_time": "2018-08-19T03:05:15.204441Z",
     "start_time": "2018-08-19T03:05:15.174955Z"
    }
   },
   "outputs": [],
   "source": [
    "import requests\n",
    "import json\n",
    "import time\n",
    "import pymongo\n",
    "from bs4 import BeautifulSoup"
   ]
  },
  {
   "cell_type": "code",
   "execution_count": 10,
   "metadata": {
    "ExecuteTime": {
     "end_time": "2018-08-19T02:11:46.499449Z",
     "start_time": "2018-08-19T02:11:45.847564Z"
    }
   },
   "outputs": [],
   "source": [
    "# correcting university names\n",
    "import pandas as pd\n",
    "university_rankings = pd.read_json('university_rankings.json')"
   ]
  },
  {
   "cell_type": "code",
   "execution_count": 13,
   "metadata": {
    "ExecuteTime": {
     "end_time": "2018-08-19T02:12:39.803833Z",
     "start_time": "2018-08-19T02:12:39.772541Z"
    }
   },
   "outputs": [
    {
     "data": {
      "text/plain": [
       "Index(['Boston University', 'California Institute of Technology',\n",
       "       'Carnegie Mellon University', 'Colorado School of Mines',\n",
       "       'Columbia University (Fu Foundation)', 'Cornell University',\n",
       "       'Duke University (Pratt)', 'Emory University-Georgia Tech University',\n",
       "       'Georgia Institute of Technology', 'Harvard University',\n",
       "       'Iowa State University', 'Johns Hopkins University (Whiting)',\n",
       "       'Louisiana State University--Baton Rouge',\n",
       "       'Massachusetts Institute of Technology', 'Michigan State University',\n",
       "       'North Carolina State University',\n",
       "       'Northwestern University (McCormick)', 'Ohio State University',\n",
       "       'Oregon State University',\n",
       "       'Pennsylvania State University--University Park',\n",
       "       'Princeton University', 'Purdue University--West Lafayette',\n",
       "       'Rice University (Brown)', 'Stanford University',\n",
       "       'Texas A&M University--College Station',\n",
       "       'Texas Tech University (Whitacre)',\n",
       "       'University of California--Berkeley', 'University of California--Davis',\n",
       "       'University of California--San Diego (Jacobs)',\n",
       "       'University of California--Santa Barbara',\n",
       "       'University of Colorado--Boulder', 'University of Delaware',\n",
       "       'University of Florida', 'University of Illinois--Urbana-Champaign',\n",
       "       'University of Kansas', 'University of Maryland--College Park (Clark)',\n",
       "       'University of Michigan--Ann Arbor',\n",
       "       'University of Minnesota--Twin Cities',\n",
       "       'University of Nebraska--Lincoln', 'University of Oklahoma',\n",
       "       'University of Pennsylvania',\n",
       "       'University of Southern California (Viterbi)',\n",
       "       'University of Tennessee--Knoxville (Tickle)',\n",
       "       'University of Texas--Austin (Cockrell)', 'University of Tulsa',\n",
       "       'University of Washington', 'University of Wisconsin--Madison',\n",
       "       'University of Wyoming', 'Virginia Tech', 'Yale University'],\n",
       "      dtype='object')"
      ]
     },
     "execution_count": 13,
     "metadata": {},
     "output_type": "execute_result"
    }
   ],
   "source": [
    "# correcting professor names\n",
    "university_rankings.index"
   ]
  },
  {
   "cell_type": "code",
   "execution_count": 14,
   "metadata": {
    "ExecuteTime": {
     "end_time": "2018-08-19T02:43:57.035586Z",
     "start_time": "2018-08-19T02:43:56.989881Z"
    }
   },
   "outputs": [],
   "source": [
    "# Dictionary of school ids (keys) that map to corrected school name\n",
    "sids = {124 : 'Boston University',\n",
    "        181: 'Carnegie Mellon University', \n",
    "        'NA': 'Colorado School of Mines',\n",
    "        278: 'Columbia University', \n",
    "        298: 'Cornell University',\n",
    "        1350:'Duke University', \n",
    "        340: 'Emory University',\n",
    "        361: 'Georgia Institute of Technology', \n",
    "        'NA': 'Harvard University',\n",
    "        452: 'Iowa State University', \n",
    "        464: 'Johns Hopkins University',\n",
    "        3071: 'Louisiana State University',\n",
    "        580: 'Massachusetts Institute of Technology', \n",
    "        601: 'Michigan State University',\n",
    "        685: 'North Carolina State University',\n",
    "        709:'Northwestern University', \n",
    "        724: 'The Ohio State University',\n",
    "        742:'Oregon State University',\n",
    "        758:'Pennsylvania State University',\n",
    "        780:'Princeton University', \n",
    "        783: 'Purdue University - West Lafayette',\n",
    "        799: 'Rice University', \n",
    "        953: 'Stanford University',\n",
    "       1003: 'Texas A&M University at College Station',\n",
    "       1011: 'Texas Tech University',\n",
    "       1072: 'University of California Berkeley', \n",
    "       1073:'University of California Davis',\n",
    "       1079: 'University of California San Diego',\n",
    "       1077: 'University of California Santa Barbara',\n",
    "       1087: 'University of Colorado - Boulder', \n",
    "       1094: 'University of Delaware',\n",
    "       1100: 'University of Florida', \n",
    "       1112:'University of Illinois at Urbana-Champaign',\n",
    "       1117: 'University of Kansas', \n",
    "       1270: 'University of Maryland',\n",
    "       1258: 'University of Michigan',\n",
    "       1257: 'University of Minnesota - Twin Cities',\n",
    "       1249: 'University of Nebraska - Lincoln', \n",
    "       1596: 'University of Oklahoma',\n",
    "       1275:'University of Pennsylvania',\n",
    "       1381: 'University of Southern California',\n",
    "       1385: 'University of Tennessee - Knoxville',\n",
    "       1255: 'University of Texas at Austin', \n",
    "       3963:'University of Tulsa',\n",
    "       1530: 'University of Washington', \n",
    "       1256: 'University of Wisconsin - Madison',\n",
    "       4282: 'University of Wyoming', \n",
    "       1349: 'Virginia Tech', \n",
    "       1222: 'Yale University'}"
   ]
  },
  {
   "cell_type": "code",
   "execution_count": 63,
   "metadata": {
    "ExecuteTime": {
     "end_time": "2018-08-19T03:39:19.162126Z",
     "start_time": "2018-08-19T03:39:19.133162Z"
    }
   },
   "outputs": [
    {
     "name": "stdout",
     "output_type": "stream",
     "text": [
      "1255 University of Texas at Austin Larry Lake\n"
     ]
    }
   ],
   "source": [
    "with open('sids.json', 'r') as f:\n",
    "    sids = json.load(f)\n",
    "\n",
    "with open('utpge.json', 'r') as f:\n",
    "    ut = json.load(f)\n",
    "\n",
    "sid = '1255'\n",
    "school = sids[sid]\n",
    "faculty = ut['faculty_names'][12]\n",
    "print(sid, school, faculty)"
   ]
  },
  {
   "cell_type": "code",
   "execution_count": 133,
   "metadata": {
    "ExecuteTime": {
     "end_time": "2018-08-19T04:23:13.411718Z",
     "start_time": "2018-08-19T04:23:13.384200Z"
    }
   },
   "outputs": [],
   "source": [
    "faculty = 'Hugh Daigle'"
   ]
  },
  {
   "cell_type": "code",
   "execution_count": 134,
   "metadata": {
    "ExecuteTime": {
     "end_time": "2018-08-19T04:23:20.343007Z",
     "start_time": "2018-08-19T04:23:20.215554Z"
    }
   },
   "outputs": [],
   "source": [
    "url = f\"http://www.ratemyprofessors.com/search.jsp?queryoption=HEADER&queryBy=teacherName&schoolName={school}&schoolID={sid}&query={faculty}\"\n",
    "response = requests.get(url, headers=headers)\n",
    "soup = BeautifulSoup(response.content, 'html.parser')\n",
    "rating_url = \"http://www.ratemyprofessors.com\" + soup.select(\"li.listing.PROFESSOR\")[0].find(\"a\")[\"href\"]"
   ]
  },
  {
   "cell_type": "code",
   "execution_count": 102,
   "metadata": {
    "ExecuteTime": {
     "end_time": "2018-08-19T04:00:03.944084Z",
     "start_time": "2018-08-19T04:00:03.375741Z"
    }
   },
   "outputs": [
    {
     "data": {
      "text/plain": [
       "[' ACCESSIBLE OUTSIDE CLASS (1)', ' Inspirational (1)', ' Caring (1)']"
      ]
     },
     "execution_count": 102,
     "metadata": {},
     "output_type": "execute_result"
    }
   ],
   "source": [
    "response = requests.get(rating_url, headers=headers)\n",
    "soup = BeautifulSoup(response.content, 'html.parser')\n",
    "rating = soup.select(\"div.grade\")[0].get_text()\n",
    "tags = [tag_desc.get_text() for tag_desc in soup.select(\"span.tag-box-choosetags\")]\n",
    "tags"
   ]
  },
  {
   "cell_type": "code",
   "execution_count": 128,
   "metadata": {
    "ExecuteTime": {
     "end_time": "2018-08-19T04:17:14.944808Z",
     "start_time": "2018-08-19T04:17:14.914216Z"
    }
   },
   "outputs": [],
   "source": [
    "# final code\n",
    "headers = {'User-Agent': 'Mozilla/5.0 (Macintosh; Intel Mac OS X 10_13_6) AppleWebKit/537.36 (KHTML, like Gecko) Chrome/68.0.3440.106 Safari/537.36'}\n",
    "\n",
    "def rating_and_tags(sid, school_name, faculty_name):\n",
    "    '''Gives rating and tags for a professor pulled from ratemyprofessors.com\n",
    "       given sid (school's id as per ratemyprofessors.com), school_name and faculty_name\n",
    "    '''\n",
    "        \n",
    "     # Getting rating url by searching school and faculty name\n",
    "    url = f\"http://www.ratemyprofessors.com/search.jsp?queryoption=HEADER&queryBy=teacherName&schoolName={school_name}&schoolID={sid}&query={faculty_name}\"\n",
    "    response = requests.get(url, headers=headers)\n",
    "    soup = BeautifulSoup(response.content, 'html.parser')\n",
    "    \n",
    "    try:\n",
    "        rating_url = \"http://www.ratemyprofessors.com\" + soup.select(\"li.listing.PROFESSOR\")[0].find(\"a\")[\"href\"]\n",
    "\n",
    "        # Getting rating and profile tags for the rating url\n",
    "        response2 = requests.get(rating_url, headers=headers)\n",
    "        soup2 = BeautifulSoup(response2.content, 'html.parser')\n",
    "        rating = soup2.select(\"div.grade\")[0].get_text()\n",
    "        tags = [tag_desc.get_text() for tag_desc in soup2.select(\"span.tag-box-choosetags\")]\n",
    "        \n",
    "    except:\n",
    "        rating, tags = 'N/A', 'N/A'\n",
    "\n",
    "    return {faculty_name: {'rating': rating, 'tags': tags}}"
   ]
  },
  {
   "cell_type": "code",
   "execution_count": 129,
   "metadata": {
    "ExecuteTime": {
     "end_time": "2018-08-19T04:17:15.599175Z",
     "start_time": "2018-08-19T04:17:15.481968Z"
    }
   },
   "outputs": [
    {
     "data": {
      "text/plain": [
       "{'Matthew Balhoff': {'rating': 'N/A', 'tags': 'N/A'}}"
      ]
     },
     "execution_count": 129,
     "metadata": {},
     "output_type": "execute_result"
    }
   ],
   "source": [
    "rating_and_tags(sid, school, 'Matthew Balhoff')"
   ]
  },
  {
   "cell_type": "code",
   "execution_count": 132,
   "metadata": {
    "ExecuteTime": {
     "end_time": "2018-08-19T04:19:53.578307Z",
     "start_time": "2018-08-19T04:19:50.087823Z"
    }
   },
   "outputs": [
    {
     "data": {
      "text/plain": [
       "{'Matthew Balhoff': {'Matthew Balhoff': {'rating': 'N/A', 'tags': 'N/A'}},\n",
       " 'J.Eric Bickel': {'J.Eric Bickel': {'rating': 'N/A', 'tags': 'N/A'}},\n",
       " 'Paul Bommer': {'Paul Bommer': {'rating': 'N/A', 'tags': 'N/A'}},\n",
       " 'Hugh Daigle': {'Hugh Daigle': {'rating': '\\n\\n10\\nGrade Received (Optional)\\n\\n\\n\\nSelect\\nA+\\nA\\nA-\\nB+\\nB\\nB-\\nC+\\nC\\nC-\\nD+\\nD\\nD-\\nF\\nDrop/Withdrawal\\nIncomplete\\nNot sure yet\\nRather not say\\nAudit/No Grade\\n\\n\\n',\n",
       "   'tags': []}},\n",
       " 'Mojdeh Delshad': {'Mojdeh Delshad': {'rating': 'N/A', 'tags': 'N/A'}},\n",
       " 'David DiCarlo': {'David DiCarlo': {'rating': '3.5',\n",
       "   'tags': [' Tough Grader (2)',\n",
       "    ' TEST HEAVY (1)',\n",
       "    ' LOTS OF HOMEWORK (1)',\n",
       "    ' Hilarious (1)',\n",
       "    ' Inspirational (1)']}},\n",
       " 'Nicolas Espinoza': {'Nicolas Espinoza': {'rating': 'N/A', 'tags': 'N/A'}},\n",
       " 'John Foster': {'John Foster': {'rating': 'N/A', 'tags': 'N/A'}},\n",
       " 'Kenneth Gray': {'Kenneth Gray': {'rating': 'N/A', 'tags': 'N/A'}},\n",
       " 'Zoya Heidari': {'Zoya Heidari': {'rating': 'N/A', 'tags': 'N/A'}},\n",
       " 'Deborah Hempel-Medina': {'Deborah Hempel-Medina': {'rating': '4.0',\n",
       "   'tags': [' Respected (1)',\n",
       "    ' Participation matters (1)',\n",
       "    ' Gives good feedback (1)']}},\n",
       " 'Chun Huh': {'Chun Huh': {'rating': 'N/A', 'tags': 'N/A'}},\n",
       " 'Larry Lake': {'Larry Lake': {'rating': '2.4',\n",
       "   'tags': [' ACCESSIBLE OUTSIDE CLASS (1)',\n",
       "    ' Inspirational (1)',\n",
       "    ' Caring (1)']}},\n",
       " 'Krishan Malik': {'Krishan Malik': {'rating': '2.2',\n",
       "   'tags': [' Hilarious (1)', ' Amazing lectures (1)', ' Inspirational (1)']}},\n",
       " 'Kishore Mohanty': {'Kishore Mohanty': {'rating': 'N/A', 'tags': 'N/A'}},\n",
       " 'Quoc Nguyen': {'Quoc Nguyen': {'rating': '2.8',\n",
       "   'tags': [' Tough Grader (1)']}},\n",
       " 'Ryosuke Okuno': {'Ryosuke Okuno': {'rating': 'N/A', 'tags': 'N/A'}},\n",
       " 'Hilary Olson': {'Hilary Olson': {'rating': 'N/A', 'tags': 'N/A'}},\n",
       " 'Jon Olson': {'Jon Olson': {'rating': '2.7', 'tags': [' EXTRA CREDIT (1)']}},\n",
       " 'Gary Pope': {'Gary Pope': {'rating': '\\n\\n10\\nGrade Received (Optional)\\n\\n\\n\\nSelect\\nA+\\nA\\nA-\\nB+\\nB\\nB-\\nC+\\nC\\nC-\\nD+\\nD\\nD-\\nF\\nDrop/Withdrawal\\nIncomplete\\nNot sure yet\\nRather not say\\nAudit/No Grade\\n\\n\\n',\n",
       "   'tags': []}},\n",
       " 'Masa Prodanovic': {'Masa Prodanovic': {'rating': '2.8',\n",
       "   'tags': [' Caring (1)',\n",
       "    ' LOTS OF HOMEWORK (1)',\n",
       "    ' Tough Grader (1)',\n",
       "    ' Respected (1)',\n",
       "    ' BEWARE OF POP QUIZZES (1)',\n",
       "    \" Skip class? You won't pass. (1)\"]}},\n",
       " 'Michael Pyrcz': {'Michael Pyrcz': {'rating': '\\n\\n10\\nGrade Received (Optional)\\n\\n\\n\\nSelect\\nA+\\nA\\nA-\\nB+\\nB\\nB-\\nC+\\nC\\nC-\\nD+\\nD\\nD-\\nF\\nDrop/Withdrawal\\nIncomplete\\nNot sure yet\\nRather not say\\nAudit/No Grade\\n\\n\\n',\n",
       "   'tags': []}},\n",
       " 'Kamy Sepehrnoori': {'Kamy Sepehrnoori': {'rating': '3.8',\n",
       "   'tags': [' Clear grading criteria (1)', ' Gives good feedback (1)']}},\n",
       " 'Mukul Sharma': {'Mukul Sharma': {'rating': 'N/A', 'tags': 'N/A'}},\n",
       " 'Carlos Torres-Verdin': {'Carlos Torres-Verdin': {'rating': '3.1',\n",
       "   'tags': [' Amazing lectures (3)',\n",
       "    ' BEWARE OF POP QUIZZES (2)',\n",
       "    ' Inspirational (2)',\n",
       "    ' Tough Grader (2)',\n",
       "    ' Caring (1)',\n",
       "    ' Hilarious (1)']}},\n",
       " 'Eric van Oort': {'Eric van Oort': {'rating': 'N/A', 'tags': 'N/A'}},\n",
       " 'Mary Wheeler': {'Mary Wheeler': {'rating': 'N/A', 'tags': 'N/A'}}}"
      ]
     },
     "execution_count": 132,
     "metadata": {},
     "output_type": "execute_result"
    }
   ],
   "source": [
    "results = {}\n",
    "for faculty in ut['faculty_names']:\n",
    "    results[faculty] = rating_and_tags(sid, school, faculty)\n",
    "    \n",
    "results "
   ]
  },
  {
   "cell_type": "code",
   "execution_count": null,
   "metadata": {},
   "outputs": [],
   "source": []
  }
 ],
 "metadata": {
  "kernelspec": {
   "display_name": "Python 3",
   "language": "python",
   "name": "python3"
  },
  "language_info": {
   "codemirror_mode": {
    "name": "ipython",
    "version": 3
   },
   "file_extension": ".py",
   "mimetype": "text/x-python",
   "name": "python",
   "nbconvert_exporter": "python",
   "pygments_lexer": "ipython3",
   "version": "3.6.5"
  }
 },
 "nbformat": 4,
 "nbformat_minor": 2
}
