{
 "cells": [
  {
   "cell_type": "code",
   "execution_count": 28,
   "metadata": {
    "ExecuteTime": {
     "end_time": "2018-08-19T03:05:15.204441Z",
     "start_time": "2018-08-19T03:05:15.174955Z"
    }
   },
   "outputs": [],
   "source": [
    "import requests\n",
    "import json\n",
    "import time\n",
    "import pymongo\n",
    "from bs4 import BeautifulSoup"
   ]
  },
  {
   "cell_type": "code",
   "execution_count": 10,
   "metadata": {
    "ExecuteTime": {
     "end_time": "2018-08-19T02:11:46.499449Z",
     "start_time": "2018-08-19T02:11:45.847564Z"
    }
   },
   "outputs": [],
   "source": [
    "# correcting university names\n",
    "import pandas as pd\n",
    "university_rankings = pd.read_json('university_rankings.json')"
   ]
  },
  {
   "cell_type": "code",
   "execution_count": 13,
   "metadata": {
    "ExecuteTime": {
     "end_time": "2018-08-19T02:12:39.803833Z",
     "start_time": "2018-08-19T02:12:39.772541Z"
    }
   },
   "outputs": [
    {
     "data": {
      "text/plain": [
       "Index(['Boston University', 'California Institute of Technology',\n",
       "       'Carnegie Mellon University', 'Colorado School of Mines',\n",
       "       'Columbia University (Fu Foundation)', 'Cornell University',\n",
       "       'Duke University (Pratt)', 'Emory University-Georgia Tech University',\n",
       "       'Georgia Institute of Technology', 'Harvard University',\n",
       "       'Iowa State University', 'Johns Hopkins University (Whiting)',\n",
       "       'Louisiana State University--Baton Rouge',\n",
       "       'Massachusetts Institute of Technology', 'Michigan State University',\n",
       "       'North Carolina State University',\n",
       "       'Northwestern University (McCormick)', 'Ohio State University',\n",
       "       'Oregon State University',\n",
       "       'Pennsylvania State University--University Park',\n",
       "       'Princeton University', 'Purdue University--West Lafayette',\n",
       "       'Rice University (Brown)', 'Stanford University',\n",
       "       'Texas A&M University--College Station',\n",
       "       'Texas Tech University (Whitacre)',\n",
       "       'University of California--Berkeley', 'University of California--Davis',\n",
       "       'University of California--San Diego (Jacobs)',\n",
       "       'University of California--Santa Barbara',\n",
       "       'University of Colorado--Boulder', 'University of Delaware',\n",
       "       'University of Florida', 'University of Illinois--Urbana-Champaign',\n",
       "       'University of Kansas', 'University of Maryland--College Park (Clark)',\n",
       "       'University of Michigan--Ann Arbor',\n",
       "       'University of Minnesota--Twin Cities',\n",
       "       'University of Nebraska--Lincoln', 'University of Oklahoma',\n",
       "       'University of Pennsylvania',\n",
       "       'University of Southern California (Viterbi)',\n",
       "       'University of Tennessee--Knoxville (Tickle)',\n",
       "       'University of Texas--Austin (Cockrell)', 'University of Tulsa',\n",
       "       'University of Washington', 'University of Wisconsin--Madison',\n",
       "       'University of Wyoming', 'Virginia Tech', 'Yale University'],\n",
       "      dtype='object')"
      ]
     },
     "execution_count": 13,
     "metadata": {},
     "output_type": "execute_result"
    }
   ],
   "source": [
    "# correcting professor names\n",
    "university_rankings.index"
   ]
  },
  {
   "cell_type": "code",
   "execution_count": 14,
   "metadata": {
    "ExecuteTime": {
     "end_time": "2018-08-19T02:43:57.035586Z",
     "start_time": "2018-08-19T02:43:56.989881Z"
    }
   },
   "outputs": [],
   "source": [
    "# Dictionary of school ids (keys) that map to corrected school name\n",
    "sids = {124 : 'Boston University',\n",
    "        181: 'Carnegie Mellon University', \n",
    "        'NA': 'Colorado School of Mines',\n",
    "        278: 'Columbia University', \n",
    "        298: 'Cornell University',\n",
    "        1350:'Duke University', \n",
    "        340: 'Emory University',\n",
    "        361: 'Georgia Institute of Technology', \n",
    "        'NA': 'Harvard University',\n",
    "        452: 'Iowa State University', \n",
    "        464: 'Johns Hopkins University',\n",
    "        3071: 'Louisiana State University',\n",
    "        580: 'Massachusetts Institute of Technology', \n",
    "        601: 'Michigan State University',\n",
    "        685: 'North Carolina State University',\n",
    "        709:'Northwestern University', \n",
    "        724: 'The Ohio State University',\n",
    "        742:'Oregon State University',\n",
    "        758:'Pennsylvania State University',\n",
    "        780:'Princeton University', \n",
    "        783: 'Purdue University - West Lafayette',\n",
    "        799: 'Rice University', \n",
    "        953: 'Stanford University',\n",
    "       1003: 'Texas A&M University at College Station',\n",
    "       1011: 'Texas Tech University',\n",
    "       1072: 'University of California Berkeley', \n",
    "       1073:'University of California Davis',\n",
    "       1079: 'University of California San Diego',\n",
    "       1077: 'University of California Santa Barbara',\n",
    "       1087: 'University of Colorado - Boulder', \n",
    "       1094: 'University of Delaware',\n",
    "       1100: 'University of Florida', \n",
    "       1112:'University of Illinois at Urbana-Champaign',\n",
    "       1117: 'University of Kansas', \n",
    "       1270: 'University of Maryland',\n",
    "       1258: 'University of Michigan',\n",
    "       1257: 'University of Minnesota - Twin Cities',\n",
    "       1249: 'University of Nebraska - Lincoln', \n",
    "       1596: 'University of Oklahoma',\n",
    "       1275:'University of Pennsylvania',\n",
    "       1381: 'University of Southern California',\n",
    "       1385: 'University of Tennessee - Knoxville',\n",
    "       1255: 'University of Texas at Austin', \n",
    "       3963:'University of Tulsa',\n",
    "       1530: 'University of Washington', \n",
    "       1256: 'University of Wisconsin - Madison',\n",
    "       4282: 'University of Wyoming', \n",
    "       1349: 'Virginia Tech', \n",
    "       1222: 'Yale University'}"
   ]
  },
  {
   "cell_type": "code",
   "execution_count": 149,
   "metadata": {
    "ExecuteTime": {
     "end_time": "2018-08-19T05:28:46.469270Z",
     "start_time": "2018-08-19T05:28:46.438794Z"
    }
   },
   "outputs": [],
   "source": [
    "with open('sids.json', 'r') as f:\n",
    "    sids = json.load(f)\n",
    "\n",
    "with open('utpge.json', 'r') as f:\n",
    "    ut = json.load(f)\n",
    "\n",
    "with open('university_rankings.json', 'r') as f:\n",
    "    university_rankings = json.load(f)"
   ]
  },
  {
   "cell_type": "code",
   "execution_count": 144,
   "metadata": {
    "ExecuteTime": {
     "end_time": "2018-08-19T05:25:27.425053Z",
     "start_time": "2018-08-19T05:25:27.395105Z"
    }
   },
   "outputs": [],
   "source": [
    "# final code\n",
    "headers = {'User-Agent': 'Mozilla/5.0 (Macintosh; Intel Mac OS X 10_13_6) AppleWebKit/537.36 (KHTML, like Gecko) Chrome/68.0.3440.106 Safari/537.36'}\n",
    "\n",
    "def rating_and_tags(sid, school_name, faculty_name):\n",
    "    '''Gives rating and tags for a professor pulled from ratemyprofessors.com\n",
    "       given sid (school's id as per ratemyprofessors.com), school_name and faculty_name\n",
    "    '''\n",
    "        \n",
    "     # Getting rating url by searching school and faculty name\n",
    "    url = f\"http://www.ratemyprofessors.com/search.jsp?queryoption=HEADER&queryBy=teacherName&schoolName={school_name}&schoolID={sid}&query={faculty_name}\"\n",
    "    response = requests.get(url, headers=headers)\n",
    "    soup = BeautifulSoup(response.content, 'html.parser')\n",
    "    \n",
    "    try:\n",
    "        rating_url = \"http://www.ratemyprofessors.com\" + soup.select(\"li.listing.PROFESSOR\")[0].find(\"a\")[\"href\"]\n",
    "\n",
    "        # Getting rating and profile tags for the rating url\n",
    "        response2 = requests.get(rating_url, headers=headers)\n",
    "        soup2 = BeautifulSoup(response2.content, 'html.parser')\n",
    "        rating = float(soup2.select(\"div.grade\")[0].get_text())\n",
    "        tags = [tag_desc.get_text() for tag_desc in soup2.select(\"span.tag-box-choosetags\")]\n",
    "        \n",
    "    except:\n",
    "        rating, tags = 'N/A', 'N/A'\n",
    "\n",
    "    return {'rating': rating, 'tags': tags}"
   ]
  },
  {
   "cell_type": "code",
   "execution_count": 151,
   "metadata": {
    "ExecuteTime": {
     "end_time": "2018-08-19T05:30:18.545909Z",
     "start_time": "2018-08-19T05:30:18.515913Z"
    }
   },
   "outputs": [
    {
     "data": {
      "text/plain": [
       "{'University of Texas--Austin (Cockrell)': {'location': 'Austin, TX',\n",
       "  'score': 4.7,\n",
       "  'rank': 1},\n",
       " 'Stanford University': {'location': 'Stanford, CA', 'score': 4.3, 'rank': 2},\n",
       " 'Texas A&M University--College Station': {'location': 'College Station, TX',\n",
       "  'score': 4.3,\n",
       "  'rank': 2},\n",
       " 'University of Tulsa': {'location': 'Tulsa, OK', 'score': 3.9, 'rank': 4},\n",
       " 'Colorado School of Mines': {'location': 'Golden, CO',\n",
       "  'score': 3.8,\n",
       "  'rank': 5},\n",
       " 'Pennsylvania State University--University Park': {'location': 'University Park, PA',\n",
       "  'score': 3.5,\n",
       "  'rank': 6},\n",
       " 'University of Oklahoma': {'location': 'Norman, OK', 'score': 3.4, 'rank': 7},\n",
       " 'University of Southern California (Viterbi)': {'location': 'Los Angeles, CA',\n",
       "  'score': 3.1,\n",
       "  'rank': 8},\n",
       " 'Louisiana State University--Baton Rouge': {'location': 'Baton Rouge, LA',\n",
       "  'score': 2.5,\n",
       "  'rank': 9},\n",
       " 'Texas Tech University (Whitacre)': {'location': 'Lubbock, TX',\n",
       "  'score': 2.5,\n",
       "  'rank': 9},\n",
       " 'University of Kansas': {'location': 'Lawrence, KS',\n",
       "  'score': 2.3,\n",
       "  'rank': 11},\n",
       " 'University of Wyoming': {'location': 'Laramie, WY',\n",
       "  'score': 2.3,\n",
       "  'rank': 11}}"
      ]
     },
     "execution_count": 151,
     "metadata": {},
     "output_type": "execute_result"
    }
   ],
   "source": [
    "university_rankings['petroleum-engineering']"
   ]
  },
  {
   "cell_type": "code",
   "execution_count": 154,
   "metadata": {
    "ExecuteTime": {
     "end_time": "2018-08-19T05:34:51.845852Z",
     "start_time": "2018-08-19T05:34:46.859289Z"
    }
   },
   "outputs": [
    {
     "data": {
      "text/plain": [
       "{'University of Texas--Austin (Cockrell)': {'location': 'Austin, TX',\n",
       "  'score': 4.7,\n",
       "  'rank': 1,\n",
       "  'rating': 'N/A',\n",
       "  'tags': 'N/A',\n",
       "  'Matthew Balhoff': {'rating': 'N/A', 'tags': 'N/A'},\n",
       "  'J.Eric Bickel': {'rating': 'N/A', 'tags': 'N/A'},\n",
       "  'Paul Bommer': {'rating': 'N/A', 'tags': 'N/A'},\n",
       "  'Hugh Daigle': {'rating': 'N/A', 'tags': 'N/A'},\n",
       "  'Mojdeh Delshad': {'rating': 'N/A', 'tags': 'N/A'},\n",
       "  'David DiCarlo': {'rating': 3.5,\n",
       "   'tags': [' Tough Grader (2)',\n",
       "    ' TEST HEAVY (1)',\n",
       "    ' LOTS OF HOMEWORK (1)',\n",
       "    ' Hilarious (1)',\n",
       "    ' Inspirational (1)']},\n",
       "  'Nicolas Espinoza': {'rating': 'N/A', 'tags': 'N/A'},\n",
       "  'John Foster': {'rating': 'N/A', 'tags': 'N/A'},\n",
       "  'Kenneth Gray': {'rating': 'N/A', 'tags': 'N/A'},\n",
       "  'Zoya Heidari': {'rating': 'N/A', 'tags': 'N/A'},\n",
       "  'Deborah Hempel-Medina': {'rating': 4.0,\n",
       "   'tags': [' Respected (1)',\n",
       "    ' Participation matters (1)',\n",
       "    ' Gives good feedback (1)']},\n",
       "  'Chun Huh': {'rating': 'N/A', 'tags': 'N/A'},\n",
       "  'Larry Lake': {'rating': 2.4,\n",
       "   'tags': [' ACCESSIBLE OUTSIDE CLASS (1)',\n",
       "    ' Inspirational (1)',\n",
       "    ' Caring (1)']},\n",
       "  'Krishan Malik': {'rating': 2.2,\n",
       "   'tags': [' Hilarious (1)', ' Amazing lectures (1)', ' Inspirational (1)']},\n",
       "  'Kishore Mohanty': {'rating': 'N/A', 'tags': 'N/A'},\n",
       "  'Quoc Nguyen': {'rating': 2.8, 'tags': [' Tough Grader (1)']},\n",
       "  'Ryosuke Okuno': {'rating': 'N/A', 'tags': 'N/A'},\n",
       "  'Hilary Olson': {'rating': 'N/A', 'tags': 'N/A'},\n",
       "  'Jon Olson': {'rating': 2.7, 'tags': [' EXTRA CREDIT (1)']},\n",
       "  'Gary Pope': {'rating': 'N/A', 'tags': 'N/A'},\n",
       "  'Masa Prodanovic': {'rating': 2.8,\n",
       "   'tags': [' Caring (1)',\n",
       "    ' LOTS OF HOMEWORK (1)',\n",
       "    ' Tough Grader (1)',\n",
       "    ' Respected (1)',\n",
       "    ' BEWARE OF POP QUIZZES (1)',\n",
       "    \" Skip class? You won't pass. (1)\"]},\n",
       "  'Michael Pyrcz': {'rating': 'N/A', 'tags': 'N/A'},\n",
       "  'Kamy Sepehrnoori': {'rating': 3.8,\n",
       "   'tags': [' Clear grading criteria (1)', ' Gives good feedback (1)']},\n",
       "  'Mukul Sharma': {'rating': 'N/A', 'tags': 'N/A'},\n",
       "  'Carlos Torres-Verdin': {'rating': 3.1,\n",
       "   'tags': [' Amazing lectures (3)',\n",
       "    ' BEWARE OF POP QUIZZES (2)',\n",
       "    ' Inspirational (2)',\n",
       "    ' Tough Grader (2)',\n",
       "    ' Caring (1)',\n",
       "    ' Hilarious (1)']},\n",
       "  'Eric van Oort': {'rating': 'N/A', 'tags': 'N/A'},\n",
       "  'Mary Wheeler': {'rating': 'N/A', 'tags': 'N/A'}},\n",
       " 'Stanford University': {'location': 'Stanford, CA', 'score': 4.3, 'rank': 2},\n",
       " 'Texas A&M University--College Station': {'location': 'College Station, TX',\n",
       "  'score': 4.3,\n",
       "  'rank': 2},\n",
       " 'University of Tulsa': {'location': 'Tulsa, OK', 'score': 3.9, 'rank': 4},\n",
       " 'Colorado School of Mines': {'location': 'Golden, CO',\n",
       "  'score': 3.8,\n",
       "  'rank': 5},\n",
       " 'Pennsylvania State University--University Park': {'location': 'University Park, PA',\n",
       "  'score': 3.5,\n",
       "  'rank': 6},\n",
       " 'University of Oklahoma': {'location': 'Norman, OK', 'score': 3.4, 'rank': 7},\n",
       " 'University of Southern California (Viterbi)': {'location': 'Los Angeles, CA',\n",
       "  'score': 3.1,\n",
       "  'rank': 8},\n",
       " 'Louisiana State University--Baton Rouge': {'location': 'Baton Rouge, LA',\n",
       "  'score': 2.5,\n",
       "  'rank': 9},\n",
       " 'Texas Tech University (Whitacre)': {'location': 'Lubbock, TX',\n",
       "  'score': 2.5,\n",
       "  'rank': 9},\n",
       " 'University of Kansas': {'location': 'Lawrence, KS',\n",
       "  'score': 2.3,\n",
       "  'rank': 11},\n",
       " 'University of Wyoming': {'location': 'Laramie, WY',\n",
       "  'score': 2.3,\n",
       "  'rank': 11}}"
      ]
     },
     "execution_count": 154,
     "metadata": {},
     "output_type": "execute_result"
    }
   ],
   "source": [
    "for faculty in ut['faculty_names']:\n",
    "    university_rankings['petroleum-engineering']['University of Texas--Austin (Cockrell)'] [faculty] = rating_and_tags(sid, school, faculty)\n",
    "\n",
    "university_rankings['petroleum-engineering']"
   ]
  },
  {
   "cell_type": "code",
   "execution_count": null,
   "metadata": {},
   "outputs": [],
   "source": []
  }
 ],
 "metadata": {
  "kernelspec": {
   "display_name": "Python 3",
   "language": "python",
   "name": "python3"
  },
  "language_info": {
   "codemirror_mode": {
    "name": "ipython",
    "version": 3
   },
   "file_extension": ".py",
   "mimetype": "text/x-python",
   "name": "python",
   "nbconvert_exporter": "python",
   "pygments_lexer": "ipython3",
   "version": "3.6.5"
  }
 },
 "nbformat": 4,
 "nbformat_minor": 2
}
