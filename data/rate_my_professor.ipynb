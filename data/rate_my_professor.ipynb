{
 "cells": [
  {
   "cell_type": "code",
   "execution_count": 3,
   "metadata": {
    "ExecuteTime": {
     "end_time": "2018-08-20T03:50:09.491313Z",
     "start_time": "2018-08-20T03:50:09.418192Z"
    }
   },
   "outputs": [],
   "source": [
    "import requests\n",
    "import json\n",
    "import time\n",
    "import pymongo\n",
    "from bs4 import BeautifulSoup"
   ]
  },
  {
   "cell_type": "code",
   "execution_count": 10,
   "metadata": {
    "ExecuteTime": {
     "end_time": "2018-08-19T02:11:46.499449Z",
     "start_time": "2018-08-19T02:11:45.847564Z"
    }
   },
   "outputs": [],
   "source": [
    "# correcting university names\n",
    "import pandas as pd\n",
    "university_rankings = pd.read_json('university_rankings.json')"
   ]
  },
  {
   "cell_type": "code",
   "execution_count": 13,
   "metadata": {
    "ExecuteTime": {
     "end_time": "2018-08-19T02:12:39.803833Z",
     "start_time": "2018-08-19T02:12:39.772541Z"
    },
    "scrolled": false
   },
   "outputs": [
    {
     "data": {
      "text/plain": [
       "Index(['Boston University', 'California Institute of Technology',\n",
       "       'Carnegie Mellon University', 'Colorado School of Mines',\n",
       "       'Columbia University (Fu Foundation)', 'Cornell University',\n",
       "       'Duke University (Pratt)', 'Emory University-Georgia Tech University',\n",
       "       'Georgia Institute of Technology', 'Harvard University',\n",
       "       'Iowa State University', 'Johns Hopkins University (Whiting)',\n",
       "       'Louisiana State University--Baton Rouge',\n",
       "       'Massachusetts Institute of Technology', 'Michigan State University',\n",
       "       'North Carolina State University',\n",
       "       'Northwestern University (McCormick)', 'Ohio State University',\n",
       "       'Oregon State University',\n",
       "       'Pennsylvania State University--University Park',\n",
       "       'Princeton University', 'Purdue University--West Lafayette',\n",
       "       'Rice University (Brown)', 'Stanford University',\n",
       "       'Texas A&M University--College Station',\n",
       "       'Texas Tech University (Whitacre)',\n",
       "       'University of California--Berkeley', 'University of California--Davis',\n",
       "       'University of California--San Diego (Jacobs)',\n",
       "       'University of California--Santa Barbara',\n",
       "       'University of Colorado--Boulder', 'University of Delaware',\n",
       "       'University of Florida', 'University of Illinois--Urbana-Champaign',\n",
       "       'University of Kansas', 'University of Maryland--College Park (Clark)',\n",
       "       'University of Michigan--Ann Arbor',\n",
       "       'University of Minnesota--Twin Cities',\n",
       "       'University of Nebraska--Lincoln', 'University of Oklahoma',\n",
       "       'University of Pennsylvania',\n",
       "       'University of Southern California (Viterbi)',\n",
       "       'University of Tennessee--Knoxville (Tickle)',\n",
       "       'University of Texas--Austin (Cockrell)', 'University of Tulsa',\n",
       "       'University of Washington', 'University of Wisconsin--Madison',\n",
       "       'University of Wyoming', 'Virginia Tech', 'Yale University'],\n",
       "      dtype='object')"
      ]
     },
     "execution_count": 13,
     "metadata": {},
     "output_type": "execute_result"
    }
   ],
   "source": [
    "# correcting professor names\n",
    "university_rankings.index"
   ]
  },
  {
   "cell_type": "code",
   "execution_count": 15,
   "metadata": {
    "ExecuteTime": {
     "end_time": "2018-08-20T04:24:58.989724Z",
     "start_time": "2018-08-20T04:24:58.930427Z"
    }
   },
   "outputs": [],
   "source": [
    "# Dictionary of school ids (keys) that map to corrected school name\n",
    "sids = {124 : ('Boston University', 'Boston University'),\n",
    "        181:  ('Carnegie Mellon University', 'Carnegie Mellon University'), \n",
    "        'NA': ('Colorado School of Mines', 'Colorado School of Mines'),\n",
    "        278:  ('Columbia University (Fu Foundation)', 'Columbia University'), \n",
    "        298:  ('Cornell University', 'Cornell University'),\n",
    "        1350: ('Duke University (Pratt)', 'Duke University'), \n",
    "        340:  ('Emory University-Georgia Tech University', 'Emory University'),\n",
    "        361:  ('Georgia Institute of Technology', 'Georgia Institute of Technology'), \n",
    "        'NA': ('Harvard University', 'Harvard University'),\n",
    "        452:  ('Iowa State University', 'Iowa State University'), \n",
    "        464:  ('Johns Hopkins University (Whiting)','Johns Hopkins University' ),\n",
    "        3071: ('Louisiana State University--Baton Rouge', 'Louisiana State University'),\n",
    "        580:  ('Massachusetts Institute of Technology', 'Massachusetts Institute of Technology'), \n",
    "        601:  ('Michigan State University', 'Michigan State University'),\n",
    "        685:  ('North Carolina State University', 'North Carolina State University'),\n",
    "        709:  ('Northwestern University (McCormick)', 'Northwestern University' ), \n",
    "        724:  ('Ohio State University', 'The Ohio State University'),\n",
    "        742:  ('Oregon State University', 'Oregon State University'),\n",
    "        758:  ('Pennsylvania State University--University Park', 'Pennsylvania State University'),\n",
    "        780:  ('Princeton University', 'Princeton University'), \n",
    "        783:  ('Purdue University--West Lafayette', 'Purdue University - West Lafayette'),\n",
    "        799:  ('Rice University (Brown)', 'Rice University'), \n",
    "        953:  ('Stanford University', 'Stanford University'),\n",
    "       1003:  ('Texas A&M University--College Station', 'Texas A&M University at College Station'),\n",
    "       1011:  ('Texas Tech University (Whitacre)', 'Texas Tech University'),\n",
    "       1072:  ('University of California--Berkeley', 'University of California Berkeley'), \n",
    "       1073:  ('University of California--Davis', 'University of California Davis'),\n",
    "       1079:  ('University of California--San Diego (Jacobs)', 'University of California San Diego'),\n",
    "       1077:  ('University of California--Santa Barbara', 'University of California Santa Barbara'),\n",
    "       1087:  ('University of Colorado--Boulder', 'University of Colorado - Boulder'), \n",
    "       1094:  ('University of Delaware', 'University of Delaware'),\n",
    "       1100:  ('University of Florida', 'University of Florida'), \n",
    "       1112:  ('University of Illinois--Urbana-Champaign', 'University of Illinois at Urbana-Champaign'),\n",
    "       1117:  ('University of Kansas', 'University of Kansas'), \n",
    "       1270:  ('University of Maryland--College Park (Clark)', 'University of Maryland'),\n",
    "       1258:  ('University of Michigan--Ann Arbor', 'University of Michigan'),\n",
    "       1257:  ('University of Minnesota--Twin Cities', 'University of Minnesota - Twin Cities'),\n",
    "       1249:  ('University of Nebraska--Lincoln', 'University of Nebraska - Lincoln'), \n",
    "       1596:  ('University of Oklahoma', 'University of Oklahoma'),\n",
    "       1275:  ('University of Pennsylvania', 'University of Pennsylvania'),\n",
    "       1381:  ('University of Southern California (Viterbi)', 'University of Southern California'),\n",
    "       1385:  ('University of Tennessee--Knoxville (Tickle)', 'University of Tennessee - Knoxville'),\n",
    "       1255:  ('University of Texas--Austin (Cockrell)', 'University of Texas at Austin'), \n",
    "       3963:  ('University of Tulsa', 'University of Tulsa'),\n",
    "       1530: ('University of Washington', 'University of Washington'), \n",
    "       1256: ('University of Wisconsin--Madison', 'University of Wisconsin - Madison'),\n",
    "       4282: ('University of Wyoming', 'University of Wyoming'), \n",
    "       1349: ('Virginia Tech', 'Virginia Tech'), \n",
    "       1222: ('Yale University', 'Yale University')}"
   ]
  },
  {
   "cell_type": "code",
   "execution_count": 16,
   "metadata": {
    "ExecuteTime": {
     "end_time": "2018-08-20T04:25:33.003034Z",
     "start_time": "2018-08-20T04:25:32.981546Z"
    }
   },
   "outputs": [],
   "source": [
    "with open('sids.json', 'w') as f:\n",
    "    json.dump(sids, f)"
   ]
  },
  {
   "cell_type": "code",
   "execution_count": 10,
   "metadata": {
    "ExecuteTime": {
     "end_time": "2018-08-20T03:59:07.004740Z",
     "start_time": "2018-08-20T03:59:06.982682Z"
    }
   },
   "outputs": [
    {
     "data": {
      "text/plain": [
       "['University of Texas at Austin',\n",
       " 'Stanford University',\n",
       " 'Texas A&M University at College Station']"
      ]
     },
     "execution_count": 10,
     "metadata": {},
     "output_type": "execute_result"
    }
   ],
   "source": [
    "schools"
   ]
  },
  {
   "cell_type": "code",
   "execution_count": 26,
   "metadata": {
    "ExecuteTime": {
     "end_time": "2018-08-20T04:41:02.674194Z",
     "start_time": "2018-08-20T04:41:02.646245Z"
    }
   },
   "outputs": [],
   "source": [
    "import requests\n",
    "from bs4 import BeautifulSoup\n",
    "import json\n",
    "\n",
    "# school ids for lookup on ratemyprofessors.com\n",
    "with open('sids.json', 'r') as sids:\n",
    "    sids = json.load(sids)\n",
    "\n",
    "# school and faculty names for lookup on ratemyprofessors.com\n",
    "with open('ut_pge_profs.json', 'r') as f:\n",
    "    ut_pge_profs = json.load(f)\n",
    "\n",
    "with open('stanford_pge_profs.json', 'r') as f:\n",
    "    stanford_pge_profs = json.load(f)\n",
    "\n",
    "with open('tamu_pge_profs.json', 'r') as f:\n",
    "    tamu_pge_profs = json.load(f)\n",
    "\n",
    "# university rankings and other info pulled from usnews website\n",
    "with open('university_rankings.json', 'r') as f:\n",
    "    university_rankings = json.load(f)\n",
    "\n",
    "headers = {'User-Agent': 'Mozilla/5.0 (Macintosh; Intel Mac OS X 10_13_6) AppleWebKit/537.36 (KHTML, like Gecko) Chrome/68.0.3440.106 Safari/537.36'}\n",
    "\n",
    "def rating_and_tags(sid, school_name, faculty_name):\n",
    "    '''Gives rating and tags for a professor pulled from ratemyprofessors.com\n",
    "       given sid (school's id as per ratemyprofessors.com), school_name and faculty_name\n",
    "    '''\n",
    "\n",
    "     # Getting rating url by searching school and faculty name\n",
    "    url = f\"http://www.ratemyprofessors.com/search.jsp?queryoption=HEADER&queryBy=teacherName&schoolName={school_name}&schoolID={sid}&query={faculty_name}\"\n",
    "    response = requests.get(url, headers=headers)\n",
    "    soup = BeautifulSoup(response.content, 'html.parser')\n",
    "\n",
    "    try:\n",
    "        rating_url = \"http://www.ratemyprofessors.com\" + soup.select(\"li.listing.PROFESSOR\")[0].find(\"a\")[\"href\"]\n",
    "\n",
    "        # Getting rating and profile tags for the rating url\n",
    "        response2 = requests.get(rating_url, headers=headers)\n",
    "        soup2 = BeautifulSoup(response2.content, 'html.parser')\n",
    "        rating = float(soup2.select(\"div.grade\")[0].get_text())\n",
    "        tags = [tag_desc.get_text() for tag_desc in soup2.select(\"span.tag-box-choosetags\")]\n",
    "\n",
    "    except:\n",
    "        rating, tags = 'N/A', 'N/A'\n",
    "\n",
    "    return {'rating': rating, 'tags': tags}"
   ]
  },
  {
   "cell_type": "code",
   "execution_count": 27,
   "metadata": {
    "ExecuteTime": {
     "end_time": "2018-08-20T04:41:17.003619Z",
     "start_time": "2018-08-20T04:41:05.284673Z"
    }
   },
   "outputs": [],
   "source": [
    "# Creating complete university database\n",
    "university = university_rankings.copy()\n",
    "schools_for_lookup = ['University of Texas at Austin', 'Stanford University', 'Texas A&M University at College Station']\n",
    "sids_for_lookup = ['1255', '953', '1003']\n",
    "\n",
    "for sid, school in  zip(sids_for_lookup, schools_for_lookup):\n",
    "  \n",
    "    if school == 'University of Texas at Austin':\n",
    "        university['petroleum-engineering']['University of Texas--Austin (Cockrell)'] ['faculty_names'] = {}\n",
    "        for faculty in ut_pge_profs['faculty_names']:\n",
    "            university['petroleum-engineering']['University of Texas--Austin (Cockrell)'] ['faculty_names'][faculty] = rating_and_tags(sid, school, faculty)\n",
    "    \n",
    "    if school == 'Stanford University':\n",
    "        university['petroleum-engineering']['Stanford University'] ['faculty_names'] = {}\n",
    "        for faculty in stanford_pge_profs['faculty_names']:\n",
    "            university['petroleum-engineering']['Stanford University'] ['faculty_names'][faculty] = rating_and_tags(sid, school, faculty)\n",
    "    \n",
    "    if school == 'Texas A&M University at College Station':\n",
    "        university['petroleum-engineering']['Texas A&M University--College Station'] ['faculty_names'] = {}\n",
    "        for faculty in tamu_pge_profs['faculty_names']:\n",
    "            university['petroleum-engineering']['Texas A&M University--College Station'] ['faculty_names'][faculty] = rating_and_tags(sid, school, faculty)"
   ]
  },
  {
   "cell_type": "code",
   "execution_count": 28,
   "metadata": {
    "ExecuteTime": {
     "end_time": "2018-08-20T04:41:20.321712Z",
     "start_time": "2018-08-20T04:41:20.296028Z"
    }
   },
   "outputs": [
    {
     "data": {
      "text/plain": [
       "{'location': 'College Station, TX',\n",
       " 'score': 4.3,\n",
       " 'rank': 2,\n",
       " 'faculty_names': {'Akhil Datta-Gupta': {'rating': 5.0,\n",
       "   'tags': [' LOTS OF HOMEWORK (1)',\n",
       "    \" Skip class? You won't pass. (1)\",\n",
       "    ' Amazing lectures (1)']},\n",
       "  'A. Daniel Hill': {'rating': 4.0, 'tags': []},\n",
       "  'Nayef Alyafei': {'rating': 'N/A', 'tags': 'N/A'},\n",
       "  'Albertus Retnanto': {'rating': 'N/A', 'tags': 'N/A'},\n",
       "  'Berna Hascakir': {'rating': 'N/A', 'tags': 'N/A'},\n",
       "  'W. David Kennedy': {'rating': 'N/A', 'tags': 'N/A'},\n",
       "  'Duane McVay': {'rating': 3.0, 'tags': []},\n",
       "  'David Schechter': {'rating': 3.0,\n",
       "   'tags': [' Respected (1)', ' Tough Grader (1)', ' Get ready to read (1)']},\n",
       "  'Ding Zhu': {'rating': 'N/A', 'tags': 'N/A'},\n",
       "  'Eduardo Gildin': {'rating': 'N/A', 'tags': 'N/A'},\n",
       "  'Mohamed Fadlelmula': {'rating': 'N/A', 'tags': 'N/A'},\n",
       "  'Fred Dupriest': {'rating': 'N/A', 'tags': 'N/A'},\n",
       "  'George Moridis': {'rating': 'N/A', 'tags': 'N/A'},\n",
       "  'Dominique Guerillot': {'rating': 'N/A', 'tags': 'N/A'},\n",
       "  'Hadi Nasrabadi': {'rating': 'N/A', 'tags': 'N/A'},\n",
       "  'Hisham Nasr-El-Din': {'rating': 'N/A', 'tags': 'N/A'},\n",
       "  'I. Yucel Akkutlu': {'rating': 'N/A', 'tags': 'N/A'},\n",
       "  'John Killough': {'rating': 'N/A', 'tags': 'N/A'},\n",
       "  'John Lee': {'rating': 'N/A', 'tags': 'N/A'},\n",
       "  'Jerome Schubert': {'rating': 3.1,\n",
       "   'tags': [' Respected (1)',\n",
       "    ' Hilarious (1)',\n",
       "    ' EXTRA CREDIT (1)',\n",
       "    ' LECTURE HEAVY (1)',\n",
       "    ' Caring (1)',\n",
       "    ' LOTS OF HOMEWORK (1)',\n",
       "    ' GRADED BY FEW THINGS (1)']},\n",
       "  'Jihoon Kim': {'rating': 'N/A', 'tags': 'N/A'},\n",
       "  'Kan Wu': {'rating': 'N/A', 'tags': 'N/A'},\n",
       "  'Jenn-Tai Liang': {'rating': 'N/A', 'tags': 'N/A'},\n",
       "  'Mahmood Amani': {'rating': 'N/A', 'tags': 'N/A'},\n",
       "  'Maria A. Barrufet': {'rating': 3.2, 'tags': []},\n",
       "  'Michael King': {'rating': 'N/A', 'tags': 'N/A'},\n",
       "  'M. Sam Mannan': {'rating': 'N/A', 'tags': 'N/A'},\n",
       "  'Nimir Elbashir': {'rating': 'N/A', 'tags': 'N/A'},\n",
       "  'Nobuo Morita': {'rating': 'N/A', 'tags': 'N/A'},\n",
       "  'Priscilla McLeroy': {'rating': 'N/A', 'tags': 'N/A'},\n",
       "  'Peter Valkó': {'rating': 'N/A', 'tags': 'N/A'},\n",
       "  'Aziz Rahman': {'rating': 'N/A', 'tags': 'N/A'},\n",
       "  'A. Rashid Hasan': {'rating': 'N/A', 'tags': 'N/A'},\n",
       "  'Sara Abedi': {'rating': 4.0,\n",
       "   'tags': [' LECTURE HEAVY (2)',\n",
       "    ' Get ready to read (1)',\n",
       "    ' GRADED BY FEW THINGS (1)',\n",
       "    ' BEWARE OF POP QUIZZES (1)']},\n",
       "  'Thomas D. Seers': {'rating': 'N/A', 'tags': 'N/A'},\n",
       "  'Stephen A. Holditch': {'rating': 'N/A', 'tags': 'N/A'},\n",
       "  'Sam Noynaert': {'rating': 5.0, 'tags': []},\n",
       "  'Jeff Spath': {'rating': 'N/A', 'tags': 'N/A'},\n",
       "  'Yuefeng Sun': {'rating': 'N/A', 'tags': 'N/A'},\n",
       "  'Thomas A. Blasingame': {'rating': 'N/A', 'tags': 'N/A'},\n",
       "  'Ruud Weijermars': {'rating': 'N/A', 'tags': 'N/A'},\n",
       "  'Yuhe Wang': {'rating': 'N/A', 'tags': 'N/A'}}}"
      ]
     },
     "execution_count": 28,
     "metadata": {},
     "output_type": "execute_result"
    }
   ],
   "source": [
    "university['petroleum-engineering']['Texas A&M University--College Station'] "
   ]
  },
  {
   "cell_type": "code",
   "execution_count": 29,
   "metadata": {
    "ExecuteTime": {
     "end_time": "2018-08-20T04:45:36.569531Z",
     "start_time": "2018-08-20T04:45:36.544981Z"
    }
   },
   "outputs": [],
   "source": [
    "\n",
    "\n",
    "# Writing results to a json file\n",
    "with open('database.json', 'w') as f:\n",
    "    json.dump(university, f)"
   ]
  },
  {
   "cell_type": "code",
   "execution_count": null,
   "metadata": {},
   "outputs": [],
   "source": []
  }
 ],
 "metadata": {
  "kernelspec": {
   "display_name": "Python 3",
   "language": "python",
   "name": "python3"
  },
  "language_info": {
   "codemirror_mode": {
    "name": "ipython",
    "version": 3
   },
   "file_extension": ".py",
   "mimetype": "text/x-python",
   "name": "python",
   "nbconvert_exporter": "python",
   "pygments_lexer": "ipython3",
   "version": "3.6.5"
  }
 },
 "nbformat": 4,
 "nbformat_minor": 2
}
